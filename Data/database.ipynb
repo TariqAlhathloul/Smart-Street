{
 "cells": [
  {
   "cell_type": "code",
   "execution_count": 168,
   "metadata": {},
   "outputs": [
    {
     "data": {
      "text/plain": [
       "True"
      ]
     },
     "execution_count": 168,
     "metadata": {},
     "output_type": "execute_result"
    }
   ],
   "source": [
    "import os\n",
    "from dotenv import load_dotenv\n",
    "load_dotenv()"
   ]
  },
  {
   "cell_type": "markdown",
   "metadata": {},
   "source": [
    "### Pinecone Documentation [DOCS](https://docs.pinecone.io/home)\n",
    "### Get started [Quickstart](https://docs.pinecone.io/guides/get-started/quickstart)"
   ]
  },
  {
   "cell_type": "markdown",
   "metadata": {},
   "source": [
    "## Establish a connection to MongoDB"
   ]
  },
  {
   "cell_type": "code",
   "execution_count": 169,
   "metadata": {},
   "outputs": [],
   "source": [
    "from pymongo import MongoClient\n",
    "\n",
    "client = MongoClient(os.getenv('CONNECTION_STRING'))\n",
    "\n",
    "db = client['DeepLearningCluster']  \n",
    "collection = db['Violations_detected']  \n"
   ]
  },
  {
   "cell_type": "markdown",
   "metadata": {},
   "source": [
    "## Retrieve all documents from Violations_detected collection"
   ]
  },
  {
   "cell_type": "code",
   "execution_count": 170,
   "metadata": {},
   "outputs": [],
   "source": [
    "documents = collection.find()\n",
    "\n",
    "inputs = [d for d in documents]\n",
    "\n",
    "data = [{'id': '0', 'text': ' '}]\n",
    "for i in range(len(inputs)):\n",
    "    text = f\"A {inputs[i]['vehicle_type']} was detected {inputs[i]['violation_type']} in {inputs[i]['street_name']} road at {inputs[i]['time']} on {inputs[i]['date']} at these coordinates: {inputs[i]['latitude']}, {inputs[i]['longitude']}\"\n",
    "    data.append({'id': str(i+1), 'text': text})\n"
   ]
  },
  {
   "cell_type": "markdown",
   "metadata": {},
   "source": [
    "## initialize a Pinecone client"
   ]
  },
  {
   "cell_type": "code",
   "execution_count": 171,
   "metadata": {},
   "outputs": [],
   "source": [
    "from pinecone import Pinecone, ServerlessSpec\n",
    "\n",
    "pc = Pinecone(api_key=os.getenv('pinecone_API_KEY'))"
   ]
  },
  {
   "cell_type": "markdown",
   "metadata": {},
   "source": [
    "## create new serverless index"
   ]
  },
  {
   "cell_type": "code",
   "execution_count": 146,
   "metadata": {},
   "outputs": [],
   "source": [
    "# Create Index\n",
    "index_name = \"violation-data2\"\n",
    "\n",
    "if not pc.has_index(index_name):\n",
    "    pc.create_index(\n",
    "        name=index_name,\n",
    "        dimension=3072,\n",
    "        metric=\"cosine\",\n",
    "        spec=ServerlessSpec(\n",
    "            cloud='aws',\n",
    "            region='us-east-1'\n",
    "        )\n",
    "    )\n",
    "\n",
    "index = pc.Index(index_name)\n"
   ]
  },
  {
   "cell_type": "code",
   "execution_count": 172,
   "metadata": {},
   "outputs": [
    {
     "data": {
      "text/plain": [
       "'A car was detected overtaking in الحارث بن الحباب road at 14:02:44 on 2024-09-21 at these coordinates: 24.6877, 46.7219'"
      ]
     },
     "execution_count": 172,
     "metadata": {},
     "output_type": "execute_result"
    }
   ],
   "source": [
    "data[1]['text']"
   ]
  },
  {
   "cell_type": "markdown",
   "metadata": {},
   "source": [
    "## create vector embedings"
   ]
  },
  {
   "cell_type": "code",
   "execution_count": 173,
   "metadata": {},
   "outputs": [],
   "source": [
    "import openai\n",
    "openai.api_key = os.getenv('OPENAI_API_KEY') \n",
    "\n",
    "\n",
    "def embed(docs: list[str]) -> list[list[float]]:\n",
    "    res = openai.embeddings.create(\n",
    "        input=docs,\n",
    "        model=\"text-embedding-3-large\"\n",
    "    )\n",
    "    doc_embeds = [r.embedding for r in res.data] \n",
    "    return doc_embeds \n",
    "\n",
    "\n",
    "doc_embeds = embed([d[\"text\"] for d in data])"
   ]
  },
  {
   "cell_type": "markdown",
   "metadata": {},
   "source": [
    "## upsert the data"
   ]
  },
  {
   "cell_type": "code",
   "execution_count": 174,
   "metadata": {},
   "outputs": [
    {
     "data": {
      "text/plain": [
       "{'upserted_count': 140}"
      ]
     },
     "execution_count": 174,
     "metadata": {},
     "output_type": "execute_result"
    }
   ],
   "source": [
    "vectors = []\n",
    "for d, e in zip(data, doc_embeds):\n",
    "    vectors.append({\n",
    "        \"id\": d['id'],\n",
    "        \"values\": e,\n",
    "        \"metadata\": {'text': d['text']}\n",
    "    })\n",
    "\n",
    "index.upsert(\n",
    "    vectors=vectors,\n",
    "    namespace=\"violation-data-day1\"\n",
    ")\n"
   ]
  },
  {
   "cell_type": "markdown",
   "metadata": {},
   "source": [
    "## check index status"
   ]
  },
  {
   "cell_type": "code",
   "execution_count": 175,
   "metadata": {},
   "outputs": [
    {
     "name": "stdout",
     "output_type": "stream",
     "text": [
      "{'dimension': 3072,\n",
      " 'index_fullness': 0.0,\n",
      " 'namespaces': {'ns1': {'vector_count': 140}},\n",
      " 'total_vector_count': 140}\n"
     ]
    }
   ],
   "source": [
    "print(index.describe_index_stats())"
   ]
  },
  {
   "cell_type": "markdown",
   "metadata": {},
   "source": [
    "### Query"
   ]
  },
  {
   "cell_type": "code",
   "execution_count": 176,
   "metadata": {},
   "outputs": [
    {
     "name": "stdout",
     "output_type": "stream",
     "text": [
      "{'matches': [{'id': '128',\n",
      "              'metadata': {'text': 'A car was detected overtaking in الحارث بن '\n",
      "                                   'الحباب road at 14:08:41 on 2024-09-21 at '\n",
      "                                   'these coordinates: 24.6877, 46.7219'},\n",
      "              'score': 0.344149321,\n",
      "              'values': []},\n",
      "             {'id': '108',\n",
      "              'metadata': {'text': 'A car was detected overtaking in الحارث بن '\n",
      "                                   'الحباب road at 14:07:20 on 2024-09-21 at '\n",
      "                                   'these coordinates: 24.6877, 46.7219'},\n",
      "              'score': 0.344048321,\n",
      "              'values': []},\n",
      "             {'id': '112',\n",
      "              'metadata': {'text': 'A car was detected overtaking in الحارث بن '\n",
      "                                   'الحباب road at 14:07:40 on 2024-09-21 at '\n",
      "                                   'these coordinates: 24.6877, 46.7219'},\n",
      "              'score': 0.343803793,\n",
      "              'values': []}],\n",
      " 'namespace': 'ns1',\n",
      " 'usage': {'read_units': 6}}\n"
     ]
    }
   ],
   "source": [
    "query = \"كم عدد المخالفات التي تم رصدها اليوم؟\"\n",
    "\n",
    "x = embed([query])\n",
    "\n",
    "results = index.query(\n",
    "    namespace=\"ns1\",\n",
    "    vector=x[0],\n",
    "    top_k=3,\n",
    "    include_values=False,\n",
    "    include_metadata=True\n",
    ")\n",
    "\n",
    "print(results)"
   ]
  }
 ],
 "metadata": {
  "kernelspec": {
   "display_name": "project-env",
   "language": "python",
   "name": "python3"
  },
  "language_info": {
   "codemirror_mode": {
    "name": "ipython",
    "version": 3
   },
   "file_extension": ".py",
   "mimetype": "text/x-python",
   "name": "python",
   "nbconvert_exporter": "python",
   "pygments_lexer": "ipython3",
   "version": "3.11.2"
  }
 },
 "nbformat": 4,
 "nbformat_minor": 2
}
