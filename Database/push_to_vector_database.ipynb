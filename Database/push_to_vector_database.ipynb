{
 "cells": [
  {
   "cell_type": "code",
   "execution_count": 12,
   "metadata": {},
   "outputs": [
    {
     "data": {
      "text/plain": [
       "True"
      ]
     },
     "execution_count": 12,
     "metadata": {},
     "output_type": "execute_result"
    }
   ],
   "source": [
    "import os\n",
    "from dotenv import load_dotenv\n",
    "load_dotenv()"
   ]
  },
  {
   "cell_type": "markdown",
   "metadata": {},
   "source": [
    "### Pinecone Documentation [DOCS](https://docs.pinecone.io/home)\n",
    "### Get started [Quickstart](https://docs.pinecone.io/guides/get-started/quickstart)"
   ]
  },
  {
   "cell_type": "markdown",
   "metadata": {},
   "source": [
    "## Establish a connection to MongoDB"
   ]
  },
  {
   "cell_type": "code",
   "execution_count": 55,
   "metadata": {},
   "outputs": [],
   "source": [
    "from pymongo import MongoClient\n",
    "\n",
    "client = MongoClient(os.getenv('CONNECTION_STRING'))\n",
    "\n",
    "db = client['DeepLearningCluster']  \n",
    "collection = db['Violations-1']\n"
   ]
  },
  {
   "cell_type": "markdown",
   "metadata": {},
   "source": [
    "## Retrieve all documents from Violations_detected collection"
   ]
  },
  {
   "cell_type": "code",
   "execution_count": 56,
   "metadata": {},
   "outputs": [],
   "source": [
    "documents = collection.find()"
   ]
  },
  {
   "cell_type": "code",
   "execution_count": 57,
   "metadata": {},
   "outputs": [],
   "source": [
    "inputs = list(documents)"
   ]
  },
  {
   "cell_type": "code",
   "execution_count": 76,
   "metadata": {},
   "outputs": [
    {
     "data": {
      "text/plain": [
       "str"
      ]
     },
     "execution_count": 76,
     "metadata": {},
     "output_type": "execute_result"
    }
   ],
   "source": [
    "str(inputs[0]['_id'])"
   ]
  },
  {
   "cell_type": "code",
   "execution_count": 79,
   "metadata": {},
   "outputs": [],
   "source": [
    "data = []\n",
    "for input in inputs:\n",
    "    text = f\"A {input['vehicle_type']} was detected with this license plate number {input['license_plate_number']}{input['violation_type']} in {input['street_name']} road at {input['time']} on {input['date']} at these coordinates: {input['latitude']}, {input['longitude']}\"\n",
    "    data.append({'id': str(input['_id']), 'text': text})\n"
   ]
  },
  {
   "cell_type": "code",
   "execution_count": 80,
   "metadata": {},
   "outputs": [
    {
     "data": {
      "text/plain": [
       "{'id': '66f3cdeb03cab8b36d109d14',\n",
       " 'text': 'A car was detected with this license plate number nanovertaking in طريق المطار road at 20:44:53 on 2024-09-10 at these coordinates: 24.916405, 46.723884'}"
      ]
     },
     "execution_count": 80,
     "metadata": {},
     "output_type": "execute_result"
    }
   ],
   "source": [
    "data[2]"
   ]
  },
  {
   "cell_type": "code",
   "execution_count": 68,
   "metadata": {},
   "outputs": [
    {
     "name": "stdout",
     "output_type": "stream",
     "text": [
      "<class 'dict'>\n",
      "<class 'list'>\n"
     ]
    }
   ],
   "source": [
    "print(type(data[0]))\n",
    "print(type(inputs))"
   ]
  },
  {
   "cell_type": "markdown",
   "metadata": {},
   "source": [
    "## initialize a Pinecone client"
   ]
  },
  {
   "cell_type": "code",
   "execution_count": 81,
   "metadata": {},
   "outputs": [],
   "source": [
    "from pinecone import Pinecone, ServerlessSpec\n",
    "\n",
    "pc = Pinecone(api_key=os.getenv('pinecone_API_KEY'))"
   ]
  },
  {
   "cell_type": "markdown",
   "metadata": {},
   "source": [
    "## create new serverless index"
   ]
  },
  {
   "cell_type": "code",
   "execution_count": 17,
   "metadata": {},
   "outputs": [],
   "source": [
    "# Create Index\n",
    "index_name = \"violation-data5\"\n",
    "\n",
    "if not pc.has_index(index_name):\n",
    "    pc.create_index(\n",
    "        name=index_name,\n",
    "        dimension=3072,\n",
    "        metric=\"cosine\",\n",
    "        spec=ServerlessSpec(\n",
    "            cloud='aws',\n",
    "            region='us-east-1'\n",
    "        )\n",
    "    )\n",
    "\n",
    "index = pc.Index(index_name)\n"
   ]
  },
  {
   "cell_type": "markdown",
   "metadata": {},
   "source": [
    "## create vector embedings"
   ]
  },
  {
   "cell_type": "code",
   "execution_count": 82,
   "metadata": {},
   "outputs": [],
   "source": [
    "import openai\n",
    "openai.api_key = os.getenv('OPENAI_API_KEY') \n",
    "\n",
    "\n",
    "def embed(docs: list[str]) -> list[list[float]]:\n",
    "    res = openai.embeddings.create(\n",
    "        input=docs,\n",
    "        model=\"text-embedding-3-large\"\n",
    "    )\n",
    "    doc_embeds = [r.embedding for r in res.data] \n",
    "    return doc_embeds \n",
    "\n",
    "\n",
    "doc_embeds = embed([d[\"text\"] for d in data])"
   ]
  },
  {
   "cell_type": "markdown",
   "metadata": {},
   "source": [
    "## upsert the data"
   ]
  },
  {
   "cell_type": "code",
   "execution_count": 83,
   "metadata": {},
   "outputs": [
    {
     "data": {
      "text/plain": [
       "{'_id': ObjectId('66f3cdeb03cab8b36d109d12'),\n",
       " 'date': '2024-09-10',\n",
       " 'time': '14:38:35',\n",
       " 'license_plate_number': '1063 ~ad_',\n",
       " 'vehicle_type': 'car',\n",
       " 'violation_type': 'overtaking',\n",
       " 'latitude': 24.921224,\n",
       " 'longitude': 46.722133,\n",
       " 'street_name': 'طريق المطار'}"
      ]
     },
     "execution_count": 83,
     "metadata": {},
     "output_type": "execute_result"
    }
   ],
   "source": [
    "inputs[0]"
   ]
  },
  {
   "cell_type": "code",
   "execution_count": 84,
   "metadata": {},
   "outputs": [
    {
     "data": {
      "text/plain": [
       "{'upserted_count': 74}"
      ]
     },
     "execution_count": 84,
     "metadata": {},
     "output_type": "execute_result"
    }
   ],
   "source": [
    "vectors = []\n",
    "# f\"A {inputs[i]['vehicle_type']} was detected {inputs[i]['violation_type']}\n",
    "#  in {inputs[i]['street_name']} road at {inputs[i]['time']} on {inputs[i]['date']} \n",
    "#  at these coordinates: {inputs[i]['latitude']}, {inputs[i]['longitude']}\n",
    "for d, e in zip(inputs, doc_embeds):\n",
    "    vectors.append({\n",
    "        \"id\": str(d['_id']),\n",
    "        \"values\": e,\n",
    "        \"metadata\": {'vehicle_type': d['vehicle_type'], 'violation_type': d['violation_type'], 'street_name': d['street_name'], 'time': d['time'], 'date': d['date'], 'latitude': d['latitude'], 'longitude': d['longitude']}\n",
    "    })\n",
    "\n",
    "index.upsert(\n",
    "    vectors=vectors,\n",
    "    namespace=\"violation-data-day1\"\n",
    ")\n"
   ]
  },
  {
   "cell_type": "markdown",
   "metadata": {},
   "source": [
    "## check index status"
   ]
  },
  {
   "cell_type": "code",
   "execution_count": 12,
   "metadata": {},
   "outputs": [
    {
     "name": "stdout",
     "output_type": "stream",
     "text": [
      "{'dimension': 3072,\n",
      " 'index_fullness': 0.0,\n",
      " 'namespaces': {'violation-data-day1': {'vector_count': 74}},\n",
      " 'total_vector_count': 74}\n"
     ]
    }
   ],
   "source": [
    "print(index.describe_index_stats())"
   ]
  },
  {
   "cell_type": "markdown",
   "metadata": {},
   "source": [
    "### Query"
   ]
  },
  {
   "cell_type": "code",
   "execution_count": 15,
   "metadata": {},
   "outputs": [
    {
     "name": "stdout",
     "output_type": "stream",
     "text": [
      "{'matches': [{'id': '66f22b85895db7f65810cabb',\n",
      "              'metadata': {'date': '2024-09-22',\n",
      "                           'latitude': 46.666884,\n",
      "                           'longitude': 24.828788,\n",
      "                           'street_name': 'انس بن مالك',\n",
      "                           'time': '20:45:09',\n",
      "                           'vehicle_type': 'car',\n",
      "                           'violation_type': 'overtaking'},\n",
      "              'score': 0.356940389,\n",
      "              'values': []},\n",
      "             {'id': '66f22b85895db7f65810ca96',\n",
      "              'metadata': {'date': '2024-09-22',\n",
      "                           'latitude': 46.666884,\n",
      "                           'longitude': 24.828788,\n",
      "                           'street_name': 'انس بن مالك',\n",
      "                           'time': '20:45:09',\n",
      "                           'vehicle_type': 'car',\n",
      "                           'violation_type': 'overtaking'},\n",
      "              'score': 0.355448663,\n",
      "              'values': []},\n",
      "             {'id': '66f22b85895db7f65810ca9d',\n",
      "              'metadata': {'date': '2024-09-22',\n",
      "                           'latitude': 46.722133,\n",
      "                           'longitude': 24.921224,\n",
      "                           'street_name': 'طريق المطار',\n",
      "                           'time': '14:38:35',\n",
      "                           'vehicle_type': 'car',\n",
      "                           'violation_type': 'overtaking'},\n",
      "              'score': 0.351545572,\n",
      "              'values': []}],\n",
      " 'namespace': 'violation-data-day1',\n",
      " 'usage': {'read_units': 6}}\n"
     ]
    }
   ],
   "source": [
    "query = \"مخالفة برقم اللوحة 7862\"\n",
    "\n",
    "x = embed([query])\n",
    "\n",
    "results = index.query(\n",
    "    namespace=\"violation-data-day1\",\n",
    "    vector=x[0],\n",
    "    top_k=3,\n",
    "    include_values=False,\n",
    "    include_metadata=True,\n",
    "    \n",
    ")\n",
    "\n",
    "print(results)"
   ]
  }
 ],
 "metadata": {
  "kernelspec": {
   "display_name": "project-env",
   "language": "python",
   "name": "python3"
  },
  "language_info": {
   "codemirror_mode": {
    "name": "ipython",
    "version": 3
   },
   "file_extension": ".py",
   "mimetype": "text/x-python",
   "name": "python",
   "nbconvert_exporter": "python",
   "pygments_lexer": "ipython3",
   "version": "3.11.2"
  }
 },
 "nbformat": 4,
 "nbformat_minor": 2
}
