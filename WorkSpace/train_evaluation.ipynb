{
  "cells": [
    {
      "cell_type": "markdown",
      "metadata": {
        "id": "view-in-github",
        "colab_type": "text"
      },
      "source": [
        "<a href=\"https://colab.research.google.com/github/TariqAlhathloul/Smart-Street/blob/main/WorkSpace/train_evaluation.ipynb\" target=\"_parent\"><img src=\"https://colab.research.google.com/assets/colab-badge.svg\" alt=\"Open In Colab\"/></a>"
      ]
    },
    {
      "cell_type": "markdown",
      "metadata": {
        "id": "GBIQv0fqWwoO"
      },
      "source": [
        "## linkes for the project"
      ]
    },
    {
      "cell_type": "markdown",
      "metadata": {
        "id": "45xduYuRWwoS"
      },
      "source": [
        "[![Roboflow](https://raw.githubusercontent.com/roboflow-ai/notebooks/main/assets/badges/roboflow.svg)](https://universe.roboflow.com/capstoneteam/road-lines-segmentation-3)\n",
        "\n",
        "[![GitHub Repoistory](https://badges.aleen42.com/src/github.svg)](https://github.com/TariqAlhathloul/Smart-Street)\n"
      ]
    },
    {
      "cell_type": "markdown",
      "metadata": {
        "id": "1K_SVQUBWwoT"
      },
      "source": [
        "## installation"
      ]
    },
    {
      "cell_type": "code",
      "execution_count": 1,
      "metadata": {
        "colab": {
          "base_uri": "https://localhost:8080/"
        },
        "id": "BHg3wdYqWwoU",
        "outputId": "6f477224-2ad3-4b15-cb34-ece4530a43cd"
      },
      "outputs": [
        {
          "output_type": "stream",
          "name": "stdout",
          "text": [
            "\u001b[2K   \u001b[90m━━━━━━━━━━━━━━━━━━━━━━━━━━━━━━━━━━━━━━━━\u001b[0m \u001b[32m882.8/882.8 kB\u001b[0m \u001b[31m13.5 MB/s\u001b[0m eta \u001b[36m0:00:00\u001b[0m\n",
            "\u001b[2K   \u001b[90m━━━━━━━━━━━━━━━━━━━━━━━━━━━━━━━━━━━━━━━━\u001b[0m \u001b[32m80.4/80.4 kB\u001b[0m \u001b[31m2.9 MB/s\u001b[0m eta \u001b[36m0:00:00\u001b[0m\n",
            "\u001b[2K   \u001b[90m━━━━━━━━━━━━━━━━━━━━━━━━━━━━━━━━━━━━━━━━\u001b[0m \u001b[32m66.8/66.8 kB\u001b[0m \u001b[31m5.5 MB/s\u001b[0m eta \u001b[36m0:00:00\u001b[0m\n",
            "\u001b[2K   \u001b[90m━━━━━━━━━━━━━━━━━━━━━━━━━━━━━━━━━━━━━━━━\u001b[0m \u001b[32m54.5/54.5 kB\u001b[0m \u001b[31m1.1 MB/s\u001b[0m eta \u001b[36m0:00:00\u001b[0m\n",
            "\u001b[?25h"
          ]
        }
      ],
      "source": [
        "!pip install ultralytics -q\n",
        "!pip install roboflow -q\n",
        "!pip install ipywidgets -q"
      ]
    },
    {
      "cell_type": "code",
      "execution_count": 2,
      "metadata": {
        "colab": {
          "base_uri": "https://localhost:8080/"
        },
        "id": "ef5s0LhHWwoZ",
        "outputId": "ac817a8c-1e13-4094-b20b-daf8c1658ac1"
      },
      "outputs": [
        {
          "output_type": "stream",
          "name": "stdout",
          "text": [
            "Creating new Ultralytics Settings v0.0.6 file ✅ \n",
            "View Ultralytics Settings with 'yolo settings' or at '/root/.config/Ultralytics/settings.json'\n",
            "Update Settings with 'yolo settings key=value', i.e. 'yolo settings runs_dir=path/to/dir'. For help see https://docs.ultralytics.com/quickstart/#ultralytics-settings.\n"
          ]
        }
      ],
      "source": [
        "from ultralytics import YOLO\n",
        "from roboflow import Roboflow\n",
        "import pandas as pd\n",
        "import os\n",
        "\n",
        "from google.colab import userdata\n",
        "API_KEY = userdata.get('ROBOFLOW_API_KEY')"
      ]
    },
    {
      "cell_type": "code",
      "execution_count": 3,
      "metadata": {
        "colab": {
          "base_uri": "https://localhost:8080/"
        },
        "id": "iOaNVxNRWwob",
        "outputId": "de87764a-7c0e-40d8-f8b5-4b8f62fe3847"
      },
      "outputs": [
        {
          "output_type": "stream",
          "name": "stdout",
          "text": [
            "loading Roboflow workspace...\n",
            "loading Roboflow project...\n"
          ]
        },
        {
          "output_type": "stream",
          "name": "stderr",
          "text": [
            "Downloading Dataset Version Zip in Road-lines-segmentation-2 to yolov11:: 100%|██████████| 1513103/1513103 [01:46<00:00, 14243.67it/s]"
          ]
        },
        {
          "output_type": "stream",
          "name": "stdout",
          "text": [
            "\n"
          ]
        },
        {
          "output_type": "stream",
          "name": "stderr",
          "text": [
            "\n",
            "Extracting Dataset Version Zip to Road-lines-segmentation-2 in yolov11:: 100%|██████████| 52208/52208 [00:08<00:00, 6035.26it/s]\n"
          ]
        }
      ],
      "source": [
        "rf = Roboflow(api_key=API_KEY)\n",
        "project = rf.workspace(\"capstoneteam\").project(\"road-lines-segmentation-phoc6\")\n",
        "version = project.version(2)\n",
        "dataset = version.download(\"yolov11\")"
      ]
    },
    {
      "cell_type": "markdown",
      "metadata": {
        "id": "x7QmgSaiWwoc"
      },
      "source": [
        "## upload the dataset"
      ]
    },
    {
      "cell_type": "code",
      "execution_count": 4,
      "metadata": {
        "id": "RQrIPhJuWwod"
      },
      "outputs": [],
      "source": [
        "TRAIN_DIR_IAMAGES = '/content/Road-lines-segmentation-2/train/images'\n",
        "VAL_DIR_IAMGES = '/content/Road-lines-segmentation-2/valid/images'\n",
        "TEST_DIR_IMAGES = '/content/Road-lines-segmentation-2/test/images'"
      ]
    },
    {
      "cell_type": "code",
      "execution_count": 5,
      "metadata": {
        "colab": {
          "base_uri": "https://localhost:8080/"
        },
        "id": "mEZl-6W2Wwod",
        "outputId": "5d518099-0c94-4ee6-dbc7-b3ce88d6dac3"
      },
      "outputs": [
        {
          "output_type": "stream",
          "name": "stdout",
          "text": [
            "Total Training: 24198 images\n",
            "Total Validation: 1400 images\n",
            "Total Testing: 500 images\n"
          ]
        }
      ],
      "source": [
        "print(f\"Total Training: {len(os.listdir(TRAIN_DIR_IAMAGES))} images\")\n",
        "print(f\"Total Validation: {len(os.listdir(VAL_DIR_IAMGES))} images\")\n",
        "print(f\"Total Testing: {len(os.listdir(TEST_DIR_IMAGES))} images\")"
      ]
    },
    {
      "cell_type": "markdown",
      "metadata": {
        "id": "L5xBQhMAWwoe"
      },
      "source": [
        "## check if the GPU is avalabie"
      ]
    },
    {
      "cell_type": "code",
      "execution_count": 6,
      "metadata": {
        "colab": {
          "base_uri": "https://localhost:8080/"
        },
        "id": "G7y_VO4fWwoe",
        "outputId": "94eaabba-5630-4fed-f350-31c9eb0c1e05"
      },
      "outputs": [
        {
          "output_type": "stream",
          "name": "stdout",
          "text": [
            "Sun Oct  6 14:23:51 2024       \n",
            "+---------------------------------------------------------------------------------------+\n",
            "| NVIDIA-SMI 535.104.05             Driver Version: 535.104.05   CUDA Version: 12.2     |\n",
            "|-----------------------------------------+----------------------+----------------------+\n",
            "| GPU  Name                 Persistence-M | Bus-Id        Disp.A | Volatile Uncorr. ECC |\n",
            "| Fan  Temp   Perf          Pwr:Usage/Cap |         Memory-Usage | GPU-Util  Compute M. |\n",
            "|                                         |                      |               MIG M. |\n",
            "|=========================================+======================+======================|\n",
            "|   0  Tesla T4                       Off | 00000000:00:04.0 Off |                    0 |\n",
            "| N/A   38C    P8               9W /  70W |      0MiB / 15360MiB |      0%      Default |\n",
            "|                                         |                      |                  N/A |\n",
            "+-----------------------------------------+----------------------+----------------------+\n",
            "                                                                                         \n",
            "+---------------------------------------------------------------------------------------+\n",
            "| Processes:                                                                            |\n",
            "|  GPU   GI   CI        PID   Type   Process name                            GPU Memory |\n",
            "|        ID   ID                                                             Usage      |\n",
            "|=======================================================================================|\n",
            "|  No running processes found                                                           |\n",
            "+---------------------------------------------------------------------------------------+\n"
          ]
        }
      ],
      "source": [
        "gpu_info = !nvidia-smi\n",
        "gpu_info = '\\n'.join(gpu_info)\n",
        "if gpu_info.find('failed') >= 0:\n",
        "  print('Not connected to a GPU')\n",
        "else:\n",
        "  print(gpu_info)"
      ]
    },
    {
      "cell_type": "markdown",
      "metadata": {
        "id": "tkpvFAxzWwof"
      },
      "source": [
        "## upload the model"
      ]
    },
    {
      "cell_type": "code",
      "execution_count": 8,
      "metadata": {
        "colab": {
          "base_uri": "https://localhost:8080/"
        },
        "id": "ewSqQcyyWwof",
        "outputId": "f0706c2e-5fc0-4ac9-8c2f-62dc3a4ba639"
      },
      "outputs": [
        {
          "output_type": "stream",
          "name": "stdout",
          "text": [
            "Downloading https://github.com/ultralytics/assets/releases/download/v8.3.0/yolo11n-seg.pt to 'yolo11n-seg.pt'...\n"
          ]
        },
        {
          "output_type": "stream",
          "name": "stderr",
          "text": [
            "100%|██████████| 5.90M/5.90M [00:00<00:00, 21.7MB/s]\n"
          ]
        }
      ],
      "source": [
        "model = YOLO(\"yolo11n-seg.pt\")"
      ]
    },
    {
      "cell_type": "code",
      "execution_count": 9,
      "metadata": {
        "colab": {
          "base_uri": "https://localhost:8080/"
        },
        "id": "lQdyL9bNZFaw",
        "outputId": "ff683f7c-064b-4892-e355-36d9ca630f6e"
      },
      "outputs": [
        {
          "output_type": "stream",
          "name": "stdout",
          "text": [
            "YOLO11n-seg summary: 355 layers, 2,876,848 parameters, 0 gradients, 10.5 GFLOPs\n"
          ]
        },
        {
          "output_type": "execute_result",
          "data": {
            "text/plain": [
              "(355, 2876848, 0, 10.5294976)"
            ]
          },
          "metadata": {},
          "execution_count": 9
        }
      ],
      "source": [
        "model.info()"
      ]
    },
    {
      "cell_type": "markdown",
      "metadata": {
        "id": "kw0TsM49Wwog"
      },
      "source": [
        "## overwrite the data.yaml file"
      ]
    },
    {
      "cell_type": "code",
      "execution_count": 10,
      "metadata": {
        "colab": {
          "base_uri": "https://localhost:8080/"
        },
        "id": "jed6tbChWwog",
        "outputId": "372d6706-36df-4b4c-9c05-0e2812e4542f"
      },
      "outputs": [
        {
          "output_type": "stream",
          "name": "stdout",
          "text": [
            "Overwriting /content/Road-lines-segmentation-2/data.yaml\n"
          ]
        }
      ],
      "source": [
        "%%writefile /content/Road-lines-segmentation-2/data.yaml\n",
        "train: /content/Road-lines-segmentation-2/train/images\n",
        "val: /content/Road-lines-segmentation-2/valid/images\n",
        "test: /content/Road-lines-segmentation-2/test/images\n",
        "\n",
        "nc: 3\n",
        "names: ['License_Plate', 'car', 'solid-yellow-line']\n",
        "\n",
        "roboflow:\n",
        "  workspace: capstoneteam\n",
        "  project: road-lines-segmentation-phoc6\n",
        "  version: 2\n",
        "  license: CC BY 4.0\n",
        "  url: https://universe.roboflow.com/capstoneteam/road-lines-segmentation-phoc6/dataset/2\n"
      ]
    },
    {
      "cell_type": "markdown",
      "metadata": {
        "id": "4ZZEhtnbWwoh"
      },
      "source": [
        "## Hyperparameters, finetuning"
      ]
    },
    {
      "cell_type": "code",
      "execution_count": 11,
      "metadata": {
        "id": "cnWTMoS8Wwoh"
      },
      "outputs": [],
      "source": [
        "IMG_SIZE = 640\n",
        "BATCH_SIZE = -1\n",
        "EPOCHS = 100"
      ]
    },
    {
      "cell_type": "code",
      "execution_count": 12,
      "metadata": {
        "colab": {
          "base_uri": "https://localhost:8080/"
        },
        "id": "8amn9XS6Wwoi",
        "outputId": "d1c2a1a5-8c6f-45bc-f92b-7dbdaaed1882"
      },
      "outputs": [
        {
          "output_type": "stream",
          "name": "stdout",
          "text": [
            "Ultralytics 8.3.5 🚀 Python-3.10.12 torch-2.4.1+cu121 CUDA:0 (Tesla T4, 15102MiB)\n",
            "\u001b[34m\u001b[1mengine/trainer: \u001b[0mtask=segment, mode=train, model=yolo11n-seg.pt, data=/content/Road-lines-segmentation-2/data.yaml, epochs=100, time=None, patience=20, batch=-1, imgsz=640, save=True, save_period=-1, cache=False, device=0, workers=8, project=Ex-11, name=Ex-11, exist_ok=False, pretrained=True, optimizer=SGD, verbose=True, seed=93, deterministic=True, single_cls=False, rect=False, cos_lr=True, close_mosaic=10, resume=False, amp=True, fraction=1.0, profile=True, freeze=10, multi_scale=False, overlap_mask=True, mask_ratio=4, dropout=0.2, val=True, split=val, save_json=False, save_hybrid=False, conf=None, iou=0.7, max_det=300, half=False, dnn=False, plots=True, source=None, vid_stride=1, stream_buffer=False, visualize=False, augment=False, agnostic_nms=False, classes=None, retina_masks=False, embed=None, show=False, save_frames=False, save_txt=False, save_conf=False, save_crop=False, show_labels=True, show_conf=True, show_boxes=True, line_width=None, format=torchscript, keras=False, optimize=False, int8=False, dynamic=False, simplify=True, opset=None, workspace=4, nms=False, lr0=0.001, lrf=0.0001, momentum=0.937, weight_decay=0.005, warmup_epochs=3.0, warmup_momentum=0.8, warmup_bias_lr=0.1, box=7.5, cls=0.5, dfl=1.5, pose=12.0, kobj=1.0, label_smoothing=0.0, nbs=64, hsv_h=0.015, hsv_s=0.7, hsv_v=0.4, degrees=0.0, translate=0.1, scale=0.5, shear=0.0, perspective=0.0, flipud=0.0, fliplr=0.5, bgr=0.0, mosaic=1.0, mixup=0.0, copy_paste=0.0, copy_paste_mode=flip, auto_augment=randaugment, erasing=0.4, crop_fraction=1.0, cfg=None, tracker=botsort.yaml, save_dir=Ex-11/Ex-11\n",
            "Downloading https://ultralytics.com/assets/Arial.ttf to '/root/.config/Ultralytics/Arial.ttf'...\n"
          ]
        },
        {
          "output_type": "stream",
          "name": "stderr",
          "text": [
            "100%|██████████| 755k/755k [00:00<00:00, 4.28MB/s]\n"
          ]
        },
        {
          "output_type": "stream",
          "name": "stdout",
          "text": [
            "Overriding model.yaml nc=80 with nc=3\n",
            "\n",
            "                   from  n    params  module                                       arguments                     \n",
            "  0                  -1  1       464  ultralytics.nn.modules.conv.Conv             [3, 16, 3, 2]                 \n",
            "  1                  -1  1      4672  ultralytics.nn.modules.conv.Conv             [16, 32, 3, 2]                \n",
            "  2                  -1  1      6640  ultralytics.nn.modules.block.C3k2            [32, 64, 1, False, 0.25]      \n",
            "  3                  -1  1     36992  ultralytics.nn.modules.conv.Conv             [64, 64, 3, 2]                \n",
            "  4                  -1  1     26080  ultralytics.nn.modules.block.C3k2            [64, 128, 1, False, 0.25]     \n",
            "  5                  -1  1    147712  ultralytics.nn.modules.conv.Conv             [128, 128, 3, 2]              \n",
            "  6                  -1  1     87040  ultralytics.nn.modules.block.C3k2            [128, 128, 1, True]           \n",
            "  7                  -1  1    295424  ultralytics.nn.modules.conv.Conv             [128, 256, 3, 2]              \n",
            "  8                  -1  1    346112  ultralytics.nn.modules.block.C3k2            [256, 256, 1, True]           \n",
            "  9                  -1  1    164608  ultralytics.nn.modules.block.SPPF            [256, 256, 5]                 \n",
            " 10                  -1  1    249728  ultralytics.nn.modules.block.C2PSA           [256, 256, 1]                 \n",
            " 11                  -1  1         0  torch.nn.modules.upsampling.Upsample         [None, 2, 'nearest']          \n",
            " 12             [-1, 6]  1         0  ultralytics.nn.modules.conv.Concat           [1]                           \n",
            " 13                  -1  1    111296  ultralytics.nn.modules.block.C3k2            [384, 128, 1, False]          \n",
            " 14                  -1  1         0  torch.nn.modules.upsampling.Upsample         [None, 2, 'nearest']          \n",
            " 15             [-1, 4]  1         0  ultralytics.nn.modules.conv.Concat           [1]                           \n",
            " 16                  -1  1     32096  ultralytics.nn.modules.block.C3k2            [256, 64, 1, False]           \n",
            " 17                  -1  1     36992  ultralytics.nn.modules.conv.Conv             [64, 64, 3, 2]                \n",
            " 18            [-1, 13]  1         0  ultralytics.nn.modules.conv.Concat           [1]                           \n",
            " 19                  -1  1     86720  ultralytics.nn.modules.block.C3k2            [192, 128, 1, False]          \n",
            " 20                  -1  1    147712  ultralytics.nn.modules.conv.Conv             [128, 128, 3, 2]              \n",
            " 21            [-1, 10]  1         0  ultralytics.nn.modules.conv.Concat           [1]                           \n",
            " 22                  -1  1    378880  ultralytics.nn.modules.block.C3k2            [384, 256, 1, True]           \n",
            " 23        [16, 19, 22]  1    684025  ultralytics.nn.modules.head.Segment          [3, 32, 64, [64, 128, 256]]   \n",
            "YOLO11n-seg summary: 355 layers, 2,843,193 parameters, 2,843,177 gradients, 10.4 GFLOPs\n",
            "\n",
            "Transferred 510/561 items from pretrained weights\n",
            "\u001b[34m\u001b[1mTensorBoard: \u001b[0mStart with 'tensorboard --logdir Ex-11/Ex-11', view at http://localhost:6006/\n",
            "Freezing layer 'model.0.conv.weight'\n",
            "Freezing layer 'model.0.bn.weight'\n",
            "Freezing layer 'model.0.bn.bias'\n",
            "Freezing layer 'model.1.conv.weight'\n",
            "Freezing layer 'model.1.bn.weight'\n",
            "Freezing layer 'model.1.bn.bias'\n",
            "Freezing layer 'model.2.cv1.conv.weight'\n",
            "Freezing layer 'model.2.cv1.bn.weight'\n",
            "Freezing layer 'model.2.cv1.bn.bias'\n",
            "Freezing layer 'model.2.cv2.conv.weight'\n",
            "Freezing layer 'model.2.cv2.bn.weight'\n",
            "Freezing layer 'model.2.cv2.bn.bias'\n",
            "Freezing layer 'model.2.m.0.cv1.conv.weight'\n",
            "Freezing layer 'model.2.m.0.cv1.bn.weight'\n",
            "Freezing layer 'model.2.m.0.cv1.bn.bias'\n",
            "Freezing layer 'model.2.m.0.cv2.conv.weight'\n",
            "Freezing layer 'model.2.m.0.cv2.bn.weight'\n",
            "Freezing layer 'model.2.m.0.cv2.bn.bias'\n",
            "Freezing layer 'model.3.conv.weight'\n",
            "Freezing layer 'model.3.bn.weight'\n",
            "Freezing layer 'model.3.bn.bias'\n",
            "Freezing layer 'model.4.cv1.conv.weight'\n",
            "Freezing layer 'model.4.cv1.bn.weight'\n",
            "Freezing layer 'model.4.cv1.bn.bias'\n",
            "Freezing layer 'model.4.cv2.conv.weight'\n",
            "Freezing layer 'model.4.cv2.bn.weight'\n",
            "Freezing layer 'model.4.cv2.bn.bias'\n",
            "Freezing layer 'model.4.m.0.cv1.conv.weight'\n",
            "Freezing layer 'model.4.m.0.cv1.bn.weight'\n",
            "Freezing layer 'model.4.m.0.cv1.bn.bias'\n",
            "Freezing layer 'model.4.m.0.cv2.conv.weight'\n",
            "Freezing layer 'model.4.m.0.cv2.bn.weight'\n",
            "Freezing layer 'model.4.m.0.cv2.bn.bias'\n",
            "Freezing layer 'model.5.conv.weight'\n",
            "Freezing layer 'model.5.bn.weight'\n",
            "Freezing layer 'model.5.bn.bias'\n",
            "Freezing layer 'model.6.cv1.conv.weight'\n",
            "Freezing layer 'model.6.cv1.bn.weight'\n",
            "Freezing layer 'model.6.cv1.bn.bias'\n",
            "Freezing layer 'model.6.cv2.conv.weight'\n",
            "Freezing layer 'model.6.cv2.bn.weight'\n",
            "Freezing layer 'model.6.cv2.bn.bias'\n",
            "Freezing layer 'model.6.m.0.cv1.conv.weight'\n",
            "Freezing layer 'model.6.m.0.cv1.bn.weight'\n",
            "Freezing layer 'model.6.m.0.cv1.bn.bias'\n",
            "Freezing layer 'model.6.m.0.cv2.conv.weight'\n",
            "Freezing layer 'model.6.m.0.cv2.bn.weight'\n",
            "Freezing layer 'model.6.m.0.cv2.bn.bias'\n",
            "Freezing layer 'model.6.m.0.cv3.conv.weight'\n",
            "Freezing layer 'model.6.m.0.cv3.bn.weight'\n",
            "Freezing layer 'model.6.m.0.cv3.bn.bias'\n",
            "Freezing layer 'model.6.m.0.m.0.cv1.conv.weight'\n",
            "Freezing layer 'model.6.m.0.m.0.cv1.bn.weight'\n",
            "Freezing layer 'model.6.m.0.m.0.cv1.bn.bias'\n",
            "Freezing layer 'model.6.m.0.m.0.cv2.conv.weight'\n",
            "Freezing layer 'model.6.m.0.m.0.cv2.bn.weight'\n",
            "Freezing layer 'model.6.m.0.m.0.cv2.bn.bias'\n",
            "Freezing layer 'model.6.m.0.m.1.cv1.conv.weight'\n",
            "Freezing layer 'model.6.m.0.m.1.cv1.bn.weight'\n",
            "Freezing layer 'model.6.m.0.m.1.cv1.bn.bias'\n",
            "Freezing layer 'model.6.m.0.m.1.cv2.conv.weight'\n",
            "Freezing layer 'model.6.m.0.m.1.cv2.bn.weight'\n",
            "Freezing layer 'model.6.m.0.m.1.cv2.bn.bias'\n",
            "Freezing layer 'model.7.conv.weight'\n",
            "Freezing layer 'model.7.bn.weight'\n",
            "Freezing layer 'model.7.bn.bias'\n",
            "Freezing layer 'model.8.cv1.conv.weight'\n",
            "Freezing layer 'model.8.cv1.bn.weight'\n",
            "Freezing layer 'model.8.cv1.bn.bias'\n",
            "Freezing layer 'model.8.cv2.conv.weight'\n",
            "Freezing layer 'model.8.cv2.bn.weight'\n",
            "Freezing layer 'model.8.cv2.bn.bias'\n",
            "Freezing layer 'model.8.m.0.cv1.conv.weight'\n",
            "Freezing layer 'model.8.m.0.cv1.bn.weight'\n",
            "Freezing layer 'model.8.m.0.cv1.bn.bias'\n",
            "Freezing layer 'model.8.m.0.cv2.conv.weight'\n",
            "Freezing layer 'model.8.m.0.cv2.bn.weight'\n",
            "Freezing layer 'model.8.m.0.cv2.bn.bias'\n",
            "Freezing layer 'model.8.m.0.cv3.conv.weight'\n",
            "Freezing layer 'model.8.m.0.cv3.bn.weight'\n",
            "Freezing layer 'model.8.m.0.cv3.bn.bias'\n",
            "Freezing layer 'model.8.m.0.m.0.cv1.conv.weight'\n",
            "Freezing layer 'model.8.m.0.m.0.cv1.bn.weight'\n",
            "Freezing layer 'model.8.m.0.m.0.cv1.bn.bias'\n",
            "Freezing layer 'model.8.m.0.m.0.cv2.conv.weight'\n",
            "Freezing layer 'model.8.m.0.m.0.cv2.bn.weight'\n",
            "Freezing layer 'model.8.m.0.m.0.cv2.bn.bias'\n",
            "Freezing layer 'model.8.m.0.m.1.cv1.conv.weight'\n",
            "Freezing layer 'model.8.m.0.m.1.cv1.bn.weight'\n",
            "Freezing layer 'model.8.m.0.m.1.cv1.bn.bias'\n",
            "Freezing layer 'model.8.m.0.m.1.cv2.conv.weight'\n",
            "Freezing layer 'model.8.m.0.m.1.cv2.bn.weight'\n",
            "Freezing layer 'model.8.m.0.m.1.cv2.bn.bias'\n",
            "Freezing layer 'model.9.cv1.conv.weight'\n",
            "Freezing layer 'model.9.cv1.bn.weight'\n",
            "Freezing layer 'model.9.cv1.bn.bias'\n",
            "Freezing layer 'model.9.cv2.conv.weight'\n",
            "Freezing layer 'model.9.cv2.bn.weight'\n",
            "Freezing layer 'model.9.cv2.bn.bias'\n",
            "Freezing layer 'model.23.dfl.conv.weight'\n",
            "\u001b[34m\u001b[1mAMP: \u001b[0mrunning Automatic Mixed Precision (AMP) checks with YOLO11n...\n",
            "Downloading https://github.com/ultralytics/assets/releases/download/v8.3.0/yolo11n.pt to 'yolo11n.pt'...\n"
          ]
        },
        {
          "output_type": "stream",
          "name": "stderr",
          "text": [
            "100%|██████████| 5.35M/5.35M [00:00<00:00, 20.9MB/s]\n"
          ]
        },
        {
          "output_type": "stream",
          "name": "stdout",
          "text": [
            "\u001b[34m\u001b[1mAMP: \u001b[0mchecks passed ✅\n",
            "\u001b[34m\u001b[1mAutoBatch: \u001b[0mComputing optimal batch size for imgsz=640 at 60.0% CUDA memory utilization.\n",
            "\u001b[34m\u001b[1mAutoBatch: \u001b[0mCUDA:0 (Tesla T4) 14.75G total, 0.10G reserved, 0.06G allocated, 14.59G free\n",
            "      Params      GFLOPs  GPU_mem (GB)  forward (ms) backward (ms)                   input                  output\n",
            "     2843193       10.36         0.254         42.84           nan        (1, 3, 640, 640)                    list\n",
            "     2843193       20.72         0.403         29.79           nan        (2, 3, 640, 640)                    list\n",
            "     2843193       41.43         0.742         29.19           nan        (4, 3, 640, 640)                    list\n",
            "     2843193       82.86         1.447         38.63           nan        (8, 3, 640, 640)                    list\n",
            "     2843193       165.7         2.772         55.75           nan       (16, 3, 640, 640)                    list\n",
            "\u001b[34m\u001b[1mAutoBatch: \u001b[0mUsing batch-size 51 for CUDA:0 8.85G/14.75G (60%) ✅\n"
          ]
        },
        {
          "output_type": "stream",
          "name": "stderr",
          "text": [
            "\u001b[34m\u001b[1mtrain: \u001b[0mScanning /content/Road-lines-segmentation-2/train/labels... 24198 images, 27 backgrounds, 0 corrupt: 100%|██████████| 24198/24198 [00:24<00:00, 972.33it/s] "
          ]
        },
        {
          "output_type": "stream",
          "name": "stdout",
          "text": [
            "\u001b[34m\u001b[1mtrain: \u001b[0mWARNING ⚠️ /content/Road-lines-segmentation-2/train/images/NO20240828-152333-000152F_MP4-0945_jpg.rf.14b123ed523aabd8bf7165aaef09a4cd.jpg: 1 duplicate labels removed\n",
            "\u001b[34m\u001b[1mtrain: \u001b[0mWARNING ⚠️ /content/Road-lines-segmentation-2/train/images/cars-NO20240914-114048-000222F_MP4-0093_jpg.rf.3b80dc38102f61868460c8b951ced4b8.jpg: 1 duplicate labels removed\n",
            "\u001b[34m\u001b[1mtrain: \u001b[0mWARNING ⚠️ /content/Road-lines-segmentation-2/train/images/v14_mp4-0015_jpg.rf.71b30378ecad38c051e91735a988ecb0.jpg: 1 duplicate labels removed\n"
          ]
        },
        {
          "output_type": "stream",
          "name": "stderr",
          "text": [
            "\n"
          ]
        },
        {
          "output_type": "stream",
          "name": "stdout",
          "text": [
            "\u001b[34m\u001b[1mtrain: \u001b[0mNew cache created: /content/Road-lines-segmentation-2/train/labels.cache\n",
            "\u001b[34m\u001b[1malbumentations: \u001b[0mBlur(p=0.01, blur_limit=(3, 7)), MedianBlur(p=0.01, blur_limit=(3, 7)), ToGray(p=0.01, num_output_channels=3, method='weighted_average'), CLAHE(p=0.01, clip_limit=(1, 4.0), tile_grid_size=(8, 8))\n"
          ]
        },
        {
          "output_type": "stream",
          "name": "stderr",
          "text": [
            "A new version of Albumentations is available: 1.4.17 (you have 1.4.15). Upgrade using: pip install -U albumentations. To disable automatic update checks, set the environment variable NO_ALBUMENTATIONS_UPDATE to 1.\n",
            "\u001b[34m\u001b[1mval: \u001b[0mScanning /content/Road-lines-segmentation-2/valid/labels... 1400 images, 0 backgrounds, 0 corrupt: 100%|██████████| 1400/1400 [00:01<00:00, 949.40it/s]"
          ]
        },
        {
          "output_type": "stream",
          "name": "stdout",
          "text": [
            "\u001b[34m\u001b[1mval: \u001b[0mWARNING ⚠️ /content/Road-lines-segmentation-2/valid/images/front-left-NO20240903-145041-000844F_MP4-0244_jpg.rf.4202a8af1a35ceb1e66ab38357ef22b8.jpg: 1 duplicate labels removed\n"
          ]
        },
        {
          "output_type": "stream",
          "name": "stderr",
          "text": [
            "\n"
          ]
        },
        {
          "output_type": "stream",
          "name": "stdout",
          "text": [
            "\u001b[34m\u001b[1mval: \u001b[0mNew cache created: /content/Road-lines-segmentation-2/valid/labels.cache\n",
            "Plotting labels to Ex-11/Ex-11/labels.jpg... \n",
            "\u001b[34m\u001b[1moptimizer:\u001b[0m SGD(lr=0.001, momentum=0.937) with parameter groups 90 weight(decay=0.0), 101 weight(decay=0.003984375), 100 bias(decay=0.0)\n",
            "\u001b[34m\u001b[1mTensorBoard: \u001b[0mmodel graph visualization added ✅\n",
            "Image sizes 640 train, 640 val\n",
            "Using 8 dataloader workers\n",
            "Logging results to \u001b[1mEx-11/Ex-11\u001b[0m\n",
            "Starting training for 100 epochs...\n",
            "\n",
            "      Epoch    GPU_mem   box_loss   seg_loss   cls_loss   dfl_loss  Instances       Size\n"
          ]
        },
        {
          "output_type": "stream",
          "name": "stderr",
          "text": [
            "      1/100      5.53G      1.077      1.679      2.363      1.046         80        640: 100%|██████████| 475/475 [04:19<00:00,  1.83it/s]\n",
            "                 Class     Images  Instances      Box(P          R      mAP50  mAP50-95)     Mask(P          R      mAP50  mAP50-95): 100%|██████████| 14/14 [00:13<00:00,  1.02it/s]\n"
          ]
        },
        {
          "output_type": "stream",
          "name": "stdout",
          "text": [
            "                   all       1400       3892       0.83      0.691      0.728      0.548      0.829       0.69      0.727      0.444\n",
            "\n",
            "      Epoch    GPU_mem   box_loss   seg_loss   cls_loss   dfl_loss  Instances       Size\n"
          ]
        },
        {
          "output_type": "stream",
          "name": "stderr",
          "text": [
            "      2/100      6.19G     0.9105      1.271      1.019     0.9657         78        640: 100%|██████████| 475/475 [04:20<00:00,  1.82it/s]\n",
            "                 Class     Images  Instances      Box(P          R      mAP50  mAP50-95)     Mask(P          R      mAP50  mAP50-95): 100%|██████████| 14/14 [00:12<00:00,  1.09it/s]"
          ]
        },
        {
          "output_type": "stream",
          "name": "stdout",
          "text": [
            "                   all       1400       3892      0.865      0.762       0.81       0.62      0.866      0.758      0.807      0.516\n"
          ]
        },
        {
          "output_type": "stream",
          "name": "stderr",
          "text": [
            "\n"
          ]
        },
        {
          "output_type": "stream",
          "name": "stdout",
          "text": [
            "\n",
            "      Epoch    GPU_mem   box_loss   seg_loss   cls_loss   dfl_loss  Instances       Size\n"
          ]
        },
        {
          "output_type": "stream",
          "name": "stderr",
          "text": [
            "      3/100      6.06G     0.8719       1.19     0.8379     0.9434        103        640: 100%|██████████| 475/475 [04:19<00:00,  1.83it/s]\n",
            "                 Class     Images  Instances      Box(P          R      mAP50  mAP50-95)     Mask(P          R      mAP50  mAP50-95): 100%|██████████| 14/14 [00:12<00:00,  1.10it/s]"
          ]
        },
        {
          "output_type": "stream",
          "name": "stdout",
          "text": [
            "                   all       1400       3892      0.893       0.77      0.844      0.634      0.893      0.768      0.841       0.53\n"
          ]
        },
        {
          "output_type": "stream",
          "name": "stderr",
          "text": [
            "\n"
          ]
        },
        {
          "output_type": "stream",
          "name": "stdout",
          "text": [
            "\n",
            "      Epoch    GPU_mem   box_loss   seg_loss   cls_loss   dfl_loss  Instances       Size\n"
          ]
        },
        {
          "output_type": "stream",
          "name": "stderr",
          "text": [
            "      4/100      5.99G       0.85      1.145     0.7638     0.9339        114        640: 100%|██████████| 475/475 [04:19<00:00,  1.83it/s]\n",
            "                 Class     Images  Instances      Box(P          R      mAP50  mAP50-95)     Mask(P          R      mAP50  mAP50-95): 100%|██████████| 14/14 [00:12<00:00,  1.09it/s]"
          ]
        },
        {
          "output_type": "stream",
          "name": "stdout",
          "text": [
            "                   all       1400       3892      0.896      0.776      0.861      0.647      0.896      0.774      0.855      0.527\n"
          ]
        },
        {
          "output_type": "stream",
          "name": "stderr",
          "text": [
            "\n"
          ]
        },
        {
          "output_type": "stream",
          "name": "stdout",
          "text": [
            "\n",
            "      Epoch    GPU_mem   box_loss   seg_loss   cls_loss   dfl_loss  Instances       Size\n"
          ]
        },
        {
          "output_type": "stream",
          "name": "stderr",
          "text": [
            "      5/100      6.13G     0.8238      1.112     0.7147     0.9225         90        640: 100%|██████████| 475/475 [04:19<00:00,  1.83it/s]\n",
            "                 Class     Images  Instances      Box(P          R      mAP50  mAP50-95)     Mask(P          R      mAP50  mAP50-95): 100%|██████████| 14/14 [00:12<00:00,  1.10it/s]"
          ]
        },
        {
          "output_type": "stream",
          "name": "stdout",
          "text": [
            "                   all       1400       3892      0.876      0.814      0.867      0.656      0.879      0.812      0.862      0.537\n"
          ]
        },
        {
          "output_type": "stream",
          "name": "stderr",
          "text": [
            "\n"
          ]
        },
        {
          "output_type": "stream",
          "name": "stdout",
          "text": [
            "\n",
            "      Epoch    GPU_mem   box_loss   seg_loss   cls_loss   dfl_loss  Instances       Size\n"
          ]
        },
        {
          "output_type": "stream",
          "name": "stderr",
          "text": [
            "      6/100      6.13G     0.8058      1.083     0.6855     0.9139         83        640: 100%|██████████| 475/475 [04:19<00:00,  1.83it/s]\n",
            "                 Class     Images  Instances      Box(P          R      mAP50  mAP50-95)     Mask(P          R      mAP50  mAP50-95): 100%|██████████| 14/14 [00:12<00:00,  1.10it/s]"
          ]
        },
        {
          "output_type": "stream",
          "name": "stdout",
          "text": [
            "                   all       1400       3892      0.891      0.815      0.878      0.675      0.897      0.806      0.871      0.554\n"
          ]
        },
        {
          "output_type": "stream",
          "name": "stderr",
          "text": [
            "\n"
          ]
        },
        {
          "output_type": "stream",
          "name": "stdout",
          "text": [
            "\n",
            "      Epoch    GPU_mem   box_loss   seg_loss   cls_loss   dfl_loss  Instances       Size\n"
          ]
        },
        {
          "output_type": "stream",
          "name": "stderr",
          "text": [
            "      7/100         6G     0.7895      1.072     0.6605     0.9071        102        640: 100%|██████████| 475/475 [04:19<00:00,  1.83it/s]\n",
            "                 Class     Images  Instances      Box(P          R      mAP50  mAP50-95)     Mask(P          R      mAP50  mAP50-95): 100%|██████████| 14/14 [00:12<00:00,  1.10it/s]"
          ]
        },
        {
          "output_type": "stream",
          "name": "stdout",
          "text": [
            "                   all       1400       3892      0.875       0.83      0.882      0.677      0.873      0.828      0.872      0.558\n"
          ]
        },
        {
          "output_type": "stream",
          "name": "stderr",
          "text": [
            "\n"
          ]
        },
        {
          "output_type": "stream",
          "name": "stdout",
          "text": [
            "\n",
            "      Epoch    GPU_mem   box_loss   seg_loss   cls_loss   dfl_loss  Instances       Size\n"
          ]
        },
        {
          "output_type": "stream",
          "name": "stderr",
          "text": [
            "      8/100      6.02G     0.7791       1.06     0.6444     0.9017        101        640: 100%|██████████| 475/475 [04:19<00:00,  1.83it/s]\n",
            "                 Class     Images  Instances      Box(P          R      mAP50  mAP50-95)     Mask(P          R      mAP50  mAP50-95): 100%|██████████| 14/14 [00:12<00:00,  1.10it/s]"
          ]
        },
        {
          "output_type": "stream",
          "name": "stdout",
          "text": [
            "                   all       1400       3892      0.905      0.822       0.88      0.668      0.903      0.823      0.877      0.562\n"
          ]
        },
        {
          "output_type": "stream",
          "name": "stderr",
          "text": [
            "\n"
          ]
        },
        {
          "output_type": "stream",
          "name": "stdout",
          "text": [
            "\n",
            "      Epoch    GPU_mem   box_loss   seg_loss   cls_loss   dfl_loss  Instances       Size\n"
          ]
        },
        {
          "output_type": "stream",
          "name": "stderr",
          "text": [
            "      9/100      6.07G     0.7714      1.054     0.6338     0.8991        105        640: 100%|██████████| 475/475 [04:19<00:00,  1.83it/s]\n",
            "                 Class     Images  Instances      Box(P          R      mAP50  mAP50-95)     Mask(P          R      mAP50  mAP50-95): 100%|██████████| 14/14 [00:12<00:00,  1.10it/s]"
          ]
        },
        {
          "output_type": "stream",
          "name": "stdout",
          "text": [
            "                   all       1400       3892      0.909       0.81      0.887      0.682      0.906      0.806      0.877      0.568\n"
          ]
        },
        {
          "output_type": "stream",
          "name": "stderr",
          "text": [
            "\n"
          ]
        },
        {
          "output_type": "stream",
          "name": "stdout",
          "text": [
            "\n",
            "      Epoch    GPU_mem   box_loss   seg_loss   cls_loss   dfl_loss  Instances       Size\n"
          ]
        },
        {
          "output_type": "stream",
          "name": "stderr",
          "text": [
            "     10/100      5.93G     0.7641      1.041     0.6212     0.8958         96        640: 100%|██████████| 475/475 [04:19<00:00,  1.83it/s]\n",
            "                 Class     Images  Instances      Box(P          R      mAP50  mAP50-95)     Mask(P          R      mAP50  mAP50-95): 100%|██████████| 14/14 [00:12<00:00,  1.10it/s]"
          ]
        },
        {
          "output_type": "stream",
          "name": "stdout",
          "text": [
            "                   all       1400       3892        0.9      0.817      0.885      0.689      0.902      0.819       0.88       0.58\n"
          ]
        },
        {
          "output_type": "stream",
          "name": "stderr",
          "text": [
            "\n"
          ]
        },
        {
          "output_type": "stream",
          "name": "stdout",
          "text": [
            "\n",
            "      Epoch    GPU_mem   box_loss   seg_loss   cls_loss   dfl_loss  Instances       Size\n"
          ]
        },
        {
          "output_type": "stream",
          "name": "stderr",
          "text": [
            "     11/100      5.78G     0.7586       1.04     0.6107      0.893        125        640: 100%|██████████| 475/475 [04:19<00:00,  1.83it/s]\n",
            "                 Class     Images  Instances      Box(P          R      mAP50  mAP50-95)     Mask(P          R      mAP50  mAP50-95): 100%|██████████| 14/14 [00:12<00:00,  1.11it/s]"
          ]
        },
        {
          "output_type": "stream",
          "name": "stdout",
          "text": [
            "                   all       1400       3892      0.911      0.808      0.886      0.693      0.911      0.807      0.879      0.581\n"
          ]
        },
        {
          "output_type": "stream",
          "name": "stderr",
          "text": [
            "\n"
          ]
        },
        {
          "output_type": "stream",
          "name": "stdout",
          "text": [
            "\n",
            "      Epoch    GPU_mem   box_loss   seg_loss   cls_loss   dfl_loss  Instances       Size\n"
          ]
        },
        {
          "output_type": "stream",
          "name": "stderr",
          "text": [
            "     12/100      6.06G     0.7549      1.029     0.6014     0.8902         97        640: 100%|██████████| 475/475 [04:19<00:00,  1.83it/s]\n",
            "                 Class     Images  Instances      Box(P          R      mAP50  mAP50-95)     Mask(P          R      mAP50  mAP50-95): 100%|██████████| 14/14 [00:12<00:00,  1.10it/s]"
          ]
        },
        {
          "output_type": "stream",
          "name": "stdout",
          "text": [
            "                   all       1400       3892       0.91      0.825      0.892      0.698      0.911      0.817      0.885      0.584\n"
          ]
        },
        {
          "output_type": "stream",
          "name": "stderr",
          "text": [
            "\n"
          ]
        },
        {
          "output_type": "stream",
          "name": "stdout",
          "text": [
            "\n",
            "      Epoch    GPU_mem   box_loss   seg_loss   cls_loss   dfl_loss  Instances       Size\n"
          ]
        },
        {
          "output_type": "stream",
          "name": "stderr",
          "text": [
            "     13/100      6.03G     0.7477      1.025      0.592     0.8879         94        640: 100%|██████████| 475/475 [04:19<00:00,  1.83it/s]\n",
            "                 Class     Images  Instances      Box(P          R      mAP50  mAP50-95)     Mask(P          R      mAP50  mAP50-95): 100%|██████████| 14/14 [00:12<00:00,  1.11it/s]"
          ]
        },
        {
          "output_type": "stream",
          "name": "stdout",
          "text": [
            "                   all       1400       3892      0.925      0.816      0.899      0.696      0.918      0.812      0.884      0.589\n"
          ]
        },
        {
          "output_type": "stream",
          "name": "stderr",
          "text": [
            "\n"
          ]
        },
        {
          "output_type": "stream",
          "name": "stdout",
          "text": [
            "\n",
            "      Epoch    GPU_mem   box_loss   seg_loss   cls_loss   dfl_loss  Instances       Size\n"
          ]
        },
        {
          "output_type": "stream",
          "name": "stderr",
          "text": [
            "     14/100      6.13G     0.7451      1.021     0.5859     0.8875         96        640: 100%|██████████| 475/475 [04:19<00:00,  1.83it/s]\n",
            "                 Class     Images  Instances      Box(P          R      mAP50  mAP50-95)     Mask(P          R      mAP50  mAP50-95): 100%|██████████| 14/14 [00:12<00:00,  1.11it/s]"
          ]
        },
        {
          "output_type": "stream",
          "name": "stdout",
          "text": [
            "                   all       1400       3892      0.925      0.829      0.899        0.7      0.916       0.83      0.887      0.592\n"
          ]
        },
        {
          "output_type": "stream",
          "name": "stderr",
          "text": [
            "\n"
          ]
        },
        {
          "output_type": "stream",
          "name": "stdout",
          "text": [
            "\n",
            "      Epoch    GPU_mem   box_loss   seg_loss   cls_loss   dfl_loss  Instances       Size\n"
          ]
        },
        {
          "output_type": "stream",
          "name": "stderr",
          "text": [
            "     15/100      6.06G     0.7395      1.016     0.5789     0.8863         82        640: 100%|██████████| 475/475 [04:19<00:00,  1.83it/s]\n",
            "                 Class     Images  Instances      Box(P          R      mAP50  mAP50-95)     Mask(P          R      mAP50  mAP50-95): 100%|██████████| 14/14 [00:12<00:00,  1.10it/s]"
          ]
        },
        {
          "output_type": "stream",
          "name": "stdout",
          "text": [
            "                   all       1400       3892      0.916      0.836      0.902      0.701       0.92      0.828      0.893        0.6\n"
          ]
        },
        {
          "output_type": "stream",
          "name": "stderr",
          "text": [
            "\n"
          ]
        },
        {
          "output_type": "stream",
          "name": "stdout",
          "text": [
            "\n",
            "      Epoch    GPU_mem   box_loss   seg_loss   cls_loss   dfl_loss  Instances       Size\n"
          ]
        },
        {
          "output_type": "stream",
          "name": "stderr",
          "text": [
            "     16/100      6.08G     0.7381      1.013     0.5723     0.8847         84        640: 100%|██████████| 475/475 [04:19<00:00,  1.83it/s]\n",
            "                 Class     Images  Instances      Box(P          R      mAP50  mAP50-95)     Mask(P          R      mAP50  mAP50-95): 100%|██████████| 14/14 [00:12<00:00,  1.11it/s]"
          ]
        },
        {
          "output_type": "stream",
          "name": "stdout",
          "text": [
            "                   all       1400       3892      0.886      0.857      0.897      0.706      0.903      0.834      0.891        0.6\n"
          ]
        },
        {
          "output_type": "stream",
          "name": "stderr",
          "text": [
            "\n"
          ]
        },
        {
          "output_type": "stream",
          "name": "stdout",
          "text": [
            "\n",
            "      Epoch    GPU_mem   box_loss   seg_loss   cls_loss   dfl_loss  Instances       Size\n"
          ]
        },
        {
          "output_type": "stream",
          "name": "stderr",
          "text": [
            "     17/100      5.95G     0.7347      1.009     0.5687      0.883        107        640: 100%|██████████| 475/475 [04:19<00:00,  1.83it/s]\n",
            "                 Class     Images  Instances      Box(P          R      mAP50  mAP50-95)     Mask(P          R      mAP50  mAP50-95): 100%|██████████| 14/14 [00:12<00:00,  1.11it/s]"
          ]
        },
        {
          "output_type": "stream",
          "name": "stdout",
          "text": [
            "                   all       1400       3892      0.919      0.828      0.895      0.705      0.915      0.816      0.887        0.6\n"
          ]
        },
        {
          "output_type": "stream",
          "name": "stderr",
          "text": [
            "\n"
          ]
        },
        {
          "output_type": "stream",
          "name": "stdout",
          "text": [
            "\n",
            "      Epoch    GPU_mem   box_loss   seg_loss   cls_loss   dfl_loss  Instances       Size\n"
          ]
        },
        {
          "output_type": "stream",
          "name": "stderr",
          "text": [
            "     18/100      5.99G     0.7336          1     0.5632     0.8825        103        640: 100%|██████████| 475/475 [04:19<00:00,  1.83it/s]\n",
            "                 Class     Images  Instances      Box(P          R      mAP50  mAP50-95)     Mask(P          R      mAP50  mAP50-95): 100%|██████████| 14/14 [00:12<00:00,  1.10it/s]"
          ]
        },
        {
          "output_type": "stream",
          "name": "stdout",
          "text": [
            "                   all       1400       3892      0.915       0.83      0.901      0.708      0.916      0.828      0.893      0.606\n"
          ]
        },
        {
          "output_type": "stream",
          "name": "stderr",
          "text": [
            "\n"
          ]
        },
        {
          "output_type": "stream",
          "name": "stdout",
          "text": [
            "\n",
            "      Epoch    GPU_mem   box_loss   seg_loss   cls_loss   dfl_loss  Instances       Size\n"
          ]
        },
        {
          "output_type": "stream",
          "name": "stderr",
          "text": [
            "     19/100      6.13G     0.7291      1.003     0.5591     0.8811         90        640: 100%|██████████| 475/475 [04:19<00:00,  1.83it/s]\n",
            "                 Class     Images  Instances      Box(P          R      mAP50  mAP50-95)     Mask(P          R      mAP50  mAP50-95): 100%|██████████| 14/14 [00:12<00:00,  1.11it/s]"
          ]
        },
        {
          "output_type": "stream",
          "name": "stdout",
          "text": [
            "                   all       1400       3892      0.887       0.85      0.902       0.71      0.896      0.841      0.891      0.598\n"
          ]
        },
        {
          "output_type": "stream",
          "name": "stderr",
          "text": [
            "\n"
          ]
        },
        {
          "output_type": "stream",
          "name": "stdout",
          "text": [
            "\n",
            "      Epoch    GPU_mem   box_loss   seg_loss   cls_loss   dfl_loss  Instances       Size\n"
          ]
        },
        {
          "output_type": "stream",
          "name": "stderr",
          "text": [
            "     20/100      5.96G     0.7269      1.003     0.5511     0.8814         63        640: 100%|██████████| 475/475 [04:19<00:00,  1.83it/s]\n",
            "                 Class     Images  Instances      Box(P          R      mAP50  mAP50-95)     Mask(P          R      mAP50  mAP50-95): 100%|██████████| 14/14 [00:12<00:00,  1.10it/s]"
          ]
        },
        {
          "output_type": "stream",
          "name": "stdout",
          "text": [
            "                   all       1400       3892      0.892      0.863      0.906       0.71      0.887      0.857      0.894      0.604\n"
          ]
        },
        {
          "output_type": "stream",
          "name": "stderr",
          "text": [
            "\n"
          ]
        },
        {
          "output_type": "stream",
          "name": "stdout",
          "text": [
            "\n",
            "      Epoch    GPU_mem   box_loss   seg_loss   cls_loss   dfl_loss  Instances       Size\n"
          ]
        },
        {
          "output_type": "stream",
          "name": "stderr",
          "text": [
            "     21/100      5.97G     0.7263      0.998     0.5489     0.8793        105        640: 100%|██████████| 475/475 [04:20<00:00,  1.82it/s]\n",
            "                 Class     Images  Instances      Box(P          R      mAP50  mAP50-95)     Mask(P          R      mAP50  mAP50-95): 100%|██████████| 14/14 [00:12<00:00,  1.10it/s]"
          ]
        },
        {
          "output_type": "stream",
          "name": "stdout",
          "text": [
            "                   all       1400       3892      0.903       0.86      0.901      0.711      0.906       0.85      0.895      0.603\n"
          ]
        },
        {
          "output_type": "stream",
          "name": "stderr",
          "text": [
            "\n"
          ]
        },
        {
          "output_type": "stream",
          "name": "stdout",
          "text": [
            "\n",
            "      Epoch    GPU_mem   box_loss   seg_loss   cls_loss   dfl_loss  Instances       Size\n"
          ]
        },
        {
          "output_type": "stream",
          "name": "stderr",
          "text": [
            "     22/100         6G     0.7204     0.9906     0.5435     0.8786         69        640: 100%|██████████| 475/475 [04:20<00:00,  1.83it/s]\n",
            "                 Class     Images  Instances      Box(P          R      mAP50  mAP50-95)     Mask(P          R      mAP50  mAP50-95): 100%|██████████| 14/14 [00:12<00:00,  1.09it/s]"
          ]
        },
        {
          "output_type": "stream",
          "name": "stdout",
          "text": [
            "                   all       1400       3892      0.898      0.856      0.904      0.715      0.895       0.85      0.893      0.607\n"
          ]
        },
        {
          "output_type": "stream",
          "name": "stderr",
          "text": [
            "\n"
          ]
        },
        {
          "output_type": "stream",
          "name": "stdout",
          "text": [
            "\n",
            "      Epoch    GPU_mem   box_loss   seg_loss   cls_loss   dfl_loss  Instances       Size\n"
          ]
        },
        {
          "output_type": "stream",
          "name": "stderr",
          "text": [
            "     23/100      6.04G     0.7193     0.9913     0.5423      0.879         96        640: 100%|██████████| 475/475 [04:19<00:00,  1.83it/s]\n",
            "                 Class     Images  Instances      Box(P          R      mAP50  mAP50-95)     Mask(P          R      mAP50  mAP50-95): 100%|██████████| 14/14 [00:12<00:00,  1.10it/s]"
          ]
        },
        {
          "output_type": "stream",
          "name": "stdout",
          "text": [
            "                   all       1400       3892      0.889      0.862      0.903      0.714      0.895      0.847      0.893      0.608\n"
          ]
        },
        {
          "output_type": "stream",
          "name": "stderr",
          "text": [
            "\n"
          ]
        },
        {
          "output_type": "stream",
          "name": "stdout",
          "text": [
            "\n",
            "      Epoch    GPU_mem   box_loss   seg_loss   cls_loss   dfl_loss  Instances       Size\n"
          ]
        },
        {
          "output_type": "stream",
          "name": "stderr",
          "text": [
            "     24/100       6.1G     0.7162     0.9868     0.5359      0.877         89        640: 100%|██████████| 475/475 [04:20<00:00,  1.83it/s]\n",
            "                 Class     Images  Instances      Box(P          R      mAP50  mAP50-95)     Mask(P          R      mAP50  mAP50-95): 100%|██████████| 14/14 [00:12<00:00,  1.09it/s]"
          ]
        },
        {
          "output_type": "stream",
          "name": "stdout",
          "text": [
            "                   all       1400       3892      0.887      0.869        0.9      0.712      0.888      0.863      0.893      0.602\n"
          ]
        },
        {
          "output_type": "stream",
          "name": "stderr",
          "text": [
            "\n"
          ]
        },
        {
          "output_type": "stream",
          "name": "stdout",
          "text": [
            "\n",
            "      Epoch    GPU_mem   box_loss   seg_loss   cls_loss   dfl_loss  Instances       Size\n"
          ]
        },
        {
          "output_type": "stream",
          "name": "stderr",
          "text": [
            "     25/100      6.09G     0.7153     0.9855     0.5323     0.8776        110        640: 100%|██████████| 475/475 [04:20<00:00,  1.83it/s]\n",
            "                 Class     Images  Instances      Box(P          R      mAP50  mAP50-95)     Mask(P          R      mAP50  mAP50-95): 100%|██████████| 14/14 [00:12<00:00,  1.09it/s]"
          ]
        },
        {
          "output_type": "stream",
          "name": "stdout",
          "text": [
            "                   all       1400       3892      0.891      0.855      0.901      0.714      0.891      0.848      0.893      0.605\n"
          ]
        },
        {
          "output_type": "stream",
          "name": "stderr",
          "text": [
            "\n"
          ]
        },
        {
          "output_type": "stream",
          "name": "stdout",
          "text": [
            "\n",
            "      Epoch    GPU_mem   box_loss   seg_loss   cls_loss   dfl_loss  Instances       Size\n"
          ]
        },
        {
          "output_type": "stream",
          "name": "stderr",
          "text": [
            "     26/100       6.1G      0.715     0.9826     0.5321     0.8762        119        640: 100%|██████████| 475/475 [04:20<00:00,  1.82it/s]\n",
            "                 Class     Images  Instances      Box(P          R      mAP50  mAP50-95)     Mask(P          R      mAP50  mAP50-95): 100%|██████████| 14/14 [00:12<00:00,  1.10it/s]"
          ]
        },
        {
          "output_type": "stream",
          "name": "stdout",
          "text": [
            "                   all       1400       3892      0.898      0.853      0.901      0.713      0.889      0.851      0.894      0.608\n"
          ]
        },
        {
          "output_type": "stream",
          "name": "stderr",
          "text": [
            "\n"
          ]
        },
        {
          "output_type": "stream",
          "name": "stdout",
          "text": [
            "\n",
            "      Epoch    GPU_mem   box_loss   seg_loss   cls_loss   dfl_loss  Instances       Size\n"
          ]
        },
        {
          "output_type": "stream",
          "name": "stderr",
          "text": [
            "     27/100      5.93G      0.711     0.9793     0.5254     0.8755        125        640: 100%|██████████| 475/475 [04:19<00:00,  1.83it/s]\n",
            "                 Class     Images  Instances      Box(P          R      mAP50  mAP50-95)     Mask(P          R      mAP50  mAP50-95): 100%|██████████| 14/14 [00:12<00:00,  1.10it/s]"
          ]
        },
        {
          "output_type": "stream",
          "name": "stdout",
          "text": [
            "                   all       1400       3892      0.912      0.844      0.903      0.717      0.911      0.835      0.896      0.609\n"
          ]
        },
        {
          "output_type": "stream",
          "name": "stderr",
          "text": [
            "\n"
          ]
        },
        {
          "output_type": "stream",
          "name": "stdout",
          "text": [
            "\n",
            "      Epoch    GPU_mem   box_loss   seg_loss   cls_loss   dfl_loss  Instances       Size\n"
          ]
        },
        {
          "output_type": "stream",
          "name": "stderr",
          "text": [
            "     28/100      6.06G     0.7102     0.9749     0.5251     0.8761         79        640: 100%|██████████| 475/475 [04:19<00:00,  1.83it/s]\n",
            "                 Class     Images  Instances      Box(P          R      mAP50  mAP50-95)     Mask(P          R      mAP50  mAP50-95): 100%|██████████| 14/14 [00:12<00:00,  1.09it/s]"
          ]
        },
        {
          "output_type": "stream",
          "name": "stdout",
          "text": [
            "                   all       1400       3892      0.916      0.842      0.903      0.719       0.91      0.837      0.897       0.61\n"
          ]
        },
        {
          "output_type": "stream",
          "name": "stderr",
          "text": [
            "\n"
          ]
        },
        {
          "output_type": "stream",
          "name": "stdout",
          "text": [
            "\n",
            "      Epoch    GPU_mem   box_loss   seg_loss   cls_loss   dfl_loss  Instances       Size\n"
          ]
        },
        {
          "output_type": "stream",
          "name": "stderr",
          "text": [
            "     29/100      6.01G     0.7107      0.975     0.5205     0.8748        109        640: 100%|██████████| 475/475 [04:20<00:00,  1.82it/s]\n",
            "                 Class     Images  Instances      Box(P          R      mAP50  mAP50-95)     Mask(P          R      mAP50  mAP50-95): 100%|██████████| 14/14 [00:12<00:00,  1.10it/s]"
          ]
        },
        {
          "output_type": "stream",
          "name": "stdout",
          "text": [
            "                   all       1400       3892      0.915      0.848      0.906      0.724      0.916       0.84      0.899      0.613\n"
          ]
        },
        {
          "output_type": "stream",
          "name": "stderr",
          "text": [
            "\n"
          ]
        },
        {
          "output_type": "stream",
          "name": "stdout",
          "text": [
            "\n",
            "      Epoch    GPU_mem   box_loss   seg_loss   cls_loss   dfl_loss  Instances       Size\n"
          ]
        },
        {
          "output_type": "stream",
          "name": "stderr",
          "text": [
            "     30/100      6.08G     0.7078     0.9702     0.5194     0.8755         77        640: 100%|██████████| 475/475 [04:19<00:00,  1.83it/s]\n",
            "                 Class     Images  Instances      Box(P          R      mAP50  mAP50-95)     Mask(P          R      mAP50  mAP50-95): 100%|██████████| 14/14 [00:12<00:00,  1.09it/s]"
          ]
        },
        {
          "output_type": "stream",
          "name": "stdout",
          "text": [
            "                   all       1400       3892       0.92      0.842      0.904      0.722      0.919      0.842      0.899      0.612\n"
          ]
        },
        {
          "output_type": "stream",
          "name": "stderr",
          "text": [
            "\n"
          ]
        },
        {
          "output_type": "stream",
          "name": "stdout",
          "text": [
            "\n",
            "      Epoch    GPU_mem   box_loss   seg_loss   cls_loss   dfl_loss  Instances       Size\n"
          ]
        },
        {
          "output_type": "stream",
          "name": "stderr",
          "text": [
            "     31/100      6.12G     0.7064     0.9714     0.5177     0.8753        122        640: 100%|██████████| 475/475 [04:19<00:00,  1.83it/s]\n",
            "                 Class     Images  Instances      Box(P          R      mAP50  mAP50-95)     Mask(P          R      mAP50  mAP50-95): 100%|██████████| 14/14 [00:12<00:00,  1.09it/s]"
          ]
        },
        {
          "output_type": "stream",
          "name": "stdout",
          "text": [
            "                   all       1400       3892      0.925      0.842      0.906      0.722      0.927      0.837      0.899      0.612\n"
          ]
        },
        {
          "output_type": "stream",
          "name": "stderr",
          "text": [
            "\n"
          ]
        },
        {
          "output_type": "stream",
          "name": "stdout",
          "text": [
            "\n",
            "      Epoch    GPU_mem   box_loss   seg_loss   cls_loss   dfl_loss  Instances       Size\n"
          ]
        },
        {
          "output_type": "stream",
          "name": "stderr",
          "text": [
            "     32/100      6.04G      0.705      0.973     0.5143     0.8729         89        640: 100%|██████████| 475/475 [04:20<00:00,  1.83it/s]\n",
            "                 Class     Images  Instances      Box(P          R      mAP50  mAP50-95)     Mask(P          R      mAP50  mAP50-95): 100%|██████████| 14/14 [00:12<00:00,  1.10it/s]"
          ]
        },
        {
          "output_type": "stream",
          "name": "stdout",
          "text": [
            "                   all       1400       3892      0.928       0.84      0.907      0.724      0.929      0.834      0.899      0.614\n"
          ]
        },
        {
          "output_type": "stream",
          "name": "stderr",
          "text": [
            "\n"
          ]
        },
        {
          "output_type": "stream",
          "name": "stdout",
          "text": [
            "\n",
            "      Epoch    GPU_mem   box_loss   seg_loss   cls_loss   dfl_loss  Instances       Size\n"
          ]
        },
        {
          "output_type": "stream",
          "name": "stderr",
          "text": [
            "     33/100      6.06G     0.7013     0.9658     0.5122     0.8723        145        640: 100%|██████████| 475/475 [04:20<00:00,  1.83it/s]\n",
            "                 Class     Images  Instances      Box(P          R      mAP50  mAP50-95)     Mask(P          R      mAP50  mAP50-95): 100%|██████████| 14/14 [00:12<00:00,  1.09it/s]"
          ]
        },
        {
          "output_type": "stream",
          "name": "stdout",
          "text": [
            "                   all       1400       3892      0.924      0.843      0.906      0.724      0.933      0.832        0.9      0.614\n"
          ]
        },
        {
          "output_type": "stream",
          "name": "stderr",
          "text": [
            "\n"
          ]
        },
        {
          "output_type": "stream",
          "name": "stdout",
          "text": [
            "\n",
            "      Epoch    GPU_mem   box_loss   seg_loss   cls_loss   dfl_loss  Instances       Size\n"
          ]
        },
        {
          "output_type": "stream",
          "name": "stderr",
          "text": [
            "     34/100         6G     0.7022     0.9686     0.5105     0.8734        103        640: 100%|██████████| 475/475 [04:20<00:00,  1.83it/s]\n",
            "                 Class     Images  Instances      Box(P          R      mAP50  mAP50-95)     Mask(P          R      mAP50  mAP50-95): 100%|██████████| 14/14 [00:12<00:00,  1.09it/s]"
          ]
        },
        {
          "output_type": "stream",
          "name": "stdout",
          "text": [
            "                   all       1400       3892      0.915      0.852      0.908      0.724      0.913      0.843        0.9      0.614\n"
          ]
        },
        {
          "output_type": "stream",
          "name": "stderr",
          "text": [
            "\n"
          ]
        },
        {
          "output_type": "stream",
          "name": "stdout",
          "text": [
            "\n",
            "      Epoch    GPU_mem   box_loss   seg_loss   cls_loss   dfl_loss  Instances       Size\n"
          ]
        },
        {
          "output_type": "stream",
          "name": "stderr",
          "text": [
            "     35/100      6.12G     0.6992     0.9676     0.5078     0.8728         92        640: 100%|██████████| 475/475 [04:19<00:00,  1.83it/s]\n",
            "                 Class     Images  Instances      Box(P          R      mAP50  mAP50-95)     Mask(P          R      mAP50  mAP50-95): 100%|██████████| 14/14 [00:12<00:00,  1.11it/s]"
          ]
        },
        {
          "output_type": "stream",
          "name": "stdout",
          "text": [
            "                   all       1400       3892      0.917      0.852      0.907      0.724       0.92      0.841        0.9      0.615\n"
          ]
        },
        {
          "output_type": "stream",
          "name": "stderr",
          "text": [
            "\n"
          ]
        },
        {
          "output_type": "stream",
          "name": "stdout",
          "text": [
            "\n",
            "      Epoch    GPU_mem   box_loss   seg_loss   cls_loss   dfl_loss  Instances       Size\n"
          ]
        },
        {
          "output_type": "stream",
          "name": "stderr",
          "text": [
            "     36/100      6.14G     0.6967     0.9593     0.5043     0.8713        124        640: 100%|██████████| 475/475 [04:18<00:00,  1.84it/s]\n",
            "                 Class     Images  Instances      Box(P          R      mAP50  mAP50-95)     Mask(P          R      mAP50  mAP50-95): 100%|██████████| 14/14 [00:12<00:00,  1.11it/s]"
          ]
        },
        {
          "output_type": "stream",
          "name": "stdout",
          "text": [
            "                   all       1400       3892      0.925      0.846      0.909      0.724      0.921       0.84        0.9      0.615\n"
          ]
        },
        {
          "output_type": "stream",
          "name": "stderr",
          "text": [
            "\n"
          ]
        },
        {
          "output_type": "stream",
          "name": "stdout",
          "text": [
            "\n",
            "      Epoch    GPU_mem   box_loss   seg_loss   cls_loss   dfl_loss  Instances       Size\n"
          ]
        },
        {
          "output_type": "stream",
          "name": "stderr",
          "text": [
            "     37/100      6.16G      0.697     0.9599     0.5036     0.8719         80        640: 100%|██████████| 475/475 [04:19<00:00,  1.83it/s]\n",
            "                 Class     Images  Instances      Box(P          R      mAP50  mAP50-95)     Mask(P          R      mAP50  mAP50-95): 100%|██████████| 14/14 [00:12<00:00,  1.09it/s]"
          ]
        },
        {
          "output_type": "stream",
          "name": "stdout",
          "text": [
            "                   all       1400       3892      0.926      0.844      0.908      0.724      0.924      0.837        0.9      0.616\n"
          ]
        },
        {
          "output_type": "stream",
          "name": "stderr",
          "text": [
            "\n"
          ]
        },
        {
          "output_type": "stream",
          "name": "stdout",
          "text": [
            "\n",
            "      Epoch    GPU_mem   box_loss   seg_loss   cls_loss   dfl_loss  Instances       Size\n"
          ]
        },
        {
          "output_type": "stream",
          "name": "stderr",
          "text": [
            "     38/100      6.06G     0.6929     0.9544        0.5     0.8701         84        640: 100%|██████████| 475/475 [04:18<00:00,  1.83it/s]\n",
            "                 Class     Images  Instances      Box(P          R      mAP50  mAP50-95)     Mask(P          R      mAP50  mAP50-95): 100%|██████████| 14/14 [00:12<00:00,  1.12it/s]"
          ]
        },
        {
          "output_type": "stream",
          "name": "stdout",
          "text": [
            "                   all       1400       3892      0.922      0.845      0.909      0.726      0.922      0.838        0.9      0.616\n"
          ]
        },
        {
          "output_type": "stream",
          "name": "stderr",
          "text": [
            "\n"
          ]
        },
        {
          "output_type": "stream",
          "name": "stdout",
          "text": [
            "\n",
            "      Epoch    GPU_mem   box_loss   seg_loss   cls_loss   dfl_loss  Instances       Size\n"
          ]
        },
        {
          "output_type": "stream",
          "name": "stderr",
          "text": [
            "     39/100       6.1G      0.691     0.9567      0.498     0.8696        121        640: 100%|██████████| 475/475 [04:19<00:00,  1.83it/s]\n",
            "                 Class     Images  Instances      Box(P          R      mAP50  mAP50-95)     Mask(P          R      mAP50  mAP50-95): 100%|██████████| 14/14 [00:12<00:00,  1.10it/s]"
          ]
        },
        {
          "output_type": "stream",
          "name": "stdout",
          "text": [
            "                   all       1400       3892      0.919      0.848       0.91      0.726      0.926      0.836        0.9      0.617\n"
          ]
        },
        {
          "output_type": "stream",
          "name": "stderr",
          "text": [
            "\n"
          ]
        },
        {
          "output_type": "stream",
          "name": "stdout",
          "text": [
            "\n",
            "      Epoch    GPU_mem   box_loss   seg_loss   cls_loss   dfl_loss  Instances       Size\n"
          ]
        },
        {
          "output_type": "stream",
          "name": "stderr",
          "text": [
            "     40/100       5.9G     0.6906     0.9598     0.4967     0.8705         92        640: 100%|██████████| 475/475 [04:20<00:00,  1.83it/s]\n",
            "                 Class     Images  Instances      Box(P          R      mAP50  mAP50-95)     Mask(P          R      mAP50  mAP50-95): 100%|██████████| 14/14 [00:12<00:00,  1.09it/s]"
          ]
        },
        {
          "output_type": "stream",
          "name": "stdout",
          "text": [
            "                   all       1400       3892      0.915      0.849       0.91      0.726      0.922      0.836        0.9      0.615\n"
          ]
        },
        {
          "output_type": "stream",
          "name": "stderr",
          "text": [
            "\n"
          ]
        },
        {
          "output_type": "stream",
          "name": "stdout",
          "text": [
            "\n",
            "      Epoch    GPU_mem   box_loss   seg_loss   cls_loss   dfl_loss  Instances       Size\n"
          ]
        },
        {
          "output_type": "stream",
          "name": "stderr",
          "text": [
            "     41/100      5.83G     0.6881      0.953     0.4938     0.8704        111        640: 100%|██████████| 475/475 [04:19<00:00,  1.83it/s]\n",
            "                 Class     Images  Instances      Box(P          R      mAP50  mAP50-95)     Mask(P          R      mAP50  mAP50-95): 100%|██████████| 14/14 [00:12<00:00,  1.10it/s]"
          ]
        },
        {
          "output_type": "stream",
          "name": "stdout",
          "text": [
            "                   all       1400       3892      0.912      0.849      0.909      0.725      0.916      0.839      0.899      0.615\n"
          ]
        },
        {
          "output_type": "stream",
          "name": "stderr",
          "text": [
            "\n"
          ]
        },
        {
          "output_type": "stream",
          "name": "stdout",
          "text": [
            "\n",
            "      Epoch    GPU_mem   box_loss   seg_loss   cls_loss   dfl_loss  Instances       Size\n"
          ]
        },
        {
          "output_type": "stream",
          "name": "stderr",
          "text": [
            "     42/100      5.87G     0.6825     0.9456     0.4893     0.8669         67        640: 100%|██████████| 475/475 [04:19<00:00,  1.83it/s]\n",
            "                 Class     Images  Instances      Box(P          R      mAP50  mAP50-95)     Mask(P          R      mAP50  mAP50-95): 100%|██████████| 14/14 [00:12<00:00,  1.10it/s]"
          ]
        },
        {
          "output_type": "stream",
          "name": "stdout",
          "text": [
            "                   all       1400       3892      0.907      0.852      0.909      0.725      0.911      0.843      0.898      0.616\n"
          ]
        },
        {
          "output_type": "stream",
          "name": "stderr",
          "text": [
            "\n"
          ]
        },
        {
          "output_type": "stream",
          "name": "stdout",
          "text": [
            "\n",
            "      Epoch    GPU_mem   box_loss   seg_loss   cls_loss   dfl_loss  Instances       Size\n"
          ]
        },
        {
          "output_type": "stream",
          "name": "stderr",
          "text": [
            "     43/100      6.07G     0.6857     0.9532     0.4903     0.8688        106        640: 100%|██████████| 475/475 [04:19<00:00,  1.83it/s]\n",
            "                 Class     Images  Instances      Box(P          R      mAP50  mAP50-95)     Mask(P          R      mAP50  mAP50-95): 100%|██████████| 14/14 [00:12<00:00,  1.09it/s]"
          ]
        },
        {
          "output_type": "stream",
          "name": "stdout",
          "text": [
            "                   all       1400       3892      0.906      0.853      0.908      0.725       0.91      0.845      0.899      0.617\n"
          ]
        },
        {
          "output_type": "stream",
          "name": "stderr",
          "text": [
            "\n"
          ]
        },
        {
          "output_type": "stream",
          "name": "stdout",
          "text": [
            "\n",
            "      Epoch    GPU_mem   box_loss   seg_loss   cls_loss   dfl_loss  Instances       Size\n"
          ]
        },
        {
          "output_type": "stream",
          "name": "stderr",
          "text": [
            "     44/100      5.96G     0.6823     0.9464     0.4864     0.8677         92        640: 100%|██████████| 475/475 [04:19<00:00,  1.83it/s]\n",
            "                 Class     Images  Instances      Box(P          R      mAP50  mAP50-95)     Mask(P          R      mAP50  mAP50-95): 100%|██████████| 14/14 [00:12<00:00,  1.11it/s]"
          ]
        },
        {
          "output_type": "stream",
          "name": "stdout",
          "text": [
            "                   all       1400       3892       0.91      0.851      0.909      0.726      0.907      0.847      0.898      0.617\n"
          ]
        },
        {
          "output_type": "stream",
          "name": "stderr",
          "text": [
            "\n"
          ]
        },
        {
          "output_type": "stream",
          "name": "stdout",
          "text": [
            "\n",
            "      Epoch    GPU_mem   box_loss   seg_loss   cls_loss   dfl_loss  Instances       Size\n"
          ]
        },
        {
          "output_type": "stream",
          "name": "stderr",
          "text": [
            "     45/100      6.07G     0.6797     0.9444     0.4838     0.8656        101        640: 100%|██████████| 475/475 [04:19<00:00,  1.83it/s]\n",
            "                 Class     Images  Instances      Box(P          R      mAP50  mAP50-95)     Mask(P          R      mAP50  mAP50-95): 100%|██████████| 14/14 [00:12<00:00,  1.10it/s]"
          ]
        },
        {
          "output_type": "stream",
          "name": "stdout",
          "text": [
            "                   all       1400       3892      0.908      0.852      0.909      0.727      0.905      0.848      0.899      0.617\n"
          ]
        },
        {
          "output_type": "stream",
          "name": "stderr",
          "text": [
            "\n"
          ]
        },
        {
          "output_type": "stream",
          "name": "stdout",
          "text": [
            "\n",
            "      Epoch    GPU_mem   box_loss   seg_loss   cls_loss   dfl_loss  Instances       Size\n"
          ]
        },
        {
          "output_type": "stream",
          "name": "stderr",
          "text": [
            "     46/100       6.1G     0.6814     0.9453     0.4843     0.8676         91        640: 100%|██████████| 475/475 [04:18<00:00,  1.83it/s]\n",
            "                 Class     Images  Instances      Box(P          R      mAP50  mAP50-95)     Mask(P          R      mAP50  mAP50-95): 100%|██████████| 14/14 [00:12<00:00,  1.11it/s]"
          ]
        },
        {
          "output_type": "stream",
          "name": "stdout",
          "text": [
            "                   all       1400       3892      0.909      0.853      0.909      0.727       0.91      0.846      0.898      0.618\n"
          ]
        },
        {
          "output_type": "stream",
          "name": "stderr",
          "text": [
            "\n"
          ]
        },
        {
          "output_type": "stream",
          "name": "stdout",
          "text": [
            "\n",
            "      Epoch    GPU_mem   box_loss   seg_loss   cls_loss   dfl_loss  Instances       Size\n"
          ]
        },
        {
          "output_type": "stream",
          "name": "stderr",
          "text": [
            "     47/100         6G     0.6804     0.9406     0.4812     0.8664        102        640: 100%|██████████| 475/475 [04:19<00:00,  1.83it/s]\n",
            "                 Class     Images  Instances      Box(P          R      mAP50  mAP50-95)     Mask(P          R      mAP50  mAP50-95): 100%|██████████| 14/14 [00:12<00:00,  1.10it/s]"
          ]
        },
        {
          "output_type": "stream",
          "name": "stdout",
          "text": [
            "                   all       1400       3892      0.908      0.855      0.909      0.727      0.905       0.85      0.899      0.618\n"
          ]
        },
        {
          "output_type": "stream",
          "name": "stderr",
          "text": [
            "\n"
          ]
        },
        {
          "output_type": "stream",
          "name": "stdout",
          "text": [
            "\n",
            "      Epoch    GPU_mem   box_loss   seg_loss   cls_loss   dfl_loss  Instances       Size\n"
          ]
        },
        {
          "output_type": "stream",
          "name": "stderr",
          "text": [
            "     48/100         6G     0.6776     0.9423     0.4784     0.8667         64        640: 100%|██████████| 475/475 [04:18<00:00,  1.84it/s]\n",
            "                 Class     Images  Instances      Box(P          R      mAP50  mAP50-95)     Mask(P          R      mAP50  mAP50-95): 100%|██████████| 14/14 [00:12<00:00,  1.12it/s]"
          ]
        },
        {
          "output_type": "stream",
          "name": "stdout",
          "text": [
            "                   all       1400       3892      0.903       0.86      0.909      0.728      0.905      0.849      0.899      0.618\n"
          ]
        },
        {
          "output_type": "stream",
          "name": "stderr",
          "text": [
            "\n"
          ]
        },
        {
          "output_type": "stream",
          "name": "stdout",
          "text": [
            "\n",
            "      Epoch    GPU_mem   box_loss   seg_loss   cls_loss   dfl_loss  Instances       Size\n"
          ]
        },
        {
          "output_type": "stream",
          "name": "stderr",
          "text": [
            "     49/100      5.99G      0.674     0.9393     0.4752     0.8643        110        640: 100%|██████████| 475/475 [04:19<00:00,  1.83it/s]\n",
            "                 Class     Images  Instances      Box(P          R      mAP50  mAP50-95)     Mask(P          R      mAP50  mAP50-95): 100%|██████████| 14/14 [00:12<00:00,  1.10it/s]"
          ]
        },
        {
          "output_type": "stream",
          "name": "stdout",
          "text": [
            "                   all       1400       3892        0.9      0.862      0.909      0.728      0.902      0.851      0.899      0.618\n"
          ]
        },
        {
          "output_type": "stream",
          "name": "stderr",
          "text": [
            "\n"
          ]
        },
        {
          "output_type": "stream",
          "name": "stdout",
          "text": [
            "\n",
            "      Epoch    GPU_mem   box_loss   seg_loss   cls_loss   dfl_loss  Instances       Size\n"
          ]
        },
        {
          "output_type": "stream",
          "name": "stderr",
          "text": [
            "     50/100      6.08G     0.6739     0.9414      0.476     0.8656         95        640: 100%|██████████| 475/475 [04:18<00:00,  1.83it/s]\n",
            "                 Class     Images  Instances      Box(P          R      mAP50  mAP50-95)     Mask(P          R      mAP50  mAP50-95): 100%|██████████| 14/14 [00:12<00:00,  1.11it/s]"
          ]
        },
        {
          "output_type": "stream",
          "name": "stdout",
          "text": [
            "                   all       1400       3892      0.904       0.86      0.909      0.728      0.905       0.85      0.899      0.618\n"
          ]
        },
        {
          "output_type": "stream",
          "name": "stderr",
          "text": [
            "\n"
          ]
        },
        {
          "output_type": "stream",
          "name": "stdout",
          "text": [
            "\n",
            "      Epoch    GPU_mem   box_loss   seg_loss   cls_loss   dfl_loss  Instances       Size\n"
          ]
        },
        {
          "output_type": "stream",
          "name": "stderr",
          "text": [
            "     51/100      6.15G     0.6732     0.9348     0.4735     0.8658        113        640: 100%|██████████| 475/475 [04:19<00:00,  1.83it/s]\n",
            "                 Class     Images  Instances      Box(P          R      mAP50  mAP50-95)     Mask(P          R      mAP50  mAP50-95): 100%|██████████| 14/14 [00:12<00:00,  1.10it/s]"
          ]
        },
        {
          "output_type": "stream",
          "name": "stdout",
          "text": [
            "                   all       1400       3892      0.905      0.861      0.909      0.729      0.908      0.849      0.899      0.618\n"
          ]
        },
        {
          "output_type": "stream",
          "name": "stderr",
          "text": [
            "\n"
          ]
        },
        {
          "output_type": "stream",
          "name": "stdout",
          "text": [
            "\n",
            "      Epoch    GPU_mem   box_loss   seg_loss   cls_loss   dfl_loss  Instances       Size\n"
          ]
        },
        {
          "output_type": "stream",
          "name": "stderr",
          "text": [
            "     52/100      6.07G     0.6738     0.9393     0.4749     0.8658        106        640: 100%|██████████| 475/475 [04:19<00:00,  1.83it/s]\n",
            "                 Class     Images  Instances      Box(P          R      mAP50  mAP50-95)     Mask(P          R      mAP50  mAP50-95): 100%|██████████| 14/14 [00:12<00:00,  1.11it/s]"
          ]
        },
        {
          "output_type": "stream",
          "name": "stdout",
          "text": [
            "                   all       1400       3892      0.906       0.86      0.909      0.729      0.907       0.85      0.899      0.619\n"
          ]
        },
        {
          "output_type": "stream",
          "name": "stderr",
          "text": [
            "\n"
          ]
        },
        {
          "output_type": "stream",
          "name": "stdout",
          "text": [
            "\n",
            "      Epoch    GPU_mem   box_loss   seg_loss   cls_loss   dfl_loss  Instances       Size\n"
          ]
        },
        {
          "output_type": "stream",
          "name": "stderr",
          "text": [
            "     53/100      6.17G     0.6672     0.9276     0.4684     0.8645         95        640: 100%|██████████| 475/475 [04:19<00:00,  1.83it/s]\n",
            "                 Class     Images  Instances      Box(P          R      mAP50  mAP50-95)     Mask(P          R      mAP50  mAP50-95): 100%|██████████| 14/14 [00:12<00:00,  1.11it/s]"
          ]
        },
        {
          "output_type": "stream",
          "name": "stdout",
          "text": [
            "                   all       1400       3892      0.903      0.862      0.909      0.729      0.907      0.849      0.899      0.619\n"
          ]
        },
        {
          "output_type": "stream",
          "name": "stderr",
          "text": [
            "\n"
          ]
        },
        {
          "output_type": "stream",
          "name": "stdout",
          "text": [
            "\n",
            "      Epoch    GPU_mem   box_loss   seg_loss   cls_loss   dfl_loss  Instances       Size\n"
          ]
        },
        {
          "output_type": "stream",
          "name": "stderr",
          "text": [
            "     54/100      6.02G     0.6655     0.9267     0.4673     0.8629         78        640: 100%|██████████| 475/475 [04:18<00:00,  1.83it/s]\n",
            "                 Class     Images  Instances      Box(P          R      mAP50  mAP50-95)     Mask(P          R      mAP50  mAP50-95): 100%|██████████| 14/14 [00:12<00:00,  1.10it/s]"
          ]
        },
        {
          "output_type": "stream",
          "name": "stdout",
          "text": [
            "                   all       1400       3892      0.903      0.863      0.909      0.729      0.907      0.849        0.9      0.618\n"
          ]
        },
        {
          "output_type": "stream",
          "name": "stderr",
          "text": [
            "\n"
          ]
        },
        {
          "output_type": "stream",
          "name": "stdout",
          "text": [
            "\n",
            "      Epoch    GPU_mem   box_loss   seg_loss   cls_loss   dfl_loss  Instances       Size\n"
          ]
        },
        {
          "output_type": "stream",
          "name": "stderr",
          "text": [
            "     55/100      6.13G     0.6653     0.9283     0.4658     0.8635         92        640: 100%|██████████| 475/475 [04:19<00:00,  1.83it/s]\n",
            "                 Class     Images  Instances      Box(P          R      mAP50  mAP50-95)     Mask(P          R      mAP50  mAP50-95): 100%|██████████| 14/14 [00:12<00:00,  1.11it/s]"
          ]
        },
        {
          "output_type": "stream",
          "name": "stdout",
          "text": [
            "                   all       1400       3892      0.903      0.863      0.908       0.73      0.908      0.849        0.9      0.619\n"
          ]
        },
        {
          "output_type": "stream",
          "name": "stderr",
          "text": [
            "\n"
          ]
        },
        {
          "output_type": "stream",
          "name": "stdout",
          "text": [
            "\n",
            "      Epoch    GPU_mem   box_loss   seg_loss   cls_loss   dfl_loss  Instances       Size\n"
          ]
        },
        {
          "output_type": "stream",
          "name": "stderr",
          "text": [
            "     56/100      5.93G     0.6657     0.9209     0.4655     0.8634         74        640: 100%|██████████| 475/475 [04:19<00:00,  1.83it/s]\n",
            "                 Class     Images  Instances      Box(P          R      mAP50  mAP50-95)     Mask(P          R      mAP50  mAP50-95): 100%|██████████| 14/14 [00:12<00:00,  1.10it/s]"
          ]
        },
        {
          "output_type": "stream",
          "name": "stdout",
          "text": [
            "                   all       1400       3892      0.904      0.865      0.908      0.729      0.906      0.851        0.9      0.619\n"
          ]
        },
        {
          "output_type": "stream",
          "name": "stderr",
          "text": [
            "\n"
          ]
        },
        {
          "output_type": "stream",
          "name": "stdout",
          "text": [
            "\n",
            "      Epoch    GPU_mem   box_loss   seg_loss   cls_loss   dfl_loss  Instances       Size\n"
          ]
        },
        {
          "output_type": "stream",
          "name": "stderr",
          "text": [
            "     57/100      6.05G     0.6639     0.9246     0.4618     0.8626        129        640: 100%|██████████| 475/475 [04:19<00:00,  1.83it/s]\n",
            "                 Class     Images  Instances      Box(P          R      mAP50  mAP50-95)     Mask(P          R      mAP50  mAP50-95): 100%|██████████| 14/14 [00:12<00:00,  1.10it/s]"
          ]
        },
        {
          "output_type": "stream",
          "name": "stdout",
          "text": [
            "                   all       1400       3892      0.905      0.863       0.91       0.73      0.909      0.851        0.9      0.619\n"
          ]
        },
        {
          "output_type": "stream",
          "name": "stderr",
          "text": [
            "\n"
          ]
        },
        {
          "output_type": "stream",
          "name": "stdout",
          "text": [
            "\n",
            "      Epoch    GPU_mem   box_loss   seg_loss   cls_loss   dfl_loss  Instances       Size\n"
          ]
        },
        {
          "output_type": "stream",
          "name": "stderr",
          "text": [
            "     58/100      6.09G     0.6624     0.9235     0.4625     0.8642         97        640: 100%|██████████| 475/475 [04:20<00:00,  1.83it/s]\n",
            "                 Class     Images  Instances      Box(P          R      mAP50  mAP50-95)     Mask(P          R      mAP50  mAP50-95): 100%|██████████| 14/14 [00:12<00:00,  1.10it/s]"
          ]
        },
        {
          "output_type": "stream",
          "name": "stdout",
          "text": [
            "                   all       1400       3892      0.905      0.864       0.91       0.73        0.9      0.855        0.9       0.62\n"
          ]
        },
        {
          "output_type": "stream",
          "name": "stderr",
          "text": [
            "\n"
          ]
        },
        {
          "output_type": "stream",
          "name": "stdout",
          "text": [
            "\n",
            "      Epoch    GPU_mem   box_loss   seg_loss   cls_loss   dfl_loss  Instances       Size\n"
          ]
        },
        {
          "output_type": "stream",
          "name": "stderr",
          "text": [
            "     59/100      5.93G     0.6576     0.9203      0.459     0.8607         88        640: 100%|██████████| 475/475 [04:19<00:00,  1.83it/s]\n",
            "                 Class     Images  Instances      Box(P          R      mAP50  mAP50-95)     Mask(P          R      mAP50  mAP50-95): 100%|██████████| 14/14 [00:12<00:00,  1.10it/s]"
          ]
        },
        {
          "output_type": "stream",
          "name": "stdout",
          "text": [
            "                   all       1400       3892      0.904      0.863      0.908      0.729        0.9      0.855        0.9       0.62\n"
          ]
        },
        {
          "output_type": "stream",
          "name": "stderr",
          "text": [
            "\n"
          ]
        },
        {
          "output_type": "stream",
          "name": "stdout",
          "text": [
            "\n",
            "      Epoch    GPU_mem   box_loss   seg_loss   cls_loss   dfl_loss  Instances       Size\n"
          ]
        },
        {
          "output_type": "stream",
          "name": "stderr",
          "text": [
            "     60/100         6G     0.6579     0.9174     0.4571     0.8605        129        640: 100%|██████████| 475/475 [04:19<00:00,  1.83it/s]\n",
            "                 Class     Images  Instances      Box(P          R      mAP50  mAP50-95)     Mask(P          R      mAP50  mAP50-95): 100%|██████████| 14/14 [00:12<00:00,  1.11it/s]"
          ]
        },
        {
          "output_type": "stream",
          "name": "stdout",
          "text": [
            "                   all       1400       3892      0.904      0.864      0.909       0.73      0.901      0.855        0.9       0.62\n"
          ]
        },
        {
          "output_type": "stream",
          "name": "stderr",
          "text": [
            "\n"
          ]
        },
        {
          "output_type": "stream",
          "name": "stdout",
          "text": [
            "\n",
            "      Epoch    GPU_mem   box_loss   seg_loss   cls_loss   dfl_loss  Instances       Size\n"
          ]
        },
        {
          "output_type": "stream",
          "name": "stderr",
          "text": [
            "     61/100      6.08G     0.6569     0.9205     0.4567     0.8604         75        640: 100%|██████████| 475/475 [04:20<00:00,  1.82it/s]\n",
            "                 Class     Images  Instances      Box(P          R      mAP50  mAP50-95)     Mask(P          R      mAP50  mAP50-95): 100%|██████████| 14/14 [00:12<00:00,  1.10it/s]"
          ]
        },
        {
          "output_type": "stream",
          "name": "stdout",
          "text": [
            "                   all       1400       3892      0.907      0.867       0.91       0.73      0.902      0.857        0.9       0.62\n"
          ]
        },
        {
          "output_type": "stream",
          "name": "stderr",
          "text": [
            "\n"
          ]
        },
        {
          "output_type": "stream",
          "name": "stdout",
          "text": [
            "\n",
            "      Epoch    GPU_mem   box_loss   seg_loss   cls_loss   dfl_loss  Instances       Size\n"
          ]
        },
        {
          "output_type": "stream",
          "name": "stderr",
          "text": [
            "     62/100      6.15G      0.655     0.9151     0.4522     0.8601         89        640: 100%|██████████| 475/475 [04:19<00:00,  1.83it/s]\n",
            "                 Class     Images  Instances      Box(P          R      mAP50  mAP50-95)     Mask(P          R      mAP50  mAP50-95): 100%|██████████| 14/14 [00:12<00:00,  1.09it/s]"
          ]
        },
        {
          "output_type": "stream",
          "name": "stdout",
          "text": [
            "                   all       1400       3892      0.906      0.867       0.91      0.731      0.903      0.856      0.899      0.621\n"
          ]
        },
        {
          "output_type": "stream",
          "name": "stderr",
          "text": [
            "\n"
          ]
        },
        {
          "output_type": "stream",
          "name": "stdout",
          "text": [
            "\n",
            "      Epoch    GPU_mem   box_loss   seg_loss   cls_loss   dfl_loss  Instances       Size\n"
          ]
        },
        {
          "output_type": "stream",
          "name": "stderr",
          "text": [
            "     63/100      5.97G     0.6532     0.9136     0.4518     0.8599        101        640: 100%|██████████| 475/475 [04:20<00:00,  1.82it/s]\n",
            "                 Class     Images  Instances      Box(P          R      mAP50  mAP50-95)     Mask(P          R      mAP50  mAP50-95): 100%|██████████| 14/14 [00:12<00:00,  1.10it/s]"
          ]
        },
        {
          "output_type": "stream",
          "name": "stdout",
          "text": [
            "                   all       1400       3892      0.906      0.867       0.91      0.732      0.902      0.856      0.899      0.621\n"
          ]
        },
        {
          "output_type": "stream",
          "name": "stderr",
          "text": [
            "\n"
          ]
        },
        {
          "output_type": "stream",
          "name": "stdout",
          "text": [
            "\n",
            "      Epoch    GPU_mem   box_loss   seg_loss   cls_loss   dfl_loss  Instances       Size\n"
          ]
        },
        {
          "output_type": "stream",
          "name": "stderr",
          "text": [
            "     64/100       6.1G     0.6497      0.909     0.4484     0.8591        103        640: 100%|██████████| 475/475 [04:19<00:00,  1.83it/s]\n",
            "                 Class     Images  Instances      Box(P          R      mAP50  mAP50-95)     Mask(P          R      mAP50  mAP50-95): 100%|██████████| 14/14 [00:12<00:00,  1.09it/s]"
          ]
        },
        {
          "output_type": "stream",
          "name": "stdout",
          "text": [
            "                   all       1400       3892      0.906      0.865      0.909      0.731      0.906      0.854        0.9      0.621\n"
          ]
        },
        {
          "output_type": "stream",
          "name": "stderr",
          "text": [
            "\n"
          ]
        },
        {
          "output_type": "stream",
          "name": "stdout",
          "text": [
            "\n",
            "      Epoch    GPU_mem   box_loss   seg_loss   cls_loss   dfl_loss  Instances       Size\n"
          ]
        },
        {
          "output_type": "stream",
          "name": "stderr",
          "text": [
            "     65/100      6.02G     0.6495     0.9141      0.447     0.8587        143        640: 100%|██████████| 475/475 [04:20<00:00,  1.83it/s]\n",
            "                 Class     Images  Instances      Box(P          R      mAP50  mAP50-95)     Mask(P          R      mAP50  mAP50-95): 100%|██████████| 14/14 [00:12<00:00,  1.11it/s]"
          ]
        },
        {
          "output_type": "stream",
          "name": "stdout",
          "text": [
            "                   all       1400       3892      0.906      0.863      0.909      0.732      0.907      0.855        0.9      0.622\n"
          ]
        },
        {
          "output_type": "stream",
          "name": "stderr",
          "text": [
            "\n"
          ]
        },
        {
          "output_type": "stream",
          "name": "stdout",
          "text": [
            "\n",
            "      Epoch    GPU_mem   box_loss   seg_loss   cls_loss   dfl_loss  Instances       Size\n"
          ]
        },
        {
          "output_type": "stream",
          "name": "stderr",
          "text": [
            "     66/100      6.05G     0.6442     0.9034     0.4448     0.8576         91        640: 100%|██████████| 475/475 [04:19<00:00,  1.83it/s]\n",
            "                 Class     Images  Instances      Box(P          R      mAP50  mAP50-95)     Mask(P          R      mAP50  mAP50-95): 100%|██████████| 14/14 [00:12<00:00,  1.11it/s]"
          ]
        },
        {
          "output_type": "stream",
          "name": "stdout",
          "text": [
            "                   all       1400       3892      0.907      0.863       0.91      0.733      0.908      0.853      0.901      0.622\n"
          ]
        },
        {
          "output_type": "stream",
          "name": "stderr",
          "text": [
            "\n"
          ]
        },
        {
          "output_type": "stream",
          "name": "stdout",
          "text": [
            "\n",
            "      Epoch    GPU_mem   box_loss   seg_loss   cls_loss   dfl_loss  Instances       Size\n"
          ]
        },
        {
          "output_type": "stream",
          "name": "stderr",
          "text": [
            "     67/100      5.87G     0.6413     0.9017     0.4425     0.8572         98        640: 100%|██████████| 475/475 [04:19<00:00,  1.83it/s]\n",
            "                 Class     Images  Instances      Box(P          R      mAP50  mAP50-95)     Mask(P          R      mAP50  mAP50-95): 100%|██████████| 14/14 [00:12<00:00,  1.11it/s]"
          ]
        },
        {
          "output_type": "stream",
          "name": "stdout",
          "text": [
            "                   all       1400       3892      0.906      0.863      0.909      0.733       0.91      0.852        0.9      0.623\n"
          ]
        },
        {
          "output_type": "stream",
          "name": "stderr",
          "text": [
            "\n"
          ]
        },
        {
          "output_type": "stream",
          "name": "stdout",
          "text": [
            "\n",
            "      Epoch    GPU_mem   box_loss   seg_loss   cls_loss   dfl_loss  Instances       Size\n"
          ]
        },
        {
          "output_type": "stream",
          "name": "stderr",
          "text": [
            "     68/100      6.13G     0.6452     0.9071     0.4423     0.8575        121        640: 100%|██████████| 475/475 [04:19<00:00,  1.83it/s]\n",
            "                 Class     Images  Instances      Box(P          R      mAP50  mAP50-95)     Mask(P          R      mAP50  mAP50-95): 100%|██████████| 14/14 [00:12<00:00,  1.11it/s]"
          ]
        },
        {
          "output_type": "stream",
          "name": "stdout",
          "text": [
            "                   all       1400       3892      0.911      0.862      0.909      0.732      0.911      0.852        0.9      0.623\n"
          ]
        },
        {
          "output_type": "stream",
          "name": "stderr",
          "text": [
            "\n"
          ]
        },
        {
          "output_type": "stream",
          "name": "stdout",
          "text": [
            "\n",
            "      Epoch    GPU_mem   box_loss   seg_loss   cls_loss   dfl_loss  Instances       Size\n"
          ]
        },
        {
          "output_type": "stream",
          "name": "stderr",
          "text": [
            "     69/100      6.08G      0.643      0.906     0.4397     0.8567         86        640: 100%|██████████| 475/475 [04:19<00:00,  1.83it/s]\n",
            "                 Class     Images  Instances      Box(P          R      mAP50  mAP50-95)     Mask(P          R      mAP50  mAP50-95): 100%|██████████| 14/14 [00:12<00:00,  1.11it/s]"
          ]
        },
        {
          "output_type": "stream",
          "name": "stdout",
          "text": [
            "                   all       1400       3892      0.911      0.862      0.909      0.732       0.91      0.852        0.9      0.623\n"
          ]
        },
        {
          "output_type": "stream",
          "name": "stderr",
          "text": [
            "\n"
          ]
        },
        {
          "output_type": "stream",
          "name": "stdout",
          "text": [
            "\n",
            "      Epoch    GPU_mem   box_loss   seg_loss   cls_loss   dfl_loss  Instances       Size\n"
          ]
        },
        {
          "output_type": "stream",
          "name": "stderr",
          "text": [
            "     70/100      5.98G     0.6398     0.9009     0.4389     0.8561        117        640: 100%|██████████| 475/475 [04:18<00:00,  1.83it/s]\n",
            "                 Class     Images  Instances      Box(P          R      mAP50  mAP50-95)     Mask(P          R      mAP50  mAP50-95): 100%|██████████| 14/14 [00:12<00:00,  1.11it/s]"
          ]
        },
        {
          "output_type": "stream",
          "name": "stdout",
          "text": [
            "                   all       1400       3892      0.911      0.862      0.909      0.732      0.912      0.852        0.9      0.623\n"
          ]
        },
        {
          "output_type": "stream",
          "name": "stderr",
          "text": [
            "\n"
          ]
        },
        {
          "output_type": "stream",
          "name": "stdout",
          "text": [
            "\n",
            "      Epoch    GPU_mem   box_loss   seg_loss   cls_loss   dfl_loss  Instances       Size\n"
          ]
        },
        {
          "output_type": "stream",
          "name": "stderr",
          "text": [
            "     71/100      6.13G     0.6387      0.898     0.4394     0.8565        110        640: 100%|██████████| 475/475 [04:19<00:00,  1.83it/s]\n",
            "                 Class     Images  Instances      Box(P          R      mAP50  mAP50-95)     Mask(P          R      mAP50  mAP50-95): 100%|██████████| 14/14 [00:12<00:00,  1.11it/s]"
          ]
        },
        {
          "output_type": "stream",
          "name": "stdout",
          "text": [
            "                   all       1400       3892      0.913      0.862      0.909      0.732       0.91      0.855      0.901      0.624\n"
          ]
        },
        {
          "output_type": "stream",
          "name": "stderr",
          "text": [
            "\n"
          ]
        },
        {
          "output_type": "stream",
          "name": "stdout",
          "text": [
            "\n",
            "      Epoch    GPU_mem   box_loss   seg_loss   cls_loss   dfl_loss  Instances       Size\n"
          ]
        },
        {
          "output_type": "stream",
          "name": "stderr",
          "text": [
            "     72/100       6.1G     0.6378     0.8982     0.4367     0.8569         82        640: 100%|██████████| 475/475 [04:18<00:00,  1.83it/s]\n",
            "                 Class     Images  Instances      Box(P          R      mAP50  mAP50-95)     Mask(P          R      mAP50  mAP50-95): 100%|██████████| 14/14 [00:12<00:00,  1.11it/s]"
          ]
        },
        {
          "output_type": "stream",
          "name": "stdout",
          "text": [
            "                   all       1400       3892      0.912      0.862      0.909      0.732      0.909      0.854      0.901      0.624\n"
          ]
        },
        {
          "output_type": "stream",
          "name": "stderr",
          "text": [
            "\n"
          ]
        },
        {
          "output_type": "stream",
          "name": "stdout",
          "text": [
            "\n",
            "      Epoch    GPU_mem   box_loss   seg_loss   cls_loss   dfl_loss  Instances       Size\n"
          ]
        },
        {
          "output_type": "stream",
          "name": "stderr",
          "text": [
            "     73/100      5.93G     0.6333     0.8935     0.4316     0.8552         64        640: 100%|██████████| 475/475 [04:18<00:00,  1.83it/s]\n",
            "                 Class     Images  Instances      Box(P          R      mAP50  mAP50-95)     Mask(P          R      mAP50  mAP50-95): 100%|██████████| 14/14 [00:12<00:00,  1.11it/s]"
          ]
        },
        {
          "output_type": "stream",
          "name": "stdout",
          "text": [
            "                   all       1400       3892       0.91      0.862      0.908      0.733      0.909      0.855      0.901      0.624\n"
          ]
        },
        {
          "output_type": "stream",
          "name": "stderr",
          "text": [
            "\n"
          ]
        },
        {
          "output_type": "stream",
          "name": "stdout",
          "text": [
            "\n",
            "      Epoch    GPU_mem   box_loss   seg_loss   cls_loss   dfl_loss  Instances       Size\n"
          ]
        },
        {
          "output_type": "stream",
          "name": "stderr",
          "text": [
            "     74/100      6.05G     0.6348     0.8943     0.4325      0.856        104        640: 100%|██████████| 475/475 [04:19<00:00,  1.83it/s]\n",
            "                 Class     Images  Instances      Box(P          R      mAP50  mAP50-95)     Mask(P          R      mAP50  mAP50-95): 100%|██████████| 14/14 [00:12<00:00,  1.11it/s]"
          ]
        },
        {
          "output_type": "stream",
          "name": "stdout",
          "text": [
            "                   all       1400       3892      0.911      0.862      0.907      0.734      0.909      0.855      0.901      0.624\n"
          ]
        },
        {
          "output_type": "stream",
          "name": "stderr",
          "text": [
            "\n"
          ]
        },
        {
          "output_type": "stream",
          "name": "stdout",
          "text": [
            "\n",
            "      Epoch    GPU_mem   box_loss   seg_loss   cls_loss   dfl_loss  Instances       Size\n"
          ]
        },
        {
          "output_type": "stream",
          "name": "stderr",
          "text": [
            "     75/100         6G     0.6337     0.8942     0.4317     0.8555         91        640: 100%|██████████| 475/475 [04:18<00:00,  1.83it/s]\n",
            "                 Class     Images  Instances      Box(P          R      mAP50  mAP50-95)     Mask(P          R      mAP50  mAP50-95): 100%|██████████| 14/14 [00:12<00:00,  1.12it/s]"
          ]
        },
        {
          "output_type": "stream",
          "name": "stdout",
          "text": [
            "                   all       1400       3892       0.91      0.862      0.907      0.733      0.908      0.857      0.901      0.625\n"
          ]
        },
        {
          "output_type": "stream",
          "name": "stderr",
          "text": [
            "\n"
          ]
        },
        {
          "output_type": "stream",
          "name": "stdout",
          "text": [
            "\n",
            "      Epoch    GPU_mem   box_loss   seg_loss   cls_loss   dfl_loss  Instances       Size\n"
          ]
        },
        {
          "output_type": "stream",
          "name": "stderr",
          "text": [
            "     76/100      6.17G     0.6308     0.8923     0.4296     0.8543         91        640: 100%|██████████| 475/475 [04:19<00:00,  1.83it/s]\n",
            "                 Class     Images  Instances      Box(P          R      mAP50  mAP50-95)     Mask(P          R      mAP50  mAP50-95): 100%|██████████| 14/14 [00:12<00:00,  1.10it/s]"
          ]
        },
        {
          "output_type": "stream",
          "name": "stdout",
          "text": [
            "                   all       1400       3892      0.911      0.864      0.909      0.734       0.91      0.856      0.902      0.625\n"
          ]
        },
        {
          "output_type": "stream",
          "name": "stderr",
          "text": [
            "\n"
          ]
        },
        {
          "output_type": "stream",
          "name": "stdout",
          "text": [
            "\n",
            "      Epoch    GPU_mem   box_loss   seg_loss   cls_loss   dfl_loss  Instances       Size\n"
          ]
        },
        {
          "output_type": "stream",
          "name": "stderr",
          "text": [
            "     77/100      5.83G     0.6274     0.8852     0.4268      0.854        129        640: 100%|██████████| 475/475 [04:19<00:00,  1.83it/s]\n",
            "                 Class     Images  Instances      Box(P          R      mAP50  mAP50-95)     Mask(P          R      mAP50  mAP50-95): 100%|██████████| 14/14 [00:12<00:00,  1.11it/s]"
          ]
        },
        {
          "output_type": "stream",
          "name": "stdout",
          "text": [
            "                   all       1400       3892      0.909      0.866      0.909      0.735      0.909      0.856      0.902      0.624\n"
          ]
        },
        {
          "output_type": "stream",
          "name": "stderr",
          "text": [
            "\n"
          ]
        },
        {
          "output_type": "stream",
          "name": "stdout",
          "text": [
            "\n",
            "      Epoch    GPU_mem   box_loss   seg_loss   cls_loss   dfl_loss  Instances       Size\n"
          ]
        },
        {
          "output_type": "stream",
          "name": "stderr",
          "text": [
            "     78/100      5.97G      0.629     0.8888     0.4244     0.8535        101        640: 100%|██████████| 475/475 [04:19<00:00,  1.83it/s]\n",
            "                 Class     Images  Instances      Box(P          R      mAP50  mAP50-95)     Mask(P          R      mAP50  mAP50-95): 100%|██████████| 14/14 [00:12<00:00,  1.11it/s]"
          ]
        },
        {
          "output_type": "stream",
          "name": "stdout",
          "text": [
            "                   all       1400       3892      0.907      0.867      0.909      0.733      0.909      0.854      0.901      0.625\n"
          ]
        },
        {
          "output_type": "stream",
          "name": "stderr",
          "text": [
            "\n"
          ]
        },
        {
          "output_type": "stream",
          "name": "stdout",
          "text": [
            "\n",
            "      Epoch    GPU_mem   box_loss   seg_loss   cls_loss   dfl_loss  Instances       Size\n"
          ]
        },
        {
          "output_type": "stream",
          "name": "stderr",
          "text": [
            "     79/100       6.1G     0.6249     0.8815     0.4216     0.8528         99        640: 100%|██████████| 475/475 [04:19<00:00,  1.83it/s]\n",
            "                 Class     Images  Instances      Box(P          R      mAP50  mAP50-95)     Mask(P          R      mAP50  mAP50-95): 100%|██████████| 14/14 [00:12<00:00,  1.10it/s]"
          ]
        },
        {
          "output_type": "stream",
          "name": "stdout",
          "text": [
            "                   all       1400       3892      0.906      0.865      0.907      0.734      0.908      0.855      0.901      0.626\n"
          ]
        },
        {
          "output_type": "stream",
          "name": "stderr",
          "text": [
            "\n"
          ]
        },
        {
          "output_type": "stream",
          "name": "stdout",
          "text": [
            "\n",
            "      Epoch    GPU_mem   box_loss   seg_loss   cls_loss   dfl_loss  Instances       Size\n"
          ]
        },
        {
          "output_type": "stream",
          "name": "stderr",
          "text": [
            "     80/100      6.08G     0.6242      0.885     0.4215     0.8527         71        640: 100%|██████████| 475/475 [04:19<00:00,  1.83it/s]\n",
            "                 Class     Images  Instances      Box(P          R      mAP50  mAP50-95)     Mask(P          R      mAP50  mAP50-95): 100%|██████████| 14/14 [00:12<00:00,  1.10it/s]"
          ]
        },
        {
          "output_type": "stream",
          "name": "stdout",
          "text": [
            "                   all       1400       3892      0.906      0.864      0.908      0.734      0.908      0.855      0.901      0.626\n"
          ]
        },
        {
          "output_type": "stream",
          "name": "stderr",
          "text": [
            "\n"
          ]
        },
        {
          "output_type": "stream",
          "name": "stdout",
          "text": [
            "\n",
            "      Epoch    GPU_mem   box_loss   seg_loss   cls_loss   dfl_loss  Instances       Size\n"
          ]
        },
        {
          "output_type": "stream",
          "name": "stderr",
          "text": [
            "     81/100      6.05G     0.6216     0.8884     0.4201      0.851         98        640: 100%|██████████| 475/475 [04:19<00:00,  1.83it/s]\n",
            "                 Class     Images  Instances      Box(P          R      mAP50  mAP50-95)     Mask(P          R      mAP50  mAP50-95): 100%|██████████| 14/14 [00:12<00:00,  1.11it/s]"
          ]
        },
        {
          "output_type": "stream",
          "name": "stdout",
          "text": [
            "                   all       1400       3892      0.906      0.864      0.908      0.734      0.908      0.855      0.901      0.626\n"
          ]
        },
        {
          "output_type": "stream",
          "name": "stderr",
          "text": [
            "\n"
          ]
        },
        {
          "output_type": "stream",
          "name": "stdout",
          "text": [
            "\n",
            "      Epoch    GPU_mem   box_loss   seg_loss   cls_loss   dfl_loss  Instances       Size\n"
          ]
        },
        {
          "output_type": "stream",
          "name": "stderr",
          "text": [
            "     82/100      6.02G     0.6211     0.8858      0.419     0.8516        120        640: 100%|██████████| 475/475 [04:19<00:00,  1.83it/s]\n",
            "                 Class     Images  Instances      Box(P          R      mAP50  mAP50-95)     Mask(P          R      mAP50  mAP50-95): 100%|██████████| 14/14 [00:12<00:00,  1.10it/s]"
          ]
        },
        {
          "output_type": "stream",
          "name": "stdout",
          "text": [
            "                   all       1400       3892      0.906      0.865      0.908      0.734      0.906      0.858      0.901      0.626\n"
          ]
        },
        {
          "output_type": "stream",
          "name": "stderr",
          "text": [
            "\n"
          ]
        },
        {
          "output_type": "stream",
          "name": "stdout",
          "text": [
            "\n",
            "      Epoch    GPU_mem   box_loss   seg_loss   cls_loss   dfl_loss  Instances       Size\n"
          ]
        },
        {
          "output_type": "stream",
          "name": "stderr",
          "text": [
            "     83/100         6G     0.6228     0.8821     0.4204     0.8519        103        640: 100%|██████████| 475/475 [04:19<00:00,  1.83it/s]\n",
            "                 Class     Images  Instances      Box(P          R      mAP50  mAP50-95)     Mask(P          R      mAP50  mAP50-95): 100%|██████████| 14/14 [00:12<00:00,  1.10it/s]"
          ]
        },
        {
          "output_type": "stream",
          "name": "stdout",
          "text": [
            "                   all       1400       3892      0.905      0.865      0.908      0.734      0.906      0.858      0.902      0.626\n"
          ]
        },
        {
          "output_type": "stream",
          "name": "stderr",
          "text": [
            "\n"
          ]
        },
        {
          "output_type": "stream",
          "name": "stdout",
          "text": [
            "\n",
            "      Epoch    GPU_mem   box_loss   seg_loss   cls_loss   dfl_loss  Instances       Size\n"
          ]
        },
        {
          "output_type": "stream",
          "name": "stderr",
          "text": [
            "     84/100      5.94G     0.6189     0.8804     0.4149     0.8509        111        640: 100%|██████████| 475/475 [04:19<00:00,  1.83it/s]\n",
            "                 Class     Images  Instances      Box(P          R      mAP50  mAP50-95)     Mask(P          R      mAP50  mAP50-95): 100%|██████████| 14/14 [00:12<00:00,  1.10it/s]"
          ]
        },
        {
          "output_type": "stream",
          "name": "stdout",
          "text": [
            "                   all       1400       3892      0.906      0.864      0.908      0.734      0.905      0.858      0.902      0.626\n"
          ]
        },
        {
          "output_type": "stream",
          "name": "stderr",
          "text": [
            "\n"
          ]
        },
        {
          "output_type": "stream",
          "name": "stdout",
          "text": [
            "\n",
            "      Epoch    GPU_mem   box_loss   seg_loss   cls_loss   dfl_loss  Instances       Size\n"
          ]
        },
        {
          "output_type": "stream",
          "name": "stderr",
          "text": [
            "     85/100      5.99G     0.6192     0.8813      0.415     0.8508         58        640: 100%|██████████| 475/475 [04:20<00:00,  1.83it/s]\n",
            "                 Class     Images  Instances      Box(P          R      mAP50  mAP50-95)     Mask(P          R      mAP50  mAP50-95): 100%|██████████| 14/14 [00:12<00:00,  1.10it/s]"
          ]
        },
        {
          "output_type": "stream",
          "name": "stdout",
          "text": [
            "                   all       1400       3892      0.907      0.863      0.908      0.734      0.904      0.858      0.901      0.625\n"
          ]
        },
        {
          "output_type": "stream",
          "name": "stderr",
          "text": [
            "\n"
          ]
        },
        {
          "output_type": "stream",
          "name": "stdout",
          "text": [
            "\n",
            "      Epoch    GPU_mem   box_loss   seg_loss   cls_loss   dfl_loss  Instances       Size\n"
          ]
        },
        {
          "output_type": "stream",
          "name": "stderr",
          "text": [
            "     86/100      6.03G     0.6161     0.8771      0.414     0.8503        100        640: 100%|██████████| 475/475 [04:18<00:00,  1.83it/s]\n",
            "                 Class     Images  Instances      Box(P          R      mAP50  mAP50-95)     Mask(P          R      mAP50  mAP50-95): 100%|██████████| 14/14 [00:12<00:00,  1.11it/s]"
          ]
        },
        {
          "output_type": "stream",
          "name": "stdout",
          "text": [
            "                   all       1400       3892      0.906      0.863      0.908      0.734      0.905      0.858      0.901      0.625\n"
          ]
        },
        {
          "output_type": "stream",
          "name": "stderr",
          "text": [
            "\n"
          ]
        },
        {
          "output_type": "stream",
          "name": "stdout",
          "text": [
            "\n",
            "      Epoch    GPU_mem   box_loss   seg_loss   cls_loss   dfl_loss  Instances       Size\n"
          ]
        },
        {
          "output_type": "stream",
          "name": "stderr",
          "text": [
            "     87/100      6.01G     0.6174     0.8765     0.4147     0.8508        110        640: 100%|██████████| 475/475 [04:19<00:00,  1.83it/s]\n",
            "                 Class     Images  Instances      Box(P          R      mAP50  mAP50-95)     Mask(P          R      mAP50  mAP50-95): 100%|██████████| 14/14 [00:12<00:00,  1.11it/s]"
          ]
        },
        {
          "output_type": "stream",
          "name": "stdout",
          "text": [
            "                   all       1400       3892      0.906      0.861      0.908      0.734      0.905      0.856      0.901      0.625\n"
          ]
        },
        {
          "output_type": "stream",
          "name": "stderr",
          "text": [
            "\n"
          ]
        },
        {
          "output_type": "stream",
          "name": "stdout",
          "text": [
            "\n",
            "      Epoch    GPU_mem   box_loss   seg_loss   cls_loss   dfl_loss  Instances       Size\n"
          ]
        },
        {
          "output_type": "stream",
          "name": "stderr",
          "text": [
            "     88/100      6.07G      0.615     0.8719     0.4127     0.8503        104        640: 100%|██████████| 475/475 [04:19<00:00,  1.83it/s]\n",
            "                 Class     Images  Instances      Box(P          R      mAP50  mAP50-95)     Mask(P          R      mAP50  mAP50-95): 100%|██████████| 14/14 [00:12<00:00,  1.11it/s]"
          ]
        },
        {
          "output_type": "stream",
          "name": "stdout",
          "text": [
            "                   all       1400       3892      0.906      0.861      0.908      0.734      0.906      0.857      0.903      0.626\n"
          ]
        },
        {
          "output_type": "stream",
          "name": "stderr",
          "text": [
            "\n"
          ]
        },
        {
          "output_type": "stream",
          "name": "stdout",
          "text": [
            "\n",
            "      Epoch    GPU_mem   box_loss   seg_loss   cls_loss   dfl_loss  Instances       Size\n"
          ]
        },
        {
          "output_type": "stream",
          "name": "stderr",
          "text": [
            "     89/100         6G     0.6135     0.8809      0.411     0.8492         66        640: 100%|██████████| 475/475 [04:18<00:00,  1.83it/s]\n",
            "                 Class     Images  Instances      Box(P          R      mAP50  mAP50-95)     Mask(P          R      mAP50  mAP50-95): 100%|██████████| 14/14 [00:12<00:00,  1.11it/s]"
          ]
        },
        {
          "output_type": "stream",
          "name": "stdout",
          "text": [
            "                   all       1400       3892      0.907      0.862      0.908      0.734      0.906      0.858      0.904      0.626\n"
          ]
        },
        {
          "output_type": "stream",
          "name": "stderr",
          "text": [
            "\n"
          ]
        },
        {
          "output_type": "stream",
          "name": "stdout",
          "text": [
            "\n",
            "      Epoch    GPU_mem   box_loss   seg_loss   cls_loss   dfl_loss  Instances       Size\n"
          ]
        },
        {
          "output_type": "stream",
          "name": "stderr",
          "text": [
            "     90/100      5.96G     0.6123     0.8714     0.4101     0.8495         88        640: 100%|██████████| 475/475 [04:19<00:00,  1.83it/s]\n",
            "                 Class     Images  Instances      Box(P          R      mAP50  mAP50-95)     Mask(P          R      mAP50  mAP50-95): 100%|██████████| 14/14 [00:12<00:00,  1.11it/s]"
          ]
        },
        {
          "output_type": "stream",
          "name": "stdout",
          "text": [
            "                   all       1400       3892      0.906      0.861      0.908      0.734      0.907      0.857      0.903      0.626\n"
          ]
        },
        {
          "output_type": "stream",
          "name": "stderr",
          "text": [
            "\n"
          ]
        },
        {
          "output_type": "stream",
          "name": "stdout",
          "text": [
            "Closing dataloader mosaic\n",
            "\u001b[34m\u001b[1malbumentations: \u001b[0mBlur(p=0.01, blur_limit=(3, 7)), MedianBlur(p=0.01, blur_limit=(3, 7)), ToGray(p=0.01, num_output_channels=3, method='weighted_average'), CLAHE(p=0.01, clip_limit=(1, 4.0), tile_grid_size=(8, 8))\n",
            "\n",
            "      Epoch    GPU_mem   box_loss   seg_loss   cls_loss   dfl_loss  Instances       Size\n"
          ]
        },
        {
          "output_type": "stream",
          "name": "stderr",
          "text": [
            "     91/100      6.01G     0.6116       0.87     0.4042     0.8457         78        640: 100%|██████████| 475/475 [04:17<00:00,  1.84it/s]\n",
            "                 Class     Images  Instances      Box(P          R      mAP50  mAP50-95)     Mask(P          R      mAP50  mAP50-95): 100%|██████████| 14/14 [00:12<00:00,  1.11it/s]"
          ]
        },
        {
          "output_type": "stream",
          "name": "stdout",
          "text": [
            "                   all       1400       3892      0.904      0.862      0.908      0.735      0.903      0.857      0.903      0.626\n"
          ]
        },
        {
          "output_type": "stream",
          "name": "stderr",
          "text": [
            "\n"
          ]
        },
        {
          "output_type": "stream",
          "name": "stdout",
          "text": [
            "\n",
            "      Epoch    GPU_mem   box_loss   seg_loss   cls_loss   dfl_loss  Instances       Size\n"
          ]
        },
        {
          "output_type": "stream",
          "name": "stderr",
          "text": [
            "     92/100      5.97G     0.6055     0.8628     0.3991     0.8444         61        640: 100%|██████████| 475/475 [04:16<00:00,  1.86it/s]\n",
            "                 Class     Images  Instances      Box(P          R      mAP50  mAP50-95)     Mask(P          R      mAP50  mAP50-95): 100%|██████████| 14/14 [00:12<00:00,  1.10it/s]"
          ]
        },
        {
          "output_type": "stream",
          "name": "stdout",
          "text": [
            "                   all       1400       3892      0.904      0.862      0.909      0.736      0.901      0.858      0.904      0.627\n"
          ]
        },
        {
          "output_type": "stream",
          "name": "stderr",
          "text": [
            "\n"
          ]
        },
        {
          "output_type": "stream",
          "name": "stdout",
          "text": [
            "\n",
            "      Epoch    GPU_mem   box_loss   seg_loss   cls_loss   dfl_loss  Instances       Size\n"
          ]
        },
        {
          "output_type": "stream",
          "name": "stderr",
          "text": [
            "     93/100      5.85G     0.6038     0.8678     0.3973      0.844         59        640: 100%|██████████| 475/475 [04:14<00:00,  1.86it/s]\n",
            "                 Class     Images  Instances      Box(P          R      mAP50  mAP50-95)     Mask(P          R      mAP50  mAP50-95): 100%|██████████| 14/14 [00:12<00:00,  1.10it/s]"
          ]
        },
        {
          "output_type": "stream",
          "name": "stdout",
          "text": [
            "                   all       1400       3892      0.905      0.864       0.91      0.736      0.902      0.859      0.904      0.627\n"
          ]
        },
        {
          "output_type": "stream",
          "name": "stderr",
          "text": [
            "\n"
          ]
        },
        {
          "output_type": "stream",
          "name": "stdout",
          "text": [
            "\n",
            "      Epoch    GPU_mem   box_loss   seg_loss   cls_loss   dfl_loss  Instances       Size\n"
          ]
        },
        {
          "output_type": "stream",
          "name": "stderr",
          "text": [
            "     94/100      5.97G     0.6037     0.8627     0.3967     0.8438         50        640: 100%|██████████| 475/475 [04:15<00:00,  1.86it/s]\n",
            "                 Class     Images  Instances      Box(P          R      mAP50  mAP50-95)     Mask(P          R      mAP50  mAP50-95): 100%|██████████| 14/14 [00:12<00:00,  1.11it/s]"
          ]
        },
        {
          "output_type": "stream",
          "name": "stdout",
          "text": [
            "                   all       1400       3892      0.905      0.864       0.91      0.735      0.901      0.859      0.904      0.627\n"
          ]
        },
        {
          "output_type": "stream",
          "name": "stderr",
          "text": [
            "\n"
          ]
        },
        {
          "output_type": "stream",
          "name": "stdout",
          "text": [
            "\n",
            "      Epoch    GPU_mem   box_loss   seg_loss   cls_loss   dfl_loss  Instances       Size\n"
          ]
        },
        {
          "output_type": "stream",
          "name": "stderr",
          "text": [
            "     95/100      5.92G     0.6035     0.8616      0.396     0.8428         59        640: 100%|██████████| 475/475 [04:15<00:00,  1.86it/s]\n",
            "                 Class     Images  Instances      Box(P          R      mAP50  mAP50-95)     Mask(P          R      mAP50  mAP50-95): 100%|██████████| 14/14 [00:12<00:00,  1.12it/s]"
          ]
        },
        {
          "output_type": "stream",
          "name": "stdout",
          "text": [
            "                   all       1400       3892      0.905      0.864      0.911      0.736      0.904      0.859      0.905      0.626\n"
          ]
        },
        {
          "output_type": "stream",
          "name": "stderr",
          "text": [
            "\n"
          ]
        },
        {
          "output_type": "stream",
          "name": "stdout",
          "text": [
            "\n",
            "      Epoch    GPU_mem   box_loss   seg_loss   cls_loss   dfl_loss  Instances       Size\n"
          ]
        },
        {
          "output_type": "stream",
          "name": "stderr",
          "text": [
            "     96/100       5.9G     0.5998       0.86     0.3934     0.8419         61        640: 100%|██████████| 475/475 [04:15<00:00,  1.86it/s]\n",
            "                 Class     Images  Instances      Box(P          R      mAP50  mAP50-95)     Mask(P          R      mAP50  mAP50-95): 100%|██████████| 14/14 [00:12<00:00,  1.11it/s]"
          ]
        },
        {
          "output_type": "stream",
          "name": "stdout",
          "text": [
            "                   all       1400       3892      0.906      0.864      0.911      0.736      0.905      0.858      0.905      0.626\n"
          ]
        },
        {
          "output_type": "stream",
          "name": "stderr",
          "text": [
            "\n"
          ]
        },
        {
          "output_type": "stream",
          "name": "stdout",
          "text": [
            "\n",
            "      Epoch    GPU_mem   box_loss   seg_loss   cls_loss   dfl_loss  Instances       Size\n"
          ]
        },
        {
          "output_type": "stream",
          "name": "stderr",
          "text": [
            "     97/100      5.82G     0.6019     0.8594     0.3952     0.8441         47        640: 100%|██████████| 475/475 [04:15<00:00,  1.86it/s]\n",
            "                 Class     Images  Instances      Box(P          R      mAP50  mAP50-95)     Mask(P          R      mAP50  mAP50-95): 100%|██████████| 14/14 [00:12<00:00,  1.10it/s]"
          ]
        },
        {
          "output_type": "stream",
          "name": "stdout",
          "text": [
            "                   all       1400       3892      0.907      0.864      0.911      0.736      0.905      0.858      0.905      0.625\n"
          ]
        },
        {
          "output_type": "stream",
          "name": "stderr",
          "text": [
            "\n"
          ]
        },
        {
          "output_type": "stream",
          "name": "stdout",
          "text": [
            "\n",
            "      Epoch    GPU_mem   box_loss   seg_loss   cls_loss   dfl_loss  Instances       Size\n"
          ]
        },
        {
          "output_type": "stream",
          "name": "stderr",
          "text": [
            "     98/100      6.02G     0.6006     0.8559     0.3941     0.8431         56        640: 100%|██████████| 475/475 [04:15<00:00,  1.86it/s]\n",
            "                 Class     Images  Instances      Box(P          R      mAP50  mAP50-95)     Mask(P          R      mAP50  mAP50-95): 100%|██████████| 14/14 [00:12<00:00,  1.10it/s]"
          ]
        },
        {
          "output_type": "stream",
          "name": "stdout",
          "text": [
            "                   all       1400       3892      0.906      0.864       0.91      0.735      0.905      0.856      0.905      0.626\n"
          ]
        },
        {
          "output_type": "stream",
          "name": "stderr",
          "text": [
            "\n"
          ]
        },
        {
          "output_type": "stream",
          "name": "stdout",
          "text": [
            "\n",
            "      Epoch    GPU_mem   box_loss   seg_loss   cls_loss   dfl_loss  Instances       Size\n"
          ]
        },
        {
          "output_type": "stream",
          "name": "stderr",
          "text": [
            "     99/100      5.86G     0.6023     0.8608     0.3953     0.8426         73        640: 100%|██████████| 475/475 [04:15<00:00,  1.86it/s]\n",
            "                 Class     Images  Instances      Box(P          R      mAP50  mAP50-95)     Mask(P          R      mAP50  mAP50-95): 100%|██████████| 14/14 [00:12<00:00,  1.09it/s]"
          ]
        },
        {
          "output_type": "stream",
          "name": "stdout",
          "text": [
            "                   all       1400       3892      0.909      0.863       0.91      0.735      0.906      0.858      0.905      0.625\n"
          ]
        },
        {
          "output_type": "stream",
          "name": "stderr",
          "text": [
            "\n"
          ]
        },
        {
          "output_type": "stream",
          "name": "stdout",
          "text": [
            "\n",
            "      Epoch    GPU_mem   box_loss   seg_loss   cls_loss   dfl_loss  Instances       Size\n"
          ]
        },
        {
          "output_type": "stream",
          "name": "stderr",
          "text": [
            "    100/100      5.91G     0.6006     0.8596     0.3935     0.8438         86        640: 100%|██████████| 475/475 [04:15<00:00,  1.86it/s]\n",
            "                 Class     Images  Instances      Box(P          R      mAP50  mAP50-95)     Mask(P          R      mAP50  mAP50-95): 100%|██████████| 14/14 [00:12<00:00,  1.11it/s]"
          ]
        },
        {
          "output_type": "stream",
          "name": "stdout",
          "text": [
            "                   all       1400       3892      0.908      0.862      0.909      0.735      0.906      0.856      0.904      0.625\n"
          ]
        },
        {
          "output_type": "stream",
          "name": "stderr",
          "text": [
            "\n"
          ]
        },
        {
          "output_type": "stream",
          "name": "stdout",
          "text": [
            "\n",
            "100 epochs completed in 7.576 hours.\n",
            "Optimizer stripped from Ex-11/Ex-11/weights/last.pt, 6.0MB\n",
            "Optimizer stripped from Ex-11/Ex-11/weights/best.pt, 6.0MB\n",
            "\n",
            "Validating Ex-11/Ex-11/weights/best.pt...\n",
            "Ultralytics 8.3.5 🚀 Python-3.10.12 torch-2.4.1+cu121 CUDA:0 (Tesla T4, 15102MiB)\n",
            "YOLO11n-seg summary (fused): 265 layers, 2,835,153 parameters, 0 gradients, 10.2 GFLOPs\n"
          ]
        },
        {
          "output_type": "stream",
          "name": "stderr",
          "text": [
            "                 Class     Images  Instances      Box(P          R      mAP50  mAP50-95)     Mask(P          R      mAP50  mAP50-95): 100%|██████████| 14/14 [00:13<00:00,  1.01it/s]\n"
          ]
        },
        {
          "output_type": "stream",
          "name": "stdout",
          "text": [
            "                   all       1400       3892      0.904      0.865      0.911      0.736      0.904      0.858      0.904      0.627\n",
            "         License_Plate        231        255      0.911      0.745      0.823      0.512      0.903       0.73       0.81      0.494\n",
            "                   car       1087       2432      0.875      0.889       0.94      0.808      0.876      0.883      0.936      0.714\n",
            "     solid-yellow-line       1161       1205      0.926      0.959      0.968      0.888      0.932       0.96      0.967      0.673\n",
            "Speed: 0.2ms preprocess, 3.0ms inference, 0.0ms loss, 1.0ms postprocess per image\n",
            "Results saved to \u001b[1mEx-11/Ex-11\u001b[0m\n"
          ]
        }
      ],
      "source": [
        "results = model.train(\n",
        "    data = '/content/Road-lines-segmentation-2/data.yaml',\n",
        "    task = 'segment',\n",
        "    imgsz = IMG_SIZE,\n",
        "    epochs = EPOCHS,\n",
        "    batch = -1,\n",
        "    device = 0,\n",
        "    verbose = True,\n",
        "    seed = 93,\n",
        "    plots = True,\n",
        "    val = True,\n",
        "    name = 'Ex-11',\n",
        "    project = 'Ex-11',\n",
        "    patience = 20,\n",
        "    save = True,\n",
        "    optimizer = 'SGD',\n",
        "    lr0 = 0.001,\n",
        "    lrf = 0.0001,\n",
        "    momentum = 0.937,\n",
        "    weight_decay = 0.005,\n",
        "    cos_lr=True,\n",
        "    profile=True,\n",
        "    freeze=10,\n",
        "    pretrained=True,\n",
        "    dropout=0.2\n",
        ")"
      ]
    },
    {
      "cell_type": "markdown",
      "metadata": {
        "id": "TVy_3T6yWwoi"
      },
      "source": [
        "## evaluation on the validationset\n"
      ]
    },
    {
      "cell_type": "code",
      "execution_count": 13,
      "metadata": {
        "colab": {
          "base_uri": "https://localhost:8080/"
        },
        "id": "nQpkPWNXWwoi",
        "outputId": "766efd1f-02cc-403a-9d19-0d5576f6db1a"
      },
      "outputs": [
        {
          "output_type": "stream",
          "name": "stdout",
          "text": [
            "Ultralytics 8.3.5 🚀 Python-3.10.12 torch-2.4.1+cu121 CUDA:0 (Tesla T4, 15102MiB)\n",
            "YOLO11n-seg summary (fused): 265 layers, 2,835,153 parameters, 0 gradients, 10.2 GFLOPs\n"
          ]
        },
        {
          "output_type": "stream",
          "name": "stderr",
          "text": [
            "\u001b[34m\u001b[1mval: \u001b[0mScanning /content/Road-lines-segmentation-2/valid/labels.cache... 1400 images, 0 backgrounds, 0 corrupt: 100%|██████████| 1400/1400 [00:00<?, ?it/s]"
          ]
        },
        {
          "output_type": "stream",
          "name": "stdout",
          "text": [
            "\u001b[34m\u001b[1mval: \u001b[0mWARNING ⚠️ /content/Road-lines-segmentation-2/valid/images/front-left-NO20240903-145041-000844F_MP4-0244_jpg.rf.4202a8af1a35ceb1e66ab38357ef22b8.jpg: 1 duplicate labels removed\n"
          ]
        },
        {
          "output_type": "stream",
          "name": "stderr",
          "text": [
            "\n",
            "                 Class     Images  Instances      Box(P          R      mAP50  mAP50-95)     Mask(P          R      mAP50  mAP50-95): 100%|██████████| 44/44 [01:09<00:00,  1.57s/it]\n"
          ]
        },
        {
          "output_type": "stream",
          "name": "stdout",
          "text": [
            "                   all       1400       3892      0.909      0.865      0.912      0.738      0.906      0.862      0.909      0.594\n",
            "         License_Plate        231        255      0.919      0.745      0.828      0.514      0.906      0.733      0.817      0.494\n",
            "                   car       1087       2432      0.874      0.891      0.941      0.812      0.876      0.891      0.942       0.72\n",
            "     solid-yellow-line       1161       1205      0.933      0.959      0.967      0.888      0.936      0.962      0.967      0.568\n",
            "Speed: 0.3ms preprocess, 5.6ms inference, 0.0ms loss, 0.9ms postprocess per image\n",
            "Saving Ex-11/Model-segment-evaluation-11/predictions.json...\n",
            "Results saved to \u001b[1mEx-11/Model-segment-evaluation-11\u001b[0m\n"
          ]
        }
      ],
      "source": [
        "evaluation = model.val(\n",
        "    data = '/content/Road-lines-segmentation-2/data.yaml',\n",
        "    task = 'segment',\n",
        "    imgsz = 640,\n",
        "    iou = 0.6,\n",
        "    batch = 32,\n",
        "    save_json = True,\n",
        "    save_txt = True,\n",
        "    device = 0,\n",
        "    verbose = True,\n",
        "    seed = 93,\n",
        "    plots = True,\n",
        "    name = 'Model-segment-evaluation-11'\n",
        ")"
      ]
    },
    {
      "cell_type": "code",
      "execution_count": null,
      "metadata": {
        "id": "YEqHqmSD2zD_"
      },
      "outputs": [],
      "source": [
        "\"\"\"\n",
        "Previous results wiht YOLOv8n-seg\n",
        "Ultralytics 8.3.5 🚀 Python-3.10.12 torch-2.4.1+cu121 CUDA:0 (Tesla T4, 15102MiB)\n",
        "val: Scanning /content/Prototype-4/valid/labels.cache... 7 images, 0 backgrounds, 0 corrupt: 100%|██████████| 7/7 [00:00<?, ?it/s]\n",
        "                 Class     Images  Instances      Box(P          R      mAP50  mAP50-95)     Mask(P          R      mAP50  mAP50-95): 100%|██████████| 1/1 [00:08<00:00,  8.23s/it]\n",
        "                   all          7         18      0.816      0.592      0.803      0.681      0.816      0.592      0.828      0.623\n",
        "                   car          7          9          1      0.296      0.755       0.61          1      0.296      0.805      0.644\n",
        "     solid-yellow-line          7          9      0.632      0.889      0.851      0.752      0.632      0.889      0.851      0.602\n",
        "Speed: 1.4ms preprocess, 14.6ms inference, 0.0ms loss, 1.9ms postprocess per image\n",
        "Saving Model-prototype/Model-segment-evaluation-52/predictions.json...\n",
        "Results saved to Model-prototype/Model-segment-evaluation-52\n",
        "\"\"\""
      ]
    },
    {
      "cell_type": "markdown",
      "metadata": {
        "id": "Fk6hA0HYWwoj"
      },
      "source": [
        "## predictions on the testset"
      ]
    },
    {
      "cell_type": "code",
      "execution_count": null,
      "metadata": {
        "colab": {
          "base_uri": "https://localhost:8080/"
        },
        "collapsed": true,
        "id": "up01gKxUWwoj",
        "outputId": "893a8ca1-5ac7-4d3b-9f6f-82686265cfce"
      },
      "outputs": [
        {
          "name": "stdout",
          "output_type": "stream",
          "text": [
            "\n",
            "image 1/3 /content/Prototype-4/test/images/IMG-20241003-WA0008_jpg.rf.8659e8c7fc1ab4e86064fe16e1c1e130.jpg: 640x640 1 solid-yellow-line, 15.2ms\n",
            "image 2/3 /content/Prototype-4/test/images/IMG-20241003-WA0014_jpg.rf.eba2af291897f7af6fa5f89b4c43632e.jpg: 640x640 (no detections), 14.8ms\n",
            "image 3/3 /content/Prototype-4/test/images/IMG-20241003-WA0024_jpg.rf.3e44c3b05f5ab3e1735d4d65c0c5ca64.jpg: 640x640 (no detections), 14.9ms\n",
            "Speed: 1.6ms preprocess, 15.0ms inference, 1.9ms postprocess per image at shape (1, 3, 640, 640)\n"
          ]
        }
      ],
      "source": [
        "predictions = model.predict(\n",
        "    data = '/content/Road-lines-segmentation-2/data.yaml',\n",
        "    source = '/content/Road-lines-segmentation-2/test/images',\n",
        "    task = 'segment',\n",
        "    imgsz = 640,\n",
        "    device = 0,\n",
        "    verbose = True,\n",
        "    seed = 93,\n",
        "    plots = True,\n",
        "    name = 'Model-segment-predictions',\n",
        "    save_json = True,\n",
        ")"
      ]
    },
    {
      "cell_type": "markdown",
      "metadata": {
        "id": "E3h1cwHRWwok"
      },
      "source": [
        "## apply quantization"
      ]
    },
    {
      "cell_type": "code",
      "execution_count": 14,
      "metadata": {
        "colab": {
          "base_uri": "https://localhost:8080/",
          "height": 887
        },
        "id": "aEMJXCwmWwok",
        "outputId": "1bd9465d-0518-4d3f-d34a-f24ad9c6b667"
      },
      "outputs": [
        {
          "output_type": "stream",
          "name": "stdout",
          "text": [
            "Ultralytics 8.3.5 🚀 Python-3.10.12 torch-2.4.1+cu121 CPU (Intel Xeon 2.20GHz)\n",
            "WARNING ⚠️ half=True and int8=True are mutually exclusive, setting half=False.\n",
            "\n",
            "\u001b[34m\u001b[1mPyTorch:\u001b[0m starting from 'Ex-11/Ex-11/weights/best.pt' with input shape (1, 3, 640, 640) BCHW and output shape(s) ((1, 39, 8400), (1, 32, 160, 160)) (5.7 MB)\n",
            "\u001b[31m\u001b[1mrequirements:\u001b[0m Ultralytics requirements ['onnx>=1.12.0', 'onnxslim==0.1.34', 'onnxruntime-gpu'] not found, attempting AutoUpdate...\n",
            "Collecting onnx>=1.12.0\n",
            "  Downloading onnx-1.17.0-cp310-cp310-manylinux_2_17_x86_64.manylinux2014_x86_64.whl.metadata (16 kB)\n",
            "Collecting onnxslim==0.1.34\n",
            "  Downloading onnxslim-0.1.34-py3-none-any.whl.metadata (2.7 kB)\n",
            "Collecting onnxruntime-gpu\n",
            "  Downloading onnxruntime_gpu-1.19.2-cp310-cp310-manylinux_2_27_x86_64.manylinux_2_28_x86_64.whl.metadata (4.5 kB)\n",
            "Requirement already satisfied: sympy in /usr/local/lib/python3.10/dist-packages (from onnxslim==0.1.34) (1.13.3)\n",
            "Requirement already satisfied: packaging in /usr/local/lib/python3.10/dist-packages (from onnxslim==0.1.34) (24.1)\n",
            "Requirement already satisfied: numpy>=1.20 in /usr/local/lib/python3.10/dist-packages (from onnx>=1.12.0) (1.26.4)\n",
            "Requirement already satisfied: protobuf>=3.20.2 in /usr/local/lib/python3.10/dist-packages (from onnx>=1.12.0) (3.20.3)\n",
            "Collecting coloredlogs (from onnxruntime-gpu)\n",
            "  Downloading coloredlogs-15.0.1-py2.py3-none-any.whl.metadata (12 kB)\n",
            "Requirement already satisfied: flatbuffers in /usr/local/lib/python3.10/dist-packages (from onnxruntime-gpu) (24.3.25)\n",
            "Collecting humanfriendly>=9.1 (from coloredlogs->onnxruntime-gpu)\n",
            "  Downloading humanfriendly-10.0-py2.py3-none-any.whl.metadata (9.2 kB)\n",
            "Requirement already satisfied: mpmath<1.4,>=1.1.0 in /usr/local/lib/python3.10/dist-packages (from sympy->onnxslim==0.1.34) (1.3.0)\n",
            "Downloading onnxslim-0.1.34-py3-none-any.whl (140 kB)\n",
            "   ━━━━━━━━━━━━━━━━━━━━━━━━━━━━━━━━━━━━━━━━ 140.3/140.3 kB 5.7 MB/s eta 0:00:00\n",
            "Downloading onnx-1.17.0-cp310-cp310-manylinux_2_17_x86_64.manylinux2014_x86_64.whl (16.0 MB)\n",
            "   ━━━━━━━━━━━━━━━━━━━━━━━━━━━━━━━━━━━━━━━━ 16.0/16.0 MB 295.2 MB/s eta 0:00:00\n",
            "Downloading onnxruntime_gpu-1.19.2-cp310-cp310-manylinux_2_27_x86_64.manylinux_2_28_x86_64.whl (226.2 MB)\n",
            "   ━━━━━━━━━━━━━━━━━━━━━━━━━━━━━━━━━━━━━━━━ 226.2/226.2 MB 287.7 MB/s eta 0:00:00\n",
            "Downloading coloredlogs-15.0.1-py2.py3-none-any.whl (46 kB)\n",
            "   ━━━━━━━━━━━━━━━━━━━━━━━━━━━━━━━━━━━━━━━━ 46.0/46.0 kB 245.6 MB/s eta 0:00:00\n",
            "Downloading humanfriendly-10.0-py2.py3-none-any.whl (86 kB)\n",
            "   ━━━━━━━━━━━━━━━━━━━━━━━━━━━━━━━━━━━━━━━━ 86.8/86.8 kB 269.7 MB/s eta 0:00:00\n",
            "Installing collected packages: onnx, humanfriendly, onnxslim, coloredlogs, onnxruntime-gpu\n",
            "Successfully installed coloredlogs-15.0.1 humanfriendly-10.0 onnx-1.17.0 onnxruntime-gpu-1.19.2 onnxslim-0.1.34\n",
            "\n",
            "\u001b[31m\u001b[1mrequirements:\u001b[0m AutoUpdate success ✅ 13.4s, installed 3 packages: ['onnx>=1.12.0', 'onnxslim==0.1.34', 'onnxruntime-gpu']\n",
            "\u001b[31m\u001b[1mrequirements:\u001b[0m ⚠️ \u001b[1mRestart runtime or rerun command for updates to take effect\u001b[0m\n",
            "\n",
            "\n",
            "\u001b[34m\u001b[1mONNX:\u001b[0m starting export with onnx 1.17.0 opset 19...\n",
            "\u001b[34m\u001b[1mONNX:\u001b[0m slimming with onnxslim 0.1.34...\n",
            "\u001b[34m\u001b[1mONNX:\u001b[0m export success ✅ 41.7s, saved as 'Ex-11/Ex-11/weights/best.onnx' (11.0 MB)\n",
            "\n",
            "Export complete (43.2s)\n",
            "Results saved to \u001b[1m/content/Ex-11/Ex-11/weights\u001b[0m\n",
            "Predict:         yolo predict task=segment model=Ex-11/Ex-11/weights/best.onnx imgsz=640 int8 \n",
            "Validate:        yolo val task=segment model=Ex-11/Ex-11/weights/best.onnx imgsz=640 data=/content/Road-lines-segmentation-2/data.yaml int8 \n",
            "Visualize:       https://netron.app\n"
          ]
        },
        {
          "output_type": "execute_result",
          "data": {
            "text/plain": [
              "'Ex-11/Ex-11/weights/best.onnx'"
            ],
            "application/vnd.google.colaboratory.intrinsic+json": {
              "type": "string"
            }
          },
          "metadata": {},
          "execution_count": 14
        }
      ],
      "source": [
        "model.export(format=\"onnx\", int8=True, dynamic=True,half=True, simplify=True, data='/content/Road-lines-segmentation-2/data.yaml')"
      ]
    },
    {
      "cell_type": "code",
      "execution_count": 16,
      "metadata": {
        "colab": {
          "base_uri": "https://localhost:8080/"
        },
        "id": "UJxdTrvyFdb0",
        "outputId": "5b8c8c36-065c-4761-cb82-bda43b45eb0d"
      },
      "outputs": [
        {
          "output_type": "stream",
          "name": "stdout",
          "text": [
            "ANSI_X3.4-1968\n"
          ]
        }
      ],
      "source": [
        "import locale\n",
        "print(locale.getpreferredencoding())"
      ]
    },
    {
      "cell_type": "code",
      "execution_count": 17,
      "metadata": {
        "id": "-oDACpvGGTOK"
      },
      "outputs": [],
      "source": [
        "def getpreferredencoding(do_setlocale = True):\n",
        "    return \"UTF-8\"\n",
        "locale.getpreferredencoding = getpreferredencoding"
      ]
    },
    {
      "cell_type": "markdown",
      "source": [
        "## download results"
      ],
      "metadata": {
        "id": "7tj4aJe-3cGu"
      }
    },
    {
      "cell_type": "code",
      "execution_count": 18,
      "metadata": {
        "id": "is7AbF7FFR_f",
        "colab": {
          "base_uri": "https://localhost:8080/"
        },
        "collapsed": true,
        "outputId": "4167146b-6742-4591-d74b-bb421350175c"
      },
      "outputs": [
        {
          "output_type": "stream",
          "name": "stdout",
          "text": [
            "  adding: content/Ex-11/Ex-11/ (stored 0%)\n",
            "  adding: content/Ex-11/Ex-11/labels_correlogram.jpg (deflated 33%)\n",
            "  adding: content/Ex-11/Ex-11/val_batch0_labels.jpg (deflated 5%)\n",
            "  adding: content/Ex-11/Ex-11/train_batch42750.jpg (deflated 6%)\n",
            "  adding: content/Ex-11/Ex-11/val_batch2_pred.jpg (deflated 6%)\n",
            "  adding: content/Ex-11/Ex-11/train_batch1.jpg (deflated 1%)\n",
            "  adding: content/Ex-11/Ex-11/train_batch42752.jpg (deflated 4%)\n",
            "  adding: content/Ex-11/Ex-11/MaskPR_curve.png (deflated 13%)\n",
            "  adding: content/Ex-11/Ex-11/args.yaml (deflated 51%)\n",
            "  adding: content/Ex-11/Ex-11/BoxF1_curve.png (deflated 10%)\n",
            "  adding: content/Ex-11/Ex-11/labels.jpg (deflated 40%)\n",
            "  adding: content/Ex-11/Ex-11/val_batch2_labels.jpg (deflated 6%)\n",
            "  adding: content/Ex-11/Ex-11/val_batch1_labels.jpg (deflated 6%)\n",
            "  adding: content/Ex-11/Ex-11/train_batch42751.jpg (deflated 6%)\n",
            "  adding: content/Ex-11/Ex-11/train_batch2.jpg (deflated 1%)\n",
            "  adding: content/Ex-11/Ex-11/MaskP_curve.png (deflated 14%)\n",
            "  adding: content/Ex-11/Ex-11/val_batch1_pred.jpg (deflated 6%)\n",
            "  adding: content/Ex-11/Ex-11/results.csv (deflated 85%)\n",
            "  adding: content/Ex-11/Ex-11/weights/ (stored 0%)\n",
            "  adding: content/Ex-11/Ex-11/weights/best.onnx (deflated 13%)\n",
            "  adding: content/Ex-11/Ex-11/weights/last.pt (deflated 10%)\n",
            "  adding: content/Ex-11/Ex-11/weights/best.pt (deflated 10%)\n",
            "  adding: content/Ex-11/Ex-11/results.png (deflated 9%)\n",
            "  adding: content/Ex-11/Ex-11/BoxPR_curve.png (deflated 13%)\n",
            "  adding: content/Ex-11/Ex-11/train_batch0.jpg (deflated 1%)\n",
            "  adding: content/Ex-11/Ex-11/confusion_matrix.png (deflated 28%)\n",
            "  adding: content/Ex-11/Ex-11/BoxP_curve.png (deflated 14%)\n",
            "  adding: content/Ex-11/Ex-11/val_batch0_pred.jpg (deflated 5%)\n",
            "  adding: content/Ex-11/Ex-11/events.out.tfevents.1728224640.346402a1a277.219.0 (deflated 88%)\n",
            "  adding: content/Ex-11/Ex-11/BoxR_curve.png (deflated 10%)\n",
            "  adding: content/Ex-11/Ex-11/MaskF1_curve.png (deflated 10%)\n",
            "  adding: content/Ex-11/Ex-11/MaskR_curve.png (deflated 10%)\n",
            "  adding: content/Ex-11/Ex-11/confusion_matrix_normalized.png (deflated 28%)\n"
          ]
        }
      ],
      "source": [
        "!zip -r model-11.zip /content/Ex-11/Ex-11"
      ]
    },
    {
      "cell_type": "code",
      "execution_count": 20,
      "metadata": {
        "colab": {
          "base_uri": "https://localhost:8080/"
        },
        "collapsed": true,
        "id": "FF002xNoFg_W",
        "outputId": "4349b387-fa80-4d77-d97f-57b24b679594"
      },
      "outputs": [
        {
          "output_type": "stream",
          "name": "stdout",
          "text": [
            "  adding: content/Ex-11/Model-segment-evaluation-11/ (stored 0%)\n",
            "  adding: content/Ex-11/Model-segment-evaluation-11/val_batch0_labels.jpg (deflated 5%)\n",
            "  adding: content/Ex-11/Model-segment-evaluation-11/val_batch2_pred.jpg (deflated 6%)\n",
            "  adding: content/Ex-11/Model-segment-evaluation-11/predictions.json (deflated 82%)\n",
            "  adding: content/Ex-11/Model-segment-evaluation-11/MaskPR_curve.png (deflated 13%)\n",
            "  adding: content/Ex-11/Model-segment-evaluation-11/labels/ (stored 0%)\n",
            "  adding: content/Ex-11/Model-segment-evaluation-11/labels/front-left-NO20240908-150138-000147F_MP4-0038_jpg.rf.76a1fd5375871da316fb297a01e59bb7.txt (deflated 72%)\n",
            "  adding: content/Ex-11/Model-segment-evaluation-11/labels/front-right-NO20240903-143941-000833F_MP4-0062_jpg.rf.dbbc098da30ecb071b39c6b33d0dd6dd.txt (deflated 80%)\n",
            "  adding: content/Ex-11/Model-segment-evaluation-11/labels/front-right-NO20240909-181340-000011F_MP4-0011_jpg.rf.792a3543a92dbec9ec0fb408e807fcd6.txt (deflated 84%)\n",
            "  adding: content/Ex-11/Model-segment-evaluation-11/labels/front-left-NO20240903-145541-000849F_MP4-0005_jpg.rf.2d98afe9b927769da0803a7e0e665517.txt (deflated 77%)\n",
            "  adding: content/Ex-11/Model-segment-evaluation-11/labels/front-right-NO20240903-143941-000833F_MP4-0110_jpg.rf.a01dae0a77f37b2b304484b6c05bccde.txt (deflated 80%)\n",
            "  adding: content/Ex-11/Model-segment-evaluation-11/labels/front-left-NO20240908-150138-000147F_MP4-0160_jpg.rf.104154cc2eb4e1fd2e3856383c990ea3.txt (deflated 75%)\n",
            "  adding: content/Ex-11/Model-segment-evaluation-11/labels/cars-NO20240914-112948-000211F_MP4-0031_jpg.rf.be3d08c3c56083dde03ac1e830685ec1.txt (deflated 76%)\n",
            "  adding: content/Ex-11/Model-segment-evaluation-11/labels/front-right-NO20240903-143941-000833F_MP4-0238_jpg.rf.08572008c9de02f3f4f061e647388a13.txt (deflated 82%)\n",
            "  adding: content/Ex-11/Model-segment-evaluation-11/labels/front-right-NO20240903-143941-000833F_MP4-0277_jpg.rf.9107ec60e2fb15ac10b0e0f4a2bb0a1c.txt (deflated 78%)\n",
            "  adding: content/Ex-11/Model-segment-evaluation-11/labels/NO20240917-144137-000246F_MP4-0010_jpg.rf.6c9627fb55644b075ad762ec226a8d06.txt (deflated 77%)\n",
            "  adding: content/Ex-11/Model-segment-evaluation-11/labels/front-right-NO20240903-144041-000834F_MP4-0076_jpg.rf.71860ae26192b6be7f36fb3f3171d19c.txt (deflated 74%)\n",
            "  adding: content/Ex-11/Model-segment-evaluation-11/labels/front-left-NO20240903-145541-000849F_MP4-0047_jpg.rf.80d010f1414429393caf6315b20e16cf.txt (deflated 78%)\n",
            "  adding: content/Ex-11/Model-segment-evaluation-11/labels/CarLongPlateGen1787_jpg.rf.edaa9ee72ee232493818a7a1b7cfac5c.txt (deflated 46%)\n",
            "  adding: content/Ex-11/Model-segment-evaluation-11/labels/front-left-NO20240908-145538-000141F_MP4-0293_jpg.rf.8af66074d8313838362a792ba856b344.txt (deflated 72%)\n",
            "  adding: content/Ex-11/Model-segment-evaluation-11/labels/CarLongPlateGen2604_jpg.rf.bae853bd86b32830d1accba2bf45c3f4.txt (deflated 68%)\n",
            "  adding: content/Ex-11/Model-segment-evaluation-11/labels/Cars362_png_jpg.rf.b8fe7f3190888b39de2b344f7b01b710.txt (deflated 73%)\n",
            "  adding: content/Ex-11/Model-segment-evaluation-11/labels/v8_mp4-0033_jpg.rf.312305fe51cb396c25e18a5bb66677bc.txt (deflated 78%)\n",
            "  adding: content/Ex-11/Model-segment-evaluation-11/labels/v6_mp4-0017_jpg.rf.63fd4075306c090856275a39d657179e.txt (deflated 79%)\n",
            "  adding: content/Ex-11/Model-segment-evaluation-11/labels/night-front-right-NO20240909-182940-000027F_MP4-0016_jpg.rf.deaa9bfb4c94730a287e3194150ad9eb.txt (deflated 74%)\n",
            "  adding: content/Ex-11/Model-segment-evaluation-11/labels/front-left-NO20240909-145804-000363F_MP4-0174_jpg.rf.17a23bdfb114712bc0e342be67e19ef5.txt (deflated 75%)\n",
            "  adding: content/Ex-11/Model-segment-evaluation-11/labels/front-right-NO20240903-144141-000835F_MP4-0159_jpg.rf.a2439b3335c8154d78317342dbb7061e.txt (deflated 76%)\n",
            "  adding: content/Ex-11/Model-segment-evaluation-11/labels/NO20240909-181040-000008F_MP4-0207_jpg.rf.fce27d5f9d0bdf487905080fd026fd52.txt (deflated 72%)\n",
            "  adding: content/Ex-11/Model-segment-evaluation-11/labels/xemay375_jpg.rf.94026a758640be36fee325f04ad1125e.txt (deflated 47%)\n",
            "  adding: content/Ex-11/Model-segment-evaluation-11/labels/front-left-NO20240903-145141-000845F_MP4-0102_jpg.rf.7da16a37883f9c8b966fb2222646fa3a.txt (deflated 77%)\n",
            "  adding: content/Ex-11/Model-segment-evaluation-11/labels/front-left-NO20240903-145141-000845F_MP4-0016_jpg.rf.a281d631521018f7aa1d9d82b784e0fb.txt (deflated 75%)\n",
            "  adding: content/Ex-11/Model-segment-evaluation-11/labels/CarLongPlateGen729_jpg.rf.6842f6ff773d987a54c39a4ab4a86c4f.txt (deflated 62%)\n",
            "  adding: content/Ex-11/Model-segment-evaluation-11/labels/CarLongPlateGen1322_jpg.rf.5d5cfe1de9f7228cd56c2b55e8def495.txt (deflated 49%)\n",
            "  adding: content/Ex-11/Model-segment-evaluation-11/labels/front-left-NO20240910-060325-000075F_MP4-0057_jpg.rf.f3e324f9bc59cc58dba0c3e33c8475e9.txt (deflated 76%)\n",
            "  adding: content/Ex-11/Model-segment-evaluation-11/labels/front-left-NO20240903-145041-000844F_MP4-0226_jpg.rf.67ff2531fe8edbf67fb1c9aafe9d5b58.txt (deflated 73%)\n",
            "  adding: content/Ex-11/Model-segment-evaluation-11/labels/front-right-NO20240909-181340-000011F_MP4-0085_jpg.rf.bfb5d67b789c55222f6ab6d46edbc958.txt (deflated 77%)\n",
            "  adding: content/Ex-11/Model-segment-evaluation-11/labels/front-right-NO20240909-181540-000013F_MP4-0092_jpg.rf.95a3ad28f73fdead9c22681d7147f4fd.txt (deflated 73%)\n",
            "  adding: content/Ex-11/Model-segment-evaluation-11/labels/front-left-NO20240903-145141-000845F_MP4-0013_jpg.rf.48a373ddfe1a4a4d3c417ba6f79ebca4.txt (deflated 78%)\n",
            "  adding: content/Ex-11/Model-segment-evaluation-11/labels/front-left-NO20240903-145141-000845F_MP4-0009_jpg.rf.220cb05e06c6f9f92a777fb20f2ee61e.txt (deflated 74%)\n",
            "  adding: content/Ex-11/Model-segment-evaluation-11/labels/front-left-NO20240903-145141-000845F_MP4-0121_jpg.rf.1b32af914f022e6198f2468cc953a504.txt (deflated 77%)\n",
            "  adding: content/Ex-11/Model-segment-evaluation-11/labels/cars-NO20240914-114048-000222F_MP4-0057_jpg.rf.f6b61ab2245dca9d6745b40dabdaf820.txt (deflated 83%)\n",
            "  adding: content/Ex-11/Model-segment-evaluation-11/labels/xemayBigPlate2_jpg.rf.eccceaee4f55b359ce753d8ad2332700.txt (deflated 71%)\n",
            "  adding: content/Ex-11/Model-segment-evaluation-11/labels/front-left-NO20240908-150138-000147F_MP4-0087_jpg.rf.e7aaa59207724f5396fa2353a9e4270f.txt (deflated 74%)\n",
            "  adding: content/Ex-11/Model-segment-evaluation-11/labels/cars-NO20240910-060525-000077F_MP4-0035_jpg.rf.4d961adddc4887cd534c880cf5bf9d4a.txt (deflated 72%)\n",
            "  adding: content/Ex-11/Model-segment-evaluation-11/labels/001679a19bb6fd3f_jpg.rf.9ee706b5ede59764a44849aef5dd150e.txt (deflated 74%)\n",
            "  adding: content/Ex-11/Model-segment-evaluation-11/labels/front-left-NO20240909-143304-000338F_MP4-0151_jpg.rf.74f24436483f6df6f7af99a254dd40f2.txt (deflated 77%)\n",
            "  adding: content/Ex-11/Model-segment-evaluation-11/labels/front-left-NO20240903-145441-000848F_MP4-0300_jpg.rf.b91e5bae7cc71033c1073f98d5c10f0d.txt (deflated 79%)\n",
            "  adding: content/Ex-11/Model-segment-evaluation-11/labels/NO20240909-181040-000008F_MP4-0256_jpg.rf.3308c7091301c1491e6b998c37637214.txt (deflated 82%)\n",
            "  adding: content/Ex-11/Model-segment-evaluation-11/labels/cars-NO20240914-114048-000222F_MP4-0040_jpg.rf.c3ea5ff9d691c74684d2ce41aab0f667.txt (deflated 81%)\n",
            "  adding: content/Ex-11/Model-segment-evaluation-11/labels/front-left-NO20240903-145441-000848F_MP4-0285_jpg.rf.a02e25dae5f32deb7af83ae27319ba83.txt (deflated 78%)\n",
            "  adding: content/Ex-11/Model-segment-evaluation-11/labels/front-left-NO20240903-145041-000844F_MP4-0150_jpg.rf.6c954f08d4e0b6624fe5aa8fffa79b79.txt (deflated 75%)\n",
            "  adding: content/Ex-11/Model-segment-evaluation-11/labels/pic_428_jpg.rf.c0ea6ed2116b5f1a4b58ea2021136d27.txt (deflated 55%)\n",
            "  adding: content/Ex-11/Model-segment-evaluation-11/labels/front-right-NO20240903-144041-000834F_MP4-0112_jpg.rf.481e3046cac39919f62c80c554187db8.txt (deflated 75%)\n",
            "  adding: content/Ex-11/Model-segment-evaluation-11/labels/NO20240917-143837-000243F_MP4-0029_jpg.rf.cfc08dc0e54ad460892ea0e765325d31.txt (deflated 81%)\n",
            "  adding: content/Ex-11/Model-segment-evaluation-11/labels/xemay2419_jpg.rf.6d28624a06f798dcbbf4fbdead1421a3.txt (deflated 69%)\n",
            "  adding: content/Ex-11/Model-segment-evaluation-11/labels/front-left-NO20240909-150504-000370F_MP4-0143_jpg.rf.f439daaac0c28f1d59eaeb497a0b5af2.txt (deflated 75%)\n",
            "  adding: content/Ex-11/Model-segment-evaluation-11/labels/xemayBigPlate202_jpg.rf.24376bb67b50b745370a1e06ab8cbf68.txt (deflated 61%)\n",
            "  adding: content/Ex-11/Model-segment-evaluation-11/labels/front-left-NO20240903-145041-000844F_MP4-0289_jpg.rf.f7ee5e31f9ef8f5c2e59645347b425b6.txt (deflated 75%)\n",
            "  adding: content/Ex-11/Model-segment-evaluation-11/labels/front-left-NO20240903-145541-000849F_MP4-0057_jpg.rf.f1007b56d281b0954d6a264ee0f362fa.txt (deflated 80%)\n",
            "  adding: content/Ex-11/Model-segment-evaluation-11/labels/front-left-NO20240909-144404-000349F_MP4-0027_jpg.rf.0d3be0c5ae1e91538ba87fca4a352d1d.txt (deflated 78%)\n",
            "  adding: content/Ex-11/Model-segment-evaluation-11/labels/front-left-NO20240903-145041-000844F_MP4-0136_jpg.rf.b870f3610711048a1f367213dd4b3f94.txt (deflated 75%)\n",
            "  adding: content/Ex-11/Model-segment-evaluation-11/labels/NO20240909-181140-000009F_MP4-0161_jpg.rf.edfb604d1cbdbf6308e641ee1bc06f69.txt (deflated 79%)\n",
            "  adding: content/Ex-11/Model-segment-evaluation-11/labels/cars-NO20240914-114048-000222F_MP4-0110_jpg.rf.64a2a431de7755b14aba8a7143094c4a.txt (deflated 79%)\n",
            "  adding: content/Ex-11/Model-segment-evaluation-11/labels/front-left-NO20240903-145141-000845F_MP4-0100_jpg.rf.4fbbd32f017419d4ff0ff36dd27db80f.txt (deflated 75%)\n",
            "  adding: content/Ex-11/Model-segment-evaluation-11/labels/front-right-NO20240903-143941-000833F_MP4-0151_jpg.rf.0656ec7135e531eed36c85c8ba32dda0.txt (deflated 80%)\n",
            "  adding: content/Ex-11/Model-segment-evaluation-11/labels/front-right-NO20240903-143941-000833F_MP4-0013_jpg.rf.43cff51429dadf1bd311f12e2adf951e.txt (deflated 84%)\n",
            "  adding: content/Ex-11/Model-segment-evaluation-11/labels/front-left-NO20240903-145441-000848F_MP4-0106_jpg.rf.1667096cf940d9656e5c153f3a80ebb0.txt (deflated 77%)\n",
            "  adding: content/Ex-11/Model-segment-evaluation-11/labels/front-left-NO20240909-151004-000375F_MP4-0134_jpg.rf.432b0e58ae78e443adf12425dc044ce0.txt (deflated 73%)\n",
            "  adding: content/Ex-11/Model-segment-evaluation-11/labels/front-right-NO20240903-144141-000835F_MP4-0174_jpg.rf.5e85503bdfeaf47e608a6e838fe1f220.txt (deflated 75%)\n",
            "  adding: content/Ex-11/Model-segment-evaluation-11/labels/front-right-NO20240903-144041-000834F_MP4-0023_jpg.rf.80ca26b2d6fb3f6483fddc7f23bf4313.txt (deflated 71%)\n",
            "  adding: content/Ex-11/Model-segment-evaluation-11/labels/front-left-NO20240903-145041-000844F_MP4-0224_jpg.rf.cff59523e5ccf0a5e0565d96c6b634db.txt (deflated 76%)\n",
            "  adding: content/Ex-11/Model-segment-evaluation-11/labels/v5_mp4-0074_jpg.rf.b0ab9c0ba150f7aa106cc3ba52365857.txt (deflated 76%)\n",
            "  adding: content/Ex-11/Model-segment-evaluation-11/labels/CarLongPlateGen1024_jpg.rf.7d0fc39c5418e7361e1242d0d8846dbd.txt (deflated 59%)\n",
            "  adding: content/Ex-11/Model-segment-evaluation-11/labels/front-left-NO20240909-143204-000337F_MP4-0160_jpg.rf.d0ea8f7b13b7e9470e07253211d5758f.txt (deflated 81%)\n",
            "  adding: content/Ex-11/Model-segment-evaluation-11/labels/front-left-NO20240909-150004-000365F_MP4-0140_jpg.rf.0ac7820d687f85e73f5a8c287b44628e.txt (deflated 72%)\n",
            "  adding: content/Ex-11/Model-segment-evaluation-11/labels/front-left-NO20240903-145141-000845F_MP4-0035_jpg.rf.a7ac9dd6618bf3f021e9b4328967078c.txt (deflated 73%)\n",
            "  adding: content/Ex-11/Model-segment-evaluation-11/labels/front-left-NO20240909-144004-000345F_MP4-0171_jpg.rf.8b6c91a45c8bf76988793eeb162b8848.txt (deflated 77%)\n",
            "  adding: content/Ex-11/Model-segment-evaluation-11/labels/pic_630_jpeg_jpg.rf.299b6d92f9c824ca953e589fa42cc212.txt (deflated 69%)\n",
            "  adding: content/Ex-11/Model-segment-evaluation-11/labels/NO20240909-181040-000008F_MP4-0257_jpg.rf.d8150650dfd3ce9b0068240d19dc9a44.txt (deflated 74%)\n",
            "  adding: content/Ex-11/Model-segment-evaluation-11/labels/CarLongPlateGen3563_jpg.rf.a55fb067e6801f0542a78d87a4245b22.txt (deflated 50%)\n",
            "  adding: content/Ex-11/Model-segment-evaluation-11/labels/chery-cross_MP4-0000_jpg.rf.b1e624ef0b907a5178fbd54acdf021d7.txt (deflated 82%)\n",
            "  adding: content/Ex-11/Model-segment-evaluation-11/labels/front-left-NO20240909-144404-000349F_MP4-0059_jpg.rf.93d2647ffb33e4d48a13f93fdb5d47dd.txt (deflated 71%)\n",
            "  adding: content/Ex-11/Model-segment-evaluation-11/labels/front-right-NO20240903-144141-000835F_MP4-0193_jpg.rf.950d1969687b0f1c96898f567846f78d.txt (deflated 81%)\n",
            "  adding: content/Ex-11/Model-segment-evaluation-11/labels/front-left-NO20240903-145141-000845F_MP4-0014_jpg.rf.a9d1454b2e2641b57d96a334ef8711b3.txt (deflated 76%)\n",
            "  adding: content/Ex-11/Model-segment-evaluation-11/labels/front-left-NO20240909-143404-000339F_MP4-0024_jpg.rf.4a081b542055c08bf30f638086118b1b.txt (deflated 80%)\n",
            "  adding: content/Ex-11/Model-segment-evaluation-11/labels/xemay1092_jpg.rf.5bd8a13e7b7def29f29466755ece4a6b.txt (deflated 47%)\n",
            "  adding: content/Ex-11/Model-segment-evaluation-11/labels/front-left-NO20240909-144104-000346F_MP4-0155_jpg.rf.3f6128c78526bd9e402a3d1b68b24621.txt (deflated 75%)\n",
            "  adding: content/Ex-11/Model-segment-evaluation-11/labels/front-left-NO20240903-145541-000849F_MP4-0072_jpg.rf.e6f60c3509a4241c8318c72897c8c49a.txt (deflated 78%)\n",
            "  adding: content/Ex-11/Model-segment-evaluation-11/labels/NO20240909-181040-000008F_MP4-0188_jpg.rf.a059570aeb85b8c250a0295750a73044.txt (deflated 73%)\n",
            "  adding: content/Ex-11/Model-segment-evaluation-11/labels/front-left-NO20240903-145041-000844F_MP4-0212_jpg.rf.6ec004af19b31b9c42c3b843e52645c5.txt (deflated 80%)\n",
            "  adding: content/Ex-11/Model-segment-evaluation-11/labels/front-left-NO20240903-145041-000844F_MP4-0159_jpg.rf.57f5168bf8759c88eddf069738fe87a1.txt (deflated 74%)\n",
            "  adding: content/Ex-11/Model-segment-evaluation-11/labels/front-left-NO20240910-064125-000113F_MP4-0065_jpg.rf.2d595611b71edee3dd9315abea0b8f4b.txt (deflated 74%)\n",
            "  adding: content/Ex-11/Model-segment-evaluation-11/labels/front-left-NO20240909-151004-000375F_MP4-0016_jpg.rf.02a8b993094268836b9fe32789111e57.txt (deflated 75%)\n",
            "  adding: content/Ex-11/Model-segment-evaluation-11/labels/front-left-NO20240903-145441-000848F_MP4-0299_jpg.rf.89fbf18233cbe0c7acfeb439fbd53138.txt (deflated 79%)\n",
            "  adding: content/Ex-11/Model-segment-evaluation-11/labels/front-left-NO20240903-145041-000844F_MP4-0164_jpg.rf.a78f6061110ef039942f5f7da6760920.txt (deflated 77%)\n",
            "  adding: content/Ex-11/Model-segment-evaluation-11/labels/front-left-NO20240903-145041-000844F_MP4-0298_jpg.rf.e60f6e1f08c847d1a658a0df0d19f64c.txt (deflated 76%)\n",
            "  adding: content/Ex-11/Model-segment-evaluation-11/labels/front-right-NO20240903-143941-000833F_MP4-0130_jpg.rf.ca22dba0b7647f1d412853f83aec9ba0.txt (deflated 77%)\n",
            "  adding: content/Ex-11/Model-segment-evaluation-11/labels/CarLongPlate141_jpg.rf.4acbf3ee626070706945d3e2b732ec36.txt (deflated 47%)\n",
            "  adding: content/Ex-11/Model-segment-evaluation-11/labels/1649292507309_jpg.rf.c6ac4a43207b45113c3db536b261a839.txt (deflated 75%)\n",
            "  adding: content/Ex-11/Model-segment-evaluation-11/labels/front-left-NO20240903-145541-000849F_MP4-0181_jpg.rf.c341b9bf6c5805765fbb220ba92500f3.txt (deflated 77%)\n",
            "  adding: content/Ex-11/Model-segment-evaluation-11/labels/front-left-NO20240909-143404-000339F_MP4-0019_jpg.rf.4ad00172f92a17effc40059268915cb8.txt (deflated 79%)\n",
            "  adding: content/Ex-11/Model-segment-evaluation-11/labels/CarLongPlateGen1341_jpg.rf.758653fb46d25015de45797baab08f90.txt (deflated 47%)\n",
            "  adding: content/Ex-11/Model-segment-evaluation-11/labels/night-front-right-NO20240909-183140-000029F_MP4-0034_jpg.rf.d84f557b4829ad99c8d3a47615b11947.txt (deflated 74%)\n",
            "  adding: content/Ex-11/Model-segment-evaluation-11/labels/cars-NO20240914-114048-000222F_MP4-0117_jpg.rf.8d995f9830416c864fa778a2ad8ed57f.txt (deflated 81%)\n",
            "  adding: content/Ex-11/Model-segment-evaluation-11/labels/CarLongPlateGen3398_jpg.rf.43dfe511856e0440268a40321ca40531.txt (deflated 47%)\n",
            "  adding: content/Ex-11/Model-segment-evaluation-11/labels/front-left-NO20240909-143304-000338F_MP4-0065_jpg.rf.335390c62e174fee69d9e1e6edd3d5f2.txt (deflated 76%)\n",
            "  adding: content/Ex-11/Model-segment-evaluation-11/labels/front-left-NO20240903-145141-000845F_MP4-0000_jpg.rf.1138bea463602fe9891b192ffbd65221.txt (deflated 77%)\n",
            "  adding: content/Ex-11/Model-segment-evaluation-11/labels/front-left-NO20240909-145704-000362F_MP4-0195_jpg.rf.7098a18cef9e5c109e20da6c8a04ae16.txt (deflated 74%)\n",
            "  adding: content/Ex-11/Model-segment-evaluation-11/labels/NO20240909-181040-000008F_MP4-0051_jpg.rf.862e1d1320d4f5857ffc0a6b31dacced.txt (deflated 79%)\n",
            "  adding: content/Ex-11/Model-segment-evaluation-11/labels/front-left-NO20240903-145141-000845F_MP4-0001_jpg.rf.eee15477acbd6708822bda0ff3e9955d.txt (deflated 77%)\n",
            "  adding: content/Ex-11/Model-segment-evaluation-11/labels/front-left-NO20240903-145041-000844F_MP4-0296_jpg.rf.ce651e48b914d29ae10c71d27a950197.txt (deflated 77%)\n",
            "  adding: content/Ex-11/Model-segment-evaluation-11/labels/front-right-NO20240909-181240-000010F_MP4-0270_jpg.rf.f4f9ded8333f109b4264a01b42e753b4.txt (deflated 72%)\n",
            "  adding: content/Ex-11/Model-segment-evaluation-11/labels/CarLongPlateGen1331_jpg.rf.c7dbba4386490e2aa049375a2126fb4a.txt (deflated 54%)\n",
            "  adding: content/Ex-11/Model-segment-evaluation-11/labels/night-front-right-NO20240909-182940-000027F_MP4-0087_jpg.rf.2e1e307f5340791c1a2494463e7c42b3.txt (deflated 77%)\n",
            "  adding: content/Ex-11/Model-segment-evaluation-11/labels/xemay223_jpg.rf.b2074193872e771b82d192d9665eed14.txt (deflated 49%)\n",
            "  adding: content/Ex-11/Model-segment-evaluation-11/labels/night-front-right-NO20240909-183740-000035F_MP4-0289_jpg.rf.4c192ddc81ee243ec3745f474396c722.txt (deflated 77%)\n",
            "  adding: content/Ex-11/Model-segment-evaluation-11/labels/front-left-NO20240909-144004-000345F_MP4-0030_jpg.rf.402d5109fcd3b3a02701caf4e9338403.txt (deflated 72%)\n",
            "  adding: content/Ex-11/Model-segment-evaluation-11/labels/night-front-right-NO20240909-182940-000027F_MP4-0142_jpg.rf.03e32be28b2a806828843b58238ea101.txt (deflated 75%)\n",
            "  adding: content/Ex-11/Model-segment-evaluation-11/labels/front-right-NO20240909-182340-000021F_MP4-0068_jpg.rf.c13359f59e8a456a9b2af43522cdff29.txt (deflated 70%)\n",
            "  adding: content/Ex-11/Model-segment-evaluation-11/labels/v8_mp4-0025_jpg.rf.dae282e24bf363732288a27e4227cabe.txt (deflated 77%)\n",
            "  adding: content/Ex-11/Model-segment-evaluation-11/labels/front-left-NO20240903-145441-000848F_MP4-0024_jpg.rf.8bcb081b9f9c86e2509cbb8a9506ffd1.txt (deflated 81%)\n",
            "  adding: content/Ex-11/Model-segment-evaluation-11/labels/pic_520_jpeg_jpg.rf.bc11a7e7edd830af95aead95ebb4cc49.txt (deflated 69%)\n",
            "  adding: content/Ex-11/Model-segment-evaluation-11/labels/front-right-NO20240903-144041-000834F_MP4-0219_jpg.rf.24f8d4811fc3f05cde52d1e11ad5a99e.txt (deflated 84%)\n",
            "  adding: content/Ex-11/Model-segment-evaluation-11/labels/cars-NO20240914-114248-000224F_MP4-0006_jpg.rf.5e29bbedc517b8b1f7f00cb019290fe1.txt (deflated 79%)\n",
            "  adding: content/Ex-11/Model-segment-evaluation-11/labels/front-right-NO20240903-144041-000834F_MP4-0090_jpg.rf.114fec63dcd87a16a147c0513741faa6.txt (deflated 74%)\n",
            "  adding: content/Ex-11/Model-segment-evaluation-11/labels/front-right-NO20240903-144141-000835F_MP4-0052_jpg.rf.fc50bd3c13e6a5fe722c237ec7208f07.txt (deflated 84%)\n",
            "  adding: content/Ex-11/Model-segment-evaluation-11/labels/front-left-NO20240903-145041-000844F_MP4-0204_jpg.rf.c00072886e8076d40645423ca724a390.txt (deflated 80%)\n",
            "  adding: content/Ex-11/Model-segment-evaluation-11/labels/front-left-NO20240903-145141-000845F_MP4-0040_jpg.rf.ce49757dba542e280c9cc8a3d2a8c74e.txt (deflated 80%)\n",
            "  adding: content/Ex-11/Model-segment-evaluation-11/labels/xemay1031_jpg.rf.cff6e2aec7ab40c4ed4a5b606368ff52.txt (deflated 71%)\n",
            "  adding: content/Ex-11/Model-segment-evaluation-11/labels/front-right-NO20240903-144141-000835F_MP4-0100_jpg.rf.2ac9d66954b1e64a39164194423253e2.txt (deflated 76%)\n",
            "  adding: content/Ex-11/Model-segment-evaluation-11/labels/front-left-NO20240903-145041-000844F_MP4-0112_jpg.rf.c6fc29e950e3ca5a2f11d52cd7c80745.txt (deflated 75%)\n",
            "  adding: content/Ex-11/Model-segment-evaluation-11/labels/front-left-NO20240903-145141-000845F_MP4-0058_jpg.rf.418db5fd567bf2ed5f2d171f1fa348e9.txt (deflated 76%)\n",
            "  adding: content/Ex-11/Model-segment-evaluation-11/labels/v1_mp4-0023_jpg.rf.fae8ec4f2d3054d44f46c508ffc7e1f6.txt (deflated 73%)\n",
            "  adding: content/Ex-11/Model-segment-evaluation-11/labels/front-left-NO20240903-145041-000844F_MP4-0149_jpg.rf.0079543840bbd8f0552ec606c7f49412.txt (deflated 75%)\n",
            "  adding: content/Ex-11/Model-segment-evaluation-11/labels/front-left-NO20240903-145141-000845F_MP4-0098_jpg.rf.5b3699075a6568dab8dccf65a7703e55.txt (deflated 75%)\n",
            "  adding: content/Ex-11/Model-segment-evaluation-11/labels/front-right-NO20240903-144141-000835F_MP4-0111_jpg.rf.e0c343cb3eb1e68393e419bfa31c434c.txt (deflated 81%)\n",
            "  adding: content/Ex-11/Model-segment-evaluation-11/labels/front-left-NO20240903-145041-000844F_MP4-0297_jpg.rf.0770fe509ce3fec97d27d91551cde387.txt (deflated 74%)\n",
            "  adding: content/Ex-11/Model-segment-evaluation-11/labels/front-right-NO20240909-181240-000010F_MP4-0026_jpg.rf.30ef0f6300d27cf8e96996fa6d081c0c.txt (deflated 74%)\n",
            "  adding: content/Ex-11/Model-segment-evaluation-11/labels/cars-NO20240914-114048-000222F_MP4-0048_jpg.rf.ab2e70d6d3869602a83240297a28c587.txt (deflated 82%)\n",
            "  adding: content/Ex-11/Model-segment-evaluation-11/labels/CarLongPlateGen910_jpg.rf.e1424c99aa4714726f151b9547a85cc6.txt (deflated 57%)\n",
            "  adding: content/Ex-11/Model-segment-evaluation-11/labels/front-right-NO20240909-181340-000011F_MP4-0035_jpg.rf.5f526bb7433b7fec33c3cdd8398c839d.txt (deflated 71%)\n",
            "  adding: content/Ex-11/Model-segment-evaluation-11/labels/front-left-NO20240908-145538-000141F_MP4-0009_jpg.rf.4c9bd1448b1d8bf3e11adc2de6b3236e.txt (deflated 75%)\n",
            "  adding: content/Ex-11/Model-segment-evaluation-11/labels/front-left-NO20240909-144104-000346F_MP4-0191_jpg.rf.d7f9c77ada18aab22b4e6a1519df6424.txt (deflated 71%)\n",
            "  adding: content/Ex-11/Model-segment-evaluation-11/labels/night-front-right-NO20240909-183440-000032F_MP4-0066_jpg.rf.5542bf9e47a51cc8fecde99cd257fb8e.txt (deflated 73%)\n",
            "  adding: content/Ex-11/Model-segment-evaluation-11/labels/NO20240909-181040-000008F_MP4-0173_jpg.rf.14e87612f7d485f2178b857054b43380.txt (deflated 74%)\n",
            "  adding: content/Ex-11/Model-segment-evaluation-11/labels/front-left-NO20240908-150138-000147F_MP4-0052_jpg.rf.276b68065c1f57e38b1bf447a650af07.txt (deflated 73%)\n",
            "  adding: content/Ex-11/Model-segment-evaluation-11/labels/front-right-NO20240903-143941-000833F_MP4-0221_jpg.rf.50df0e88b86a2df9fa086ae6cbae53ce.txt (deflated 77%)\n",
            "  adding: content/Ex-11/Model-segment-evaluation-11/labels/NO20240917-143737-000242F_MP4-0037_jpg.rf.f5b219de952b04592acec935a991ba3c.txt (deflated 80%)\n",
            "  adding: content/Ex-11/Model-segment-evaluation-11/labels/front-right-NO20240903-144141-000835F_MP4-0215_jpg.rf.11950ac1c1ef1759c8c5f8ac17af86b0.txt (deflated 85%)\n",
            "  adding: content/Ex-11/Model-segment-evaluation-11/labels/front-left-NO20240909-144404-000349F_MP4-0076_jpg.rf.c7e5df53ccb9d4a8c24708d38be59821.txt (deflated 73%)\n",
            "  adding: content/Ex-11/Model-segment-evaluation-11/labels/front-left-NO20240903-145541-000849F_MP4-0179_jpg.rf.2902472f0f5cfce3164661511c9c4813.txt (deflated 77%)\n",
            "  adding: content/Ex-11/Model-segment-evaluation-11/labels/cars-NO20240914-114048-000222F_MP4-0240_jpg.rf.e85abf7d353093d64545e9e3a7dfdb83.txt (deflated 83%)\n",
            "  adding: content/Ex-11/Model-segment-evaluation-11/labels/front-left-NO20240903-145541-000849F_MP4-0040_jpg.rf.983b35eb66b411dca7cf9864b06893f1.txt (deflated 80%)\n",
            "  adding: content/Ex-11/Model-segment-evaluation-11/labels/front-right-NO20240903-144141-000835F_MP4-0103_jpg.rf.3e9fbd78af8b02d96ad4d6f5d30ec4c0.txt (deflated 84%)\n",
            "  adding: content/Ex-11/Model-segment-evaluation-11/labels/front-left-NO20240903-145041-000844F_MP4-0233_jpg.rf.324270dfe5cad38baf5fdbebf699ea0d.txt (deflated 75%)\n",
            "  adding: content/Ex-11/Model-segment-evaluation-11/labels/v6-2_mp4-0003_jpg.rf.3f0a77877fe15c17eef1b2a3a9f96528.txt (deflated 78%)\n",
            "  adding: content/Ex-11/Model-segment-evaluation-11/labels/cropquandoi19_jpg.rf.e3779918b6a9414e850538f564281ba8.txt (deflated 62%)\n",
            "  adding: content/Ex-11/Model-segment-evaluation-11/labels/front-left-NO20240908-150138-000147F_MP4-0193_jpg.rf.407d908afb2f556787255e9b62da0caf.txt (deflated 77%)\n",
            "  adding: content/Ex-11/Model-segment-evaluation-11/labels/front-right-NO20240903-144041-000834F_MP4-0151_jpg.rf.f60e7b5d44fbf57d526f87de37d71d59.txt (deflated 78%)\n",
            "  adding: content/Ex-11/Model-segment-evaluation-11/labels/cars-NO20240914-112548-000207F_MP4-0024_jpg.rf.5035cae21a2378fc317957a2139118bc.txt (deflated 81%)\n",
            "  adding: content/Ex-11/Model-segment-evaluation-11/labels/cars-NO20240914-114048-000222F_MP4-0235_jpg.rf.524d13f49a9cf507d8ffeaf3e9134521.txt (deflated 80%)\n",
            "  adding: content/Ex-11/Model-segment-evaluation-11/labels/CarLongPlateGen1206_jpg.rf.f912cd129b97082b957932931cf1c362.txt (deflated 58%)\n",
            "  adding: content/Ex-11/Model-segment-evaluation-11/labels/front-left-NO20240903-145141-000845F_MP4-0175_jpg.rf.fa2449a9df65db949ea95a2359dd0a95.txt (deflated 75%)\n",
            "  adding: content/Ex-11/Model-segment-evaluation-11/labels/front-left-NO20240903-145441-000848F_MP4-0295_jpg.rf.74d65e21a33f0db02d97bc21507efe55.txt (deflated 81%)\n",
            "  adding: content/Ex-11/Model-segment-evaluation-11/labels/night-front-right-NO20240909-182940-000027F_MP4-0099_jpg.rf.1bbc24602bc185bda176ca4215eec6eb.txt (deflated 79%)\n",
            "  adding: content/Ex-11/Model-segment-evaluation-11/labels/front-right-NO20240909-181440-000012F_MP4-0024_jpg.rf.d0cf08ba6bc554aa604771a13a9d91a1.txt (deflated 74%)\n",
            "  adding: content/Ex-11/Model-segment-evaluation-11/labels/front-left-NO20240903-145041-000844F_MP4-0285_jpg.rf.3af0f15613e171364863085fbadc24dc.txt (deflated 79%)\n",
            "  adding: content/Ex-11/Model-segment-evaluation-11/labels/cars-NO20240914-114048-000222F_MP4-0263_jpg.rf.89b7f83545da84331a16c6899644e83c.txt (deflated 80%)\n",
            "  adding: content/Ex-11/Model-segment-evaluation-11/labels/CarLongPlateGen2886_jpg.rf.f053e21e705a75d47b3f308f230c2baa.txt (deflated 53%)\n",
            "  adding: content/Ex-11/Model-segment-evaluation-11/labels/front-left-NO20240909-143204-000337F_MP4-0252_jpg.rf.25327baaa405092dec47a8f99150c8a6.txt (deflated 74%)\n",
            "  adding: content/Ex-11/Model-segment-evaluation-11/labels/front-left-NO20240903-145041-000844F_MP4-0155_jpg.rf.d4903084fa8662f050da83d81402dd5d.txt (deflated 75%)\n",
            "  adding: content/Ex-11/Model-segment-evaluation-11/labels/front-left-NO20240903-145141-000845F_MP4-0123_jpg.rf.e503577268df795bec0fc1d777fcf2fa.txt (deflated 73%)\n",
            "  adding: content/Ex-11/Model-segment-evaluation-11/labels/front-left-NO20240903-145041-000844F_MP4-0156_jpg.rf.4214b5902262899a61ec9beeba1d7683.txt (deflated 75%)\n",
            "  adding: content/Ex-11/Model-segment-evaluation-11/labels/front-right-NO20240903-144141-000835F_MP4-0101_jpg.rf.26756a0d4a436f99ec91bc6765783fe2.txt (deflated 76%)\n",
            "  adding: content/Ex-11/Model-segment-evaluation-11/labels/front-left-NO20240908-150438-000150F_MP4-0024_jpg.rf.25deb97583ad56cb34b754320d469956.txt (deflated 74%)\n",
            "  adding: content/Ex-11/Model-segment-evaluation-11/labels/front-left-NO20240903-145541-000849F_MP4-0013_jpg.rf.228a1cdccf4add8255992355e819a4ac.txt (deflated 78%)\n",
            "  adding: content/Ex-11/Model-segment-evaluation-11/labels/front-right-NO20240909-181640-000014F_MP4-0023_jpg.rf.5d763341892dedd051d96b94b02b61c4.txt (deflated 72%)\n",
            "  adding: content/Ex-11/Model-segment-evaluation-11/labels/CarLongPlate917_jpg.rf.3fffd2975cffc1af04ffabf8ba5ad74a.txt (deflated 62%)\n",
            "  adding: content/Ex-11/Model-segment-evaluation-11/labels/front-left-NO20240909-143204-000337F_MP4-0082_jpg.rf.2180aaad0225d5213d38a406c71738bb.txt (deflated 73%)\n",
            "  adding: content/Ex-11/Model-segment-evaluation-11/labels/front-left-NO20240903-145041-000844F_MP4-0272_jpg.rf.9555cc5a57683b97d47b7e4a7e7c845a.txt (deflated 76%)\n",
            "  adding: content/Ex-11/Model-segment-evaluation-11/labels/front-left-NO20240903-145041-000844F_MP4-0158_jpg.rf.e1306415182b4f77f032a81b0437cccd.txt (deflated 74%)\n",
            "  adding: content/Ex-11/Model-segment-evaluation-11/labels/CarLongPlateGen1501_jpg.rf.e50749775ba0131f819d240b5171850f.txt (deflated 47%)\n",
            "  adding: content/Ex-11/Model-segment-evaluation-11/labels/cars-NO20240914-114048-000222F_MP4-0098_jpg.rf.24e360daa90ba1401022db8e9955b6b4.txt (deflated 81%)\n",
            "  adding: content/Ex-11/Model-segment-evaluation-11/labels/front-left-NO20240903-145041-000844F_MP4-0186_jpg.rf.d806754e950d75ade4623474910d4b64.txt (deflated 78%)\n",
            "  adding: content/Ex-11/Model-segment-evaluation-11/labels/front-left-NO20240903-145441-000848F_MP4-0283_jpg.rf.6fb61618dd038ae822ee5260f64aa2a9.txt (deflated 81%)\n",
            "  adding: content/Ex-11/Model-segment-evaluation-11/labels/front-left-NO20240903-145441-000848F_MP4-0134_jpg.rf.723c8734893a572b89bf9e6e45e45d87.txt (deflated 79%)\n",
            "  adding: content/Ex-11/Model-segment-evaluation-11/labels/NO20240909-181040-000008F_MP4-0222_jpg.rf.478eb870502a5064800c8d787374fcad.txt (deflated 75%)\n",
            "  adding: content/Ex-11/Model-segment-evaluation-11/labels/front-left-NO20240903-145041-000844F_MP4-0142_jpg.rf.53052efe707765f48b903d1a2ecc2995.txt (deflated 76%)\n",
            "  adding: content/Ex-11/Model-segment-evaluation-11/labels/front-left-NO20240909-151004-000375F_MP4-0164_jpg.rf.5bc55a2cdcfbc1263a3b819f1cb78ed7.txt (deflated 79%)\n",
            "  adding: content/Ex-11/Model-segment-evaluation-11/labels/front-right-NO20240909-181240-000010F_MP4-0280_jpg.rf.ea63cf10fc6c2b3d742ab73ad0c7495b.txt (deflated 71%)\n",
            "  adding: content/Ex-11/Model-segment-evaluation-11/labels/front-right-NO20240903-144141-000835F_MP4-0212_jpg.rf.55b4df3cac726c0a183c948afbfc3919.txt (deflated 84%)\n",
            "  adding: content/Ex-11/Model-segment-evaluation-11/labels/CarLongPlateGen1703_jpg.rf.6f3c71d0e77bd38d1f5c76457af63869.txt (deflated 68%)\n",
            "  adding: content/Ex-11/Model-segment-evaluation-11/labels/front-left-NO20240908-150138-000147F_MP4-0199_jpg.rf.7206d39ea63e404785101e174b820a59.txt (deflated 73%)\n",
            "  adding: content/Ex-11/Model-segment-evaluation-11/labels/chery-cross_MP4-0008_jpg.rf.585332db8619677395f6514fb1f63474.txt (deflated 78%)\n",
            "  adding: content/Ex-11/Model-segment-evaluation-11/labels/front-left-NO20240909-150404-000369F_MP4-0014_jpg.rf.06cb676c23292f69fdd4add137e84fb5.txt (deflated 76%)\n",
            "  adding: content/Ex-11/Model-segment-evaluation-11/labels/front-left-NO20240903-145041-000844F_MP4-0288_jpg.rf.9d38b228dcfc6acdd2c69e5432773cfc.txt (deflated 80%)\n",
            "  adding: content/Ex-11/Model-segment-evaluation-11/labels/CarLongPlateGen1726_jpg.rf.81eb664ccc9f973763f06a8929c95b6e.txt (deflated 56%)\n",
            "  adding: content/Ex-11/Model-segment-evaluation-11/labels/NO20240909-181040-000008F_MP4-0271_jpg.rf.4d12bb29674ef1508d6b43a59236180b.txt (deflated 75%)\n",
            "  adding: content/Ex-11/Model-segment-evaluation-11/labels/cars-NO20240914-114048-000222F_MP4-0267_jpg.rf.a8813402e20c60f0b3e970fe9b029e90.txt (deflated 83%)\n",
            "  adding: content/Ex-11/Model-segment-evaluation-11/labels/v2_mp4-0002_jpg.rf.ec5b96d8b415aa0f4cee294d457c8da8.txt (deflated 74%)\n",
            "  adding: content/Ex-11/Model-segment-evaluation-11/labels/CarLongPlateGen1140_jpg.rf.082c7a8390d8fc7f26f3fdbe576bda7b.txt (deflated 46%)\n",
            "  adding: content/Ex-11/Model-segment-evaluation-11/labels/front-left-NO20240903-145141-000845F_MP4-0006_jpg.rf.bd1e7a462839480ebfad11d1d2c83ee9.txt (deflated 77%)\n",
            "  adding: content/Ex-11/Model-segment-evaluation-11/labels/CarLongPlate892_jpg.rf.216cfc831a121b185d07323e5138caca.txt (deflated 70%)\n",
            "  adding: content/Ex-11/Model-segment-evaluation-11/labels/front-left-NO20240903-145041-000844F_MP4-0157_jpg.rf.0fe179bd52dd4a82691e1ff3afaac6ac.txt (deflated 79%)\n",
            "  adding: content/Ex-11/Model-segment-evaluation-11/labels/front-left-NO20240903-145141-000845F_MP4-0120_jpg.rf.5b69831158f1067f52db6112eb1391a2.txt (deflated 74%)\n",
            "  adding: content/Ex-11/Model-segment-evaluation-11/labels/front-left-NO20240903-145541-000849F_MP4-0015_jpg.rf.318c8d8722964b089c7db3da7fd62a9a.txt (deflated 82%)\n",
            "  adding: content/Ex-11/Model-segment-evaluation-11/labels/front-left-NO20240903-145041-000844F_MP4-0193_jpg.rf.02fc9a47a67f87f57b10fefb1c617970.txt (deflated 74%)\n",
            "  adding: content/Ex-11/Model-segment-evaluation-11/labels/front-left-NO20240908-150138-000147F_MP4-0151_jpg.rf.11a11d6340db9e3e2553b60c1f252038.txt (deflated 75%)\n",
            "  adding: content/Ex-11/Model-segment-evaluation-11/labels/front-left-NO20240903-145041-000844F_MP4-0279_jpg.rf.74ae08b761ece4028dfcf901ee30e84f.txt (deflated 76%)\n",
            "  adding: content/Ex-11/Model-segment-evaluation-11/labels/front-left-NO20240903-145041-000844F_MP4-0286_jpg.rf.c778e1768b6f85e642941de784f06917.txt (deflated 77%)\n",
            "  adding: content/Ex-11/Model-segment-evaluation-11/labels/pic_273_png_jpg.rf.09b956f3016865525d7873141d15b4e8.txt (deflated 47%)\n",
            "  adding: content/Ex-11/Model-segment-evaluation-11/labels/v2_mp4-0024_jpg.rf.3d9a23ca3875ef503d7ebe8c03f9f814.txt (deflated 79%)\n",
            "  adding: content/Ex-11/Model-segment-evaluation-11/labels/CarLongPlate814_jpg.rf.eedea65499cf4f1cf375b50b2c967157.txt (deflated 56%)\n",
            "  adding: content/Ex-11/Model-segment-evaluation-11/labels/front-left-NO20240903-145041-000844F_MP4-0198_jpg.rf.7bc67ef4377cb28e74410676d077abbe.txt (deflated 73%)\n",
            "  adding: content/Ex-11/Model-segment-evaluation-11/labels/front-right-NO20240903-144141-000835F_MP4-0271_jpg.rf.928a7456f65947ae8b4922705230bbb4.txt (deflated 85%)\n",
            "  adding: content/Ex-11/Model-segment-evaluation-11/labels/front-left-NO20240903-145141-000845F_MP4-0105_jpg.rf.db180bdab7e95651ce4fc5e635b28ea7.txt (deflated 77%)\n",
            "  adding: content/Ex-11/Model-segment-evaluation-11/labels/v8_mp4-0060_jpg.rf.33d031031043470f3a0a146c525bd4be.txt (deflated 77%)\n",
            "  adding: content/Ex-11/Model-segment-evaluation-11/labels/front-right-NO20240903-143941-000833F_MP4-0066_jpg.rf.cf7e203c8cbc77fe21fda594d781b95d.txt (deflated 77%)\n",
            "  adding: content/Ex-11/Model-segment-evaluation-11/labels/cars-NO20240914-114248-000224F_MP4-0021_jpg.rf.c33f205bc815614ab8005950650ea6f2.txt (deflated 78%)\n",
            "  adding: content/Ex-11/Model-segment-evaluation-11/labels/front-left-NO20240903-145041-000844F_MP4-0197_jpg.rf.2f15a8e8870091e97cb111e3e9013c2f.txt (deflated 75%)\n",
            "  adding: content/Ex-11/Model-segment-evaluation-11/labels/front-left-NO20240903-145541-000849F_MP4-0092_jpg.rf.a467ec9b1f81d4649f8f1ec0437a774c.txt (deflated 79%)\n",
            "  adding: content/Ex-11/Model-segment-evaluation-11/labels/v5_mp4-0003_jpg.rf.a046ff88d80277880146b70c999bc07b.txt (deflated 76%)\n",
            "  adding: content/Ex-11/Model-segment-evaluation-11/labels/front-left-NO20240909-144404-000349F_MP4-0195_jpg.rf.0166c1ce039e657ee8b19b1a2f02ec4a.txt (deflated 73%)\n",
            "  adding: content/Ex-11/Model-segment-evaluation-11/labels/night-front-right-NO20240909-183640-000034F_MP4-0084_jpg.rf.992cb2946794b373b2aa08c243bfd657.txt (deflated 74%)\n",
            "  adding: content/Ex-11/Model-segment-evaluation-11/labels/front-right-NO20240903-144041-000834F_MP4-0294_jpg.rf.d7124aca35521ff56ddb245cf6aa6db7.txt (deflated 80%)\n",
            "  adding: content/Ex-11/Model-segment-evaluation-11/labels/v2_mp4-0026_jpg.rf.4bf4c345bbd2e10f31ae495a9fc69b57.txt (deflated 72%)\n",
            "  adding: content/Ex-11/Model-segment-evaluation-11/labels/xemayBigPlate211_jpg.rf.6e45e58d681697135301699671735360.txt (deflated 54%)\n",
            "  adding: content/Ex-11/Model-segment-evaluation-11/labels/Cars20_png_jpg.rf.28a1e9796bd03af34ef516bbe9e64131.txt (deflated 62%)\n",
            "  adding: content/Ex-11/Model-segment-evaluation-11/labels/front-left-NO20240903-145141-000845F_MP4-0060_jpg.rf.d5f2fb1eac4d1cc3a00db1a0ed36934b.txt (deflated 76%)\n",
            "  adding: content/Ex-11/Model-segment-evaluation-11/labels/front-right-NO20240909-181240-000010F_MP4-0025_jpg.rf.68a43aac5638bf692807c9f500a9d9c4.txt (deflated 74%)\n",
            "  adding: content/Ex-11/Model-segment-evaluation-11/labels/front-left-NO20240909-144404-000349F_MP4-0118_jpg.rf.24859637ca52218ffb12497ecf643319.txt (deflated 79%)\n",
            "  adding: content/Ex-11/Model-segment-evaluation-11/labels/NO20240909-181040-000008F_MP4-0065_jpg.rf.01f778ebdf12f69425517494b123b3c0.txt (deflated 72%)\n",
            "  adding: content/Ex-11/Model-segment-evaluation-11/labels/CarLongPlateGen2534_jpg.rf.8e99430c3c14314d503e971e2b362173.txt (deflated 47%)\n",
            "  adding: content/Ex-11/Model-segment-evaluation-11/labels/front-left-NO20240903-145141-000845F_MP4-0142_jpg.rf.cd5ba68c086a2b9b912b05eb814c5d77.txt (deflated 76%)\n",
            "  adding: content/Ex-11/Model-segment-evaluation-11/labels/front-right-NO20240903-144041-000834F_MP4-0125_jpg.rf.152b5b3714785c987eda171f71eebc81.txt (deflated 76%)\n",
            "  adding: content/Ex-11/Model-segment-evaluation-11/labels/night-front-right-NO20240909-182940-000027F_MP4-0033_jpg.rf.917062b494071e31e23470f990fdd853.txt (deflated 74%)\n",
            "  adding: content/Ex-11/Model-segment-evaluation-11/labels/front-left-NO20240903-145041-000844F_MP4-0082_jpg.rf.36f727247a04312c306a78fb88335308.txt (deflated 79%)\n",
            "  adding: content/Ex-11/Model-segment-evaluation-11/labels/front-left-NO20240903-145041-000844F_MP4-0231_jpg.rf.a7c28cc62aaa55290a4d77a3cf6283dd.txt (deflated 72%)\n",
            "  adding: content/Ex-11/Model-segment-evaluation-11/labels/xemay2150_jpg.rf.3d3e7b997c5fa9eaffcb489114a95bf5.txt (deflated 62%)\n",
            "  adding: content/Ex-11/Model-segment-evaluation-11/labels/front-left-NO20240909-144504-000350F_MP4-0245_jpg.rf.a669d4bbc02645817c53691fde4ade10.txt (deflated 75%)\n",
            "  adding: content/Ex-11/Model-segment-evaluation-11/labels/front-left-NO20240910-063925-000111F_MP4-0120_jpg.rf.7a2c1d9386f188124cd3212ac2a1107b.txt (deflated 77%)\n",
            "  adding: content/Ex-11/Model-segment-evaluation-11/labels/front-left-NO20240909-145604-000361F_MP4-0084_jpg.rf.a6ab92d8ad863f38bfa98a6948e128b3.txt (deflated 74%)\n",
            "  adding: content/Ex-11/Model-segment-evaluation-11/labels/front-right-NO20240903-144141-000835F_MP4-0144_jpg.rf.50e52003a9108d4c9084d52440e555cd.txt (deflated 83%)\n",
            "  adding: content/Ex-11/Model-segment-evaluation-11/labels/cars-NO20240914-114048-000222F_MP4-0101_jpg.rf.6388556a5ac5ba94810c0788de8ffac2.txt (deflated 80%)\n",
            "  adding: content/Ex-11/Model-segment-evaluation-11/labels/cars-NO20240914-112548-000207F_MP4-0015_jpg.rf.6723396a5ec501defc3bd65904e5b7cc.txt (deflated 80%)\n",
            "  adding: content/Ex-11/Model-segment-evaluation-11/labels/CarLongPlateGen3478_jpg.rf.a3d1267a95ed4cbb79b162f5d8ada513.txt (deflated 77%)\n",
            "  adding: content/Ex-11/Model-segment-evaluation-11/labels/front-left-NO20240903-145441-000848F_MP4-0259_jpg.rf.3e3918dc362605307121da70e07ce118.txt (deflated 79%)\n",
            "  adding: content/Ex-11/Model-segment-evaluation-11/labels/pic_217_jpg.rf.89aa4e8adce664b1ddc10b8e355ad3a3.txt (deflated 70%)\n",
            "  adding: content/Ex-11/Model-segment-evaluation-11/labels/NO20240917-143737-000242F_MP4-0012_jpg.rf.787cbcf895a13af37abe110ca89a4188.txt (deflated 75%)\n",
            "  adding: content/Ex-11/Model-segment-evaluation-11/labels/front-left-NO20240908-145538-000141F_MP4-0123_jpg.rf.78bae611cf6480dcf4ca52cff12ffb6f.txt (deflated 74%)\n",
            "  adding: content/Ex-11/Model-segment-evaluation-11/labels/NO20240917-144137-000246F_MP4-0042_jpg.rf.239cf6e98de0f0c8d616aa78eef79db3.txt (deflated 79%)\n",
            "  adding: content/Ex-11/Model-segment-evaluation-11/labels/v6_mp4-0008_jpg.rf.416e5784d3a4018cace087ca184a3744.txt (deflated 77%)\n",
            "  adding: content/Ex-11/Model-segment-evaluation-11/labels/front-right-NO20240903-143941-000833F_MP4-0050_jpg.rf.d9cc749e2cc65c25a6a3fac42f409358.txt (deflated 77%)\n",
            "  adding: content/Ex-11/Model-segment-evaluation-11/labels/NO20240917-143837-000243F_MP4-0033_jpg.rf.9edbc60874e8c508787976509a27b99c.txt (deflated 84%)\n",
            "  adding: content/Ex-11/Model-segment-evaluation-11/labels/front-left-NO20240903-145041-000844F_MP4-0291_jpg.rf.330a6822fa347c04def93a2bd6ad98fe.txt (deflated 78%)\n",
            "  adding: content/Ex-11/Model-segment-evaluation-11/labels/night-front-right-NO20240909-183740-000035F_MP4-0079_jpg.rf.8334c4d4d8ab4c0cc7a0d10325a3744f.txt (deflated 76%)\n",
            "  adding: content/Ex-11/Model-segment-evaluation-11/labels/front-left-NO20240909-145804-000363F_MP4-0010_jpg.rf.8b34f29788795f53d21fc4c8a2797b61.txt (deflated 75%)\n",
            "  adding: content/Ex-11/Model-segment-evaluation-11/labels/front-right-NO20240903-143941-000833F_MP4-0210_jpg.rf.381a7945bc488cb518ae89aa64027bc4.txt (deflated 78%)\n",
            "  adding: content/Ex-11/Model-segment-evaluation-11/labels/NO20240909-181040-000008F_MP4-0226_jpg.rf.501ff056d2a6b47b0d65d004e2acee3a.txt (deflated 75%)\n",
            "  adding: content/Ex-11/Model-segment-evaluation-11/labels/front-right-NO20240909-181640-000014F_MP4-0124_jpg.rf.ac6f408582a18033e1e12c8a4d38b564.txt (deflated 70%)\n",
            "  adding: content/Ex-11/Model-segment-evaluation-11/labels/front-right-NO20240909-181240-000010F_MP4-0268_jpg.rf.c46634842984d8f57faca5a93b0c54ab.txt (deflated 72%)\n",
            "  adding: content/Ex-11/Model-segment-evaluation-11/labels/front-right-NO20240909-181540-000013F_MP4-0090_jpg.rf.4b98a55e089e15761a1fab72d99aaa5a.txt (deflated 80%)\n",
            "  adding: content/Ex-11/Model-segment-evaluation-11/labels/front-left-NO20240903-145041-000844F_MP4-0171_jpg.rf.3c1572a5ee016155e11b0024b2f40cba.txt (deflated 75%)\n",
            "  adding: content/Ex-11/Model-segment-evaluation-11/labels/NO20240917-144137-000246F_MP4-0048_jpg.rf.aff8eac5962c3422a3d2ae821458a8d2.txt (deflated 75%)\n",
            "  adding: content/Ex-11/Model-segment-evaluation-11/labels/front-left-NO20240908-150138-000147F_MP4-0009_jpg.rf.f98baacc9b25370fd236e217092ecfcc.txt (deflated 72%)\n",
            "  adding: content/Ex-11/Model-segment-evaluation-11/labels/night-front-right-NO20240909-183740-000035F_MP4-0027_jpg.rf.ddd57f2db8408b5c29c0164018fafb2a.txt (deflated 80%)\n",
            "  adding: content/Ex-11/Model-segment-evaluation-11/labels/front-left-NO20240903-145141-000845F_MP4-0039_jpg.rf.02eddaa1f24f0fd95a2b4fc43ef89b86.txt (deflated 74%)\n",
            "  adding: content/Ex-11/Model-segment-evaluation-11/labels/front-left-NO20240909-144404-000349F_MP4-0174_jpg.rf.2d0b8f736d3bbde7e81516c613ee9230.txt (deflated 73%)\n",
            "  adding: content/Ex-11/Model-segment-evaluation-11/labels/front-left-NO20240909-144504-000350F_MP4-0161_jpg.rf.edf56e4ca0bb9e3200c8ba1a475e3ed1.txt (deflated 79%)\n",
            "  adding: content/Ex-11/Model-segment-evaluation-11/labels/96-100_1304_jpg.rf.29f62b170b608ad5734a42894271b7a1.txt (deflated 77%)\n",
            "  adding: content/Ex-11/Model-segment-evaluation-11/labels/front-right-NO20240903-144041-000834F_MP4-0193_jpg.rf.5d743fe89b68bfc0bbd551211b8f3513.txt (deflated 84%)\n",
            "  adding: content/Ex-11/Model-segment-evaluation-11/labels/NO20240909-181040-000008F_MP4-0061_jpg.rf.d3ccaf714f4752ba63405ecf7b4178a7.txt (deflated 79%)\n",
            "  adding: content/Ex-11/Model-segment-evaluation-11/labels/cars-NO20240914-114048-000222F_MP4-0243_jpg.rf.f603149623c3c5eab5a5e07cf595f44a.txt (deflated 83%)\n",
            "  adding: content/Ex-11/Model-segment-evaluation-11/labels/front-left-NO20240903-145141-000845F_MP4-0054_jpg.rf.3170bc54491a1053a1d2dea81d8149d1.txt (deflated 74%)\n",
            "  adding: content/Ex-11/Model-segment-evaluation-11/labels/front-left-NO20240909-150504-000370F_MP4-0079_jpg.rf.c4677a1b392bb461ec0940c49aa3c4b2.txt (deflated 76%)\n",
            "  adding: content/Ex-11/Model-segment-evaluation-11/labels/cars-NO20240914-114248-000224F_MP4-0181_jpg.rf.ea652762c087fa17364bce96eed44bd0.txt (deflated 81%)\n",
            "  adding: content/Ex-11/Model-segment-evaluation-11/labels/front-left-NO20240903-145041-000844F_MP4-0133_jpg.rf.f6cf8da8e92c4aeaeb4a9dfcc26f7a96.txt (deflated 75%)\n",
            "  adding: content/Ex-11/Model-segment-evaluation-11/labels/front-left-NO20240903-145141-000845F_MP4-0090_jpg.rf.627dece5a6a70c9ba117c05f1bf14e80.txt (deflated 79%)\n",
            "  adding: content/Ex-11/Model-segment-evaluation-11/labels/v5_mp4-0085_jpg.rf.2a48795b3207cbb6d19f02e02166c82d.txt (deflated 78%)\n",
            "  adding: content/Ex-11/Model-segment-evaluation-11/labels/front-left-NO20240909-144104-000346F_MP4-0014_jpg.rf.ef536d4947ce9571aea7819afc6359ab.txt (deflated 73%)\n",
            "  adding: content/Ex-11/Model-segment-evaluation-11/labels/front-left-NO20240909-143204-000337F_MP4-0031_jpg.rf.9d4bdef41ec6d781a830f37dace728e4.txt (deflated 75%)\n",
            "  adding: content/Ex-11/Model-segment-evaluation-11/labels/front-left-NO20240903-145141-000845F_MP4-0160_jpg.rf.34b1b2fb55995b9ab953a4196f1489ee.txt (deflated 72%)\n",
            "  adding: content/Ex-11/Model-segment-evaluation-11/labels/front-left-NO20240908-145538-000141F_MP4-0013_jpg.rf.4582930bf26ca0ec5fa5a52a4719250c.txt (deflated 79%)\n",
            "  adding: content/Ex-11/Model-segment-evaluation-11/labels/front-left-NO20240903-145541-000849F_MP4-0119_jpg.rf.0dbe279af8780410c189dcbbb1f79e6a.txt (deflated 76%)\n",
            "  adding: content/Ex-11/Model-segment-evaluation-11/labels/front-left-NO20240903-145441-000848F_MP4-0114_jpg.rf.d1397fdaad1afd80c3270e9b559422c0.txt (deflated 76%)\n",
            "  adding: content/Ex-11/Model-segment-evaluation-11/labels/front-left-NO20240903-145541-000849F_MP4-0109_jpg.rf.6274fd624c7a9e9e4c4b7d6dc852943d.txt (deflated 76%)\n",
            "  adding: content/Ex-11/Model-segment-evaluation-11/labels/front-right-NO20240909-181240-000010F_MP4-0133_jpg.rf.e1697bf3d42485bd135132b8f5705872.txt (deflated 73%)\n",
            "  adding: content/Ex-11/Model-segment-evaluation-11/labels/front-left-NO20240903-145041-000844F_MP4-0232_jpg.rf.82d96658280d83b7e7945bd2534f2ae3.txt (deflated 74%)\n",
            "  adding: content/Ex-11/Model-segment-evaluation-11/labels/night-front-right-NO20240909-183140-000029F_MP4-0173_jpg.rf.9ebd7f48fbda63cb4a49fedf1908c485.txt (deflated 75%)\n",
            "  adding: content/Ex-11/Model-segment-evaluation-11/labels/front-left-NO20240910-060225-000074F_MP4-0035_jpg.rf.672108ecac4763c161824f6ee5bcc336.txt (deflated 72%)\n",
            "  adding: content/Ex-11/Model-segment-evaluation-11/labels/front-left-NO20240909-143204-000337F_MP4-0254_jpg.rf.c3af01468e1f0c017dab36aab6c27684.txt (deflated 72%)\n",
            "  adding: content/Ex-11/Model-segment-evaluation-11/labels/xemayBigPlate119_jpg.rf.21b8c143693cf1b19fd1509bb27986fd.txt (deflated 75%)\n",
            "  adding: content/Ex-11/Model-segment-evaluation-11/labels/night-front-right-NO20240909-183440-000032F_MP4-0267_jpg.rf.4b5a269c969baf22a0b0e0b3041ec127.txt (deflated 73%)\n",
            "  adding: content/Ex-11/Model-segment-evaluation-11/labels/front-left-NO20240903-145041-000844F_MP4-0280_jpg.rf.259dc2e5bbc8304b53ed343bef3f0ff5.txt (deflated 80%)\n",
            "  adding: content/Ex-11/Model-segment-evaluation-11/labels/v3_mp4-0008_jpg.rf.e191ae1a61dfc658dbdfdd46f5f45367.txt (deflated 73%)\n",
            "  adding: content/Ex-11/Model-segment-evaluation-11/labels/front-left-NO20240903-145141-000845F_MP4-0063_jpg.rf.82bfb4c7c93c08e0546f10f1eaf3fd69.txt (deflated 82%)\n",
            "  adding: content/Ex-11/Model-segment-evaluation-11/labels/NO20240917-143837-000243F_MP4-0056_jpg.rf.aad23b51b047b0f8cb89b63f7abc2cc5.txt (deflated 84%)\n",
            "  adding: content/Ex-11/Model-segment-evaluation-11/labels/cars-NO20240910-060525-000077F_MP4-0026_jpg.rf.88243ffba924faa559399a550eeb6503.txt (deflated 79%)\n",
            "  adding: content/Ex-11/Model-segment-evaluation-11/labels/front-right-NO20240903-144041-000834F_MP4-0277_jpg.rf.57efcb21f5d3ca7092577714b77dc5f4.txt (deflated 84%)\n",
            "  adding: content/Ex-11/Model-segment-evaluation-11/labels/front-left-NO20240903-145541-000849F_MP4-0061_jpg.rf.f0e1113f7211348e36ba1f856067cbb8.txt (deflated 76%)\n",
            "  adding: content/Ex-11/Model-segment-evaluation-11/labels/front-right-NO20240903-144041-000834F_MP4-0003_jpg.rf.0decd6d3de70cc9ca91ec5be66cc8c91.txt (deflated 82%)\n",
            "  adding: content/Ex-11/Model-segment-evaluation-11/labels/front-left-NO20240909-143304-000338F_MP4-0200_jpg.rf.d95299143e8c1aba683e61e1be173be2.txt (deflated 81%)\n",
            "  adding: content/Ex-11/Model-segment-evaluation-11/labels/front-left-NO20240903-145141-000845F_MP4-0007_jpg.rf.21f1084fa89ca1d61b3c3bc3c304ca85.txt (deflated 77%)\n",
            "  adding: content/Ex-11/Model-segment-evaluation-11/labels/xemay2485_jpg.rf.2027a4c13b6ad6d8e74de306b21489fb.txt (deflated 71%)\n",
            "  adding: content/Ex-11/Model-segment-evaluation-11/labels/front-left-NO20240909-145904-000364F_MP4-0123_jpg.rf.4e733a0ab8d836d445d72911950d15ea.txt (deflated 73%)\n",
            "  adding: content/Ex-11/Model-segment-evaluation-11/labels/25-cdmx2016esc_jpg.rf.0f6a508a94bc10f5550399cda005ea53.txt (deflated 74%)\n",
            "  adding: content/Ex-11/Model-segment-evaluation-11/labels/front-left-NO20240903-145141-000845F_MP4-0045_jpg.rf.084c882bcdab3fb17431b1b9051b1ac0.txt (deflated 74%)\n",
            "  adding: content/Ex-11/Model-segment-evaluation-11/labels/front-left-NO20240903-145541-000849F_MP4-0116_jpg.rf.3f4d74e7e97ebf6e0cda87c0802d930e.txt (deflated 78%)\n",
            "  adding: content/Ex-11/Model-segment-evaluation-11/labels/cars-NO20240914-114048-000222F_MP4-0060_jpg.rf.6e1986fba077b2c18a7399bad9a0ad2e.txt (deflated 83%)\n",
            "  adding: content/Ex-11/Model-segment-evaluation-11/labels/front-left-NO20240903-145141-000845F_MP4-0143_jpg.rf.9f559a8f3a895a9227ed2f3c6cbfac98.txt (deflated 76%)\n",
            "  adding: content/Ex-11/Model-segment-evaluation-11/labels/front-left-NO20240903-145541-000849F_MP4-0171_jpg.rf.2fd645afa50b8addadf518bb03bc11d5.txt (deflated 75%)\n",
            "  adding: content/Ex-11/Model-segment-evaluation-11/labels/CarLongPlateGen1293_jpg.rf.639f00ef266e1ea36fdd0e99128a2a19.txt (deflated 46%)\n",
            "  adding: content/Ex-11/Model-segment-evaluation-11/labels/front-right-NO20240903-144041-000834F_MP4-0226_jpg.rf.1b41e9e8a22f368cafd929683c9c00be.txt (deflated 83%)\n",
            "  adding: content/Ex-11/Model-segment-evaluation-11/labels/front-left-NO20240903-145041-000844F_MP4-0127_jpg.rf.20963e160a853ff36ea2a9fdf5d77795.txt (deflated 81%)\n",
            "  adding: content/Ex-11/Model-segment-evaluation-11/labels/front-left-NO20240903-145041-000844F_MP4-0172_jpg.rf.8bfce330f7877759da8d65b57a8408e5.txt (deflated 75%)\n",
            "  adding: content/Ex-11/Model-segment-evaluation-11/labels/front-right-NO20240909-181640-000014F_MP4-0012_jpg.rf.29f93781762c166452cd932901c18527.txt (deflated 73%)\n",
            "  adding: content/Ex-11/Model-segment-evaluation-11/labels/cars-NO20240910-060525-000077F_MP4-0140_jpg.rf.ec796f7ca5a7f82270a2e3340f01c34d.txt (deflated 73%)\n",
            "  adding: content/Ex-11/Model-segment-evaluation-11/labels/front-right-NO20240909-181340-000011F_MP4-0029_jpg.rf.6e1162a0db5039a630a7ee0273d2114c.txt (deflated 73%)\n",
            "  adding: content/Ex-11/Model-segment-evaluation-11/labels/front-right-NO20240909-181640-000014F_MP4-0054_jpg.rf.f29c9df0014519cafd17d8b812f2007a.txt (deflated 79%)\n",
            "  adding: content/Ex-11/Model-segment-evaluation-11/labels/cars-NO20240914-114048-000222F_MP4-0186_jpg.rf.fc4f38fdc66a358fdb06c1bad285607f.txt (deflated 81%)\n",
            "  adding: content/Ex-11/Model-segment-evaluation-11/labels/CarLongPlateGen502_jpg.rf.0880d20170bac8107609a860c72ea1b9.txt (deflated 56%)\n",
            "  adding: content/Ex-11/Model-segment-evaluation-11/labels/front-left-NO20240909-143904-000344F_MP4-0010_jpg.rf.e88563407d32006251e56684c3df3fc1.txt (deflated 78%)\n",
            "  adding: content/Ex-11/Model-segment-evaluation-11/labels/front-left-NO20240903-145441-000848F_MP4-0164_jpg.rf.10620d7e57befe2290b75a607175b5a6.txt (deflated 75%)\n",
            "  adding: content/Ex-11/Model-segment-evaluation-11/labels/front-left-NO20240903-145541-000849F_MP4-0053_jpg.rf.805ebf8c9e330be94214d94d180e2f49.txt (deflated 80%)\n",
            "  adding: content/Ex-11/Model-segment-evaluation-11/labels/cars-NO20240914-114048-000222F_MP4-0095_jpg.rf.8bf63a78904929a2cc6afdffa8c109c4.txt (deflated 81%)\n",
            "  adding: content/Ex-11/Model-segment-evaluation-11/labels/front-left-NO20240903-145541-000849F_MP4-0076_jpg.rf.9d638d4f3e2b798aef098e6a78814cb7.txt (deflated 79%)\n",
            "  adding: content/Ex-11/Model-segment-evaluation-11/labels/front-left-NO20240903-145041-000844F_MP4-0292_jpg.rf.c0286d53ddbe4bf0a6bb7cfcbc3adb8b.txt (deflated 78%)\n",
            "  adding: content/Ex-11/Model-segment-evaluation-11/labels/v5_mp4-0090_jpg.rf.f49abc1dd72b82668b3bbafde411b34f.txt (deflated 79%)\n",
            "  adding: content/Ex-11/Model-segment-evaluation-11/labels/front-left-NO20240909-143304-000338F_MP4-0251_jpg.rf.d60a1a6210c22cb4560d2de4467b4be3.txt (deflated 77%)\n",
            "  adding: content/Ex-11/Model-segment-evaluation-11/labels/CarLongPlateGen2290_jpg.rf.52bade779182a595c1ec4c43d391f0f3.txt (deflated 48%)\n",
            "  adding: content/Ex-11/Model-segment-evaluation-11/labels/CarLongPlateGen128_jpg.rf.4d27dacbe092cac936f3c45db6f0c4e2.txt (deflated 63%)\n",
            "  adding: content/Ex-11/Model-segment-evaluation-11/labels/night-front-right-NO20240909-182940-000027F_MP4-0037_jpg.rf.c1a8a0d4006ed5b52089d003541279ce.txt (deflated 76%)\n",
            "  adding: content/Ex-11/Model-segment-evaluation-11/labels/front-right-NO20240903-144041-000834F_MP4-0217_jpg.rf.0504c59a5fc3303ac3f3e3b23c25290f.txt (deflated 83%)\n",
            "  adding: content/Ex-11/Model-segment-evaluation-11/labels/front-right-NO20240903-143941-000833F_MP4-0262_jpg.rf.6f2a69859f9243a42f8ae098e3eb16bc.txt (deflated 74%)\n",
            "  adding: content/Ex-11/Model-segment-evaluation-11/labels/CarLongPlateGen3715_jpg.rf.ef8ccd48344fc1fdada03054bc32fc46.txt (deflated 55%)\n",
            "  adding: content/Ex-11/Model-segment-evaluation-11/labels/front-left-NO20240903-145441-000848F_MP4-0143_jpg.rf.850c87ec44004a703de237211c4e4742.txt (deflated 75%)\n",
            "  adding: content/Ex-11/Model-segment-evaluation-11/labels/front-left-NO20240909-150504-000370F_MP4-0289_jpg.rf.fb3b499e9b55e9b1b4af20243622bc2c.txt (deflated 77%)\n",
            "  adding: content/Ex-11/Model-segment-evaluation-11/labels/front-left-NO20240903-145441-000848F_MP4-0132_jpg.rf.2ac6038bba67a42eefecfb8fc0de0cd3.txt (deflated 78%)\n",
            "  adding: content/Ex-11/Model-segment-evaluation-11/labels/front-left-NO20240903-145041-000844F_MP4-0181_jpg.rf.674fbacecc024c4e9617c9a2e91b6be6.txt (deflated 72%)\n",
            "  adding: content/Ex-11/Model-segment-evaluation-11/labels/cars-NO20240914-114048-000222F_MP4-0269_jpg.rf.24c8f870dd2cc638924bf8ec6d082d43.txt (deflated 82%)\n",
            "  adding: content/Ex-11/Model-segment-evaluation-11/labels/front-right-NO20240909-181540-000013F_MP4-0051_jpg.rf.7999a90e562c180d36f86b410601b13e.txt (deflated 82%)\n",
            "  adding: content/Ex-11/Model-segment-evaluation-11/labels/front-left-NO20240903-145441-000848F_MP4-0267_jpg.rf.770f9ffecba1524861b5789bb35c4c33.txt (deflated 80%)\n",
            "  adding: content/Ex-11/Model-segment-evaluation-11/labels/v6_mp4-0005_jpg.rf.98d44da9158fa9d0704f45bbad194129.txt (deflated 83%)\n",
            "  adding: content/Ex-11/Model-segment-evaluation-11/labels/xemay1392_jpg.rf.b9d9709f951bab8b8ac8fa38a872b350.txt (deflated 49%)\n",
            "  adding: content/Ex-11/Model-segment-evaluation-11/labels/v8_mp4-0010_jpg.rf.f98d69711cdb13eb22e99be0d7d241f6.txt (deflated 76%)\n",
            "  adding: content/Ex-11/Model-segment-evaluation-11/labels/front-left-NO20240909-143204-000337F_MP4-0145_jpg.rf.1444b912ba42f0a90ae6653375eed6a8.txt (deflated 83%)\n",
            "  adding: content/Ex-11/Model-segment-evaluation-11/labels/front-right-NO20240903-144141-000835F_MP4-0217_jpg.rf.a281dd1f624ccb13736bd555b3f11a62.txt (deflated 79%)\n",
            "  adding: content/Ex-11/Model-segment-evaluation-11/labels/chery-cross_MP4-0045_jpg.rf.62d9c598cfea3105cf7b8c89e88aaa46.txt (deflated 82%)\n",
            "  adding: content/Ex-11/Model-segment-evaluation-11/labels/NO20240917-143837-000243F_MP4-0023_jpg.rf.c666dccee87bf01a32a83125e053d36b.txt (deflated 84%)\n",
            "  adding: content/Ex-11/Model-segment-evaluation-11/labels/night-front-right-NO20240909-183040-000028F_MP4-0143_jpg.rf.5693c2a27405d2b5adcd5ec7ce377256.txt (deflated 81%)\n",
            "  adding: content/Ex-11/Model-segment-evaluation-11/labels/front-left-NO20240908-150138-000147F_MP4-0125_jpg.rf.80fd4e312514a489b47823c54777c878.txt (deflated 74%)\n",
            "  adding: content/Ex-11/Model-segment-evaluation-11/labels/chery-cross_MP4-0018_jpg.rf.e3c6bfdd893c39f0eec083f5178cd63e.txt (deflated 80%)\n",
            "  adding: content/Ex-11/Model-segment-evaluation-11/labels/front-right-NO20240903-144041-000834F_MP4-0183_jpg.rf.6ced8da98f1ed48b1f092ad23423482b.txt (deflated 80%)\n",
            "  adding: content/Ex-11/Model-segment-evaluation-11/labels/NO20240909-181040-000008F_MP4-0155_jpg.rf.ee1a2255f910fe6bdbe659a661750a68.txt (deflated 79%)\n",
            "  adding: content/Ex-11/Model-segment-evaluation-11/labels/front-left-NO20240903-145041-000844F_MP4-0138_jpg.rf.3502e1c5dee086efbbd1eba4f1175fe2.txt (deflated 73%)\n",
            "  adding: content/Ex-11/Model-segment-evaluation-11/labels/rotatequandoi88_jpg.rf.0f90facf8a045ab8934b36432f8adc84.txt (deflated 67%)\n",
            "  adding: content/Ex-11/Model-segment-evaluation-11/labels/xemay1707_jpg.rf.b459ac5ba3453b888971d0bcd4205657.txt (deflated 46%)\n",
            "  adding: content/Ex-11/Model-segment-evaluation-11/labels/front-left-NO20240903-145541-000849F_MP4-0112_jpg.rf.d55e2c22e95b72504faab9904664a955.txt (deflated 75%)\n",
            "  adding: content/Ex-11/Model-segment-evaluation-11/labels/chery-cross_MP4-0044_jpg.rf.e47c5d515e10230923848798b2e3b3f0.txt (deflated 83%)\n",
            "  adding: content/Ex-11/Model-segment-evaluation-11/labels/front-left-NO20240908-145538-000141F_MP4-0136_jpg.rf.2312f4909da81bb3e44c6f682f4244a1.txt (deflated 75%)\n",
            "  adding: content/Ex-11/Model-segment-evaluation-11/labels/front-left-NO20240903-145041-000844F_MP4-0175_jpg.rf.eda219a9cd355266c8e0ec90897889e6.txt (deflated 73%)\n",
            "  adding: content/Ex-11/Model-segment-evaluation-11/labels/front-left-NO20240908-150138-000147F_MP4-0084_jpg.rf.450d29c8f38809c30e4b0a63c4431e6f.txt (deflated 74%)\n",
            "  adding: content/Ex-11/Model-segment-evaluation-11/labels/front-right-NO20240903-143941-000833F_MP4-0031_jpg.rf.989725cf30fe0e8c217c37c9800864bd.txt (deflated 79%)\n",
            "  adding: content/Ex-11/Model-segment-evaluation-11/labels/front-left-NO20240903-145141-000845F_MP4-0130_jpg.rf.64ab5e089220d8b51d53e8750e85b2e2.txt (deflated 74%)\n",
            "  adding: content/Ex-11/Model-segment-evaluation-11/labels/front-right-NO20240903-143941-000833F_MP4-0267_jpg.rf.a1e610d1c2fd2a851bf37ba0d4476b29.txt (deflated 73%)\n",
            "  adding: content/Ex-11/Model-segment-evaluation-11/labels/night-front-right-NO20240909-183740-000035F_MP4-0202_jpg.rf.8873482abf65c8852a20dd19925c1c11.txt (deflated 78%)\n",
            "  adding: content/Ex-11/Model-segment-evaluation-11/labels/front-left-NO20240903-145041-000844F_MP4-0202_jpg.rf.9f12888f4ee98f37310e541e36bea150.txt (deflated 78%)\n",
            "  adding: content/Ex-11/Model-segment-evaluation-11/labels/front-left-NO20240903-145041-000844F_MP4-0220_jpg.rf.c849595755b7308b263631e0535b4304.txt (deflated 77%)\n",
            "  adding: content/Ex-11/Model-segment-evaluation-11/labels/cars-NO20240914-114048-000222F_MP4-0008_jpg.rf.07a9e8d999b065e2168f2d2fa47e7ae0.txt (deflated 80%)\n",
            "  adding: content/Ex-11/Model-segment-evaluation-11/labels/front-left-NO20240903-145041-000844F_MP4-0135_jpg.rf.a5f756d39b7f8bee9e631817765e66fd.txt (deflated 75%)\n",
            "  adding: content/Ex-11/Model-segment-evaluation-11/labels/front-left-NO20240903-145141-000845F_MP4-0010_jpg.rf.4c2be752cc81f5e1e2e9fe4cb807ef6f.txt (deflated 82%)\n",
            "  adding: content/Ex-11/Model-segment-evaluation-11/labels/image5_jpeg_jpg.rf.8f41f12ee1b5d6c71af20b859e8ecc29.txt (deflated 68%)\n",
            "  adding: content/Ex-11/Model-segment-evaluation-11/labels/night-front-right-NO20240909-183440-000032F_MP4-0050_jpg.rf.7b96b0f517525acf779099da1afab157.txt (deflated 76%)\n",
            "  adding: content/Ex-11/Model-segment-evaluation-11/labels/front-left-NO20240903-145041-000844F_MP4-0206_jpg.rf.9216fe5eedcfb0c2d0dd693af1455aa0.txt (deflated 76%)\n",
            "  adding: content/Ex-11/Model-segment-evaluation-11/labels/night-front-right-NO20240909-183540-000033F_MP4-0220_jpg.rf.f5d5baae59185c8d6687b2a798b535cc.txt (deflated 80%)\n",
            "  adding: content/Ex-11/Model-segment-evaluation-11/labels/front-left-NO20240903-145141-000845F_MP4-0112_jpg.rf.b38a7608f6e75eddba5372bffd7adb5a.txt (deflated 74%)\n",
            "  adding: content/Ex-11/Model-segment-evaluation-11/labels/NO20240917-143837-000243F_MP4-0077_jpg.rf.799830de24ebc065233931eb975fe18a.txt (deflated 82%)\n",
            "  adding: content/Ex-11/Model-segment-evaluation-11/labels/xemay1187_jpg.rf.e535b732d1a6a97d58db638822da7b2b.txt (deflated 46%)\n",
            "  adding: content/Ex-11/Model-segment-evaluation-11/labels/front-left-NO20240903-145441-000848F_MP4-0289_jpg.rf.84bc64be16a4aa1b109825394357fdff.txt (deflated 81%)\n",
            "  adding: content/Ex-11/Model-segment-evaluation-11/labels/front-left-NO20240909-145704-000362F_MP4-0189_jpg.rf.82aaec349222732580c141836163ad46.txt (deflated 73%)\n",
            "  adding: content/Ex-11/Model-segment-evaluation-11/labels/front-left-NO20240908-145538-000141F_MP4-0120_jpg.rf.3b694b77536f6d82d431cf7602d838cd.txt (deflated 74%)\n",
            "  adding: content/Ex-11/Model-segment-evaluation-11/labels/front-left-NO20240903-145041-000844F_MP4-0122_jpg.rf.6da04e7a55f7e38ccfb01f548eaf9142.txt (deflated 77%)\n",
            "  adding: content/Ex-11/Model-segment-evaluation-11/labels/front-left-NO20240903-145041-000844F_MP4-0243_jpg.rf.6cd5308964884bf3e2bc3f254b76c50f.txt (deflated 75%)\n",
            "  adding: content/Ex-11/Model-segment-evaluation-11/labels/front-right-NO20240909-181240-000010F_MP4-0241_jpg.rf.da0b8507317225666504eed49a14a1a5.txt (deflated 81%)\n",
            "  adding: content/Ex-11/Model-segment-evaluation-11/labels/front-left-NO20240903-145541-000849F_MP4-0100_jpg.rf.e51020190e46b9900dda5649da6da72c.txt (deflated 78%)\n",
            "  adding: content/Ex-11/Model-segment-evaluation-11/labels/front-right-NO20240903-144141-000835F_MP4-0038_jpg.rf.490154016876e715513482bb9b4c9298.txt (deflated 82%)\n",
            "  adding: content/Ex-11/Model-segment-evaluation-11/labels/night-front-right-NO20240909-183640-000034F_MP4-0035_jpg.rf.3ae8c523afebf265365c964aa8ccadc5.txt (deflated 81%)\n",
            "  adding: content/Ex-11/Model-segment-evaluation-11/labels/front-left-NO20240909-150504-000370F_MP4-0214_jpg.rf.701ac3b4e15c71a1faec194e4fdaedfb.txt (deflated 77%)\n",
            "  adding: content/Ex-11/Model-segment-evaluation-11/labels/cars-NO20240914-114048-000222F_MP4-0188_jpg.rf.616bc89987773690decaed450f9b9cca.txt (deflated 82%)\n",
            "  adding: content/Ex-11/Model-segment-evaluation-11/labels/night-front-right-NO20240909-183540-000033F_MP4-0212_jpg.rf.47895662b563d7a842ac2d5aa1d322f9.txt (deflated 75%)\n",
            "  adding: content/Ex-11/Model-segment-evaluation-11/labels/NO20240917-144137-000246F_MP4-0025_jpg.rf.5ece260b77e9ca444ac13c58635a2e5e.txt (deflated 84%)\n",
            "  adding: content/Ex-11/Model-segment-evaluation-11/labels/031dae4a52cf8aa1_jpg.rf.a8c2a1cdae3c53530d03f3fcd068c880.txt (deflated 67%)\n",
            "  adding: content/Ex-11/Model-segment-evaluation-11/labels/front-left-NO20240903-145141-000845F_MP4-0140_jpg.rf.b6795b4ee9a957a341fc6f1dd41d308c.txt (deflated 73%)\n",
            "  adding: content/Ex-11/Model-segment-evaluation-11/labels/Cars296_png_jpg.rf.d97d8562689f3f9812485cd31bd6aa30.txt (deflated 49%)\n",
            "  adding: content/Ex-11/Model-segment-evaluation-11/labels/front-right-NO20240903-144141-000835F_MP4-0289_jpg.rf.66d59db8a4d733f36a81f6f24681b8ed.txt (deflated 77%)\n",
            "  adding: content/Ex-11/Model-segment-evaluation-11/labels/front-left-NO20240903-145141-000845F_MP4-0107_jpg.rf.1b2aedb02c255da5196cfb18b4a940e3.txt (deflated 77%)\n",
            "  adding: content/Ex-11/Model-segment-evaluation-11/labels/front-left-NO20240903-145141-000845F_MP4-0092_jpg.rf.4fc260920516c7b01e970b6eb979a58c.txt (deflated 78%)\n",
            "  adding: content/Ex-11/Model-segment-evaluation-11/labels/front-right-NO20240909-181240-000010F_MP4-0290_jpg.rf.d8a3f9c738855080cda34c26fe956480.txt (deflated 71%)\n",
            "  adding: content/Ex-11/Model-segment-evaluation-11/labels/front-left-NO20240908-145538-000141F_MP4-0006_jpg.rf.85270341f7d619ca3998d876dc8376f7.txt (deflated 75%)\n",
            "  adding: content/Ex-11/Model-segment-evaluation-11/labels/front-right-NO20240903-143941-000833F_MP4-0275_jpg.rf.a36d4cbd164b038210a5c2c205d26ae2.txt (deflated 77%)\n",
            "  adding: content/Ex-11/Model-segment-evaluation-11/labels/front-left-NO20240903-145141-000845F_MP4-0138_jpg.rf.32f5673c92e301a84466fe16b772c506.txt (deflated 74%)\n",
            "  adding: content/Ex-11/Model-segment-evaluation-11/labels/front-left-NO20240903-145141-000845F_MP4-0223_jpg.rf.7f379a0edaaed1acaa143874bcde5bd1.txt (deflated 81%)\n",
            "  adding: content/Ex-11/Model-segment-evaluation-11/labels/front-right-NO20240909-181540-000013F_MP4-0085_jpg.rf.76dc58d19c7cfaa1c405f4473132d558.txt (deflated 74%)\n",
            "  adding: content/Ex-11/Model-segment-evaluation-11/labels/CarLongPlateGen1737_jpg.rf.ee2784e95b6516c23a42d93728c1ea17.txt (deflated 69%)\n",
            "  adding: content/Ex-11/Model-segment-evaluation-11/labels/00c09e63c45b4752_jpg.rf.40833cc475976339ab546766cb8c37b2.txt (deflated 46%)\n",
            "  adding: content/Ex-11/Model-segment-evaluation-11/labels/front-right-NO20240903-143941-000833F_MP4-0054_jpg.rf.3f55f5d3045e403174ce8eece6f4d786.txt (deflated 74%)\n",
            "  adding: content/Ex-11/Model-segment-evaluation-11/labels/front-left-NO20240903-145141-000845F_MP4-0002_jpg.rf.0bbf473060cad0b53b8af5fd5792ec7c.txt (deflated 80%)\n",
            "  adding: content/Ex-11/Model-segment-evaluation-11/labels/front-left-NO20240909-150504-000370F_MP4-0284_jpg.rf.60b13693d5be12897066b5c8dcc7425f.txt (deflated 76%)\n",
            "  adding: content/Ex-11/Model-segment-evaluation-11/labels/front-left-NO20240909-144404-000349F_MP4-0191_jpg.rf.f731a1a259ddb72abaf10f7c53a96ab0.txt (deflated 75%)\n",
            "  adding: content/Ex-11/Model-segment-evaluation-11/labels/cars-NO20240910-060525-000077F_MP4-0032_jpg.rf.d8f0bfb72478ff74cc1444279c51814a.txt (deflated 72%)\n",
            "  adding: content/Ex-11/Model-segment-evaluation-11/labels/night-front-right-NO20240909-183440-000032F_MP4-0242_jpg.rf.9147795b318ecc526cb6ec2026610ce7.txt (deflated 71%)\n",
            "  adding: content/Ex-11/Model-segment-evaluation-11/labels/cars-NO20240914-114048-000222F_MP4-0275_jpg.rf.349a30739df43454b9d7804e741ec395.txt (deflated 82%)\n",
            "  adding: content/Ex-11/Model-segment-evaluation-11/labels/front-right-NO20240909-181640-000014F_MP4-0097_jpg.rf.51f7a7f33a7d1e3370dce705ccdfde12.txt (deflated 70%)\n",
            "  adding: content/Ex-11/Model-segment-evaluation-11/labels/front-left-NO20240903-145441-000848F_MP4-0016_jpg.rf.5503e6049feed05b7e0496a56520b9f6.txt (deflated 76%)\n",
            "  adding: content/Ex-11/Model-segment-evaluation-11/labels/front-left-NO20240903-145141-000845F_MP4-0114_jpg.rf.0fcc7b7b7b81bee7e5a91cbf770c5357.txt (deflated 76%)\n",
            "  adding: content/Ex-11/Model-segment-evaluation-11/labels/v7_mp4-0009_jpg.rf.ae96cbd3342dd35ec29473d65300b223.txt (deflated 75%)\n",
            "  adding: content/Ex-11/Model-segment-evaluation-11/labels/cars-NO20240914-114048-000222F_MP4-0037_jpg.rf.70cfdef8214367411c84f69ad5880087.txt (deflated 82%)\n",
            "  adding: content/Ex-11/Model-segment-evaluation-11/labels/NO20240909-181040-000008F_MP4-0147_jpg.rf.766044005645d008713ef473ae84e5c5.txt (deflated 81%)\n",
            "  adding: content/Ex-11/Model-segment-evaluation-11/labels/front-left-NO20240903-145141-000845F_MP4-0043_jpg.rf.3cba2dfb6c830d793d13f1de029c090d.txt (deflated 73%)\n",
            "  adding: content/Ex-11/Model-segment-evaluation-11/labels/NO20240917-144137-000246F_MP4-0001_jpg.rf.8345643951d35a7def9305e1a71a9066.txt (deflated 83%)\n",
            "  adding: content/Ex-11/Model-segment-evaluation-11/labels/front-left-NO20240903-145041-000844F_MP4-0130_jpg.rf.8c0f90d1dfea8e52cd8285fa67dc1d88.txt (deflated 74%)\n",
            "  adding: content/Ex-11/Model-segment-evaluation-11/labels/NO20240909-181140-000009F_MP4-0046_jpg.rf.2c7d5a36af79671da04ac934c810975d.txt (deflated 74%)\n",
            "  adding: content/Ex-11/Model-segment-evaluation-11/labels/front-left-NO20240903-145141-000845F_MP4-0169_jpg.rf.39e79eb9a1b1a008441d916e418089f1.txt (deflated 72%)\n",
            "  adding: content/Ex-11/Model-segment-evaluation-11/labels/front-left-NO20240909-150404-000369F_MP4-0094_jpg.rf.3a25889d1102df46479c37b003baaebe.txt (deflated 76%)\n",
            "  adding: content/Ex-11/Model-segment-evaluation-11/labels/front-left-NO20240910-064125-000113F_MP4-0214_jpg.rf.9e03ae7a42070a17e0b67ab32344a85f.txt (deflated 77%)\n",
            "  adding: content/Ex-11/Model-segment-evaluation-11/labels/v7_mp4-0008_jpg.rf.a9714dae64f1740048e3d2c7cd308ba5.txt (deflated 75%)\n",
            "  adding: content/Ex-11/Model-segment-evaluation-11/labels/front-left-NO20240903-145141-000845F_MP4-0044_jpg.rf.63774db5cc21179e3bac2704f3eeb09e.txt (deflated 76%)\n",
            "  adding: content/Ex-11/Model-segment-evaluation-11/labels/front-left-NO20240908-145538-000141F_MP4-0270_jpg.rf.6174baf3975922920e13bf786b2c179c.txt (deflated 69%)\n",
            "  adding: content/Ex-11/Model-segment-evaluation-11/labels/front-right-NO20240909-181240-000010F_MP4-0245_jpg.rf.c73d48bb1d1fd612e4ff05bf330e9042.txt (deflated 85%)\n",
            "  adding: content/Ex-11/Model-segment-evaluation-11/labels/v1_mp4-0041_jpg.rf.ba0ee5972994ddda23cf87ec28535358.txt (deflated 75%)\n",
            "  adding: content/Ex-11/Model-segment-evaluation-11/labels/front-left-NO20240903-145041-000844F_MP4-0167_jpg.rf.9871d0a4ceb86e83c003c3c7c02641cd.txt (deflated 78%)\n",
            "  adding: content/Ex-11/Model-segment-evaluation-11/labels/front-left-NO20240903-145041-000844F_MP4-0274_jpg.rf.a2f57eb8a61d9f011f53c209d96e7308.txt (deflated 74%)\n",
            "  adding: content/Ex-11/Model-segment-evaluation-11/labels/cars-NO20240910-060525-000077F_MP4-0044_jpg.rf.1f4adde38a38a108d4d37dbae50ebeda.txt (deflated 80%)\n",
            "  adding: content/Ex-11/Model-segment-evaluation-11/labels/front-left-NO20240903-145041-000844F_MP4-0211_jpg.rf.a1059ad3272bae32b3c9300eb2dfe24e.txt (deflated 74%)\n",
            "  adding: content/Ex-11/Model-segment-evaluation-11/labels/front-left-NO20240909-144104-000346F_MP4-0296_jpg.rf.7085fc89c9243c75879f520842e6ec29.txt (deflated 83%)\n",
            "  adding: content/Ex-11/Model-segment-evaluation-11/labels/front-left-NO20240909-144504-000350F_MP4-0298_jpg.rf.012fbe081adb90a6922aa9074849caf2.txt (deflated 74%)\n",
            "  adding: content/Ex-11/Model-segment-evaluation-11/labels/front-left-NO20240903-145141-000845F_MP4-0115_jpg.rf.fd354299c52e869d950604f2bcc7761b.txt (deflated 77%)\n",
            "  adding: content/Ex-11/Model-segment-evaluation-11/labels/front-left-NO20240903-145141-000845F_MP4-0109_jpg.rf.8abead2b1e3d2de66c9dafde9342a96a.txt (deflated 76%)\n",
            "  adding: content/Ex-11/Model-segment-evaluation-11/labels/front-left-NO20240909-151104-000376F_MP4-0122_jpg.rf.875df71426ea872faab6379a05824c09.txt (deflated 73%)\n",
            "  adding: content/Ex-11/Model-segment-evaluation-11/labels/front-left-NO20240903-145041-000844F_MP4-0217_jpg.rf.a6e629f3ffd796b5344d3b12b1f37ebe.txt (deflated 76%)\n",
            "  adding: content/Ex-11/Model-segment-evaluation-11/labels/front-left-NO20240909-144404-000349F_MP4-0251_jpg.rf.9a06932c57b6787433a914a8b927127c.txt (deflated 79%)\n",
            "  adding: content/Ex-11/Model-segment-evaluation-11/labels/cars-NO20240914-112548-000207F_MP4-0017_jpg.rf.74aac474ed9aa5af1d517809629f5f70.txt (deflated 82%)\n",
            "  adding: content/Ex-11/Model-segment-evaluation-11/labels/front-left-NO20240909-144404-000349F_MP4-0116_jpg.rf.7f646dd02b05e218e4b5b5ca369042b1.txt (deflated 76%)\n",
            "  adding: content/Ex-11/Model-segment-evaluation-11/labels/cars-NO20240914-114048-000222F_MP4-0012_jpg.rf.bf8b4ad9dd100e40eff5e06b6dd30d03.txt (deflated 81%)\n",
            "  adding: content/Ex-11/Model-segment-evaluation-11/labels/cars-NO20240914-114048-000222F_MP4-0204_jpg.rf.e5cc8094e78d960b1f6fe4dacdd5af3a.txt (deflated 83%)\n",
            "  adding: content/Ex-11/Model-segment-evaluation-11/labels/CarLongPlate177_jpg.rf.865008504c0a8fcaad897f82e436d39b.txt (deflated 46%)\n",
            "  adding: content/Ex-11/Model-segment-evaluation-11/labels/front-right-NO20240903-143941-000833F_MP4-0249_jpg.rf.c6b6a83c01d390935c4e05254fed9881.txt (deflated 78%)\n",
            "  adding: content/Ex-11/Model-segment-evaluation-11/labels/NO20240917-144137-000246F_MP4-0019_jpg.rf.f3014b19cd441fa9cacbca58457e9e06.txt (deflated 83%)\n",
            "  adding: content/Ex-11/Model-segment-evaluation-11/labels/front-left-NO20240903-145141-000845F_MP4-0101_jpg.rf.08a231c88282e0c1fb95f7107396a404.txt (deflated 77%)\n",
            "  adding: content/Ex-11/Model-segment-evaluation-11/labels/front-left-NO20240910-064125-000113F_MP4-0046_jpg.rf.56e7b1c1d87a5951c94daa06804768e7.txt (deflated 78%)\n",
            "  adding: content/Ex-11/Model-segment-evaluation-11/labels/front-right-NO20240903-144141-000835F_MP4-0175_jpg.rf.9084d39d44be2aaf82fc5cdf42da1c07.txt (deflated 79%)\n",
            "  adding: content/Ex-11/Model-segment-evaluation-11/labels/front-left-NO20240903-145141-000845F_MP4-0077_jpg.rf.9f7825a555b7e08fd4b5dd6e99d768f3.txt (deflated 76%)\n",
            "  adding: content/Ex-11/Model-segment-evaluation-11/labels/front-right-NO20240909-181240-000010F_MP4-0053_jpg.rf.acc5ad355d702529e723eeaa01d70c80.txt (deflated 74%)\n",
            "  adding: content/Ex-11/Model-segment-evaluation-11/labels/front-left-NO20240910-064125-000113F_MP4-0255_jpg.rf.500dbc23bf77a12bc551ddbdadce14c7.txt (deflated 73%)\n",
            "  adding: content/Ex-11/Model-segment-evaluation-11/labels/CarLongPlateGen1605_jpg.rf.d5e9491bd592575dba1bd3114057d6c1.txt (deflated 68%)\n",
            "  adding: content/Ex-11/Model-segment-evaluation-11/labels/front-left-NO20240903-145041-000844F_MP4-0021_jpg.rf.ea86f33448b9720b0657fd1813995ad4.txt (deflated 72%)\n",
            "  adding: content/Ex-11/Model-segment-evaluation-11/labels/front-left-NO20240903-145041-000844F_MP4-0178_jpg.rf.4de70ad093f86a7420c3744ccca5e795.txt (deflated 75%)\n",
            "  adding: content/Ex-11/Model-segment-evaluation-11/labels/front-left-NO20240909-145604-000361F_MP4-0017_jpg.rf.98dcbec3e6758d71063ee317ab190e88.txt (deflated 76%)\n",
            "  adding: content/Ex-11/Model-segment-evaluation-11/labels/front-left-NO20240903-145441-000848F_MP4-0269_jpg.rf.576a03b81748d9d85d375a386400f07c.txt (deflated 79%)\n",
            "  adding: content/Ex-11/Model-segment-evaluation-11/labels/cars-NO20240914-112948-000211F_MP4-0051_jpg.rf.fd1c1b6d7f70f2189d1891f70424661d.txt (deflated 76%)\n",
            "  adding: content/Ex-11/Model-segment-evaluation-11/labels/front-right-NO20240903-144041-000834F_MP4-0144_jpg.rf.3bd56aa6a4ac2b32d91239adb4e32db3.txt (deflated 80%)\n",
            "  adding: content/Ex-11/Model-segment-evaluation-11/labels/night-front-right-NO20240909-183740-000035F_MP4-0200_jpg.rf.3a47d31d3131a96c0d7341cff2e8547a.txt (deflated 76%)\n",
            "  adding: content/Ex-11/Model-segment-evaluation-11/labels/cars-NO20240914-114048-000222F_MP4-0103_jpg.rf.81062361c363730e919842775aa5a8fe.txt (deflated 79%)\n",
            "  adding: content/Ex-11/Model-segment-evaluation-11/labels/front-left-NO20240903-145541-000849F_MP4-0008_jpg.rf.63cba031164f74999c91ac2d7c172704.txt (deflated 80%)\n",
            "  adding: content/Ex-11/Model-segment-evaluation-11/labels/v5_mp4-0088_jpg.rf.499a82252a835e541fe961e07f0712c2.txt (deflated 78%)\n",
            "  adding: content/Ex-11/Model-segment-evaluation-11/labels/cars-NO20240914-114248-000224F_MP4-0007_jpg.rf.9adf2db1547230f59a13da6ed05aa4a1.txt (deflated 78%)\n",
            "  adding: content/Ex-11/Model-segment-evaluation-11/labels/CarLongPlate354_jpg.rf.60f93a8d18014f0451b97fc354754faf.txt (deflated 50%)\n",
            "  adding: content/Ex-11/Model-segment-evaluation-11/labels/front-left-NO20240903-145541-000849F_MP4-0178_jpg.rf.51fe4fec7f8165f751b10636c28004ed.txt (deflated 76%)\n",
            "  adding: content/Ex-11/Model-segment-evaluation-11/labels/cars-NO20240914-114048-000222F_MP4-0262_jpg.rf.27fca52ed238c128306e2660a8cf0e05.txt (deflated 80%)\n",
            "  adding: content/Ex-11/Model-segment-evaluation-11/labels/front-left-NO20240903-145141-000845F_MP4-0068_jpg.rf.cd9f9ed1e14dbbcdce6c034072bdf408.txt (deflated 77%)\n",
            "  adding: content/Ex-11/Model-segment-evaluation-11/labels/front-left-NO20240903-145041-000844F_MP4-0168_jpg.rf.7d8d3c2d36338fe777f271560e27d627.txt (deflated 71%)\n",
            "  adding: content/Ex-11/Model-segment-evaluation-11/labels/front-left-NO20240903-145441-000848F_MP4-0277_jpg.rf.a91e19fc87a49cc6a29c00303c3fd812.txt (deflated 78%)\n",
            "  adding: content/Ex-11/Model-segment-evaluation-11/labels/night-front-right-NO20240909-183540-000033F_MP4-0146_jpg.rf.a9f3f2e9a5d3c011a2290824cb3ab640.txt (deflated 79%)\n",
            "  adding: content/Ex-11/Model-segment-evaluation-11/labels/NO20240909-181140-000009F_MP4-0062_jpg.rf.6b8748ff5898d2f9eb81317e1c9075ca.txt (deflated 82%)\n",
            "  adding: content/Ex-11/Model-segment-evaluation-11/labels/front-left-NO20240903-145041-000844F_MP4-0240_jpg.rf.b4c02713d0af04b413c5078cd361a4b4.txt (deflated 78%)\n",
            "  adding: content/Ex-11/Model-segment-evaluation-11/labels/front-left-NO20240909-150404-000369F_MP4-0183_jpg.rf.5fcd43588150c51710f27dbb61ffbdcf.txt (deflated 75%)\n",
            "  adding: content/Ex-11/Model-segment-evaluation-11/labels/front-left-NO20240909-145604-000361F_MP4-0119_jpg.rf.0a29f9eec533aaedeb6ff337646d577e.txt (deflated 75%)\n",
            "  adding: content/Ex-11/Model-segment-evaluation-11/labels/xemay2392_jpg.rf.23bfe787bfc12e4066451d68f666a0ec.txt (deflated 44%)\n",
            "  adding: content/Ex-11/Model-segment-evaluation-11/labels/front-left-NO20240903-145141-000845F_MP4-0011_jpg.rf.b95a06b03a9d09aeed325c88fa109a5c.txt (deflated 78%)\n",
            "  adding: content/Ex-11/Model-segment-evaluation-11/labels/front-left-NO20240903-145141-000845F_MP4-0136_jpg.rf.30c0a3ca1c180ddacc24a1e057ff3c91.txt (deflated 72%)\n",
            "  adding: content/Ex-11/Model-segment-evaluation-11/labels/front-left-NO20240903-145141-000845F_MP4-0082_jpg.rf.1e677d9628ec442434d9145ff2bf5db3.txt (deflated 80%)\n",
            "  adding: content/Ex-11/Model-segment-evaluation-11/labels/Cars311_png_jpg.rf.f3fdfe8e6d0d7d15bc422335dd985a89.txt (deflated 61%)\n",
            "  adding: content/Ex-11/Model-segment-evaluation-11/labels/front-right-NO20240903-144041-000834F_MP4-0036_jpg.rf.7edf2fcf35372eae6ae463639c1ff459.txt (deflated 86%)\n",
            "  adding: content/Ex-11/Model-segment-evaluation-11/labels/NO20240909-181040-000008F_MP4-0194_jpg.rf.582a77d506d2ff4ba2c072a74264b7f5.txt (deflated 73%)\n",
            "  adding: content/Ex-11/Model-segment-evaluation-11/labels/NO20240909-181040-000008F_MP4-0142_jpg.rf.9f0e405b0f992b244c2dcf3a9bf1989c.txt (deflated 79%)\n",
            "  adding: content/Ex-11/Model-segment-evaluation-11/labels/front-left-NO20240909-143204-000337F_MP4-0105_jpg.rf.44f260056e6c2b143274bcd061c8dfa6.txt (deflated 75%)\n",
            "  adding: content/Ex-11/Model-segment-evaluation-11/labels/front-right-NO20240909-181440-000012F_MP4-0021_jpg.rf.b04a5363a1eb67b2edc2e19886e80fc1.txt (deflated 80%)\n",
            "  adding: content/Ex-11/Model-segment-evaluation-11/labels/front-left-NO20240903-145041-000844F_MP4-0245_jpg.rf.d270d9a61c61158d486b819260109f7f.txt (deflated 74%)\n",
            "  adding: content/Ex-11/Model-segment-evaluation-11/labels/front-right-NO20240903-143941-000833F_MP4-0093_jpg.rf.b9dba12c423b35886790af78c9c62073.txt (deflated 76%)\n",
            "  adding: content/Ex-11/Model-segment-evaluation-11/labels/front-left-NO20240909-145904-000364F_MP4-0024_jpg.rf.81241b0366290630809cb43ff0d4b393.txt (deflated 73%)\n",
            "  adding: content/Ex-11/Model-segment-evaluation-11/labels/front-left-NO20240909-151104-000376F_MP4-0112_jpg.rf.7782c3db8f44184927c8270af6ca5e8e.txt (deflated 77%)\n",
            "  adding: content/Ex-11/Model-segment-evaluation-11/labels/front-left-NO20240903-145141-000845F_MP4-0172_jpg.rf.0b3b47e93892e19bea275a6788f68009.txt (deflated 73%)\n",
            "  adding: content/Ex-11/Model-segment-evaluation-11/labels/front-left-NO20240903-145041-000844F_MP4-0221_jpg.rf.d9ba7638cab29ecd135c170b5491aa0d.txt (deflated 77%)\n",
            "  adding: content/Ex-11/Model-segment-evaluation-11/labels/v2_mp4-0018_jpg.rf.6e952473a4b63fabe84c4eefecfd4aa0.txt (deflated 75%)\n",
            "  adding: content/Ex-11/Model-segment-evaluation-11/labels/front-left-NO20240903-145041-000844F_MP4-0281_jpg.rf.449c8e00d9c954d54339109e9fabb43d.txt (deflated 75%)\n",
            "  adding: content/Ex-11/Model-segment-evaluation-11/labels/front-left-NO20240903-145541-000849F_MP4-0163_jpg.rf.f2bd2adbea844ff45927dd9fa2bec42c.txt (deflated 79%)\n",
            "  adding: content/Ex-11/Model-segment-evaluation-11/labels/front-left-NO20240909-143404-000339F_MP4-0059_jpg.rf.1da5a661005e9a340da2b4e0e915059e.txt (deflated 80%)\n",
            "  adding: content/Ex-11/Model-segment-evaluation-11/labels/front-left-NO20240903-145141-000845F_MP4-0093_jpg.rf.787e31ecbd1983839e8baf24f7498688.txt (deflated 79%)\n",
            "  adding: content/Ex-11/Model-segment-evaluation-11/labels/front-left-NO20240908-145938-000145F_MP4-0025_jpg.rf.f11f26426d0e6f701f7421bdc93ae1fd.txt (deflated 76%)\n",
            "  adding: content/Ex-11/Model-segment-evaluation-11/labels/xemay702_jpg.rf.33edcd029930c591835bc93b6f989330.txt (deflated 77%)\n",
            "  adding: content/Ex-11/Model-segment-evaluation-11/labels/front-left-NO20240903-145141-000845F_MP4-0157_jpg.rf.edbcf1f00851be9012d03bdd8055d7c9.txt (deflated 73%)\n",
            "  adding: content/Ex-11/Model-segment-evaluation-11/labels/front-left-NO20240903-145041-000844F_MP4-0141_jpg.rf.947452c37568b197a1b583201fdb1b3c.txt (deflated 75%)\n",
            "  adding: content/Ex-11/Model-segment-evaluation-11/labels/front-left-NO20240903-145041-000844F_MP4-0195_jpg.rf.afbb209e91085435baab912a01d48d2e.txt (deflated 73%)\n",
            "  adding: content/Ex-11/Model-segment-evaluation-11/labels/front-left-NO20240903-145141-000845F_MP4-0028_jpg.rf.bcc829bb0ba4c225f149686f92636c3c.txt (deflated 74%)\n",
            "  adding: content/Ex-11/Model-segment-evaluation-11/labels/front-left-NO20240903-145141-000845F_MP4-0116_jpg.rf.5b7bb792818f0b068ffa8010ad228b6a.txt (deflated 75%)\n",
            "  adding: content/Ex-11/Model-segment-evaluation-11/labels/front-left-NO20240910-060225-000074F_MP4-0032_jpg.rf.2ca3cc62a278542e2db2c4e11bf9d022.txt (deflated 73%)\n",
            "  adding: content/Ex-11/Model-segment-evaluation-11/labels/cars-NO20240914-114048-000222F_MP4-0080_jpg.rf.abcdfa0c8b1c34e12db4fe7b14b0db60.txt (deflated 81%)\n",
            "  adding: content/Ex-11/Model-segment-evaluation-11/labels/front-left-NO20240903-145041-000844F_MP4-0225_jpg.rf.71edc581021b5009a4c0a8640b9e66d1.txt (deflated 77%)\n",
            "  adding: content/Ex-11/Model-segment-evaluation-11/labels/front-left-NO20240903-145041-000844F_MP4-0102_jpg.rf.4c21c1563489b0d487a4d57d242daff8.txt (deflated 79%)\n",
            "  adding: content/Ex-11/Model-segment-evaluation-11/labels/CarLongPlate226_jpg.rf.4645327c70bd54d3687ea70ae8d5424d.txt (deflated 46%)\n",
            "  adding: content/Ex-11/Model-segment-evaluation-11/labels/front-left-NO20240903-145141-000845F_MP4-0094_jpg.rf.f20b5adf4dd3ce1dc22608135d580778.txt (deflated 79%)\n",
            "  adding: content/Ex-11/Model-segment-evaluation-11/labels/cars-NO20240914-114248-000224F_MP4-0016_jpg.rf.1e837d82765c6ab7478d7f3a8683edf9.txt (deflated 78%)\n",
            "  adding: content/Ex-11/Model-segment-evaluation-11/labels/front-right-NO20240903-143941-000833F_MP4-0002_jpg.rf.02113e755045e6584e44571d0bf0a393.txt (deflated 81%)\n",
            "  adding: content/Ex-11/Model-segment-evaluation-11/labels/NO20240917-144137-000246F_MP4-0055_jpg.rf.a9193e3edc27fce7c96635647e40ca73.txt (deflated 74%)\n",
            "  adding: content/Ex-11/Model-segment-evaluation-11/labels/night-front-right-NO20240909-183740-000035F_MP4-0285_jpg.rf.64dea3187bf539a4caf1526889910469.txt (deflated 79%)\n",
            "  adding: content/Ex-11/Model-segment-evaluation-11/labels/front-left-NO20240909-145804-000363F_MP4-0143_jpg.rf.7ee543e2c77c73dfd99294649b72a5ab.txt (deflated 75%)\n",
            "  adding: content/Ex-11/Model-segment-evaluation-11/labels/NO20240917-144137-000246F_MP4-0099_jpg.rf.23fe29e3fdae3dd3074d30cebcf291c7.txt (deflated 76%)\n",
            "  adding: content/Ex-11/Model-segment-evaluation-11/labels/front-left-NO20240909-143904-000344F_MP4-0043_jpg.rf.dd9020bfb625020eb8ee930cc203a948.txt (deflated 75%)\n",
            "  adding: content/Ex-11/Model-segment-evaluation-11/labels/front-left-NO20240903-145041-000844F_MP4-0188_jpg.rf.a3169cfd3628ce84643f2db59261db70.txt (deflated 78%)\n",
            "  adding: content/Ex-11/Model-segment-evaluation-11/labels/front-left-NO20240903-145541-000849F_MP4-0024_jpg.rf.f0b4434bdc1463170a6cb1fd0cff1b52.txt (deflated 76%)\n",
            "  adding: content/Ex-11/Model-segment-evaluation-11/labels/front-left-NO20240903-145141-000845F_MP4-0145_jpg.rf.ef0d39754c33941a8c85ee620c5944cb.txt (deflated 74%)\n",
            "  adding: content/Ex-11/Model-segment-evaluation-11/labels/front-right-NO20240903-144141-000835F_MP4-0157_jpg.rf.de9a0834285cc291cf76d104cc2157cb.txt (deflated 78%)\n",
            "  adding: content/Ex-11/Model-segment-evaluation-11/labels/front-left-NO20240903-145141-000845F_MP4-0125_jpg.rf.42578d6026ed37ddab969fe5a0611cc1.txt (deflated 78%)\n",
            "  adding: content/Ex-11/Model-segment-evaluation-11/labels/front-left-NO20240903-145541-000849F_MP4-0026_jpg.rf.f08ee5995c300987fc6fe2c306583253.txt (deflated 78%)\n",
            "  adding: content/Ex-11/Model-segment-evaluation-11/labels/front-left-NO20240903-145441-000848F_MP4-0280_jpg.rf.bbaed4b80d04359bb3fd9a2ac935ea66.txt (deflated 79%)\n",
            "  adding: content/Ex-11/Model-segment-evaluation-11/labels/front-left-NO20240903-145041-000844F_MP4-0132_jpg.rf.aceef7b9c10bd4209f27156fb876ac13.txt (deflated 71%)\n",
            "  adding: content/Ex-11/Model-segment-evaluation-11/labels/front-left-NO20240903-145541-000849F_MP4-0007_jpg.rf.3531bec25a1ee9dbfd6efed6748f84e7.txt (deflated 78%)\n",
            "  adding: content/Ex-11/Model-segment-evaluation-11/labels/front-left-NO20240903-145441-000848F_MP4-0276_jpg.rf.2032884691a7480dd9023a5aba0c3f54.txt (deflated 80%)\n",
            "  adding: content/Ex-11/Model-segment-evaluation-11/labels/CarLongPlateGen3146_jpg.rf.6106aba75afb6b51da8817d3ec5afc32.txt (deflated 49%)\n",
            "  adding: content/Ex-11/Model-segment-evaluation-11/labels/front-left-NO20240909-150004-000365F_MP4-0158_jpg.rf.e5a2fe6b6af560a5bbe5e1d89ad39b35.txt (deflated 75%)\n",
            "  adding: content/Ex-11/Model-segment-evaluation-11/labels/CarLongPlateGen572_jpg.rf.99165425a33bd7630433e160e920430f.txt (deflated 68%)\n",
            "  adding: content/Ex-11/Model-segment-evaluation-11/labels/front-right-NO20240909-181340-000011F_MP4-0005_jpg.rf.040206bb347251f456548c2f547ddcf4.txt (deflated 76%)\n",
            "  adding: content/Ex-11/Model-segment-evaluation-11/labels/front-left-NO20240903-145141-000845F_MP4-0037_jpg.rf.416312769d8ec6b684323b28a9f13c88.txt (deflated 74%)\n",
            "  adding: content/Ex-11/Model-segment-evaluation-11/labels/front-left-NO20240903-145041-000844F_MP4-0293_jpg.rf.6e3c622afdd9d2358d91c004d85289c9.txt (deflated 75%)\n",
            "  adding: content/Ex-11/Model-segment-evaluation-11/labels/front-left-NO20240909-144104-000346F_MP4-0026_jpg.rf.cee8c51657bc2fd20f1056d016b45ca0.txt (deflated 72%)\n",
            "  adding: content/Ex-11/Model-segment-evaluation-11/labels/xemay30_jpg.rf.cfa6a784919ef162e44bca1edf75e621.txt (deflated 50%)\n",
            "  adding: content/Ex-11/Model-segment-evaluation-11/labels/NO20240909-181040-000008F_MP4-0170_jpg.rf.bd1e0d0ba96fdf7bf8a2a7ddacd127b8.txt (deflated 73%)\n",
            "  adding: content/Ex-11/Model-segment-evaluation-11/labels/front-left-NO20240910-063925-000111F_MP4-0149_jpg.rf.259d645b76408565cd55268784139864.txt (deflated 76%)\n",
            "  adding: content/Ex-11/Model-segment-evaluation-11/labels/front-left-NO20240903-145541-000849F_MP4-0054_jpg.rf.12a023a589bad643c15dcf1cfb9e2785.txt (deflated 78%)\n",
            "  adding: content/Ex-11/Model-segment-evaluation-11/labels/cars-NO20240910-060525-000077F_MP4-0052_jpg.rf.f90293fed8c9cf83fd32d00466ddb718.txt (deflated 78%)\n",
            "  adding: content/Ex-11/Model-segment-evaluation-11/labels/front-left-NO20240903-145541-000849F_MP4-0107_jpg.rf.717f82a3cb7a4758e9dcb707bddc429a.txt (deflated 79%)\n",
            "  adding: content/Ex-11/Model-segment-evaluation-11/labels/front-left-NO20240909-150404-000369F_MP4-0180_jpg.rf.06b7e2a6b647de7b26fd167e0c2145a2.txt (deflated 76%)\n",
            "  adding: content/Ex-11/Model-segment-evaluation-11/labels/front-left-NO20240910-060225-000074F_MP4-0105_jpg.rf.e8ce17599acc97c792b5325592c8b958.txt (deflated 75%)\n",
            "  adding: content/Ex-11/Model-segment-evaluation-11/labels/NO20240917-144137-000246F_MP4-0028_jpg.rf.7498ff5b3f9db5296d57f7e298fe4729.txt (deflated 85%)\n",
            "  adding: content/Ex-11/Model-segment-evaluation-11/labels/night-front-right-NO20240909-183140-000029F_MP4-0020_jpg.rf.641ec4bf55e52f0e234c452ba6c21975.txt (deflated 78%)\n",
            "  adding: content/Ex-11/Model-segment-evaluation-11/labels/front-left-NO20240909-143904-000344F_MP4-0080_jpg.rf.a0f79d25d17c87475b24ab8080573dba.txt (deflated 85%)\n",
            "  adding: content/Ex-11/Model-segment-evaluation-11/labels/front-left-NO20240903-145141-000845F_MP4-0080_jpg.rf.33a232eef76579fb976ca72a67bbcd2c.txt (deflated 75%)\n",
            "  adding: content/Ex-11/Model-segment-evaluation-11/labels/front-left-NO20240903-145141-000845F_MP4-0064_jpg.rf.b1c32b2fb13743fe956930e9e2ef8019.txt (deflated 82%)\n",
            "  adding: content/Ex-11/Model-segment-evaluation-11/labels/front-left-NO20240903-145141-000845F_MP4-0110_jpg.rf.7a23ab5d9db00a4893b188c7e2c49fcf.txt (deflated 75%)\n",
            "  adding: content/Ex-11/Model-segment-evaluation-11/labels/front-right-NO20240903-144141-000835F_MP4-0211_jpg.rf.3f3fa658197363e18268336697e10147.txt (deflated 75%)\n",
            "  adding: content/Ex-11/Model-segment-evaluation-11/labels/front-left-NO20240903-145141-000845F_MP4-0056_jpg.rf.b0b8e7f8d13c0d8260ab352d0608bcc5.txt (deflated 75%)\n",
            "  adding: content/Ex-11/Model-segment-evaluation-11/labels/front-left-NO20240903-145141-000845F_MP4-0151_jpg.rf.6e9d1cb6648fad3a55ea5564b3d3b2e2.txt (deflated 77%)\n",
            "  adding: content/Ex-11/Model-segment-evaluation-11/labels/front-left-NO20240903-145041-000844F_MP4-0032_jpg.rf.fb6e5c461a2a48ffd5f500ef52707ab1.txt (deflated 73%)\n",
            "  adding: content/Ex-11/Model-segment-evaluation-11/labels/NO20240917-143737-000242F_MP4-0029_jpg.rf.8ad3967d50e8b8f93e9582545441c27a.txt (deflated 81%)\n",
            "  adding: content/Ex-11/Model-segment-evaluation-11/labels/cars-NO20240914-112948-000211F_MP4-0013_jpg.rf.a74a9e89ee2ae54f9fcf17caafd427ef.txt (deflated 75%)\n",
            "  adding: content/Ex-11/Model-segment-evaluation-11/labels/front-right-NO20240903-144141-000835F_MP4-0113_jpg.rf.8405c6677fab988ee51743b66e47c097.txt (deflated 80%)\n",
            "  adding: content/Ex-11/Model-segment-evaluation-11/labels/front-left-NO20240908-145538-000141F_MP4-0147_jpg.rf.84287ec427969ec3465ecd739d2e08b7.txt (deflated 77%)\n",
            "  adding: content/Ex-11/Model-segment-evaluation-11/labels/front-left-NO20240903-145041-000844F_MP4-0108_jpg.rf.735f449f6729965b56be699c277e6799.txt (deflated 75%)\n",
            "  adding: content/Ex-11/Model-segment-evaluation-11/labels/front-left-NO20240903-145041-000844F_MP4-0196_jpg.rf.ac5b686c71cac4a6879a21d140763d8a.txt (deflated 73%)\n",
            "  adding: content/Ex-11/Model-segment-evaluation-11/labels/front-left-NO20240908-145538-000141F_MP4-0075_jpg.rf.ca9e41c46682317cfc31cd4ad373e89f.txt (deflated 75%)\n",
            "  adding: content/Ex-11/Model-segment-evaluation-11/labels/NO20240909-181140-000009F_MP4-0169_jpg.rf.1f81c8bdf9c66c5e9d7d223808088763.txt (deflated 81%)\n",
            "  adding: content/Ex-11/Model-segment-evaluation-11/labels/front-right-NO20240903-143941-000833F_MP4-0090_jpg.rf.f200c2df6750cdc361e9c00daa189350.txt (deflated 77%)\n",
            "  adding: content/Ex-11/Model-segment-evaluation-11/labels/xemay2357_jpg.rf.e8b2184aeebb36add9644aa8b56cb382.txt (deflated 52%)\n",
            "  adding: content/Ex-11/Model-segment-evaluation-11/labels/front-left-NO20240909-144104-000346F_MP4-0261_jpg.rf.22696aefe09193896e7d9ad9a265ee4c.txt (deflated 74%)\n",
            "  adding: content/Ex-11/Model-segment-evaluation-11/labels/front-left-NO20240903-145541-000849F_MP4-0196_jpg.rf.4f2478e43c14b6b365d4463263a156fb.txt (deflated 77%)\n",
            "  adding: content/Ex-11/Model-segment-evaluation-11/labels/chery-cross_MP4-0060_jpg.rf.32277730edf1fa84ffd0a06adb37f467.txt (deflated 79%)\n",
            "  adding: content/Ex-11/Model-segment-evaluation-11/labels/cars-NO20240910-060525-000077F_MP4-0033_jpg.rf.365963ac3d3bb561df3f564acf5de5d4.txt (deflated 73%)\n",
            "  adding: content/Ex-11/Model-segment-evaluation-11/labels/front-right-NO20240903-144041-000834F_MP4-0150_jpg.rf.260a8c7219071629323484a19d70eff4.txt (deflated 78%)\n",
            "  adding: content/Ex-11/Model-segment-evaluation-11/labels/front-left-NO20240908-150138-000147F_MP4-0112_jpg.rf.6ba1bcf98f3a5be6f65e1f52c4989cca.txt (deflated 73%)\n",
            "  adding: content/Ex-11/Model-segment-evaluation-11/labels/pic_116_jpg.rf.8a17140b972342a7ff5ba6507a97f4cf.txt (deflated 73%)\n",
            "  adding: content/Ex-11/Model-segment-evaluation-11/labels/front-right-NO20240903-143941-000833F_MP4-0092_jpg.rf.3b369a499ac797cd8a9a7a2a0a1656ab.txt (deflated 76%)\n",
            "  adding: content/Ex-11/Model-segment-evaluation-11/labels/front-left-NO20240903-145141-000845F_MP4-0089_jpg.rf.2197c25ca4e0cdce0d6390a17f094847.txt (deflated 79%)\n",
            "  adding: content/Ex-11/Model-segment-evaluation-11/labels/xemay1479_jpg.rf.50a80223c6ee3d1c755f6b9d3ee22870.txt (deflated 46%)\n",
            "  adding: content/Ex-11/Model-segment-evaluation-11/labels/front-left-NO20240903-145541-000849F_MP4-0004_jpg.rf.d40fda655d413da7b4c273c1949d00fe.txt (deflated 79%)\n",
            "  adding: content/Ex-11/Model-segment-evaluation-11/labels/front-left-NO20240903-145041-000844F_MP4-0271_jpg.rf.33e0c2390dfdacde03ea594ee565e788.txt (deflated 76%)\n",
            "  adding: content/Ex-11/Model-segment-evaluation-11/labels/night-front-right-NO20240909-183440-000032F_MP4-0045_jpg.rf.4249952293d09a6b1ddcf479891efe13.txt (deflated 77%)\n",
            "  adding: content/Ex-11/Model-segment-evaluation-11/labels/v6_mp4-0016_jpg.rf.e99be2051a4bb548b73d03c9d6cdc0c2.txt (deflated 77%)\n",
            "  adding: content/Ex-11/Model-segment-evaluation-11/labels/front-left-NO20240903-145041-000844F_MP4-0214_jpg.rf.817ce76ce6c1d67b4ba4768d25f04f6f.txt (deflated 81%)\n",
            "  adding: content/Ex-11/Model-segment-evaluation-11/labels/cars-NO20240914-114048-000222F_MP4-0087_jpg.rf.bd7c72372186fb1df24a0c53c71d6dbd.txt (deflated 82%)\n",
            "  adding: content/Ex-11/Model-segment-evaluation-11/labels/night-front-right-NO20240909-183440-000032F_MP4-0136_jpg.rf.bd9bd82af03c52ded76ecce0dd1d3d32.txt (deflated 83%)\n",
            "  adding: content/Ex-11/Model-segment-evaluation-11/labels/front-right-NO20240903-144041-000834F_MP4-0154_jpg.rf.a263b4f25d7fbd568a1a32d3b52a6ac8.txt (deflated 78%)\n",
            "  adding: content/Ex-11/Model-segment-evaluation-11/labels/front-left-NO20240909-143904-000344F_MP4-0194_jpg.rf.83ed23ca29753c86ad8cf39c117700fc.txt (deflated 77%)\n",
            "  adding: content/Ex-11/Model-segment-evaluation-11/labels/front-left-NO20240903-145541-000849F_MP4-0028_jpg.rf.f0ac333df1e45fd7464a81332dda7f4b.txt (deflated 76%)\n",
            "  adding: content/Ex-11/Model-segment-evaluation-11/labels/front-left-NO20240903-145041-000844F_MP4-0273_jpg.rf.19493b606b06c3dc2ff9f29922954b0f.txt (deflated 80%)\n",
            "  adding: content/Ex-11/Model-segment-evaluation-11/labels/front-left-NO20240903-145141-000845F_MP4-0176_jpg.rf.a1fcc9d81da59ba82a917bc798c15ff8.txt (deflated 73%)\n",
            "  adding: content/Ex-11/Model-segment-evaluation-11/labels/front-left-NO20240903-145041-000844F_MP4-0223_jpg.rf.1b1a73ca969f76fe3fc1c3224e8d051f.txt (deflated 75%)\n",
            "  adding: content/Ex-11/Model-segment-evaluation-11/labels/front-left-NO20240903-145041-000844F_MP4-0216_jpg.rf.0296af31237d949d32a78a3ef55e5db4.txt (deflated 76%)\n",
            "  adding: content/Ex-11/Model-segment-evaluation-11/labels/front-right-NO20240909-181640-000014F_MP4-0019_jpg.rf.f01da3fed96dc5b06c2e56d028ae0811.txt (deflated 71%)\n",
            "  adding: content/Ex-11/Model-segment-evaluation-11/labels/front-right-NO20240903-144041-000834F_MP4-0111_jpg.rf.12626f1ebf014bae25d0e00f2b17233d.txt (deflated 73%)\n",
            "  adding: content/Ex-11/Model-segment-evaluation-11/labels/front-left-NO20240903-145141-000845F_MP4-0042_jpg.rf.c6ca8d8e6daea4a9312ece63cd85ac63.txt (deflated 74%)\n",
            "  adding: content/Ex-11/Model-segment-evaluation-11/labels/pic_382_jpg.rf.8bdec8545bd2f3cca5b437583f2e0118.txt (deflated 68%)\n",
            "  adding: content/Ex-11/Model-segment-evaluation-11/labels/NO20240917-144137-000246F_MP4-0093_jpg.rf.2e9605c751f04a03f3e59d7f79dccf10.txt (deflated 77%)\n",
            "  adding: content/Ex-11/Model-segment-evaluation-11/labels/front-left-NO20240909-143904-000344F_MP4-0130_jpg.rf.69ecb80e15fe027539677e444285894d.txt (deflated 72%)\n",
            "  adding: content/Ex-11/Model-segment-evaluation-11/labels/front-left-NO20240909-143304-000338F_MP4-0014_jpg.rf.f70ac21839cca50d8ae95a817708636e.txt (deflated 73%)\n",
            "  adding: content/Ex-11/Model-segment-evaluation-11/labels/v2-p2_mp4-0012_jpg.rf.244f3167cb4c6454c7cd75a1d541c332.txt (deflated 82%)\n",
            "  adding: content/Ex-11/Model-segment-evaluation-11/labels/front-left-NO20240903-145141-000845F_MP4-0055_jpg.rf.17d453e392dca38d028c7c215368cf5c.txt (deflated 75%)\n",
            "  adding: content/Ex-11/Model-segment-evaluation-11/labels/front-left-NO20240903-145141-000845F_MP4-0052_jpg.rf.f890afd814daa66a607c34fd252cb630.txt (deflated 73%)\n",
            "  adding: content/Ex-11/Model-segment-evaluation-11/labels/NO20240917-144137-000246F_MP4-0040_jpg.rf.98d13f5acb5d1dd8104bdd1143445a56.txt (deflated 76%)\n",
            "  adding: content/Ex-11/Model-segment-evaluation-11/labels/night-front-right-NO20240909-183440-000032F_MP4-0223_jpg.rf.6e877c3e7bf79b57107e7bcf017339f9.txt (deflated 72%)\n",
            "  adding: content/Ex-11/Model-segment-evaluation-11/labels/v2_mp4-0009_jpg.rf.41a9e942a04b3a6c752a22cde8b9dd27.txt (deflated 72%)\n",
            "  adding: content/Ex-11/Model-segment-evaluation-11/labels/front-right-NO20240903-144141-000835F_MP4-0209_jpg.rf.681cde595f122386a2c306f8db790078.txt (deflated 77%)\n",
            "  adding: content/Ex-11/Model-segment-evaluation-11/labels/front-left-NO20240903-145141-000845F_MP4-0088_jpg.rf.0cc2cdea3c9ac8103dfb79d65bf5d9ac.txt (deflated 81%)\n",
            "  adding: content/Ex-11/Model-segment-evaluation-11/labels/front-left-NO20240909-144504-000350F_MP4-0203_jpg.rf.e0cb16689e8a4a548a8c502791c0c88f.txt (deflated 76%)\n",
            "  adding: content/Ex-11/Model-segment-evaluation-11/labels/front-left-NO20240903-145141-000845F_MP4-0259_jpg.rf.2c78746f4d2460fc67229b5110d998f8.txt (deflated 79%)\n",
            "  adding: content/Ex-11/Model-segment-evaluation-11/labels/CarLongPlate880_jpg.rf.20913dbbf9bfb65a404eb68a96431f72.txt (deflated 47%)\n",
            "  adding: content/Ex-11/Model-segment-evaluation-11/labels/front-left-NO20240903-145041-000844F_MP4-0040_jpg.rf.8b7494d9d860096e77188393a37905f0.txt (deflated 79%)\n",
            "  adding: content/Ex-11/Model-segment-evaluation-11/labels/front-left-NO20240909-150404-000369F_MP4-0028_jpg.rf.d5be43872427540169bde257e41df1a9.txt (deflated 76%)\n",
            "  adding: content/Ex-11/Model-segment-evaluation-11/labels/front-left-NO20240903-145541-000849F_MP4-0052_jpg.rf.ca41d2712b30c873ac86d44539aa0005.txt (deflated 79%)\n",
            "  adding: content/Ex-11/Model-segment-evaluation-11/labels/front-right-NO20240903-143941-000833F_MP4-0120_jpg.rf.a22b860d75e29eb7ada63388ce0df7f6.txt (deflated 76%)\n",
            "  adding: content/Ex-11/Model-segment-evaluation-11/labels/NO20240909-181140-000009F_MP4-0147_jpg.rf.d26665e068947c6239fae6b73c4bdfbd.txt (deflated 73%)\n",
            "  adding: content/Ex-11/Model-segment-evaluation-11/labels/cars-NO20240914-114248-000224F_MP4-0001_jpg.rf.b7c953f5b61bbdcc3ec1c0e61f169e4e.txt (deflated 79%)\n",
            "  adding: content/Ex-11/Model-segment-evaluation-11/labels/front-left-NO20240903-145041-000844F_MP4-0050_jpg.rf.17beeb98eb3b287683699ca95af27da9.txt (deflated 77%)\n",
            "  adding: content/Ex-11/Model-segment-evaluation-11/labels/front-left-NO20240903-145041-000844F_MP4-0160_jpg.rf.411014f4d1b3124a1906d8cac757d231.txt (deflated 73%)\n",
            "  adding: content/Ex-11/Model-segment-evaluation-11/labels/front-left-NO20240903-145541-000849F_MP4-0189_jpg.rf.2b7954de59698175b88a5e71bdabbf46.txt (deflated 77%)\n",
            "  adding: content/Ex-11/Model-segment-evaluation-11/labels/night-front-right-NO20240909-183740-000035F_MP4-0293_jpg.rf.6560d97adfed252d16c2e11b716f8090.txt (deflated 79%)\n",
            "  adding: content/Ex-11/Model-segment-evaluation-11/labels/night-front-right-NO20240909-183540-000033F_MP4-0215_jpg.rf.ca27ba143819da34bbd9d5528ba320ea.txt (deflated 75%)\n",
            "  adding: content/Ex-11/Model-segment-evaluation-11/labels/front-left-NO20240908-150438-000150F_MP4-0015_jpg.rf.ec6db9d14674d7848ac084b19898c97d.txt (deflated 74%)\n",
            "  adding: content/Ex-11/Model-segment-evaluation-11/labels/front-left-NO20240903-145541-000849F_MP4-0062_jpg.rf.97a67703a6fc7262e12bd8ccc370222a.txt (deflated 76%)\n",
            "  adding: content/Ex-11/Model-segment-evaluation-11/labels/front-left-NO20240903-145441-000848F_MP4-0281_jpg.rf.c00feab115f8ec80d8ccc3df3fd4735f.txt (deflated 74%)\n",
            "  adding: content/Ex-11/Model-segment-evaluation-11/labels/front-right-NO20240903-143941-000833F_MP4-0004_jpg.rf.dfa3fa9553f057fad53851365ce361dd.txt (deflated 76%)\n",
            "  adding: content/Ex-11/Model-segment-evaluation-11/labels/cars-NO20240914-114048-000222F_MP4-0033_jpg.rf.c2f1d9695b17ff06e9b9cf80344e8e47.txt (deflated 79%)\n",
            "  adding: content/Ex-11/Model-segment-evaluation-11/labels/front-left-NO20240903-145041-000844F_MP4-0086_jpg.rf.e1051e3bd963ba7b517a88701d8c8473.txt (deflated 78%)\n",
            "  adding: content/Ex-11/Model-segment-evaluation-11/labels/cars-NO20240914-114048-000222F_MP4-0273_jpg.rf.9285d0a2980b66e0eafcf33bd1a85716.txt (deflated 81%)\n",
            "  adding: content/Ex-11/Model-segment-evaluation-11/labels/front-left-NO20240903-145041-000844F_MP4-0067_jpg.rf.7e796e353bf6c53048099668188f8816.txt (deflated 74%)\n",
            "  adding: content/Ex-11/Model-segment-evaluation-11/labels/v9_mp4-0036_jpg.rf.c540eb74254b77fec9c5dca4363030ce.txt (deflated 78%)\n",
            "  adding: content/Ex-11/Model-segment-evaluation-11/labels/front-left-NO20240903-145141-000845F_MP4-0148_jpg.rf.b612bc9c2a915297a171c13be5c9f7ea.txt (deflated 75%)\n",
            "  adding: content/Ex-11/Model-segment-evaluation-11/labels/cars-NO20240914-114048-000222F_MP4-0084_jpg.rf.574c398cb2a7b34bc21171a599f7b3eb.txt (deflated 81%)\n",
            "  adding: content/Ex-11/Model-segment-evaluation-11/labels/front-right-NO20240903-144141-000835F_MP4-0202_jpg.rf.2a1fbf92ae654b5ffc9718483f2b8cc9.txt (deflated 84%)\n",
            "  adding: content/Ex-11/Model-segment-evaluation-11/labels/NO20240909-181040-000008F_MP4-0165_jpg.rf.ec538c8f8d9def5259ee9fe126e6a8ee.txt (deflated 76%)\n",
            "  adding: content/Ex-11/Model-segment-evaluation-11/labels/front-right-NO20240903-144041-000834F_MP4-0228_jpg.rf.e3f0fb02c4e3d89e6b32f4edfb3b251c.txt (deflated 85%)\n",
            "  adding: content/Ex-11/Model-segment-evaluation-11/labels/front-left-NO20240903-145141-000845F_MP4-0187_jpg.rf.8ff09c12d9e0c603df729f88edd1fae6.txt (deflated 76%)\n",
            "  adding: content/Ex-11/Model-segment-evaluation-11/labels/front-right-NO20240903-144141-000835F_MP4-0251_jpg.rf.af2fa0dfd19e0173b7d0a433e3da8cae.txt (deflated 73%)\n",
            "  adding: content/Ex-11/Model-segment-evaluation-11/labels/cars-NO20240914-114048-000222F_MP4-0219_jpg.rf.0fdc3319cab6812dd293df0ad9c54d49.txt (deflated 84%)\n",
            "  adding: content/Ex-11/Model-segment-evaluation-11/labels/front-left-NO20240903-145141-000845F_MP4-0166_jpg.rf.7a898ed33614ac667462ce4666fb9d9a.txt (deflated 75%)\n",
            "  adding: content/Ex-11/Model-segment-evaluation-11/labels/night-front-right-NO20240909-183540-000033F_MP4-0153_jpg.rf.6f87824282e092dafb95ab2f5e7005f4.txt (deflated 76%)\n",
            "  adding: content/Ex-11/Model-segment-evaluation-11/labels/CarLongPlateGen2511_jpg.rf.9f3677c1238e2d17662aacb2a133ed59.txt (deflated 47%)\n",
            "  adding: content/Ex-11/Model-segment-evaluation-11/labels/front-left-NO20240903-145541-000849F_MP4-0083_jpg.rf.8fd0ffe82c3180de8294fb40e7f7360d.txt (deflated 80%)\n",
            "  adding: content/Ex-11/Model-segment-evaluation-11/labels/front-left-NO20240903-145041-000844F_MP4-0283_jpg.rf.ccf8290aadac7348298938912dcae721.txt (deflated 78%)\n",
            "  adding: content/Ex-11/Model-segment-evaluation-11/labels/front-right-NO20240903-144041-000834F_MP4-0098_jpg.rf.7147b94e105331f21607a9d0dc240ea5.txt (deflated 74%)\n",
            "  adding: content/Ex-11/Model-segment-evaluation-11/labels/front-left-NO20240903-145141-000845F_MP4-0019_jpg.rf.b97422169933bf53006fe21609b7d6c6.txt (deflated 78%)\n",
            "  adding: content/Ex-11/Model-segment-evaluation-11/labels/front-right-NO20240909-181240-000010F_MP4-0109_jpg.rf.fe7dcd49bbf365b8fdb5efad96d7a1bd.txt (deflated 73%)\n",
            "  adding: content/Ex-11/Model-segment-evaluation-11/labels/front-left-NO20240909-150004-000365F_MP4-0055_jpg.rf.0dbee6a55f9053619a762427c88853e4.txt (deflated 74%)\n",
            "  adding: content/Ex-11/Model-segment-evaluation-11/labels/xemay38_jpg.rf.abd3aedaabb0a90c58c0b3df558b18e8.txt (deflated 46%)\n",
            "  adding: content/Ex-11/Model-segment-evaluation-11/labels/front-left-NO20240909-151104-000376F_MP4-0018_jpg.rf.e1caa613645b419f02f73f2745376eee.txt (deflated 74%)\n",
            "  adding: content/Ex-11/Model-segment-evaluation-11/labels/NO20240909-181040-000008F_MP4-0196_jpg.rf.fb376960b6afd88152a0b3bf7f46ba99.txt (deflated 73%)\n",
            "  adding: content/Ex-11/Model-segment-evaluation-11/labels/front-left-NO20240903-145541-000849F_MP4-0177_jpg.rf.f2237aaeaedd33157dbce57ff49e1c6a.txt (deflated 75%)\n",
            "  adding: content/Ex-11/Model-segment-evaluation-11/labels/97-800px-MONTANA_2004_LICENSE_PLATE_-2-A50962_-_Flickr_-_woody1778a_jpg.rf.98da5fb2c888cd25334450a5b481b9c2.txt (deflated 74%)\n",
            "  adding: content/Ex-11/Model-segment-evaluation-11/labels/front-left-NO20240903-145441-000848F_MP4-0250_jpg.rf.56da0598bd5109e72b2420a21fc7313b.txt (deflated 76%)\n",
            "  adding: content/Ex-11/Model-segment-evaluation-11/labels/front-left-NO20240903-145041-000844F_MP4-0131_jpg.rf.84d9dacaf6bba2b51d5549c26d3a96f9.txt (deflated 72%)\n",
            "  adding: content/Ex-11/Model-segment-evaluation-11/labels/front-left-NO20240903-145041-000844F_MP4-0146_jpg.rf.51528d051bed67b76c1553d09c9e4cf1.txt (deflated 76%)\n",
            "  adding: content/Ex-11/Model-segment-evaluation-11/labels/NO20240917-143837-000243F_MP4-0057_jpg.rf.d9c009632e3ff6faae7b8f865b32ecc8.txt (deflated 85%)\n",
            "  adding: content/Ex-11/Model-segment-evaluation-11/labels/front-right-NO20240903-144041-000834F_MP4-0173_jpg.rf.b0511a970a840f47196c8a4b17b02bc8.txt (deflated 81%)\n",
            "  adding: content/Ex-11/Model-segment-evaluation-11/labels/front-left-NO20240903-145041-000844F_MP4-0143_jpg.rf.814f875e0fc01db2ec41c8c08eaf506d.txt (deflated 75%)\n",
            "  adding: content/Ex-11/Model-segment-evaluation-11/labels/front-right-NO20240903-143941-000833F_MP4-0087_jpg.rf.8b3a9ea38ae0c6105b3df66e1582a045.txt (deflated 86%)\n",
            "  adding: content/Ex-11/Model-segment-evaluation-11/labels/front-left-NO20240903-145141-000845F_MP4-0053_jpg.rf.c7bbecaaee155dc7d00746f9ba37b4bd.txt (deflated 74%)\n",
            "  adding: content/Ex-11/Model-segment-evaluation-11/labels/front-left-NO20240909-143904-000344F_MP4-0129_jpg.rf.edac94d471564c2afbe9a49021b401c4.txt (deflated 79%)\n",
            "  adding: content/Ex-11/Model-segment-evaluation-11/labels/front-left-NO20240903-145441-000848F_MP4-0181_jpg.rf.655c8b48c73b8f6fec3b3af70c39c34c.txt (deflated 76%)\n",
            "  adding: content/Ex-11/Model-segment-evaluation-11/labels/front-left-NO20240903-145541-000849F_MP4-0064_jpg.rf.18951927333285136e58f9f22998073b.txt (deflated 79%)\n",
            "  adding: content/Ex-11/Model-segment-evaluation-11/labels/NO20240917-143837-000243F_MP4-0034_jpg.rf.245174b8b35cd4135dc054a9d2f460df.txt (deflated 82%)\n",
            "  adding: content/Ex-11/Model-segment-evaluation-11/labels/CarLongPlateGen3469_jpg.rf.9dee98b5e381e0eedb7b9c61c400ae92.txt (deflated 47%)\n",
            "  adding: content/Ex-11/Model-segment-evaluation-11/labels/CarLongPlateGen1531_jpg.rf.d377c5a97180f6ad3436293aa0ba767f.txt (deflated 62%)\n",
            "  adding: content/Ex-11/Model-segment-evaluation-11/labels/night-front-right-NO20240909-183740-000035F_MP4-0129_jpg.rf.adb7b8091acbf3355c69cb1fa1a082b2.txt (deflated 74%)\n",
            "  adding: content/Ex-11/Model-segment-evaluation-11/labels/xemay1391_jpg.rf.1828fb334d89163c49c187236a05e8f9.txt (deflated 70%)\n",
            "  adding: content/Ex-11/Model-segment-evaluation-11/labels/cars-NO20240914-114048-000222F_MP4-0104_jpg.rf.758255d2f15829376e583752f56a6c49.txt (deflated 80%)\n",
            "  adding: content/Ex-11/Model-segment-evaluation-11/labels/front-left-NO20240903-145141-000845F_MP4-0091_jpg.rf.9c1d48ac4f77d987b6b1e5a6dad43080.txt (deflated 80%)\n",
            "  adding: content/Ex-11/Model-segment-evaluation-11/labels/front-left-NO20240903-145041-000844F_MP4-0234_jpg.rf.55456f3a35abefb0a2eb347842da37a6.txt (deflated 76%)\n",
            "  adding: content/Ex-11/Model-segment-evaluation-11/labels/front-left-NO20240903-145041-000844F_MP4-0300_jpg.rf.f71d40dcbf4375b6b745ccf0bdb0e07d.txt (deflated 76%)\n",
            "  adding: content/Ex-11/Model-segment-evaluation-11/labels/cars-NO20240914-114248-000224F_MP4-0161_jpg.rf.f097acb2844cc26040739b8decc65655.txt (deflated 80%)\n",
            "  adding: content/Ex-11/Model-segment-evaluation-11/labels/cars-NO20240914-114048-000222F_MP4-0034_jpg.rf.d16ff7cb0e84b7e1b36725aa59feef13.txt (deflated 78%)\n",
            "  adding: content/Ex-11/Model-segment-evaluation-11/labels/front-right-NO20240903-144141-000835F_MP4-0140_jpg.rf.476a950a3d5a33a328545b08a93e8de0.txt (deflated 75%)\n",
            "  adding: content/Ex-11/Model-segment-evaluation-11/labels/front-left-NO20240908-150138-000147F_MP4-0166_jpg.rf.d56879f97afe2044161ee97b09842f56.txt (deflated 76%)\n",
            "  adding: content/Ex-11/Model-segment-evaluation-11/labels/front-left-NO20240909-144104-000346F_MP4-0172_jpg.rf.c46497f090e33213f452f3c349b3fc86.txt (deflated 73%)\n",
            "  adding: content/Ex-11/Model-segment-evaluation-11/labels/front-left-NO20240903-145041-000844F_MP4-0187_jpg.rf.1c241921dc8c1c9a053f1fe6adf76e0b.txt (deflated 72%)\n",
            "  adding: content/Ex-11/Model-segment-evaluation-11/labels/front-left-NO20240903-145541-000849F_MP4-0151_jpg.rf.b629bbf16fb3fd7558cabf39681792e8.txt (deflated 76%)\n",
            "  adding: content/Ex-11/Model-segment-evaluation-11/labels/front-right-NO20240903-143941-000833F_MP4-0046_jpg.rf.f2606d1f5d01032bc73da9c7fd236ca2.txt (deflated 81%)\n",
            "  adding: content/Ex-11/Model-segment-evaluation-11/labels/v1_mp4-0042_jpg.rf.0692bb7786aea731a172b29e4dcc45b3.txt (deflated 83%)\n",
            "  adding: content/Ex-11/Model-segment-evaluation-11/labels/front-right-NO20240903-143941-000833F_MP4-0225_jpg.rf.c565c4d2bf0bd170696869cc43290aab.txt (deflated 78%)\n",
            "  adding: content/Ex-11/Model-segment-evaluation-11/labels/night-front-right-NO20240909-183440-000032F_MP4-0037_jpg.rf.b1ef38b1591d77089426aa89a5785e0f.txt (deflated 69%)\n",
            "  adding: content/Ex-11/Model-segment-evaluation-11/labels/CarLongPlateGen1992_jpg.rf.65356e70bb16dd678d1d089cc7b58a9a.txt (deflated 47%)\n",
            "  adding: content/Ex-11/Model-segment-evaluation-11/labels/Cars265_png_jpg.rf.66d9b7c7809a621c45034f2a0f3aed9c.txt (deflated 54%)\n",
            "  adding: content/Ex-11/Model-segment-evaluation-11/labels/NO20240917-144137-000246F_MP4-0032_jpg.rf.6d5a56d6b4d8fe5a2e8569a5a28121c9.txt (deflated 80%)\n",
            "  adding: content/Ex-11/Model-segment-evaluation-11/labels/front-left-NO20240903-145141-000845F_MP4-0079_jpg.rf.dd2ac7625e33f286df332d9cff404773.txt (deflated 80%)\n",
            "  adding: content/Ex-11/Model-segment-evaluation-11/labels/front-left-NO20240903-145141-000845F_MP4-0147_jpg.rf.02a4ff1eb242007b99a5d0279422c081.txt (deflated 74%)\n",
            "  adding: content/Ex-11/Model-segment-evaluation-11/labels/front-left-NO20240909-145704-000362F_MP4-0018_jpg.rf.01caab4025b9fbbbd9b6c66f33e29a9c.txt (deflated 75%)\n",
            "  adding: content/Ex-11/Model-segment-evaluation-11/labels/v9_mp4-0033_jpg.rf.1cf190a20ce87a277ca4ea47a00da47b.txt (deflated 77%)\n",
            "  adding: content/Ex-11/Model-segment-evaluation-11/labels/v5_mp4-0068_jpg.rf.939ffccd26e10fa5174198ac75d643f8.txt (deflated 76%)\n",
            "  adding: content/Ex-11/Model-segment-evaluation-11/labels/CarLongPlateGen3019_jpg.rf.fe1889e25f2088d600ff3bfb546f1901.txt (deflated 49%)\n",
            "  adding: content/Ex-11/Model-segment-evaluation-11/labels/front-left-NO20240903-145141-000845F_MP4-0050_jpg.rf.50185771307b5c2bd0233b91a47991fc.txt (deflated 73%)\n",
            "  adding: content/Ex-11/Model-segment-evaluation-11/labels/front-left-NO20240908-145538-000141F_MP4-0095_jpg.rf.a6b01f12b950f0b8578baa4b393f155f.txt (deflated 75%)\n",
            "  adding: content/Ex-11/Model-segment-evaluation-11/labels/front-left-NO20240909-144404-000349F_MP4-0075_jpg.rf.a5fd439da87a13b8160f2725599f4621.txt (deflated 73%)\n",
            "  adding: content/Ex-11/Model-segment-evaluation-11/labels/front-left-NO20240909-145704-000362F_MP4-0026_jpg.rf.edbaf681ec945dffc79e22da8a0da1e8.txt (deflated 80%)\n",
            "  adding: content/Ex-11/Model-segment-evaluation-11/labels/front-left-NO20240903-145541-000849F_MP4-0169_jpg.rf.a6543875cfadfde6af03b3f6a5cf0062.txt (deflated 74%)\n",
            "  adding: content/Ex-11/Model-segment-evaluation-11/labels/front-left-NO20240908-145938-000145F_MP4-0065_jpg.rf.2a065ad2624e76649feebe33d05e590e.txt (deflated 75%)\n",
            "  adding: content/Ex-11/Model-segment-evaluation-11/labels/front-right-NO20240909-181340-000011F_MP4-0203_jpg.rf.ca01e5636bd8f0d0498ea17af37f5a27.txt (deflated 81%)\n",
            "  adding: content/Ex-11/Model-segment-evaluation-11/labels/front-right-NO20240909-181240-000010F_MP4-0118_jpg.rf.cb69c4f4519f2582667b1a555a3c9641.txt (deflated 73%)\n",
            "  adding: content/Ex-11/Model-segment-evaluation-11/labels/front-left-NO20240909-144104-000346F_MP4-0218_jpg.rf.a1c6de380a6173672bcbccb252c8363f.txt (deflated 76%)\n",
            "  adding: content/Ex-11/Model-segment-evaluation-11/labels/pic_552_jpg.rf.663dc95d034aca33f73dd761c771bfcd.txt (deflated 78%)\n",
            "  adding: content/Ex-11/Model-segment-evaluation-11/labels/006017783a8beb66_jpg.rf.f5f46efbe9acafa638691cf302f43dd6.txt (deflated 73%)\n",
            "  adding: content/Ex-11/Model-segment-evaluation-11/labels/xemay633_jpg.rf.e421ff2a941cdc4a01c315be6b795d50.txt (deflated 47%)\n",
            "  adding: content/Ex-11/Model-segment-evaluation-11/labels/front-left-NO20240903-145141-000845F_MP4-0074_jpg.rf.0afba9ccd2896bec734c33d6d1b5cf6f.txt (deflated 77%)\n",
            "  adding: content/Ex-11/Model-segment-evaluation-11/labels/front-left-NO20240903-145141-000845F_MP4-0104_jpg.rf.da563c09795b02fc8fde74f11d351fde.txt (deflated 78%)\n",
            "  adding: content/Ex-11/Model-segment-evaluation-11/labels/NO20240917-144137-000246F_MP4-0016_jpg.rf.939668e39cf8093f1e47742e621db499.txt (deflated 84%)\n",
            "  adding: content/Ex-11/Model-segment-evaluation-11/labels/front-left-NO20240910-060225-000074F_MP4-0186_jpg.rf.ca17df21de66ad8b98780de99332cf3a.txt (deflated 74%)\n",
            "  adding: content/Ex-11/Model-segment-evaluation-11/labels/cars-NO20240914-114048-000222F_MP4-0218_jpg.rf.b46201a654c18f7cf349bd90d0c5eb27.txt (deflated 83%)\n",
            "  adding: content/Ex-11/Model-segment-evaluation-11/labels/front-right-NO20240903-144041-000834F_MP4-0185_jpg.rf.f14dfc5397f4421733de9293d061430f.txt (deflated 82%)\n",
            "  adding: content/Ex-11/Model-segment-evaluation-11/labels/CarLongPlateGen2098_jpg.rf.aaa22499af3d9893bb608890f95cfa6f.txt (deflated 72%)\n",
            "  adding: content/Ex-11/Model-segment-evaluation-11/labels/front-right-NO20240903-144141-000835F_MP4-0213_jpg.rf.1abab62cfae90aec9ab7d03a1abce594.txt (deflated 82%)\n",
            "  adding: content/Ex-11/Model-segment-evaluation-11/labels/front-left-NO20240910-064025-000112F_MP4-0016_jpg.rf.3ca59f16a6f87266e617b8dcaf9eb7e0.txt (deflated 79%)\n",
            "  adding: content/Ex-11/Model-segment-evaluation-11/labels/front-left-NO20240903-145441-000848F_MP4-0084_jpg.rf.3557973c12b3dfbaae422defa675abe6.txt (deflated 78%)\n",
            "  adding: content/Ex-11/Model-segment-evaluation-11/labels/front-left-NO20240903-145141-000845F_MP4-0065_jpg.rf.68d74e744d452e5fecef9605c3415b02.txt (deflated 81%)\n",
            "  adding: content/Ex-11/Model-segment-evaluation-11/labels/cars-NO20240914-114048-000222F_MP4-0053_jpg.rf.9d7209e8a32a3645bc87aa3c40fc1fab.txt (deflated 82%)\n",
            "  adding: content/Ex-11/Model-segment-evaluation-11/labels/front-left-NO20240903-145141-000845F_MP4-0086_jpg.rf.90c4d641c19943b44a87bb65d6119c51.txt (deflated 79%)\n",
            "  adding: content/Ex-11/Model-segment-evaluation-11/labels/cropngoaigiao7_jpg.rf.342c2ee0a948cfeabcac1682e657e5ce.txt (deflated 57%)\n",
            "  adding: content/Ex-11/Model-segment-evaluation-11/labels/front-left-NO20240903-145041-000844F_MP4-0153_jpg.rf.091bac47b92469eb6d9d445fc7bb22f5.txt (deflated 81%)\n",
            "  adding: content/Ex-11/Model-segment-evaluation-11/labels/front-left-NO20240909-150404-000369F_MP4-0015_jpg.rf.f4e433e39d0fde497633e371623dc355.txt (deflated 76%)\n",
            "  adding: content/Ex-11/Model-segment-evaluation-11/labels/front-right-NO20240903-144141-000835F_MP4-0176_jpg.rf.8929bab2f49d3edfb6bb3f46faf59be1.txt (deflated 79%)\n",
            "  adding: content/Ex-11/Model-segment-evaluation-11/labels/front-left-NO20240909-144004-000345F_MP4-0210_jpg.rf.129a3c5a024e4b7e312c4b2d662acc65.txt (deflated 73%)\n",
            "  adding: content/Ex-11/Model-segment-evaluation-11/labels/front-left-NO20240903-145141-000845F_MP4-0129_jpg.rf.1ab5465390cfc196503d368901d04430.txt (deflated 74%)\n",
            "  adding: content/Ex-11/Model-segment-evaluation-11/labels/front-right-NO20240909-181440-000012F_MP4-0148_jpg.rf.ea2f767952406e9fa8e65e1b2c99247e.txt (deflated 71%)\n",
            "  adding: content/Ex-11/Model-segment-evaluation-11/labels/front-right-NO20240903-143941-000833F_MP4-0056_jpg.rf.e6d18aedd77dd2c2160d09e50a1ac746.txt (deflated 74%)\n",
            "  adding: content/Ex-11/Model-segment-evaluation-11/labels/front-left-NO20240903-145041-000844F_MP4-0294_jpg.rf.569f104405f7dec476da28fe588a690c.txt (deflated 79%)\n",
            "  adding: content/Ex-11/Model-segment-evaluation-11/labels/v2_mp4-0013_jpg.rf.9d6c75b83b6b7580bf68b42fed47677f.txt (deflated 73%)\n",
            "  adding: content/Ex-11/Model-segment-evaluation-11/labels/front-left-NO20240903-145041-000844F_MP4-0022_jpg.rf.78a9fd55fb8192dbd04dcd60e37c78ad.txt (deflated 73%)\n",
            "  adding: content/Ex-11/Model-segment-evaluation-11/labels/NO20240909-181040-000008F_MP4-0278_jpg.rf.75239d59a0df8d42cb699e44ed529e89.txt (deflated 82%)\n",
            "  adding: content/Ex-11/Model-segment-evaluation-11/labels/front-left-NO20240903-145141-000845F_MP4-0146_jpg.rf.601f10e1dc46371f1b8132aa99e781fe.txt (deflated 75%)\n",
            "  adding: content/Ex-11/Model-segment-evaluation-11/labels/CarLongPlateGen2411_jpg.rf.f7e59a1e780b3a56b4da5473e50d4cf7.txt (deflated 70%)\n",
            "  adding: content/Ex-11/Model-segment-evaluation-11/labels/front-left-NO20240908-145538-000141F_MP4-0174_jpg.rf.93daeac81488fad0d927681924a70b77.txt (deflated 74%)\n",
            "  adding: content/Ex-11/Model-segment-evaluation-11/labels/front-left-NO20240903-145141-000845F_MP4-0020_jpg.rf.3b774eabca18b6fe63950c8725e53c2a.txt (deflated 81%)\n",
            "  adding: content/Ex-11/Model-segment-evaluation-11/labels/0021af0b921af690_jpg.rf.026194afd2f11e6f19637738fb782aba.txt (deflated 75%)\n",
            "  adding: content/Ex-11/Model-segment-evaluation-11/labels/front-left-NO20240909-150504-000370F_MP4-0108_jpg.rf.8c0b46c878e10c030d3388059d8cc7f7.txt (deflated 77%)\n",
            "  adding: content/Ex-11/Model-segment-evaluation-11/labels/front-left-NO20240903-145141-000845F_MP4-0059_jpg.rf.09bd6f8a243ecbca5255d1c234acc5d7.txt (deflated 74%)\n",
            "  adding: content/Ex-11/Model-segment-evaluation-11/labels/NO20240917-143837-000243F_MP4-0096_jpg.rf.a88270d0d5c9f3c6892cd47e9caccecc.txt (deflated 79%)\n",
            "  adding: content/Ex-11/Model-segment-evaluation-11/labels/front-right-NO20240909-181240-000010F_MP4-0001_jpg.rf.fdfa21879a36e324950dc449e14ec2b4.txt (deflated 85%)\n",
            "  adding: content/Ex-11/Model-segment-evaluation-11/labels/v3_mp4-0012_jpg.rf.d18e8efd89f080474c5191a5a285972f.txt (deflated 77%)\n",
            "  adding: content/Ex-11/Model-segment-evaluation-11/labels/front-left-NO20240903-145041-000844F_MP4-0299_jpg.rf.a86295ee95f902574192801baf9f097b.txt (deflated 81%)\n",
            "  adding: content/Ex-11/Model-segment-evaluation-11/labels/cars-NO20240914-114048-000222F_MP4-0196_jpg.rf.5cf6182d0d8e6364940908fa3569b7c2.txt (deflated 81%)\n",
            "  adding: content/Ex-11/Model-segment-evaluation-11/labels/front-left-NO20240903-145041-000844F_MP4-0222_jpg.rf.c4b7e72e531ebb3a358e2b766b8a748b.txt (deflated 75%)\n",
            "  adding: content/Ex-11/Model-segment-evaluation-11/labels/front-left-NO20240910-064025-000112F_MP4-0282_jpg.rf.0663ff0f3cccac0d33054e5f589f862b.txt (deflated 79%)\n",
            "  adding: content/Ex-11/Model-segment-evaluation-11/labels/cars-NO20240914-114048-000222F_MP4-0229_jpg.rf.63702263239053988779a9b6248bb5d8.txt (deflated 82%)\n",
            "  adding: content/Ex-11/Model-segment-evaluation-11/labels/cars-NO20240914-114248-000224F_MP4-0062_jpg.rf.a97e6e5c9458640788ee3dbdddbedb0b.txt (deflated 80%)\n",
            "  adding: content/Ex-11/Model-segment-evaluation-11/labels/front-right-NO20240903-144041-000834F_MP4-0040_jpg.rf.b55bcbce33153ec7d0b7e217952e07b7.txt (deflated 84%)\n",
            "  adding: content/Ex-11/Model-segment-evaluation-11/labels/front-left-NO20240903-145041-000844F_MP4-0070_jpg.rf.91934f5a306670b1a5fe0883e96c1a1a.txt (deflated 76%)\n",
            "  adding: content/Ex-11/Model-segment-evaluation-11/labels/front-right-NO20240903-143941-000833F_MP4-0068_jpg.rf.725a862f6188c15003e80c78611d48d2.txt (deflated 78%)\n",
            "  adding: content/Ex-11/Model-segment-evaluation-11/labels/front-left-NO20240908-145538-000141F_MP4-0007_jpg.rf.863638196638031e6391b69c375e1cf0.txt (deflated 76%)\n",
            "  adding: content/Ex-11/Model-segment-evaluation-11/labels/night-front-right-NO20240909-183440-000032F_MP4-0177_jpg.rf.27117893495c49494da527054f77603a.txt (deflated 71%)\n",
            "  adding: content/Ex-11/Model-segment-evaluation-11/labels/front-right-NO20240903-144141-000835F_MP4-0249_jpg.rf.8d1d6ffcc6591e138f7832edb49394ff.txt (deflated 78%)\n",
            "  adding: content/Ex-11/Model-segment-evaluation-11/labels/CarLongPlateGen1572_jpg.rf.dc0e4da2e5cb044e249fcf440fdaa687.txt (deflated 57%)\n",
            "  adding: content/Ex-11/Model-segment-evaluation-11/labels/cars-NO20240914-112548-000207F_MP4-0026_jpg.rf.43c9df974b68b62687437264236c13bf.txt (deflated 77%)\n",
            "  adding: content/Ex-11/Model-segment-evaluation-11/labels/front-left-NO20240909-144004-000345F_MP4-0271_jpg.rf.78292a5e1f156878db93d21aa6572c88.txt (deflated 75%)\n",
            "  adding: content/Ex-11/Model-segment-evaluation-11/labels/chery-cross_MP4-0052_jpg.rf.fb5485441113f7c3b1dbc9dfc39281af.txt (deflated 80%)\n",
            "  adding: content/Ex-11/Model-segment-evaluation-11/labels/front-left-NO20240903-145141-000845F_MP4-0122_jpg.rf.5c29759cc46320054f9a3db1452e27bb.txt (deflated 72%)\n",
            "  adding: content/Ex-11/Model-segment-evaluation-11/labels/night-front-right-NO20240909-183140-000029F_MP4-0010_jpg.rf.1fd7bd14e8e63c58547e13864f193c30.txt (deflated 83%)\n",
            "  adding: content/Ex-11/Model-segment-evaluation-11/labels/front-left-NO20240909-150404-000369F_MP4-0247_jpg.rf.bec683401084c3e9190a9de74798497b.txt (deflated 77%)\n",
            "  adding: content/Ex-11/Model-segment-evaluation-11/labels/front-right-NO20240903-144141-000835F_MP4-0028_jpg.rf.8c93c5e7c8de3b324870cf35519750a8.txt (deflated 80%)\n",
            "  adding: content/Ex-11/Model-segment-evaluation-11/labels/CarLongPlate150_jpg.rf.57c5c8bdb3c876a82b9476dd4065f65b.txt (deflated 58%)\n",
            "  adding: content/Ex-11/Model-segment-evaluation-11/labels/front-left-NO20240903-145441-000848F_MP4-0273_jpg.rf.4dd9044316e91e814c1a105e66797445.txt (deflated 79%)\n",
            "  adding: content/Ex-11/Model-segment-evaluation-11/labels/front-left-NO20240903-145041-000844F_MP4-0209_jpg.rf.0329166ef80c157547f3f4eea17411e1.txt (deflated 78%)\n",
            "  adding: content/Ex-11/Model-segment-evaluation-11/labels/front-right-NO20240903-143941-000833F_MP4-0117_jpg.rf.13f329979877ca519698c4358e905061.txt (deflated 77%)\n",
            "  adding: content/Ex-11/Model-segment-evaluation-11/labels/chery-cross_MP4-0059_jpg.rf.f8893d226d5aefe03e2a0535d15231a8.txt (deflated 76%)\n",
            "  adding: content/Ex-11/Model-segment-evaluation-11/labels/front-left-NO20240903-145141-000845F_MP4-0117_jpg.rf.3e0ebaeb967c7cd5008e32b1c4a94037.txt (deflated 73%)\n",
            "  adding: content/Ex-11/Model-segment-evaluation-11/labels/front-right-NO20240903-144141-000835F_MP4-0097_jpg.rf.0e74e22802612eb8abedf95588650422.txt (deflated 79%)\n",
            "  adding: content/Ex-11/Model-segment-evaluation-11/labels/front-left-NO20240909-143404-000339F_MP4-0035_jpg.rf.aa19fa5a1742120397dcfca5e859b294.txt (deflated 72%)\n",
            "  adding: content/Ex-11/Model-segment-evaluation-11/labels/front-left-NO20240903-145141-000845F_MP4-0038_jpg.rf.e7e3fed58c21774d30fdcc1f94ad3462.txt (deflated 74%)\n",
            "  adding: content/Ex-11/Model-segment-evaluation-11/labels/front-left-NO20240903-145041-000844F_MP4-0085_jpg.rf.e2703c206be1e68314653ca824669b9d.txt (deflated 81%)\n",
            "  adding: content/Ex-11/Model-segment-evaluation-11/labels/v6_mp4-0006_jpg.rf.7a513b1370ca746ea2d2b2e6c32b5ced.txt (deflated 78%)\n",
            "  adding: content/Ex-11/Model-segment-evaluation-11/labels/cars-NO20240914-112548-000207F_MP4-0016_jpg.rf.167a41f55460602c625c204bb0e9b9ce.txt (deflated 80%)\n",
            "  adding: content/Ex-11/Model-segment-evaluation-11/labels/front-left-NO20240903-145041-000844F_MP4-0154_jpg.rf.64c4593693e1824f8fefe1a0ba80c94c.txt (deflated 76%)\n",
            "  adding: content/Ex-11/Model-segment-evaluation-11/labels/front-left-NO20240903-145441-000848F_MP4-0297_jpg.rf.d7f465ef0a3d56c878d5b5ec3da27dc0.txt (deflated 80%)\n",
            "  adding: content/Ex-11/Model-segment-evaluation-11/labels/front-right-NO20240903-144141-000835F_MP4-0075_jpg.rf.d35db76d2ebfd02981890f079fa838b2.txt (deflated 84%)\n",
            "  adding: content/Ex-11/Model-segment-evaluation-11/labels/night-front-right-NO20240909-183440-000032F_MP4-0036_jpg.rf.2ef7da04f4ccd72b9a9a756a20d44061.txt (deflated 71%)\n",
            "  adding: content/Ex-11/Model-segment-evaluation-11/labels/CarLongPlateGen196_jpg.rf.00516d0d23f7f571cefbae7dc7730fe6.txt (deflated 62%)\n",
            "  adding: content/Ex-11/Model-segment-evaluation-11/labels/v8_mp4-0051_jpg.rf.eb3ff59607beb8c54e744ecc7e0e522d.txt (deflated 79%)\n",
            "  adding: content/Ex-11/Model-segment-evaluation-11/labels/Cars306_png_jpg.rf.daf83aee07815a2652102d182c7ae591.txt (deflated 64%)\n",
            "  adding: content/Ex-11/Model-segment-evaluation-11/labels/front-left-NO20240908-145538-000141F_MP4-0130_jpg.rf.d9cf733ed57d4ea266a8a09aef423a4a.txt (deflated 76%)\n",
            "  adding: content/Ex-11/Model-segment-evaluation-11/labels/front-left-NO20240903-145441-000848F_MP4-0288_jpg.rf.324a3dd73e2cfbd38d5a7712ba71c309.txt (deflated 79%)\n",
            "  adding: content/Ex-11/Model-segment-evaluation-11/labels/cars-NO20240914-114248-000224F_MP4-0040_jpg.rf.713ca0a30048f5c22a1166ab48189869.txt (deflated 83%)\n",
            "  adding: content/Ex-11/Model-segment-evaluation-11/labels/xemay1412_jpg.rf.3ea5f86b1eecabb9210e463dae2cfa38.txt (deflated 78%)\n",
            "  adding: content/Ex-11/Model-segment-evaluation-11/labels/night-front-right-NO20240909-183540-000033F_MP4-0261_jpg.rf.40109175f6ec25eeebfbe96e2a63ccfe.txt (deflated 80%)\n",
            "  adding: content/Ex-11/Model-segment-evaluation-11/labels/NO20240917-143737-000242F_MP4-0036_jpg.rf.13f975d935d6f0d978b502a0f31df651.txt (deflated 80%)\n",
            "  adding: content/Ex-11/Model-segment-evaluation-11/labels/CarLongPlate674_jpg.rf.06ceaae3d5fbcb451e000faef22d1ceb.txt (deflated 60%)\n",
            "  adding: content/Ex-11/Model-segment-evaluation-11/labels/front-left-NO20240903-145041-000844F_MP4-0128_jpg.rf.608db4e4c340da6a47f4efdcd2fc29e1.txt (deflated 82%)\n",
            "  adding: content/Ex-11/Model-segment-evaluation-11/labels/NO20240917-144137-000246F_MP4-0005_jpg.rf.485eed79a2cf0525ad0a8718152034b0.txt (deflated 79%)\n",
            "  adding: content/Ex-11/Model-segment-evaluation-11/labels/v5_mp4-0038_jpg.rf.49bb6080151d8653bc15619929cbc8e4.txt (deflated 76%)\n",
            "  adding: content/Ex-11/Model-segment-evaluation-11/labels/front-left-NO20240909-143904-000344F_MP4-0216_jpg.rf.2e3f2d2a1b1f69f197b88d141f985458.txt (deflated 74%)\n",
            "  adding: content/Ex-11/Model-segment-evaluation-11/labels/front-left-NO20240903-145441-000848F_MP4-0199_jpg.rf.e6f21cf5feb3eb70d85f44121b9f547f.txt (deflated 81%)\n",
            "  adding: content/Ex-11/Model-segment-evaluation-11/labels/night-front-right-NO20240909-182940-000027F_MP4-0097_jpg.rf.696f41d6ace4ab0c300c197a966a3313.txt (deflated 75%)\n",
            "  adding: content/Ex-11/Model-segment-evaluation-11/labels/xemay1345_jpg.rf.06323a37efde7ecf231f6f1a67608614.txt (deflated 74%)\n",
            "  adding: content/Ex-11/Model-segment-evaluation-11/labels/front-left-NO20240903-145541-000849F_MP4-0042_jpg.rf.8015370359b9499f741b554938722e4f.txt (deflated 81%)\n",
            "  adding: content/Ex-11/Model-segment-evaluation-11/labels/xemay2374_jpg.rf.049665b9bf35e0116bddc6b3f0dc3a00.txt (deflated 78%)\n",
            "  adding: content/Ex-11/Model-segment-evaluation-11/labels/night-front-right-NO20240909-183640-000034F_MP4-0094_jpg.rf.a29e93e6d76ce2fecc4cac7ee705a7e0.txt (deflated 74%)\n",
            "  adding: content/Ex-11/Model-segment-evaluation-11/labels/boderquandoi108_jpg.rf.5332bb8a63b8eda6fdc088a14581cd48.txt (deflated 76%)\n",
            "  adding: content/Ex-11/Model-segment-evaluation-11/labels/front-right-NO20240903-143941-000833F_MP4-0095_jpg.rf.e42af46f40dbd8a98889cac3adedbf34.txt (deflated 82%)\n",
            "  adding: content/Ex-11/Model-segment-evaluation-11/labels/v1_mp4-0024_jpg.rf.94d0acf66ccdd1e2d1221c88431a50a0.txt (deflated 73%)\n",
            "  adding: content/Ex-11/Model-segment-evaluation-11/labels/front-left-NO20240903-145141-000845F_MP4-0131_jpg.rf.50dda16293777a8a753f1848b4f6b9c1.txt (deflated 75%)\n",
            "  adding: content/Ex-11/Model-segment-evaluation-11/labels/front-left-NO20240903-145041-000844F_MP4-0129_jpg.rf.241cf579657c946206b2ca84aaf4a7e1.txt (deflated 79%)\n",
            "  adding: content/Ex-11/Model-segment-evaluation-11/labels/front-left-NO20240903-145041-000844F_MP4-0190_jpg.rf.a8c8d2dfd500893cb656534c62777523.txt (deflated 73%)\n",
            "  adding: content/Ex-11/Model-segment-evaluation-11/labels/IMG_7066-conv_jpeg_jpg.rf.2d1b5720cd5d539458149e52e285cdcd.txt (deflated 50%)\n",
            "  adding: content/Ex-11/Model-segment-evaluation-11/labels/front-left-NO20240903-145141-000845F_MP4-0070_jpg.rf.d06d7fce5c3b7b1e49ec026202656775.txt (deflated 75%)\n",
            "  adding: content/Ex-11/Model-segment-evaluation-11/labels/front-right-NO20240909-181340-000011F_MP4-0020_jpg.rf.d4c2183f85045f8d88d1f58e14b6e625.txt (deflated 77%)\n",
            "  adding: content/Ex-11/Model-segment-evaluation-11/labels/front-left-NO20240909-144504-000350F_MP4-0173_jpg.rf.dd3c2f8afb0cdaa623aba1204e4e607e.txt (deflated 77%)\n",
            "  adding: content/Ex-11/Model-segment-evaluation-11/labels/front-right-NO20240903-143941-000833F_MP4-0199_jpg.rf.b6ca4c16a81d689d13761a9a3de7a358.txt (deflated 87%)\n",
            "  adding: content/Ex-11/Model-segment-evaluation-11/labels/front-left-NO20240909-145604-000361F_MP4-0143_jpg.rf.32cd816b113f918989d086ba08193781.txt (deflated 73%)\n",
            "  adding: content/Ex-11/Model-segment-evaluation-11/labels/front-left-NO20240903-145441-000848F_MP4-0045_jpg.rf.1f995feeec00b4a3351f231675f3c6ec.txt (deflated 80%)\n",
            "  adding: content/Ex-11/Model-segment-evaluation-11/labels/front-right-NO20240903-144041-000834F_MP4-0117_jpg.rf.56f82980524f6d54b4a693c9fa59412e.txt (deflated 74%)\n",
            "  adding: content/Ex-11/Model-segment-evaluation-11/labels/front-left-NO20240909-145604-000361F_MP4-0130_jpg.rf.3d2cacbc2ae0c03f7fe9103b3e877cad.txt (deflated 75%)\n",
            "  adding: content/Ex-11/Model-segment-evaluation-11/labels/front-right-NO20240903-144141-000835F_MP4-0231_jpg.rf.3f1806a7159e9f8e4edaacbff853033e.txt (deflated 85%)\n",
            "  adding: content/Ex-11/Model-segment-evaluation-11/labels/CarLongPlate896_jpg.rf.e2b7fa64866d016e1056e2bf98bb2bb4.txt (deflated 47%)\n",
            "  adding: content/Ex-11/Model-segment-evaluation-11/labels/front-right-NO20240909-181340-000011F_MP4-0087_jpg.rf.bc2212b96bf32a3a1efa582dcc890295.txt (deflated 78%)\n",
            "  adding: content/Ex-11/Model-segment-evaluation-11/labels/front-right-NO20240903-144141-000835F_MP4-0164_jpg.rf.f8020bc20b6efc99d25b813cf1efad1b.txt (deflated 77%)\n",
            "  adding: content/Ex-11/Model-segment-evaluation-11/labels/front-right-NO20240903-144141-000835F_MP4-0105_jpg.rf.1f2bad045194754f4039931c25550feb.txt (deflated 76%)\n",
            "  adding: content/Ex-11/Model-segment-evaluation-11/labels/front-left-NO20240903-145041-000844F_MP4-0140_jpg.rf.e87579fcf5146a5db1312142a2745d21.txt (deflated 74%)\n",
            "  adding: content/Ex-11/Model-segment-evaluation-11/labels/front-left-NO20240903-145141-000845F_MP4-0027_jpg.rf.de7134deb9e245f6f32a3eb15488a5e7.txt (deflated 74%)\n",
            "  adding: content/Ex-11/Model-segment-evaluation-11/labels/xemay1180_jpg.rf.d693766b0a4d82c8249054966cbe8fe6.txt (deflated 71%)\n",
            "  adding: content/Ex-11/Model-segment-evaluation-11/labels/front-left-NO20240908-150138-000147F_MP4-0057_jpg.rf.84b8e8af6bd9b22f1cf6494156bd91e8.txt (deflated 72%)\n",
            "  adding: content/Ex-11/Model-segment-evaluation-11/labels/front-left-NO20240903-145541-000849F_MP4-0186_jpg.rf.d11d3d592655d867e69b43d662dcf6e3.txt (deflated 79%)\n",
            "  adding: content/Ex-11/Model-segment-evaluation-11/labels/front-left-NO20240903-145141-000845F_MP4-0152_jpg.rf.7ae980a782cd0eff95011c9304d41d7b.txt (deflated 73%)\n",
            "  adding: content/Ex-11/Model-segment-evaluation-11/labels/front-right-NO20240903-144141-000835F_MP4-0078_jpg.rf.0b7f4e5c2c45db3954d4e2cd816a99ba.txt (deflated 83%)\n",
            "  adding: content/Ex-11/Model-segment-evaluation-11/labels/front-left-NO20240909-143304-000338F_MP4-0210_jpg.rf.f0e71b1c78627c48da9c6fbe4efe591b.txt (deflated 74%)\n",
            "  adding: content/Ex-11/Model-segment-evaluation-11/labels/Cars193_png_jpg.rf.df2ce571969d72e346faa2dc2d430711.txt (deflated 72%)\n",
            "  adding: content/Ex-11/Model-segment-evaluation-11/labels/quandoi23_jpg.rf.e7ac47f345737a157774feebb48608b2.txt (deflated 63%)\n",
            "  adding: content/Ex-11/Model-segment-evaluation-11/labels/front-left-NO20240903-145041-000844F_MP4-0241_jpg.rf.c02dd94b12c0a2a2695b909a691b5980.txt (deflated 75%)\n",
            "  adding: content/Ex-11/Model-segment-evaluation-11/labels/front-right-NO20240903-144141-000835F_MP4-0214_jpg.rf.bd74b1138092a18448e5f9d3e34709e7.txt (deflated 85%)\n",
            "  adding: content/Ex-11/Model-segment-evaluation-11/labels/front-right-NO20240903-143941-000833F_MP4-0041_jpg.rf.c2d29014902ef65727de5cee0abbd3f5.txt (deflated 80%)\n",
            "  adding: content/Ex-11/Model-segment-evaluation-11/labels/front-left-NO20240903-145441-000848F_MP4-0242_jpg.rf.43cf86fbd12377a29f8eaff031f542b2.txt (deflated 82%)\n",
            "  adding: content/Ex-11/Model-segment-evaluation-11/labels/NO20240909-181040-000008F_MP4-0145_jpg.rf.de5ee7c48034dfc5dd424178d165b5a6.txt (deflated 81%)\n",
            "  adding: content/Ex-11/Model-segment-evaluation-11/labels/front-left-NO20240903-145141-000845F_MP4-0062_jpg.rf.bd5225062362c27ea880ce1e54a724a4.txt (deflated 76%)\n",
            "  adding: content/Ex-11/Model-segment-evaluation-11/labels/front-left-NO20240909-150504-000370F_MP4-0139_jpg.rf.b8794fc635ff121dfbff8ed385de7fc9.txt (deflated 78%)\n",
            "  adding: content/Ex-11/Model-segment-evaluation-11/labels/front-left-NO20240903-145041-000844F_MP4-0117_jpg.rf.77a625e319c6e6b6e3bb98f8c544a12a.txt (deflated 76%)\n",
            "  adding: content/Ex-11/Model-segment-evaluation-11/labels/cars-NO20240914-114048-000222F_MP4-0201_jpg.rf.36aa3ea7621e18275778172fdc0d43bf.txt (deflated 83%)\n",
            "  adding: content/Ex-11/Model-segment-evaluation-11/labels/front-right-NO20240903-144041-000834F_MP4-0044_jpg.rf.6209359e3809d03d52f0f5e4eb1580f9.txt (deflated 83%)\n",
            "  adding: content/Ex-11/Model-segment-evaluation-11/labels/v1_mp4-0021_jpg.rf.b0d395b7f43e747af344b2acb75fe6c5.txt (deflated 74%)\n",
            "  adding: content/Ex-11/Model-segment-evaluation-11/labels/cars-NO20240914-114048-000222F_MP4-0058_jpg.rf.5febb5a7b72864fd026d4ba24ca0b0de.txt (deflated 83%)\n",
            "  adding: content/Ex-11/Model-segment-evaluation-11/labels/front-left-NO20240903-145041-000844F_MP4-0235_jpg.rf.83aa5ef84775c9afb6dd1f6b3cb352f7.txt (deflated 79%)\n",
            "  adding: content/Ex-11/Model-segment-evaluation-11/labels/front-left-NO20240903-145141-000845F_MP4-0182_jpg.rf.ab91436f09c4eff9d59e064f82a987aa.txt (deflated 74%)\n",
            "  adding: content/Ex-11/Model-segment-evaluation-11/labels/CarLongPlateGen3796_jpg.rf.81c093c7949f8c610f418d5106683ebb.txt (deflated 47%)\n",
            "  adding: content/Ex-11/Model-segment-evaluation-11/labels/front-left-NO20240903-145041-000844F_MP4-0203_jpg.rf.f00966917d1e830817293ce0490c0827.txt (deflated 80%)\n",
            "  adding: content/Ex-11/Model-segment-evaluation-11/labels/front-left-NO20240903-145141-000845F_MP4-0162_jpg.rf.39467ad1b3e5bb6c502a1885fdd2ead5.txt (deflated 72%)\n",
            "  adding: content/Ex-11/Model-segment-evaluation-11/labels/front-left-NO20240909-150504-000370F_MP4-0165_jpg.rf.7dd77be10469b3feb33e761accf305bb.txt (deflated 75%)\n",
            "  adding: content/Ex-11/Model-segment-evaluation-11/labels/cars-NO20240910-060525-000077F_MP4-0012_jpg.rf.d116cbec6c0caf9b295dfe5987a7ac69.txt (deflated 82%)\n",
            "  adding: content/Ex-11/Model-segment-evaluation-11/labels/front-left-NO20240903-145541-000849F_MP4-0038_jpg.rf.9d8e151561a6598df13678c7ec386194.txt (deflated 78%)\n",
            "  adding: content/Ex-11/Model-segment-evaluation-11/labels/front-left-NO20240903-145541-000849F_MP4-0018_jpg.rf.66abd906c7ae3b84cc1632cbf04a9903.txt (deflated 80%)\n",
            "  adding: content/Ex-11/Model-segment-evaluation-11/labels/front-left-NO20240903-145141-000845F_MP4-0177_jpg.rf.72438c1e2ace2487d8f27e90de361ccc.txt (deflated 74%)\n",
            "  adding: content/Ex-11/Model-segment-evaluation-11/labels/front-left-NO20240903-145141-000845F_MP4-0081_jpg.rf.2ac0d6096eb015ce23dec084257f654f.txt (deflated 76%)\n",
            "  adding: content/Ex-11/Model-segment-evaluation-11/labels/CarLongPlate156_jpg.rf.b01221365cdd527bdceb84d9497c94fe.txt (deflated 47%)\n",
            "  adding: content/Ex-11/Model-segment-evaluation-11/labels/front-left-NO20240903-145041-000844F_MP4-0121_jpg.rf.08e09e84ea42e197792168a8aafae44e.txt (deflated 75%)\n",
            "  adding: content/Ex-11/Model-segment-evaluation-11/labels/front-left-NO20240903-145041-000844F_MP4-0162_jpg.rf.2438205f510f7961e2c90a3bee47134d.txt (deflated 73%)\n",
            "  adding: content/Ex-11/Model-segment-evaluation-11/labels/v2_mp4-0007_jpg.rf.fb438c7368927f3c9802ef22d7748ac4.txt (deflated 72%)\n",
            "  adding: content/Ex-11/Model-segment-evaluation-11/labels/front-left-NO20240903-145041-000844F_MP4-0278_jpg.rf.163119956d1735053290001f93144ab3.txt (deflated 77%)\n",
            "  adding: content/Ex-11/Model-segment-evaluation-11/labels/front-left-NO20240910-064025-000112F_MP4-0131_jpg.rf.3864594e533723fbaab9b2320835cbe8.txt (deflated 78%)\n",
            "  adding: content/Ex-11/Model-segment-evaluation-11/labels/front-left-NO20240909-150504-000370F_MP4-0292_jpg.rf.100ac0abef2d8c21af922fc6d58e2ad8.txt (deflated 79%)\n",
            "  adding: content/Ex-11/Model-segment-evaluation-11/labels/front-left-NO20240909-145904-000364F_MP4-0176_jpg.rf.53e051273a75777ef632565bb19aae7f.txt (deflated 72%)\n",
            "  adding: content/Ex-11/Model-segment-evaluation-11/labels/front-right-NO20240909-181440-000012F_MP4-0075_jpg.rf.29b1354ad8d604f9e040d6271f0fa60e.txt (deflated 73%)\n",
            "  adding: content/Ex-11/Model-segment-evaluation-11/labels/021a3f4ad16708b8_jpg.rf.f385011ebbe8e3202f1ccc75d04727af.txt (deflated 76%)\n",
            "  adding: content/Ex-11/Model-segment-evaluation-11/labels/front-left-NO20240903-145041-000844F_MP4-0068_jpg.rf.54d4e8164a2c635f44a422a5e83d14b6.txt (deflated 78%)\n",
            "  adding: content/Ex-11/Model-segment-evaluation-11/labels/front-left-NO20240903-145041-000844F_MP4-0147_jpg.rf.9e8b280c086969691296b5b246928578.txt (deflated 79%)\n",
            "  adding: content/Ex-11/Model-segment-evaluation-11/labels/front-right-NO20240903-144041-000834F_MP4-0070_jpg.rf.275538824ac2a32d05f7c9a1bf162bff.txt (deflated 73%)\n",
            "  adding: content/Ex-11/Model-segment-evaluation-11/labels/NO20240917-144137-000246F_MP4-0064_jpg.rf.ad0fdeb149cadb25a76004cc54202718.txt (deflated 75%)\n",
            "  adding: content/Ex-11/Model-segment-evaluation-11/labels/front-left-NO20240909-144004-000345F_MP4-0145_jpg.rf.d7f8d67f9d58dcda8a69fab6f683c32d.txt (deflated 73%)\n",
            "  adding: content/Ex-11/Model-segment-evaluation-11/labels/front-left-NO20240908-145538-000141F_MP4-0125_jpg.rf.f292b64b0b674ff0d1f53b794065576a.txt (deflated 78%)\n",
            "  adding: content/Ex-11/Model-segment-evaluation-11/labels/v3_mp4-0024_jpg.rf.f6bf834a36f84366f311155f5891f596.txt (deflated 81%)\n",
            "  adding: content/Ex-11/Model-segment-evaluation-11/labels/xemay26_jpg.rf.1830e2da7a3067289028e7a614022e0a.txt (deflated 49%)\n",
            "  adding: content/Ex-11/Model-segment-evaluation-11/labels/v3_mp4-0039_jpg.rf.1a4e5de836dc06cfcd2c6f1bbf361bdd.txt (deflated 77%)\n",
            "  adding: content/Ex-11/Model-segment-evaluation-11/labels/front-right-NO20240903-144141-000835F_MP4-0225_jpg.rf.acd79f32bde93b417fd52d4366f3c610.txt (deflated 81%)\n",
            "  adding: content/Ex-11/Model-segment-evaluation-11/labels/front-left-NO20240903-145541-000849F_MP4-0168_jpg.rf.4c3e242116fe414e71a60493cd3da0c0.txt (deflated 73%)\n",
            "  adding: content/Ex-11/Model-segment-evaluation-11/labels/front-left-NO20240903-145441-000848F_MP4-0040_jpg.rf.595ff4b69650b5e13accdc962301b040.txt (deflated 82%)\n",
            "  adding: content/Ex-11/Model-segment-evaluation-11/labels/CarLongPlate176_jpg.rf.84221a48ed356712132752e25c709a72.txt (deflated 47%)\n",
            "  adding: content/Ex-11/Model-segment-evaluation-11/labels/front-left-NO20240909-150404-000369F_MP4-0064_jpg.rf.fdbf4f6ae7d74c3fc9bc52a1759ac7b8.txt (deflated 77%)\n",
            "  adding: content/Ex-11/Model-segment-evaluation-11/labels/front-left-NO20240903-145141-000845F_MP4-0179_jpg.rf.823515eed9d758850f93c69a34080206.txt (deflated 73%)\n",
            "  adding: content/Ex-11/Model-segment-evaluation-11/labels/front-left-NO20240903-145141-000845F_MP4-0128_jpg.rf.82bb41320f634ebc2bf1ed8581db8911.txt (deflated 74%)\n",
            "  adding: content/Ex-11/Model-segment-evaluation-11/labels/v8_mp4-0036_jpg.rf.98a89a9232bf5e71d02cd3eb8ae7f705.txt (deflated 77%)\n",
            "  adding: content/Ex-11/Model-segment-evaluation-11/labels/NO20240909-181040-000008F_MP4-0077_jpg.rf.e03c458edf47476eb383ed34dd79eb92.txt (deflated 75%)\n",
            "  adding: content/Ex-11/Model-segment-evaluation-11/labels/front-left-NO20240903-145141-000845F_MP4-0048_jpg.rf.e1fda7a1f7d4d5e9bcafbfc5410b6163.txt (deflated 75%)\n",
            "  adding: content/Ex-11/Model-segment-evaluation-11/labels/front-left-NO20240903-145141-000845F_MP4-0075_jpg.rf.5550094dbaeccc948e6c9b2734567690.txt (deflated 75%)\n",
            "  adding: content/Ex-11/Model-segment-evaluation-11/labels/NO20240909-181140-000009F_MP4-0097_jpg.rf.eab2115866b78512035390aebb4b4881.txt (deflated 72%)\n",
            "  adding: content/Ex-11/Model-segment-evaluation-11/labels/front-right-NO20240903-144041-000834F_MP4-0245_jpg.rf.7da35082b42e40d1f6718754b13ee948.txt (deflated 75%)\n",
            "  adding: content/Ex-11/Model-segment-evaluation-11/labels/front-left-NO20240909-144404-000349F_MP4-0176_jpg.rf.4f7c59cfd33c24603d715cbe879acb0f.txt (deflated 74%)\n",
            "  adding: content/Ex-11/Model-segment-evaluation-11/labels/front-left-NO20240903-145541-000849F_MP4-0009_jpg.rf.467940fe889a13d976be535e447c98d6.txt (deflated 80%)\n",
            "  adding: content/Ex-11/Model-segment-evaluation-11/labels/front-left-NO20240903-145541-000849F_MP4-0110_jpg.rf.50c364012bf1978c929c97d12e211593.txt (deflated 75%)\n",
            "  adding: content/Ex-11/Model-segment-evaluation-11/labels/front-right-NO20240903-143941-000833F_MP4-0143_jpg.rf.90cc4acb7e9330c15b291b744c9a8c7c.txt (deflated 75%)\n",
            "  adding: content/Ex-11/Model-segment-evaluation-11/labels/front-left-NO20240903-145441-000848F_MP4-0272_jpg.rf.c66b3e6fe917fa84473d1955ed689525.txt (deflated 79%)\n",
            "  adding: content/Ex-11/Model-segment-evaluation-11/labels/pic_161_jpg.rf.1485dc48034146b4c1e00e3231e34e2d.txt (deflated 68%)\n",
            "  adding: content/Ex-11/Model-segment-evaluation-11/labels/front-left-NO20240903-145041-000844F_MP4-0176_jpg.rf.552f1cce2d36abfdebab64d4c8ff9703.txt (deflated 73%)\n",
            "  adding: content/Ex-11/Model-segment-evaluation-11/labels/front-left-NO20240903-145541-000849F_MP4-0000_jpg.rf.7610bb67fdefadd2969b8e9769305d93.txt (deflated 79%)\n",
            "  adding: content/Ex-11/Model-segment-evaluation-11/labels/night-front-right-NO20240909-183740-000035F_MP4-0073_jpg.rf.d14b37247e0534084f4d66abe1bfe6c8.txt (deflated 74%)\n",
            "  adding: content/Ex-11/Model-segment-evaluation-11/labels/CarLongPlateGen2048_jpg.rf.01e9dc917d1f5979723e81ccd952bcad.txt (deflated 46%)\n",
            "  adding: content/Ex-11/Model-segment-evaluation-11/labels/front-left-NO20240903-145141-000845F_MP4-0025_jpg.rf.1434ee63ecb36510bd8accffc1a2d778.txt (deflated 77%)\n",
            "  adding: content/Ex-11/Model-segment-evaluation-11/labels/front-left-NO20240903-145141-000845F_MP4-0004_jpg.rf.64b9727dd8a4070ca73f3f520c496f84.txt (deflated 78%)\n",
            "  adding: content/Ex-11/Model-segment-evaluation-11/labels/front-left-NO20240909-143404-000339F_MP4-0022_jpg.rf.21a713767c5238861ce5bc7e7d3d52a0.txt (deflated 79%)\n",
            "  adding: content/Ex-11/Model-segment-evaluation-11/labels/front-left-NO20240909-144404-000349F_MP4-0061_jpg.rf.4530f0cd655402af4a4e76b3d1528b6e.txt (deflated 76%)\n",
            "  adding: content/Ex-11/Model-segment-evaluation-11/labels/CarLongPlateGen430_jpg.rf.ca661fd81760a5ee013e4bfbf06459e2.txt (deflated 62%)\n",
            "  adding: content/Ex-11/Model-segment-evaluation-11/labels/v7_mp4-0030_jpg.rf.597fae0a8679a9d3ccd2b9ce05eb5a48.txt (deflated 76%)\n",
            "  adding: content/Ex-11/Model-segment-evaluation-11/labels/night-front-right-NO20240909-182940-000027F_MP4-0006_jpg.rf.e51de635d84554fa959e96c4f0fda948.txt (deflated 77%)\n",
            "  adding: content/Ex-11/Model-segment-evaluation-11/labels/front-right-NO20240903-144141-000835F_MP4-0230_jpg.rf.fb9b02f0ecae5ecf32959bc324bfabd3.txt (deflated 81%)\n",
            "  adding: content/Ex-11/Model-segment-evaluation-11/labels/v5_mp4-0059_jpg.rf.112c9d2582f103972decfdc67ee45a55.txt (deflated 75%)\n",
            "  adding: content/Ex-11/Model-segment-evaluation-11/labels/front-right-NO20240903-143941-000833F_MP4-0243_jpg.rf.8146c64e0200eae4bb5b7120f78636b0.txt (deflated 76%)\n",
            "  adding: content/Ex-11/Model-segment-evaluation-11/labels/CarLongPlateGen2681_jpg.rf.d92eb1a38ea80e6e3cd344d3000d9407.txt (deflated 49%)\n",
            "  adding: content/Ex-11/Model-segment-evaluation-11/labels/night-front-right-NO20240909-182940-000027F_MP4-0026_jpg.rf.f3dde72b86b9b8fc2326f0c960c4d257.txt (deflated 79%)\n",
            "  adding: content/Ex-11/Model-segment-evaluation-11/labels/xemay1443_jpg.rf.a33dde28b8d2397a5d7aeb15511be762.txt (deflated 49%)\n",
            "  adding: content/Ex-11/Model-segment-evaluation-11/labels/xemay1704_jpg.rf.27f1fa89611c5b568822ecaf25d28d12.txt (deflated 55%)\n",
            "  adding: content/Ex-11/Model-segment-evaluation-11/labels/NO20240917-144137-000246F_MP4-0097_jpg.rf.a1a612e0d9e18e0a066677ccd51613e3.txt (deflated 75%)\n",
            "  adding: content/Ex-11/Model-segment-evaluation-11/labels/front-left-NO20240903-145141-000845F_MP4-0036_jpg.rf.eded7350dd68a947e95317f9c816b200.txt (deflated 73%)\n",
            "  adding: content/Ex-11/Model-segment-evaluation-11/labels/front-left-NO20240903-145441-000848F_MP4-0185_jpg.rf.2cd89e15ba65d605287ae04ae0f6c4d9.txt (deflated 80%)\n",
            "  adding: content/Ex-11/Model-segment-evaluation-11/labels/cars-NO20240910-060525-000077F_MP4-0180_jpg.rf.cce8fd4318051c062522549f19b77d41.txt (deflated 73%)\n",
            "  adding: content/Ex-11/Model-segment-evaluation-11/labels/front-left-NO20240908-150138-000147F_MP4-0012_jpg.rf.38ae6fa7a8bb87cec59b9b541235581b.txt (deflated 74%)\n",
            "  adding: content/Ex-11/Model-segment-evaluation-11/labels/front-left-NO20240903-145041-000844F_MP4-0229_jpg.rf.5b459e988de13f17ddf075aa4667e110.txt (deflated 78%)\n",
            "  adding: content/Ex-11/Model-segment-evaluation-11/labels/front-right-NO20240903-144041-000834F_MP4-0218_jpg.rf.c7242a65b554d306a054816fd3cc382b.txt (deflated 84%)\n",
            "  adding: content/Ex-11/Model-segment-evaluation-11/labels/CarLongPlateGen1966_jpg.rf.93afe629f833fda5ea0b702a843ac207.txt (deflated 55%)\n",
            "  adding: content/Ex-11/Model-segment-evaluation-11/labels/front-left-NO20240908-145938-000145F_MP4-0036_jpg.rf.35b60599c9a77c0a151b413a417cb557.txt (deflated 78%)\n",
            "  adding: content/Ex-11/Model-segment-evaluation-11/labels/v3_mp4-0001_jpg.rf.259e97e55e4bd382efa49b931e1d4fe6.txt (deflated 76%)\n",
            "  adding: content/Ex-11/Model-segment-evaluation-11/labels/front-left-NO20240909-150404-000369F_MP4-0151_jpg.rf.391d18adc46a42c5ccc59df825237043.txt (deflated 76%)\n",
            "  adding: content/Ex-11/Model-segment-evaluation-11/labels/night-front-right-NO20240909-182940-000027F_MP4-0136_jpg.rf.e2fc0d394d2a4d16bc7158fe6c205be5.txt (deflated 74%)\n",
            "  adding: content/Ex-11/Model-segment-evaluation-11/labels/front-left-NO20240903-145441-000848F_MP4-0278_jpg.rf.7fb6e7d5b5912f58090acef5645bccfa.txt (deflated 79%)\n",
            "  adding: content/Ex-11/Model-segment-evaluation-11/labels/cars-NO20240914-114048-000222F_MP4-0051_jpg.rf.43997f4aba7350425db0aad49a5d9b7c.txt (deflated 83%)\n",
            "  adding: content/Ex-11/Model-segment-evaluation-11/labels/front-left-NO20240909-143304-000338F_MP4-0075_jpg.rf.1194ec4be598b6aa73f3380c63f47d98.txt (deflated 71%)\n",
            "  adding: content/Ex-11/Model-segment-evaluation-11/labels/front-left-NO20240903-145041-000844F_MP4-0215_jpg.rf.3167ca025c2dcbb5e649a948928c78cb.txt (deflated 79%)\n",
            "  adding: content/Ex-11/Model-segment-evaluation-11/labels/front-left-NO20240909-151004-000375F_MP4-0007_jpg.rf.f9756efcb1652c5ce4367afe5557fa2e.txt (deflated 75%)\n",
            "  adding: content/Ex-11/Model-segment-evaluation-11/labels/front-left-NO20240903-145541-000849F_MP4-0101_jpg.rf.bb73429e3f96bf95ac305f802c1eafe4.txt (deflated 79%)\n",
            "  adding: content/Ex-11/Model-segment-evaluation-11/labels/front-right-NO20240903-143941-000833F_MP4-0079_jpg.rf.665504b5b00f04f561f64dd6c2ab967e.txt (deflated 84%)\n",
            "  adding: content/Ex-11/Model-segment-evaluation-11/labels/6-gro2017-1600x800_jpg.rf.8e6e563e9bf4d9510e32fb7225f8990c.txt (deflated 75%)\n",
            "  adding: content/Ex-11/Model-segment-evaluation-11/labels/front-left-NO20240909-144104-000346F_MP4-0012_jpg.rf.a454d189d85cec3059416a4253a54a57.txt (deflated 80%)\n",
            "  adding: content/Ex-11/Model-segment-evaluation-11/labels/front-left-NO20240903-145141-000845F_MP4-0111_jpg.rf.b66b7221a888cebdaaa94d1c160e3112.txt (deflated 75%)\n",
            "  adding: content/Ex-11/Model-segment-evaluation-11/labels/cars-NO20240914-114048-000222F_MP4-0195_jpg.rf.0349b039decd3939267eca238af64a09.txt (deflated 80%)\n",
            "  adding: content/Ex-11/Model-segment-evaluation-11/labels/front-left-NO20240903-145041-000844F_MP4-0236_jpg.rf.16a8bd4c903da96ee2cba9c799ac19c7.txt (deflated 78%)\n",
            "  adding: content/Ex-11/Model-segment-evaluation-11/labels/front-left-NO20240903-145141-000845F_MP4-0133_jpg.rf.1e818f61044f8fcd11bd6da755ad45c7.txt (deflated 77%)\n",
            "  adding: content/Ex-11/Model-segment-evaluation-11/labels/front-left-NO20240903-145041-000844F_MP4-0180_jpg.rf.94c3346ebbb0f5d5bfcaeeae97731255.txt (deflated 80%)\n",
            "  adding: content/Ex-11/Model-segment-evaluation-11/labels/front-right-NO20240903-144141-000835F_MP4-0060_jpg.rf.30830627994d6ce1080b719f741bfe10.txt (deflated 84%)\n",
            "  adding: content/Ex-11/Model-segment-evaluation-11/labels/front-left-NO20240908-145538-000141F_MP4-0182_jpg.rf.5e2117dbaebbdcd3465bddc38668a494.txt (deflated 74%)\n",
            "  adding: content/Ex-11/Model-segment-evaluation-11/labels/front-right-NO20240909-181440-000012F_MP4-0004_jpg.rf.93dc13eca0c2a0dc706b28830cfbd0a6.txt (deflated 82%)\n",
            "  adding: content/Ex-11/Model-segment-evaluation-11/labels/front-left-NO20240903-145141-000845F_MP4-0084_jpg.rf.1a96bb84ee939e674af42947c904a891.txt (deflated 78%)\n",
            "  adding: content/Ex-11/Model-segment-evaluation-11/labels/CarLongPlateGen1268_jpg.rf.072bb0bfbdfabd23e7ca733e4d1b1182.txt (deflated 61%)\n",
            "  adding: content/Ex-11/Model-segment-evaluation-11/labels/CarLongPlate888_jpg.rf.5b341196b06130f640ef406e3d84ae72.txt (deflated 47%)\n",
            "  adding: content/Ex-11/Model-segment-evaluation-11/labels/front-left-NO20240903-145141-000845F_MP4-0008_jpg.rf.5f3ab1b3fcc8edfc2303fbe7964f8a35.txt (deflated 77%)\n",
            "  adding: content/Ex-11/Model-segment-evaluation-11/labels/front-right-NO20240909-181240-000010F_MP4-0106_jpg.rf.5563de2b0b64147e7739b38ec87ab64e.txt (deflated 72%)\n",
            "  adding: content/Ex-11/Model-segment-evaluation-11/labels/NO20240917-143837-000243F_MP4-0053_jpg.rf.4e2b4b6af673b8d0b9421352ffe73a94.txt (deflated 84%)\n",
            "  adding: content/Ex-11/Model-segment-evaluation-11/labels/front-right-NO20240903-143941-000833F_MP4-0167_jpg.rf.a4500a658cf615e2abd6531bc0e392d9.txt (deflated 80%)\n",
            "  adding: content/Ex-11/Model-segment-evaluation-11/labels/front-right-NO20240909-181540-000013F_MP4-0006_jpg.rf.56b0c1af0fcd38cc127d54fbe4e500b9.txt (deflated 81%)\n",
            "  adding: content/Ex-11/Model-segment-evaluation-11/labels/front-left-NO20240909-145804-000363F_MP4-0105_jpg.rf.e823daafb8e80f88571cdfebf772bf60.txt (deflated 74%)\n",
            "  adding: content/Ex-11/Model-segment-evaluation-11/labels/front-left-NO20240903-145041-000844F_MP4-0120_jpg.rf.7a501a3d520b5e794c9a39a93dc88c1b.txt (deflated 76%)\n",
            "  adding: content/Ex-11/Model-segment-evaluation-11/labels/NO20240909-181040-000008F_MP4-0250_jpg.rf.c84bb6735d8fc8abfcfbfd737d11ed3d.txt (deflated 74%)\n",
            "  adding: content/Ex-11/Model-segment-evaluation-11/labels/front-left-NO20240903-145441-000848F_MP4-0284_jpg.rf.ee681991cf92d925e9cd355facd4ece1.txt (deflated 82%)\n",
            "  adding: content/Ex-11/Model-segment-evaluation-11/labels/NO20240909-181040-000008F_MP4-0246_jpg.rf.34ba246c68578af8f7a899a511b28956.txt (deflated 75%)\n",
            "  adding: content/Ex-11/Model-segment-evaluation-11/labels/cars-NO20240914-114048-000222F_MP4-0256_jpg.rf.e04e210fe46938cf6afbddb6515f867e.txt (deflated 83%)\n",
            "  adding: content/Ex-11/Model-segment-evaluation-11/labels/front-right-NO20240903-144041-000834F_MP4-0122_jpg.rf.3ee6ed4ac3c55d30ffe7b61ad99880aa.txt (deflated 80%)\n",
            "  adding: content/Ex-11/Model-segment-evaluation-11/labels/front-right-NO20240903-144041-000834F_MP4-0029_jpg.rf.a488759fe5cc1349ae4469e304822b83.txt (deflated 70%)\n",
            "  adding: content/Ex-11/Model-segment-evaluation-11/labels/front-right-NO20240903-144141-000835F_MP4-0162_jpg.rf.80cdc9096f90eff398769dad1de38286.txt (deflated 78%)\n",
            "  adding: content/Ex-11/Model-segment-evaluation-11/labels/night-front-right-NO20240909-183440-000032F_MP4-0171_jpg.rf.79e6785d621ed9c6997c5fde39cea49c.txt (deflated 71%)\n",
            "  adding: content/Ex-11/Model-segment-evaluation-11/labels/front-left-NO20240903-145141-000845F_MP4-0119_jpg.rf.735bf1970305a0cc62c961090b413dc5.txt (deflated 75%)\n",
            "  adding: content/Ex-11/Model-segment-evaluation-11/labels/front-right-NO20240903-143941-000833F_MP4-0300_jpg.rf.ba07ca4cda4fad80115c1ad2c57c0c63.txt (deflated 81%)\n",
            "  adding: content/Ex-11/Model-segment-evaluation-11/labels/front-left-NO20240903-145041-000844F_MP4-0275_jpg.rf.bad797f883b16fa8202c307b5d1938df.txt (deflated 76%)\n",
            "  adding: content/Ex-11/Model-segment-evaluation-11/labels/front-left-NO20240903-145141-000845F_MP4-0041_jpg.rf.bf1941c15410e5bd56d65a42bcb75488.txt (deflated 74%)\n",
            "  adding: content/Ex-11/Model-segment-evaluation-11/labels/front-left-NO20240903-145541-000849F_MP4-0039_jpg.rf.cb011d156811d3135d63e7911485d6ad.txt (deflated 81%)\n",
            "  adding: content/Ex-11/Model-segment-evaluation-11/labels/CarLongPlateGen316_jpg.rf.0742ef85633fff2c89e3100ba25d1235.txt (deflated 69%)\n",
            "  adding: content/Ex-11/Model-segment-evaluation-11/labels/xemay390_jpg.rf.f5fb95d9ca8c4464b48c8eea36ab3bfd.txt (deflated 46%)\n",
            "  adding: content/Ex-11/Model-segment-evaluation-11/labels/cars-NO20240914-114048-000222F_MP4-0118_jpg.rf.bb1c1c091229d470dc048752040b29af.txt (deflated 81%)\n",
            "  adding: content/Ex-11/Model-segment-evaluation-11/labels/Detect-20and-20Recognize-20Car-20License-20Plate-20from-20a_yythk_jpg.rf.7760ef5f4f45ba7f8cb2b02a91122f9f.txt (deflated 76%)\n",
            "  adding: content/Ex-11/Model-segment-evaluation-11/labels/front-left-NO20240903-145541-000849F_MP4-0103_jpg.rf.747c46b5739f990c102cf8bf7c6e3615.txt (deflated 76%)\n",
            "  adding: content/Ex-11/Model-segment-evaluation-11/labels/front-left-NO20240909-145804-000363F_MP4-0187_jpg.rf.ac364219a72565bd6d1bb5f9ebc87cd4.txt (deflated 76%)\n",
            "  adding: content/Ex-11/Model-segment-evaluation-11/labels/front-right-NO20240909-181440-000012F_MP4-0041_jpg.rf.3496716985cbec22aa27c05b983e1c0a.txt (deflated 76%)\n",
            "  adding: content/Ex-11/Model-segment-evaluation-11/labels/front-right-NO20240903-144041-000834F_MP4-0049_jpg.rf.3f3cefe0c661f083acd19d0b0de58d4d.txt (deflated 74%)\n",
            "  adding: content/Ex-11/Model-segment-evaluation-11/labels/front-left-NO20240903-145141-000845F_MP4-0051_jpg.rf.69f927a09c22a735945783f5739adff7.txt (deflated 75%)\n",
            "  adding: content/Ex-11/Model-segment-evaluation-11/labels/front-left-NO20240909-150504-000370F_MP4-0004_jpg.rf.45d7ae0a64a009c7df39446ac2c7b94c.txt (deflated 76%)\n",
            "  adding: content/Ex-11/Model-segment-evaluation-11/labels/CarLongPlate349_jpg.rf.2e6604e9f1bffeee0014037a940323ef.txt (deflated 53%)\n",
            "  adding: content/Ex-11/Model-segment-evaluation-11/labels/NO20240917-143837-000243F_MP4-0022_jpg.rf.a6860fcec02d625353cf9778a3ea9669.txt (deflated 85%)\n",
            "  adding: content/Ex-11/Model-segment-evaluation-11/labels/front-left-NO20240909-145704-000362F_MP4-0174_jpg.rf.83887b0292aefd2297c12ff5ac20670a.txt (deflated 74%)\n",
            "  adding: content/Ex-11/Model-segment-evaluation-11/labels/night-front-right-NO20240909-183540-000033F_MP4-0046_jpg.rf.e4fc45fb582a3a1b89c452227a846049.txt (deflated 74%)\n",
            "  adding: content/Ex-11/Model-segment-evaluation-11/labels/front-left-NO20240903-145041-000844F_MP4-0137_jpg.rf.ade384d1669601143bbcd1ffddf63e7d.txt (deflated 78%)\n",
            "  adding: content/Ex-11/Model-segment-evaluation-11/labels/cars-NO20240914-114048-000222F_MP4-0023_jpg.rf.6eb3ad6ccbabc9d647190d0d13edc035.txt (deflated 78%)\n",
            "  adding: content/Ex-11/Model-segment-evaluation-11/labels/front-left-NO20240903-145141-000845F_MP4-0149_jpg.rf.1f9d9fabedf97e3c8ebcc6faf15d2ffc.txt (deflated 73%)\n",
            "  adding: content/Ex-11/Model-segment-evaluation-11/labels/front-left-NO20240909-144404-000349F_MP4-0030_jpg.rf.688a3858f6bfbe57c7f458cd84a39354.txt (deflated 70%)\n",
            "  adding: content/Ex-11/Model-segment-evaluation-11/labels/front-left-NO20240903-145541-000849F_MP4-0167_jpg.rf.6e6d2c394e9fbdced8ed7d0ddf85d268.txt (deflated 78%)\n",
            "  adding: content/Ex-11/Model-segment-evaluation-11/labels/front-left-NO20240903-145141-000845F_MP4-0096_jpg.rf.d45cb0a360376bc7c5743d309c6ccbc2.txt (deflated 80%)\n",
            "  adding: content/Ex-11/Model-segment-evaluation-11/labels/front-left-NO20240909-145704-000362F_MP4-0162_jpg.rf.0a766830976ba0d1d5847dfbec975fb4.txt (deflated 75%)\n",
            "  adding: content/Ex-11/Model-segment-evaluation-11/labels/front-left-NO20240903-145141-000845F_MP4-0046_jpg.rf.2c2d453f1cda4d6c1433553ee262dfe0.txt (deflated 80%)\n",
            "  adding: content/Ex-11/Model-segment-evaluation-11/labels/front-left-NO20240903-145141-000845F_MP4-0108_jpg.rf.f844292c7f630da507b69711f0b641ce.txt (deflated 76%)\n",
            "  adding: content/Ex-11/Model-segment-evaluation-11/labels/front-left-NO20240903-145141-000845F_MP4-0071_jpg.rf.26b089e981f6e2bb825ed6d8091251ad.txt (deflated 76%)\n",
            "  adding: content/Ex-11/Model-segment-evaluation-11/labels/front-left-NO20240903-145441-000848F_MP4-0025_jpg.rf.59fcd6229e09977325f89a983f39e2d7.txt (deflated 81%)\n",
            "  adding: content/Ex-11/Model-segment-evaluation-11/labels/front-left-NO20240903-145141-000845F_MP4-0099_jpg.rf.90a1a40328a3353aa20e8fc42062e757.txt (deflated 76%)\n",
            "  adding: content/Ex-11/Model-segment-evaluation-11/labels/CarLongPlateGen3719_jpg.rf.cb685e3b8811e4346f8487845c2ed9b8.txt (deflated 49%)\n",
            "  adding: content/Ex-11/Model-segment-evaluation-11/labels/NO20240909-181140-000009F_MP4-0079_jpg.rf.be549aa24425db58eb2b645d7919b0f7.txt (deflated 72%)\n",
            "  adding: content/Ex-11/Model-segment-evaluation-11/labels/front-left-NO20240909-143204-000337F_MP4-0030_jpg.rf.ee3e274eaf403b3dea9f418e690e0ac6.txt (deflated 74%)\n",
            "  adding: content/Ex-11/Model-segment-evaluation-11/labels/NO20240909-181040-000008F_MP4-0198_jpg.rf.70d5618aebd1c0e4e0acb502a8309e3b.txt (deflated 73%)\n",
            "  adding: content/Ex-11/Model-segment-evaluation-11/labels/front-left-NO20240903-145041-000844F_MP4-0182_jpg.rf.e951fdfe7fb59e48f7c41a7f5614ab29.txt (deflated 80%)\n",
            "  adding: content/Ex-11/Model-segment-evaluation-11/labels/front-left-NO20240903-145041-000844F_MP4-0290_jpg.rf.b0ede42b89d66d795ff3129a322799a2.txt (deflated 75%)\n",
            "  adding: content/Ex-11/Model-segment-evaluation-11/labels/front-left-NO20240908-145538-000141F_MP4-0100_jpg.rf.d03ba823907ef7dbc2a680ce9d14e4d0.txt (deflated 81%)\n",
            "  adding: content/Ex-11/Model-segment-evaluation-11/labels/night-front-right-NO20240909-183440-000032F_MP4-0285_jpg.rf.7172e2f84ef4f382a3812123b78c902d.txt (deflated 73%)\n",
            "  adding: content/Ex-11/Model-segment-evaluation-11/labels/front-right-NO20240903-144141-000835F_MP4-0148_jpg.rf.d4b81d583db7bcc1fd1667cd2414d818.txt (deflated 83%)\n",
            "  adding: content/Ex-11/Model-segment-evaluation-11/labels/cars-NO20240914-114048-000222F_MP4-0042_jpg.rf.2fedc2d1a60d7469ca1e3540befb18a9.txt (deflated 81%)\n",
            "  adding: content/Ex-11/Model-segment-evaluation-11/labels/front-left-NO20240903-145541-000849F_MP4-0034_jpg.rf.42be34e083723c484342b2f0fa30e294.txt (deflated 78%)\n",
            "  adding: content/Ex-11/Model-segment-evaluation-11/labels/pic_066_jpg.rf.e431932f8712a24f3269ab29f17c9244.txt (deflated 70%)\n",
            "  adding: content/Ex-11/Model-segment-evaluation-11/labels/front-left-NO20240903-145541-000849F_MP4-0079_jpg.rf.6ce709ed8a3c0581afeedbfbeb9917bf.txt (deflated 77%)\n",
            "  adding: content/Ex-11/Model-segment-evaluation-11/labels/front-left-NO20240903-145541-000849F_MP4-0031_jpg.rf.dfd0c2893c3f0bbbd3c3cecaa1ec83b5.txt (deflated 79%)\n",
            "  adding: content/Ex-11/Model-segment-evaluation-11/labels/front-right-NO20240903-143941-000833F_MP4-0027_jpg.rf.c27ee789baa07ec75c691f5d470dfd08.txt (deflated 79%)\n",
            "  adding: content/Ex-11/Model-segment-evaluation-11/labels/10-s-l400_jpg.rf.3506dd66f6b5db2b650ef26bfab0d30a.txt (deflated 64%)\n",
            "  adding: content/Ex-11/Model-segment-evaluation-11/labels/front-left-NO20240903-145041-000844F_MP4-0169_jpg.rf.98aa0ad2bf82f43208b2d8ce5b5d3c33.txt (deflated 74%)\n",
            "  adding: content/Ex-11/Model-segment-evaluation-11/labels/front-left-NO20240903-145541-000849F_MP4-0003_jpg.rf.c2f3ea6e9cf65a18114fe0e7e9b5af30.txt (deflated 79%)\n",
            "  adding: content/Ex-11/Model-segment-evaluation-11/labels/front-left-NO20240903-145041-000844F_MP4-0213_jpg.rf.db1540078af67c7cce2100fd99a65b46.txt (deflated 80%)\n",
            "  adding: content/Ex-11/Model-segment-evaluation-11/labels/cars-NO20240914-114048-000222F_MP4-0250_jpg.rf.3a995854cc4234f5f8bc0ea1e389cb52.txt (deflated 82%)\n",
            "  adding: content/Ex-11/Model-segment-evaluation-11/labels/front-right-NO20240903-144141-000835F_MP4-0181_jpg.rf.95c4cc1497ce8ec7886a3a7f88e6175f.txt (deflated 71%)\n",
            "  adding: content/Ex-11/Model-segment-evaluation-11/labels/front-left-NO20240909-151104-000376F_MP4-0089_jpg.rf.49721c7c95aa25c58a3ef688a67af637.txt (deflated 75%)\n",
            "  adding: content/Ex-11/Model-segment-evaluation-11/labels/cars-NO20240910-060525-000077F_MP4-0019_jpg.rf.03a30976f844c5e8d239950d3e117142.txt (deflated 84%)\n",
            "  adding: content/Ex-11/Model-segment-evaluation-11/labels/CarLongPlateGen1094_jpg.rf.eddadcc8fc58fb37b2fd82c182fb2233.txt (deflated 46%)\n",
            "  adding: content/Ex-11/Model-segment-evaluation-11/labels/front-left-NO20240903-145041-000844F_MP4-0228_jpg.rf.dd64e4adec19a70fcf097d3a5dfe0d20.txt (deflated 74%)\n",
            "  adding: content/Ex-11/Model-segment-evaluation-11/labels/front-right-NO20240903-143941-000833F_MP4-0246_jpg.rf.2b8b11acf281913dc4f5e95d7b41119f.txt (deflated 73%)\n",
            "  adding: content/Ex-11/Model-segment-evaluation-11/labels/front-left-NO20240903-145141-000845F_MP4-0168_jpg.rf.e545a0e2c4bfd243b30c981937d3e662.txt (deflated 73%)\n",
            "  adding: content/Ex-11/Model-segment-evaluation-11/labels/front-right-NO20240903-144141-000835F_MP4-0280_jpg.rf.78e42b20e51ff4a1b6c0d0ac7419fd80.txt (deflated 86%)\n",
            "  adding: content/Ex-11/Model-segment-evaluation-11/labels/cars-NO20240914-114048-000222F_MP4-0014_jpg.rf.9bda1f69bb1a993cb5dcf5215fcb9854.txt (deflated 79%)\n",
            "  adding: content/Ex-11/Model-segment-evaluation-11/labels/xemay2001_jpg.rf.37404b497c7de1f3b4fff7434baf5841.txt (deflated 60%)\n",
            "  adding: content/Ex-11/Model-segment-evaluation-11/labels/night-front-right-NO20240909-183740-000035F_MP4-0217_jpg.rf.5e1dfa7df8eae75bc13e4a3d2cbdd59b.txt (deflated 75%)\n",
            "  adding: content/Ex-11/Model-segment-evaluation-11/labels/front-left-NO20240903-145141-000845F_MP4-0213_jpg.rf.83efb3aba2ad71540cd0eed52f878502.txt (deflated 79%)\n",
            "  adding: content/Ex-11/Model-segment-evaluation-11/labels/NO20240917-144137-000246F_MP4-0073_jpg.rf.2a41a37587bd89daad5a406d35fbe249.txt (deflated 76%)\n",
            "  adding: content/Ex-11/Model-segment-evaluation-11/labels/front-right-NO20240903-143941-000833F_MP4-0298_jpg.rf.64a3b8d457f34e5211f8a640dd9d06a4.txt (deflated 78%)\n",
            "  adding: content/Ex-11/Model-segment-evaluation-11/labels/CarLongPlate646_jpg.rf.b3ded1c68d6385c11be8f56faf7ea0fa.txt (deflated 49%)\n",
            "  adding: content/Ex-11/Model-segment-evaluation-11/labels/front-right-NO20240903-144041-000834F_MP4-0243_jpg.rf.23e9f5bd3b7152323ee1457a504ecec8.txt (deflated 74%)\n",
            "  adding: content/Ex-11/Model-segment-evaluation-11/labels/26-gro2016_jpg.rf.2ce7bac703505956df661c2969283072.txt (deflated 66%)\n",
            "  adding: content/Ex-11/Model-segment-evaluation-11/labels/front-left-NO20240903-145041-000844F_MP4-0123_jpg.rf.6b6d96eaca94168c3f52c29bef4df83e.txt (deflated 79%)\n",
            "  adding: content/Ex-11/Model-segment-evaluation-11/labels/front-left-NO20240903-145041-000844F_MP4-0200_jpg.rf.e6353188af793440ba655ef416a8f3f8.txt (deflated 75%)\n",
            "  adding: content/Ex-11/Model-segment-evaluation-11/labels/CarLongPlateGen1382_jpg.rf.08d843fd3d5f635a3dd479885005f997.txt (deflated 61%)\n",
            "  adding: content/Ex-11/Model-segment-evaluation-11/labels/front-right-NO20240903-144041-000834F_MP4-0255_jpg.rf.39d0fd91a23a685228e86645f525d367.txt (deflated 80%)\n",
            "  adding: content/Ex-11/Model-segment-evaluation-11/labels/front-right-NO20240909-181240-000010F_MP4-0176_jpg.rf.1aab2dda5fb17762d014cf9f37a77df0.txt (deflated 75%)\n",
            "  adding: content/Ex-11/Model-segment-evaluation-11/labels/front-left-NO20240903-145141-000845F_MP4-0017_jpg.rf.c0b75cab567d8c0e45d606f44ce62c00.txt (deflated 78%)\n",
            "  adding: content/Ex-11/Model-segment-evaluation-11/labels/front-left-NO20240910-064025-000112F_MP4-0080_jpg.rf.8e944d46cf95a808417ab35cd413529a.txt (deflated 77%)\n",
            "  adding: content/Ex-11/Model-segment-evaluation-11/labels/Cars384_png_jpg.rf.d2f8f8fdd4bcb9b350897c16aba86ace.txt (deflated 61%)\n",
            "  adding: content/Ex-11/Model-segment-evaluation-11/labels/front-left-NO20240908-145538-000141F_MP4-0179_jpg.rf.74b69fa5255130cc15da7ff300ce7204.txt (deflated 73%)\n",
            "  adding: content/Ex-11/Model-segment-evaluation-11/labels/front-left-NO20240903-145141-000845F_MP4-0072_jpg.rf.7f4a181baa6a778b9c11d0f23c7614e3.txt (deflated 77%)\n",
            "  adding: content/Ex-11/Model-segment-evaluation-11/labels/front-left-NO20240909-143204-000337F_MP4-0151_jpg.rf.20be28533b9ee32c7ba1821d0f3c4474.txt (deflated 75%)\n",
            "  adding: content/Ex-11/Model-segment-evaluation-11/labels/v3_mp4-0007_jpg.rf.6a6e6c8260161fbf691387b6b6a9740e.txt (deflated 80%)\n",
            "  adding: content/Ex-11/Model-segment-evaluation-11/labels/front-left-NO20240909-144404-000349F_MP4-0275_jpg.rf.008ffb2c3f7887c464ba6d0d8ec38dca.txt (deflated 74%)\n",
            "  adding: content/Ex-11/Model-segment-evaluation-11/labels/front-left-NO20240903-145141-000845F_MP4-0030_jpg.rf.e3b1b2ef0061e3aa7a306029596e4aae.txt (deflated 76%)\n",
            "  adding: content/Ex-11/Model-segment-evaluation-11/labels/front-left-NO20240909-144404-000349F_MP4-0109_jpg.rf.ccf600282886121e28dfa867d2282bab.txt (deflated 73%)\n",
            "  adding: content/Ex-11/Model-segment-evaluation-11/labels/front-left-NO20240909-143204-000337F_MP4-0194_jpg.rf.b117d8d08e5019ddcba82871ccbc38e3.txt (deflated 75%)\n",
            "  adding: content/Ex-11/Model-segment-evaluation-11/labels/NO20240917-144137-000246F_MP4-0011_jpg.rf.7e8acd95c688a3e2c8c23aa7232fbe37.txt (deflated 79%)\n",
            "  adding: content/Ex-11/Model-segment-evaluation-11/labels/front-left-NO20240903-145141-000845F_MP4-0073_jpg.rf.c474b3adff3e8be5349a9d80ad29b00c.txt (deflated 77%)\n",
            "  adding: content/Ex-11/Model-segment-evaluation-11/labels/front-right-NO20240903-144041-000834F_MP4-0224_jpg.rf.d85d4c0bcd2cecef9656d78a7e500c76.txt (deflated 83%)\n",
            "  adding: content/Ex-11/Model-segment-evaluation-11/labels/front-left-NO20240903-145041-000844F_MP4-0174_jpg.rf.39393328f09115717f0127a6ad738c85.txt (deflated 74%)\n",
            "  adding: content/Ex-11/Model-segment-evaluation-11/labels/front-left-NO20240903-145041-000844F_MP4-0166_jpg.rf.d2dd498643c8c0a852ffd899067b4f64.txt (deflated 73%)\n",
            "  adding: content/Ex-11/Model-segment-evaluation-11/labels/front-left-NO20240903-145041-000844F_MP4-0179_jpg.rf.5062b0267d0dd80fc476dc80b6be69f9.txt (deflated 75%)\n",
            "  adding: content/Ex-11/Model-segment-evaluation-11/labels/front-left-NO20240909-145904-000364F_MP4-0168_jpg.rf.5e892c286715326a53b4b052ec7223dc.txt (deflated 74%)\n",
            "  adding: content/Ex-11/Model-segment-evaluation-11/labels/NO20240917-143837-000243F_MP4-0026_jpg.rf.5c4ae770eecdd71052b3796f7bb8face.txt (deflated 82%)\n",
            "  adding: content/Ex-11/Model-segment-evaluation-11/labels/NO20240917-143837-000243F_MP4-0012_jpg.rf.a39c940d72896c9ed9a67a0d465ca2c4.txt (deflated 83%)\n",
            "  adding: content/Ex-11/Model-segment-evaluation-11/labels/v8_mp4-0038_jpg.rf.b80ea400632eeda43f438f654e1044a1.txt (deflated 78%)\n",
            "  adding: content/Ex-11/Model-segment-evaluation-11/labels/night-front-right-NO20240909-183740-000035F_MP4-0201_jpg.rf.68afc374f871be807d78b382af91a649.txt (deflated 75%)\n",
            "  adding: content/Ex-11/Model-segment-evaluation-11/labels/front-left-NO20240903-145141-000845F_MP4-0034_jpg.rf.bebcbfb4ec8194c925a77c6facd62330.txt (deflated 74%)\n",
            "  adding: content/Ex-11/Model-segment-evaluation-11/labels/xemay505_jpg.rf.01ea8992b25b798118bd0bb48a8b530e.txt (deflated 74%)\n",
            "  adding: content/Ex-11/Model-segment-evaluation-11/labels/front-left-NO20240909-150004-000365F_MP4-0048_jpg.rf.7d34e4c8cf59e944e722923f3c8dbcf0.txt (deflated 79%)\n",
            "  adding: content/Ex-11/Model-segment-evaluation-11/labels/front-left-NO20240903-145041-000844F_MP4-0270_jpg.rf.8491214e5ba049804ecbc423486964a7.txt (deflated 77%)\n",
            "  adding: content/Ex-11/Model-segment-evaluation-11/labels/front-right-NO20240903-143941-000833F_MP4-0296_jpg.rf.5fe4f50ca18f66f61d7c7ce48d2b6217.txt (deflated 72%)\n",
            "  adding: content/Ex-11/Model-segment-evaluation-11/labels/front-left-NO20240908-145538-000141F_MP4-0228_jpg.rf.2cf05b55888e2db1e0727f2bec487510.txt (deflated 74%)\n",
            "  adding: content/Ex-11/Model-segment-evaluation-11/labels/front-right-NO20240903-144141-000835F_MP4-0030_jpg.rf.c21903a5e6ca938853bd60802416939f.txt (deflated 79%)\n",
            "  adding: content/Ex-11/Model-segment-evaluation-11/labels/NO20240909-181040-000008F_MP4-0172_jpg.rf.00b2bcad79192f8afa628f1bc648d6ab.txt (deflated 73%)\n",
            "  adding: content/Ex-11/Model-segment-evaluation-11/labels/front-left-NO20240909-150404-000369F_MP4-0118_jpg.rf.c016b7a253246471c3a9fab72e51d1d8.txt (deflated 75%)\n",
            "  adding: content/Ex-11/Model-segment-evaluation-11/labels/front-left-NO20240903-145441-000848F_MP4-0104_jpg.rf.34e330cd1a6839f9f052e856b335d2fa.txt (deflated 79%)\n",
            "  adding: content/Ex-11/Model-segment-evaluation-11/labels/front-left-NO20240903-145141-000845F_MP4-0144_jpg.rf.284dd413ef9d302e847c88ffff56df74.txt (deflated 80%)\n",
            "  adding: content/Ex-11/Model-segment-evaluation-11/labels/front-left-NO20240903-145041-000844F_MP4-0194_jpg.rf.e3f16226b874206fcd2c1152f7eb6a02.txt (deflated 73%)\n",
            "  adding: content/Ex-11/Model-segment-evaluation-11/labels/front-left-NO20240903-145141-000845F_MP4-0132_jpg.rf.a97c2ec9cfc79cdb619c1067c49d1fbf.txt (deflated 76%)\n",
            "  adding: content/Ex-11/Model-segment-evaluation-11/labels/v1_mp4-0033_jpg.rf.ee5c9145ad8dfba79273cdb20d11bb86.txt (deflated 79%)\n",
            "  adding: content/Ex-11/Model-segment-evaluation-11/labels/front-left-NO20240903-145041-000844F_MP4-0126_jpg.rf.d05443addfad04ae1179fc5c5b8388a5.txt (deflated 80%)\n",
            "  adding: content/Ex-11/Model-segment-evaluation-11/labels/front-left-NO20240909-144404-000349F_MP4-0182_jpg.rf.4ad86adb6296cea397c902ae32e9df8c.txt (deflated 75%)\n",
            "  adding: content/Ex-11/Model-segment-evaluation-11/labels/front-left-NO20240903-145441-000848F_MP4-0262_jpg.rf.fd6e2b4fe489a02018a790ab11115a07.txt (deflated 76%)\n",
            "  adding: content/Ex-11/Model-segment-evaluation-11/labels/front-left-NO20240903-145041-000844F_MP4-0277_jpg.rf.1eabd9a573807121953000b3aa93937f.txt (deflated 77%)\n",
            "  adding: content/Ex-11/Model-segment-evaluation-11/labels/front-left-NO20240903-145041-000844F_MP4-0242_jpg.rf.7219df41c1bf1e66f5f247152d2ba5cd.txt (deflated 73%)\n",
            "  adding: content/Ex-11/Model-segment-evaluation-11/labels/front-left-NO20240903-145141-000845F_MP4-0069_jpg.rf.ecb2607e517f5b9694e2f007c4e050f5.txt (deflated 77%)\n",
            "  adding: content/Ex-11/Model-segment-evaluation-11/labels/front-left-NO20240903-145441-000848F_MP4-0249_jpg.rf.9ee7350ff461815df1f7044663f2271b.txt (deflated 79%)\n",
            "  adding: content/Ex-11/Model-segment-evaluation-11/labels/front-right-NO20240903-144141-000835F_MP4-0189_jpg.rf.ddb6d86a876cfb462ae94d3edb325e53.txt (deflated 85%)\n",
            "  adding: content/Ex-11/Model-segment-evaluation-11/labels/front-left-NO20240903-145141-000845F_MP4-0095_jpg.rf.7dcb9f22f1ef7e7e82c74e8862f76d91.txt (deflated 78%)\n",
            "  adding: content/Ex-11/Model-segment-evaluation-11/labels/front-right-NO20240903-144041-000834F_MP4-0037_jpg.rf.f6fd540642e42776b7ebbb8472b185e5.txt (deflated 86%)\n",
            "  adding: content/Ex-11/Model-segment-evaluation-11/labels/front-right-NO20240903-143941-000833F_MP4-0237_jpg.rf.4703430b4b99ea136b37ded7122f84f4.txt (deflated 79%)\n",
            "  adding: content/Ex-11/Model-segment-evaluation-11/labels/front-left-NO20240909-150504-000370F_MP4-0127_jpg.rf.c3a38784e2f750ffa50d251769e51dc4.txt (deflated 78%)\n",
            "  adding: content/Ex-11/Model-segment-evaluation-11/labels/front-left-NO20240903-145041-000844F_MP4-0139_jpg.rf.abbaafa3393ca8d08283584eaac92610.txt (deflated 74%)\n",
            "  adding: content/Ex-11/Model-segment-evaluation-11/labels/cars-NO20240914-114248-000224F_MP4-0066_jpg.rf.7ad15d474461dd807122130b602dbbc1.txt (deflated 78%)\n",
            "  adding: content/Ex-11/Model-segment-evaluation-11/labels/front-left-NO20240903-145441-000848F_MP4-0002_jpg.rf.27839011fd5160f9b45fb20755cdba4d.txt (deflated 75%)\n",
            "  adding: content/Ex-11/Model-segment-evaluation-11/labels/front-left-NO20240909-144104-000346F_MP4-0224_jpg.rf.749d67531bb3b2820935424cd8bcf288.txt (deflated 73%)\n",
            "  adding: content/Ex-11/Model-segment-evaluation-11/labels/NO20240909-181040-000008F_MP4-0247_jpg.rf.3331a90cc0783492c310f806ff44c336.txt (deflated 78%)\n",
            "  adding: content/Ex-11/Model-segment-evaluation-11/labels/boderquandoi48_jpg.rf.a1999f33ff81968f272bd3f82a2b8f62.txt (deflated 72%)\n",
            "  adding: content/Ex-11/Model-segment-evaluation-11/labels/front-right-NO20240903-144141-000835F_MP4-0069_jpg.rf.252eb3e31144320d5cb9950788b4c664.txt (deflated 85%)\n",
            "  adding: content/Ex-11/Model-segment-evaluation-11/labels/front-left-NO20240909-145704-000362F_MP4-0029_jpg.rf.a41e67c9895f33871d78d32e64b90408.txt (deflated 75%)\n",
            "  adding: content/Ex-11/Model-segment-evaluation-11/labels/front-left-NO20240903-145041-000844F_MP4-0185_jpg.rf.657a5bf790793fcc6aca3d72f7885469.txt (deflated 71%)\n",
            "  adding: content/Ex-11/Model-segment-evaluation-11/labels/front-right-NO20240903-144041-000834F_MP4-0259_jpg.rf.1054d739c07093888e66322374557a4f.txt (deflated 73%)\n",
            "  adding: content/Ex-11/Model-segment-evaluation-11/labels/front-left-NO20240909-143204-000337F_MP4-0064_jpg.rf.5ce00ebc20ad1568abf3823a9231c35a.txt (deflated 87%)\n",
            "  adding: content/Ex-11/Model-segment-evaluation-11/labels/front-left-NO20240903-145441-000848F_MP4-0125_jpg.rf.f2599182a14475e829490aec02879996.txt (deflated 77%)\n",
            "  adding: content/Ex-11/Model-segment-evaluation-11/labels/front-left-NO20240903-145141-000845F_MP4-0190_jpg.rf.bc3502b4ea4ea061f1e883350e563f31.txt (deflated 78%)\n",
            "  adding: content/Ex-11/Model-segment-evaluation-11/labels/front-left-NO20240908-145538-000141F_MP4-0150_jpg.rf.9e9b469f5d8dc0a6840dad90b073793a.txt (deflated 72%)\n",
            "  adding: content/Ex-11/Model-segment-evaluation-11/labels/front-left-NO20240908-145538-000141F_MP4-0239_jpg.rf.aac2bf236e74bbcadfc849dfb35f2da3.txt (deflated 74%)\n",
            "  adding: content/Ex-11/Model-segment-evaluation-11/labels/cars-NO20240914-114048-000222F_MP4-0114_jpg.rf.11cd5b1bda76baa6d1958e55434db32a.txt (deflated 80%)\n",
            "  adding: content/Ex-11/Model-segment-evaluation-11/labels/cars-NO20240914-114048-000222F_MP4-0007_jpg.rf.925f0608076110675393890ef486fb5b.txt (deflated 80%)\n",
            "  adding: content/Ex-11/Model-segment-evaluation-11/labels/front-right-NO20240903-144041-000834F_MP4-0068_jpg.rf.e8eb8f47111067ef89a891bb0a47c5e3.txt (deflated 75%)\n",
            "  adding: content/Ex-11/Model-segment-evaluation-11/labels/front-left-NO20240903-145541-000849F_MP4-0001_jpg.rf.575a0f8a8d114d5241a8dc616447b3dd.txt (deflated 78%)\n",
            "  adding: content/Ex-11/Model-segment-evaluation-11/labels/front-left-NO20240903-145041-000844F_MP4-0239_jpg.rf.ffa4cb8676e3cdb0aa92bbdb57a4e6d5.txt (deflated 79%)\n",
            "  adding: content/Ex-11/Model-segment-evaluation-11/labels/cars-NO20240914-112948-000211F_MP4-0058_jpg.rf.fe41ccd4cc934cf38cf16f77289e9495.txt (deflated 77%)\n",
            "  adding: content/Ex-11/Model-segment-evaluation-11/labels/xemay558_jpg.rf.5dd876e2c545ed4b330fee9d26d86cd9.txt (deflated 46%)\n",
            "  adding: content/Ex-11/Model-segment-evaluation-11/labels/front-left-NO20240903-145041-000844F_MP4-0144_jpg.rf.a2e6e18bdb91216b89e65b2b37016166.txt (deflated 77%)\n",
            "  adding: content/Ex-11/Model-segment-evaluation-11/labels/front-left-NO20240903-145541-000849F_MP4-0032_jpg.rf.f7f984143bceff28ef6b723ac50236f1.txt (deflated 77%)\n",
            "  adding: content/Ex-11/Model-segment-evaluation-11/labels/front-left-NO20240908-145538-000141F_MP4-0151_jpg.rf.15e46555d14071c0e7eb020fc29e8b27.txt (deflated 73%)\n",
            "  adding: content/Ex-11/Model-segment-evaluation-11/labels/front-left-NO20240903-145141-000845F_MP4-0015_jpg.rf.2509dc153bcef588cffd4ee49381e685.txt (deflated 78%)\n",
            "  adding: content/Ex-11/Model-segment-evaluation-11/labels/front-right-NO20240903-143941-000833F_MP4-0244_jpg.rf.ea646f2dc36902684ddde0666a4dd3ae.txt (deflated 78%)\n",
            "  adding: content/Ex-11/Model-segment-evaluation-11/labels/v5_mp4-0043_jpg.rf.b4196c96616013ba8e5fb9ccab7289af.txt (deflated 76%)\n",
            "  adding: content/Ex-11/Model-segment-evaluation-11/labels/front-left-NO20240903-145141-000845F_MP4-0127_jpg.rf.a5c13b7f201ea34d18ebf7fd5dc58e6b.txt (deflated 74%)\n",
            "  adding: content/Ex-11/Model-segment-evaluation-11/labels/front-left-NO20240903-145141-000845F_MP4-0047_jpg.rf.a771eed461c87c0f2f6e05692d9d6c9a.txt (deflated 79%)\n",
            "  adding: content/Ex-11/Model-segment-evaluation-11/labels/front-left-NO20240903-145041-000844F_MP4-0218_jpg.rf.dbcb3f6248283edb29bf5850b1a9ea63.txt (deflated 76%)\n",
            "  adding: content/Ex-11/Model-segment-evaluation-11/labels/front-right-NO20240903-143941-000833F_MP4-0097_jpg.rf.7e7046c3e576344c1756c7739c0056d7.txt (deflated 84%)\n",
            "  adding: content/Ex-11/Model-segment-evaluation-11/labels/xemay25_jpg.rf.218290b62b9f2ccba498200be3eb85b5.txt (deflated 46%)\n",
            "  adding: content/Ex-11/Model-segment-evaluation-11/labels/front-right-NO20240903-144041-000834F_MP4-0270_jpg.rf.5205a5d36ec44b5fb1b1928b526ecdbe.txt (deflated 77%)\n",
            "  adding: content/Ex-11/Model-segment-evaluation-11/labels/NO20240917-143837-000243F_MP4-0094_jpg.rf.52c20fcd7319d56b5d73c9df8a3e8af4.txt (deflated 77%)\n",
            "  adding: content/Ex-11/Model-segment-evaluation-11/labels/front-left-NO20240908-145538-000141F_MP4-0119_jpg.rf.b56f80a9144a1286d8d4130b5e4a3d2a.txt (deflated 75%)\n",
            "  adding: content/Ex-11/Model-segment-evaluation-11/labels/front-left-NO20240903-145141-000845F_MP4-0103_jpg.rf.c2d1366e7ffd5cfc05fce9174a218327.txt (deflated 76%)\n",
            "  adding: content/Ex-11/Model-segment-evaluation-11/labels/front-right-NO20240903-143941-000833F_MP4-0125_jpg.rf.90397749634f0fd196bc86361b3523f2.txt (deflated 81%)\n",
            "  adding: content/Ex-11/Model-segment-evaluation-11/labels/night-front-right-NO20240909-183440-000032F_MP4-0164_jpg.rf.e8f6a5c05bb6ae4e4299d1f04d392428.txt (deflated 77%)\n",
            "  adding: content/Ex-11/Model-segment-evaluation-11/labels/xemay2089_jpg.rf.bfe31f0aa88d11abaf0b61ff5d346225.txt (deflated 65%)\n",
            "  adding: content/Ex-11/Model-segment-evaluation-11/labels/front-right-NO20240903-144141-000835F_MP4-0220_jpg.rf.f099cdad443b386cd9cf3dd392c98b79.txt (deflated 77%)\n",
            "  adding: content/Ex-11/Model-segment-evaluation-11/labels/front-right-NO20240903-144041-000834F_MP4-0252_jpg.rf.2292bffaad6cc0c91f46f68b2e520c90.txt (deflated 78%)\n",
            "  adding: content/Ex-11/Model-segment-evaluation-11/labels/cars-NO20240914-112948-000211F_MP4-0028_jpg.rf.ee49bb46cad4961dc7b6bf971302833f.txt (deflated 80%)\n",
            "  adding: content/Ex-11/Model-segment-evaluation-11/labels/front-left-NO20240903-145041-000844F_MP4-0237_jpg.rf.9aa1f3cc73bba476bdb820676e01c5d8.txt (deflated 82%)\n",
            "  adding: content/Ex-11/Model-segment-evaluation-11/labels/front-left-NO20240909-144004-000345F_MP4-0295_jpg.rf.9cb94081d9b2a62ec9abd1baec0705e6.txt (deflated 74%)\n",
            "  adding: content/Ex-11/Model-segment-evaluation-11/labels/CarLongPlateGen3003_jpg.rf.5fb2f9294a3b5b9c797f6b27ccab4eb1.txt (deflated 59%)\n",
            "  adding: content/Ex-11/Model-segment-evaluation-11/labels/front-left-NO20240903-145041-000844F_MP4-0151_jpg.rf.3f22db98e9692ccb674b6029dca2b0ec.txt (deflated 83%)\n",
            "  adding: content/Ex-11/Model-segment-evaluation-11/labels/NO20240917-144137-000246F_MP4-0020_jpg.rf.6558cd2806ebc27792f27d1d9b350c1c.txt (deflated 83%)\n",
            "  adding: content/Ex-11/Model-segment-evaluation-11/labels/front-left-NO20240908-150438-000150F_MP4-0035_jpg.rf.e05e67e3cfadbb6fd9ff0f07248f53a5.txt (deflated 73%)\n",
            "  adding: content/Ex-11/Model-segment-evaluation-11/labels/NO20240917-143737-000242F_MP4-0053_jpg.rf.290d324e0130e513b6ad80e96c37d833.txt (deflated 80%)\n",
            "  adding: content/Ex-11/Model-segment-evaluation-11/labels/front-left-NO20240909-143204-000337F_MP4-0296_jpg.rf.f41f34e5fc209e7544e42ec5ccb00ec5.txt (deflated 74%)\n",
            "  adding: content/Ex-11/Model-segment-evaluation-11/labels/front-left-NO20240903-145141-000845F_MP4-0005_jpg.rf.f8d9e36caee4e08ff31daca15934481a.txt (deflated 77%)\n",
            "  adding: content/Ex-11/Model-segment-evaluation-11/labels/front-right-NO20240903-144141-000835F_MP4-0141_jpg.rf.2c250395df74ae7f8346e7f8616bb0cf.txt (deflated 81%)\n",
            "  adding: content/Ex-11/Model-segment-evaluation-11/labels/cars-NO20240910-060525-000077F_MP4-0120_jpg.rf.c0f554344594cfd3eb41be8b2bcaedbc.txt (deflated 72%)\n",
            "  adding: content/Ex-11/Model-segment-evaluation-11/labels/front-right-NO20240909-181440-000012F_MP4-0033_jpg.rf.00b4c393a7f31b02d06d2e51fffb1d6d.txt (deflated 83%)\n",
            "  adding: content/Ex-11/Model-segment-evaluation-11/labels/NO20240909-181140-000009F_MP4-0159_jpg.rf.468e9d691430b256526bb1484e34f568.txt (deflated 73%)\n",
            "  adding: content/Ex-11/Model-segment-evaluation-11/labels/night-front-right-NO20240909-183540-000033F_MP4-0057_jpg.rf.53e373be65e25feb06aaf68de891ab2d.txt (deflated 73%)\n",
            "  adding: content/Ex-11/Model-segment-evaluation-11/labels/v8_mp4-0035_jpg.rf.f1a785e36aa3440ac9ba02e9886ad34c.txt (deflated 80%)\n",
            "  adding: content/Ex-11/Model-segment-evaluation-11/labels/rotatequandoi91_jpg.rf.0f2d522fc6fae15f85ad2594f4ddde34.txt (deflated 73%)\n",
            "  adding: content/Ex-11/Model-segment-evaluation-11/labels/front-left-NO20240909-144004-000345F_MP4-0174_jpg.rf.808440305b0fe891e1062df7984da116.txt (deflated 75%)\n",
            "  adding: content/Ex-11/Model-segment-evaluation-11/labels/front-left-NO20240908-150138-000147F_MP4-0161_jpg.rf.e4b622f711918e3885d5891fb75065bb.txt (deflated 75%)\n",
            "  adding: content/Ex-11/Model-segment-evaluation-11/labels/front-left-NO20240903-145141-000845F_MP4-0033_jpg.rf.f5da1f091d001f56ef64be94dca91271.txt (deflated 72%)\n",
            "  adding: content/Ex-11/Model-segment-evaluation-11/labels/CarLongPlateGen3251_jpg.rf.b047c7b683eca6a3273ce6160c7f622a.txt (deflated 46%)\n",
            "  adding: content/Ex-11/Model-segment-evaluation-11/labels/front-left-NO20240903-145541-000849F_MP4-0078_jpg.rf.2614a81f94de90eb911e7d85e125290e.txt (deflated 76%)\n",
            "  adding: content/Ex-11/Model-segment-evaluation-11/labels/cars-NO20240914-112948-000211F_MP4-0063_jpg.rf.62640466256f78443066b17d90704417.txt (deflated 78%)\n",
            "  adding: content/Ex-11/Model-segment-evaluation-11/labels/front-left-NO20240903-145041-000844F_MP4-0177_jpg.rf.ebf78ca704a15febb44bb9017e341e53.txt (deflated 74%)\n",
            "  adding: content/Ex-11/Model-segment-evaluation-11/labels/NO20240917-144137-000246F_MP4-0033_jpg.rf.69ec4c21dd3833cbf7c4beb60c70bd66.txt (deflated 82%)\n",
            "  adding: content/Ex-11/Model-segment-evaluation-11/labels/CarLongPlate396_jpg.rf.cd87fa88032779bd810553b559383a4d.txt (deflated 47%)\n",
            "  adding: content/Ex-11/Model-segment-evaluation-11/labels/front-right-NO20240903-143941-000833F_MP4-0060_jpg.rf.96341cebc958c807aa9e6502d6500fa8.txt (deflated 74%)\n",
            "  adding: content/Ex-11/Model-segment-evaluation-11/labels/front-left-NO20240909-145704-000362F_MP4-0000_jpg.rf.791808a554f3422176200ddd57882abc.txt (deflated 75%)\n",
            "  adding: content/Ex-11/Model-segment-evaluation-11/labels/front-left-NO20240903-145541-000849F_MP4-0173_jpg.rf.eb2d691e0df904d73311db164b16bbdb.txt (deflated 75%)\n",
            "  adding: content/Ex-11/Model-segment-evaluation-11/labels/cars-NO20240914-114048-000222F_MP4-0090_jpg.rf.cea2f37e95e1d49e16b041b7695214ef.txt (deflated 83%)\n",
            "  adding: content/Ex-11/Model-segment-evaluation-11/labels/v7_mp4-0026_jpg.rf.5975e5f35de7af05bdd3721529cddc24.txt (deflated 74%)\n",
            "  adding: content/Ex-11/Model-segment-evaluation-11/labels/front-right-NO20240903-144041-000834F_MP4-0143_jpg.rf.72fe755e2ef48c3360d3bd6f9ce73c03.txt (deflated 81%)\n",
            "  adding: content/Ex-11/Model-segment-evaluation-11/labels/v7_mp4-0003_jpg.rf.ca9dffb8b208e830b50b856d87b8979b.txt (deflated 78%)\n",
            "  adding: content/Ex-11/Model-segment-evaluation-11/labels/front-left-NO20240903-145141-000845F_MP4-0254_jpg.rf.9924d8b48a8486fd9b1100caea297d78.txt (deflated 83%)\n",
            "  adding: content/Ex-11/Model-segment-evaluation-11/labels/v5_mp4-0012_jpg.rf.724992516f6e4c820cbe1dd963e5fe0e.txt (deflated 80%)\n",
            "  adding: content/Ex-11/Model-segment-evaluation-11/labels/front-left-NO20240903-145541-000849F_MP4-0023_jpg.rf.6ad3b9ce678701386d5680688b0a5426.txt (deflated 76%)\n",
            "  adding: content/Ex-11/Model-segment-evaluation-11/labels/front-left-NO20240909-143304-000338F_MP4-0198_jpg.rf.e2ed70d5546a4057ce2ab2ac9cfbd35d.txt (deflated 74%)\n",
            "  adding: content/Ex-11/Model-segment-evaluation-11/labels/chery-cross_MP4-0011_jpg.rf.20c55b5ba1afc4c85001eae783691569.txt (deflated 75%)\n",
            "  adding: content/Ex-11/Model-segment-evaluation-11/labels/front-right-NO20240903-143941-000833F_MP4-0019_jpg.rf.c136ae27ac959ac393a8d84b53cc5009.txt (deflated 80%)\n",
            "  adding: content/Ex-11/Model-segment-evaluation-11/labels/front-left-NO20240909-143204-000337F_MP4-0168_jpg.rf.7d5e146fb13056235f2c4a1cb157427e.txt (deflated 75%)\n",
            "  adding: content/Ex-11/Model-segment-evaluation-11/labels/front-right-NO20240903-144141-000835F_MP4-0223_jpg.rf.aa5b67942c4d2299408f94bd18472385.txt (deflated 83%)\n",
            "  adding: content/Ex-11/Model-segment-evaluation-11/labels/xemay275_jpg.rf.8c0ca10201bd4da28a93efc63b9989ff.txt (deflated 47%)\n",
            "  adding: content/Ex-11/Model-segment-evaluation-11/labels/front-left-NO20240903-145041-000844F_MP4-0148_jpg.rf.1dd6abdd6fa94e8720cb10db19c20912.txt (deflated 80%)\n",
            "  adding: content/Ex-11/Model-segment-evaluation-11/labels/NO20240909-181040-000008F_MP4-0298_jpg.rf.44dca4e36905a361f7d01481410f5dbf.txt (deflated 76%)\n",
            "  adding: content/Ex-11/Model-segment-evaluation-11/labels/front-right-NO20240903-144141-000835F_MP4-0204_jpg.rf.23f004ff6a1184e1446900787fe1687b.txt (deflated 81%)\n",
            "  adding: content/Ex-11/Model-segment-evaluation-11/labels/front-left-NO20240903-145541-000849F_MP4-0030_jpg.rf.e5baf43bda70a85a16d9c6d9f1187847.txt (deflated 77%)\n",
            "  adding: content/Ex-11/Model-segment-evaluation-11/labels/v3_mp4-0040_jpg.rf.ef65a144f413e141850c02f14e774417.txt (deflated 83%)\n",
            "  adding: content/Ex-11/Model-segment-evaluation-11/labels/front-left-NO20240909-143204-000337F_MP4-0023_jpg.rf.d1d6c816ce599027372e914ff506b831.txt (deflated 73%)\n",
            "  adding: content/Ex-11/Model-segment-evaluation-11/labels/front-left-NO20240909-145804-000363F_MP4-0016_jpg.rf.843d7aaeaa9d1277abf0169285a0fba2.txt (deflated 73%)\n",
            "  adding: content/Ex-11/Model-segment-evaluation-11/labels/xemay2141_jpg.rf.e678f4d76f4bfac17f5db7f21a03d8f5.txt (deflated 47%)\n",
            "  adding: content/Ex-11/Model-segment-evaluation-11/labels/front-left-NO20240903-145141-000845F_MP4-0083_jpg.rf.930572e5c0f14b356d8c16ab64729745.txt (deflated 80%)\n",
            "  adding: content/Ex-11/Model-segment-evaluation-11/labels/xemay1344_jpg.rf.80d006dc007d139fddab931fc285ddec.txt (deflated 47%)\n",
            "  adding: content/Ex-11/Model-segment-evaluation-11/labels/front-right-NO20240909-181440-000012F_MP4-0012_jpg.rf.8a9d8afe8fbc1ed5b95613430ea01e11.txt (deflated 77%)\n",
            "  adding: content/Ex-11/Model-segment-evaluation-11/labels/front-left-NO20240909-150504-000370F_MP4-0266_jpg.rf.34f656733aab57b5e54fd8a8c7080849.txt (deflated 76%)\n",
            "  adding: content/Ex-11/Model-segment-evaluation-11/labels/NO20240917-143737-000242F_MP4-0033_jpg.rf.f6798d6b6e8854044a1f561a73a44696.txt (deflated 85%)\n",
            "  adding: content/Ex-11/Model-segment-evaluation-11/labels/front-left-NO20240903-145541-000849F_MP4-0170_jpg.rf.e402a74e0e11a1085fa319011207f8f7.txt (deflated 79%)\n",
            "  adding: content/Ex-11/Model-segment-evaluation-11/labels/front-right-NO20240903-144041-000834F_MP4-0266_jpg.rf.a3fcf66326845ee98f62b893abcbf139.txt (deflated 84%)\n",
            "  adding: content/Ex-11/Model-segment-evaluation-11/labels/cars-NO20240914-112948-000211F_MP4-0084_jpg.rf.7d761ed0f664f10173d3b1c0d102b780.txt (deflated 79%)\n",
            "  adding: content/Ex-11/Model-segment-evaluation-11/labels/CarLongPlate412_jpg.rf.7a2245fdd11c60239095b6b0d37d0329.txt (deflated 56%)\n",
            "  adding: content/Ex-11/Model-segment-evaluation-11/labels/front-right-NO20240903-143941-000833F_MP4-0118_jpg.rf.8480bcc17b6bcee72aeaf3729e5dcce4.txt (deflated 75%)\n",
            "  adding: content/Ex-11/Model-segment-evaluation-11/labels/front-right-NO20240903-143941-000833F_MP4-0236_jpg.rf.c376c3080fc226457342d304cf871ee3.txt (deflated 79%)\n",
            "  adding: content/Ex-11/Model-segment-evaluation-11/labels/NO20240917-143737-000242F_MP4-0026_jpg.rf.b04c1c4f3cb5fce451097779c3fcfc2c.txt (deflated 81%)\n",
            "  adding: content/Ex-11/Model-segment-evaluation-11/labels/front-right-NO20240903-143941-000833F_MP4-0144_jpg.rf.bf650030097665b7dc5e61bf2801408f.txt (deflated 76%)\n",
            "  adding: content/Ex-11/Model-segment-evaluation-11/labels/front-left-NO20240903-145041-000844F_MP4-0170_jpg.rf.d19a950f6c64a5c573f7ee369f41171a.txt (deflated 74%)\n",
            "  adding: content/Ex-11/Model-segment-evaluation-11/labels/front-left-NO20240903-145541-000849F_MP4-0175_jpg.rf.11e3b978dcc7af59386ada5c2dad13c0.txt (deflated 76%)\n",
            "  adding: content/Ex-11/Model-segment-evaluation-11/labels/CarLongPlateGen3250_jpg.rf.c687a22ad5d596c2ec8f8a08d1c10ac2.txt (deflated 47%)\n",
            "  adding: content/Ex-11/Model-segment-evaluation-11/labels/NO20240917-143837-000243F_MP4-0108_jpg.rf.27f13ea123f621e424979b65d4516fc8.txt (deflated 80%)\n",
            "  adding: content/Ex-11/Model-segment-evaluation-11/labels/front-left-NO20240903-145041-000844F_MP4-0183_jpg.rf.a8df6a70b4e7c979dc6dc69280f1367b.txt (deflated 73%)\n",
            "  adding: content/Ex-11/Model-segment-evaluation-11/labels/front-left-NO20240903-145141-000845F_MP4-0031_jpg.rf.4c0f6b6abdd5d6ff122ec9568cab7df7.txt (deflated 75%)\n",
            "  adding: content/Ex-11/Model-segment-evaluation-11/labels/front-left-NO20240903-145441-000848F_MP4-0117_jpg.rf.b94d8dae582818b7d50649aa50f6cb07.txt (deflated 76%)\n",
            "  adding: content/Ex-11/Model-segment-evaluation-11/labels/front-left-NO20240909-143204-000337F_MP4-0070_jpg.rf.969affed94a77dfb206b938e2be374f6.txt (deflated 73%)\n",
            "  adding: content/Ex-11/Model-segment-evaluation-11/labels/pic_650_jpg.rf.fde3379261f5261bd6fd45bbd08bb527.txt (deflated 55%)\n",
            "  adding: content/Ex-11/Model-segment-evaluation-11/labels/front-left-NO20240903-145541-000849F_MP4-0066_jpg.rf.4fb933a7b37a697ed2daae8e6dd6aeb1.txt (deflated 76%)\n",
            "  adding: content/Ex-11/Model-segment-evaluation-11/labels/night-front-right-NO20240909-183440-000032F_MP4-0070_jpg.rf.082b2c046b9cc013eebbdc030fcb2e0e.txt (deflated 78%)\n",
            "  adding: content/Ex-11/Model-segment-evaluation-11/labels/front-left-NO20240903-145441-000848F_MP4-0265_jpg.rf.37c228fd868be49b474c78bb8d8bed48.txt (deflated 80%)\n",
            "  adding: content/Ex-11/Model-segment-evaluation-11/labels/front-left-NO20240903-145041-000844F_MP4-0244_jpg.rf.4202a8af1a35ceb1e66ab38357ef22b8.txt (deflated 71%)\n",
            "  adding: content/Ex-11/Model-segment-evaluation-11/labels/front-left-NO20240909-145904-000364F_MP4-0101_jpg.rf.e6b51d6d46d8661c66ae467d003f139f.txt (deflated 75%)\n",
            "  adding: content/Ex-11/Model-segment-evaluation-11/labels/front-left-NO20240909-150404-000369F_MP4-0258_jpg.rf.770da38cdfa8151edba29bb435262abb.txt (deflated 76%)\n",
            "  adding: content/Ex-11/Model-segment-evaluation-11/labels/front-left-NO20240903-145041-000844F_MP4-0287_jpg.rf.3944dfc04f5bd6a8d7151bb1e58c4d6b.txt (deflated 78%)\n",
            "  adding: content/Ex-11/Model-segment-evaluation-11/labels/front-left-NO20240903-145441-000848F_MP4-0257_jpg.rf.2d1ce4ca3db5c8de1bc1e22c6bacc8de.txt (deflated 80%)\n",
            "  adding: content/Ex-11/Model-segment-evaluation-11/labels/front-left-NO20240909-143404-000339F_MP4-0011_jpg.rf.a2a28b809acccd5b07385c77698c031e.txt (deflated 74%)\n",
            "  adding: content/Ex-11/Model-segment-evaluation-11/labels/front-right-NO20240903-143941-000833F_MP4-0247_jpg.rf.5f5a04313f3a8ff1e277072519a9b3e6.txt (deflated 76%)\n",
            "  adding: content/Ex-11/Model-segment-evaluation-11/labels/v2-p2_mp4-0000_jpg.rf.c47ae3c9e9cb909d42f774f760315436.txt (deflated 83%)\n",
            "  adding: content/Ex-11/Model-segment-evaluation-11/labels/cars-NO20240914-114048-000222F_MP4-0088_jpg.rf.577626ff2af704153bfa698d3817bfda.txt (deflated 82%)\n",
            "  adding: content/Ex-11/Model-segment-evaluation-11/labels/front-left-NO20240909-144004-000345F_MP4-0037_jpg.rf.8e300d8e5e287b11242768497475185d.txt (deflated 72%)\n",
            "  adding: content/Ex-11/Model-segment-evaluation-11/labels/front-right-NO20240903-144041-000834F_MP4-0231_jpg.rf.56f2130359a1e0681fb0e494691d87ca.txt (deflated 81%)\n",
            "  adding: content/Ex-11/Model-segment-evaluation-11/labels/front-right-NO20240909-181340-000011F_MP4-0068_jpg.rf.8ccc2fa71210c9c6b16c91fddcc1d08c.txt (deflated 73%)\n",
            "  adding: content/Ex-11/Model-segment-evaluation-11/labels/v8_mp4-0034_jpg.rf.a8edc15eb17678474fa13042e73b15b0.txt (deflated 81%)\n",
            "  adding: content/Ex-11/Model-segment-evaluation-11/labels/front-right-NO20240903-144141-000835F_MP4-0121_jpg.rf.90d1b2bb0bbf0d5ff9b016cb5f468110.txt (deflated 83%)\n",
            "  adding: content/Ex-11/Model-segment-evaluation-11/labels/front-right-NO20240903-144041-000834F_MP4-0061_jpg.rf.37283179f5625f7b92b866a9f5321114.txt (deflated 74%)\n",
            "  adding: content/Ex-11/Model-segment-evaluation-11/labels/front-left-NO20240903-145141-000845F_MP4-0097_jpg.rf.01407fd59c78065c34f07a84f623d167.txt (deflated 78%)\n",
            "  adding: content/Ex-11/Model-segment-evaluation-11/labels/front-left-NO20240903-145541-000849F_MP4-0149_jpg.rf.4ccf28adbb73c68add3f8a938d4e7cea.txt (deflated 80%)\n",
            "  adding: content/Ex-11/Model-segment-evaluation-11/labels/night-front-right-NO20240909-183440-000032F_MP4-0195_jpg.rf.60034fc44dcc3e03996b1d147b266d93.txt (deflated 75%)\n",
            "  adding: content/Ex-11/Model-segment-evaluation-11/labels/front-left-NO20240903-145041-000844F_MP4-0208_jpg.rf.c985f3f67adab3c7031a6afcbed8de37.txt (deflated 77%)\n",
            "  adding: content/Ex-11/Model-segment-evaluation-11/labels/cars-NO20240914-114048-000222F_MP4-0184_jpg.rf.97e40dc59b75305945cf76f858d3c79c.txt (deflated 79%)\n",
            "  adding: content/Ex-11/Model-segment-evaluation-11/labels/front-right-NO20240903-143941-000833F_MP4-0010_jpg.rf.c070182fb63877f41823a1847aba1b9a.txt (deflated 87%)\n",
            "  adding: content/Ex-11/Model-segment-evaluation-11/labels/front-left-NO20240908-145538-000141F_MP4-0117_jpg.rf.4286d2113457327d7b2435cf8fe92441.txt (deflated 79%)\n",
            "  adding: content/Ex-11/Model-segment-evaluation-11/labels/front-left-NO20240903-145141-000845F_MP4-0139_jpg.rf.cd0aea97caf1e06ce4d999470a338868.txt (deflated 73%)\n",
            "  adding: content/Ex-11/Model-segment-evaluation-11/labels/front-left-NO20240903-145441-000848F_MP4-0245_jpg.rf.4529f1caeceb2c34c356ff8de787fe86.txt (deflated 80%)\n",
            "  adding: content/Ex-11/Model-segment-evaluation-11/labels/front-right-NO20240903-144141-000835F_MP4-0237_jpg.rf.539e4a7ca63447ddf1f4117cae4f80d9.txt (deflated 84%)\n",
            "  adding: content/Ex-11/Model-segment-evaluation-11/labels/v1_mp4-0039_jpg.rf.cb1f0026a148328bacde1b411fa91687.txt (deflated 75%)\n",
            "  adding: content/Ex-11/Model-segment-evaluation-11/labels/front-left-NO20240909-150504-000370F_MP4-0255_jpg.rf.02e33a2e2f96cc0fdc75702660714231.txt (deflated 76%)\n",
            "  adding: content/Ex-11/Model-segment-evaluation-11/labels/night-front-right-NO20240909-183640-000034F_MP4-0056_jpg.rf.84a2e88a4fd6ccb97a0fdf542f69984b.txt (deflated 76%)\n",
            "  adding: content/Ex-11/Model-segment-evaluation-11/labels/v5_mp4-0009_jpg.rf.c5f0fe21eb7478249e00bfb4f8eebcba.txt (deflated 76%)\n",
            "  adding: content/Ex-11/Model-segment-evaluation-11/labels/front-left-NO20240903-145041-000844F_MP4-0210_jpg.rf.57769758c01909bba3ee8a936818c434.txt (deflated 82%)\n",
            "  adding: content/Ex-11/Model-segment-evaluation-11/labels/front-left-NO20240909-145904-000364F_MP4-0142_jpg.rf.9365efac7483254113b660b2c9c31c76.txt (deflated 73%)\n",
            "  adding: content/Ex-11/Model-segment-evaluation-11/labels/front-left-NO20240909-151104-000376F_MP4-0137_jpg.rf.aa9cb25464922d566e00e60da38a719e.txt (deflated 76%)\n",
            "  adding: content/Ex-11/Model-segment-evaluation-11/labels/front-left-NO20240903-145041-000844F_MP4-0191_jpg.rf.99a456b1ce67b9101973ce50e2744e27.txt (deflated 72%)\n",
            "  adding: content/Ex-11/Model-segment-evaluation-11/labels/front-left-NO20240909-143404-000339F_MP4-0044_jpg.rf.5766c8b79628c217c51d0c538a946ca6.txt (deflated 73%)\n",
            "  adding: content/Ex-11/Model-segment-evaluation-11/labels/front-left-NO20240903-145041-000844F_MP4-0152_jpg.rf.30ea5e6d17a1120b67fc9e6a608e0952.txt (deflated 82%)\n",
            "  adding: content/Ex-11/Model-segment-evaluation-11/labels/front-right-NO20240909-181540-000013F_MP4-0025_jpg.rf.b0e9e998c7b0becf5927bfb70c5e5e4d.txt (deflated 78%)\n",
            "  adding: content/Ex-11/Model-segment-evaluation-11/labels/front-right-NO20240903-144041-000834F_MP4-0002_jpg.rf.fdfd5edcccedf3a50d09893256202e43.txt (deflated 80%)\n",
            "  adding: content/Ex-11/Model-segment-evaluation-11/labels/front-left-NO20240908-150138-000147F_MP4-0010_jpg.rf.e99380f73630be62ea7a4aeb0745c3cb.txt (deflated 75%)\n",
            "  adding: content/Ex-11/Model-segment-evaluation-11/labels/cars-NO20240914-114048-000222F_MP4-0252_jpg.rf.777657fe6cfe4e9550f418b664bd1814.txt (deflated 80%)\n",
            "  adding: content/Ex-11/Model-segment-evaluation-11/labels/xemay1353_jpg.rf.9d6dfcba7efe7085bce7149bfc3cb3c0.txt (deflated 46%)\n",
            "  adding: content/Ex-11/Model-segment-evaluation-11/labels/night-front-right-NO20240909-183140-000029F_MP4-0162_jpg.rf.dcc8b65833cff4a4c253a24d09b0d012.txt (deflated 73%)\n",
            "  adding: content/Ex-11/Model-segment-evaluation-11/labels/front-right-NO20240903-143941-000833F_MP4-0219_jpg.rf.73c0db786dcce2d38c37abead6aaa22e.txt (deflated 78%)\n",
            "  adding: content/Ex-11/Model-segment-evaluation-11/labels/front-left-NO20240909-144004-000345F_MP4-0039_jpg.rf.5f1f365d9bd96ae8001f0637e70ff2f2.txt (deflated 73%)\n",
            "  adding: content/Ex-11/Model-segment-evaluation-11/labels/front-right-NO20240909-181640-000014F_MP4-0059_jpg.rf.3497e9b319bc9395987fdfc63dca4a8d.txt (deflated 75%)\n",
            "  adding: content/Ex-11/Model-segment-evaluation-11/labels/front-right-NO20240903-143941-000833F_MP4-0159_jpg.rf.4eaf92d5504568b3df1a8fc3df974d12.txt (deflated 76%)\n",
            "  adding: content/Ex-11/Model-segment-evaluation-11/labels/CarLongPlateGen3254_jpg.rf.1d359955567e26152dc3530549911ed6.txt (deflated 56%)\n",
            "  adding: content/Ex-11/Model-segment-evaluation-11/labels/xemay1676_jpg.rf.b2f2da9be4a8096380d56c21ddf41ed5.txt (deflated 46%)\n",
            "  adding: content/Ex-11/Model-segment-evaluation-11/labels/front-right-NO20240903-144141-000835F_MP4-0155_jpg.rf.9dbc98aac9ea2f279fcc1ee507c7cdf5.txt (deflated 83%)\n",
            "  adding: content/Ex-11/Model-segment-evaluation-11/labels/front-right-NO20240909-181340-000011F_MP4-0050_jpg.rf.54c6968c3c16d72ac95aff16071d8625.txt (deflated 72%)\n",
            "  adding: content/Ex-11/Model-segment-evaluation-11/labels/front-right-NO20240903-144141-000835F_MP4-0264_jpg.rf.943c36b412e380fed2547288b10ef9fb.txt (deflated 83%)\n",
            "  adding: content/Ex-11/Model-segment-evaluation-11/labels/front-left-NO20240903-145041-000844F_MP4-0165_jpg.rf.2cf2fa2dd5771739e006ed22f6ca980e.txt (deflated 78%)\n",
            "  adding: content/Ex-11/Model-segment-evaluation-11/labels/front-left-NO20240910-064025-000112F_MP4-0086_jpg.rf.941b95a6f4cd4f0b98dc2958ffae6e1f.txt (deflated 76%)\n",
            "  adding: content/Ex-11/Model-segment-evaluation-11/labels/front-right-NO20240903-144141-000835F_MP4-0138_jpg.rf.087297dfb8329144bd8bc5105259f78e.txt (deflated 76%)\n",
            "  adding: content/Ex-11/Model-segment-evaluation-11/labels/front-left-NO20240903-145141-000845F_MP4-0057_jpg.rf.caf37e23bc857fd73f1a9da34a9199c8.txt (deflated 77%)\n",
            "  adding: content/Ex-11/Model-segment-evaluation-11/labels/front-right-NO20240903-144141-000835F_MP4-0290_jpg.rf.9c173f7dc6e28e3aea0f41c2d092b158.txt (deflated 74%)\n",
            "  adding: content/Ex-11/Model-segment-evaluation-11/labels/front-left-NO20240908-145938-000145F_MP4-0078_jpg.rf.1d811382d4ddd66157137c7290a47c81.txt (deflated 76%)\n",
            "  adding: content/Ex-11/Model-segment-evaluation-11/labels/front-left-NO20240909-143204-000337F_MP4-0141_jpg.rf.5b74ce99b331f816414cac8c5ca5f4ea.txt (deflated 83%)\n",
            "  adding: content/Ex-11/Model-segment-evaluation-11/labels/NO20240909-181040-000008F_MP4-0070_jpg.rf.6247346c86078f36ae3cb0a982436706.txt (deflated 76%)\n",
            "  adding: content/Ex-11/Model-segment-evaluation-11/labels/front-left-NO20240903-145141-000845F_MP4-0113_jpg.rf.5630b77e21e5989c46cdba8796c59398.txt (deflated 76%)\n",
            "  adding: content/Ex-11/Model-segment-evaluation-11/labels/front-left-NO20240903-145541-000849F_MP4-0165_jpg.rf.76d0a101cb0b0d532fd660348bbf9ee8.txt (deflated 75%)\n",
            "  adding: content/Ex-11/Model-segment-evaluation-11/labels/pic_291_jpg.rf.2841e09d3857ece80ca86b71bcafda1f.txt (deflated 49%)\n",
            "  adding: content/Ex-11/Model-segment-evaluation-11/labels/front-left-NO20240909-143304-000338F_MP4-0193_jpg.rf.69d0535f37aaadd5fe9cffc254512e75.txt (deflated 74%)\n",
            "  adding: content/Ex-11/Model-segment-evaluation-11/labels/front-left-NO20240903-145041-000844F_MP4-0282_jpg.rf.aad59525e91ad12a9c1c12f2c5529576.txt (deflated 74%)\n",
            "  adding: content/Ex-11/Model-segment-evaluation-11/labels/front-left-NO20240903-145141-000845F_MP4-0023_jpg.rf.0c1456237b3a6d7601b4e08f5e43d366.txt (deflated 79%)\n",
            "  adding: content/Ex-11/Model-segment-evaluation-11/labels/NO20240917-143837-000243F_MP4-0067_jpg.rf.2b5e114a371d7228df82d1cc14ecd80f.txt (deflated 85%)\n",
            "  adding: content/Ex-11/Model-segment-evaluation-11/labels/cars-NO20240914-112948-000211F_MP4-0070_jpg.rf.2c699b11dd739e447c9ea91ad5f8fa18.txt (deflated 75%)\n",
            "  adding: content/Ex-11/Model-segment-evaluation-11/labels/front-left-NO20240903-145041-000844F_MP4-0230_jpg.rf.17e66aa2de083a650b6972815b0c4887.txt (deflated 74%)\n",
            "  adding: content/Ex-11/Model-segment-evaluation-11/labels/front-left-NO20240909-150404-000369F_MP4-0070_jpg.rf.98240676dbdc8eb5f76f81b190375a23.txt (deflated 76%)\n",
            "  adding: content/Ex-11/Model-segment-evaluation-11/labels/front-right-NO20240903-144141-000835F_MP4-0254_jpg.rf.1c2543e78b574d20a5445f702d6d41dc.txt (deflated 76%)\n",
            "  adding: content/Ex-11/Model-segment-evaluation-11/labels/cars-NO20240910-060525-000077F_MP4-0015_jpg.rf.88a0953c4fb31ca2ee614fe2978f5595.txt (deflated 82%)\n",
            "  adding: content/Ex-11/Model-segment-evaluation-11/labels/front-left-NO20240908-150438-000150F_MP4-0018_jpg.rf.d9634454b77043fc14503b351ba176fa.txt (deflated 75%)\n",
            "  adding: content/Ex-11/Model-segment-evaluation-11/labels/CarLongPlateGen674_jpg.rf.cfe0b3d73f46d5ccc7205d855f774fd2.txt (deflated 70%)\n",
            "  adding: content/Ex-11/Model-segment-evaluation-11/labels/front-right-NO20240903-144041-000834F_MP4-0107_jpg.rf.2c8e285da6d14116d592659d894ad2d8.txt (deflated 74%)\n",
            "  adding: content/Ex-11/Model-segment-evaluation-11/labels/CarLongPlateGen3758_jpg.rf.af0b3a7f5330d0f4053c26394d07c36d.txt (deflated 49%)\n",
            "  adding: content/Ex-11/Model-segment-evaluation-11/labels/front-left-NO20240903-145141-000845F_MP4-0171_jpg.rf.c0ee8c8f2926695432fca088189533a5.txt (deflated 76%)\n",
            "  adding: content/Ex-11/Model-segment-evaluation-11/labels/front-right-NO20240903-144141-000835F_MP4-0029_jpg.rf.40dd4da9433511098e023893a4afce54.txt (deflated 79%)\n",
            "  adding: content/Ex-11/Model-segment-evaluation-11/labels/v1_mp4-0026_jpg.rf.6ba356422a992c7eaa8b6286230c44f6.txt (deflated 80%)\n",
            "  adding: content/Ex-11/Model-segment-evaluation-11/labels/front-right-NO20240903-144041-000834F_MP4-0114_jpg.rf.b8035606d0fdca528c2221e96ae318e9.txt (deflated 75%)\n",
            "  adding: content/Ex-11/Model-segment-evaluation-11/labels/NO20240917-143837-000243F_MP4-0009_jpg.rf.c499ff3a51ca9bf2f6dbc8f5bfadead0.txt (deflated 77%)\n",
            "  adding: content/Ex-11/Model-segment-evaluation-11/labels/xemay2333_jpg.rf.ce89d3cb6cad0785f0987d03e3bae6db.txt (deflated 62%)\n",
            "  adding: content/Ex-11/Model-segment-evaluation-11/labels/xemay2045_jpg.rf.fa6a9e677b5826734a8ebbeea93fb4ae.txt (deflated 69%)\n",
            "  adding: content/Ex-11/Model-segment-evaluation-11/labels/v3_mp4-0034_jpg.rf.da4f049f58b6aac1da8a404e6b856b8c.txt (deflated 73%)\n",
            "  adding: content/Ex-11/Model-segment-evaluation-11/labels/CarLongPlateGen956_jpg.rf.ed0cf78945b1b5d67455c38167c939a2.txt (deflated 66%)\n",
            "  adding: content/Ex-11/Model-segment-evaluation-11/labels/front-left-NO20240909-151004-000375F_MP4-0060_jpg.rf.dcb6c66f1dbb1a886e8cf86b18d55d96.txt (deflated 75%)\n",
            "  adding: content/Ex-11/Model-segment-evaluation-11/labels/front-right-NO20240903-143941-000833F_MP4-0126_jpg.rf.e68b4b758b9d8c5debbc13af701fc6a2.txt (deflated 81%)\n",
            "  adding: content/Ex-11/Model-segment-evaluation-11/labels/CarLongPlateGen3649_jpg.rf.a629466a933ff928a66f4cc44db70124.txt (deflated 65%)\n",
            "  adding: content/Ex-11/Model-segment-evaluation-11/labels/front-left-NO20240909-150504-000370F_MP4-0000_jpg.rf.1a41678bbd2cf011e62f345e1c4221e4.txt (deflated 76%)\n",
            "  adding: content/Ex-11/Model-segment-evaluation-11/labels/Cars140_png_jpg.rf.98a1744ddb8f568093af2fbe81d1f828.txt (deflated 65%)\n",
            "  adding: content/Ex-11/Model-segment-evaluation-11/labels/front-left-NO20240909-143904-000344F_MP4-0238_jpg.rf.34e0e139fe620b0d5aab14449168a36e.txt (deflated 81%)\n",
            "  adding: content/Ex-11/Model-segment-evaluation-11/labels/front-left-NO20240903-145141-000845F_MP4-0247_jpg.rf.e185f4be737bb71cc1723844323287bb.txt (deflated 82%)\n",
            "  adding: content/Ex-11/Model-segment-evaluation-11/labels/v1_mp4-0043_jpg.rf.6121e71e7513a89ea663d704eac783ea.txt (deflated 82%)\n",
            "  adding: content/Ex-11/Model-segment-evaluation-11/labels/front-left-NO20240903-145541-000849F_MP4-0056_jpg.rf.53a301d3095eee4cb0bd6ffb52864195.txt (deflated 78%)\n",
            "  adding: content/Ex-11/Model-segment-evaluation-11/labels/cars-NO20240914-114048-000222F_MP4-0049_jpg.rf.ec7cadac4f8b458b5f73a469b2d745f8.txt (deflated 83%)\n",
            "  adding: content/Ex-11/Model-segment-evaluation-11/labels/front-left-NO20240903-145541-000849F_MP4-0148_jpg.rf.16be05aa4277d5018768af29139b14e5.txt (deflated 79%)\n",
            "  adding: content/Ex-11/Model-segment-evaluation-11/labels/front-left-NO20240903-145541-000849F_MP4-0166_jpg.rf.2f2c564d0c3e6cf27ee739990a2c0d10.txt (deflated 75%)\n",
            "  adding: content/Ex-11/Model-segment-evaluation-11/labels/front-left-NO20240903-145441-000848F_MP4-0136_jpg.rf.652b1c49ef15886fbce9d148582185b5.txt (deflated 76%)\n",
            "  adding: content/Ex-11/Model-segment-evaluation-11/labels/chery-cross_MP4-0039_jpg.rf.a8182a46e37c443442fdca400eb1af6b.txt (deflated 77%)\n",
            "  adding: content/Ex-11/Model-segment-evaluation-11/labels/front-right-NO20240909-181340-000011F_MP4-0074_jpg.rf.e0a8240f0b633c5b5f653e52ede03622.txt (deflated 78%)\n",
            "  adding: content/Ex-11/Model-segment-evaluation-11/labels/front-left-NO20240903-145541-000849F_MP4-0185_jpg.rf.cda20b4666060c2eb05dfcaeea1f5c65.txt (deflated 76%)\n",
            "  adding: content/Ex-11/Model-segment-evaluation-11/labels/chery-cross_MP4-0006_jpg.rf.d7d1ff11bb4ea1c68413f533949349b7.txt (deflated 76%)\n",
            "  adding: content/Ex-11/Model-segment-evaluation-11/labels/night-front-right-NO20240909-183540-000033F_MP4-0044_jpg.rf.05f083174478f445428e2363cf5edf5e.txt (deflated 73%)\n",
            "  adding: content/Ex-11/Model-segment-evaluation-11/labels/front-right-NO20240903-144141-000835F_MP4-0072_jpg.rf.c007a8ef4fa67a262344878ae1227853.txt (deflated 84%)\n",
            "  adding: content/Ex-11/Model-segment-evaluation-11/labels/NO20240917-143837-000243F_MP4-0093_jpg.rf.0e3601d0de40b40b9d62c1bbc00c309f.txt (deflated 79%)\n",
            "  adding: content/Ex-11/Model-segment-evaluation-11/labels/front-right-NO20240909-181240-000010F_MP4-0153_jpg.rf.3bf1585acdabbab47953a6bfb77183ae.txt (deflated 79%)\n",
            "  adding: content/Ex-11/Model-segment-evaluation-11/labels/night-front-right-NO20240909-183440-000032F_MP4-0218_jpg.rf.71605a755c308c8b7a2ff50a00470d1a.txt (deflated 72%)\n",
            "  adding: content/Ex-11/Model-segment-evaluation-11/labels/front-left-NO20240903-145541-000849F_MP4-0010_jpg.rf.c1730852401d11301fb486e8b7ee99a1.txt (deflated 77%)\n",
            "  adding: content/Ex-11/Model-segment-evaluation-11/labels/front-left-NO20240903-145041-000844F_MP4-0161_jpg.rf.c6a7f72f302e369d7470c45aa1537e1b.txt (deflated 75%)\n",
            "  adding: content/Ex-11/Model-segment-evaluation-11/labels/cars-NO20240914-114248-000224F_MP4-0049_jpg.rf.d39de36460fa185b9e182507af7b6921.txt (deflated 80%)\n",
            "  adding: content/Ex-11/Model-segment-evaluation-11/labels/front-left-NO20240903-145141-000845F_MP4-0024_jpg.rf.5a8259c8e8cf08a692703f0b405ceaa2.txt (deflated 77%)\n",
            "  adding: content/Ex-11/Model-segment-evaluation-11/labels/cars-NO20240910-060525-000077F_MP4-0122_jpg.rf.4ced01ff6ffc39bfb932aecb88525758.txt (deflated 72%)\n",
            "  adding: content/Ex-11/Model-segment-evaluation-11/labels/v9_mp4-0035_jpg.rf.4ed32663d34306c27eb40a862c1ceaf1.txt (deflated 76%)\n",
            "  adding: content/Ex-11/Model-segment-evaluation-11/labels/front-right-NO20240903-144141-000835F_MP4-0150_jpg.rf.a23a060701ebb959c3779873ffb8b8ef.txt (deflated 83%)\n",
            "  adding: content/Ex-11/Model-segment-evaluation-11/labels/front-left-NO20240903-145141-000845F_MP4-0085_jpg.rf.03c61707a6c4a7e47672d204fc3d0f28.txt (deflated 80%)\n",
            "  adding: content/Ex-11/Model-segment-evaluation-11/labels/front-left-NO20240909-150404-000369F_MP4-0296_jpg.rf.441b6a5eb3167ef15a2a3f432c89d0c6.txt (deflated 75%)\n",
            "  adding: content/Ex-11/Model-segment-evaluation-11/labels/v5_mp4-0029_jpg.rf.33968f8ded9e1c3cd07d98a7fc502525.txt (deflated 77%)\n",
            "  adding: content/Ex-11/Model-segment-evaluation-11/labels/cars-NO20240914-114048-000222F_MP4-0106_jpg.rf.9e7b82843d9c1397be5346d4fea92497.txt (deflated 80%)\n",
            "  adding: content/Ex-11/Model-segment-evaluation-11/labels/v1_mp4-0035_jpg.rf.9fdc87571ae55ed5bac07640733eb7e6.txt (deflated 78%)\n",
            "  adding: content/Ex-11/Model-segment-evaluation-11/labels/NO20240909-181040-000008F_MP4-0297_jpg.rf.bf2359a1f86b3a4fa7061373c6ac63e2.txt (deflated 73%)\n",
            "  adding: content/Ex-11/Model-segment-evaluation-11/labels/front-right-NO20240903-144141-000835F_MP4-0080_jpg.rf.7f4856070d229d0c0308f2f062d87c37.txt (deflated 83%)\n",
            "  adding: content/Ex-11/Model-segment-evaluation-11/labels/cars-NO20240914-114048-000222F_MP4-0001_jpg.rf.14fb58d82de3fbf172027f49ea61283e.txt (deflated 81%)\n",
            "  adding: content/Ex-11/Model-segment-evaluation-11/labels/NO20240909-181040-000008F_MP4-0150_jpg.rf.d1392160025f9f641321532ee9be9597.txt (deflated 80%)\n",
            "  adding: content/Ex-11/Model-segment-evaluation-11/labels/front-left-NO20240909-144104-000346F_MP4-0227_jpg.rf.e485c318497a8eafd255a773b993cc1c.txt (deflated 73%)\n",
            "  adding: content/Ex-11/Model-segment-evaluation-11/labels/front-left-NO20240903-145041-000844F_MP4-0105_jpg.rf.31a57a8c32c0cc94bb85351055f84509.txt (deflated 78%)\n",
            "  adding: content/Ex-11/Model-segment-evaluation-11/labels/front-left-NO20240903-145541-000849F_MP4-0068_jpg.rf.41f7031da2533d180ce55a50cacadb89.txt (deflated 79%)\n",
            "  adding: content/Ex-11/Model-segment-evaluation-11/labels/front-left-NO20240910-064125-000113F_MP4-0218_jpg.rf.c9b462a20c57ca43d3fdc6a41c45a71e.txt (deflated 73%)\n",
            "  adding: content/Ex-11/Model-segment-evaluation-11/labels/front-left-NO20240909-144504-000350F_MP4-0297_jpg.rf.a5efb643cc7f88ebdbf1bb3233cf639a.txt (deflated 72%)\n",
            "  adding: content/Ex-11/Model-segment-evaluation-11/labels/00d1a3fa14b9c5e1_jpg.rf.96303e832b638c0037ca553a923bea2f.txt (deflated 72%)\n",
            "  adding: content/Ex-11/Model-segment-evaluation-11/labels/v3_mp4-0030_jpg.rf.55fd1127efbb909d70fc161c5491ef7f.txt (deflated 74%)\n",
            "  adding: content/Ex-11/Model-segment-evaluation-11/labels/front-right-NO20240909-181540-000013F_MP4-0104_jpg.rf.0612ab7c57b778d7179b0be77645b7c1.txt (deflated 82%)\n",
            "  adding: content/Ex-11/Model-segment-evaluation-11/labels/front-right-NO20240903-143941-000833F_MP4-0089_jpg.rf.ec0d4e400c353c6def6f32b8e18bd7d2.txt (deflated 79%)\n",
            "  adding: content/Ex-11/Model-segment-evaluation-11/labels/xemay1708_jpg.rf.06e565b8e6081c3827e7462a573809c3.txt (deflated 74%)\n",
            "  adding: content/Ex-11/Model-segment-evaluation-11/labels/CarLongPlateGen1816_jpg.rf.fb386b5f57d476e0bbeb7b8a6c02301a.txt (deflated 43%)\n",
            "  adding: content/Ex-11/Model-segment-evaluation-11/labels/NO20240909-181140-000009F_MP4-0071_jpg.rf.3a373d140545f8027dfce4930807eac7.txt (deflated 74%)\n",
            "  adding: content/Ex-11/Model-segment-evaluation-11/labels/front-left-NO20240903-145541-000849F_MP4-0069_jpg.rf.cecc6791f3609b8dd001b76b7e7ef405.txt (deflated 79%)\n",
            "  adding: content/Ex-11/Model-segment-evaluation-11/labels/front-left-NO20240903-145541-000849F_MP4-0022_jpg.rf.2160b22b81b7b04cb2f98237d7753fd0.txt (deflated 77%)\n",
            "  adding: content/Ex-11/Model-segment-evaluation-11/labels/front-left-NO20240903-145141-000845F_MP4-0141_jpg.rf.1445af825227e4e623f5d5ea61a463db.txt (deflated 75%)\n",
            "  adding: content/Ex-11/Model-segment-evaluation-11/labels/front-right-NO20240903-144141-000835F_MP4-0185_jpg.rf.3a482556b230f4cd87e03718ff48c0a3.txt (deflated 80%)\n",
            "  adding: content/Ex-11/Model-segment-evaluation-11/labels/night-front-right-NO20240909-182940-000027F_MP4-0082_jpg.rf.50a8b0a966abc92078578fb3a4a5b96a.txt (deflated 78%)\n",
            "  adding: content/Ex-11/Model-segment-evaluation-11/labels/front-left-NO20240903-145541-000849F_MP4-0080_jpg.rf.0fb6bb69671737d4aeb2af1c22a1c107.txt (deflated 80%)\n",
            "  adding: content/Ex-11/Model-segment-evaluation-11/labels/CarLongPlateGen904_jpg.rf.3621baa272ecf034be02e61dd7a03360.txt (deflated 66%)\n",
            "  adding: content/Ex-11/Model-segment-evaluation-11/labels/front-left-NO20240903-145141-000845F_MP4-0066_jpg.rf.bfb3f657bcd9db8b988d3fb0308669fd.txt (deflated 78%)\n",
            "  adding: content/Ex-11/Model-segment-evaluation-11/labels/front-left-NO20240903-145041-000844F_MP4-0134_jpg.rf.d215e415e346519a38a259c52ec7a741.txt (deflated 73%)\n",
            "  adding: content/Ex-11/Model-segment-evaluation-11/labels/front-left-NO20240903-145441-000848F_MP4-0194_jpg.rf.2fc8bcf95bceefc26e0378f9dcd2947a.txt (deflated 77%)\n",
            "  adding: content/Ex-11/Model-segment-evaluation-11/labels/v5_mp4-0010_jpg.rf.d05f536bf4958d3b9040acf3d9dc9aad.txt (deflated 77%)\n",
            "  adding: content/Ex-11/Model-segment-evaluation-11/labels/CarLongPlateGen3607_jpg.rf.f68bde54e0c0a625aef4bb5f0ce77003.txt (deflated 46%)\n",
            "  adding: content/Ex-11/Model-segment-evaluation-11/labels/front-left-NO20240903-145441-000848F_MP4-0080_jpg.rf.5c4b42584e4044dbf8ac84ecbd701679.txt (deflated 76%)\n",
            "  adding: content/Ex-11/Model-segment-evaluation-11/labels/Cars429_png_jpg.rf.115e26528225052f23c49284eab7418c.txt (deflated 64%)\n",
            "  adding: content/Ex-11/Model-segment-evaluation-11/labels/v1_mp4-0011_jpg.rf.301053dfb4bdcdc4c3738d8305b82cde.txt (deflated 82%)\n",
            "  adding: content/Ex-11/Model-segment-evaluation-11/labels/front-left-NO20240903-145041-000844F_MP4-0092_jpg.rf.de25a43df59109e4354fe2f39d2e917b.txt (deflated 80%)\n",
            "  adding: content/Ex-11/Model-segment-evaluation-11/labels/front-left-NO20240903-145141-000845F_MP4-0026_jpg.rf.78a1cb3bbdd379fdd9e64b2e9a914ec6.txt (deflated 79%)\n",
            "  adding: content/Ex-11/Model-segment-evaluation-11/labels/front-left-NO20240903-145141-000845F_MP4-0022_jpg.rf.1bec4e261c754442cdb5b34f4d2cc1d5.txt (deflated 79%)\n",
            "  adding: content/Ex-11/Model-segment-evaluation-11/labels/front-left-NO20240909-143304-000338F_MP4-0133_jpg.rf.95564a666e236f6336200d308e93fcde.txt (deflated 75%)\n",
            "  adding: content/Ex-11/Model-segment-evaluation-11/labels/front-left-NO20240903-145041-000844F_MP4-0192_jpg.rf.845fc3e386cf2c5c9ceb7e528e782540.txt (deflated 74%)\n",
            "  adding: content/Ex-11/Model-segment-evaluation-11/labels/front-left-NO20240903-145141-000845F_MP4-0032_jpg.rf.652f9bdc0046180457e7c8a0060bd7ba.txt (deflated 74%)\n",
            "  adding: content/Ex-11/Model-segment-evaluation-11/labels/front-left-NO20240909-144004-000345F_MP4-0118_jpg.rf.527788dd6878ef2e5fa0a50dcf0be03d.txt (deflated 74%)\n",
            "  adding: content/Ex-11/Model-segment-evaluation-11/labels/night-front-right-NO20240909-183640-000034F_MP4-0043_jpg.rf.c02768012b5657d7f7bf5158775b7b58.txt (deflated 82%)\n",
            "  adding: content/Ex-11/Model-segment-evaluation-11/labels/front-left-NO20240903-145141-000845F_MP4-0003_jpg.rf.6f499959d622163cbb95898cd82dc854.txt (deflated 80%)\n",
            "  adding: content/Ex-11/Model-segment-evaluation-11/labels/front-right-NO20240903-143941-000833F_MP4-0009_jpg.rf.02da0cd3e8fa83b01ad7b94083fde5f4.txt (deflated 85%)\n",
            "  adding: content/Ex-11/Model-segment-evaluation-11/labels/front-left-NO20240909-150004-000365F_MP4-0097_jpg.rf.33b4e9e8634da1ad08812978132f9883.txt (deflated 75%)\n",
            "  adding: content/Ex-11/Model-segment-evaluation-11/labels/front-left-NO20240903-145541-000849F_MP4-0002_jpg.rf.285e9314c8cc32595690b251d16d9a24.txt (deflated 79%)\n",
            "  adding: content/Ex-11/Model-segment-evaluation-11/labels/front-left-NO20240903-145041-000844F_MP4-0163_jpg.rf.1683303c697ed7d5b7639ecc2677edba.txt (deflated 77%)\n",
            "  adding: content/Ex-11/Model-segment-evaluation-11/labels/front-left-NO20240903-145041-000844F_MP4-0205_jpg.rf.2a04b12ee50fbdefbce6fb95c21e56ef.txt (deflated 74%)\n",
            "  adding: content/Ex-11/Model-segment-evaluation-11/labels/front-left-NO20240909-144004-000345F_MP4-0170_jpg.rf.5261ce44008ea7726a315ac606ed186c.txt (deflated 77%)\n",
            "  adding: content/Ex-11/Model-segment-evaluation-11/labels/IMG_7040-conv_jpeg_jpg.rf.4c90658779f3319bdbf26231fcc8d83b.txt (deflated 47%)\n",
            "  adding: content/Ex-11/Model-segment-evaluation-11/labels/night-front-right-NO20240909-183740-000035F_MP4-0237_jpg.rf.7128f3dbcd7ccc25e0f9e098fbf9a300.txt (deflated 80%)\n",
            "  adding: content/Ex-11/Model-segment-evaluation-11/labels/front-left-NO20240903-145141-000845F_MP4-0296_jpg.rf.ad3df17a1b324c5f71868efea82ad042.txt (deflated 76%)\n",
            "  adding: content/Ex-11/Model-segment-evaluation-11/labels/front-left-NO20240909-145704-000362F_MP4-0145_jpg.rf.fb919691a29d6dd34ed2039bd9ee86d5.txt (deflated 71%)\n",
            "  adding: content/Ex-11/Model-segment-evaluation-11/labels/front-right-NO20240903-144141-000835F_MP4-0274_jpg.rf.c69cb784462b151de4c99c954ec85c08.txt (deflated 84%)\n",
            "  adding: content/Ex-11/Model-segment-evaluation-11/labels/front-left-NO20240903-145141-000845F_MP4-0126_jpg.rf.6c2c66521cdd51065dc3e01704275496.txt (deflated 76%)\n",
            "  adding: content/Ex-11/Model-segment-evaluation-11/labels/NO20240909-181040-000008F_MP4-0177_jpg.rf.24696b7c4141316b0eecd7a3d87f7c85.txt (deflated 77%)\n",
            "  adding: content/Ex-11/Model-segment-evaluation-11/labels/front-left-NO20240909-144504-000350F_MP4-0032_jpg.rf.7abd4e1bfeef75d4f586b9f6c5769ede.txt (deflated 71%)\n",
            "  adding: content/Ex-11/Model-segment-evaluation-11/labels/cars-NO20240914-114048-000222F_MP4-0116_jpg.rf.53330284224f99fbee401f180a6c5c1e.txt (deflated 82%)\n",
            "  adding: content/Ex-11/Model-segment-evaluation-11/labels/front-left-NO20240909-144004-000345F_MP4-0018_jpg.rf.2dd250c4022e3e7450347fd7d01c8cd5.txt (deflated 72%)\n",
            "  adding: content/Ex-11/Model-segment-evaluation-11/labels/front-left-NO20240903-145041-000844F_MP4-0201_jpg.rf.6058f8c6f782ab214a6e94430892575d.txt (deflated 76%)\n",
            "  adding: content/Ex-11/Model-segment-evaluation-11/labels/front-left-NO20240903-145041-000844F_MP4-0295_jpg.rf.ecd382ad0da0eda2f99d1d5eebe93e21.txt (deflated 75%)\n",
            "  adding: content/Ex-11/Model-segment-evaluation-11/labels/NO20240917-143837-000243F_MP4-0110_jpg.rf.4d49b57edd0da39ab2c6a7a54d0df603.txt (deflated 81%)\n",
            "  adding: content/Ex-11/Model-segment-evaluation-11/labels/front-left-NO20240909-150004-000365F_MP4-0088_jpg.rf.5ea0ce27a97d3d970056a74536cbd16c.txt (deflated 75%)\n",
            "  adding: content/Ex-11/Model-segment-evaluation-11/labels/front-left-NO20240909-150504-000370F_MP4-0280_jpg.rf.3d01d6d11a870414c61428543417bfd0.txt (deflated 77%)\n",
            "  adding: content/Ex-11/Model-segment-evaluation-11/labels/front-left-NO20240903-145141-000845F_MP4-0289_jpg.rf.b26a916194d4d8e6fb8b4f57f52d4729.txt (deflated 77%)\n",
            "  adding: content/Ex-11/Model-segment-evaluation-11/labels/P09830_jpeg_jpg.rf.36440329e43f6bd2be3650c09abbcd83.txt (deflated 70%)\n",
            "  adding: content/Ex-11/Model-segment-evaluation-11/labels/cars-NO20240910-060525-000077F_MP4-0085_jpg.rf.3a382b5f6b99be931f15eb4a717eda43.txt (deflated 80%)\n",
            "  adding: content/Ex-11/Model-segment-evaluation-11/labels/front-left-NO20240903-145141-000845F_MP4-0124_jpg.rf.8032eadc5f46d7d918f11a2496cc2f59.txt (deflated 75%)\n",
            "  adding: content/Ex-11/Model-segment-evaluation-11/labels/v2_mp4-0005_jpg.rf.335a466fe458fc0ca1b038dc1a94b7be.txt (deflated 71%)\n",
            "  adding: content/Ex-11/Model-segment-evaluation-11/labels/front-left-NO20240903-145041-000844F_MP4-0219_jpg.rf.d820462339f5eba52234eeb7e1b3596c.txt (deflated 75%)\n",
            "  adding: content/Ex-11/Model-segment-evaluation-11/labels/xemay619_jpg.rf.28bf67acb9ed80cb482b8ed7396c45be.txt (deflated 51%)\n",
            "  adding: content/Ex-11/Model-segment-evaluation-11/labels/front-left-NO20240903-145041-000844F_MP4-0199_jpg.rf.9eb1366d72be6bae173ec3044adc1a8d.txt (deflated 76%)\n",
            "  adding: content/Ex-11/Model-segment-evaluation-11/labels/cars-NO20240910-060525-000077F_MP4-0109_jpg.rf.8b0f3b4b317d742bb8ff410a29eaefa2.txt (deflated 82%)\n",
            "  adding: content/Ex-11/Model-segment-evaluation-11/labels/NO20240909-181140-000009F_MP4-0119_jpg.rf.d01f77bdcf729549c8072009f1aa3503.txt (deflated 73%)\n",
            "  adding: content/Ex-11/Model-segment-evaluation-11/labels/xemay309_jpg.rf.d7f98acd695e1cdaf802794d3cc872e4.txt (deflated 71%)\n",
            "  adding: content/Ex-11/Model-segment-evaluation-11/labels/front-right-NO20240909-181340-000011F_MP4-0066_jpg.rf.98c83b352529947faf2d7ec323607b68.txt (deflated 74%)\n",
            "  adding: content/Ex-11/Model-segment-evaluation-11/labels/cars-NO20240914-114048-000222F_MP4-0050_jpg.rf.548ab7cba3b09a5531dfb45b9db8e2a8.txt (deflated 84%)\n",
            "  adding: content/Ex-11/Model-segment-evaluation-11/labels/NO20240909-181040-000008F_MP4-0255_jpg.rf.693412ceb98895aed9a1381741c9d352.txt (deflated 83%)\n",
            "  adding: content/Ex-11/Model-segment-evaluation-11/labels/pic_450_jpg.rf.e7ce69ada32b174aa7815e0816a2581f.txt (deflated 61%)\n",
            "  adding: content/Ex-11/Model-segment-evaluation-11/labels/front-left-NO20240909-144404-000349F_MP4-0031_jpg.rf.3c49c3d4893006ccd05e32001e59d429.txt (deflated 71%)\n",
            "  adding: content/Ex-11/Model-segment-evaluation-11/labels/front-right-NO20240903-143941-000833F_MP4-0291_jpg.rf.c4c9f4d24e4e652c615055456cae0ff6.txt (deflated 83%)\n",
            "  adding: content/Ex-11/Model-segment-evaluation-11/labels/front-left-NO20240903-145141-000845F_MP4-0029_jpg.rf.bfc7663154496d3e22f6de4857912d3c.txt (deflated 79%)\n",
            "  adding: content/Ex-11/Model-segment-evaluation-11/labels/cars-NO20240910-060525-000077F_MP4-0077_jpg.rf.2e6bb54d02be457df09ad43f5891784b.txt (deflated 76%)\n",
            "  adding: content/Ex-11/Model-segment-evaluation-11/labels/front-left-NO20240909-150004-000365F_MP4-0110_jpg.rf.c0b27d6220992152a6196a6a875b8261.txt (deflated 72%)\n",
            "  adding: content/Ex-11/Model-segment-evaluation-11/labels/0030164dc0dba5d9_jpg.rf.d7a4304cde5e14ee90140f3342137df8.txt (deflated 72%)\n",
            "  adding: content/Ex-11/Model-segment-evaluation-11/labels/front-left-NO20240909-150004-000365F_MP4-0004_jpg.rf.f58edfcec6a69f5fd2fcbd967eeda4e4.txt (deflated 74%)\n",
            "  adding: content/Ex-11/Model-segment-evaluation-11/labels/front-left-NO20240903-145141-000845F_MP4-0049_jpg.rf.d0e26e414621ac231bc5b6324f785d48.txt (deflated 74%)\n",
            "  adding: content/Ex-11/Model-segment-evaluation-11/labels/front-left-NO20240903-145041-000844F_MP4-0145_jpg.rf.8c401aee6084225e0018b81924092b86.txt (deflated 80%)\n",
            "  adding: content/Ex-11/Model-segment-evaluation-11/labels/front-left-NO20240909-144404-000349F_MP4-0045_jpg.rf.396e25113c27dad1e2532242eb5b2b06.txt (deflated 73%)\n",
            "  adding: content/Ex-11/Model-segment-evaluation-11/labels/front-left-NO20240903-145541-000849F_MP4-0051_jpg.rf.d6741b63c738d76c3485b513bd6c4b37.txt (deflated 77%)\n",
            "  adding: content/Ex-11/Model-segment-evaluation-11/labels/NO20240909-181040-000008F_MP4-0131_jpg.rf.df97a0d7e91d61240b60de6011e02e9e.txt (deflated 72%)\n",
            "  adding: content/Ex-11/Model-segment-evaluation-11/labels/front-left-NO20240903-145041-000844F_MP4-0031_jpg.rf.a885c133aa31234457ffb141c4f38781.txt (deflated 77%)\n",
            "  adding: content/Ex-11/Model-segment-evaluation-11/labels/NO20240917-144137-000246F_MP4-0076_jpg.rf.1e31c5595049dd0309bd92cb58d47645.txt (deflated 81%)\n",
            "  adding: content/Ex-11/Model-segment-evaluation-11/labels/front-right-NO20240909-182340-000021F_MP4-0031_jpg.rf.588af218ba2e240a212b6f87c9e8b236.txt (deflated 73%)\n",
            "  adding: content/Ex-11/Model-segment-evaluation-11/labels/cars-NO20240914-114248-000224F_MP4-0017_jpg.rf.315a004d445fe29dc5cc6d6f5614d8e7.txt (deflated 77%)\n",
            "  adding: content/Ex-11/Model-segment-evaluation-11/labels/chery-cross_MP4-0051_jpg.rf.24f47280f3f7ec4aa44f9f1f07eff925.txt (deflated 81%)\n",
            "  adding: content/Ex-11/Model-segment-evaluation-11/labels/front-left-NO20240903-145141-000845F_MP4-0067_jpg.rf.36b3c876a2af29727add678b0b74859a.txt (deflated 77%)\n",
            "  adding: content/Ex-11/Model-segment-evaluation-11/labels/front-left-NO20240909-151104-000376F_MP4-0115_jpg.rf.b3aaff6dbe0c3735012a48f63b05dd32.txt (deflated 74%)\n",
            "  adding: content/Ex-11/Model-segment-evaluation-11/labels/front-left-NO20240903-145441-000848F_MP4-0253_jpg.rf.3fc5308d210d184268a7f0155ed3017b.txt (deflated 80%)\n",
            "  adding: content/Ex-11/Model-segment-evaluation-11/labels/front-right-NO20240903-143941-000833F_MP4-0214_jpg.rf.2a84482964704f065b91e9f644ed16b9.txt (deflated 83%)\n",
            "  adding: content/Ex-11/Model-segment-evaluation-11/labels/front-left-NO20240909-144004-000345F_MP4-0151_jpg.rf.7245776cb3d4bb849bc49f9acfe14c94.txt (deflated 77%)\n",
            "  adding: content/Ex-11/Model-segment-evaluation-11/labels/front-right-NO20240903-144041-000834F_MP4-0241_jpg.rf.8a33c5a7a48e27bc84f8705d3fb53a4b.txt (deflated 79%)\n",
            "  adding: content/Ex-11/Model-segment-evaluation-11/labels/front-left-NO20240903-145141-000845F_MP4-0078_jpg.rf.ff226e6e7e2009f24b53e58c15d5a184.txt (deflated 74%)\n",
            "  adding: content/Ex-11/Model-segment-evaluation-11/labels/front-right-NO20240903-144041-000834F_MP4-0050_jpg.rf.426446eb36765eeeaefb22de00ac7b3b.txt (deflated 79%)\n",
            "  adding: content/Ex-11/Model-segment-evaluation-11/labels/front-right-NO20240909-181540-000013F_MP4-0009_jpg.rf.b2f16586448a6284351f276c18782a57.txt (deflated 80%)\n",
            "  adding: content/Ex-11/Model-segment-evaluation-11/labels/front-right-NO20240903-144041-000834F_MP4-0032_jpg.rf.e01bd711aa33b3a686afd01d2ccd46a2.txt (deflated 72%)\n",
            "  adding: content/Ex-11/Model-segment-evaluation-11/labels/NO20240917-143737-000242F_MP4-0060_jpg.rf.07d50a9c7f1081bfb9e8d9419f392037.txt (deflated 79%)\n",
            "  adding: content/Ex-11/Model-segment-evaluation-11/labels/front-right-NO20240903-144141-000835F_MP4-0276_jpg.rf.9e5d342a1220c6deef9de8ea524db719.txt (deflated 85%)\n",
            "  adding: content/Ex-11/Model-segment-evaluation-11/BoxF1_curve.png (deflated 10%)\n",
            "  adding: content/Ex-11/Model-segment-evaluation-11/val_batch2_labels.jpg (deflated 6%)\n",
            "  adding: content/Ex-11/Model-segment-evaluation-11/val_batch1_labels.jpg (deflated 5%)\n",
            "  adding: content/Ex-11/Model-segment-evaluation-11/MaskP_curve.png (deflated 14%)\n",
            "  adding: content/Ex-11/Model-segment-evaluation-11/val_batch1_pred.jpg (deflated 5%)\n",
            "  adding: content/Ex-11/Model-segment-evaluation-11/BoxPR_curve.png (deflated 13%)\n",
            "  adding: content/Ex-11/Model-segment-evaluation-11/confusion_matrix.png (deflated 28%)\n",
            "  adding: content/Ex-11/Model-segment-evaluation-11/BoxP_curve.png (deflated 14%)\n",
            "  adding: content/Ex-11/Model-segment-evaluation-11/val_batch0_pred.jpg (deflated 5%)\n",
            "  adding: content/Ex-11/Model-segment-evaluation-11/BoxR_curve.png (deflated 10%)\n",
            "  adding: content/Ex-11/Model-segment-evaluation-11/MaskF1_curve.png (deflated 10%)\n",
            "  adding: content/Ex-11/Model-segment-evaluation-11/MaskR_curve.png (deflated 10%)\n",
            "  adding: content/Ex-11/Model-segment-evaluation-11/confusion_matrix_normalized.png (deflated 28%)\n"
          ]
        }
      ],
      "source": [
        "!zip -r evaluation-11.zip /content/Ex-11/Model-segment-evaluation-11"
      ]
    },
    {
      "cell_type": "markdown",
      "source": [
        "## deploy the model on roboflow"
      ],
      "metadata": {
        "id": "IVuH1wm_3f5r"
      }
    },
    {
      "cell_type": "code",
      "execution_count": 21,
      "metadata": {
        "id": "A3rqBUmkGi4h",
        "colab": {
          "base_uri": "https://localhost:8080/"
        },
        "collapsed": true,
        "outputId": "a312978c-2bd6-4d59-9845-802a900ca028"
      },
      "outputs": [
        {
          "output_type": "stream",
          "name": "stdout",
          "text": [
            "loading Roboflow workspace...\n",
            "loading Roboflow project...\n",
            "An error occured when getting the model upload URL: This version already has a trained model. Please generate and train a new version in order to upload model to Roboflow.\n"
          ]
        }
      ],
      "source": [
        "rf = Roboflow(api_key=API_KEY)\n",
        "project = rf.workspace(\"capstoneteam\").project(\"road-lines-segmentation-phoc6\")\n",
        "project.version(2).deploy(model_type=\"yolov11n\", model_path=\"/content/Ex-11/Ex-11\")"
      ]
    }
  ],
  "metadata": {
    "accelerator": "GPU",
    "colab": {
      "gpuType": "T4",
      "machine_shape": "hm",
      "provenance": [],
      "include_colab_link": true
    },
    "kaggle": {
      "accelerator": "gpu",
      "dataSources": [],
      "dockerImageVersionId": 30762,
      "isGpuEnabled": true,
      "isInternetEnabled": true,
      "language": "python",
      "sourceType": "notebook"
    },
    "kernelspec": {
      "display_name": "Python 3",
      "name": "python3"
    },
    "language_info": {
      "codemirror_mode": {
        "name": "ipython",
        "version": 3
      },
      "file_extension": ".py",
      "mimetype": "text/x-python",
      "name": "python",
      "nbconvert_exporter": "python",
      "pygments_lexer": "ipython3",
      "version": "3.10.14"
    }
  },
  "nbformat": 4,
  "nbformat_minor": 0
}