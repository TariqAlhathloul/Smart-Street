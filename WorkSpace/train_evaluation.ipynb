{
  "metadata": {
    "kernelspec": {
      "display_name": "Python 3",
      "name": "python3"
    },
    "language_info": {
      "name": "python",
      "version": "3.10.14",
      "mimetype": "text/x-python",
      "codemirror_mode": {
        "name": "ipython",
        "version": 3
      },
      "pygments_lexer": "ipython3",
      "nbconvert_exporter": "python",
      "file_extension": ".py"
    },
    "kaggle": {
      "accelerator": "gpu",
      "dataSources": [],
      "dockerImageVersionId": 30762,
      "isInternetEnabled": true,
      "language": "python",
      "sourceType": "notebook",
      "isGpuEnabled": true
    },
    "colab": {
      "provenance": [],
      "machine_shape": "hm",
      "gpuType": "T4",
      "include_colab_link": true
    },
    "accelerator": "GPU"
  },
  "nbformat_minor": 0,
  "nbformat": 4,
  "cells": [
    {
      "cell_type": "markdown",
      "metadata": {
        "id": "view-in-github",
        "colab_type": "text"
      },
      "source": [
        "<a href=\"https://colab.research.google.com/github/TariqAlhathloul/Smart-Street/blob/main/WorkSpace/train_evaluation.ipynb\" target=\"_parent\"><img src=\"https://colab.research.google.com/assets/colab-badge.svg\" alt=\"Open In Colab\"/></a>"
      ]
    },
    {
      "cell_type": "markdown",
      "source": [
        "## linkes for the project"
      ],
      "metadata": {
        "id": "GBIQv0fqWwoO"
      }
    },
    {
      "cell_type": "markdown",
      "source": [
        "[![Roboflow](https://raw.githubusercontent.com/roboflow-ai/notebooks/main/assets/badges/roboflow.svg)](https://universe.roboflow.com/capstoneteam/road-lines-segmentation-3)\n",
        "\n",
        "[![GitHub Repoistory](https://badges.aleen42.com/src/github.svg)](https://github.com/TariqAlhathloul/Smart-Street)\n"
      ],
      "metadata": {
        "id": "45xduYuRWwoS"
      }
    },
    {
      "cell_type": "markdown",
      "source": [
        "## installation"
      ],
      "metadata": {
        "id": "1K_SVQUBWwoT"
      }
    },
    {
      "cell_type": "code",
      "source": [
        "!pip install ultralytics -q\n",
        "!pip install roboflow -q\n",
        "!pip install ipywidgets -q"
      ],
      "metadata": {
        "execution": {
          "iopub.status.busy": "2024-09-28T13:00:39.491413Z",
          "iopub.execute_input": "2024-09-28T13:00:39.491802Z",
          "iopub.status.idle": "2024-09-28T13:01:21.262976Z",
          "shell.execute_reply.started": "2024-09-28T13:00:39.491741Z",
          "shell.execute_reply": "2024-09-28T13:01:21.261699Z"
        },
        "trusted": true,
        "colab": {
          "base_uri": "https://localhost:8080/"
        },
        "id": "BHg3wdYqWwoU",
        "outputId": "e432826a-13c4-4c1c-9291-ee0f1c839b3c"
      },
      "execution_count": null,
      "outputs": [
        {
          "output_type": "stream",
          "name": "stdout",
          "text": [
            "\u001b[2K   \u001b[90m━━━━━━━━━━━━━━━━━━━━━━━━━━━━━━━━━━━━━━━━\u001b[0m \u001b[32m875.1/875.1 kB\u001b[0m \u001b[31m14.5 MB/s\u001b[0m eta \u001b[36m0:00:00\u001b[0m\n",
            "\u001b[2K   \u001b[90m━━━━━━━━━━━━━━━━━━━━━━━━━━━━━━━━━━━━━━━━\u001b[0m \u001b[32m80.3/80.3 kB\u001b[0m \u001b[31m3.1 MB/s\u001b[0m eta \u001b[36m0:00:00\u001b[0m\n",
            "\u001b[2K   \u001b[90m━━━━━━━━━━━━━━━━━━━━━━━━━━━━━━━━━━━━━━━━\u001b[0m \u001b[32m66.8/66.8 kB\u001b[0m \u001b[31m5.4 MB/s\u001b[0m eta \u001b[36m0:00:00\u001b[0m\n",
            "\u001b[2K   \u001b[90m━━━━━━━━━━━━━━━━━━━━━━━━━━━━━━━━━━━━━━━━\u001b[0m \u001b[32m54.5/54.5 kB\u001b[0m \u001b[31m4.2 MB/s\u001b[0m eta \u001b[36m0:00:00\u001b[0m\n",
            "\u001b[?25h"
          ]
        }
      ]
    },
    {
      "cell_type": "code",
      "source": [
        "from ultralytics import YOLO\n",
        "from roboflow import Roboflow\n",
        "import pandas as pd\n",
        "import os\n",
        "\n",
        "from google.colab import userdata\n",
        "API_KEY = userdata.get('ROBOFLOW_API_KEY')"
      ],
      "metadata": {
        "_uuid": "8f2839f25d086af736a60e9eeb907d3b93b6e0e5",
        "_cell_guid": "b1076dfc-b9ad-4769-8c92-a6c4dae69d19",
        "execution": {
          "iopub.status.busy": "2024-09-28T13:01:21.265302Z",
          "iopub.execute_input": "2024-09-28T13:01:21.265723Z",
          "iopub.status.idle": "2024-09-28T13:01:25.812615Z",
          "shell.execute_reply.started": "2024-09-28T13:01:21.265676Z",
          "shell.execute_reply": "2024-09-28T13:01:25.811625Z"
        },
        "trusted": true,
        "id": "ef5s0LhHWwoZ"
      },
      "execution_count": null,
      "outputs": []
    },
    {
      "cell_type": "code",
      "source": [
        "rf = Roboflow(api_key=API_KEY)\n",
        "project = rf.workspace(\"capstoneteam\").project(\"road-lines-segmentation-3\")\n",
        "version = project.version(2)\n",
        "dataset = version.download(\"yolov8\")\n"
      ],
      "metadata": {
        "execution": {
          "iopub.status.busy": "2024-09-28T13:01:25.813957Z",
          "iopub.execute_input": "2024-09-28T13:01:25.814409Z",
          "iopub.status.idle": "2024-09-28T13:01:53.694358Z",
          "shell.execute_reply.started": "2024-09-28T13:01:25.814370Z",
          "shell.execute_reply": "2024-09-28T13:01:53.693384Z"
        },
        "trusted": true,
        "colab": {
          "base_uri": "https://localhost:8080/"
        },
        "id": "iOaNVxNRWwob",
        "outputId": "43ac180e-b1b6-4898-d05b-c9602a022c91"
      },
      "execution_count": null,
      "outputs": [
        {
          "output_type": "stream",
          "name": "stdout",
          "text": [
            "loading Roboflow workspace...\n",
            "loading Roboflow project...\n",
            "Dependency ultralytics==8.0.196 is required but found version=8.2.103, to fix: `pip install ultralytics==8.0.196`\n"
          ]
        },
        {
          "output_type": "stream",
          "name": "stderr",
          "text": [
            "Downloading Dataset Version Zip in Road-Lines-Segmentation-3-2 to yolov8:: 100%|██████████| 549463/549463 [00:25<00:00, 21821.89it/s]"
          ]
        },
        {
          "output_type": "stream",
          "name": "stdout",
          "text": [
            "\n"
          ]
        },
        {
          "output_type": "stream",
          "name": "stderr",
          "text": [
            "\n",
            "Extracting Dataset Version Zip to Road-Lines-Segmentation-3-2 in yolov8:: 100%|██████████| 35614/35614 [00:04<00:00, 7827.97it/s]\n"
          ]
        }
      ]
    },
    {
      "cell_type": "markdown",
      "source": [
        "## upload the dataset"
      ],
      "metadata": {
        "id": "x7QmgSaiWwoc"
      }
    },
    {
      "cell_type": "code",
      "source": [
        "TRAIN_DIR_IAMAGES = '/content/Road-Lines-Segmentation-3-2/train/images'\n",
        "VAL_DIR_IAMGES = '/content/Road-Lines-Segmentation-3-2/valid/images'\n",
        "TEST_DIR_IMAGES = '/content/Road-Lines-Segmentation-3-2/test/images'"
      ],
      "metadata": {
        "execution": {
          "iopub.status.busy": "2024-09-28T13:02:10.766148Z",
          "iopub.execute_input": "2024-09-28T13:02:10.767334Z",
          "iopub.status.idle": "2024-09-28T13:02:10.772002Z",
          "shell.execute_reply.started": "2024-09-28T13:02:10.767278Z",
          "shell.execute_reply": "2024-09-28T13:02:10.770998Z"
        },
        "trusted": true,
        "id": "RQrIPhJuWwod"
      },
      "execution_count": null,
      "outputs": []
    },
    {
      "cell_type": "code",
      "source": [
        "print(f\"Total Training: {len(os.listdir(TRAIN_DIR_IAMAGES))} images\")\n",
        "print(f\"Total Validation: {len(os.listdir(VAL_DIR_IAMGES))} images\")\n",
        "print(f\"Total Testing: {len(os.listdir(TEST_DIR_IMAGES))} images\")"
      ],
      "metadata": {
        "execution": {
          "iopub.status.busy": "2024-09-28T13:02:11.219152Z",
          "iopub.execute_input": "2024-09-28T13:02:11.219507Z",
          "iopub.status.idle": "2024-09-28T13:02:11.240817Z",
          "shell.execute_reply.started": "2024-09-28T13:02:11.219473Z",
          "shell.execute_reply": "2024-09-28T13:02:11.239914Z"
        },
        "trusted": true,
        "colab": {
          "base_uri": "https://localhost:8080/"
        },
        "id": "mEZl-6W2Wwod",
        "outputId": "6334fd72-74cf-4be3-eb93-52927c972096"
      },
      "execution_count": null,
      "outputs": [
        {
          "output_type": "stream",
          "name": "stdout",
          "text": [
            "Total Training: 14979 images\n",
            "Total Validation: 1816 images\n",
            "Total Testing: 1006 images\n"
          ]
        }
      ]
    },
    {
      "cell_type": "markdown",
      "source": [
        "## check if the GPU is avalabie"
      ],
      "metadata": {
        "id": "L5xBQhMAWwoe"
      }
    },
    {
      "cell_type": "code",
      "source": [
        "gpu_info = !nvidia-smi\n",
        "gpu_info = '\\n'.join(gpu_info)\n",
        "if gpu_info.find('failed') >= 0:\n",
        "  print('Not connected to a GPU')\n",
        "else:\n",
        "  print(gpu_info)"
      ],
      "metadata": {
        "execution": {
          "iopub.status.busy": "2024-09-28T13:02:13.336144Z",
          "iopub.execute_input": "2024-09-28T13:02:13.336541Z",
          "iopub.status.idle": "2024-09-28T13:02:13.404690Z",
          "shell.execute_reply.started": "2024-09-28T13:02:13.336504Z",
          "shell.execute_reply": "2024-09-28T13:02:13.403623Z"
        },
        "trusted": true,
        "colab": {
          "base_uri": "https://localhost:8080/"
        },
        "id": "G7y_VO4fWwoe",
        "outputId": "fa8f5c3c-0202-40e8-aa56-d5ca4fb674de"
      },
      "execution_count": null,
      "outputs": [
        {
          "output_type": "stream",
          "name": "stdout",
          "text": [
            "Sun Sep 29 15:25:22 2024       \n",
            "+---------------------------------------------------------------------------------------+\n",
            "| NVIDIA-SMI 535.104.05             Driver Version: 535.104.05   CUDA Version: 12.2     |\n",
            "|-----------------------------------------+----------------------+----------------------+\n",
            "| GPU  Name                 Persistence-M | Bus-Id        Disp.A | Volatile Uncorr. ECC |\n",
            "| Fan  Temp   Perf          Pwr:Usage/Cap |         Memory-Usage | GPU-Util  Compute M. |\n",
            "|                                         |                      |               MIG M. |\n",
            "|=========================================+======================+======================|\n",
            "|   0  Tesla T4                       Off | 00000000:00:04.0 Off |                    0 |\n",
            "| N/A   46C    P8              10W /  70W |      0MiB / 15360MiB |      0%      Default |\n",
            "|                                         |                      |                  N/A |\n",
            "+-----------------------------------------+----------------------+----------------------+\n",
            "                                                                                         \n",
            "+---------------------------------------------------------------------------------------+\n",
            "| Processes:                                                                            |\n",
            "|  GPU   GI   CI        PID   Type   Process name                            GPU Memory |\n",
            "|        ID   ID                                                             Usage      |\n",
            "|=======================================================================================|\n",
            "|  No running processes found                                                           |\n",
            "+---------------------------------------------------------------------------------------+\n"
          ]
        }
      ]
    },
    {
      "cell_type": "markdown",
      "source": [
        "## upload the model"
      ],
      "metadata": {
        "id": "tkpvFAxzWwof"
      }
    },
    {
      "cell_type": "code",
      "source": [
        "#model = YOLO('/kaggle/input/best/pytorch/default/1/best.pt')\n",
        "# first experiment using the pervious model from the mini project"
      ],
      "metadata": {
        "execution": {
          "iopub.status.busy": "2024-09-28T13:02:20.746750Z",
          "iopub.execute_input": "2024-09-28T13:02:20.747177Z",
          "iopub.status.idle": "2024-09-28T13:02:20.752141Z",
          "shell.execute_reply.started": "2024-09-28T13:02:20.747140Z",
          "shell.execute_reply": "2024-09-28T13:02:20.750589Z"
        },
        "trusted": true,
        "id": "lyzAVqINWwof"
      },
      "execution_count": null,
      "outputs": []
    },
    {
      "cell_type": "code",
      "source": [
        "# second experiment usning yolov8n-seg\n",
        "model = YOLO(\"yolov8n-seg.pt\")"
      ],
      "metadata": {
        "execution": {
          "iopub.status.busy": "2024-09-28T13:02:21.644247Z",
          "iopub.execute_input": "2024-09-28T13:02:21.644603Z",
          "iopub.status.idle": "2024-09-28T13:02:22.437069Z",
          "shell.execute_reply.started": "2024-09-28T13:02:21.644570Z",
          "shell.execute_reply": "2024-09-28T13:02:22.436041Z"
        },
        "trusted": true,
        "colab": {
          "base_uri": "https://localhost:8080/"
        },
        "id": "ewSqQcyyWwof",
        "outputId": "c7b92d39-2ed9-4bbe-b81b-92e7707f8a92"
      },
      "execution_count": null,
      "outputs": [
        {
          "output_type": "stream",
          "name": "stdout",
          "text": [
            "Downloading https://github.com/ultralytics/assets/releases/download/v8.2.0/yolov8n-seg.pt to 'yolov8n-seg.pt'...\n"
          ]
        },
        {
          "output_type": "stream",
          "name": "stderr",
          "text": [
            "100%|██████████| 6.74M/6.74M [00:00<00:00, 24.2MB/s]\n"
          ]
        }
      ]
    },
    {
      "cell_type": "markdown",
      "source": [
        "## overwrite the data.yaml file"
      ],
      "metadata": {
        "id": "kw0TsM49Wwog"
      }
    },
    {
      "cell_type": "code",
      "source": [
        "%%writefile /content/Road-Lines-Segmentation-3-2/data.yaml\n",
        "names:\n",
        "- car\n",
        "- license_plate\n",
        "- solid-yellow-line\n",
        "nc: 3\n",
        "roboflow:\n",
        "  license: CC BY 4.0\n",
        "  project: road-lines-segmentation-3\n",
        "  url: https://universe.roboflow.com/capstoneteam/road-lines-segmentation-3/dataset/2\n",
        "  version: 2\n",
        "  workspace: capstoneteam\n",
        "test: /content/Road-Lines-Segmentation-3-2/test/images\n",
        "train: /content/Road-Lines-Segmentation-3-2/train/images\n",
        "val: /content/Road-Lines-Segmentation-3-2/valid/images\n"
      ],
      "metadata": {
        "execution": {
          "iopub.status.busy": "2024-09-28T13:02:36.546804Z",
          "iopub.execute_input": "2024-09-28T13:02:36.547180Z",
          "iopub.status.idle": "2024-09-28T13:02:36.553755Z",
          "shell.execute_reply.started": "2024-09-28T13:02:36.547146Z",
          "shell.execute_reply": "2024-09-28T13:02:36.552883Z"
        },
        "trusted": true,
        "colab": {
          "base_uri": "https://localhost:8080/"
        },
        "id": "jed6tbChWwog",
        "outputId": "3c21501a-7748-4648-90d7-69f48d33d4fe"
      },
      "execution_count": null,
      "outputs": [
        {
          "output_type": "stream",
          "name": "stdout",
          "text": [
            "Overwriting /content/Road-Lines-Segmentation-3-2/data.yaml\n"
          ]
        }
      ]
    },
    {
      "cell_type": "markdown",
      "source": [
        "## Hyperparameters, finetuning"
      ],
      "metadata": {
        "id": "4ZZEhtnbWwoh"
      }
    },
    {
      "cell_type": "code",
      "source": [
        "IMG_SIZE = 640\n",
        "BATCH_SIZE = -1\n",
        "EPOCHS = 100"
      ],
      "metadata": {
        "execution": {
          "iopub.status.busy": "2024-09-28T13:02:39.001475Z",
          "iopub.execute_input": "2024-09-28T13:02:39.001876Z",
          "iopub.status.idle": "2024-09-28T13:02:39.006474Z",
          "shell.execute_reply.started": "2024-09-28T13:02:39.001840Z",
          "shell.execute_reply": "2024-09-28T13:02:39.005296Z"
        },
        "trusted": true,
        "id": "cnWTMoS8Wwoh"
      },
      "execution_count": null,
      "outputs": []
    },
    {
      "cell_type": "code",
      "source": [
        "results = model.train(\n",
        "    data = '/content/Road-Lines-Segmentation-3-2/data.yaml',\n",
        "    task = 'segment',\n",
        "    imgsz = IMG_SIZE,\n",
        "    epochs = EPOCHS,\n",
        "    batch = -1,\n",
        "    device = 0,\n",
        "    verbose = True,\n",
        "    seed = 93,\n",
        "    plots = True,\n",
        "    val = True,\n",
        "    name = 'Segment-Model-V5',\n",
        "    project = 'Model-V5',\n",
        "    patience = 20,\n",
        "    save = True,\n",
        "    optimizer = 'SGD',\n",
        "    lr0 = 0.001,\n",
        "    lrf = 0.0001,\n",
        "    momentum = 0.937,\n",
        "    weight_decay = 0.0005,\n",
        "    cos_lr=True,\n",
        "    profile=True,\n",
        "    freeze=10,\n",
        "    dropout=0.2\n",
        ")"
      ],
      "metadata": {
        "execution": {
          "iopub.status.busy": "2024-09-28T13:02:43.081491Z",
          "iopub.execute_input": "2024-09-28T13:02:43.081900Z",
          "iopub.status.idle": "2024-09-28T16:10:32.771930Z",
          "shell.execute_reply.started": "2024-09-28T13:02:43.081853Z",
          "shell.execute_reply": "2024-09-28T16:10:32.771000Z"
        },
        "trusted": true,
        "colab": {
          "base_uri": "https://localhost:8080/"
        },
        "id": "8amn9XS6Wwoi",
        "outputId": "ad73f77f-a203-4275-a7ec-0cf125c15f56"
      },
      "execution_count": null,
      "outputs": [
        {
          "output_type": "stream",
          "name": "stdout",
          "text": [
            "Ultralytics YOLOv8.2.103 🚀 Python-3.10.12 torch-2.4.1+cu121 CUDA:0 (Tesla T4, 15102MiB)\n",
            "\u001b[34m\u001b[1mengine/trainer: \u001b[0mtask=segment, mode=train, model=yolov8n-seg.pt, data=/content/Road-Lines-Segmentation-3-2/data.yaml, epochs=100, time=None, patience=20, batch=-1, imgsz=640, save=True, save_period=-1, cache=False, device=0, workers=8, project=Model-V5, name=Segment-Model-V5, exist_ok=False, pretrained=True, optimizer=SGD, verbose=True, seed=93, deterministic=True, single_cls=False, rect=False, cos_lr=True, close_mosaic=10, resume=False, amp=True, fraction=1.0, profile=True, freeze=10, multi_scale=False, overlap_mask=True, mask_ratio=4, dropout=0.2, val=True, split=val, save_json=False, save_hybrid=False, conf=None, iou=0.7, max_det=300, half=False, dnn=False, plots=True, source=None, vid_stride=1, stream_buffer=False, visualize=False, augment=False, agnostic_nms=False, classes=None, retina_masks=False, embed=None, show=False, save_frames=False, save_txt=False, save_conf=False, save_crop=False, show_labels=True, show_conf=True, show_boxes=True, line_width=None, format=torchscript, keras=False, optimize=False, int8=False, dynamic=False, simplify=True, opset=None, workspace=4, nms=False, lr0=0.001, lrf=0.0001, momentum=0.937, weight_decay=0.0005, warmup_epochs=3.0, warmup_momentum=0.8, warmup_bias_lr=0.1, box=7.5, cls=0.5, dfl=1.5, pose=12.0, kobj=1.0, label_smoothing=0.0, nbs=64, hsv_h=0.015, hsv_s=0.7, hsv_v=0.4, degrees=0.0, translate=0.1, scale=0.5, shear=0.0, perspective=0.0, flipud=0.0, fliplr=0.5, bgr=0.0, mosaic=1.0, mixup=0.0, copy_paste=0.0, auto_augment=randaugment, erasing=0.4, crop_fraction=1.0, cfg=None, tracker=botsort.yaml, save_dir=Model-V5/Segment-Model-V5\n",
            "Downloading https://ultralytics.com/assets/Arial.ttf to '/root/.config/Ultralytics/Arial.ttf'...\n"
          ]
        },
        {
          "output_type": "stream",
          "name": "stderr",
          "text": [
            "100%|██████████| 755k/755k [00:00<00:00, 4.28MB/s]\n"
          ]
        },
        {
          "output_type": "stream",
          "name": "stdout",
          "text": [
            "Overriding model.yaml nc=80 with nc=3\n",
            "\n",
            "                   from  n    params  module                                       arguments                     \n",
            "  0                  -1  1       464  ultralytics.nn.modules.conv.Conv             [3, 16, 3, 2]                 \n",
            "  1                  -1  1      4672  ultralytics.nn.modules.conv.Conv             [16, 32, 3, 2]                \n",
            "  2                  -1  1      7360  ultralytics.nn.modules.block.C2f             [32, 32, 1, True]             \n",
            "  3                  -1  1     18560  ultralytics.nn.modules.conv.Conv             [32, 64, 3, 2]                \n",
            "  4                  -1  2     49664  ultralytics.nn.modules.block.C2f             [64, 64, 2, True]             \n",
            "  5                  -1  1     73984  ultralytics.nn.modules.conv.Conv             [64, 128, 3, 2]               \n",
            "  6                  -1  2    197632  ultralytics.nn.modules.block.C2f             [128, 128, 2, True]           \n",
            "  7                  -1  1    295424  ultralytics.nn.modules.conv.Conv             [128, 256, 3, 2]              \n",
            "  8                  -1  1    460288  ultralytics.nn.modules.block.C2f             [256, 256, 1, True]           \n",
            "  9                  -1  1    164608  ultralytics.nn.modules.block.SPPF            [256, 256, 5]                 \n",
            " 10                  -1  1         0  torch.nn.modules.upsampling.Upsample         [None, 2, 'nearest']          \n",
            " 11             [-1, 6]  1         0  ultralytics.nn.modules.conv.Concat           [1]                           \n",
            " 12                  -1  1    148224  ultralytics.nn.modules.block.C2f             [384, 128, 1]                 \n",
            " 13                  -1  1         0  torch.nn.modules.upsampling.Upsample         [None, 2, 'nearest']          \n",
            " 14             [-1, 4]  1         0  ultralytics.nn.modules.conv.Concat           [1]                           \n",
            " 15                  -1  1     37248  ultralytics.nn.modules.block.C2f             [192, 64, 1]                  \n",
            " 16                  -1  1     36992  ultralytics.nn.modules.conv.Conv             [64, 64, 3, 2]                \n",
            " 17            [-1, 12]  1         0  ultralytics.nn.modules.conv.Concat           [1]                           \n",
            " 18                  -1  1    123648  ultralytics.nn.modules.block.C2f             [192, 128, 1]                 \n",
            " 19                  -1  1    147712  ultralytics.nn.modules.conv.Conv             [128, 128, 3, 2]              \n",
            " 20             [-1, 9]  1         0  ultralytics.nn.modules.conv.Concat           [1]                           \n",
            " 21                  -1  1    493056  ultralytics.nn.modules.block.C2f             [384, 256, 1]                 \n",
            " 22        [15, 18, 21]  1   1004665  ultralytics.nn.modules.head.Segment          [3, 32, 64, [64, 128, 256]]   \n",
            "YOLOv8n-seg summary: 261 layers, 3,264,201 parameters, 3,264,185 gradients, 12.1 GFLOPs\n",
            "\n",
            "Transferred 381/417 items from pretrained weights\n",
            "\u001b[34m\u001b[1mTensorBoard: \u001b[0mStart with 'tensorboard --logdir Model-V5/Segment-Model-V5', view at http://localhost:6006/\n",
            "Freezing layer 'model.0.conv.weight'\n",
            "Freezing layer 'model.0.bn.weight'\n",
            "Freezing layer 'model.0.bn.bias'\n",
            "Freezing layer 'model.1.conv.weight'\n",
            "Freezing layer 'model.1.bn.weight'\n",
            "Freezing layer 'model.1.bn.bias'\n",
            "Freezing layer 'model.2.cv1.conv.weight'\n",
            "Freezing layer 'model.2.cv1.bn.weight'\n",
            "Freezing layer 'model.2.cv1.bn.bias'\n",
            "Freezing layer 'model.2.cv2.conv.weight'\n",
            "Freezing layer 'model.2.cv2.bn.weight'\n",
            "Freezing layer 'model.2.cv2.bn.bias'\n",
            "Freezing layer 'model.2.m.0.cv1.conv.weight'\n",
            "Freezing layer 'model.2.m.0.cv1.bn.weight'\n",
            "Freezing layer 'model.2.m.0.cv1.bn.bias'\n",
            "Freezing layer 'model.2.m.0.cv2.conv.weight'\n",
            "Freezing layer 'model.2.m.0.cv2.bn.weight'\n",
            "Freezing layer 'model.2.m.0.cv2.bn.bias'\n",
            "Freezing layer 'model.3.conv.weight'\n",
            "Freezing layer 'model.3.bn.weight'\n",
            "Freezing layer 'model.3.bn.bias'\n",
            "Freezing layer 'model.4.cv1.conv.weight'\n",
            "Freezing layer 'model.4.cv1.bn.weight'\n",
            "Freezing layer 'model.4.cv1.bn.bias'\n",
            "Freezing layer 'model.4.cv2.conv.weight'\n",
            "Freezing layer 'model.4.cv2.bn.weight'\n",
            "Freezing layer 'model.4.cv2.bn.bias'\n",
            "Freezing layer 'model.4.m.0.cv1.conv.weight'\n",
            "Freezing layer 'model.4.m.0.cv1.bn.weight'\n",
            "Freezing layer 'model.4.m.0.cv1.bn.bias'\n",
            "Freezing layer 'model.4.m.0.cv2.conv.weight'\n",
            "Freezing layer 'model.4.m.0.cv2.bn.weight'\n",
            "Freezing layer 'model.4.m.0.cv2.bn.bias'\n",
            "Freezing layer 'model.4.m.1.cv1.conv.weight'\n",
            "Freezing layer 'model.4.m.1.cv1.bn.weight'\n",
            "Freezing layer 'model.4.m.1.cv1.bn.bias'\n",
            "Freezing layer 'model.4.m.1.cv2.conv.weight'\n",
            "Freezing layer 'model.4.m.1.cv2.bn.weight'\n",
            "Freezing layer 'model.4.m.1.cv2.bn.bias'\n",
            "Freezing layer 'model.5.conv.weight'\n",
            "Freezing layer 'model.5.bn.weight'\n",
            "Freezing layer 'model.5.bn.bias'\n",
            "Freezing layer 'model.6.cv1.conv.weight'\n",
            "Freezing layer 'model.6.cv1.bn.weight'\n",
            "Freezing layer 'model.6.cv1.bn.bias'\n",
            "Freezing layer 'model.6.cv2.conv.weight'\n",
            "Freezing layer 'model.6.cv2.bn.weight'\n",
            "Freezing layer 'model.6.cv2.bn.bias'\n",
            "Freezing layer 'model.6.m.0.cv1.conv.weight'\n",
            "Freezing layer 'model.6.m.0.cv1.bn.weight'\n",
            "Freezing layer 'model.6.m.0.cv1.bn.bias'\n",
            "Freezing layer 'model.6.m.0.cv2.conv.weight'\n",
            "Freezing layer 'model.6.m.0.cv2.bn.weight'\n",
            "Freezing layer 'model.6.m.0.cv2.bn.bias'\n",
            "Freezing layer 'model.6.m.1.cv1.conv.weight'\n",
            "Freezing layer 'model.6.m.1.cv1.bn.weight'\n",
            "Freezing layer 'model.6.m.1.cv1.bn.bias'\n",
            "Freezing layer 'model.6.m.1.cv2.conv.weight'\n",
            "Freezing layer 'model.6.m.1.cv2.bn.weight'\n",
            "Freezing layer 'model.6.m.1.cv2.bn.bias'\n",
            "Freezing layer 'model.7.conv.weight'\n",
            "Freezing layer 'model.7.bn.weight'\n",
            "Freezing layer 'model.7.bn.bias'\n",
            "Freezing layer 'model.8.cv1.conv.weight'\n",
            "Freezing layer 'model.8.cv1.bn.weight'\n",
            "Freezing layer 'model.8.cv1.bn.bias'\n",
            "Freezing layer 'model.8.cv2.conv.weight'\n",
            "Freezing layer 'model.8.cv2.bn.weight'\n",
            "Freezing layer 'model.8.cv2.bn.bias'\n",
            "Freezing layer 'model.8.m.0.cv1.conv.weight'\n",
            "Freezing layer 'model.8.m.0.cv1.bn.weight'\n",
            "Freezing layer 'model.8.m.0.cv1.bn.bias'\n",
            "Freezing layer 'model.8.m.0.cv2.conv.weight'\n",
            "Freezing layer 'model.8.m.0.cv2.bn.weight'\n",
            "Freezing layer 'model.8.m.0.cv2.bn.bias'\n",
            "Freezing layer 'model.9.cv1.conv.weight'\n",
            "Freezing layer 'model.9.cv1.bn.weight'\n",
            "Freezing layer 'model.9.cv1.bn.bias'\n",
            "Freezing layer 'model.9.cv2.conv.weight'\n",
            "Freezing layer 'model.9.cv2.bn.weight'\n",
            "Freezing layer 'model.9.cv2.bn.bias'\n",
            "Freezing layer 'model.22.dfl.conv.weight'\n",
            "\u001b[34m\u001b[1mAMP: \u001b[0mrunning Automatic Mixed Precision (AMP) checks with YOLOv8n...\n",
            "Downloading https://github.com/ultralytics/assets/releases/download/v8.2.0/yolov8n.pt to 'yolov8n.pt'...\n"
          ]
        },
        {
          "output_type": "stream",
          "name": "stderr",
          "text": [
            "100%|██████████| 6.25M/6.25M [00:00<00:00, 22.8MB/s]\n"
          ]
        },
        {
          "output_type": "stream",
          "name": "stdout",
          "text": [
            "\u001b[34m\u001b[1mAMP: \u001b[0mchecks passed ✅\n",
            "\u001b[34m\u001b[1mAutoBatch: \u001b[0mComputing optimal batch size for imgsz=640 at 60.0% CUDA memory utilization.\n",
            "\u001b[34m\u001b[1mAutoBatch: \u001b[0mCUDA:0 (Tesla T4) 14.75G total, 0.08G reserved, 0.07G allocated, 14.60G free\n",
            "      Params      GFLOPs  GPU_mem (GB)  forward (ms) backward (ms)                   input                  output\n",
            "     3264201       12.11         0.218         36.27           nan        (1, 3, 640, 640)                    list\n",
            "     3264201       24.22         0.352         21.23           nan        (2, 3, 640, 640)                    list\n",
            "     3264201       48.45         0.640         21.23           nan        (4, 3, 640, 640)                    list\n",
            "     3264201       96.89         1.214         36.53           nan        (8, 3, 640, 640)                    list\n",
            "     3264201       193.8         2.294         50.13           nan       (16, 3, 640, 640)                    list\n",
            "\u001b[34m\u001b[1mAutoBatch: \u001b[0mUsing batch-size 62 for CUDA:0 8.84G/14.75G (60%) ✅\n"
          ]
        },
        {
          "output_type": "stream",
          "name": "stderr",
          "text": [
            "\u001b[34m\u001b[1mtrain: \u001b[0mScanning /content/Road-Lines-Segmentation-3-2/train/labels... 14979 images, 0 backgrounds, 0 corrupt: 100%|██████████| 14979/14979 [00:14<00:00, 1049.81it/s]"
          ]
        },
        {
          "output_type": "stream",
          "name": "stdout",
          "text": [
            "\u001b[34m\u001b[1mtrain: \u001b[0mWARNING ⚠️ /content/Road-Lines-Segmentation-3-2/train/images/cars-NO20240914-114048-000222F_MP4-0093_jpg.rf.2abb71be255843394eb63540a6fb6be4.jpg: 1 duplicate labels removed\n",
            "\u001b[34m\u001b[1mtrain: \u001b[0mWARNING ⚠️ /content/Road-Lines-Segmentation-3-2/train/images/cars-NO20240914-114048-000222F_MP4-0093_jpg.rf.8a4cf277a732960b0d8ab7a87b08f053.jpg: 1 duplicate labels removed\n",
            "\u001b[34m\u001b[1mtrain: \u001b[0mWARNING ⚠️ /content/Road-Lines-Segmentation-3-2/train/images/cars-NO20240914-114048-000222F_MP4-0093_jpg.rf.c9ae506704882637bff3215b9ca0c779.jpg: 1 duplicate labels removed\n",
            "\u001b[34m\u001b[1mtrain: \u001b[0mWARNING ⚠️ /content/Road-Lines-Segmentation-3-2/train/images/v14_mp4-0015_jpg.rf.013c8f2550f591d2b4e4af6d5bf296ea.jpg: 1 duplicate labels removed\n",
            "\u001b[34m\u001b[1mtrain: \u001b[0mWARNING ⚠️ /content/Road-Lines-Segmentation-3-2/train/images/v14_mp4-0015_jpg.rf.af24a2bc89bba4216776e2a67f3f884e.jpg: 1 duplicate labels removed\n",
            "\u001b[34m\u001b[1mtrain: \u001b[0mWARNING ⚠️ /content/Road-Lines-Segmentation-3-2/train/images/v14_mp4-0015_jpg.rf.ced1787879aacb4ae978c98717082edf.jpg: 1 duplicate labels removed\n"
          ]
        },
        {
          "output_type": "stream",
          "name": "stderr",
          "text": [
            "\n"
          ]
        },
        {
          "output_type": "stream",
          "name": "stdout",
          "text": [
            "\u001b[34m\u001b[1mtrain: \u001b[0mNew cache created: /content/Road-Lines-Segmentation-3-2/train/labels.cache\n",
            "\u001b[34m\u001b[1malbumentations: \u001b[0mBlur(p=0.01, blur_limit=(3, 7)), MedianBlur(p=0.01, blur_limit=(3, 7)), ToGray(p=0.01, num_output_channels=3, method='weighted_average'), CLAHE(p=0.01, clip_limit=(1, 4.0), tile_grid_size=(8, 8))\n"
          ]
        },
        {
          "output_type": "stream",
          "name": "stderr",
          "text": [
            "A new version of Albumentations is available: 1.4.16 (you have 1.4.15). Upgrade using: pip install -U albumentations. To disable automatic update checks, set the environment variable NO_ALBUMENTATIONS_UPDATE to 1.\n",
            "\u001b[34m\u001b[1mval: \u001b[0mScanning /content/Road-Lines-Segmentation-3-2/valid/labels... 1816 images, 0 backgrounds, 0 corrupt: 100%|██████████| 1816/1816 [00:02<00:00, 865.05it/s]"
          ]
        },
        {
          "output_type": "stream",
          "name": "stdout",
          "text": [
            "\u001b[34m\u001b[1mval: \u001b[0mWARNING ⚠️ /content/Road-Lines-Segmentation-3-2/valid/images/front-left-NO20240903-145041-000844F_MP4-0244_jpg.rf.d35bf3f6a9afb53703cdd639f4526b98.jpg: 1 duplicate labels removed\n"
          ]
        },
        {
          "output_type": "stream",
          "name": "stderr",
          "text": [
            "\n"
          ]
        },
        {
          "output_type": "stream",
          "name": "stdout",
          "text": [
            "\u001b[34m\u001b[1mval: \u001b[0mNew cache created: /content/Road-Lines-Segmentation-3-2/valid/labels.cache\n",
            "Plotting labels to Model-V5/Segment-Model-V5/labels.jpg... \n",
            "\u001b[34m\u001b[1moptimizer:\u001b[0m SGD(lr=0.001, momentum=0.937) with parameter groups 66 weight(decay=0.0), 77 weight(decay=0.000484375), 76 bias(decay=0.0)\n",
            "\u001b[34m\u001b[1mTensorBoard: \u001b[0mmodel graph visualization added ✅\n",
            "Image sizes 640 train, 640 val\n",
            "Using 8 dataloader workers\n",
            "Logging results to \u001b[1mModel-V5/Segment-Model-V5\u001b[0m\n",
            "Starting training for 100 epochs...\n",
            "\n",
            "      Epoch    GPU_mem   box_loss   seg_loss   cls_loss   dfl_loss  Instances       Size\n"
          ]
        },
        {
          "output_type": "stream",
          "name": "stderr",
          "text": [
            "      1/100      6.42G     0.9598       1.59      2.451      1.005        151        640: 100%|██████████| 242/242 [02:32<00:00,  1.59it/s]\n",
            "                 Class     Images  Instances      Box(P          R      mAP50  mAP50-95)     Mask(P          R      mAP50  mAP50-95): 100%|██████████| 15/15 [00:18<00:00,  1.23s/it]\n"
          ]
        },
        {
          "output_type": "stream",
          "name": "stdout",
          "text": [
            "                   all       1816       7060      0.893      0.522      0.569      0.444      0.897      0.527      0.571      0.361\n",
            "\n",
            "      Epoch    GPU_mem   box_loss   seg_loss   cls_loss   dfl_loss  Instances       Size\n"
          ]
        },
        {
          "output_type": "stream",
          "name": "stderr",
          "text": [
            "      2/100      6.72G     0.7712      1.164     0.9724     0.9157        183        640: 100%|██████████| 242/242 [02:31<00:00,  1.59it/s]\n",
            "                 Class     Images  Instances      Box(P          R      mAP50  mAP50-95)     Mask(P          R      mAP50  mAP50-95): 100%|██████████| 15/15 [00:16<00:00,  1.11s/it]\n"
          ]
        },
        {
          "output_type": "stream",
          "name": "stdout",
          "text": [
            "                   all       1816       7060      0.914      0.534      0.591      0.477      0.916      0.537      0.591      0.386\n",
            "\n",
            "      Epoch    GPU_mem   box_loss   seg_loss   cls_loss   dfl_loss  Instances       Size\n"
          ]
        },
        {
          "output_type": "stream",
          "name": "stderr",
          "text": [
            "      3/100      6.65G     0.7249      1.074     0.8027     0.8969        114        640: 100%|██████████| 242/242 [02:31<00:00,  1.59it/s]\n",
            "                 Class     Images  Instances      Box(P          R      mAP50  mAP50-95)     Mask(P          R      mAP50  mAP50-95): 100%|██████████| 15/15 [00:16<00:00,  1.11s/it]"
          ]
        },
        {
          "output_type": "stream",
          "name": "stdout",
          "text": [
            "                   all       1816       7060       0.91      0.555      0.627      0.495      0.914      0.549      0.613      0.402\n"
          ]
        },
        {
          "output_type": "stream",
          "name": "stderr",
          "text": [
            "\n"
          ]
        },
        {
          "output_type": "stream",
          "name": "stdout",
          "text": [
            "\n",
            "      Epoch    GPU_mem   box_loss   seg_loss   cls_loss   dfl_loss  Instances       Size\n"
          ]
        },
        {
          "output_type": "stream",
          "name": "stderr",
          "text": [
            "      4/100      6.53G     0.6961      1.012     0.7216     0.8858        174        640: 100%|██████████| 242/242 [02:31<00:00,  1.59it/s]\n",
            "                 Class     Images  Instances      Box(P          R      mAP50  mAP50-95)     Mask(P          R      mAP50  mAP50-95): 100%|██████████| 15/15 [00:16<00:00,  1.10s/it]"
          ]
        },
        {
          "output_type": "stream",
          "name": "stdout",
          "text": [
            "                   all       1816       7060      0.642      0.672      0.672      0.518      0.606      0.644      0.636      0.415\n"
          ]
        },
        {
          "output_type": "stream",
          "name": "stderr",
          "text": [
            "\n"
          ]
        },
        {
          "output_type": "stream",
          "name": "stdout",
          "text": [
            "\n",
            "      Epoch    GPU_mem   box_loss   seg_loss   cls_loss   dfl_loss  Instances       Size\n"
          ]
        },
        {
          "output_type": "stream",
          "name": "stderr",
          "text": [
            "      5/100      6.73G     0.6737     0.9808      0.675     0.8775        140        640: 100%|██████████| 242/242 [02:31<00:00,  1.59it/s]\n",
            "                 Class     Images  Instances      Box(P          R      mAP50  mAP50-95)     Mask(P          R      mAP50  mAP50-95): 100%|██████████| 15/15 [00:16<00:00,  1.09s/it]"
          ]
        },
        {
          "output_type": "stream",
          "name": "stdout",
          "text": [
            "                   all       1816       7060      0.674      0.679      0.699      0.529      0.654      0.657      0.665      0.423\n"
          ]
        },
        {
          "output_type": "stream",
          "name": "stderr",
          "text": [
            "\n"
          ]
        },
        {
          "output_type": "stream",
          "name": "stdout",
          "text": [
            "\n",
            "      Epoch    GPU_mem   box_loss   seg_loss   cls_loss   dfl_loss  Instances       Size\n"
          ]
        },
        {
          "output_type": "stream",
          "name": "stderr",
          "text": [
            "      6/100      6.25G     0.6587     0.9606     0.6465     0.8723        131        640: 100%|██████████| 242/242 [02:31<00:00,  1.59it/s]\n",
            "                 Class     Images  Instances      Box(P          R      mAP50  mAP50-95)     Mask(P          R      mAP50  mAP50-95): 100%|██████████| 15/15 [00:16<00:00,  1.09s/it]"
          ]
        },
        {
          "output_type": "stream",
          "name": "stdout",
          "text": [
            "                   all       1816       7060      0.722      0.689      0.714      0.549      0.686      0.656      0.666      0.427\n"
          ]
        },
        {
          "output_type": "stream",
          "name": "stderr",
          "text": [
            "\n"
          ]
        },
        {
          "output_type": "stream",
          "name": "stdout",
          "text": [
            "\n",
            "      Epoch    GPU_mem   box_loss   seg_loss   cls_loss   dfl_loss  Instances       Size\n"
          ]
        },
        {
          "output_type": "stream",
          "name": "stderr",
          "text": [
            "      7/100      6.53G     0.6476     0.9459     0.6233     0.8667        154        640: 100%|██████████| 242/242 [02:32<00:00,  1.59it/s]\n",
            "                 Class     Images  Instances      Box(P          R      mAP50  mAP50-95)     Mask(P          R      mAP50  mAP50-95): 100%|██████████| 15/15 [00:16<00:00,  1.09s/it]"
          ]
        },
        {
          "output_type": "stream",
          "name": "stdout",
          "text": [
            "                   all       1816       7060      0.742      0.695      0.716      0.552      0.708      0.658       0.67      0.428\n"
          ]
        },
        {
          "output_type": "stream",
          "name": "stderr",
          "text": [
            "\n"
          ]
        },
        {
          "output_type": "stream",
          "name": "stdout",
          "text": [
            "\n",
            "      Epoch    GPU_mem   box_loss   seg_loss   cls_loss   dfl_loss  Instances       Size\n"
          ]
        },
        {
          "output_type": "stream",
          "name": "stderr",
          "text": [
            "      8/100      6.44G     0.6436     0.9323      0.608     0.8658        165        640: 100%|██████████| 242/242 [02:31<00:00,  1.60it/s]\n",
            "                 Class     Images  Instances      Box(P          R      mAP50  mAP50-95)     Mask(P          R      mAP50  mAP50-95): 100%|██████████| 15/15 [00:16<00:00,  1.08s/it]"
          ]
        },
        {
          "output_type": "stream",
          "name": "stdout",
          "text": [
            "                   all       1816       7060        0.7      0.712      0.718      0.553       0.64      0.679      0.672      0.432\n"
          ]
        },
        {
          "output_type": "stream",
          "name": "stderr",
          "text": [
            "\n"
          ]
        },
        {
          "output_type": "stream",
          "name": "stdout",
          "text": [
            "\n",
            "      Epoch    GPU_mem   box_loss   seg_loss   cls_loss   dfl_loss  Instances       Size\n"
          ]
        },
        {
          "output_type": "stream",
          "name": "stderr",
          "text": [
            "      9/100      6.34G     0.6312     0.9193     0.5893     0.8629        148        640: 100%|██████████| 242/242 [02:31<00:00,  1.59it/s]\n",
            "                 Class     Images  Instances      Box(P          R      mAP50  mAP50-95)     Mask(P          R      mAP50  mAP50-95): 100%|██████████| 15/15 [00:16<00:00,  1.09s/it]"
          ]
        },
        {
          "output_type": "stream",
          "name": "stdout",
          "text": [
            "                   all       1816       7060       0.74      0.692      0.724      0.556       0.72      0.661       0.68      0.434\n"
          ]
        },
        {
          "output_type": "stream",
          "name": "stderr",
          "text": [
            "\n"
          ]
        },
        {
          "output_type": "stream",
          "name": "stdout",
          "text": [
            "\n",
            "      Epoch    GPU_mem   box_loss   seg_loss   cls_loss   dfl_loss  Instances       Size\n"
          ]
        },
        {
          "output_type": "stream",
          "name": "stderr",
          "text": [
            "     10/100      6.65G     0.6277      0.913     0.5808     0.8624        157        640: 100%|██████████| 242/242 [02:32<00:00,  1.59it/s]\n",
            "                 Class     Images  Instances      Box(P          R      mAP50  mAP50-95)     Mask(P          R      mAP50  mAP50-95): 100%|██████████| 15/15 [00:16<00:00,  1.09s/it]"
          ]
        },
        {
          "output_type": "stream",
          "name": "stdout",
          "text": [
            "                   all       1816       7060      0.718      0.701      0.734      0.565      0.673      0.672      0.683      0.441\n"
          ]
        },
        {
          "output_type": "stream",
          "name": "stderr",
          "text": [
            "\n"
          ]
        },
        {
          "output_type": "stream",
          "name": "stdout",
          "text": [
            "\n",
            "      Epoch    GPU_mem   box_loss   seg_loss   cls_loss   dfl_loss  Instances       Size\n"
          ]
        },
        {
          "output_type": "stream",
          "name": "stderr",
          "text": [
            "     11/100      6.52G     0.6251     0.9102     0.5711     0.8611        154        640: 100%|██████████| 242/242 [02:31<00:00,  1.60it/s]\n",
            "                 Class     Images  Instances      Box(P          R      mAP50  mAP50-95)     Mask(P          R      mAP50  mAP50-95): 100%|██████████| 15/15 [00:16<00:00,  1.09s/it]"
          ]
        },
        {
          "output_type": "stream",
          "name": "stdout",
          "text": [
            "                   all       1816       7060      0.752      0.693      0.731      0.565      0.707      0.661      0.674       0.44\n"
          ]
        },
        {
          "output_type": "stream",
          "name": "stderr",
          "text": [
            "\n"
          ]
        },
        {
          "output_type": "stream",
          "name": "stdout",
          "text": [
            "\n",
            "      Epoch    GPU_mem   box_loss   seg_loss   cls_loss   dfl_loss  Instances       Size\n"
          ]
        },
        {
          "output_type": "stream",
          "name": "stderr",
          "text": [
            "     12/100      6.47G     0.6161     0.8991     0.5612     0.8576        155        640: 100%|██████████| 242/242 [02:31<00:00,  1.59it/s]\n",
            "                 Class     Images  Instances      Box(P          R      mAP50  mAP50-95)     Mask(P          R      mAP50  mAP50-95): 100%|██████████| 15/15 [00:16<00:00,  1.08s/it]"
          ]
        },
        {
          "output_type": "stream",
          "name": "stdout",
          "text": [
            "                   all       1816       7060       0.72      0.722      0.743      0.572      0.674       0.69      0.693      0.447\n"
          ]
        },
        {
          "output_type": "stream",
          "name": "stderr",
          "text": [
            "\n"
          ]
        },
        {
          "output_type": "stream",
          "name": "stdout",
          "text": [
            "\n",
            "      Epoch    GPU_mem   box_loss   seg_loss   cls_loss   dfl_loss  Instances       Size\n"
          ]
        },
        {
          "output_type": "stream",
          "name": "stderr",
          "text": [
            "     13/100      6.48G     0.6154     0.8931     0.5538     0.8574        186        640: 100%|██████████| 242/242 [02:32<00:00,  1.59it/s]\n",
            "                 Class     Images  Instances      Box(P          R      mAP50  mAP50-95)     Mask(P          R      mAP50  mAP50-95): 100%|██████████| 15/15 [00:16<00:00,  1.08s/it]"
          ]
        },
        {
          "output_type": "stream",
          "name": "stdout",
          "text": [
            "                   all       1816       7060      0.751      0.711      0.737       0.57      0.726      0.665      0.687      0.442\n"
          ]
        },
        {
          "output_type": "stream",
          "name": "stderr",
          "text": [
            "\n"
          ]
        },
        {
          "output_type": "stream",
          "name": "stdout",
          "text": [
            "\n",
            "      Epoch    GPU_mem   box_loss   seg_loss   cls_loss   dfl_loss  Instances       Size\n"
          ]
        },
        {
          "output_type": "stream",
          "name": "stderr",
          "text": [
            "     14/100      6.46G     0.6142     0.8907     0.5482     0.8572        129        640: 100%|██████████| 242/242 [02:31<00:00,  1.60it/s]\n",
            "                 Class     Images  Instances      Box(P          R      mAP50  mAP50-95)     Mask(P          R      mAP50  mAP50-95): 100%|██████████| 15/15 [00:16<00:00,  1.09s/it]"
          ]
        },
        {
          "output_type": "stream",
          "name": "stdout",
          "text": [
            "                   all       1816       7060      0.759      0.691       0.74      0.573      0.727      0.657       0.69      0.446\n"
          ]
        },
        {
          "output_type": "stream",
          "name": "stderr",
          "text": [
            "\n"
          ]
        },
        {
          "output_type": "stream",
          "name": "stdout",
          "text": [
            "\n",
            "      Epoch    GPU_mem   box_loss   seg_loss   cls_loss   dfl_loss  Instances       Size\n"
          ]
        },
        {
          "output_type": "stream",
          "name": "stderr",
          "text": [
            "     15/100      6.43G     0.6102     0.8808     0.5422     0.8556        160        640: 100%|██████████| 242/242 [02:31<00:00,  1.60it/s]\n",
            "                 Class     Images  Instances      Box(P          R      mAP50  mAP50-95)     Mask(P          R      mAP50  mAP50-95): 100%|██████████| 15/15 [00:16<00:00,  1.09s/it]"
          ]
        },
        {
          "output_type": "stream",
          "name": "stdout",
          "text": [
            "                   all       1816       7060       0.73      0.703      0.735       0.57      0.694      0.671      0.687      0.447\n"
          ]
        },
        {
          "output_type": "stream",
          "name": "stderr",
          "text": [
            "\n"
          ]
        },
        {
          "output_type": "stream",
          "name": "stdout",
          "text": [
            "\n",
            "      Epoch    GPU_mem   box_loss   seg_loss   cls_loss   dfl_loss  Instances       Size\n"
          ]
        },
        {
          "output_type": "stream",
          "name": "stderr",
          "text": [
            "     16/100      6.34G     0.6048     0.8796     0.5353     0.8551        132        640: 100%|██████████| 242/242 [02:31<00:00,  1.59it/s]\n",
            "                 Class     Images  Instances      Box(P          R      mAP50  mAP50-95)     Mask(P          R      mAP50  mAP50-95): 100%|██████████| 15/15 [00:16<00:00,  1.08s/it]"
          ]
        },
        {
          "output_type": "stream",
          "name": "stdout",
          "text": [
            "                   all       1816       7060      0.748      0.714      0.751      0.582      0.734      0.673      0.697      0.447\n"
          ]
        },
        {
          "output_type": "stream",
          "name": "stderr",
          "text": [
            "\n"
          ]
        },
        {
          "output_type": "stream",
          "name": "stdout",
          "text": [
            "\n",
            "      Epoch    GPU_mem   box_loss   seg_loss   cls_loss   dfl_loss  Instances       Size\n"
          ]
        },
        {
          "output_type": "stream",
          "name": "stderr",
          "text": [
            "     17/100      6.59G     0.6009     0.8766     0.5288     0.8535        190        640: 100%|██████████| 242/242 [02:31<00:00,  1.59it/s]\n",
            "                 Class     Images  Instances      Box(P          R      mAP50  mAP50-95)     Mask(P          R      mAP50  mAP50-95): 100%|██████████| 15/15 [00:16<00:00,  1.08s/it]"
          ]
        },
        {
          "output_type": "stream",
          "name": "stdout",
          "text": [
            "                   all       1816       7060      0.725      0.716      0.746      0.582       0.71      0.682      0.703      0.448\n"
          ]
        },
        {
          "output_type": "stream",
          "name": "stderr",
          "text": [
            "\n"
          ]
        },
        {
          "output_type": "stream",
          "name": "stdout",
          "text": [
            "\n",
            "      Epoch    GPU_mem   box_loss   seg_loss   cls_loss   dfl_loss  Instances       Size\n"
          ]
        },
        {
          "output_type": "stream",
          "name": "stderr",
          "text": [
            "     18/100      6.64G     0.6002     0.8691     0.5274      0.852        189        640: 100%|██████████| 242/242 [02:31<00:00,  1.60it/s]\n",
            "                 Class     Images  Instances      Box(P          R      mAP50  mAP50-95)     Mask(P          R      mAP50  mAP50-95): 100%|██████████| 15/15 [00:16<00:00,  1.09s/it]"
          ]
        },
        {
          "output_type": "stream",
          "name": "stdout",
          "text": [
            "                   all       1816       7060      0.701      0.724      0.744       0.58      0.685      0.669      0.689      0.448\n"
          ]
        },
        {
          "output_type": "stream",
          "name": "stderr",
          "text": [
            "\n"
          ]
        },
        {
          "output_type": "stream",
          "name": "stdout",
          "text": [
            "\n",
            "      Epoch    GPU_mem   box_loss   seg_loss   cls_loss   dfl_loss  Instances       Size\n"
          ]
        },
        {
          "output_type": "stream",
          "name": "stderr",
          "text": [
            "     19/100      6.56G     0.5989     0.8731     0.5207     0.8523        135        640: 100%|██████████| 242/242 [02:32<00:00,  1.59it/s]\n",
            "                 Class     Images  Instances      Box(P          R      mAP50  mAP50-95)     Mask(P          R      mAP50  mAP50-95): 100%|██████████| 15/15 [00:16<00:00,  1.09s/it]"
          ]
        },
        {
          "output_type": "stream",
          "name": "stdout",
          "text": [
            "                   all       1816       7060      0.711      0.728      0.755      0.591      0.707       0.68      0.701      0.456\n"
          ]
        },
        {
          "output_type": "stream",
          "name": "stderr",
          "text": [
            "\n"
          ]
        },
        {
          "output_type": "stream",
          "name": "stdout",
          "text": [
            "\n",
            "      Epoch    GPU_mem   box_loss   seg_loss   cls_loss   dfl_loss  Instances       Size\n"
          ]
        },
        {
          "output_type": "stream",
          "name": "stderr",
          "text": [
            "     20/100      6.34G     0.5967     0.8655     0.5177     0.8526        177        640: 100%|██████████| 242/242 [02:31<00:00,  1.60it/s]\n",
            "                 Class     Images  Instances      Box(P          R      mAP50  mAP50-95)     Mask(P          R      mAP50  mAP50-95): 100%|██████████| 15/15 [00:16<00:00,  1.08s/it]"
          ]
        },
        {
          "output_type": "stream",
          "name": "stdout",
          "text": [
            "                   all       1816       7060      0.751      0.711       0.75      0.583      0.724      0.682      0.702      0.451\n"
          ]
        },
        {
          "output_type": "stream",
          "name": "stderr",
          "text": [
            "\n"
          ]
        },
        {
          "output_type": "stream",
          "name": "stdout",
          "text": [
            "\n",
            "      Epoch    GPU_mem   box_loss   seg_loss   cls_loss   dfl_loss  Instances       Size\n"
          ]
        },
        {
          "output_type": "stream",
          "name": "stderr",
          "text": [
            "     21/100      6.59G     0.5913      0.865     0.5114     0.8503        160        640: 100%|██████████| 242/242 [02:31<00:00,  1.60it/s]\n",
            "                 Class     Images  Instances      Box(P          R      mAP50  mAP50-95)     Mask(P          R      mAP50  mAP50-95): 100%|██████████| 15/15 [00:16<00:00,  1.09s/it]"
          ]
        },
        {
          "output_type": "stream",
          "name": "stdout",
          "text": [
            "                   all       1816       7060      0.765      0.702      0.746      0.583       0.72      0.675      0.695      0.452\n"
          ]
        },
        {
          "output_type": "stream",
          "name": "stderr",
          "text": [
            "\n"
          ]
        },
        {
          "output_type": "stream",
          "name": "stdout",
          "text": [
            "\n",
            "      Epoch    GPU_mem   box_loss   seg_loss   cls_loss   dfl_loss  Instances       Size\n"
          ]
        },
        {
          "output_type": "stream",
          "name": "stderr",
          "text": [
            "     22/100      6.56G     0.5915     0.8629     0.5075     0.8498        169        640: 100%|██████████| 242/242 [02:31<00:00,  1.59it/s]\n",
            "                 Class     Images  Instances      Box(P          R      mAP50  mAP50-95)     Mask(P          R      mAP50  mAP50-95): 100%|██████████| 15/15 [00:16<00:00,  1.08s/it]"
          ]
        },
        {
          "output_type": "stream",
          "name": "stdout",
          "text": [
            "                   all       1816       7060      0.736      0.705      0.743      0.579      0.723      0.674      0.699      0.447\n"
          ]
        },
        {
          "output_type": "stream",
          "name": "stderr",
          "text": [
            "\n"
          ]
        },
        {
          "output_type": "stream",
          "name": "stdout",
          "text": [
            "\n",
            "      Epoch    GPU_mem   box_loss   seg_loss   cls_loss   dfl_loss  Instances       Size\n"
          ]
        },
        {
          "output_type": "stream",
          "name": "stderr",
          "text": [
            "     23/100      6.62G      0.589     0.8586     0.5034     0.8492        142        640: 100%|██████████| 242/242 [02:31<00:00,  1.60it/s]\n",
            "                 Class     Images  Instances      Box(P          R      mAP50  mAP50-95)     Mask(P          R      mAP50  mAP50-95): 100%|██████████| 15/15 [00:16<00:00,  1.08s/it]"
          ]
        },
        {
          "output_type": "stream",
          "name": "stdout",
          "text": [
            "                   all       1816       7060       0.74      0.716      0.749      0.584      0.715      0.686      0.702      0.455\n"
          ]
        },
        {
          "output_type": "stream",
          "name": "stderr",
          "text": [
            "\n"
          ]
        },
        {
          "output_type": "stream",
          "name": "stdout",
          "text": [
            "\n",
            "      Epoch    GPU_mem   box_loss   seg_loss   cls_loss   dfl_loss  Instances       Size\n"
          ]
        },
        {
          "output_type": "stream",
          "name": "stderr",
          "text": [
            "     24/100      6.46G     0.5873     0.8555     0.4995     0.8491        156        640: 100%|██████████| 242/242 [02:31<00:00,  1.60it/s]\n",
            "                 Class     Images  Instances      Box(P          R      mAP50  mAP50-95)     Mask(P          R      mAP50  mAP50-95): 100%|██████████| 15/15 [00:16<00:00,  1.08s/it]"
          ]
        },
        {
          "output_type": "stream",
          "name": "stdout",
          "text": [
            "                   all       1816       7060      0.734      0.736       0.76      0.593      0.719      0.686      0.702      0.455\n"
          ]
        },
        {
          "output_type": "stream",
          "name": "stderr",
          "text": [
            "\n"
          ]
        },
        {
          "output_type": "stream",
          "name": "stdout",
          "text": [
            "\n",
            "      Epoch    GPU_mem   box_loss   seg_loss   cls_loss   dfl_loss  Instances       Size\n"
          ]
        },
        {
          "output_type": "stream",
          "name": "stderr",
          "text": [
            "     25/100      6.55G      0.588     0.8578     0.4992     0.8492        148        640: 100%|██████████| 242/242 [02:31<00:00,  1.59it/s]\n",
            "                 Class     Images  Instances      Box(P          R      mAP50  mAP50-95)     Mask(P          R      mAP50  mAP50-95): 100%|██████████| 15/15 [00:16<00:00,  1.09s/it]"
          ]
        },
        {
          "output_type": "stream",
          "name": "stdout",
          "text": [
            "                   all       1816       7060      0.737      0.729      0.755      0.586      0.704      0.675       0.69      0.447\n"
          ]
        },
        {
          "output_type": "stream",
          "name": "stderr",
          "text": [
            "\n"
          ]
        },
        {
          "output_type": "stream",
          "name": "stdout",
          "text": [
            "\n",
            "      Epoch    GPU_mem   box_loss   seg_loss   cls_loss   dfl_loss  Instances       Size\n"
          ]
        },
        {
          "output_type": "stream",
          "name": "stderr",
          "text": [
            "     26/100      6.57G      0.585     0.8504      0.494     0.8492        173        640: 100%|██████████| 242/242 [02:31<00:00,  1.60it/s]\n",
            "                 Class     Images  Instances      Box(P          R      mAP50  mAP50-95)     Mask(P          R      mAP50  mAP50-95): 100%|██████████| 15/15 [00:16<00:00,  1.08s/it]"
          ]
        },
        {
          "output_type": "stream",
          "name": "stdout",
          "text": [
            "                   all       1816       7060      0.745      0.717       0.75      0.585      0.709      0.672      0.695      0.457\n"
          ]
        },
        {
          "output_type": "stream",
          "name": "stderr",
          "text": [
            "\n"
          ]
        },
        {
          "output_type": "stream",
          "name": "stdout",
          "text": [
            "\n",
            "      Epoch    GPU_mem   box_loss   seg_loss   cls_loss   dfl_loss  Instances       Size\n"
          ]
        },
        {
          "output_type": "stream",
          "name": "stderr",
          "text": [
            "     27/100      6.47G      0.582     0.8491     0.4914     0.8471        148        640: 100%|██████████| 242/242 [02:31<00:00,  1.60it/s]\n",
            "                 Class     Images  Instances      Box(P          R      mAP50  mAP50-95)     Mask(P          R      mAP50  mAP50-95): 100%|██████████| 15/15 [00:16<00:00,  1.08s/it]"
          ]
        },
        {
          "output_type": "stream",
          "name": "stdout",
          "text": [
            "                   all       1816       7060       0.72      0.731      0.748      0.583      0.689      0.698      0.699      0.451\n"
          ]
        },
        {
          "output_type": "stream",
          "name": "stderr",
          "text": [
            "\n"
          ]
        },
        {
          "output_type": "stream",
          "name": "stdout",
          "text": [
            "\n",
            "      Epoch    GPU_mem   box_loss   seg_loss   cls_loss   dfl_loss  Instances       Size\n"
          ]
        },
        {
          "output_type": "stream",
          "name": "stderr",
          "text": [
            "     28/100      6.44G     0.5805     0.8461     0.4872     0.8476        146        640: 100%|██████████| 242/242 [02:31<00:00,  1.60it/s]\n",
            "                 Class     Images  Instances      Box(P          R      mAP50  mAP50-95)     Mask(P          R      mAP50  mAP50-95): 100%|██████████| 15/15 [00:16<00:00,  1.08s/it]"
          ]
        },
        {
          "output_type": "stream",
          "name": "stdout",
          "text": [
            "                   all       1816       7060      0.732      0.732      0.755      0.588      0.704      0.685      0.699      0.458\n"
          ]
        },
        {
          "output_type": "stream",
          "name": "stderr",
          "text": [
            "\n"
          ]
        },
        {
          "output_type": "stream",
          "name": "stdout",
          "text": [
            "\n",
            "      Epoch    GPU_mem   box_loss   seg_loss   cls_loss   dfl_loss  Instances       Size\n"
          ]
        },
        {
          "output_type": "stream",
          "name": "stderr",
          "text": [
            "     29/100      6.57G     0.5777     0.8415     0.4835     0.8478        156        640: 100%|██████████| 242/242 [02:30<00:00,  1.60it/s]\n",
            "                 Class     Images  Instances      Box(P          R      mAP50  mAP50-95)     Mask(P          R      mAP50  mAP50-95): 100%|██████████| 15/15 [00:16<00:00,  1.07s/it]"
          ]
        },
        {
          "output_type": "stream",
          "name": "stdout",
          "text": [
            "                   all       1816       7060      0.725      0.723      0.749      0.584      0.694      0.684      0.699      0.456\n"
          ]
        },
        {
          "output_type": "stream",
          "name": "stderr",
          "text": [
            "\n"
          ]
        },
        {
          "output_type": "stream",
          "name": "stdout",
          "text": [
            "\n",
            "      Epoch    GPU_mem   box_loss   seg_loss   cls_loss   dfl_loss  Instances       Size\n"
          ]
        },
        {
          "output_type": "stream",
          "name": "stderr",
          "text": [
            "     30/100      6.46G     0.5777     0.8348     0.4821     0.8467        174        640: 100%|██████████| 242/242 [02:31<00:00,  1.60it/s]\n",
            "                 Class     Images  Instances      Box(P          R      mAP50  mAP50-95)     Mask(P          R      mAP50  mAP50-95): 100%|██████████| 15/15 [00:16<00:00,  1.08s/it]"
          ]
        },
        {
          "output_type": "stream",
          "name": "stdout",
          "text": [
            "                   all       1816       7060      0.726      0.726      0.751      0.583       0.71      0.681      0.697      0.454\n"
          ]
        },
        {
          "output_type": "stream",
          "name": "stderr",
          "text": [
            "\n"
          ]
        },
        {
          "output_type": "stream",
          "name": "stdout",
          "text": [
            "\n",
            "      Epoch    GPU_mem   box_loss   seg_loss   cls_loss   dfl_loss  Instances       Size\n"
          ]
        },
        {
          "output_type": "stream",
          "name": "stderr",
          "text": [
            "     31/100      6.38G     0.5759     0.8403     0.4801     0.8471        149        640: 100%|██████████| 242/242 [02:31<00:00,  1.60it/s]\n",
            "                 Class     Images  Instances      Box(P          R      mAP50  mAP50-95)     Mask(P          R      mAP50  mAP50-95): 100%|██████████| 15/15 [00:16<00:00,  1.08s/it]"
          ]
        },
        {
          "output_type": "stream",
          "name": "stdout",
          "text": [
            "                   all       1816       7060       0.74      0.722      0.751      0.586       0.71      0.689      0.696      0.457\n"
          ]
        },
        {
          "output_type": "stream",
          "name": "stderr",
          "text": [
            "\n"
          ]
        },
        {
          "output_type": "stream",
          "name": "stdout",
          "text": [
            "\n",
            "      Epoch    GPU_mem   box_loss   seg_loss   cls_loss   dfl_loss  Instances       Size\n"
          ]
        },
        {
          "output_type": "stream",
          "name": "stderr",
          "text": [
            "     32/100      6.52G     0.5751     0.8348     0.4774     0.8463        194        640: 100%|██████████| 242/242 [02:30<00:00,  1.60it/s]\n",
            "                 Class     Images  Instances      Box(P          R      mAP50  mAP50-95)     Mask(P          R      mAP50  mAP50-95): 100%|██████████| 15/15 [00:16<00:00,  1.07s/it]"
          ]
        },
        {
          "output_type": "stream",
          "name": "stdout",
          "text": [
            "                   all       1816       7060      0.744      0.731      0.758      0.594      0.718      0.686      0.706      0.459\n"
          ]
        },
        {
          "output_type": "stream",
          "name": "stderr",
          "text": [
            "\n"
          ]
        },
        {
          "output_type": "stream",
          "name": "stdout",
          "text": [
            "\n",
            "      Epoch    GPU_mem   box_loss   seg_loss   cls_loss   dfl_loss  Instances       Size\n"
          ]
        },
        {
          "output_type": "stream",
          "name": "stderr",
          "text": [
            "     33/100      6.47G     0.5756     0.8362     0.4761     0.8468        161        640: 100%|██████████| 242/242 [02:31<00:00,  1.60it/s]\n",
            "                 Class     Images  Instances      Box(P          R      mAP50  mAP50-95)     Mask(P          R      mAP50  mAP50-95): 100%|██████████| 15/15 [00:16<00:00,  1.07s/it]"
          ]
        },
        {
          "output_type": "stream",
          "name": "stdout",
          "text": [
            "                   all       1816       7060       0.73      0.732      0.754      0.593      0.709      0.688      0.704      0.458\n"
          ]
        },
        {
          "output_type": "stream",
          "name": "stderr",
          "text": [
            "\n"
          ]
        },
        {
          "output_type": "stream",
          "name": "stdout",
          "text": [
            "\n",
            "      Epoch    GPU_mem   box_loss   seg_loss   cls_loss   dfl_loss  Instances       Size\n"
          ]
        },
        {
          "output_type": "stream",
          "name": "stderr",
          "text": [
            "     34/100      6.55G     0.5739     0.8341     0.4751     0.8455        146        640: 100%|██████████| 242/242 [02:30<00:00,  1.61it/s]\n",
            "                 Class     Images  Instances      Box(P          R      mAP50  mAP50-95)     Mask(P          R      mAP50  mAP50-95): 100%|██████████| 15/15 [00:16<00:00,  1.07s/it]"
          ]
        },
        {
          "output_type": "stream",
          "name": "stdout",
          "text": [
            "                   all       1816       7060      0.768      0.721      0.764      0.597      0.721      0.689       0.71      0.461\n"
          ]
        },
        {
          "output_type": "stream",
          "name": "stderr",
          "text": [
            "\n"
          ]
        },
        {
          "output_type": "stream",
          "name": "stdout",
          "text": [
            "\n",
            "      Epoch    GPU_mem   box_loss   seg_loss   cls_loss   dfl_loss  Instances       Size\n"
          ]
        },
        {
          "output_type": "stream",
          "name": "stderr",
          "text": [
            "     35/100      6.56G     0.5686     0.8289     0.4708     0.8444        159        640: 100%|██████████| 242/242 [02:30<00:00,  1.60it/s]\n",
            "                 Class     Images  Instances      Box(P          R      mAP50  mAP50-95)     Mask(P          R      mAP50  mAP50-95): 100%|██████████| 15/15 [00:16<00:00,  1.07s/it]"
          ]
        },
        {
          "output_type": "stream",
          "name": "stdout",
          "text": [
            "                   all       1816       7060      0.722      0.723      0.752      0.591      0.699      0.693      0.703      0.458\n"
          ]
        },
        {
          "output_type": "stream",
          "name": "stderr",
          "text": [
            "\n"
          ]
        },
        {
          "output_type": "stream",
          "name": "stdout",
          "text": [
            "\n",
            "      Epoch    GPU_mem   box_loss   seg_loss   cls_loss   dfl_loss  Instances       Size\n"
          ]
        },
        {
          "output_type": "stream",
          "name": "stderr",
          "text": [
            "     36/100      6.45G     0.5676     0.8256     0.4687      0.843        177        640: 100%|██████████| 242/242 [02:31<00:00,  1.60it/s]\n",
            "                 Class     Images  Instances      Box(P          R      mAP50  mAP50-95)     Mask(P          R      mAP50  mAP50-95): 100%|██████████| 15/15 [00:16<00:00,  1.08s/it]"
          ]
        },
        {
          "output_type": "stream",
          "name": "stdout",
          "text": [
            "                   all       1816       7060       0.75      0.711      0.751      0.589       0.72      0.682      0.703      0.459\n"
          ]
        },
        {
          "output_type": "stream",
          "name": "stderr",
          "text": [
            "\n"
          ]
        },
        {
          "output_type": "stream",
          "name": "stdout",
          "text": [
            "\n",
            "      Epoch    GPU_mem   box_loss   seg_loss   cls_loss   dfl_loss  Instances       Size\n"
          ]
        },
        {
          "output_type": "stream",
          "name": "stderr",
          "text": [
            "     37/100      6.54G      0.568     0.8241      0.467     0.8439        157        640: 100%|██████████| 242/242 [02:30<00:00,  1.61it/s]\n",
            "                 Class     Images  Instances      Box(P          R      mAP50  mAP50-95)     Mask(P          R      mAP50  mAP50-95): 100%|██████████| 15/15 [00:16<00:00,  1.08s/it]"
          ]
        },
        {
          "output_type": "stream",
          "name": "stdout",
          "text": [
            "                   all       1816       7060      0.749      0.724      0.759      0.593      0.719      0.688      0.708      0.461\n"
          ]
        },
        {
          "output_type": "stream",
          "name": "stderr",
          "text": [
            "\n"
          ]
        },
        {
          "output_type": "stream",
          "name": "stdout",
          "text": [
            "\n",
            "      Epoch    GPU_mem   box_loss   seg_loss   cls_loss   dfl_loss  Instances       Size\n"
          ]
        },
        {
          "output_type": "stream",
          "name": "stderr",
          "text": [
            "     38/100      6.42G     0.5665     0.8237     0.4637     0.8435        138        640: 100%|██████████| 242/242 [02:31<00:00,  1.60it/s]\n",
            "                 Class     Images  Instances      Box(P          R      mAP50  mAP50-95)     Mask(P          R      mAP50  mAP50-95): 100%|██████████| 15/15 [00:16<00:00,  1.07s/it]"
          ]
        },
        {
          "output_type": "stream",
          "name": "stdout",
          "text": [
            "                   all       1816       7060      0.765      0.717      0.761      0.598      0.723       0.69      0.707      0.462\n"
          ]
        },
        {
          "output_type": "stream",
          "name": "stderr",
          "text": [
            "\n"
          ]
        },
        {
          "output_type": "stream",
          "name": "stdout",
          "text": [
            "\n",
            "      Epoch    GPU_mem   box_loss   seg_loss   cls_loss   dfl_loss  Instances       Size\n"
          ]
        },
        {
          "output_type": "stream",
          "name": "stderr",
          "text": [
            "     39/100      6.59G     0.5669     0.8222     0.4654     0.8441        168        640: 100%|██████████| 242/242 [02:30<00:00,  1.60it/s]\n",
            "                 Class     Images  Instances      Box(P          R      mAP50  mAP50-95)     Mask(P          R      mAP50  mAP50-95): 100%|██████████| 15/15 [00:16<00:00,  1.08s/it]"
          ]
        },
        {
          "output_type": "stream",
          "name": "stdout",
          "text": [
            "                   all       1816       7060      0.775      0.711       0.76      0.597      0.726      0.683       0.71      0.461\n"
          ]
        },
        {
          "output_type": "stream",
          "name": "stderr",
          "text": [
            "\n"
          ]
        },
        {
          "output_type": "stream",
          "name": "stdout",
          "text": [
            "\n",
            "      Epoch    GPU_mem   box_loss   seg_loss   cls_loss   dfl_loss  Instances       Size\n"
          ]
        },
        {
          "output_type": "stream",
          "name": "stderr",
          "text": [
            "     40/100      6.63G     0.5623     0.8172     0.4625     0.8431        130        640: 100%|██████████| 242/242 [02:30<00:00,  1.60it/s]\n",
            "                 Class     Images  Instances      Box(P          R      mAP50  mAP50-95)     Mask(P          R      mAP50  mAP50-95): 100%|██████████| 15/15 [00:16<00:00,  1.09s/it]"
          ]
        },
        {
          "output_type": "stream",
          "name": "stdout",
          "text": [
            "                   all       1816       7060      0.755      0.719      0.763      0.599      0.734      0.683      0.714      0.463\n"
          ]
        },
        {
          "output_type": "stream",
          "name": "stderr",
          "text": [
            "\n"
          ]
        },
        {
          "output_type": "stream",
          "name": "stdout",
          "text": [
            "\n",
            "      Epoch    GPU_mem   box_loss   seg_loss   cls_loss   dfl_loss  Instances       Size\n"
          ]
        },
        {
          "output_type": "stream",
          "name": "stderr",
          "text": [
            "     41/100      6.48G     0.5607     0.8177     0.4574      0.843        157        640: 100%|██████████| 242/242 [02:31<00:00,  1.60it/s]\n",
            "                 Class     Images  Instances      Box(P          R      mAP50  mAP50-95)     Mask(P          R      mAP50  mAP50-95): 100%|██████████| 15/15 [00:16<00:00,  1.07s/it]"
          ]
        },
        {
          "output_type": "stream",
          "name": "stdout",
          "text": [
            "                   all       1816       7060      0.761      0.709      0.762      0.599      0.724      0.678      0.711      0.463\n"
          ]
        },
        {
          "output_type": "stream",
          "name": "stderr",
          "text": [
            "\n"
          ]
        },
        {
          "output_type": "stream",
          "name": "stdout",
          "text": [
            "\n",
            "      Epoch    GPU_mem   box_loss   seg_loss   cls_loss   dfl_loss  Instances       Size\n"
          ]
        },
        {
          "output_type": "stream",
          "name": "stderr",
          "text": [
            "     42/100      6.35G     0.5639     0.8196     0.4597     0.8423        156        640: 100%|██████████| 242/242 [02:30<00:00,  1.60it/s]\n",
            "                 Class     Images  Instances      Box(P          R      mAP50  mAP50-95)     Mask(P          R      mAP50  mAP50-95): 100%|██████████| 15/15 [00:16<00:00,  1.07s/it]"
          ]
        },
        {
          "output_type": "stream",
          "name": "stdout",
          "text": [
            "                   all       1816       7060      0.757      0.715      0.762      0.597      0.716      0.677      0.708      0.461\n"
          ]
        },
        {
          "output_type": "stream",
          "name": "stderr",
          "text": [
            "\n"
          ]
        },
        {
          "output_type": "stream",
          "name": "stdout",
          "text": [
            "\n",
            "      Epoch    GPU_mem   box_loss   seg_loss   cls_loss   dfl_loss  Instances       Size\n"
          ]
        },
        {
          "output_type": "stream",
          "name": "stderr",
          "text": [
            "     43/100      6.43G     0.5603      0.815     0.4555     0.8414        165        640: 100%|██████████| 242/242 [02:31<00:00,  1.60it/s]\n",
            "                 Class     Images  Instances      Box(P          R      mAP50  mAP50-95)     Mask(P          R      mAP50  mAP50-95): 100%|██████████| 15/15 [00:16<00:00,  1.08s/it]"
          ]
        },
        {
          "output_type": "stream",
          "name": "stdout",
          "text": [
            "                   all       1816       7060      0.752      0.715      0.754      0.594      0.712      0.685      0.703      0.461\n"
          ]
        },
        {
          "output_type": "stream",
          "name": "stderr",
          "text": [
            "\n"
          ]
        },
        {
          "output_type": "stream",
          "name": "stdout",
          "text": [
            "\n",
            "      Epoch    GPU_mem   box_loss   seg_loss   cls_loss   dfl_loss  Instances       Size\n"
          ]
        },
        {
          "output_type": "stream",
          "name": "stderr",
          "text": [
            "     44/100      6.43G     0.5594     0.8188     0.4544      0.842        192        640: 100%|██████████| 242/242 [02:31<00:00,  1.60it/s]\n",
            "                 Class     Images  Instances      Box(P          R      mAP50  mAP50-95)     Mask(P          R      mAP50  mAP50-95): 100%|██████████| 15/15 [00:16<00:00,  1.07s/it]"
          ]
        },
        {
          "output_type": "stream",
          "name": "stdout",
          "text": [
            "                   all       1816       7060      0.736       0.72      0.753      0.594      0.715      0.682      0.702      0.459\n"
          ]
        },
        {
          "output_type": "stream",
          "name": "stderr",
          "text": [
            "\n"
          ]
        },
        {
          "output_type": "stream",
          "name": "stdout",
          "text": [
            "\n",
            "      Epoch    GPU_mem   box_loss   seg_loss   cls_loss   dfl_loss  Instances       Size\n"
          ]
        },
        {
          "output_type": "stream",
          "name": "stderr",
          "text": [
            "     45/100      6.54G     0.5615     0.8181     0.4544     0.8415        141        640: 100%|██████████| 242/242 [02:31<00:00,  1.60it/s]\n",
            "                 Class     Images  Instances      Box(P          R      mAP50  mAP50-95)     Mask(P          R      mAP50  mAP50-95): 100%|██████████| 15/15 [00:16<00:00,  1.07s/it]"
          ]
        },
        {
          "output_type": "stream",
          "name": "stdout",
          "text": [
            "                   all       1816       7060      0.748      0.721      0.754      0.596        0.7      0.681      0.697      0.459\n"
          ]
        },
        {
          "output_type": "stream",
          "name": "stderr",
          "text": [
            "\n"
          ]
        },
        {
          "output_type": "stream",
          "name": "stdout",
          "text": [
            "\n",
            "      Epoch    GPU_mem   box_loss   seg_loss   cls_loss   dfl_loss  Instances       Size\n"
          ]
        },
        {
          "output_type": "stream",
          "name": "stderr",
          "text": [
            "     46/100       6.5G     0.5608     0.8171     0.4513     0.8416        169        640: 100%|██████████| 242/242 [02:31<00:00,  1.60it/s]\n",
            "                 Class     Images  Instances      Box(P          R      mAP50  mAP50-95)     Mask(P          R      mAP50  mAP50-95): 100%|██████████| 15/15 [00:16<00:00,  1.09s/it]"
          ]
        },
        {
          "output_type": "stream",
          "name": "stdout",
          "text": [
            "                   all       1816       7060      0.747       0.72      0.751      0.595      0.706      0.694      0.701      0.461\n"
          ]
        },
        {
          "output_type": "stream",
          "name": "stderr",
          "text": [
            "\n"
          ]
        },
        {
          "output_type": "stream",
          "name": "stdout",
          "text": [
            "\n",
            "      Epoch    GPU_mem   box_loss   seg_loss   cls_loss   dfl_loss  Instances       Size\n"
          ]
        },
        {
          "output_type": "stream",
          "name": "stderr",
          "text": [
            "     47/100      6.69G     0.5566     0.8125     0.4502     0.8398        115        640: 100%|██████████| 242/242 [02:31<00:00,  1.60it/s]\n",
            "                 Class     Images  Instances      Box(P          R      mAP50  mAP50-95)     Mask(P          R      mAP50  mAP50-95): 100%|██████████| 15/15 [00:16<00:00,  1.07s/it]"
          ]
        },
        {
          "output_type": "stream",
          "name": "stdout",
          "text": [
            "                   all       1816       7060      0.749       0.73      0.757      0.598      0.715      0.678      0.699       0.46\n"
          ]
        },
        {
          "output_type": "stream",
          "name": "stderr",
          "text": [
            "\n"
          ]
        },
        {
          "output_type": "stream",
          "name": "stdout",
          "text": [
            "\n",
            "      Epoch    GPU_mem   box_loss   seg_loss   cls_loss   dfl_loss  Instances       Size\n"
          ]
        },
        {
          "output_type": "stream",
          "name": "stderr",
          "text": [
            "     48/100      6.42G     0.5539     0.8102     0.4483     0.8402        131        640: 100%|██████████| 242/242 [02:31<00:00,  1.60it/s]\n",
            "                 Class     Images  Instances      Box(P          R      mAP50  mAP50-95)     Mask(P          R      mAP50  mAP50-95): 100%|██████████| 15/15 [00:16<00:00,  1.07s/it]"
          ]
        },
        {
          "output_type": "stream",
          "name": "stdout",
          "text": [
            "                   all       1816       7060      0.745      0.728      0.757      0.597      0.705      0.688      0.699      0.461\n"
          ]
        },
        {
          "output_type": "stream",
          "name": "stderr",
          "text": [
            "\n"
          ]
        },
        {
          "output_type": "stream",
          "name": "stdout",
          "text": [
            "\n",
            "      Epoch    GPU_mem   box_loss   seg_loss   cls_loss   dfl_loss  Instances       Size\n"
          ]
        },
        {
          "output_type": "stream",
          "name": "stderr",
          "text": [
            "     49/100      6.44G      0.553     0.8143     0.4455     0.8401        165        640: 100%|██████████| 242/242 [02:31<00:00,  1.60it/s]\n",
            "                 Class     Images  Instances      Box(P          R      mAP50  mAP50-95)     Mask(P          R      mAP50  mAP50-95): 100%|██████████| 15/15 [00:16<00:00,  1.07s/it]"
          ]
        },
        {
          "output_type": "stream",
          "name": "stdout",
          "text": [
            "                   all       1816       7060      0.733      0.729      0.755      0.597        0.7      0.686      0.701      0.459\n"
          ]
        },
        {
          "output_type": "stream",
          "name": "stderr",
          "text": [
            "\n"
          ]
        },
        {
          "output_type": "stream",
          "name": "stdout",
          "text": [
            "\n",
            "      Epoch    GPU_mem   box_loss   seg_loss   cls_loss   dfl_loss  Instances       Size\n"
          ]
        },
        {
          "output_type": "stream",
          "name": "stderr",
          "text": [
            "     50/100      6.59G      0.554     0.8119     0.4443     0.8399        128        640: 100%|██████████| 242/242 [02:30<00:00,  1.60it/s]\n",
            "                 Class     Images  Instances      Box(P          R      mAP50  mAP50-95)     Mask(P          R      mAP50  mAP50-95): 100%|██████████| 15/15 [00:16<00:00,  1.07s/it]"
          ]
        },
        {
          "output_type": "stream",
          "name": "stdout",
          "text": [
            "                   all       1816       7060      0.744      0.726      0.759      0.599      0.704      0.687      0.704      0.461\n"
          ]
        },
        {
          "output_type": "stream",
          "name": "stderr",
          "text": [
            "\n"
          ]
        },
        {
          "output_type": "stream",
          "name": "stdout",
          "text": [
            "\n",
            "      Epoch    GPU_mem   box_loss   seg_loss   cls_loss   dfl_loss  Instances       Size\n"
          ]
        },
        {
          "output_type": "stream",
          "name": "stderr",
          "text": [
            "     51/100      6.34G     0.5522     0.8033     0.4428     0.8387        141        640: 100%|██████████| 242/242 [02:30<00:00,  1.61it/s]\n",
            "                 Class     Images  Instances      Box(P          R      mAP50  mAP50-95)     Mask(P          R      mAP50  mAP50-95): 100%|██████████| 15/15 [00:15<00:00,  1.07s/it]"
          ]
        },
        {
          "output_type": "stream",
          "name": "stdout",
          "text": [
            "                   all       1816       7060      0.742      0.726      0.758      0.599      0.715      0.678      0.699      0.459\n"
          ]
        },
        {
          "output_type": "stream",
          "name": "stderr",
          "text": [
            "\n"
          ]
        },
        {
          "output_type": "stream",
          "name": "stdout",
          "text": [
            "\n",
            "      Epoch    GPU_mem   box_loss   seg_loss   cls_loss   dfl_loss  Instances       Size\n"
          ]
        },
        {
          "output_type": "stream",
          "name": "stderr",
          "text": [
            "     52/100      6.46G     0.5506     0.8031     0.4413     0.8391        181        640: 100%|██████████| 242/242 [02:31<00:00,  1.60it/s]\n",
            "                 Class     Images  Instances      Box(P          R      mAP50  mAP50-95)     Mask(P          R      mAP50  mAP50-95): 100%|██████████| 15/15 [00:16<00:00,  1.08s/it]"
          ]
        },
        {
          "output_type": "stream",
          "name": "stdout",
          "text": [
            "                   all       1816       7060      0.748      0.727      0.758      0.598      0.718      0.686      0.704       0.46\n"
          ]
        },
        {
          "output_type": "stream",
          "name": "stderr",
          "text": [
            "\n"
          ]
        },
        {
          "output_type": "stream",
          "name": "stdout",
          "text": [
            "\n",
            "      Epoch    GPU_mem   box_loss   seg_loss   cls_loss   dfl_loss  Instances       Size\n"
          ]
        },
        {
          "output_type": "stream",
          "name": "stderr",
          "text": [
            "     53/100      6.54G     0.5508     0.8053     0.4421     0.8398        190        640: 100%|██████████| 242/242 [02:31<00:00,  1.60it/s]\n",
            "                 Class     Images  Instances      Box(P          R      mAP50  mAP50-95)     Mask(P          R      mAP50  mAP50-95): 100%|██████████| 15/15 [00:16<00:00,  1.07s/it]"
          ]
        },
        {
          "output_type": "stream",
          "name": "stdout",
          "text": [
            "                   all       1816       7060       0.75      0.723      0.759      0.597      0.715      0.685        0.7      0.459\n"
          ]
        },
        {
          "output_type": "stream",
          "name": "stderr",
          "text": [
            "\n"
          ]
        },
        {
          "output_type": "stream",
          "name": "stdout",
          "text": [
            "\n",
            "      Epoch    GPU_mem   box_loss   seg_loss   cls_loss   dfl_loss  Instances       Size\n"
          ]
        },
        {
          "output_type": "stream",
          "name": "stderr",
          "text": [
            "     54/100      6.56G     0.5493     0.8049     0.4392     0.8391        136        640: 100%|██████████| 242/242 [02:31<00:00,  1.60it/s]\n",
            "                 Class     Images  Instances      Box(P          R      mAP50  mAP50-95)     Mask(P          R      mAP50  mAP50-95): 100%|██████████| 15/15 [00:16<00:00,  1.08s/it]"
          ]
        },
        {
          "output_type": "stream",
          "name": "stdout",
          "text": [
            "                   all       1816       7060      0.746      0.726      0.757      0.597      0.718      0.687      0.705      0.459\n"
          ]
        },
        {
          "output_type": "stream",
          "name": "stderr",
          "text": [
            "\n"
          ]
        },
        {
          "output_type": "stream",
          "name": "stdout",
          "text": [
            "\n",
            "      Epoch    GPU_mem   box_loss   seg_loss   cls_loss   dfl_loss  Instances       Size\n"
          ]
        },
        {
          "output_type": "stream",
          "name": "stderr",
          "text": [
            "     55/100      6.51G     0.5475     0.8034     0.4377     0.8381        176        640: 100%|██████████| 242/242 [02:31<00:00,  1.60it/s]\n",
            "                 Class     Images  Instances      Box(P          R      mAP50  mAP50-95)     Mask(P          R      mAP50  mAP50-95): 100%|██████████| 15/15 [00:16<00:00,  1.07s/it]"
          ]
        },
        {
          "output_type": "stream",
          "name": "stdout",
          "text": [
            "                   all       1816       7060      0.748       0.72      0.758      0.599      0.717      0.684      0.705       0.46\n"
          ]
        },
        {
          "output_type": "stream",
          "name": "stderr",
          "text": [
            "\n"
          ]
        },
        {
          "output_type": "stream",
          "name": "stdout",
          "text": [
            "\n",
            "      Epoch    GPU_mem   box_loss   seg_loss   cls_loss   dfl_loss  Instances       Size\n"
          ]
        },
        {
          "output_type": "stream",
          "name": "stderr",
          "text": [
            "     56/100      6.44G     0.5492     0.7989     0.4384     0.8382        155        640: 100%|██████████| 242/242 [02:31<00:00,  1.60it/s]\n",
            "                 Class     Images  Instances      Box(P          R      mAP50  mAP50-95)     Mask(P          R      mAP50  mAP50-95): 100%|██████████| 15/15 [00:16<00:00,  1.07s/it]"
          ]
        },
        {
          "output_type": "stream",
          "name": "stdout",
          "text": [
            "                   all       1816       7060       0.75      0.719      0.759        0.6       0.71      0.684      0.703       0.46\n"
          ]
        },
        {
          "output_type": "stream",
          "name": "stderr",
          "text": [
            "\n"
          ]
        },
        {
          "output_type": "stream",
          "name": "stdout",
          "text": [
            "\n",
            "      Epoch    GPU_mem   box_loss   seg_loss   cls_loss   dfl_loss  Instances       Size\n"
          ]
        },
        {
          "output_type": "stream",
          "name": "stderr",
          "text": [
            "     57/100       6.4G      0.546     0.7987     0.4355     0.8378        189        640: 100%|██████████| 242/242 [02:30<00:00,  1.60it/s]\n",
            "                 Class     Images  Instances      Box(P          R      mAP50  mAP50-95)     Mask(P          R      mAP50  mAP50-95): 100%|██████████| 15/15 [00:16<00:00,  1.07s/it]"
          ]
        },
        {
          "output_type": "stream",
          "name": "stdout",
          "text": [
            "                   all       1816       7060       0.75      0.718      0.757        0.6      0.712      0.683      0.701       0.46\n"
          ]
        },
        {
          "output_type": "stream",
          "name": "stderr",
          "text": [
            "\n"
          ]
        },
        {
          "output_type": "stream",
          "name": "stdout",
          "text": [
            "\n",
            "      Epoch    GPU_mem   box_loss   seg_loss   cls_loss   dfl_loss  Instances       Size\n"
          ]
        },
        {
          "output_type": "stream",
          "name": "stderr",
          "text": [
            "     58/100      6.57G     0.5451     0.7945     0.4358     0.8368        145        640: 100%|██████████| 242/242 [02:30<00:00,  1.60it/s]\n",
            "                 Class     Images  Instances      Box(P          R      mAP50  mAP50-95)     Mask(P          R      mAP50  mAP50-95): 100%|██████████| 15/15 [00:16<00:00,  1.09s/it]"
          ]
        },
        {
          "output_type": "stream",
          "name": "stdout",
          "text": [
            "                   all       1816       7060      0.747      0.723      0.757        0.6      0.712      0.684      0.703       0.46\n"
          ]
        },
        {
          "output_type": "stream",
          "name": "stderr",
          "text": [
            "\n"
          ]
        },
        {
          "output_type": "stream",
          "name": "stdout",
          "text": [
            "\n",
            "      Epoch    GPU_mem   box_loss   seg_loss   cls_loss   dfl_loss  Instances       Size\n"
          ]
        },
        {
          "output_type": "stream",
          "name": "stderr",
          "text": [
            "     59/100       6.4G     0.5442     0.7976     0.4334     0.8364        145        640: 100%|██████████| 242/242 [02:31<00:00,  1.60it/s]\n",
            "                 Class     Images  Instances      Box(P          R      mAP50  mAP50-95)     Mask(P          R      mAP50  mAP50-95): 100%|██████████| 15/15 [00:16<00:00,  1.09s/it]"
          ]
        },
        {
          "output_type": "stream",
          "name": "stdout",
          "text": [
            "                   all       1816       7060      0.751      0.723      0.759        0.6      0.713      0.683        0.7       0.46\n"
          ]
        },
        {
          "output_type": "stream",
          "name": "stderr",
          "text": [
            "\n"
          ]
        },
        {
          "output_type": "stream",
          "name": "stdout",
          "text": [
            "\n",
            "      Epoch    GPU_mem   box_loss   seg_loss   cls_loss   dfl_loss  Instances       Size\n"
          ]
        },
        {
          "output_type": "stream",
          "name": "stderr",
          "text": [
            "     60/100      6.45G      0.546     0.7971     0.4331     0.8377        128        640: 100%|██████████| 242/242 [02:32<00:00,  1.59it/s]\n",
            "                 Class     Images  Instances      Box(P          R      mAP50  mAP50-95)     Mask(P          R      mAP50  mAP50-95): 100%|██████████| 15/15 [00:16<00:00,  1.09s/it]"
          ]
        },
        {
          "output_type": "stream",
          "name": "stdout",
          "text": [
            "                   all       1816       7060      0.754      0.726      0.759      0.601       0.71      0.683      0.701       0.46\n",
            "\u001b[34m\u001b[1mEarlyStopping: \u001b[0mTraining stopped early as no improvement observed in last 20 epochs. Best results observed at epoch 40, best model saved as best.pt.\n",
            "To update EarlyStopping(patience=20) pass a new patience value, i.e. `patience=300` or use `patience=0` to disable EarlyStopping.\n"
          ]
        },
        {
          "output_type": "stream",
          "name": "stderr",
          "text": [
            "\n"
          ]
        },
        {
          "output_type": "stream",
          "name": "stdout",
          "text": [
            "\n",
            "60 epochs completed in 2.808 hours.\n",
            "Optimizer stripped from Model-V5/Segment-Model-V5/weights/last.pt, 6.8MB\n",
            "Optimizer stripped from Model-V5/Segment-Model-V5/weights/best.pt, 6.8MB\n",
            "\n",
            "Validating Model-V5/Segment-Model-V5/weights/best.pt...\n",
            "Ultralytics YOLOv8.2.103 🚀 Python-3.10.12 torch-2.4.1+cu121 CUDA:0 (Tesla T4, 15102MiB)\n",
            "YOLOv8n-seg summary (fused): 195 layers, 3,258,649 parameters, 0 gradients, 12.0 GFLOPs\n"
          ]
        },
        {
          "output_type": "stream",
          "name": "stderr",
          "text": [
            "                 Class     Images  Instances      Box(P          R      mAP50  mAP50-95)     Mask(P          R      mAP50  mAP50-95): 100%|██████████| 15/15 [00:18<00:00,  1.21s/it]\n"
          ]
        },
        {
          "output_type": "stream",
          "name": "stdout",
          "text": [
            "                   all       1816       7060      0.756      0.719      0.763      0.599      0.732      0.684      0.714      0.463\n",
            "                   car       1661       4890      0.868      0.864      0.925      0.779      0.876      0.848      0.918      0.668\n",
            "         license_plate        181        269      0.615      0.349      0.419      0.196      0.521      0.268      0.279       0.08\n",
            "     solid-yellow-line       1746       1901      0.785      0.943      0.945      0.822      0.798      0.935      0.944       0.64\n",
            "Speed: 0.2ms preprocess, 3.0ms inference, 0.0ms loss, 1.0ms postprocess per image\n",
            "Results saved to \u001b[1mModel-V5/Segment-Model-V5\u001b[0m\n"
          ]
        }
      ]
    },
    {
      "cell_type": "markdown",
      "source": [
        "## evaluation on the validationset\n"
      ],
      "metadata": {
        "id": "TVy_3T6yWwoi"
      }
    },
    {
      "cell_type": "code",
      "source": [
        "evaluation = model.val(\n",
        "    data = '/content/Road-Lines-Segmentation-3-2/data.yaml',\n",
        "    task = 'segment',\n",
        "    imgsz = 640,\n",
        "    iou = 0.6,\n",
        "    batch = 32,\n",
        "    save_json = True,\n",
        "    save_txt = True,\n",
        "    device = 0,\n",
        "    verbose = True,\n",
        "    seed = 93,\n",
        "    plots = True,\n",
        "    name = 'Model-segment-evaluation-5'\n",
        ")"
      ],
      "metadata": {
        "execution": {
          "iopub.status.busy": "2024-09-28T16:14:11.965697Z",
          "iopub.execute_input": "2024-09-28T16:14:11.966113Z",
          "iopub.status.idle": "2024-09-28T16:15:24.462952Z",
          "shell.execute_reply.started": "2024-09-28T16:14:11.966074Z",
          "shell.execute_reply": "2024-09-28T16:15:24.462033Z"
        },
        "trusted": true,
        "colab": {
          "base_uri": "https://localhost:8080/"
        },
        "id": "nQpkPWNXWwoi",
        "outputId": "5d67aea8-7fc1-4c8a-d736-27ac70803f4c"
      },
      "execution_count": null,
      "outputs": [
        {
          "output_type": "stream",
          "name": "stdout",
          "text": [
            "Ultralytics YOLOv8.2.103 🚀 Python-3.10.12 torch-2.4.1+cu121 CUDA:0 (Tesla T4, 15102MiB)\n"
          ]
        },
        {
          "output_type": "stream",
          "name": "stderr",
          "text": [
            "\u001b[34m\u001b[1mval: \u001b[0mScanning /content/Road-Lines-Segmentation-3-2/valid/labels.cache... 1816 images, 0 backgrounds, 0 corrupt: 100%|██████████| 1816/1816 [00:00<?, ?it/s]"
          ]
        },
        {
          "output_type": "stream",
          "name": "stdout",
          "text": [
            "\u001b[34m\u001b[1mval: \u001b[0mWARNING ⚠️ /content/Road-Lines-Segmentation-3-2/valid/images/front-left-NO20240903-145041-000844F_MP4-0244_jpg.rf.d35bf3f6a9afb53703cdd639f4526b98.jpg: 1 duplicate labels removed\n"
          ]
        },
        {
          "output_type": "stream",
          "name": "stderr",
          "text": [
            "\n",
            "                 Class     Images  Instances      Box(P          R      mAP50  mAP50-95)     Mask(P          R      mAP50  mAP50-95): 100%|██████████| 57/57 [02:06<00:00,  2.21s/it]\n"
          ]
        },
        {
          "output_type": "stream",
          "name": "stdout",
          "text": [
            "                   all       1816       7060      0.739       0.74      0.767      0.601      0.717      0.725      0.738      0.444\n",
            "                   car       1661       4890      0.851      0.884      0.927      0.784      0.851      0.883      0.926      0.683\n",
            "         license_plate        181        269      0.587      0.392       0.43      0.202       0.52      0.347      0.346      0.108\n",
            "     solid-yellow-line       1746       1901       0.78      0.944      0.946      0.818      0.781      0.945      0.942      0.541\n",
            "Speed: 0.3ms preprocess, 5.7ms inference, 0.0ms loss, 0.9ms postprocess per image\n",
            "Saving Model-V5/Model-segment-evaluation-53/predictions.json...\n",
            "Results saved to \u001b[1mModel-V5/Model-segment-evaluation-53\u001b[0m\n"
          ]
        }
      ]
    },
    {
      "cell_type": "markdown",
      "source": [
        "## predictions on the testset"
      ],
      "metadata": {
        "id": "Fk6hA0HYWwoj"
      }
    },
    {
      "cell_type": "code",
      "source": [
        "predictions = model.predict(\n",
        "    data = '/content/Road-Lines-Segmentation-3-2/data.yaml',\n",
        "    source = '/content/Road-Lines-Segmentation-3-2/test/images',\n",
        "    task = 'segment',\n",
        "    imgsz = 640,\n",
        "    device = 0,\n",
        "    verbose = True,\n",
        "    seed = 93,\n",
        "    plots = True,\n",
        "    name = 'Model-segment-predictions',\n",
        "    save_json = True,\n",
        ")"
      ],
      "metadata": {
        "execution": {
          "iopub.status.busy": "2024-09-28T16:16:01.954839Z",
          "iopub.execute_input": "2024-09-28T16:16:01.955494Z",
          "iopub.status.idle": "2024-09-28T16:16:17.393567Z",
          "shell.execute_reply.started": "2024-09-28T16:16:01.955451Z",
          "shell.execute_reply": "2024-09-28T16:16:17.392705Z"
        },
        "collapsed": true,
        "jupyter": {
          "outputs_hidden": true
        },
        "trusted": true,
        "id": "up01gKxUWwoj",
        "outputId": "98e78fdd-5dfa-4b90-c83e-24f807c5546a"
      },
      "execution_count": null,
      "outputs": [
        {
          "name": "stdout",
          "text": "\n\nWARNING ⚠️ inference results will accumulate in RAM unless `stream=True` is passed, causing potential out-of-memory\nerrors for large sources or long-running streams and videos. See https://docs.ultralytics.com/modes/predict/ for help.\n\nExample:\n    results = model(source=..., stream=True)  # generator of Results objects\n    for r in results:\n        boxes = r.boxes  # Boxes object for bbox outputs\n        masks = r.masks  # Masks object for segment masks outputs\n        probs = r.probs  # Class probabilities for classification outputs\n\nimage 1/1006 /kaggle/working/Road-Lines-Segmentation-3-2/test/images/NO20240828-152333-000152F_MP4-0008_jpg.rf.887ba244a440edadb93ef7968520f916.jpg: 640x640 8 cars, 10.6ms\nimage 2/1006 /kaggle/working/Road-Lines-Segmentation-3-2/test/images/NO20240828-152333-000152F_MP4-0075_jpg.rf.7773aeaf1934897b09a365966051ed5b.jpg: 640x640 4 cars, 7.3ms\nimage 3/1006 /kaggle/working/Road-Lines-Segmentation-3-2/test/images/NO20240828-152333-000152F_MP4-0078_jpg.rf.cb6f844e4848949f3146c054102ef432.jpg: 640x640 5 cars, 7.3ms\nimage 4/1006 /kaggle/working/Road-Lines-Segmentation-3-2/test/images/NO20240828-152333-000152F_MP4-0079_jpg.rf.c4d79c21df7e96eb0e18c5f7908d7068.jpg: 640x640 5 cars, 1 solid-yellow-line, 7.2ms\nimage 5/1006 /kaggle/working/Road-Lines-Segmentation-3-2/test/images/NO20240828-152333-000152F_MP4-0081_jpg.rf.859f62897200e917bec9ae4f525c6d8f.jpg: 640x640 5 cars, 1 solid-yellow-line, 7.1ms\nimage 6/1006 /kaggle/working/Road-Lines-Segmentation-3-2/test/images/NO20240828-152333-000152F_MP4-0083_jpg.rf.e0238d0972ba20a75859e5153e67ac59.jpg: 640x640 5 cars, 1 solid-yellow-line, 7.1ms\nimage 7/1006 /kaggle/working/Road-Lines-Segmentation-3-2/test/images/NO20240828-152333-000152F_MP4-0087_jpg.rf.1cf25a6ba21a881214af66b2f6d0a327.jpg: 640x640 6 cars, 1 solid-yellow-line, 7.0ms\nimage 8/1006 /kaggle/working/Road-Lines-Segmentation-3-2/test/images/NO20240828-152333-000152F_MP4-0088_jpg.rf.6f9c6cd93f666b0ec6d12db6fa03e952.jpg: 640x640 6 cars, 1 solid-yellow-line, 7.0ms\nimage 9/1006 /kaggle/working/Road-Lines-Segmentation-3-2/test/images/NO20240828-152333-000152F_MP4-0092_jpg.rf.fb486feefe0d0c7494c8a97a5ccdfa73.jpg: 640x640 4 cars, 1 solid-yellow-line, 7.0ms\nimage 10/1006 /kaggle/working/Road-Lines-Segmentation-3-2/test/images/NO20240828-152333-000152F_MP4-0094_jpg.rf.e419964798c0af6fb64dfc8c7e19112d.jpg: 640x640 4 cars, 1 solid-yellow-line, 7.1ms\nimage 11/1006 /kaggle/working/Road-Lines-Segmentation-3-2/test/images/NO20240828-152333-000152F_MP4-0101_jpg.rf.57f17ebd0499b814ab8b8eca8b3d0da4.jpg: 640x640 4 cars, 1 license_plate, 1 solid-yellow-line, 7.1ms\nimage 12/1006 /kaggle/working/Road-Lines-Segmentation-3-2/test/images/NO20240828-152333-000152F_MP4-0106_jpg.rf.30a0ec030cfdda123b5a168ccb274f9f.jpg: 640x640 7 cars, 1 solid-yellow-line, 7.0ms\nimage 13/1006 /kaggle/working/Road-Lines-Segmentation-3-2/test/images/NO20240828-152333-000152F_MP4-0109_jpg.rf.9d988a90a84e5b2837b4c415167b9be2.jpg: 640x640 7 cars, 1 solid-yellow-line, 7.2ms\nimage 14/1006 /kaggle/working/Road-Lines-Segmentation-3-2/test/images/NO20240828-152333-000152F_MP4-0116_jpg.rf.7ca6a8ef207f03b3391630d87e03b69b.jpg: 640x640 7 cars, 1 solid-yellow-line, 7.0ms\nimage 15/1006 /kaggle/working/Road-Lines-Segmentation-3-2/test/images/NO20240828-152333-000152F_MP4-0117_jpg.rf.4311ed4c92c95ee71087a400b081e78c.jpg: 640x640 6 cars, 1 solid-yellow-line, 7.0ms\nimage 16/1006 /kaggle/working/Road-Lines-Segmentation-3-2/test/images/NO20240828-152333-000152F_MP4-0136_jpg.rf.c5c0d4cfe96622a4069a6b68c82bb139.jpg: 640x640 6 cars, 1 license_plate, 1 solid-yellow-line, 7.0ms\nimage 17/1006 /kaggle/working/Road-Lines-Segmentation-3-2/test/images/NO20240828-152333-000152F_MP4-0137_jpg.rf.f27a4488e7c939f6f611103972f160b9.jpg: 640x640 5 cars, 1 license_plate, 1 solid-yellow-line, 7.0ms\nimage 18/1006 /kaggle/working/Road-Lines-Segmentation-3-2/test/images/NO20240828-152333-000152F_MP4-0141_jpg.rf.048b1fa71f01286bbe9a266641d2d939.jpg: 640x640 5 cars, 1 license_plate, 1 solid-yellow-line, 7.3ms\nimage 19/1006 /kaggle/working/Road-Lines-Segmentation-3-2/test/images/NO20240828-152333-000152F_MP4-0142_jpg.rf.e5c73486d86f4d372da24a98e88572d9.jpg: 640x640 5 cars, 1 solid-yellow-line, 10.0ms\nimage 20/1006 /kaggle/working/Road-Lines-Segmentation-3-2/test/images/NO20240828-152333-000152F_MP4-0143_jpg.rf.7f87cf7371095c46481504cbd2f56e23.jpg: 640x640 5 cars, 1 solid-yellow-line, 7.4ms\nimage 21/1006 /kaggle/working/Road-Lines-Segmentation-3-2/test/images/NO20240828-152333-000152F_MP4-0144_jpg.rf.7e78f3c9fb735d7d8762e5db8fc39810.jpg: 640x640 5 cars, 1 solid-yellow-line, 7.1ms\nimage 22/1006 /kaggle/working/Road-Lines-Segmentation-3-2/test/images/NO20240828-152333-000152F_MP4-0164_jpg.rf.1c50447ddaae4d78a095f71a456215dc.jpg: 640x640 5 cars, 1 solid-yellow-line, 7.2ms\nimage 23/1006 /kaggle/working/Road-Lines-Segmentation-3-2/test/images/NO20240828-152333-000152F_MP4-0168_jpg.rf.37fcea32083037588a4ce7b4b9a9db53.jpg: 640x640 5 cars, 1 solid-yellow-line, 7.4ms\nimage 24/1006 /kaggle/working/Road-Lines-Segmentation-3-2/test/images/NO20240828-152333-000152F_MP4-0169_jpg.rf.62d963dc6628433a1fb3a88810ecd240.jpg: 640x640 6 cars, 1 solid-yellow-line, 7.3ms\nimage 25/1006 /kaggle/working/Road-Lines-Segmentation-3-2/test/images/NO20240828-152333-000152F_MP4-0174_jpg.rf.2313cdbdd1a37fd9aafdbc5986c3a747.jpg: 640x640 7 cars, 1 solid-yellow-line, 7.4ms\nimage 26/1006 /kaggle/working/Road-Lines-Segmentation-3-2/test/images/NO20240828-152333-000152F_MP4-0260_jpg.rf.cf7141b7de7ff2872b8727a8f77dfa7d.jpg: 640x640 6 cars, 1 solid-yellow-line, 7.1ms\nimage 27/1006 /kaggle/working/Road-Lines-Segmentation-3-2/test/images/NO20240828-152333-000152F_MP4-0261_jpg.rf.7e25ee3679a4a25848bc8a221b21a62c.jpg: 640x640 8 cars, 1 solid-yellow-line, 7.1ms\nimage 28/1006 /kaggle/working/Road-Lines-Segmentation-3-2/test/images/NO20240828-152333-000152F_MP4-0266_jpg.rf.4e3d6137eb733f4ae1c5ac853d3ae8e9.jpg: 640x640 6 cars, 7.3ms\nimage 29/1006 /kaggle/working/Road-Lines-Segmentation-3-2/test/images/NO20240828-152333-000152F_MP4-0267_jpg.rf.da7d036ad23f1a23931516093b90126d.jpg: 640x640 6 cars, 1 license_plate, 7.0ms\nimage 30/1006 /kaggle/working/Road-Lines-Segmentation-3-2/test/images/NO20240828-152333-000152F_MP4-0280_jpg.rf.6e84c39cfb71c5eb5217dcdbebc53978.jpg: 640x640 5 cars, 1 license_plate, 7.3ms\nimage 31/1006 /kaggle/working/Road-Lines-Segmentation-3-2/test/images/NO20240828-152333-000152F_MP4-0281_jpg.rf.2670040491d95a5200a1212024d460ca.jpg: 640x640 5 cars, 1 license_plate, 7.1ms\nimage 32/1006 /kaggle/working/Road-Lines-Segmentation-3-2/test/images/NO20240828-152333-000152F_MP4-0293_jpg.rf.5b6f8f3b6a99ec914a5e763349adc8fa.jpg: 640x640 6 cars, 7.1ms\nimage 33/1006 /kaggle/working/Road-Lines-Segmentation-3-2/test/images/NO20240828-152333-000152F_MP4-0321_jpg.rf.45ac701f928a1c5846ba5787fcd4e027.jpg: 640x640 6 cars, 1 license_plate, 7.1ms\nimage 34/1006 /kaggle/working/Road-Lines-Segmentation-3-2/test/images/NO20240828-152333-000152F_MP4-0326_jpg.rf.772e422faa7092ce622ec30ff371cab0.jpg: 640x640 5 cars, 1 solid-yellow-line, 7.1ms\nimage 35/1006 /kaggle/working/Road-Lines-Segmentation-3-2/test/images/NO20240828-152333-000152F_MP4-0330_jpg.rf.3154828da7985bc3d302f155c2ed6722.jpg: 640x640 4 cars, 7.0ms\nimage 36/1006 /kaggle/working/Road-Lines-Segmentation-3-2/test/images/NO20240828-152333-000152F_MP4-0362_jpg.rf.0ff3b8438c72c95e091ad7a7c84fa27e.jpg: 640x640 5 cars, 1 solid-yellow-line, 7.0ms\nimage 37/1006 /kaggle/working/Road-Lines-Segmentation-3-2/test/images/NO20240828-152333-000152F_MP4-0368_jpg.rf.5bafbfbc059018ee6350f39366b5227b.jpg: 640x640 4 cars, 1 solid-yellow-line, 7.3ms\nimage 38/1006 /kaggle/working/Road-Lines-Segmentation-3-2/test/images/NO20240828-152333-000152F_MP4-0373_jpg.rf.707f8e11cea2c71a0c87ed1e4b495091.jpg: 640x640 3 cars, 1 solid-yellow-line, 6.9ms\nimage 39/1006 /kaggle/working/Road-Lines-Segmentation-3-2/test/images/NO20240828-152333-000152F_MP4-0376_jpg.rf.f543705af8f89ab1079ae5e4d754f363.jpg: 640x640 4 cars, 1 solid-yellow-line, 7.0ms\nimage 40/1006 /kaggle/working/Road-Lines-Segmentation-3-2/test/images/NO20240828-152333-000152F_MP4-0379_jpg.rf.959b060e3c61ed29263590f1e41099b2.jpg: 640x640 4 cars, 1 solid-yellow-line, 7.1ms\nimage 41/1006 /kaggle/working/Road-Lines-Segmentation-3-2/test/images/NO20240828-152333-000152F_MP4-0380_jpg.rf.d3718a6c4f22a43f532a0b8602712df4.jpg: 640x640 4 cars, 1 solid-yellow-line, 7.1ms\nimage 42/1006 /kaggle/working/Road-Lines-Segmentation-3-2/test/images/NO20240828-152333-000152F_MP4-0382_jpg.rf.ef6ae7d65e8a375a511f03fac125377a.jpg: 640x640 4 cars, 1 solid-yellow-line, 7.2ms\nimage 43/1006 /kaggle/working/Road-Lines-Segmentation-3-2/test/images/NO20240828-152333-000152F_MP4-0384_jpg.rf.226269b9800a72df91efe888d8c7971e.jpg: 640x640 4 cars, 1 solid-yellow-line, 7.2ms\nimage 44/1006 /kaggle/working/Road-Lines-Segmentation-3-2/test/images/NO20240828-152333-000152F_MP4-0385_jpg.rf.8cda97dc442a00f1b353da18eec8892b.jpg: 640x640 4 cars, 1 solid-yellow-line, 7.9ms\nimage 45/1006 /kaggle/working/Road-Lines-Segmentation-3-2/test/images/NO20240828-152333-000152F_MP4-0386_jpg.rf.2f8118e7c88e75b78a7f43aeb8a95c68.jpg: 640x640 4 cars, 1 solid-yellow-line, 7.1ms\nimage 46/1006 /kaggle/working/Road-Lines-Segmentation-3-2/test/images/NO20240828-152333-000152F_MP4-0387_jpg.rf.70c7f7285ed4e9e8b5a4ae463f8eb781.jpg: 640x640 4 cars, 1 solid-yellow-line, 6.8ms\nimage 47/1006 /kaggle/working/Road-Lines-Segmentation-3-2/test/images/NO20240828-152333-000152F_MP4-0390_jpg.rf.efb33dd21227dfe377e13a93afdd62ba.jpg: 640x640 4 cars, 1 solid-yellow-line, 6.9ms\nimage 48/1006 /kaggle/working/Road-Lines-Segmentation-3-2/test/images/NO20240828-152333-000152F_MP4-0391_jpg.rf.bcdd2dbd02b15f78b0f9f4ae6d820fa8.jpg: 640x640 4 cars, 1 solid-yellow-line, 7.0ms\nimage 49/1006 /kaggle/working/Road-Lines-Segmentation-3-2/test/images/NO20240828-152333-000152F_MP4-0393_jpg.rf.250c285362af442e71328a935040aad2.jpg: 640x640 4 cars, 1 solid-yellow-line, 7.0ms\nimage 50/1006 /kaggle/working/Road-Lines-Segmentation-3-2/test/images/NO20240828-152333-000152F_MP4-0396_jpg.rf.d800a0dc64d08d578a764fe556cbee23.jpg: 640x640 4 cars, 1 solid-yellow-line, 7.1ms\nimage 51/1006 /kaggle/working/Road-Lines-Segmentation-3-2/test/images/NO20240828-152333-000152F_MP4-0401_jpg.rf.a923fe01f7180cadcd3db92a719f1e63.jpg: 640x640 4 cars, 1 solid-yellow-line, 7.4ms\nimage 52/1006 /kaggle/working/Road-Lines-Segmentation-3-2/test/images/NO20240828-152333-000152F_MP4-0402_jpg.rf.d7c750b662e9ab73c95e91be9397879f.jpg: 640x640 4 cars, 1 solid-yellow-line, 7.0ms\nimage 53/1006 /kaggle/working/Road-Lines-Segmentation-3-2/test/images/NO20240828-152333-000152F_MP4-0403_jpg.rf.533a221f52ebe9fa23d11c1c3471fbdf.jpg: 640x640 4 cars, 1 solid-yellow-line, 7.1ms\nimage 54/1006 /kaggle/working/Road-Lines-Segmentation-3-2/test/images/NO20240828-152333-000152F_MP4-0405_jpg.rf.61f3336806f6ee8348096c1e52212482.jpg: 640x640 4 cars, 1 solid-yellow-line, 6.9ms\nimage 55/1006 /kaggle/working/Road-Lines-Segmentation-3-2/test/images/NO20240828-152333-000152F_MP4-0406_jpg.rf.3a7a45194f907042787dd94e611c74f8.jpg: 640x640 5 cars, 1 solid-yellow-line, 6.8ms\nimage 56/1006 /kaggle/working/Road-Lines-Segmentation-3-2/test/images/NO20240828-152333-000152F_MP4-0407_jpg.rf.d23b858b9b24e3a18b3dfafd5ec085cf.jpg: 640x640 4 cars, 1 solid-yellow-line, 7.1ms\nimage 57/1006 /kaggle/working/Road-Lines-Segmentation-3-2/test/images/NO20240828-152333-000152F_MP4-0411_jpg.rf.a6a88db43556a0181da4094f6d0cfb08.jpg: 640x640 6 cars, 1 solid-yellow-line, 7.0ms\nimage 58/1006 /kaggle/working/Road-Lines-Segmentation-3-2/test/images/NO20240828-152333-000152F_MP4-0413_jpg.rf.e2b58c1d16af4f6960b6bf357f2fdadb.jpg: 640x640 5 cars, 1 solid-yellow-line, 6.8ms\nimage 59/1006 /kaggle/working/Road-Lines-Segmentation-3-2/test/images/NO20240828-152333-000152F_MP4-0414_jpg.rf.145b2463c6e878f6e1069b04f4a1cd0f.jpg: 640x640 5 cars, 1 solid-yellow-line, 7.1ms\nimage 60/1006 /kaggle/working/Road-Lines-Segmentation-3-2/test/images/NO20240828-152333-000152F_MP4-0416_jpg.rf.9ee575e608b8b755132fee8d63e6a22a.jpg: 640x640 4 cars, 1 solid-yellow-line, 7.0ms\nimage 61/1006 /kaggle/working/Road-Lines-Segmentation-3-2/test/images/NO20240828-152333-000152F_MP4-0417_jpg.rf.f9092e2f392e38c50a5e5f9c962f3bc5.jpg: 640x640 5 cars, 1 solid-yellow-line, 7.4ms\nimage 62/1006 /kaggle/working/Road-Lines-Segmentation-3-2/test/images/NO20240828-152333-000152F_MP4-0418_jpg.rf.d1df79a10bcf07eb3b6f9c0f226ad334.jpg: 640x640 5 cars, 1 solid-yellow-line, 6.8ms\nimage 63/1006 /kaggle/working/Road-Lines-Segmentation-3-2/test/images/NO20240828-152333-000152F_MP4-0421_jpg.rf.4e0dcb27594f6df032c9e064059427d3.jpg: 640x640 5 cars, 1 solid-yellow-line, 6.8ms\nimage 64/1006 /kaggle/working/Road-Lines-Segmentation-3-2/test/images/NO20240828-152333-000152F_MP4-0424_jpg.rf.f08a4fe536d9459594429b32f2b138ef.jpg: 640x640 7 cars, 1 solid-yellow-line, 7.3ms\nimage 65/1006 /kaggle/working/Road-Lines-Segmentation-3-2/test/images/NO20240828-152333-000152F_MP4-0425_jpg.rf.2d11a4911c9c2a5ade170875c62fbdda.jpg: 640x640 6 cars, 1 solid-yellow-line, 6.9ms\nimage 66/1006 /kaggle/working/Road-Lines-Segmentation-3-2/test/images/NO20240828-152333-000152F_MP4-0434_jpg.rf.ec4eeb092e3e2eccc2f4a08202ef7b3a.jpg: 640x640 6 cars, 1 solid-yellow-line, 6.9ms\nimage 67/1006 /kaggle/working/Road-Lines-Segmentation-3-2/test/images/NO20240828-152333-000152F_MP4-0438_jpg.rf.8908d92d51154b86014d315d08cd75f6.jpg: 640x640 5 cars, 1 solid-yellow-line, 6.9ms\nimage 68/1006 /kaggle/working/Road-Lines-Segmentation-3-2/test/images/NO20240828-152333-000152F_MP4-0452_jpg.rf.cd06fe030ae6c17deed5da2f180685af.jpg: 640x640 7 cars, 1 solid-yellow-line, 6.9ms\nimage 69/1006 /kaggle/working/Road-Lines-Segmentation-3-2/test/images/NO20240828-152333-000152F_MP4-0461_jpg.rf.9bab3decb17c5ff733c74e32df19bf0a.jpg: 640x640 7 cars, 1 solid-yellow-line, 6.9ms\nimage 70/1006 /kaggle/working/Road-Lines-Segmentation-3-2/test/images/NO20240828-152333-000152F_MP4-0466_jpg.rf.9b5eb6393e145ee76e18be2732f8ecab.jpg: 640x640 6 cars, 1 solid-yellow-line, 6.9ms\nimage 71/1006 /kaggle/working/Road-Lines-Segmentation-3-2/test/images/NO20240828-152333-000152F_MP4-0477_jpg.rf.cec84a1c68b504022df760f53d9d3d44.jpg: 640x640 8 cars, 1 license_plate, 1 solid-yellow-line, 6.8ms\nimage 72/1006 /kaggle/working/Road-Lines-Segmentation-3-2/test/images/NO20240828-152333-000152F_MP4-0488_jpg.rf.ed268f2cd35dbed325bcc2af284ff459.jpg: 640x640 7 cars, 1 solid-yellow-line, 6.9ms\nimage 73/1006 /kaggle/working/Road-Lines-Segmentation-3-2/test/images/NO20240828-152333-000152F_MP4-0491_jpg.rf.b117345c64e2b0e6c18b59fbdc5eaddb.jpg: 640x640 7 cars, 1 solid-yellow-line, 6.9ms\nimage 74/1006 /kaggle/working/Road-Lines-Segmentation-3-2/test/images/NO20240828-152333-000152F_MP4-0494_jpg.rf.56b61edc2abe818edfe6100253a471eb.jpg: 640x640 7 cars, 2 solid-yellow-lines, 6.9ms\nimage 75/1006 /kaggle/working/Road-Lines-Segmentation-3-2/test/images/NO20240828-152333-000152F_MP4-0498_jpg.rf.c97291932aed962b1e01343bbe2e17b6.jpg: 640x640 7 cars, 1 solid-yellow-line, 7.1ms\nimage 76/1006 /kaggle/working/Road-Lines-Segmentation-3-2/test/images/NO20240828-152333-000152F_MP4-0613_jpg.rf.60e645910f55a161a66baabdbcc2576a.jpg: 640x640 4 cars, 1 solid-yellow-line, 7.3ms\nimage 77/1006 /kaggle/working/Road-Lines-Segmentation-3-2/test/images/NO20240828-152333-000152F_MP4-0617_jpg.rf.214760e088b1cad1135c5ab8fdcb4563.jpg: 640x640 5 cars, 1 solid-yellow-line, 6.9ms\nimage 78/1006 /kaggle/working/Road-Lines-Segmentation-3-2/test/images/NO20240828-152333-000152F_MP4-0620_jpg.rf.afeee43fac59c2e2d83a8401ea486989.jpg: 640x640 6 cars, 1 solid-yellow-line, 6.9ms\nimage 79/1006 /kaggle/working/Road-Lines-Segmentation-3-2/test/images/NO20240828-152333-000152F_MP4-0621_jpg.rf.3d562a1cf726bd9a28e71c7beee361ee.jpg: 640x640 5 cars, 1 solid-yellow-line, 7.0ms\nimage 80/1006 /kaggle/working/Road-Lines-Segmentation-3-2/test/images/NO20240828-152333-000152F_MP4-0628_jpg.rf.7a93898b8915777956f9a8bec235059d.jpg: 640x640 6 cars, 1 solid-yellow-line, 6.9ms\nimage 81/1006 /kaggle/working/Road-Lines-Segmentation-3-2/test/images/NO20240828-152333-000152F_MP4-0630_jpg.rf.2d72eaa7ef949516c5ff8f1b05b24bf9.jpg: 640x640 6 cars, 1 solid-yellow-line, 6.9ms\nimage 82/1006 /kaggle/working/Road-Lines-Segmentation-3-2/test/images/NO20240828-152333-000152F_MP4-0632_jpg.rf.5844c24e7a57214976da23160d18695d.jpg: 640x640 4 cars, 1 solid-yellow-line, 6.8ms\nimage 83/1006 /kaggle/working/Road-Lines-Segmentation-3-2/test/images/NO20240828-152333-000152F_MP4-0633_jpg.rf.5ee40c63a90cac70e58aec38c5ad88ad.jpg: 640x640 4 cars, 1 solid-yellow-line, 7.2ms\nimage 84/1006 /kaggle/working/Road-Lines-Segmentation-3-2/test/images/NO20240828-152333-000152F_MP4-0637_jpg.rf.dbdfce988340a1bfc98bd3649e012bf9.jpg: 640x640 4 cars, 1 solid-yellow-line, 7.1ms\nimage 85/1006 /kaggle/working/Road-Lines-Segmentation-3-2/test/images/NO20240828-152333-000152F_MP4-0638_jpg.rf.6230539e739505edb5aee395513be589.jpg: 640x640 4 cars, 1 solid-yellow-line, 6.8ms\nimage 86/1006 /kaggle/working/Road-Lines-Segmentation-3-2/test/images/NO20240828-152333-000152F_MP4-0640_jpg.rf.32708154245900626b34fef66b1ecfad.jpg: 640x640 4 cars, 1 license_plate, 1 solid-yellow-line, 6.8ms\nimage 87/1006 /kaggle/working/Road-Lines-Segmentation-3-2/test/images/NO20240828-152333-000152F_MP4-0641_jpg.rf.1363b5f6fd1f575c84fa2eb9ea678513.jpg: 640x640 4 cars, 1 license_plate, 1 solid-yellow-line, 6.8ms\nimage 88/1006 /kaggle/working/Road-Lines-Segmentation-3-2/test/images/NO20240828-152333-000152F_MP4-0648_jpg.rf.30e32081ef097fbdd7b6bb5a3e3faa7b.jpg: 640x640 3 cars, 1 license_plate, 1 solid-yellow-line, 7.0ms\nimage 89/1006 /kaggle/working/Road-Lines-Segmentation-3-2/test/images/NO20240828-152333-000152F_MP4-0804_jpg.rf.f1a40806202a74b141fb7a333b4b3324.jpg: 640x640 3 cars, 1 license_plate, 6.9ms\nimage 90/1006 /kaggle/working/Road-Lines-Segmentation-3-2/test/images/NO20240828-152333-000152F_MP4-0808_jpg.rf.1261767b9f6ebce4300809aac62f7734.jpg: 640x640 3 cars, 1 license_plate, 8.1ms\nimage 91/1006 /kaggle/working/Road-Lines-Segmentation-3-2/test/images/NO20240828-152333-000152F_MP4-0810_jpg.rf.74541b7a3b5e7c65fba090d751ca5b73.jpg: 640x640 3 cars, 1 license_plate, 7.2ms\nimage 92/1006 /kaggle/working/Road-Lines-Segmentation-3-2/test/images/NO20240828-152333-000152F_MP4-0840_jpg.rf.ab2088b0c91140f2e6ed08034f0a80ff.jpg: 640x640 5 cars, 2 license_plates, 7.3ms\nimage 93/1006 /kaggle/working/Road-Lines-Segmentation-3-2/test/images/NO20240828-152333-000152F_MP4-0850_jpg.rf.72d088a37993f8da6caaa8bf2b21a5cc.jpg: 640x640 4 cars, 1 license_plate, 1 solid-yellow-line, 7.1ms\nimage 94/1006 /kaggle/working/Road-Lines-Segmentation-3-2/test/images/NO20240828-152333-000152F_MP4-0856_jpg.rf.3b4d0593eb78a49d85aace7ff334b01f.jpg: 640x640 4 cars, 1 solid-yellow-line, 7.3ms\nimage 95/1006 /kaggle/working/Road-Lines-Segmentation-3-2/test/images/NO20240828-152333-000152F_MP4-0857_jpg.rf.a31276461f35847c713b2937e9479690.jpg: 640x640 4 cars, 1 solid-yellow-line, 7.3ms\nimage 96/1006 /kaggle/working/Road-Lines-Segmentation-3-2/test/images/NO20240828-152333-000152F_MP4-0859_jpg.rf.c696177b4bf374891d343e097460c1ff.jpg: 640x640 4 cars, 1 solid-yellow-line, 7.3ms\nimage 97/1006 /kaggle/working/Road-Lines-Segmentation-3-2/test/images/NO20240828-152333-000152F_MP4-0867_jpg.rf.17504d1722ce58f49b9292c4b75ab7fd.jpg: 640x640 4 cars, 1 solid-yellow-line, 7.0ms\nimage 98/1006 /kaggle/working/Road-Lines-Segmentation-3-2/test/images/NO20240828-152333-000152F_MP4-0873_jpg.rf.c520b54b0555abfe2b3148f06be246ea.jpg: 640x640 5 cars, 1 solid-yellow-line, 7.1ms\nimage 99/1006 /kaggle/working/Road-Lines-Segmentation-3-2/test/images/NO20240828-152333-000152F_MP4-0885_jpg.rf.2c790769f52eb1312fc10a782c317a59.jpg: 640x640 5 cars, 7.1ms\nimage 100/1006 /kaggle/working/Road-Lines-Segmentation-3-2/test/images/NO20240828-152333-000152F_MP4-0886_jpg.rf.f66cb1be97fb91715ed37ef9468a39c1.jpg: 640x640 5 cars, 7.0ms\nimage 101/1006 /kaggle/working/Road-Lines-Segmentation-3-2/test/images/NO20240828-152333-000152F_MP4-0890_jpg.rf.4a65085e0cb183b9bac895d9089342b1.jpg: 640x640 6 cars, 11.5ms\nimage 102/1006 /kaggle/working/Road-Lines-Segmentation-3-2/test/images/NO20240828-152333-000152F_MP4-0900_jpg.rf.3fc1dc36c8be30adf48d820f59844456.jpg: 640x640 5 cars, 2 solid-yellow-lines, 12.1ms\nimage 103/1006 /kaggle/working/Road-Lines-Segmentation-3-2/test/images/NO20240828-152333-000152F_MP4-0903_jpg.rf.400610c900333bb69adab54cbaef02b2.jpg: 640x640 6 cars, 11.3ms\nimage 104/1006 /kaggle/working/Road-Lines-Segmentation-3-2/test/images/NO20240828-152333-000152F_MP4-0909_jpg.rf.9139cab137f7f548f1573bb6bfb748b9.jpg: 640x640 8 cars, 1 solid-yellow-line, 7.8ms\nimage 105/1006 /kaggle/working/Road-Lines-Segmentation-3-2/test/images/NO20240828-152333-000152F_MP4-0914_jpg.rf.8c4eca1bc049be8de65bdf213c3e3e9b.jpg: 640x640 6 cars, 1 solid-yellow-line, 7.3ms\nimage 106/1006 /kaggle/working/Road-Lines-Segmentation-3-2/test/images/NO20240828-152333-000152F_MP4-0915_jpg.rf.dcbe709e71788bec3084464b38281c71.jpg: 640x640 6 cars, 1 solid-yellow-line, 7.3ms\nimage 107/1006 /kaggle/working/Road-Lines-Segmentation-3-2/test/images/NO20240828-152333-000152F_MP4-0921_jpg.rf.f54f82be12b9a4e73f0442444db673c9.jpg: 640x640 5 cars, 1 solid-yellow-line, 8.9ms\nimage 108/1006 /kaggle/working/Road-Lines-Segmentation-3-2/test/images/NO20240828-152333-000152F_MP4-0923_jpg.rf.a0f70a70804eb6893a7e411748e41546.jpg: 640x640 5 cars, 1 solid-yellow-line, 11.1ms\nimage 109/1006 /kaggle/working/Road-Lines-Segmentation-3-2/test/images/NO20240828-152333-000152F_MP4-0925_jpg.rf.f5b09d8d27e9a604aa12ce7791a6d9a8.jpg: 640x640 5 cars, 1 solid-yellow-line, 12.0ms\nimage 110/1006 /kaggle/working/Road-Lines-Segmentation-3-2/test/images/NO20240828-152333-000152F_MP4-0927_jpg.rf.94e1d7a147fc3b689dfbfad520611b8c.jpg: 640x640 5 cars, 1 license_plate, 1 solid-yellow-line, 12.6ms\nimage 111/1006 /kaggle/working/Road-Lines-Segmentation-3-2/test/images/NO20240828-152333-000152F_MP4-0945_jpg.rf.e23a35e0c595d6f03247f444ed728ca1.jpg: 640x640 5 cars, 1 license_plate, 1 solid-yellow-line, 10.9ms\nimage 112/1006 /kaggle/working/Road-Lines-Segmentation-3-2/test/images/NO20240828-152333-000152F_MP4-0946_jpg.rf.401661b1e3cc4a524e2948d462fb90cd.jpg: 640x640 5 cars, 1 license_plate, 1 solid-yellow-line, 8.0ms\nimage 113/1006 /kaggle/working/Road-Lines-Segmentation-3-2/test/images/NO20240828-152333-000152F_MP4-1006_jpg.rf.02d68e7b2ee7b0bd591115c7b44483f4.jpg: 640x640 5 cars, 1 license_plate, 1 solid-yellow-line, 7.3ms\nimage 114/1006 /kaggle/working/Road-Lines-Segmentation-3-2/test/images/NO20240828-152333-000152F_MP4-1010_jpg.rf.4ded432767db2518aad1b10a15b460ff.jpg: 640x640 6 cars, 1 license_plate, 1 solid-yellow-line, 7.5ms\nimage 115/1006 /kaggle/working/Road-Lines-Segmentation-3-2/test/images/NO20240828-152333-000152F_MP4-1012_jpg.rf.7ed3c7c87242ebc54f9a111f2485694c.jpg: 640x640 7 cars, 1 license_plate, 1 solid-yellow-line, 7.8ms\nimage 116/1006 /kaggle/working/Road-Lines-Segmentation-3-2/test/images/NO20240828-152333-000152F_MP4-1014_jpg.rf.55d0c380a38a16c927ebcdd28c44ec63.jpg: 640x640 6 cars, 1 license_plate, 1 solid-yellow-line, 7.2ms\nimage 117/1006 /kaggle/working/Road-Lines-Segmentation-3-2/test/images/NO20240828-152333-000152F_MP4-1015_jpg.rf.ff86fae18d2a1a490f6c185bf78a72e4.jpg: 640x640 7 cars, 1 license_plate, 1 solid-yellow-line, 7.4ms\nimage 118/1006 /kaggle/working/Road-Lines-Segmentation-3-2/test/images/NO20240828-152333-000152F_MP4-1016_jpg.rf.7a0993dae4a5e5bba1c931de00fc2917.jpg: 640x640 6 cars, 1 license_plate, 8.8ms\nimage 119/1006 /kaggle/working/Road-Lines-Segmentation-3-2/test/images/NO20240828-152333-000152F_MP4-1030_jpg.rf.1a0c058a268161652016d3a1df20df31.jpg: 640x640 7 cars, 1 license_plate, 1 solid-yellow-line, 10.9ms\nimage 120/1006 /kaggle/working/Road-Lines-Segmentation-3-2/test/images/NO20240828-152333-000152F_MP4-1033_jpg.rf.2d26aa47ce9bc723fd2ef0814308ab85.jpg: 640x640 6 cars, 1 solid-yellow-line, 7.3ms\nimage 121/1006 /kaggle/working/Road-Lines-Segmentation-3-2/test/images/NO20240828-152333-000152F_MP4-1035_jpg.rf.a0a03679cf1b989fd74954dafa682094.jpg: 640x640 6 cars, 2 solid-yellow-lines, 7.1ms\nimage 122/1006 /kaggle/working/Road-Lines-Segmentation-3-2/test/images/NO20240828-152333-000152F_MP4-1037_jpg.rf.37e12eb21735cc8cd74d71f11ca0e5fd.jpg: 640x640 6 cars, 1 solid-yellow-line, 8.8ms\nimage 123/1006 /kaggle/working/Road-Lines-Segmentation-3-2/test/images/NO20240828-152333-000152F_MP4-1048_jpg.rf.da154f6757cfee7528a7b0384361f97d.jpg: 640x640 6 cars, 1 license_plate, 1 solid-yellow-line, 7.2ms\nimage 124/1006 /kaggle/working/Road-Lines-Segmentation-3-2/test/images/NO20240828-152333-000152F_MP4-1050_jpg.rf.66fdbf5b47065fa406ecde8d2c2c5a8d.jpg: 640x640 7 cars, 1 license_plate, 1 solid-yellow-line, 7.3ms\nimage 125/1006 /kaggle/working/Road-Lines-Segmentation-3-2/test/images/NO20240828-152333-000152F_MP4-1051_jpg.rf.e145af179ceb4981b875df369b146f46.jpg: 640x640 6 cars, 1 license_plate, 1 solid-yellow-line, 8.0ms\nimage 126/1006 /kaggle/working/Road-Lines-Segmentation-3-2/test/images/NO20240828-152333-000152F_MP4-1057_jpg.rf.297d0b6497cd5145ebd588b373b60c5b.jpg: 640x640 6 cars, 1 license_plate, 1 solid-yellow-line, 8.3ms\nimage 127/1006 /kaggle/working/Road-Lines-Segmentation-3-2/test/images/NO20240828-152333-000152F_MP4-1067_jpg.rf.3c6ef69af38e30f9d8df8e3a1be53064.jpg: 640x640 6 cars, 1 license_plate, 1 solid-yellow-line, 8.6ms\nimage 128/1006 /kaggle/working/Road-Lines-Segmentation-3-2/test/images/NO20240828-152333-000152F_MP4-1070_jpg.rf.899509a2c61171b0d6effc06bd51d4f2.jpg: 640x640 6 cars, 1 license_plate, 1 solid-yellow-line, 7.5ms\nimage 129/1006 /kaggle/working/Road-Lines-Segmentation-3-2/test/images/NO20240829-080011-000238F_MP4-0007_jpg.rf.1254aca024b372c5634b01b802e7c5b4.jpg: 640x640 3 cars, 7.3ms\nimage 130/1006 /kaggle/working/Road-Lines-Segmentation-3-2/test/images/NO20240829-080011-000238F_MP4-0024_jpg.rf.9585e7948a280cf9c19fea764afd77f6.jpg: 640x640 3 cars, 7.1ms\nimage 131/1006 /kaggle/working/Road-Lines-Segmentation-3-2/test/images/NO20240829-080011-000238F_MP4-0030_jpg.rf.625cdc7a4efe491db4ff767beb4644cf.jpg: 640x640 3 cars, 1 solid-yellow-line, 11.1ms\nimage 132/1006 /kaggle/working/Road-Lines-Segmentation-3-2/test/images/NO20240829-080011-000238F_MP4-0054_jpg.rf.cceb583e53f7cc91bc1211f5591a129e.jpg: 640x640 2 cars, 1 solid-yellow-line, 12.0ms\nimage 133/1006 /kaggle/working/Road-Lines-Segmentation-3-2/test/images/NO20240829-080011-000238F_MP4-0277_jpg.rf.ab90d2ea429e42a19dfa066c3344b343.jpg: 640x640 5 cars, 1 solid-yellow-line, 10.4ms\nimage 134/1006 /kaggle/working/Road-Lines-Segmentation-3-2/test/images/NO20240829-080011-000238F_MP4-0279_jpg.rf.53a717068426e8bacb5cacb9cc0389fc.jpg: 640x640 5 cars, 1 solid-yellow-line, 7.1ms\nimage 135/1006 /kaggle/working/Road-Lines-Segmentation-3-2/test/images/NO20240829-080011-000238F_MP4-0281_jpg.rf.908d3abb89c54941971bcdf5329a668f.jpg: 640x640 3 cars, 1 solid-yellow-line, 7.1ms\nimage 136/1006 /kaggle/working/Road-Lines-Segmentation-3-2/test/images/NO20240829-080011-000238F_MP4-0283_jpg.rf.983217263c61b059d7bb93fe604e2f08.jpg: 640x640 4 cars, 1 solid-yellow-line, 7.1ms\nimage 137/1006 /kaggle/working/Road-Lines-Segmentation-3-2/test/images/NO20240829-080011-000238F_MP4-0285_jpg.rf.0f1236db71f6d2237b1f88569fe5ac6d.jpg: 640x640 4 cars, 2 solid-yellow-lines, 7.1ms\nimage 138/1006 /kaggle/working/Road-Lines-Segmentation-3-2/test/images/NO20240829-080011-000238F_MP4-0287_jpg.rf.0c4fe7d9f09f4e8df560d4fb6e4e03d0.jpg: 640x640 4 cars, 2 solid-yellow-lines, 7.1ms\nimage 139/1006 /kaggle/working/Road-Lines-Segmentation-3-2/test/images/NO20240829-080011-000238F_MP4-0288_jpg.rf.632ea99c642f15523369973d5bf763c7.jpg: 640x640 4 cars, 2 solid-yellow-lines, 6.9ms\nimage 140/1006 /kaggle/working/Road-Lines-Segmentation-3-2/test/images/NO20240829-080011-000238F_MP4-0292_jpg.rf.217ba4aceaa464ade017d82150da2745.jpg: 640x640 3 cars, 2 solid-yellow-lines, 7.0ms\nimage 141/1006 /kaggle/working/Road-Lines-Segmentation-3-2/test/images/NO20240829-080011-000238F_MP4-0294_jpg.rf.00be629c7e822351bc3a23542e591422.jpg: 640x640 3 cars, 2 solid-yellow-lines, 8.2ms\nimage 142/1006 /kaggle/working/Road-Lines-Segmentation-3-2/test/images/NO20240829-080011-000238F_MP4-0295_jpg.rf.64e09b67ca2763b9461841724eabd8b8.jpg: 640x640 3 cars, 1 solid-yellow-line, 7.1ms\nimage 143/1006 /kaggle/working/Road-Lines-Segmentation-3-2/test/images/NO20240829-080011-000238F_MP4-0297_jpg.rf.96caad7562ff53c8e232979f15ff906c.jpg: 640x640 3 cars, 1 solid-yellow-line, 6.9ms\nimage 144/1006 /kaggle/working/Road-Lines-Segmentation-3-2/test/images/NO20240829-080011-000238F_MP4-0298_jpg.rf.b86a5fa8643e0463b6399d90f2ce4dae.jpg: 640x640 2 cars, 1 solid-yellow-line, 6.9ms\nimage 145/1006 /kaggle/working/Road-Lines-Segmentation-3-2/test/images/NO20240829-080111-000239F_MP4-0003_jpg.rf.bde46b01da8ad15f1bc90e6d9de58c83.jpg: 640x640 4 cars, 1 solid-yellow-line, 7.3ms\nimage 146/1006 /kaggle/working/Road-Lines-Segmentation-3-2/test/images/NO20240829-080111-000239F_MP4-0005_jpg.rf.c6346042ebe40a86d6a31ca4eb21d876.jpg: 640x640 4 cars, 1 solid-yellow-line, 7.2ms\nimage 147/1006 /kaggle/working/Road-Lines-Segmentation-3-2/test/images/NO20240829-080111-000239F_MP4-0006_jpg.rf.149925abdfda733c0e47bc227052f2f6.jpg: 640x640 3 cars, 2 solid-yellow-lines, 7.2ms\nimage 148/1006 /kaggle/working/Road-Lines-Segmentation-3-2/test/images/NO20240829-080111-000239F_MP4-0008_jpg.rf.4ccb55e72879df900bc893d3f4cf0285.jpg: 640x640 3 cars, 1 solid-yellow-line, 7.0ms\nimage 149/1006 /kaggle/working/Road-Lines-Segmentation-3-2/test/images/NO20240829-080111-000239F_MP4-0011_jpg.rf.0676991059f31720fda32ef14cf43bc3.jpg: 640x640 3 cars, 2 solid-yellow-lines, 7.2ms\nimage 150/1006 /kaggle/working/Road-Lines-Segmentation-3-2/test/images/NO20240829-080111-000239F_MP4-0012_jpg.rf.b28e00b037197c09a540d248201cd7de.jpg: 640x640 3 cars, 2 solid-yellow-lines, 7.2ms\nimage 151/1006 /kaggle/working/Road-Lines-Segmentation-3-2/test/images/NO20240829-080111-000239F_MP4-0018_jpg.rf.43372dd54ac1bedc30b2ffbb847f125d.jpg: 640x640 3 cars, 1 solid-yellow-line, 7.2ms\nimage 152/1006 /kaggle/working/Road-Lines-Segmentation-3-2/test/images/NO20240829-080111-000239F_MP4-0019_jpg.rf.1db513ff8522a20699fc3d109a9fe3af.jpg: 640x640 3 cars, 1 solid-yellow-line, 7.2ms\nimage 153/1006 /kaggle/working/Road-Lines-Segmentation-3-2/test/images/NO20240829-080111-000239F_MP4-0020_jpg.rf.941f5aa11db22e265f1adc55453ac03a.jpg: 640x640 3 cars, 1 solid-yellow-line, 7.4ms\nimage 154/1006 /kaggle/working/Road-Lines-Segmentation-3-2/test/images/NO20240829-080111-000239F_MP4-0023_jpg.rf.18442f6fd1c53b996aa9e652cab2cafa.jpg: 640x640 3 cars, 1 solid-yellow-line, 7.1ms\nimage 155/1006 /kaggle/working/Road-Lines-Segmentation-3-2/test/images/NO20240829-080111-000239F_MP4-0025_jpg.rf.7ec1ec8b9d11aa1d37a48db6c4df2833.jpg: 640x640 3 cars, 2 solid-yellow-lines, 7.5ms\nimage 156/1006 /kaggle/working/Road-Lines-Segmentation-3-2/test/images/NO20240829-080111-000239F_MP4-0026_jpg.rf.4e584c98e71269e9d0c158d03ef973bd.jpg: 640x640 3 cars, 2 solid-yellow-lines, 7.1ms\nimage 157/1006 /kaggle/working/Road-Lines-Segmentation-3-2/test/images/NO20240829-080111-000239F_MP4-0027_jpg.rf.19b2f77e83ee60cdef3737b797ca2219.jpg: 640x640 4 cars, 2 solid-yellow-lines, 7.1ms\nimage 158/1006 /kaggle/working/Road-Lines-Segmentation-3-2/test/images/NO20240829-080111-000239F_MP4-0028_jpg.rf.835f9fd2a6bd8b00c2ad07a850a5436b.jpg: 640x640 4 cars, 2 solid-yellow-lines, 6.9ms\nimage 159/1006 /kaggle/working/Road-Lines-Segmentation-3-2/test/images/NO20240829-080111-000239F_MP4-0031_jpg.rf.a1e18c2da57fe7f2df8e1279a8c80e10.jpg: 640x640 4 cars, 1 solid-yellow-line, 8.0ms\nimage 160/1006 /kaggle/working/Road-Lines-Segmentation-3-2/test/images/NO20240829-080111-000239F_MP4-0034_jpg.rf.6eba930c5b66cd98e3973aaa2d677385.jpg: 640x640 4 cars, 1 solid-yellow-line, 7.5ms\nimage 161/1006 /kaggle/working/Road-Lines-Segmentation-3-2/test/images/NO20240829-080111-000239F_MP4-0035_jpg.rf.cf303d4982792ae3d011585491f4ed70.jpg: 640x640 3 cars, 2 solid-yellow-lines, 7.7ms\nimage 162/1006 /kaggle/working/Road-Lines-Segmentation-3-2/test/images/NO20240829-080111-000239F_MP4-0045_jpg.rf.69e0138287da270442ee4b33590ef415.jpg: 640x640 3 cars, 1 solid-yellow-line, 7.3ms\nimage 163/1006 /kaggle/working/Road-Lines-Segmentation-3-2/test/images/NO20240829-080111-000239F_MP4-0048_jpg.rf.d04b49292b5b8b40d52262bc4692e00e.jpg: 640x640 3 cars, 1 solid-yellow-line, 7.5ms\nimage 164/1006 /kaggle/working/Road-Lines-Segmentation-3-2/test/images/NO20240829-080111-000239F_MP4-0049_jpg.rf.356eb98aaccd7a0aa0968a520cc93fe7.jpg: 640x640 3 cars, 1 solid-yellow-line, 7.6ms\nimage 165/1006 /kaggle/working/Road-Lines-Segmentation-3-2/test/images/NO20240829-080111-000239F_MP4-0050_jpg.rf.266021f145a5db1881098c6fd00a4723.jpg: 640x640 3 cars, 1 solid-yellow-line, 7.4ms\nimage 166/1006 /kaggle/working/Road-Lines-Segmentation-3-2/test/images/NO20240829-080111-000239F_MP4-0051_jpg.rf.685a7d18ef8c42876c4fd58b5c2f7f03.jpg: 640x640 3 cars, 1 solid-yellow-line, 7.6ms\nimage 167/1006 /kaggle/working/Road-Lines-Segmentation-3-2/test/images/NO20240829-080111-000239F_MP4-0052_jpg.rf.cf1e88c125a9b86ed222a96b3356584e.jpg: 640x640 4 cars, 2 solid-yellow-lines, 7.2ms\nimage 168/1006 /kaggle/working/Road-Lines-Segmentation-3-2/test/images/NO20240829-080111-000239F_MP4-0054_jpg.rf.4431fdff83f2460c30a95e7a8259fabe.jpg: 640x640 3 cars, 2 solid-yellow-lines, 7.8ms\nimage 169/1006 /kaggle/working/Road-Lines-Segmentation-3-2/test/images/NO20240829-080111-000239F_MP4-0056_jpg.rf.f137ee6130732d39a3201522a19a6d04.jpg: 640x640 3 cars, 1 solid-yellow-line, 7.4ms\nimage 170/1006 /kaggle/working/Road-Lines-Segmentation-3-2/test/images/NO20240829-080111-000239F_MP4-0058_jpg.rf.924e02fce6d9a4458358bec31cef9a13.jpg: 640x640 3 cars, 1 solid-yellow-line, 7.4ms\nimage 171/1006 /kaggle/working/Road-Lines-Segmentation-3-2/test/images/NO20240829-080111-000239F_MP4-0059_jpg.rf.7d60fceb6a4834c4fd9ff68e00d2e5c6.jpg: 640x640 3 cars, 1 solid-yellow-line, 6.9ms\nimage 172/1006 /kaggle/working/Road-Lines-Segmentation-3-2/test/images/NO20240829-080111-000239F_MP4-0060_jpg.rf.cd89180297b35e562a60b2357b4eef42.jpg: 640x640 3 cars, 1 solid-yellow-line, 7.1ms\nimage 173/1006 /kaggle/working/Road-Lines-Segmentation-3-2/test/images/NO20240829-080111-000239F_MP4-0061_jpg.rf.4d616170a8b9a8c680c2ea73596ad616.jpg: 640x640 3 cars, 1 solid-yellow-line, 7.1ms\nimage 174/1006 /kaggle/working/Road-Lines-Segmentation-3-2/test/images/NO20240829-080111-000239F_MP4-0073_jpg.rf.67101d41def6b68c041e9b417373dfff.jpg: 640x640 4 cars, 1 solid-yellow-line, 7.6ms\nimage 175/1006 /kaggle/working/Road-Lines-Segmentation-3-2/test/images/NO20240829-080111-000239F_MP4-0076_jpg.rf.1eaae24fb95885d20f821f4758159b7a.jpg: 640x640 4 cars, 1 solid-yellow-line, 7.0ms\nimage 176/1006 /kaggle/working/Road-Lines-Segmentation-3-2/test/images/NO20240829-080111-000239F_MP4-0077_jpg.rf.850de7aa663c6ea7b5b16cd03a4b64d3.jpg: 640x640 4 cars, 1 solid-yellow-line, 7.2ms\nimage 177/1006 /kaggle/working/Road-Lines-Segmentation-3-2/test/images/NO20240829-080111-000239F_MP4-0079_jpg.rf.24c0b4ad7df0a9be1303ea889ee5ceb8.jpg: 640x640 4 cars, 1 solid-yellow-line, 7.1ms\nimage 178/1006 /kaggle/working/Road-Lines-Segmentation-3-2/test/images/NO20240829-080111-000239F_MP4-0080_jpg.rf.c965e086d89cd2551b3ecc39ac9fb270.jpg: 640x640 4 cars, 1 solid-yellow-line, 7.1ms\nimage 179/1006 /kaggle/working/Road-Lines-Segmentation-3-2/test/images/NO20240829-080211-000240F_MP4-0254_jpg.rf.a2c46fd643344f6ea3d2c83e7e980736.jpg: 640x640 5 cars, 1 solid-yellow-line, 7.3ms\nimage 180/1006 /kaggle/working/Road-Lines-Segmentation-3-2/test/images/NO20240829-080211-000240F_MP4-0257_jpg.rf.8023536997a05db8f560eebc0cff8e1a.jpg: 640x640 4 cars, 1 solid-yellow-line, 7.1ms\nimage 181/1006 /kaggle/working/Road-Lines-Segmentation-3-2/test/images/NO20240829-080211-000240F_MP4-0258_jpg.rf.4dd6b6bd9a020fea31b5b07bd7f8f3fc.jpg: 640x640 4 cars, 1 solid-yellow-line, 7.1ms\nimage 182/1006 /kaggle/working/Road-Lines-Segmentation-3-2/test/images/NO20240829-080211-000240F_MP4-0260_jpg.rf.daa4019cc24af36914ab4ed979527886.jpg: 640x640 4 cars, 1 solid-yellow-line, 7.1ms\nimage 183/1006 /kaggle/working/Road-Lines-Segmentation-3-2/test/images/NO20240829-080211-000240F_MP4-0261_jpg.rf.a81cd1a100b63182dafa979e7c7e5fa8.jpg: 640x640 4 cars, 1 solid-yellow-line, 9.6ms\nimage 184/1006 /kaggle/working/Road-Lines-Segmentation-3-2/test/images/NO20240829-080211-000240F_MP4-0262_jpg.rf.6459087559f004cbd19deaad7d69bce2.jpg: 640x640 4 cars, 1 solid-yellow-line, 7.1ms\nimage 185/1006 /kaggle/working/Road-Lines-Segmentation-3-2/test/images/NO20240829-080211-000240F_MP4-0265_jpg.rf.5ff31fc37e118f0b52ef980c762b6331.jpg: 640x640 4 cars, 1 solid-yellow-line, 6.9ms\nimage 186/1006 /kaggle/working/Road-Lines-Segmentation-3-2/test/images/NO20240829-080211-000240F_MP4-0267_jpg.rf.a8ea637ff5f207f188d61fe445858d46.jpg: 640x640 3 cars, 1 solid-yellow-line, 6.9ms\nimage 187/1006 /kaggle/working/Road-Lines-Segmentation-3-2/test/images/NO20240829-080211-000240F_MP4-0270_jpg.rf.1ecb707431f5cd9101cfb7d6dff90426.jpg: 640x640 3 cars, 1 solid-yellow-line, 6.9ms\nimage 188/1006 /kaggle/working/Road-Lines-Segmentation-3-2/test/images/NO20240829-080211-000240F_MP4-0271_jpg.rf.e10454c60f6dc069f1a30db36ac2c303.jpg: 640x640 3 cars, 1 solid-yellow-line, 7.1ms\nimage 189/1006 /kaggle/working/Road-Lines-Segmentation-3-2/test/images/NO20240829-080211-000240F_MP4-0275_jpg.rf.133cbe4ea74ffab77ac5399642029990.jpg: 640x640 6 cars, 1 solid-yellow-line, 6.9ms\nimage 190/1006 /kaggle/working/Road-Lines-Segmentation-3-2/test/images/NO20240829-080211-000240F_MP4-0277_jpg.rf.18ed02535b6a4abc85bb3a6fcfa80d62.jpg: 640x640 4 cars, 1 solid-yellow-line, 6.9ms\nimage 191/1006 /kaggle/working/Road-Lines-Segmentation-3-2/test/images/NO20240829-080211-000240F_MP4-0278_jpg.rf.c05420c1de996b47bd322219c2fd935d.jpg: 640x640 4 cars, 1 solid-yellow-line, 6.9ms\nimage 192/1006 /kaggle/working/Road-Lines-Segmentation-3-2/test/images/NO20240829-080211-000240F_MP4-0279_jpg.rf.174b4f63515943ecc80825cd5d2131ca.jpg: 640x640 4 cars, 1 solid-yellow-line, 7.3ms\nimage 193/1006 /kaggle/working/Road-Lines-Segmentation-3-2/test/images/NO20240829-080211-000240F_MP4-0280_jpg.rf.1ac921bf41eecfc118492361407ef512.jpg: 640x640 4 cars, 1 solid-yellow-line, 6.9ms\nimage 194/1006 /kaggle/working/Road-Lines-Segmentation-3-2/test/images/NO20240829-080211-000240F_MP4-0284_jpg.rf.b2cc3f51c3172b28fb08befb90661920.jpg: 640x640 3 cars, 1 solid-yellow-line, 6.8ms\nimage 195/1006 /kaggle/working/Road-Lines-Segmentation-3-2/test/images/NO20240829-080211-000240F_MP4-0285_jpg.rf.d2561c678cc811529e2ef502416d3fb7.jpg: 640x640 4 cars, 1 solid-yellow-line, 6.8ms\nimage 196/1006 /kaggle/working/Road-Lines-Segmentation-3-2/test/images/NO20240909-181040-000008F_MP4-0055_jpg.rf.fc86474d8e80f5bcc6ff1f5bdb291e81.jpg: 640x640 3 cars, 1 solid-yellow-line, 6.8ms\nimage 197/1006 /kaggle/working/Road-Lines-Segmentation-3-2/test/images/NO20240909-181040-000008F_MP4-0130_jpg.rf.2f8dcc9bad4cf49ac5581aa1ca198954.jpg: 640x640 3 cars, 1 solid-yellow-line, 6.9ms\nimage 198/1006 /kaggle/working/Road-Lines-Segmentation-3-2/test/images/NO20240909-181040-000008F_MP4-0138_jpg.rf.0162c91a4dfcf0f54e3a23f4937afebf.jpg: 640x640 3 cars, 1 solid-yellow-line, 7.0ms\nimage 199/1006 /kaggle/working/Road-Lines-Segmentation-3-2/test/images/NO20240909-181040-000008F_MP4-0139_jpg.rf.4fa5ba8db59ecd3f2d04d2d75ea74664.jpg: 640x640 2 cars, 1 solid-yellow-line, 6.8ms\nimage 200/1006 /kaggle/working/Road-Lines-Segmentation-3-2/test/images/NO20240909-181040-000008F_MP4-0146_jpg.rf.e045fe6eef809cd5268353133331968c.jpg: 640x640 3 cars, 1 solid-yellow-line, 6.7ms\nimage 201/1006 /kaggle/working/Road-Lines-Segmentation-3-2/test/images/NO20240909-181040-000008F_MP4-0151_jpg.rf.15b37a83d84e7a168f028339362b926c.jpg: 640x640 2 cars, 1 solid-yellow-line, 7.0ms\nimage 202/1006 /kaggle/working/Road-Lines-Segmentation-3-2/test/images/NO20240909-181040-000008F_MP4-0167_jpg.rf.d9d430bbf28a22996cc913653b53913a.jpg: 640x640 3 cars, 1 solid-yellow-line, 7.0ms\nimage 203/1006 /kaggle/working/Road-Lines-Segmentation-3-2/test/images/NO20240909-181040-000008F_MP4-0169_jpg.rf.3183f1c778457160b2c908189d3dc467.jpg: 640x640 3 cars, 1 solid-yellow-line, 7.0ms\nimage 204/1006 /kaggle/working/Road-Lines-Segmentation-3-2/test/images/NO20240909-181040-000008F_MP4-0195_jpg.rf.c1e28c5e04edc6f08c8a0e386d0fe798.jpg: 640x640 2 cars, 1 solid-yellow-line, 7.1ms\nimage 205/1006 /kaggle/working/Road-Lines-Segmentation-3-2/test/images/NO20240909-181040-000008F_MP4-0206_jpg.rf.4c14037b203daf366dd79174826c004e.jpg: 640x640 2 cars, 1 solid-yellow-line, 7.2ms\nimage 206/1006 /kaggle/working/Road-Lines-Segmentation-3-2/test/images/NO20240909-181040-000008F_MP4-0213_jpg.rf.52a1035bb0e897434a897d90ca114927.jpg: 640x640 2 cars, 1 solid-yellow-line, 7.0ms\nimage 207/1006 /kaggle/working/Road-Lines-Segmentation-3-2/test/images/NO20240909-181040-000008F_MP4-0217_jpg.rf.dec41aed14a4d86251aa73f2996d466a.jpg: 640x640 2 cars, 1 solid-yellow-line, 7.1ms\nimage 208/1006 /kaggle/working/Road-Lines-Segmentation-3-2/test/images/NO20240909-181040-000008F_MP4-0248_jpg.rf.40eb8ef82452148db8c26befd2bca9db.jpg: 640x640 2 cars, 1 solid-yellow-line, 7.2ms\nimage 209/1006 /kaggle/working/Road-Lines-Segmentation-3-2/test/images/NO20240909-181040-000008F_MP4-0265_jpg.rf.c965477ebb17b09fb65ab93ebbda05fa.jpg: 640x640 2 cars, 1 solid-yellow-line, 7.3ms\nimage 210/1006 /kaggle/working/Road-Lines-Segmentation-3-2/test/images/NO20240909-181040-000008F_MP4-0275_jpg.rf.9dcc7509fe0e7304c36bf483bd0fcdca.jpg: 640x640 2 cars, 1 solid-yellow-line, 7.7ms\nimage 211/1006 /kaggle/working/Road-Lines-Segmentation-3-2/test/images/NO20240909-181040-000008F_MP4-0299_jpg.rf.afac92a7e6159b3653520658f865847e.jpg: 640x640 3 cars, 1 solid-yellow-line, 7.1ms\nimage 212/1006 /kaggle/working/Road-Lines-Segmentation-3-2/test/images/NO20240909-181140-000009F_MP4-0055_jpg.rf.7b98e3b4ea63a8ef7e13d65e32f4f5cf.jpg: 640x640 1 car, 1 solid-yellow-line, 7.2ms\nimage 213/1006 /kaggle/working/Road-Lines-Segmentation-3-2/test/images/NO20240909-181140-000009F_MP4-0118_jpg.rf.f4d9dace8c75aa2ad26e30b59b3e2298.jpg: 640x640 2 cars, 1 solid-yellow-line, 7.3ms\nimage 214/1006 /kaggle/working/Road-Lines-Segmentation-3-2/test/images/NO20240909-181140-000009F_MP4-0136_jpg.rf.e79f44d2fd1c942d66715acdb0f932dd.jpg: 640x640 3 cars, 1 solid-yellow-line, 7.2ms\nimage 215/1006 /kaggle/working/Road-Lines-Segmentation-3-2/test/images/NO20240909-181140-000009F_MP4-0154_jpg.rf.a72cf83c7c8d534fbc4dfb29c4f18eaa.jpg: 640x640 3 cars, 1 solid-yellow-line, 7.2ms\nimage 216/1006 /kaggle/working/Road-Lines-Segmentation-3-2/test/images/NO20240909-181140-000009F_MP4-0156_jpg.rf.12fc2d77e82e75eb63caae7dff0f6400.jpg: 640x640 4 cars, 1 solid-yellow-line, 7.0ms\nimage 217/1006 /kaggle/working/Road-Lines-Segmentation-3-2/test/images/NO20240917-143737-000242F_MP4-0010_jpg.rf.7ee7a1dfc58fc97a0cad524d61b68f4f.jpg: 640x640 1 solid-yellow-line, 7.1ms\nimage 218/1006 /kaggle/working/Road-Lines-Segmentation-3-2/test/images/NO20240917-143737-000242F_MP4-0028_jpg.rf.61ba2efa6a6a9a56e7ad8f92862b0d26.jpg: 640x640 1 solid-yellow-line, 7.2ms\nimage 219/1006 /kaggle/working/Road-Lines-Segmentation-3-2/test/images/NO20240917-143737-000242F_MP4-0041_jpg.rf.edc958c7d08e467ffd129e6a40068a8a.jpg: 640x640 2 cars, 7.0ms\nimage 220/1006 /kaggle/working/Road-Lines-Segmentation-3-2/test/images/NO20240917-143737-000242F_MP4-0058_jpg.rf.0d49bd7151b3684537cfe6a153c4222e.jpg: 640x640 2 cars, 1 solid-yellow-line, 7.1ms\nimage 221/1006 /kaggle/working/Road-Lines-Segmentation-3-2/test/images/NO20240917-143837-000243F_MP4-0010_jpg.rf.82187fbdfd2fc518307fb17de77c4aee.jpg: 640x640 1 solid-yellow-line, 7.1ms\nimage 222/1006 /kaggle/working/Road-Lines-Segmentation-3-2/test/images/NO20240917-143837-000243F_MP4-0017_jpg.rf.926f38d8fcd2aaf609b5e35dc0634a30.jpg: 640x640 2 cars, 1 solid-yellow-line, 7.3ms\nimage 223/1006 /kaggle/working/Road-Lines-Segmentation-3-2/test/images/NO20240917-143837-000243F_MP4-0020_jpg.rf.1abc8f76f14135157858136593bc4700.jpg: 640x640 2 cars, 1 solid-yellow-line, 7.0ms\nimage 224/1006 /kaggle/working/Road-Lines-Segmentation-3-2/test/images/NO20240917-143837-000243F_MP4-0037_jpg.rf.2129c40f0a3a60ca9be3eab03d7ed16d.jpg: 640x640 2 cars, 1 solid-yellow-line, 7.1ms\nimage 225/1006 /kaggle/working/Road-Lines-Segmentation-3-2/test/images/NO20240917-143837-000243F_MP4-0074_jpg.rf.2cee02161b9a470aecb9b2097712c6ec.jpg: 640x640 1 car, 7.0ms\nimage 226/1006 /kaggle/working/Road-Lines-Segmentation-3-2/test/images/NO20240917-143837-000243F_MP4-0075_jpg.rf.ec762725de057ed15f6bcc1bd4398d70.jpg: 640x640 1 car, 1 solid-yellow-line, 7.1ms\nimage 227/1006 /kaggle/working/Road-Lines-Segmentation-3-2/test/images/NO20240917-143837-000243F_MP4-0104_jpg.rf.97a7734dc762c263887b91d2d0932e6a.jpg: 640x640 3 cars, 7.4ms\nimage 228/1006 /kaggle/working/Road-Lines-Segmentation-3-2/test/images/NO20240917-143837-000243F_MP4-0109_jpg.rf.83f5d0eab57ffa7050a8540c1a32a999.jpg: 640x640 3 cars, 1 solid-yellow-line, 7.0ms\nimage 229/1006 /kaggle/working/Road-Lines-Segmentation-3-2/test/images/NO20240917-143837-000243F_MP4-0111_jpg.rf.5dd00c736001a27b9e72a56625fb0327.jpg: 640x640 2 cars, 1 solid-yellow-line, 7.1ms\nimage 230/1006 /kaggle/working/Road-Lines-Segmentation-3-2/test/images/NO20240917-144137-000246F_MP4-0000_jpg.rf.77beb1c5c94971a523fd99e1c18853ae.jpg: 640x640 3 cars, 1 solid-yellow-line, 7.1ms\nimage 231/1006 /kaggle/working/Road-Lines-Segmentation-3-2/test/images/NO20240917-144137-000246F_MP4-0014_jpg.rf.bda9aaf301942a584428e78eee6f289c.jpg: 640x640 5 cars, 1 solid-yellow-line, 8.7ms\nimage 232/1006 /kaggle/working/Road-Lines-Segmentation-3-2/test/images/NO20240917-144137-000246F_MP4-0039_jpg.rf.686776237d306057c21fba0c456f26fc.jpg: 640x640 3 cars, 1 solid-yellow-line, 7.0ms\nimage 233/1006 /kaggle/working/Road-Lines-Segmentation-3-2/test/images/NO20240917-144137-000246F_MP4-0047_jpg.rf.638778954a1802a16ad473454806bdc5.jpg: 640x640 5 cars, 1 solid-yellow-line, 7.1ms\nimage 234/1006 /kaggle/working/Road-Lines-Segmentation-3-2/test/images/NO20240917-144137-000246F_MP4-0061_jpg.rf.b4e8373ae1f4a522ed98866f2c478b95.jpg: 640x640 3 cars, 1 solid-yellow-line, 7.0ms\nimage 235/1006 /kaggle/working/Road-Lines-Segmentation-3-2/test/images/NO20240917-144137-000246F_MP4-0068_jpg.rf.051056caa8902b4e0e0abd6153ff6425.jpg: 640x640 3 cars, 1 solid-yellow-line, 7.0ms\nimage 236/1006 /kaggle/working/Road-Lines-Segmentation-3-2/test/images/NO20240917-144137-000246F_MP4-0069_jpg.rf.84b754e293c94cc1fd068c8af35865c5.jpg: 640x640 4 cars, 1 solid-yellow-line, 7.0ms\nimage 237/1006 /kaggle/working/Road-Lines-Segmentation-3-2/test/images/NO20240917-144137-000246F_MP4-0077_jpg.rf.48d4423d1f84c49fdcb006bff8c028fe.jpg: 640x640 5 cars, 1 solid-yellow-line, 7.0ms\nimage 238/1006 /kaggle/working/Road-Lines-Segmentation-3-2/test/images/NO20240917-144137-000246F_MP4-0085_jpg.rf.799d52fbb3d854298e7dd5931d1d20c6.jpg: 640x640 3 cars, 1 solid-yellow-line, 7.1ms\nimage 239/1006 /kaggle/working/Road-Lines-Segmentation-3-2/test/images/NO20240917-144137-000246F_MP4-0101_jpg.rf.49de0eb39d207854fea9c19107d245f8.jpg: 640x640 4 cars, 1 solid-yellow-line, 7.1ms\nimage 240/1006 /kaggle/working/Road-Lines-Segmentation-3-2/test/images/cars-NO20240910-060525-000077F_MP4-0017_jpg.rf.5b2208dee9f27ec36893553ccf396fe5.jpg: 640x640 3 cars, 1 solid-yellow-line, 7.1ms\nimage 241/1006 /kaggle/working/Road-Lines-Segmentation-3-2/test/images/cars-NO20240910-060525-000077F_MP4-0023_jpg.rf.fd8e5fbdd53120c2804e42c01bae9df3.jpg: 640x640 3 cars, 1 solid-yellow-line, 7.0ms\nimage 242/1006 /kaggle/working/Road-Lines-Segmentation-3-2/test/images/cars-NO20240910-060525-000077F_MP4-0064_jpg.rf.9f746109b0886355a070630b05210fee.jpg: 640x640 3 cars, 7.1ms\nimage 243/1006 /kaggle/working/Road-Lines-Segmentation-3-2/test/images/cars-NO20240910-060525-000077F_MP4-0090_jpg.rf.ce884c66870276f89f91e297796760df.jpg: 640x640 2 cars, 1 solid-yellow-line, 7.2ms\nimage 244/1006 /kaggle/working/Road-Lines-Segmentation-3-2/test/images/cars-NO20240910-060525-000077F_MP4-0105_jpg.rf.7673c53341726128b1362d00f091353d.jpg: 640x640 2 cars, 1 solid-yellow-line, 7.1ms\nimage 245/1006 /kaggle/working/Road-Lines-Segmentation-3-2/test/images/cars-NO20240910-060525-000077F_MP4-0126_jpg.rf.b836c3b2b4f02258d1edac4042c5bb46.jpg: 640x640 1 car, 1 solid-yellow-line, 7.2ms\nimage 246/1006 /kaggle/working/Road-Lines-Segmentation-3-2/test/images/cars-NO20240910-060525-000077F_MP4-0183_jpg.rf.f06a6c1c0acdb69c05edb5ccad1f6ced.jpg: 640x640 2 cars, 1 solid-yellow-line, 7.1ms\nimage 247/1006 /kaggle/working/Road-Lines-Segmentation-3-2/test/images/cars-NO20240914-112548-000207F_MP4-0005_jpg.rf.2d679fb42cf863c3bb58f53171cd1429.jpg: 640x640 2 cars, 1 license_plate, 1 solid-yellow-line, 7.0ms\nimage 248/1006 /kaggle/working/Road-Lines-Segmentation-3-2/test/images/cars-NO20240914-112548-000207F_MP4-0025_jpg.rf.834983768b1f79c274a4bb61bfeb02e0.jpg: 640x640 4 cars, 1 license_plate, 1 solid-yellow-line, 7.1ms\nimage 249/1006 /kaggle/working/Road-Lines-Segmentation-3-2/test/images/cars-NO20240914-112548-000207F_MP4-0034_jpg.rf.60c4f664bd09f092b8c408165910f3ec.jpg: 640x640 4 cars, 7.3ms\nimage 250/1006 /kaggle/working/Road-Lines-Segmentation-3-2/test/images/cars-NO20240914-112948-000211F_MP4-0014_jpg.rf.d1f18922ad0a2daffcd82c0fc6fa5ca5.jpg: 640x640 1 car, 7.1ms\nimage 251/1006 /kaggle/working/Road-Lines-Segmentation-3-2/test/images/cars-NO20240914-112948-000211F_MP4-0015_jpg.rf.3e8521fa5d20afd02968356605cff461.jpg: 640x640 1 car, 7.0ms\nimage 252/1006 /kaggle/working/Road-Lines-Segmentation-3-2/test/images/cars-NO20240914-112948-000211F_MP4-0019_jpg.rf.9325687237ac71647b4070aed7ce9727.jpg: 640x640 2 cars, 6.8ms\nimage 253/1006 /kaggle/working/Road-Lines-Segmentation-3-2/test/images/cars-NO20240914-112948-000211F_MP4-0029_jpg.rf.a5ab6390ddafdf85e22f28c9b6ed46de.jpg: 640x640 2 cars, 7.4ms\nimage 254/1006 /kaggle/working/Road-Lines-Segmentation-3-2/test/images/cars-NO20240914-112948-000211F_MP4-0032_jpg.rf.1aaf2b2a7c88229bc36fe60d9505f051.jpg: 640x640 2 cars, 7.0ms\nimage 255/1006 /kaggle/working/Road-Lines-Segmentation-3-2/test/images/cars-NO20240914-112948-000211F_MP4-0036_jpg.rf.9c9e190704cdba7f3c2e9998bd69a5b4.jpg: 640x640 2 cars, 7.1ms\nimage 256/1006 /kaggle/working/Road-Lines-Segmentation-3-2/test/images/cars-NO20240914-112948-000211F_MP4-0082_jpg.rf.65eae36bbf852b2b5538d42092ed0507.jpg: 640x640 2 cars, 7.3ms\nimage 257/1006 /kaggle/working/Road-Lines-Segmentation-3-2/test/images/cars-NO20240914-112948-000211F_MP4-0093_jpg.rf.d1a0bf975ecbae8c2e4c424c3d6e786e.jpg: 640x640 2 cars, 7.2ms\nimage 258/1006 /kaggle/working/Road-Lines-Segmentation-3-2/test/images/cars-NO20240914-114048-000222F_MP4-0002_jpg.rf.276f840f18b844b2ec10035e4b652bed.jpg: 640x640 3 cars, 1 license_plate, 1 solid-yellow-line, 7.2ms\nimage 259/1006 /kaggle/working/Road-Lines-Segmentation-3-2/test/images/cars-NO20240914-114048-000222F_MP4-0005_jpg.rf.4ab5c0ac3e12fa7a2b64249f0aabe736.jpg: 640x640 3 cars, 1 license_plate, 1 solid-yellow-line, 6.9ms\nimage 260/1006 /kaggle/working/Road-Lines-Segmentation-3-2/test/images/cars-NO20240914-114048-000222F_MP4-0027_jpg.rf.3248849730f0f649ac8d299a61755229.jpg: 640x640 3 cars, 1 license_plate, 1 solid-yellow-line, 7.0ms\nimage 261/1006 /kaggle/working/Road-Lines-Segmentation-3-2/test/images/cars-NO20240914-114048-000222F_MP4-0046_jpg.rf.7eb61dc72ea274faaa8b538c30bcc8d4.jpg: 640x640 3 cars, 1 solid-yellow-line, 7.1ms\nimage 262/1006 /kaggle/working/Road-Lines-Segmentation-3-2/test/images/cars-NO20240914-114048-000222F_MP4-0065_jpg.rf.2792cc7de0ce641991ee6f74939d9d30.jpg: 640x640 1 car, 1 license_plate, 1 solid-yellow-line, 6.8ms\nimage 263/1006 /kaggle/working/Road-Lines-Segmentation-3-2/test/images/cars-NO20240914-114048-000222F_MP4-0068_jpg.rf.8f3eb4e3b884e233ca2b54334b66f446.jpg: 640x640 2 cars, 1 license_plate, 1 solid-yellow-line, 7.0ms\nimage 264/1006 /kaggle/working/Road-Lines-Segmentation-3-2/test/images/cars-NO20240914-114048-000222F_MP4-0071_jpg.rf.02606cf93bd9061b7116036fdfcc673c.jpg: 640x640 2 cars, 1 license_plate, 1 solid-yellow-line, 7.3ms\nimage 265/1006 /kaggle/working/Road-Lines-Segmentation-3-2/test/images/cars-NO20240914-114048-000222F_MP4-0074_jpg.rf.01f5251f7f509a8b9464ed71b0cba8d9.jpg: 640x640 1 car, 2 solid-yellow-lines, 6.9ms\nimage 266/1006 /kaggle/working/Road-Lines-Segmentation-3-2/test/images/cars-NO20240914-114048-000222F_MP4-0077_jpg.rf.ac906c53d7b4a0f075f6ee9ae943c4b0.jpg: 640x640 2 cars, 1 license_plate, 2 solid-yellow-lines, 7.3ms\nimage 267/1006 /kaggle/working/Road-Lines-Segmentation-3-2/test/images/cars-NO20240914-114048-000222F_MP4-0092_jpg.rf.93d5cfab86c56f76a14b5f2ff0dfd383.jpg: 640x640 3 cars, 1 solid-yellow-line, 7.0ms\nimage 268/1006 /kaggle/working/Road-Lines-Segmentation-3-2/test/images/cars-NO20240914-114048-000222F_MP4-0096_jpg.rf.cb8a128dbcb71e2c51380e19ed80cd19.jpg: 640x640 1 car, 1 license_plate, 3 solid-yellow-lines, 6.9ms\nimage 269/1006 /kaggle/working/Road-Lines-Segmentation-3-2/test/images/cars-NO20240914-114048-000222F_MP4-0182_jpg.rf.e0515cdc17223b49f1046f56f57aabef.jpg: 640x640 3 cars, 6.8ms\nimage 270/1006 /kaggle/working/Road-Lines-Segmentation-3-2/test/images/cars-NO20240914-114048-000222F_MP4-0185_jpg.rf.ecf2fe8921a623e82b75fd90a29d2149.jpg: 640x640 3 cars, 1 solid-yellow-line, 6.8ms\nimage 271/1006 /kaggle/working/Road-Lines-Segmentation-3-2/test/images/cars-NO20240914-114048-000222F_MP4-0190_jpg.rf.3255834304dc29d177a10518ae5b6113.jpg: 640x640 2 cars, 1 license_plate, 1 solid-yellow-line, 7.3ms\nimage 272/1006 /kaggle/working/Road-Lines-Segmentation-3-2/test/images/cars-NO20240914-114048-000222F_MP4-0198_jpg.rf.4e4c9510b9c298db4cbbe7ea521763ed.jpg: 640x640 2 cars, 1 license_plate, 1 solid-yellow-line, 6.8ms\nimage 273/1006 /kaggle/working/Road-Lines-Segmentation-3-2/test/images/cars-NO20240914-114048-000222F_MP4-0208_jpg.rf.79454895d5587f291c4e97bd7af2e87f.jpg: 640x640 1 car, 1 solid-yellow-line, 6.9ms\nimage 274/1006 /kaggle/working/Road-Lines-Segmentation-3-2/test/images/cars-NO20240914-114048-000222F_MP4-0210_jpg.rf.270fda7d0eb1a3a61b429b3fcd0c4724.jpg: 640x640 1 car, 1 solid-yellow-line, 7.1ms\nimage 275/1006 /kaggle/working/Road-Lines-Segmentation-3-2/test/images/cars-NO20240914-114048-000222F_MP4-0213_jpg.rf.f145d179294d0056f2ebe0a5d9985ab5.jpg: 640x640 1 car, 1 solid-yellow-line, 7.3ms\nimage 276/1006 /kaggle/working/Road-Lines-Segmentation-3-2/test/images/cars-NO20240914-114048-000222F_MP4-0226_jpg.rf.2c62934b37559c68695d745019f70b5e.jpg: 640x640 1 car, 1 solid-yellow-line, 7.3ms\nimage 277/1006 /kaggle/working/Road-Lines-Segmentation-3-2/test/images/cars-NO20240914-114048-000222F_MP4-0232_jpg.rf.8a80c873daa4015da34c08b6b4d2c386.jpg: 640x640 2 cars, 1 solid-yellow-line, 7.0ms\nimage 278/1006 /kaggle/working/Road-Lines-Segmentation-3-2/test/images/cars-NO20240914-114048-000222F_MP4-0254_jpg.rf.5da75f93d601e0fb939d29c2c8b873bd.jpg: 640x640 2 cars, 1 solid-yellow-line, 6.9ms\nimage 279/1006 /kaggle/working/Road-Lines-Segmentation-3-2/test/images/cars-NO20240914-114048-000222F_MP4-0264_jpg.rf.98a731c13eb96c533a3be5e71f5bc254.jpg: 640x640 3 cars, 1 solid-yellow-line, 6.8ms\nimage 280/1006 /kaggle/working/Road-Lines-Segmentation-3-2/test/images/cars-NO20240914-114248-000224F_MP4-0000_jpg.rf.9e3b64555f102360b8254933a561dcaa.jpg: 640x640 1 car, 1 solid-yellow-line, 6.9ms\nimage 281/1006 /kaggle/working/Road-Lines-Segmentation-3-2/test/images/cars-NO20240914-114248-000224F_MP4-0018_jpg.rf.8acd6aee26f99dc21686cd998dbd5621.jpg: 640x640 1 car, 1 license_plate, 6.8ms\nimage 282/1006 /kaggle/working/Road-Lines-Segmentation-3-2/test/images/cars-NO20240914-114248-000224F_MP4-0034_jpg.rf.f3b18f4bd02f234b731e77c1f4074560.jpg: 640x640 1 car, 1 license_plate, 1 solid-yellow-line, 6.8ms\nimage 283/1006 /kaggle/working/Road-Lines-Segmentation-3-2/test/images/cars-NO20240914-114248-000224F_MP4-0056_jpg.rf.2d3521c49b139f2eb70a44d9a3ad3160.jpg: 640x640 1 car, 1 license_plate, 1 solid-yellow-line, 6.9ms\nimage 284/1006 /kaggle/working/Road-Lines-Segmentation-3-2/test/images/cars-NO20240914-114248-000224F_MP4-0065_jpg.rf.db91f3183e50afc6aa46be9f323c991c.jpg: 640x640 1 car, 1 license_plate, 1 solid-yellow-line, 6.9ms\nimage 285/1006 /kaggle/working/Road-Lines-Segmentation-3-2/test/images/cars-NO20240914-114248-000224F_MP4-0186_jpg.rf.ab4c6b761145e51b924da1c2b042d4e9.jpg: 640x640 2 cars, 1 solid-yellow-line, 6.8ms\nimage 286/1006 /kaggle/working/Road-Lines-Segmentation-3-2/test/images/cars-NO20240914-114248-000224F_MP4-0190_jpg.rf.9ebab219186e6d0c44aa1a4f7c70ace8.jpg: 640x640 3 cars, 1 license_plate, 1 solid-yellow-line, 7.2ms\nimage 287/1006 /kaggle/working/Road-Lines-Segmentation-3-2/test/images/chery-cross_MP4-0030_jpg.rf.051a6943800e8f4c6f6d5a1922e09fc0.jpg: 640x640 2 cars, 1 solid-yellow-line, 6.9ms\nimage 288/1006 /kaggle/working/Road-Lines-Segmentation-3-2/test/images/chery-cross_MP4-0032_jpg.rf.b90fce94d544da3cc0ad3dd4cd8bf4bb.jpg: 640x640 1 car, 1 solid-yellow-line, 7.0ms\nimage 289/1006 /kaggle/working/Road-Lines-Segmentation-3-2/test/images/chery-cross_MP4-0033_jpg.rf.f25bed06c2ee23af31d79975372cdb51.jpg: 640x640 3 cars, 1 solid-yellow-line, 6.8ms\nimage 290/1006 /kaggle/working/Road-Lines-Segmentation-3-2/test/images/chery-cross_MP4-0034_jpg.rf.76aac7d37b49103fa369bec2b3fe5d32.jpg: 640x640 3 cars, 1 solid-yellow-line, 7.1ms\nimage 291/1006 /kaggle/working/Road-Lines-Segmentation-3-2/test/images/chery-cross_MP4-0047_jpg.rf.2e30305a47cf9fb1739b7a6d4ff1ec65.jpg: 640x640 2 cars, 1 solid-yellow-line, 7.2ms\nimage 292/1006 /kaggle/working/Road-Lines-Segmentation-3-2/test/images/chery-cross_MP4-0048_jpg.rf.fb409cffa5bf9c0d5314a6d1ee19caee.jpg: 640x640 4 cars, 1 license_plate, 1 solid-yellow-line, 7.5ms\nimage 293/1006 /kaggle/working/Road-Lines-Segmentation-3-2/test/images/front-left-NO20240903-145041-000844F_MP4-0009_jpg.rf.593ad67678357edcd4e8844bbbaa0d7e.jpg: 640x640 2 cars, 1 solid-yellow-line, 7.4ms\nimage 294/1006 /kaggle/working/Road-Lines-Segmentation-3-2/test/images/front-left-NO20240903-145041-000844F_MP4-0011_jpg.rf.f1d2e36a3ca0c4e8ec920255ee0a5e49.jpg: 640x640 2 cars, 1 solid-yellow-line, 7.5ms\nimage 295/1006 /kaggle/working/Road-Lines-Segmentation-3-2/test/images/front-left-NO20240903-145041-000844F_MP4-0028_jpg.rf.3727c0e8452d4bb1884f7fca6ba6ff05.jpg: 640x640 3 cars, 1 solid-yellow-line, 7.6ms\nimage 296/1006 /kaggle/working/Road-Lines-Segmentation-3-2/test/images/front-left-NO20240903-145041-000844F_MP4-0037_jpg.rf.882c8e4e947c4b8f27c8ff92f3204a1b.jpg: 640x640 2 cars, 1 solid-yellow-line, 7.5ms\nimage 297/1006 /kaggle/working/Road-Lines-Segmentation-3-2/test/images/front-left-NO20240903-145041-000844F_MP4-0039_jpg.rf.7cb497f12424cf87419f7684ffa38122.jpg: 640x640 2 cars, 1 solid-yellow-line, 7.7ms\nimage 298/1006 /kaggle/working/Road-Lines-Segmentation-3-2/test/images/front-left-NO20240903-145041-000844F_MP4-0081_jpg.rf.dd076ce27485cc570d5838958fd3c010.jpg: 640x640 2 cars, 1 solid-yellow-line, 7.9ms\nimage 299/1006 /kaggle/working/Road-Lines-Segmentation-3-2/test/images/front-left-NO20240903-145041-000844F_MP4-0084_jpg.rf.577740b8c526ac95bf2230ec6d06da71.jpg: 640x640 2 cars, 1 solid-yellow-line, 8.0ms\nimage 300/1006 /kaggle/working/Road-Lines-Segmentation-3-2/test/images/front-left-NO20240903-145041-000844F_MP4-0087_jpg.rf.89739010bb83a41119e4489b0224430d.jpg: 640x640 2 cars, 2 solid-yellow-lines, 7.7ms\nimage 301/1006 /kaggle/working/Road-Lines-Segmentation-3-2/test/images/front-left-NO20240903-145041-000844F_MP4-0097_jpg.rf.a1101fc06f6072a852e4e5a92dd632a2.jpg: 640x640 2 cars, 1 solid-yellow-line, 7.5ms\nimage 302/1006 /kaggle/working/Road-Lines-Segmentation-3-2/test/images/front-left-NO20240903-145041-000844F_MP4-0124_jpg.rf.b3ba31abc5715da380575d899685fb2f.jpg: 640x640 2 cars, 1 solid-yellow-line, 8.0ms\nimage 303/1006 /kaggle/working/Road-Lines-Segmentation-3-2/test/images/front-left-NO20240903-145041-000844F_MP4-0173_jpg.rf.bda776c29a65282ae7b15afda43287b2.jpg: 640x640 1 solid-yellow-line, 7.6ms\nimage 304/1006 /kaggle/working/Road-Lines-Segmentation-3-2/test/images/front-left-NO20240903-145041-000844F_MP4-0189_jpg.rf.8187aa0e88d25eea01e02d91597ae06e.jpg: 640x640 1 car, 1 solid-yellow-line, 7.6ms\nimage 305/1006 /kaggle/working/Road-Lines-Segmentation-3-2/test/images/front-left-NO20240903-145041-000844F_MP4-0207_jpg.rf.0aef1b142062f7d8f9f4da69900b77a1.jpg: 640x640 1 car, 1 solid-yellow-line, 7.8ms\nimage 306/1006 /kaggle/working/Road-Lines-Segmentation-3-2/test/images/front-left-NO20240903-145041-000844F_MP4-0227_jpg.rf.eeb6f80d23743a29220dfba299a1732c.jpg: 640x640 1 car, 1 solid-yellow-line, 7.6ms\nimage 307/1006 /kaggle/working/Road-Lines-Segmentation-3-2/test/images/front-left-NO20240903-145041-000844F_MP4-0238_jpg.rf.e500036b4d08f4280c0768e02e88a6d3.jpg: 640x640 1 solid-yellow-line, 7.4ms\nimage 308/1006 /kaggle/working/Road-Lines-Segmentation-3-2/test/images/front-left-NO20240903-145041-000844F_MP4-0276_jpg.rf.3109bd4943cef37ee7ed9f0c3fe4cbaa.jpg: 640x640 1 car, 1 solid-yellow-line, 7.1ms\nimage 309/1006 /kaggle/working/Road-Lines-Segmentation-3-2/test/images/front-left-NO20240903-145041-000844F_MP4-0284_jpg.rf.f884298a00e6d727926dd6ac8bbb423f.jpg: 640x640 1 car, 1 solid-yellow-line, 7.1ms\nimage 310/1006 /kaggle/working/Road-Lines-Segmentation-3-2/test/images/front-left-NO20240903-145141-000845F_MP4-0012_jpg.rf.2e37350f7e81ff01ebca4ad84257cf2c.jpg: 640x640 1 car, 1 solid-yellow-line, 7.2ms\nimage 311/1006 /kaggle/working/Road-Lines-Segmentation-3-2/test/images/front-left-NO20240903-145141-000845F_MP4-0018_jpg.rf.14f03a9bdc7b8d6b72515fa25c8723e3.jpg: 640x640 1 car, 1 solid-yellow-line, 6.9ms\nimage 312/1006 /kaggle/working/Road-Lines-Segmentation-3-2/test/images/front-left-NO20240903-145141-000845F_MP4-0021_jpg.rf.64584acfb73c95c7521ac95b1fc5d1dc.jpg: 640x640 2 solid-yellow-lines, 7.0ms\nimage 313/1006 /kaggle/working/Road-Lines-Segmentation-3-2/test/images/front-left-NO20240903-145141-000845F_MP4-0061_jpg.rf.16788adb7078d31b04e5a0303ec2fdbd.jpg: 640x640 2 solid-yellow-lines, 7.0ms\nimage 314/1006 /kaggle/working/Road-Lines-Segmentation-3-2/test/images/front-left-NO20240903-145141-000845F_MP4-0076_jpg.rf.5860623a58a396175f922a3b71d2d4ba.jpg: 640x640 1 car, 2 solid-yellow-lines, 7.0ms\nimage 315/1006 /kaggle/working/Road-Lines-Segmentation-3-2/test/images/front-left-NO20240903-145141-000845F_MP4-0087_jpg.rf.cba004726d6a0a18cf2c5da0c1047de1.jpg: 640x640 1 car, 1 solid-yellow-line, 7.1ms\nimage 316/1006 /kaggle/working/Road-Lines-Segmentation-3-2/test/images/front-left-NO20240903-145141-000845F_MP4-0106_jpg.rf.e7e9b17ea98133c1cffaf430587fe02d.jpg: 640x640 1 car, 1 solid-yellow-line, 7.0ms\nimage 317/1006 /kaggle/working/Road-Lines-Segmentation-3-2/test/images/front-left-NO20240903-145141-000845F_MP4-0118_jpg.rf.5db08d3baf84713c0ae36aef43ebc63e.jpg: 640x640 1 car, 1 solid-yellow-line, 6.9ms\nimage 318/1006 /kaggle/working/Road-Lines-Segmentation-3-2/test/images/front-left-NO20240903-145141-000845F_MP4-0134_jpg.rf.ff8619ef0c7f84610b3de5436f89d35e.jpg: 640x640 1 car, 1 solid-yellow-line, 7.5ms\nimage 319/1006 /kaggle/working/Road-Lines-Segmentation-3-2/test/images/front-left-NO20240903-145141-000845F_MP4-0135_jpg.rf.60edb103b8ef3a2e40a85e3d76ca4d94.jpg: 640x640 1 car, 1 solid-yellow-line, 6.9ms\nimage 320/1006 /kaggle/working/Road-Lines-Segmentation-3-2/test/images/front-left-NO20240903-145141-000845F_MP4-0137_jpg.rf.6b6f95091fa0854d4c7eb07c677af0e7.jpg: 640x640 1 car, 1 solid-yellow-line, 7.1ms\nimage 321/1006 /kaggle/working/Road-Lines-Segmentation-3-2/test/images/front-left-NO20240903-145141-000845F_MP4-0150_jpg.rf.286bbad0b30abd3479411b8951690080.jpg: 640x640 2 cars, 1 solid-yellow-line, 7.0ms\nimage 322/1006 /kaggle/working/Road-Lines-Segmentation-3-2/test/images/front-left-NO20240903-145141-000845F_MP4-0153_jpg.rf.64c97ee9fe30df8c3d95727e9d7dacbf.jpg: 640x640 2 cars, 1 solid-yellow-line, 7.1ms\nimage 323/1006 /kaggle/working/Road-Lines-Segmentation-3-2/test/images/front-left-NO20240903-145141-000845F_MP4-0154_jpg.rf.3092027a2f83a0405a13893770adb790.jpg: 640x640 2 cars, 1 solid-yellow-line, 6.9ms\nimage 324/1006 /kaggle/working/Road-Lines-Segmentation-3-2/test/images/front-left-NO20240903-145141-000845F_MP4-0155_jpg.rf.ffb268ef12954b2b16792f82a3ba3a79.jpg: 640x640 2 cars, 1 solid-yellow-line, 6.9ms\nimage 325/1006 /kaggle/working/Road-Lines-Segmentation-3-2/test/images/front-left-NO20240903-145141-000845F_MP4-0156_jpg.rf.046e3f460097dcef0cc4f90fb04b967c.jpg: 640x640 2 cars, 1 solid-yellow-line, 6.9ms\nimage 326/1006 /kaggle/working/Road-Lines-Segmentation-3-2/test/images/front-left-NO20240903-145141-000845F_MP4-0158_jpg.rf.22b02edba0edc28d8ae703fb808b0ec1.jpg: 640x640 2 cars, 1 solid-yellow-line, 7.0ms\nimage 327/1006 /kaggle/working/Road-Lines-Segmentation-3-2/test/images/front-left-NO20240903-145141-000845F_MP4-0159_jpg.rf.9d8e817bc1bba5d1e10f45019a8d1c94.jpg: 640x640 2 cars, 1 solid-yellow-line, 7.3ms\nimage 328/1006 /kaggle/working/Road-Lines-Segmentation-3-2/test/images/front-left-NO20240903-145141-000845F_MP4-0161_jpg.rf.ed6351a2677d4ae161f4eb3b9d462613.jpg: 640x640 1 car, 1 solid-yellow-line, 7.0ms\nimage 329/1006 /kaggle/working/Road-Lines-Segmentation-3-2/test/images/front-left-NO20240903-145141-000845F_MP4-0163_jpg.rf.f27f9c8b3b7a24d09e2a3ac7e462044e.jpg: 640x640 1 car, 1 solid-yellow-line, 7.0ms\nimage 330/1006 /kaggle/working/Road-Lines-Segmentation-3-2/test/images/front-left-NO20240903-145141-000845F_MP4-0164_jpg.rf.a4d458fa8c3055d362072b51b7d86119.jpg: 640x640 1 car, 1 solid-yellow-line, 7.0ms\nimage 331/1006 /kaggle/working/Road-Lines-Segmentation-3-2/test/images/front-left-NO20240903-145141-000845F_MP4-0165_jpg.rf.2f19d0e149263bd823acd8c4636c980e.jpg: 640x640 1 car, 1 solid-yellow-line, 7.2ms\nimage 332/1006 /kaggle/working/Road-Lines-Segmentation-3-2/test/images/front-left-NO20240903-145141-000845F_MP4-0167_jpg.rf.ddace8d5cc9db71b3ae37126929c74f9.jpg: 640x640 1 car, 1 solid-yellow-line, 7.2ms\nimage 333/1006 /kaggle/working/Road-Lines-Segmentation-3-2/test/images/front-left-NO20240903-145141-000845F_MP4-0170_jpg.rf.545c69f2e351d276a91010535582bfdd.jpg: 640x640 1 solid-yellow-line, 6.9ms\nimage 334/1006 /kaggle/working/Road-Lines-Segmentation-3-2/test/images/front-left-NO20240903-145141-000845F_MP4-0173_jpg.rf.9d017b5ef9e9941bdfa44515cd9c1114.jpg: 640x640 1 solid-yellow-line, 7.3ms\nimage 335/1006 /kaggle/working/Road-Lines-Segmentation-3-2/test/images/front-left-NO20240903-145141-000845F_MP4-0174_jpg.rf.7836ec40e1a05a3947589441d181f05c.jpg: 640x640 1 solid-yellow-line, 7.0ms\nimage 336/1006 /kaggle/working/Road-Lines-Segmentation-3-2/test/images/front-left-NO20240903-145141-000845F_MP4-0178_jpg.rf.dc387adbf16c2e62db92564dff43824a.jpg: 640x640 1 car, 1 solid-yellow-line, 6.9ms\nimage 337/1006 /kaggle/working/Road-Lines-Segmentation-3-2/test/images/front-left-NO20240903-145141-000845F_MP4-0180_jpg.rf.dfa31ceb77d3924bad24d6e5a99359cf.jpg: 640x640 1 car, 1 solid-yellow-line, 7.0ms\nimage 338/1006 /kaggle/working/Road-Lines-Segmentation-3-2/test/images/front-left-NO20240903-145141-000845F_MP4-0181_jpg.rf.42f424c337a4e9563fbf6d90df3edc17.jpg: 640x640 2 cars, 1 solid-yellow-line, 7.0ms\nimage 339/1006 /kaggle/working/Road-Lines-Segmentation-3-2/test/images/front-left-NO20240903-145141-000845F_MP4-0183_jpg.rf.dfb4a5c2294a09321710d04abca3f227.jpg: 640x640 2 cars, 1 solid-yellow-line, 6.9ms\nimage 340/1006 /kaggle/working/Road-Lines-Segmentation-3-2/test/images/front-left-NO20240903-145141-000845F_MP4-0184_jpg.rf.b5a070006356543cbd2f490d67a1b18a.jpg: 640x640 2 cars, 1 solid-yellow-line, 7.0ms\nimage 341/1006 /kaggle/working/Road-Lines-Segmentation-3-2/test/images/front-left-NO20240903-145141-000845F_MP4-0185_jpg.rf.3036428d8ed545daae52b47a0b2d60b8.jpg: 640x640 2 cars, 1 solid-yellow-line, 7.2ms\nimage 342/1006 /kaggle/working/Road-Lines-Segmentation-3-2/test/images/front-left-NO20240903-145141-000845F_MP4-0186_jpg.rf.3c246f50ea900437d5662461c30807bb.jpg: 640x640 2 cars, 1 solid-yellow-line, 7.2ms\nimage 343/1006 /kaggle/working/Road-Lines-Segmentation-3-2/test/images/front-left-NO20240903-145141-000845F_MP4-0188_jpg.rf.136dcc75ee8fcd37aada068c83d122fb.jpg: 640x640 3 cars, 3 solid-yellow-lines, 7.1ms\nimage 344/1006 /kaggle/working/Road-Lines-Segmentation-3-2/test/images/front-left-NO20240903-145141-000845F_MP4-0189_jpg.rf.1b467f4b9ddb5f8c61cf327e4cce3269.jpg: 640x640 4 cars, 2 solid-yellow-lines, 7.0ms\nimage 345/1006 /kaggle/working/Road-Lines-Segmentation-3-2/test/images/front-left-NO20240903-145141-000845F_MP4-0191_jpg.rf.388a9a280310aecf737f901126568b0f.jpg: 640x640 2 cars, 1 solid-yellow-line, 7.3ms\nimage 346/1006 /kaggle/working/Road-Lines-Segmentation-3-2/test/images/front-left-NO20240903-145141-000845F_MP4-0192_jpg.rf.6295f620e916b614aba2aab3c19fe57d.jpg: 640x640 2 cars, 1 solid-yellow-line, 7.2ms\nimage 347/1006 /kaggle/working/Road-Lines-Segmentation-3-2/test/images/front-left-NO20240903-145141-000845F_MP4-0193_jpg.rf.c243a780b921826767ab0d0ad5c8ecbd.jpg: 640x640 3 cars, 1 solid-yellow-line, 7.1ms\nimage 348/1006 /kaggle/working/Road-Lines-Segmentation-3-2/test/images/front-left-NO20240903-145141-000845F_MP4-0194_jpg.rf.5ab63fd617b0a84213281ab084197f78.jpg: 640x640 3 cars, 1 solid-yellow-line, 7.1ms\nimage 349/1006 /kaggle/working/Road-Lines-Segmentation-3-2/test/images/front-left-NO20240903-145141-000845F_MP4-0195_jpg.rf.fe3777e31b605222e5707880f930d834.jpg: 640x640 2 cars, 2 solid-yellow-lines, 6.9ms\nimage 350/1006 /kaggle/working/Road-Lines-Segmentation-3-2/test/images/front-left-NO20240903-145141-000845F_MP4-0196_jpg.rf.bc0605eb26dd5eb56f93aaf4a54fe600.jpg: 640x640 2 cars, 1 solid-yellow-line, 7.1ms\nimage 351/1006 /kaggle/working/Road-Lines-Segmentation-3-2/test/images/front-left-NO20240903-145141-000845F_MP4-0197_jpg.rf.4285cdc6f616746a709e12448d871920.jpg: 640x640 2 cars, 2 solid-yellow-lines, 7.2ms\nimage 352/1006 /kaggle/working/Road-Lines-Segmentation-3-2/test/images/front-left-NO20240903-145141-000845F_MP4-0198_jpg.rf.79166f32f5db929a7818e26ce3374dab.jpg: 640x640 2 cars, 2 solid-yellow-lines, 7.2ms\nimage 353/1006 /kaggle/working/Road-Lines-Segmentation-3-2/test/images/front-left-NO20240903-145141-000845F_MP4-0199_jpg.rf.995eaecd115b285df37397f438167d26.jpg: 640x640 3 cars, 2 solid-yellow-lines, 7.5ms\nimage 354/1006 /kaggle/working/Road-Lines-Segmentation-3-2/test/images/front-left-NO20240903-145141-000845F_MP4-0200_jpg.rf.3f2649c59d96a3b9dcb95bfaa400ee66.jpg: 640x640 2 cars, 2 solid-yellow-lines, 6.9ms\nimage 355/1006 /kaggle/working/Road-Lines-Segmentation-3-2/test/images/front-left-NO20240903-145141-000845F_MP4-0201_jpg.rf.fcf9b4569a8547f44e78328cf6c289b4.jpg: 640x640 3 cars, 1 solid-yellow-line, 7.2ms\nimage 356/1006 /kaggle/working/Road-Lines-Segmentation-3-2/test/images/front-left-NO20240903-145141-000845F_MP4-0202_jpg.rf.d6456cf159bd44d3357a934a31cd99e7.jpg: 640x640 2 cars, 1 solid-yellow-line, 7.0ms\nimage 357/1006 /kaggle/working/Road-Lines-Segmentation-3-2/test/images/front-left-NO20240903-145141-000845F_MP4-0203_jpg.rf.8cb2a06cfcedaefab35c62a8586b935a.jpg: 640x640 3 cars, 1 solid-yellow-line, 7.1ms\nimage 358/1006 /kaggle/working/Road-Lines-Segmentation-3-2/test/images/front-left-NO20240903-145141-000845F_MP4-0204_jpg.rf.32296fa0872d580838ef5aceb475f07b.jpg: 640x640 3 cars, 1 solid-yellow-line, 7.2ms\nimage 359/1006 /kaggle/working/Road-Lines-Segmentation-3-2/test/images/front-left-NO20240903-145141-000845F_MP4-0205_jpg.rf.c1e50cd73466efd6e53651a0cfa6d3d2.jpg: 640x640 3 cars, 1 solid-yellow-line, 7.2ms\nimage 360/1006 /kaggle/working/Road-Lines-Segmentation-3-2/test/images/front-left-NO20240903-145141-000845F_MP4-0206_jpg.rf.9e09c34f77b91478a9a5c2422651f4a6.jpg: 640x640 3 cars, 1 solid-yellow-line, 7.1ms\nimage 361/1006 /kaggle/working/Road-Lines-Segmentation-3-2/test/images/front-left-NO20240903-145141-000845F_MP4-0207_jpg.rf.f65b0c099d2b0dd19c75ca5f29256333.jpg: 640x640 3 cars, 1 solid-yellow-line, 7.1ms\nimage 362/1006 /kaggle/working/Road-Lines-Segmentation-3-2/test/images/front-left-NO20240903-145141-000845F_MP4-0208_jpg.rf.6ab7d668b9e79d54eaf7429861c59e97.jpg: 640x640 3 cars, 2 solid-yellow-lines, 7.0ms\nimage 363/1006 /kaggle/working/Road-Lines-Segmentation-3-2/test/images/front-left-NO20240903-145141-000845F_MP4-0209_jpg.rf.8b68fab37190afceffe1b8802c2908fb.jpg: 640x640 3 cars, 1 solid-yellow-line, 7.2ms\nimage 364/1006 /kaggle/working/Road-Lines-Segmentation-3-2/test/images/front-left-NO20240903-145141-000845F_MP4-0210_jpg.rf.c22305eacf08499c9103d279507c8bf6.jpg: 640x640 3 cars, 1 solid-yellow-line, 7.1ms\nimage 365/1006 /kaggle/working/Road-Lines-Segmentation-3-2/test/images/front-left-NO20240903-145141-000845F_MP4-0212_jpg.rf.66241b2555d853dd73a2254505d7bbd6.jpg: 640x640 3 cars, 7.1ms\nimage 366/1006 /kaggle/working/Road-Lines-Segmentation-3-2/test/images/front-left-NO20240903-145141-000845F_MP4-0216_jpg.rf.7a071680b368c8471aa0aeff2d05b027.jpg: 640x640 4 cars, 6.9ms\nimage 367/1006 /kaggle/working/Road-Lines-Segmentation-3-2/test/images/front-left-NO20240903-145141-000845F_MP4-0217_jpg.rf.daa58f143ef3f6ba7d2142847bce0ae5.jpg: 640x640 4 cars, 7.2ms\nimage 368/1006 /kaggle/working/Road-Lines-Segmentation-3-2/test/images/front-left-NO20240903-145141-000845F_MP4-0218_jpg.rf.b40b5a190ba91907cda5b2932c3c36fc.jpg: 640x640 3 cars, 7.2ms\nimage 369/1006 /kaggle/working/Road-Lines-Segmentation-3-2/test/images/front-left-NO20240903-145141-000845F_MP4-0219_jpg.rf.3aa563741ba8d330d577c6f271c7c281.jpg: 640x640 3 cars, 7.2ms\nimage 370/1006 /kaggle/working/Road-Lines-Segmentation-3-2/test/images/front-left-NO20240903-145141-000845F_MP4-0220_jpg.rf.da5223593534383aa3801c0d5a1dff19.jpg: 640x640 3 cars, 7.1ms\nimage 371/1006 /kaggle/working/Road-Lines-Segmentation-3-2/test/images/front-left-NO20240903-145141-000845F_MP4-0221_jpg.rf.93fb235ffbbc940d914fe8a0063999f6.jpg: 640x640 3 cars, 7.2ms\nimage 372/1006 /kaggle/working/Road-Lines-Segmentation-3-2/test/images/front-left-NO20240903-145141-000845F_MP4-0222_jpg.rf.8ca0b5aadfd5822980e976c73e5cdfa7.jpg: 640x640 4 cars, 7.1ms\nimage 373/1006 /kaggle/working/Road-Lines-Segmentation-3-2/test/images/front-left-NO20240903-145141-000845F_MP4-0224_jpg.rf.4bd348aa2ec57b0029ac0bcd505e4d0e.jpg: 640x640 3 cars, 7.0ms\nimage 374/1006 /kaggle/working/Road-Lines-Segmentation-3-2/test/images/front-left-NO20240903-145141-000845F_MP4-0225_jpg.rf.7ccfb5fab35f5eabadfa99ec64512725.jpg: 640x640 3 cars, 7.0ms\nimage 375/1006 /kaggle/working/Road-Lines-Segmentation-3-2/test/images/front-left-NO20240903-145141-000845F_MP4-0226_jpg.rf.1ad5a73e40460ea2304c1cb8c1fd0508.jpg: 640x640 3 cars, 7.1ms\nimage 376/1006 /kaggle/working/Road-Lines-Segmentation-3-2/test/images/front-left-NO20240903-145141-000845F_MP4-0227_jpg.rf.5df5ac5107d1a20b812281e1fe8efd31.jpg: 640x640 2 cars, 7.1ms\nimage 377/1006 /kaggle/working/Road-Lines-Segmentation-3-2/test/images/front-left-NO20240903-145141-000845F_MP4-0229_jpg.rf.edbb06ead21746643c964b3b063537e1.jpg: 640x640 2 cars, 7.0ms\nimage 378/1006 /kaggle/working/Road-Lines-Segmentation-3-2/test/images/front-left-NO20240903-145141-000845F_MP4-0230_jpg.rf.b427955c7c3fab1d7adeefb2c5b01406.jpg: 640x640 2 cars, 7.3ms\nimage 379/1006 /kaggle/working/Road-Lines-Segmentation-3-2/test/images/front-left-NO20240903-145141-000845F_MP4-0231_jpg.rf.8e0c5d13ee5f68bdbd2e106904cc9c5d.jpg: 640x640 2 cars, 7.3ms\nimage 380/1006 /kaggle/working/Road-Lines-Segmentation-3-2/test/images/front-left-NO20240903-145141-000845F_MP4-0232_jpg.rf.3d8ca155bf01ad3832b91b895e012b9f.jpg: 640x640 2 cars, 7.5ms\nimage 381/1006 /kaggle/working/Road-Lines-Segmentation-3-2/test/images/front-left-NO20240903-145141-000845F_MP4-0233_jpg.rf.c57d34ab35622478ff73f412779976fa.jpg: 640x640 2 cars, 7.0ms\nimage 382/1006 /kaggle/working/Road-Lines-Segmentation-3-2/test/images/front-left-NO20240903-145141-000845F_MP4-0234_jpg.rf.f1984bf1214215eeb2fa7a14b7cc3932.jpg: 640x640 2 cars, 7.1ms\nimage 383/1006 /kaggle/working/Road-Lines-Segmentation-3-2/test/images/front-left-NO20240903-145141-000845F_MP4-0235_jpg.rf.53e449797324389214ba6a62aadf1a1e.jpg: 640x640 1 car, 7.3ms\nimage 384/1006 /kaggle/working/Road-Lines-Segmentation-3-2/test/images/front-left-NO20240903-145141-000845F_MP4-0236_jpg.rf.995acd3578488cddf5fa3ddd8ee7c3e7.jpg: 640x640 1 car, 7.3ms\nimage 385/1006 /kaggle/working/Road-Lines-Segmentation-3-2/test/images/front-left-NO20240903-145141-000845F_MP4-0238_jpg.rf.8f936dbde17b29ea2527dcc7254f37bd.jpg: 640x640 1 solid-yellow-line, 7.1ms\nimage 386/1006 /kaggle/working/Road-Lines-Segmentation-3-2/test/images/front-left-NO20240903-145141-000845F_MP4-0239_jpg.rf.23298e1e515e4c19f1ef7be7907f37b9.jpg: 640x640 1 solid-yellow-line, 7.0ms\nimage 387/1006 /kaggle/working/Road-Lines-Segmentation-3-2/test/images/front-left-NO20240903-145141-000845F_MP4-0240_jpg.rf.43b3d09cf54742ca289752c3dfdb29fa.jpg: 640x640 1 solid-yellow-line, 7.3ms\nimage 388/1006 /kaggle/working/Road-Lines-Segmentation-3-2/test/images/front-left-NO20240903-145141-000845F_MP4-0242_jpg.rf.58cd36685856b12f158e394192eca1b2.jpg: 640x640 1 solid-yellow-line, 7.2ms\nimage 389/1006 /kaggle/working/Road-Lines-Segmentation-3-2/test/images/front-left-NO20240903-145141-000845F_MP4-0243_jpg.rf.c59eac502ab2f09c5f597e5021bd3dce.jpg: 640x640 1 solid-yellow-line, 7.3ms\nimage 390/1006 /kaggle/working/Road-Lines-Segmentation-3-2/test/images/front-left-NO20240903-145141-000845F_MP4-0244_jpg.rf.7456bbe8602309b1005457f8c315f279.jpg: 640x640 1 solid-yellow-line, 7.4ms\nimage 391/1006 /kaggle/working/Road-Lines-Segmentation-3-2/test/images/front-left-NO20240903-145141-000845F_MP4-0245_jpg.rf.20e7bce5db40127e616c245f33ff0f4f.jpg: 640x640 1 solid-yellow-line, 7.1ms\nimage 392/1006 /kaggle/working/Road-Lines-Segmentation-3-2/test/images/front-left-NO20240903-145141-000845F_MP4-0246_jpg.rf.57725bbb4905cbd8926df62a5f5d28f1.jpg: 640x640 1 solid-yellow-line, 7.4ms\nimage 393/1006 /kaggle/working/Road-Lines-Segmentation-3-2/test/images/front-left-NO20240903-145141-000845F_MP4-0249_jpg.rf.d6903a58046c9e71d7f00e45c3c549f2.jpg: 640x640 2 solid-yellow-lines, 7.1ms\nimage 394/1006 /kaggle/working/Road-Lines-Segmentation-3-2/test/images/front-left-NO20240903-145141-000845F_MP4-0251_jpg.rf.67f1f6cc43bf3c4f121b919ca4f13171.jpg: 640x640 1 solid-yellow-line, 7.1ms\nimage 395/1006 /kaggle/working/Road-Lines-Segmentation-3-2/test/images/front-left-NO20240903-145141-000845F_MP4-0252_jpg.rf.bf2a6afb12a28c10814ba3bfa80c1255.jpg: 640x640 1 solid-yellow-line, 7.2ms\nimage 396/1006 /kaggle/working/Road-Lines-Segmentation-3-2/test/images/front-left-NO20240903-145141-000845F_MP4-0253_jpg.rf.36c5170a1ab70d2a3b2fbced7cee2895.jpg: 640x640 1 solid-yellow-line, 7.0ms\nimage 397/1006 /kaggle/working/Road-Lines-Segmentation-3-2/test/images/front-left-NO20240903-145141-000845F_MP4-0255_jpg.rf.d15ff11b24359745cae1652cb2c74f98.jpg: 640x640 1 solid-yellow-line, 7.2ms\nimage 398/1006 /kaggle/working/Road-Lines-Segmentation-3-2/test/images/front-left-NO20240903-145141-000845F_MP4-0256_jpg.rf.d2668bac66cac8bf4fbe7b90040d98c1.jpg: 640x640 1 solid-yellow-line, 6.9ms\nimage 399/1006 /kaggle/working/Road-Lines-Segmentation-3-2/test/images/front-left-NO20240903-145141-000845F_MP4-0257_jpg.rf.0a678d515cfbb871a31872b8e32c95a8.jpg: 640x640 (no detections), 7.0ms\nimage 400/1006 /kaggle/working/Road-Lines-Segmentation-3-2/test/images/front-left-NO20240903-145141-000845F_MP4-0258_jpg.rf.622c7e91b4a6e9ead8b86cc0ec434dec.jpg: 640x640 (no detections), 6.8ms\nimage 401/1006 /kaggle/working/Road-Lines-Segmentation-3-2/test/images/front-left-NO20240903-145141-000845F_MP4-0260_jpg.rf.b6c3de24c787cb39c457e7a155d23649.jpg: 640x640 (no detections), 7.0ms\nimage 402/1006 /kaggle/working/Road-Lines-Segmentation-3-2/test/images/front-left-NO20240903-145141-000845F_MP4-0261_jpg.rf.4c7f706ae828c52ac0f0777386b85b07.jpg: 640x640 1 solid-yellow-line, 6.9ms\nimage 403/1006 /kaggle/working/Road-Lines-Segmentation-3-2/test/images/front-left-NO20240903-145141-000845F_MP4-0262_jpg.rf.bb4a598d832dcc6c338b94fa7d883451.jpg: 640x640 1 solid-yellow-line, 6.9ms\nimage 404/1006 /kaggle/working/Road-Lines-Segmentation-3-2/test/images/front-left-NO20240903-145141-000845F_MP4-0263_jpg.rf.5ca4accf7229a723dba756e5781305c0.jpg: 640x640 2 solid-yellow-lines, 7.6ms\nimage 405/1006 /kaggle/working/Road-Lines-Segmentation-3-2/test/images/front-left-NO20240903-145141-000845F_MP4-0264_jpg.rf.40a2603995fddcc7582bd5c2c07c79a0.jpg: 640x640 1 solid-yellow-line, 7.2ms\nimage 406/1006 /kaggle/working/Road-Lines-Segmentation-3-2/test/images/front-left-NO20240903-145141-000845F_MP4-0265_jpg.rf.2b58969a8ec8a3bfa4f37b190231502c.jpg: 640x640 1 solid-yellow-line, 7.1ms\nimage 407/1006 /kaggle/working/Road-Lines-Segmentation-3-2/test/images/front-left-NO20240903-145141-000845F_MP4-0266_jpg.rf.7b11b12732f3718c78f60f199a654e74.jpg: 640x640 2 solid-yellow-lines, 7.0ms\nimage 408/1006 /kaggle/working/Road-Lines-Segmentation-3-2/test/images/front-left-NO20240903-145141-000845F_MP4-0267_jpg.rf.d6389bb2df8fd8f2fd54824f0b968867.jpg: 640x640 1 solid-yellow-line, 7.1ms\nimage 409/1006 /kaggle/working/Road-Lines-Segmentation-3-2/test/images/front-left-NO20240903-145141-000845F_MP4-0268_jpg.rf.8021f97755b1044cda38dacbc1a9e159.jpg: 640x640 2 solid-yellow-lines, 7.2ms\nimage 410/1006 /kaggle/working/Road-Lines-Segmentation-3-2/test/images/front-left-NO20240903-145141-000845F_MP4-0269_jpg.rf.f2c750025df6a88b01afcdcb2e4ac4ba.jpg: 640x640 2 solid-yellow-lines, 7.0ms\nimage 411/1006 /kaggle/working/Road-Lines-Segmentation-3-2/test/images/front-left-NO20240903-145141-000845F_MP4-0270_jpg.rf.7980fedf840a3c4a56a721b5c4b85630.jpg: 640x640 1 car, 1 solid-yellow-line, 7.2ms\nimage 412/1006 /kaggle/working/Road-Lines-Segmentation-3-2/test/images/front-left-NO20240903-145141-000845F_MP4-0271_jpg.rf.77ac9e3ab3e139dcbd161eae8727b73c.jpg: 640x640 1 car, 1 solid-yellow-line, 6.9ms\nimage 413/1006 /kaggle/working/Road-Lines-Segmentation-3-2/test/images/front-left-NO20240903-145141-000845F_MP4-0272_jpg.rf.5fecd1c5ec2647b4daf497100a510edf.jpg: 640x640 1 car, 1 solid-yellow-line, 7.0ms\nimage 414/1006 /kaggle/working/Road-Lines-Segmentation-3-2/test/images/front-left-NO20240903-145141-000845F_MP4-0273_jpg.rf.6588bf03c7b140be89c75e58f9c5117c.jpg: 640x640 1 car, 2 solid-yellow-lines, 6.8ms\nimage 415/1006 /kaggle/working/Road-Lines-Segmentation-3-2/test/images/front-left-NO20240903-145141-000845F_MP4-0274_jpg.rf.2b98f6212b0b28a85af776bd1816f24a.jpg: 640x640 1 car, 1 solid-yellow-line, 6.9ms\nimage 416/1006 /kaggle/working/Road-Lines-Segmentation-3-2/test/images/front-left-NO20240903-145141-000845F_MP4-0275_jpg.rf.a289e434c07be70c8abba6e80428aa6c.jpg: 640x640 1 car, 1 solid-yellow-line, 7.0ms\nimage 417/1006 /kaggle/working/Road-Lines-Segmentation-3-2/test/images/front-left-NO20240903-145141-000845F_MP4-0276_jpg.rf.81a21d2901255cf57532968f85c1ce24.jpg: 640x640 1 car, 1 solid-yellow-line, 6.9ms\nimage 418/1006 /kaggle/working/Road-Lines-Segmentation-3-2/test/images/front-left-NO20240903-145141-000845F_MP4-0277_jpg.rf.ed313186c257870b5f1d3869a04acb3a.jpg: 640x640 1 car, 1 solid-yellow-line, 6.9ms\nimage 419/1006 /kaggle/working/Road-Lines-Segmentation-3-2/test/images/front-left-NO20240903-145141-000845F_MP4-0278_jpg.rf.be79c035de9acfab264c2814769f6d44.jpg: 640x640 1 car, 1 solid-yellow-line, 7.2ms\nimage 420/1006 /kaggle/working/Road-Lines-Segmentation-3-2/test/images/front-left-NO20240903-145141-000845F_MP4-0279_jpg.rf.ddde288f56db82ddacb4c45e6295bdb5.jpg: 640x640 1 car, 1 solid-yellow-line, 6.9ms\nimage 421/1006 /kaggle/working/Road-Lines-Segmentation-3-2/test/images/front-left-NO20240903-145141-000845F_MP4-0280_jpg.rf.665c558e81b36615fa8b4ae60fd7e22c.jpg: 640x640 1 car, 2 solid-yellow-lines, 6.8ms\nimage 422/1006 /kaggle/working/Road-Lines-Segmentation-3-2/test/images/front-left-NO20240903-145141-000845F_MP4-0281_jpg.rf.bbf2aa3ea895d7f3ec8e4067e2ea97f7.jpg: 640x640 1 car, 1 solid-yellow-line, 7.0ms\nimage 423/1006 /kaggle/working/Road-Lines-Segmentation-3-2/test/images/front-left-NO20240903-145141-000845F_MP4-0282_jpg.rf.cd437ce030cb98880c5174df1e980c9d.jpg: 640x640 1 car, 1 solid-yellow-line, 7.2ms\nimage 424/1006 /kaggle/working/Road-Lines-Segmentation-3-2/test/images/front-left-NO20240903-145141-000845F_MP4-0283_jpg.rf.0924cd92ff571df903819402334187d2.jpg: 640x640 1 car, 2 solid-yellow-lines, 7.3ms\nimage 425/1006 /kaggle/working/Road-Lines-Segmentation-3-2/test/images/front-left-NO20240903-145141-000845F_MP4-0284_jpg.rf.72279381a89d4c860874cb12197cc70c.jpg: 640x640 1 car, 2 solid-yellow-lines, 7.2ms\nimage 426/1006 /kaggle/working/Road-Lines-Segmentation-3-2/test/images/front-left-NO20240903-145141-000845F_MP4-0285_jpg.rf.531ed2744a0b7a7efcaddebc45f05f4c.jpg: 640x640 1 car, 2 solid-yellow-lines, 7.2ms\nimage 427/1006 /kaggle/working/Road-Lines-Segmentation-3-2/test/images/front-left-NO20240903-145141-000845F_MP4-0286_jpg.rf.b17e7760d90db4930dcad589618f805c.jpg: 640x640 1 car, 1 solid-yellow-line, 7.0ms\nimage 428/1006 /kaggle/working/Road-Lines-Segmentation-3-2/test/images/front-left-NO20240903-145141-000845F_MP4-0287_jpg.rf.2aaf84aed44384bd650a8a1d36d63726.jpg: 640x640 1 car, 1 solid-yellow-line, 7.1ms\nimage 429/1006 /kaggle/working/Road-Lines-Segmentation-3-2/test/images/front-left-NO20240903-145141-000845F_MP4-0288_jpg.rf.a42d8e3592e7dc0f4db069c439e84b36.jpg: 640x640 1 car, 2 solid-yellow-lines, 7.3ms\nimage 430/1006 /kaggle/working/Road-Lines-Segmentation-3-2/test/images/front-left-NO20240903-145141-000845F_MP4-0290_jpg.rf.8c2006860f6cc73a50a55a6073d827cf.jpg: 640x640 1 car, 1 solid-yellow-line, 7.1ms\nimage 431/1006 /kaggle/working/Road-Lines-Segmentation-3-2/test/images/front-left-NO20240903-145141-000845F_MP4-0291_jpg.rf.41646c8f197dea5380a3faf588f5ddc0.jpg: 640x640 1 car, 2 solid-yellow-lines, 7.5ms\nimage 432/1006 /kaggle/working/Road-Lines-Segmentation-3-2/test/images/front-left-NO20240903-145141-000845F_MP4-0292_jpg.rf.d9f25dfeca26955a51148f94c1bc80ca.jpg: 640x640 1 car, 2 solid-yellow-lines, 7.3ms\nimage 433/1006 /kaggle/working/Road-Lines-Segmentation-3-2/test/images/front-left-NO20240903-145141-000845F_MP4-0293_jpg.rf.ec5ed4901bb4fcd70b92314f58a3e6f3.jpg: 640x640 1 car, 2 solid-yellow-lines, 7.2ms\nimage 434/1006 /kaggle/working/Road-Lines-Segmentation-3-2/test/images/front-left-NO20240903-145141-000845F_MP4-0294_jpg.rf.9f0682ce3703ccfe165051d3e4e2a83b.jpg: 640x640 2 cars, 2 solid-yellow-lines, 7.2ms\nimage 435/1006 /kaggle/working/Road-Lines-Segmentation-3-2/test/images/front-left-NO20240903-145141-000845F_MP4-0295_jpg.rf.4fe134f3bd42fc90eda140aa35d9e0e1.jpg: 640x640 2 cars, 1 solid-yellow-line, 7.3ms\nimage 436/1006 /kaggle/working/Road-Lines-Segmentation-3-2/test/images/front-left-NO20240903-145141-000845F_MP4-0297_jpg.rf.9af5a4116c9d7b40138dd81de5325e7b.jpg: 640x640 2 cars, 2 solid-yellow-lines, 7.1ms\nimage 437/1006 /kaggle/working/Road-Lines-Segmentation-3-2/test/images/front-left-NO20240903-145141-000845F_MP4-0298_jpg.rf.03f14caf3e225628d8cf78d850d35910.jpg: 640x640 2 cars, 2 solid-yellow-lines, 7.4ms\nimage 438/1006 /kaggle/working/Road-Lines-Segmentation-3-2/test/images/front-left-NO20240903-145141-000845F_MP4-0299_jpg.rf.5b1c508a4f1fbf4813e15ed41d65c798.jpg: 640x640 2 cars, 2 solid-yellow-lines, 7.0ms\nimage 439/1006 /kaggle/working/Road-Lines-Segmentation-3-2/test/images/front-left-NO20240903-145441-000848F_MP4-0000_jpg.rf.e47f256ad60e4841340fd0dc5d32bcc2.jpg: 640x640 4 cars, 1 solid-yellow-line, 7.0ms\nimage 440/1006 /kaggle/working/Road-Lines-Segmentation-3-2/test/images/front-left-NO20240903-145441-000848F_MP4-0001_jpg.rf.af7e32e32497de9256bd90fd74ae1ae0.jpg: 640x640 4 cars, 1 license_plate, 1 solid-yellow-line, 7.0ms\nimage 441/1006 /kaggle/working/Road-Lines-Segmentation-3-2/test/images/front-left-NO20240903-145441-000848F_MP4-0003_jpg.rf.44ab727ac244bb89998ed5ac4062ba30.jpg: 640x640 4 cars, 1 solid-yellow-line, 7.0ms\nimage 442/1006 /kaggle/working/Road-Lines-Segmentation-3-2/test/images/front-left-NO20240903-145441-000848F_MP4-0004_jpg.rf.7c0216504d5f066b879ae47056676204.jpg: 640x640 4 cars, 1 solid-yellow-line, 6.9ms\nimage 443/1006 /kaggle/working/Road-Lines-Segmentation-3-2/test/images/front-left-NO20240903-145441-000848F_MP4-0005_jpg.rf.878d4eb21f435fa5f419931a517a072b.jpg: 640x640 4 cars, 1 solid-yellow-line, 6.9ms\nimage 444/1006 /kaggle/working/Road-Lines-Segmentation-3-2/test/images/front-left-NO20240903-145441-000848F_MP4-0006_jpg.rf.ced49f2d03fd363a575f96eae523dd15.jpg: 640x640 4 cars, 1 solid-yellow-line, 7.0ms\nimage 445/1006 /kaggle/working/Road-Lines-Segmentation-3-2/test/images/front-left-NO20240903-145441-000848F_MP4-0007_jpg.rf.20454ca4ff0dd9c141f36e96fb06c905.jpg: 640x640 3 cars, 1 solid-yellow-line, 7.1ms\nimage 446/1006 /kaggle/working/Road-Lines-Segmentation-3-2/test/images/front-left-NO20240903-145441-000848F_MP4-0008_jpg.rf.773880e6db30bf339e2c65b681fec335.jpg: 640x640 3 cars, 1 solid-yellow-line, 7.2ms\nimage 447/1006 /kaggle/working/Road-Lines-Segmentation-3-2/test/images/front-left-NO20240903-145441-000848F_MP4-0009_jpg.rf.819d0c88a76cd7b1dd3f22353a88c4f9.jpg: 640x640 3 cars, 1 solid-yellow-line, 6.9ms\nimage 448/1006 /kaggle/working/Road-Lines-Segmentation-3-2/test/images/front-left-NO20240903-145441-000848F_MP4-0010_jpg.rf.bb850a5052b5ab64c145df739fa85985.jpg: 640x640 3 cars, 1 solid-yellow-line, 7.1ms\nimage 449/1006 /kaggle/working/Road-Lines-Segmentation-3-2/test/images/front-left-NO20240903-145441-000848F_MP4-0011_jpg.rf.60a81435ce23084d1a730a275e2e2c6b.jpg: 640x640 3 cars, 1 solid-yellow-line, 7.1ms\nimage 450/1006 /kaggle/working/Road-Lines-Segmentation-3-2/test/images/front-left-NO20240903-145441-000848F_MP4-0012_jpg.rf.5d9988803a377ca47b1b7ca26aa3c6ea.jpg: 640x640 3 cars, 1 solid-yellow-line, 7.3ms\nimage 451/1006 /kaggle/working/Road-Lines-Segmentation-3-2/test/images/front-left-NO20240903-145441-000848F_MP4-0013_jpg.rf.58fbfa3f6a73ccca8e320e317f59cfe8.jpg: 640x640 4 cars, 1 solid-yellow-line, 7.1ms\nimage 452/1006 /kaggle/working/Road-Lines-Segmentation-3-2/test/images/front-left-NO20240903-145441-000848F_MP4-0014_jpg.rf.62225f8a0b2fedace9d355f943087606.jpg: 640x640 3 cars, 1 solid-yellow-line, 7.1ms\nimage 453/1006 /kaggle/working/Road-Lines-Segmentation-3-2/test/images/front-left-NO20240903-145441-000848F_MP4-0015_jpg.rf.53d473559292fe657c699c09a2d00990.jpg: 640x640 4 cars, 1 solid-yellow-line, 7.2ms\nimage 454/1006 /kaggle/working/Road-Lines-Segmentation-3-2/test/images/front-left-NO20240903-145441-000848F_MP4-0017_jpg.rf.4396d66221649b17395df09611efc7cc.jpg: 640x640 4 cars, 1 solid-yellow-line, 7.3ms\nimage 455/1006 /kaggle/working/Road-Lines-Segmentation-3-2/test/images/front-left-NO20240903-145441-000848F_MP4-0018_jpg.rf.a0ac13ba36f141820ba1a6d5b1a20355.jpg: 640x640 3 cars, 1 solid-yellow-line, 7.2ms\nimage 456/1006 /kaggle/working/Road-Lines-Segmentation-3-2/test/images/front-left-NO20240903-145441-000848F_MP4-0019_jpg.rf.844b800c3703e8e04cc907e110ed2dfb.jpg: 640x640 3 cars, 1 solid-yellow-line, 7.1ms\nimage 457/1006 /kaggle/working/Road-Lines-Segmentation-3-2/test/images/front-left-NO20240903-145441-000848F_MP4-0020_jpg.rf.613aa89a4df63594cdbdd7d5f370724b.jpg: 640x640 3 cars, 1 solid-yellow-line, 7.1ms\nimage 458/1006 /kaggle/working/Road-Lines-Segmentation-3-2/test/images/front-left-NO20240903-145441-000848F_MP4-0021_jpg.rf.7802a7f6b4599f604834bb3dcd9ae016.jpg: 640x640 3 cars, 1 solid-yellow-line, 7.3ms\nimage 459/1006 /kaggle/working/Road-Lines-Segmentation-3-2/test/images/front-left-NO20240903-145441-000848F_MP4-0022_jpg.rf.9b7165aa2809c8fafcf69d8bfadd1412.jpg: 640x640 3 cars, 2 solid-yellow-lines, 7.0ms\nimage 460/1006 /kaggle/working/Road-Lines-Segmentation-3-2/test/images/front-left-NO20240903-145441-000848F_MP4-0023_jpg.rf.e9c59fbdcc7aa225f9246a14166c253a.jpg: 640x640 3 cars, 1 solid-yellow-line, 6.9ms\nimage 461/1006 /kaggle/working/Road-Lines-Segmentation-3-2/test/images/front-left-NO20240903-145441-000848F_MP4-0026_jpg.rf.a9b59f7b38dd68340199e8aa8dafb17b.jpg: 640x640 2 cars, 2 solid-yellow-lines, 6.9ms\nimage 462/1006 /kaggle/working/Road-Lines-Segmentation-3-2/test/images/front-left-NO20240903-145441-000848F_MP4-0027_jpg.rf.c4b83a11e9bec3aa2a38a86f43ce3591.jpg: 640x640 2 cars, 1 solid-yellow-line, 7.2ms\nimage 463/1006 /kaggle/working/Road-Lines-Segmentation-3-2/test/images/front-left-NO20240903-145441-000848F_MP4-0028_jpg.rf.e73ff79e9a6f9e164e39ecbfe4e9e369.jpg: 640x640 2 cars, 1 solid-yellow-line, 7.0ms\nimage 464/1006 /kaggle/working/Road-Lines-Segmentation-3-2/test/images/front-left-NO20240903-145441-000848F_MP4-0029_jpg.rf.52f19d7f8d558bf2d21c30769eaeb704.jpg: 640x640 2 cars, 1 solid-yellow-line, 7.0ms\nimage 465/1006 /kaggle/working/Road-Lines-Segmentation-3-2/test/images/front-left-NO20240903-145441-000848F_MP4-0030_jpg.rf.d1cbcaa614de23dcff43308714f15cd3.jpg: 640x640 2 cars, 1 solid-yellow-line, 7.0ms\nimage 466/1006 /kaggle/working/Road-Lines-Segmentation-3-2/test/images/front-left-NO20240903-145441-000848F_MP4-0031_jpg.rf.a5885e952ac7bd3cd13bc94a11fb83d8.jpg: 640x640 2 cars, 1 solid-yellow-line, 7.0ms\nimage 467/1006 /kaggle/working/Road-Lines-Segmentation-3-2/test/images/front-left-NO20240903-145441-000848F_MP4-0033_jpg.rf.3f41f4978381c5fff99d0cb6be1c58fe.jpg: 640x640 3 cars, 1 solid-yellow-line, 7.1ms\nimage 468/1006 /kaggle/working/Road-Lines-Segmentation-3-2/test/images/front-left-NO20240903-145441-000848F_MP4-0034_jpg.rf.a3473d500362abeb5dbb68a616602653.jpg: 640x640 2 cars, 1 solid-yellow-line, 7.0ms\nimage 469/1006 /kaggle/working/Road-Lines-Segmentation-3-2/test/images/front-left-NO20240903-145441-000848F_MP4-0035_jpg.rf.e2f9cb971b3a078c7ed70fed54636a31.jpg: 640x640 3 cars, 1 solid-yellow-line, 7.2ms\nimage 470/1006 /kaggle/working/Road-Lines-Segmentation-3-2/test/images/front-left-NO20240903-145441-000848F_MP4-0036_jpg.rf.5439cf73ce8f3b9b39a937bd48a811b2.jpg: 640x640 3 cars, 1 solid-yellow-line, 6.9ms\nimage 471/1006 /kaggle/working/Road-Lines-Segmentation-3-2/test/images/front-left-NO20240903-145441-000848F_MP4-0037_jpg.rf.dc9217d4d3b951e3f34a3a7d57d46ede.jpg: 640x640 3 cars, 1 solid-yellow-line, 7.0ms\nimage 472/1006 /kaggle/working/Road-Lines-Segmentation-3-2/test/images/front-left-NO20240903-145441-000848F_MP4-0038_jpg.rf.0a844cb098599de1d95d82b030c0d7d4.jpg: 640x640 2 cars, 1 solid-yellow-line, 7.0ms\nimage 473/1006 /kaggle/working/Road-Lines-Segmentation-3-2/test/images/front-left-NO20240903-145441-000848F_MP4-0042_jpg.rf.e8f24cfc9dfa5838d8027329f000af4b.jpg: 640x640 2 cars, 1 solid-yellow-line, 7.0ms\nimage 474/1006 /kaggle/working/Road-Lines-Segmentation-3-2/test/images/front-left-NO20240903-145441-000848F_MP4-0043_jpg.rf.9c7d35a067ee68f1ac5f032844707e44.jpg: 640x640 1 car, 1 solid-yellow-line, 7.0ms\nimage 475/1006 /kaggle/working/Road-Lines-Segmentation-3-2/test/images/front-left-NO20240903-145441-000848F_MP4-0044_jpg.rf.81b68c2538499b54ea290ca0dc0f7e8a.jpg: 640x640 1 car, 1 solid-yellow-line, 7.1ms\nimage 476/1006 /kaggle/working/Road-Lines-Segmentation-3-2/test/images/front-left-NO20240903-145441-000848F_MP4-0046_jpg.rf.25bf27d5352f8a6b70dd4806d7331be9.jpg: 640x640 2 cars, 1 solid-yellow-line, 7.3ms\nimage 477/1006 /kaggle/working/Road-Lines-Segmentation-3-2/test/images/front-left-NO20240903-145441-000848F_MP4-0047_jpg.rf.9cbab303b88415ddceec0d7c3c5a17b6.jpg: 640x640 2 cars, 1 solid-yellow-line, 7.1ms\nimage 478/1006 /kaggle/working/Road-Lines-Segmentation-3-2/test/images/front-left-NO20240903-145441-000848F_MP4-0048_jpg.rf.ef63bf13435782d85e96d94e58b6a369.jpg: 640x640 2 cars, 1 solid-yellow-line, 7.0ms\nimage 479/1006 /kaggle/working/Road-Lines-Segmentation-3-2/test/images/front-left-NO20240903-145441-000848F_MP4-0049_jpg.rf.e39d74915ffbf10384fc4f97880a68ef.jpg: 640x640 2 cars, 1 solid-yellow-line, 7.3ms\nimage 480/1006 /kaggle/working/Road-Lines-Segmentation-3-2/test/images/front-left-NO20240903-145441-000848F_MP4-0050_jpg.rf.7bf5dbbf5a45c03277d5ad9d3d280130.jpg: 640x640 3 cars, 1 solid-yellow-line, 7.1ms\nimage 481/1006 /kaggle/working/Road-Lines-Segmentation-3-2/test/images/front-left-NO20240903-145441-000848F_MP4-0051_jpg.rf.305c07df8864ef58ab1c5d511db1efe0.jpg: 640x640 3 cars, 1 solid-yellow-line, 7.1ms\nimage 482/1006 /kaggle/working/Road-Lines-Segmentation-3-2/test/images/front-left-NO20240903-145441-000848F_MP4-0052_jpg.rf.3c259d53b589a20172e8857cd249a118.jpg: 640x640 2 cars, 1 solid-yellow-line, 7.2ms\nimage 483/1006 /kaggle/working/Road-Lines-Segmentation-3-2/test/images/front-left-NO20240903-145441-000848F_MP4-0053_jpg.rf.0a7996815afb63d4d4b50e87c613740a.jpg: 640x640 3 cars, 1 solid-yellow-line, 7.1ms\nimage 484/1006 /kaggle/working/Road-Lines-Segmentation-3-2/test/images/front-left-NO20240903-145441-000848F_MP4-0054_jpg.rf.078ceab8975d986c5643d6e4fccef148.jpg: 640x640 3 cars, 1 solid-yellow-line, 7.2ms\nimage 485/1006 /kaggle/working/Road-Lines-Segmentation-3-2/test/images/front-left-NO20240903-145441-000848F_MP4-0055_jpg.rf.67cba042d5356db6fdf7d39b220ec883.jpg: 640x640 3 cars, 1 solid-yellow-line, 7.1ms\nimage 486/1006 /kaggle/working/Road-Lines-Segmentation-3-2/test/images/front-left-NO20240903-145441-000848F_MP4-0056_jpg.rf.7ddd718f5014387df3fe916ad7590191.jpg: 640x640 3 cars, 2 solid-yellow-lines, 7.3ms\nimage 487/1006 /kaggle/working/Road-Lines-Segmentation-3-2/test/images/front-left-NO20240903-145441-000848F_MP4-0057_jpg.rf.3ac7276e21a24ec29d38125608783521.jpg: 640x640 3 cars, 1 solid-yellow-line, 7.2ms\nimage 488/1006 /kaggle/working/Road-Lines-Segmentation-3-2/test/images/front-left-NO20240903-145441-000848F_MP4-0058_jpg.rf.5df81d843da4004c91421d6cb35e40b2.jpg: 640x640 3 cars, 1 solid-yellow-line, 7.1ms\nimage 489/1006 /kaggle/working/Road-Lines-Segmentation-3-2/test/images/front-left-NO20240903-145441-000848F_MP4-0059_jpg.rf.48ea5d87b18f418891e01c4cf70065cb.jpg: 640x640 3 cars, 1 solid-yellow-line, 7.1ms\nimage 490/1006 /kaggle/working/Road-Lines-Segmentation-3-2/test/images/front-left-NO20240903-145441-000848F_MP4-0060_jpg.rf.6aa531715d42afbba1bb5f4785b6fdde.jpg: 640x640 3 cars, 1 solid-yellow-line, 7.2ms\nimage 491/1006 /kaggle/working/Road-Lines-Segmentation-3-2/test/images/front-left-NO20240903-145441-000848F_MP4-0061_jpg.rf.328aa4eb33c6e5096ed3fa57146ae7f4.jpg: 640x640 3 cars, 1 solid-yellow-line, 7.3ms\nimage 492/1006 /kaggle/working/Road-Lines-Segmentation-3-2/test/images/front-left-NO20240903-145441-000848F_MP4-0062_jpg.rf.0e2a59b1cb90b87a4ccadd6a19fc54a9.jpg: 640x640 3 cars, 1 solid-yellow-line, 7.2ms\nimage 493/1006 /kaggle/working/Road-Lines-Segmentation-3-2/test/images/front-left-NO20240903-145441-000848F_MP4-0063_jpg.rf.1e597c57ae94a33a20a8a8a348184b0d.jpg: 640x640 3 cars, 1 solid-yellow-line, 7.1ms\nimage 494/1006 /kaggle/working/Road-Lines-Segmentation-3-2/test/images/front-left-NO20240903-145441-000848F_MP4-0064_jpg.rf.51aae50e787349924d8e232057d07b85.jpg: 640x640 3 cars, 1 solid-yellow-line, 7.2ms\nimage 495/1006 /kaggle/working/Road-Lines-Segmentation-3-2/test/images/front-left-NO20240903-145441-000848F_MP4-0065_jpg.rf.bd7f3c33de33158a356543c7f8e5ff07.jpg: 640x640 3 cars, 1 solid-yellow-line, 7.5ms\nimage 496/1006 /kaggle/working/Road-Lines-Segmentation-3-2/test/images/front-left-NO20240903-145441-000848F_MP4-0066_jpg.rf.c08eec0156cda50f0ad784455f8bd8a1.jpg: 640x640 3 cars, 1 solid-yellow-line, 7.5ms\nimage 497/1006 /kaggle/working/Road-Lines-Segmentation-3-2/test/images/front-left-NO20240903-145441-000848F_MP4-0067_jpg.rf.211a8c1eeae85618a9d26c4fef506d60.jpg: 640x640 4 cars, 1 solid-yellow-line, 7.1ms\nimage 498/1006 /kaggle/working/Road-Lines-Segmentation-3-2/test/images/front-left-NO20240903-145441-000848F_MP4-0068_jpg.rf.63715ab962e53857807333b2f3ec3d77.jpg: 640x640 4 cars, 1 solid-yellow-line, 7.1ms\nimage 499/1006 /kaggle/working/Road-Lines-Segmentation-3-2/test/images/front-left-NO20240903-145441-000848F_MP4-0069_jpg.rf.16f12fb04906b10dc4b11cc2535bd5ac.jpg: 640x640 4 cars, 1 solid-yellow-line, 7.2ms\nimage 500/1006 /kaggle/working/Road-Lines-Segmentation-3-2/test/images/front-left-NO20240903-145441-000848F_MP4-0070_jpg.rf.a7394fce44d23b2593fdd6277df5d204.jpg: 640x640 4 cars, 1 solid-yellow-line, 7.2ms\nimage 501/1006 /kaggle/working/Road-Lines-Segmentation-3-2/test/images/front-left-NO20240903-145441-000848F_MP4-0071_jpg.rf.c741f162a82692eb605ba8ebe60dab08.jpg: 640x640 4 cars, 1 solid-yellow-line, 7.0ms\nimage 502/1006 /kaggle/working/Road-Lines-Segmentation-3-2/test/images/front-left-NO20240903-145441-000848F_MP4-0072_jpg.rf.6373e97f8e37f7bf6f33ec553abc8b2d.jpg: 640x640 4 cars, 1 solid-yellow-line, 6.9ms\nimage 503/1006 /kaggle/working/Road-Lines-Segmentation-3-2/test/images/front-left-NO20240903-145441-000848F_MP4-0073_jpg.rf.5770907e9ce990b9bdac8e4e49cb3ab0.jpg: 640x640 4 cars, 1 solid-yellow-line, 7.1ms\nimage 504/1006 /kaggle/working/Road-Lines-Segmentation-3-2/test/images/front-left-NO20240903-145441-000848F_MP4-0074_jpg.rf.2366ccd255e128d0055912be4981efd6.jpg: 640x640 4 cars, 1 solid-yellow-line, 8.0ms\nimage 505/1006 /kaggle/working/Road-Lines-Segmentation-3-2/test/images/front-left-NO20240903-145441-000848F_MP4-0075_jpg.rf.1cac04b43f8f0f145222381aa2295012.jpg: 640x640 4 cars, 2 solid-yellow-lines, 7.8ms\nimage 506/1006 /kaggle/working/Road-Lines-Segmentation-3-2/test/images/front-left-NO20240903-145441-000848F_MP4-0076_jpg.rf.3a092d50867534b558232d7464c40262.jpg: 640x640 4 cars, 2 solid-yellow-lines, 6.8ms\nimage 507/1006 /kaggle/working/Road-Lines-Segmentation-3-2/test/images/front-left-NO20240903-145441-000848F_MP4-0077_jpg.rf.011346a571977b393f48aad4ef07a59d.jpg: 640x640 4 cars, 1 solid-yellow-line, 7.1ms\nimage 508/1006 /kaggle/working/Road-Lines-Segmentation-3-2/test/images/front-left-NO20240903-145441-000848F_MP4-0078_jpg.rf.2d0c188ab9e96883968f3755f97b1a44.jpg: 640x640 4 cars, 1 solid-yellow-line, 6.8ms\nimage 509/1006 /kaggle/working/Road-Lines-Segmentation-3-2/test/images/front-left-NO20240903-145441-000848F_MP4-0079_jpg.rf.4c8142a266870906b1b94992948aeffc.jpg: 640x640 4 cars, 1 solid-yellow-line, 6.8ms\nimage 510/1006 /kaggle/working/Road-Lines-Segmentation-3-2/test/images/front-left-NO20240903-145441-000848F_MP4-0081_jpg.rf.e73dbe99d8374276ed75b192c04c38a2.jpg: 640x640 4 cars, 1 solid-yellow-line, 7.4ms\nimage 511/1006 /kaggle/working/Road-Lines-Segmentation-3-2/test/images/front-left-NO20240903-145441-000848F_MP4-0082_jpg.rf.a9e76b0438fb89be3490194f3e0e48b1.jpg: 640x640 4 cars, 2 solid-yellow-lines, 7.2ms\nimage 512/1006 /kaggle/working/Road-Lines-Segmentation-3-2/test/images/front-left-NO20240903-145441-000848F_MP4-0083_jpg.rf.3f021a8a1437526c6e9944ee35af0b9f.jpg: 640x640 3 cars, 1 solid-yellow-line, 7.3ms\nimage 513/1006 /kaggle/working/Road-Lines-Segmentation-3-2/test/images/front-left-NO20240903-145441-000848F_MP4-0085_jpg.rf.b779d72b5f8aad46a17d84da73f2a799.jpg: 640x640 3 cars, 1 solid-yellow-line, 6.9ms\nimage 514/1006 /kaggle/working/Road-Lines-Segmentation-3-2/test/images/front-left-NO20240903-145441-000848F_MP4-0086_jpg.rf.caba8265e62181976e2f577e7d9e94f5.jpg: 640x640 3 cars, 1 solid-yellow-line, 7.5ms\nimage 515/1006 /kaggle/working/Road-Lines-Segmentation-3-2/test/images/front-left-NO20240903-145441-000848F_MP4-0087_jpg.rf.fc40f5b5fcd315607e128b274835624e.jpg: 640x640 3 cars, 1 solid-yellow-line, 8.1ms\nimage 516/1006 /kaggle/working/Road-Lines-Segmentation-3-2/test/images/front-left-NO20240903-145441-000848F_MP4-0088_jpg.rf.5e5950d7837e32f12b433ad05df2d549.jpg: 640x640 3 cars, 1 solid-yellow-line, 8.1ms\nimage 517/1006 /kaggle/working/Road-Lines-Segmentation-3-2/test/images/front-left-NO20240903-145441-000848F_MP4-0089_jpg.rf.ddc4e2cdc8c444720fb0245d5ff44a2b.jpg: 640x640 3 cars, 1 solid-yellow-line, 7.1ms\nimage 518/1006 /kaggle/working/Road-Lines-Segmentation-3-2/test/images/front-left-NO20240903-145441-000848F_MP4-0090_jpg.rf.b16d1d42038dc3a0f05e5d1545db218c.jpg: 640x640 2 cars, 1 solid-yellow-line, 7.0ms\nimage 519/1006 /kaggle/working/Road-Lines-Segmentation-3-2/test/images/front-left-NO20240903-145441-000848F_MP4-0091_jpg.rf.f95651c947a9745eed63ce77066ab65d.jpg: 640x640 3 cars, 1 solid-yellow-line, 7.3ms\nimage 520/1006 /kaggle/working/Road-Lines-Segmentation-3-2/test/images/front-left-NO20240903-145441-000848F_MP4-0092_jpg.rf.105555c8cd078b9c44c2cad9de879653.jpg: 640x640 2 cars, 1 solid-yellow-line, 6.9ms\nimage 521/1006 /kaggle/working/Road-Lines-Segmentation-3-2/test/images/front-left-NO20240903-145441-000848F_MP4-0093_jpg.rf.cc300f0d571881ada984e86dcab848c6.jpg: 640x640 2 cars, 1 solid-yellow-line, 7.1ms\nimage 522/1006 /kaggle/working/Road-Lines-Segmentation-3-2/test/images/front-left-NO20240903-145441-000848F_MP4-0094_jpg.rf.c1599d2ae37115011ca159c1588bf72d.jpg: 640x640 2 cars, 1 solid-yellow-line, 7.1ms\nimage 523/1006 /kaggle/working/Road-Lines-Segmentation-3-2/test/images/front-left-NO20240903-145441-000848F_MP4-0095_jpg.rf.68dc6ed08044ddf9da1423cfb40212d3.jpg: 640x640 3 cars, 1 solid-yellow-line, 7.2ms\nimage 524/1006 /kaggle/working/Road-Lines-Segmentation-3-2/test/images/front-left-NO20240903-145441-000848F_MP4-0096_jpg.rf.9e5dc5bba5c87c42e51a55299de5ea3d.jpg: 640x640 3 cars, 1 solid-yellow-line, 7.0ms\nimage 525/1006 /kaggle/working/Road-Lines-Segmentation-3-2/test/images/front-left-NO20240903-145441-000848F_MP4-0097_jpg.rf.7f2ab8453f47fe2a8eedd56095337327.jpg: 640x640 4 cars, 1 solid-yellow-line, 6.8ms\nimage 526/1006 /kaggle/working/Road-Lines-Segmentation-3-2/test/images/front-left-NO20240903-145441-000848F_MP4-0098_jpg.rf.c103f4ede840e3e11fe30627197f8ad8.jpg: 640x640 4 cars, 1 solid-yellow-line, 6.8ms\nimage 527/1006 /kaggle/working/Road-Lines-Segmentation-3-2/test/images/front-left-NO20240903-145441-000848F_MP4-0099_jpg.rf.1a7c31010eeeb171d8e5d6723b4ed015.jpg: 640x640 3 cars, 1 solid-yellow-line, 6.9ms\nimage 528/1006 /kaggle/working/Road-Lines-Segmentation-3-2/test/images/front-left-NO20240903-145441-000848F_MP4-0100_jpg.rf.6399487322285eb5594be089a4d214af.jpg: 640x640 3 cars, 1 solid-yellow-line, 6.9ms\nimage 529/1006 /kaggle/working/Road-Lines-Segmentation-3-2/test/images/front-left-NO20240903-145441-000848F_MP4-0101_jpg.rf.142a1528d1e8b601974e7e94d7beefe6.jpg: 640x640 3 cars, 1 solid-yellow-line, 7.1ms\nimage 530/1006 /kaggle/working/Road-Lines-Segmentation-3-2/test/images/front-left-NO20240903-145441-000848F_MP4-0102_jpg.rf.89a58f05144139241162ad286bdc034d.jpg: 640x640 3 cars, 1 solid-yellow-line, 7.2ms\nimage 531/1006 /kaggle/working/Road-Lines-Segmentation-3-2/test/images/front-left-NO20240903-145441-000848F_MP4-0103_jpg.rf.9fa64706499b48306e5319780600e20c.jpg: 640x640 3 cars, 1 solid-yellow-line, 7.1ms\nimage 532/1006 /kaggle/working/Road-Lines-Segmentation-3-2/test/images/front-left-NO20240903-145441-000848F_MP4-0105_jpg.rf.4b8200bd89e80f5f519a801be7956673.jpg: 640x640 3 cars, 1 solid-yellow-line, 7.0ms\nimage 533/1006 /kaggle/working/Road-Lines-Segmentation-3-2/test/images/front-left-NO20240903-145441-000848F_MP4-0107_jpg.rf.1af38fc02fd70d93a5ada7da48efed37.jpg: 640x640 2 cars, 1 solid-yellow-line, 7.1ms\nimage 534/1006 /kaggle/working/Road-Lines-Segmentation-3-2/test/images/front-left-NO20240903-145441-000848F_MP4-0108_jpg.rf.b71fff740523b1141a38d442cfeb532d.jpg: 640x640 2 cars, 1 solid-yellow-line, 7.4ms\nimage 535/1006 /kaggle/working/Road-Lines-Segmentation-3-2/test/images/front-left-NO20240903-145441-000848F_MP4-0109_jpg.rf.a2fa99575dc5393535c184ea2996769d.jpg: 640x640 2 cars, 1 solid-yellow-line, 7.2ms\nimage 536/1006 /kaggle/working/Road-Lines-Segmentation-3-2/test/images/front-left-NO20240903-145441-000848F_MP4-0110_jpg.rf.cc827f032eb5c855dc8af670a11a1f76.jpg: 640x640 3 cars, 2 solid-yellow-lines, 7.4ms\nimage 537/1006 /kaggle/working/Road-Lines-Segmentation-3-2/test/images/front-left-NO20240903-145441-000848F_MP4-0111_jpg.rf.85010518a3dccaa26164fb9838190ae9.jpg: 640x640 3 cars, 1 solid-yellow-line, 7.2ms\nimage 538/1006 /kaggle/working/Road-Lines-Segmentation-3-2/test/images/front-left-NO20240903-145441-000848F_MP4-0112_jpg.rf.e01d63582e39f20897884bcf0692a058.jpg: 640x640 3 cars, 1 solid-yellow-line, 7.5ms\nimage 539/1006 /kaggle/working/Road-Lines-Segmentation-3-2/test/images/front-left-NO20240903-145441-000848F_MP4-0113_jpg.rf.2a382ee89f7e1a2fd90eefe6348d0757.jpg: 640x640 3 cars, 2 solid-yellow-lines, 7.1ms\nimage 540/1006 /kaggle/working/Road-Lines-Segmentation-3-2/test/images/front-left-NO20240903-145441-000848F_MP4-0115_jpg.rf.9a4158470692b393220966c9a748e52e.jpg: 640x640 3 cars, 2 solid-yellow-lines, 7.2ms\nimage 541/1006 /kaggle/working/Road-Lines-Segmentation-3-2/test/images/front-left-NO20240903-145441-000848F_MP4-0116_jpg.rf.fdc38f7967eda81b4b8cbd77be5e61ac.jpg: 640x640 3 cars, 1 solid-yellow-line, 7.1ms\nimage 542/1006 /kaggle/working/Road-Lines-Segmentation-3-2/test/images/front-left-NO20240903-145441-000848F_MP4-0118_jpg.rf.740a19cd4d831861c8291d690238c050.jpg: 640x640 3 cars, 2 solid-yellow-lines, 7.2ms\nimage 543/1006 /kaggle/working/Road-Lines-Segmentation-3-2/test/images/front-left-NO20240903-145441-000848F_MP4-0119_jpg.rf.d83f01edbf2361c801f88d4887720c54.jpg: 640x640 3 cars, 2 solid-yellow-lines, 7.5ms\nimage 544/1006 /kaggle/working/Road-Lines-Segmentation-3-2/test/images/front-left-NO20240903-145441-000848F_MP4-0120_jpg.rf.83307f2a9706ffb6e323e8cd1ee6de5d.jpg: 640x640 2 cars, 2 solid-yellow-lines, 7.1ms\nimage 545/1006 /kaggle/working/Road-Lines-Segmentation-3-2/test/images/front-left-NO20240903-145441-000848F_MP4-0121_jpg.rf.6b54df1a4993beadef634e602a3a1a12.jpg: 640x640 2 cars, 2 solid-yellow-lines, 7.2ms\nimage 546/1006 /kaggle/working/Road-Lines-Segmentation-3-2/test/images/front-left-NO20240903-145441-000848F_MP4-0122_jpg.rf.6147a853b285fb86823eed88ba0d2057.jpg: 640x640 2 cars, 2 solid-yellow-lines, 7.2ms\nimage 547/1006 /kaggle/working/Road-Lines-Segmentation-3-2/test/images/front-left-NO20240903-145441-000848F_MP4-0123_jpg.rf.527a7a1eb0a07d4d6287c56cd9befbae.jpg: 640x640 3 cars, 2 solid-yellow-lines, 7.1ms\nimage 548/1006 /kaggle/working/Road-Lines-Segmentation-3-2/test/images/front-left-NO20240903-145441-000848F_MP4-0124_jpg.rf.e1faeff082b06c9288182508dee7a9f1.jpg: 640x640 3 cars, 3 solid-yellow-lines, 7.1ms\nimage 549/1006 /kaggle/working/Road-Lines-Segmentation-3-2/test/images/front-left-NO20240903-145441-000848F_MP4-0126_jpg.rf.4e275c5ddb557b3a30edc519eb8132f4.jpg: 640x640 3 cars, 3 solid-yellow-lines, 6.9ms\nimage 550/1006 /kaggle/working/Road-Lines-Segmentation-3-2/test/images/front-left-NO20240903-145441-000848F_MP4-0127_jpg.rf.f2983f4d822eec8312c132db87d4ef26.jpg: 640x640 3 cars, 2 solid-yellow-lines, 6.9ms\nimage 551/1006 /kaggle/working/Road-Lines-Segmentation-3-2/test/images/front-left-NO20240903-145441-000848F_MP4-0128_jpg.rf.64502872d3c36f4aa1db67626dc9c521.jpg: 640x640 3 cars, 1 solid-yellow-line, 6.8ms\nimage 552/1006 /kaggle/working/Road-Lines-Segmentation-3-2/test/images/front-left-NO20240903-145441-000848F_MP4-0129_jpg.rf.eb4779cb9f7571ca861910ab863072ab.jpg: 640x640 3 cars, 1 solid-yellow-line, 7.0ms\nimage 553/1006 /kaggle/working/Road-Lines-Segmentation-3-2/test/images/front-left-NO20240903-145441-000848F_MP4-0130_jpg.rf.45fcfb626d11ea33be2e1084eac72ca9.jpg: 640x640 3 cars, 2 solid-yellow-lines, 7.0ms\nimage 554/1006 /kaggle/working/Road-Lines-Segmentation-3-2/test/images/front-left-NO20240903-145441-000848F_MP4-0131_jpg.rf.742ced2dd97db943898cb9f92981a8e8.jpg: 640x640 3 cars, 1 solid-yellow-line, 7.0ms\nimage 555/1006 /kaggle/working/Road-Lines-Segmentation-3-2/test/images/front-left-NO20240903-145441-000848F_MP4-0133_jpg.rf.e09990fe642e5e315b32270c86dbb665.jpg: 640x640 4 cars, 1 solid-yellow-line, 7.2ms\nimage 556/1006 /kaggle/working/Road-Lines-Segmentation-3-2/test/images/front-left-NO20240903-145441-000848F_MP4-0135_jpg.rf.2b5356db059c13bce6c8793ff3b0b521.jpg: 640x640 4 cars, 1 solid-yellow-line, 7.1ms\nimage 557/1006 /kaggle/working/Road-Lines-Segmentation-3-2/test/images/front-left-NO20240903-145441-000848F_MP4-0137_jpg.rf.5b7198846fb451d07bf9d65c52355cb1.jpg: 640x640 3 cars, 1 solid-yellow-line, 7.0ms\nimage 558/1006 /kaggle/working/Road-Lines-Segmentation-3-2/test/images/front-left-NO20240903-145441-000848F_MP4-0138_jpg.rf.b1db773169a29f063752b4848d2ac425.jpg: 640x640 3 cars, 2 solid-yellow-lines, 7.0ms\nimage 559/1006 /kaggle/working/Road-Lines-Segmentation-3-2/test/images/front-left-NO20240903-145441-000848F_MP4-0139_jpg.rf.3321d84d2209913b68dd5b1eaac28dcd.jpg: 640x640 3 cars, 2 solid-yellow-lines, 7.1ms\nimage 560/1006 /kaggle/working/Road-Lines-Segmentation-3-2/test/images/front-left-NO20240903-145441-000848F_MP4-0140_jpg.rf.d80a796dae6f138373e9df6cd711ab28.jpg: 640x640 3 cars, 1 solid-yellow-line, 7.3ms\nimage 561/1006 /kaggle/working/Road-Lines-Segmentation-3-2/test/images/front-left-NO20240903-145441-000848F_MP4-0141_jpg.rf.977b65b43af715bbe70035b0001bda35.jpg: 640x640 3 cars, 1 solid-yellow-line, 7.2ms\nimage 562/1006 /kaggle/working/Road-Lines-Segmentation-3-2/test/images/front-left-NO20240903-145441-000848F_MP4-0142_jpg.rf.601e944c13188d2006ce26258e08623b.jpg: 640x640 3 cars, 1 solid-yellow-line, 7.4ms\nimage 563/1006 /kaggle/working/Road-Lines-Segmentation-3-2/test/images/front-left-NO20240903-145441-000848F_MP4-0144_jpg.rf.ffab85659ffc472a1fffe09ade533860.jpg: 640x640 3 cars, 1 solid-yellow-line, 7.1ms\nimage 564/1006 /kaggle/working/Road-Lines-Segmentation-3-2/test/images/front-left-NO20240903-145441-000848F_MP4-0145_jpg.rf.06b24dd4cd9dff07f5c4e5b9631dc973.jpg: 640x640 3 cars, 1 solid-yellow-line, 7.5ms\nimage 565/1006 /kaggle/working/Road-Lines-Segmentation-3-2/test/images/front-left-NO20240903-145441-000848F_MP4-0146_jpg.rf.3d737b8465aa994ce519c909586489da.jpg: 640x640 3 cars, 1 solid-yellow-line, 7.6ms\nimage 566/1006 /kaggle/working/Road-Lines-Segmentation-3-2/test/images/front-left-NO20240903-145441-000848F_MP4-0147_jpg.rf.c049a70e804b5d2a135d806ea556e3e7.jpg: 640x640 3 cars, 1 solid-yellow-line, 7.0ms\nimage 567/1006 /kaggle/working/Road-Lines-Segmentation-3-2/test/images/front-left-NO20240903-145441-000848F_MP4-0148_jpg.rf.0cac5d4e4cb74dbf8c49dde88045b3c4.jpg: 640x640 3 cars, 1 solid-yellow-line, 6.9ms\nimage 568/1006 /kaggle/working/Road-Lines-Segmentation-3-2/test/images/front-left-NO20240903-145441-000848F_MP4-0149_jpg.rf.9bc294deb9aa643d0cae628eb9f83b57.jpg: 640x640 2 cars, 1 solid-yellow-line, 7.7ms\nimage 569/1006 /kaggle/working/Road-Lines-Segmentation-3-2/test/images/front-left-NO20240903-145441-000848F_MP4-0150_jpg.rf.ac5826a32bae7552d6de02506b2320a8.jpg: 640x640 2 cars, 1 solid-yellow-line, 6.8ms\nimage 570/1006 /kaggle/working/Road-Lines-Segmentation-3-2/test/images/front-left-NO20240903-145441-000848F_MP4-0151_jpg.rf.7c3eab4aca9ed384e808a784a9f5586c.jpg: 640x640 2 cars, 1 solid-yellow-line, 6.9ms\nimage 571/1006 /kaggle/working/Road-Lines-Segmentation-3-2/test/images/front-left-NO20240903-145441-000848F_MP4-0152_jpg.rf.f2da4c3e0d859302295d45a1b4595936.jpg: 640x640 2 cars, 1 solid-yellow-line, 6.9ms\nimage 572/1006 /kaggle/working/Road-Lines-Segmentation-3-2/test/images/front-left-NO20240903-145441-000848F_MP4-0153_jpg.rf.a1070ce87b3d21f9919b2e9e6af666e4.jpg: 640x640 2 cars, 1 solid-yellow-line, 7.9ms\nimage 573/1006 /kaggle/working/Road-Lines-Segmentation-3-2/test/images/front-left-NO20240903-145441-000848F_MP4-0154_jpg.rf.d97f0b267328b460eb83bc32980abf8d.jpg: 640x640 2 cars, 1 solid-yellow-line, 7.1ms\nimage 574/1006 /kaggle/working/Road-Lines-Segmentation-3-2/test/images/front-left-NO20240903-145441-000848F_MP4-0155_jpg.rf.2265d56886bf9869d0a9b2593d6087dd.jpg: 640x640 2 cars, 1 solid-yellow-line, 7.1ms\nimage 575/1006 /kaggle/working/Road-Lines-Segmentation-3-2/test/images/front-left-NO20240903-145441-000848F_MP4-0156_jpg.rf.b46eddff17d0c33a200445e898b192f6.jpg: 640x640 2 cars, 1 solid-yellow-line, 7.0ms\nimage 576/1006 /kaggle/working/Road-Lines-Segmentation-3-2/test/images/front-left-NO20240903-145441-000848F_MP4-0157_jpg.rf.79517c048bafa9636cad3b5bc4855aab.jpg: 640x640 2 cars, 1 solid-yellow-line, 7.7ms\nimage 577/1006 /kaggle/working/Road-Lines-Segmentation-3-2/test/images/front-left-NO20240903-145441-000848F_MP4-0158_jpg.rf.4ad32d12f10300c5f0fade49d2f311ff.jpg: 640x640 2 cars, 1 solid-yellow-line, 7.2ms\nimage 578/1006 /kaggle/working/Road-Lines-Segmentation-3-2/test/images/front-left-NO20240903-145441-000848F_MP4-0159_jpg.rf.08b11018d455f747c3078eb06522c433.jpg: 640x640 2 cars, 1 solid-yellow-line, 7.0ms\nimage 579/1006 /kaggle/working/Road-Lines-Segmentation-3-2/test/images/front-left-NO20240903-145441-000848F_MP4-0160_jpg.rf.a8390dff938c4ac02571cfd1abd2fe0d.jpg: 640x640 2 cars, 1 solid-yellow-line, 7.0ms\nimage 580/1006 /kaggle/working/Road-Lines-Segmentation-3-2/test/images/front-left-NO20240903-145441-000848F_MP4-0161_jpg.rf.d16d6c0703a6f043e741b435114696da.jpg: 640x640 2 cars, 1 solid-yellow-line, 7.6ms\nimage 581/1006 /kaggle/working/Road-Lines-Segmentation-3-2/test/images/front-left-NO20240903-145441-000848F_MP4-0162_jpg.rf.1dc5a6d99dcd524313982d826d8955fe.jpg: 640x640 2 cars, 1 solid-yellow-line, 7.0ms\nimage 582/1006 /kaggle/working/Road-Lines-Segmentation-3-2/test/images/front-left-NO20240903-145441-000848F_MP4-0163_jpg.rf.c545b2a6228253837080f0148c2ed2d2.jpg: 640x640 2 cars, 1 solid-yellow-line, 7.0ms\nimage 583/1006 /kaggle/working/Road-Lines-Segmentation-3-2/test/images/front-left-NO20240903-145441-000848F_MP4-0165_jpg.rf.6ee5974b20ace5aa5d5b4af62808ae1d.jpg: 640x640 2 cars, 1 solid-yellow-line, 7.2ms\nimage 584/1006 /kaggle/working/Road-Lines-Segmentation-3-2/test/images/front-left-NO20240903-145441-000848F_MP4-0166_jpg.rf.25d8c1004988043d53cbcc60a65466ea.jpg: 640x640 2 cars, 1 solid-yellow-line, 7.1ms\nimage 585/1006 /kaggle/working/Road-Lines-Segmentation-3-2/test/images/front-left-NO20240903-145441-000848F_MP4-0167_jpg.rf.a77f70787afdd3b8f94f67f6ad95e0a3.jpg: 640x640 3 cars, 1 solid-yellow-line, 7.1ms\nimage 586/1006 /kaggle/working/Road-Lines-Segmentation-3-2/test/images/front-left-NO20240903-145441-000848F_MP4-0168_jpg.rf.53f80e3a01f6475d1b135be2912c77e7.jpg: 640x640 2 cars, 1 solid-yellow-line, 7.1ms\nimage 587/1006 /kaggle/working/Road-Lines-Segmentation-3-2/test/images/front-left-NO20240903-145441-000848F_MP4-0169_jpg.rf.ba582b44ffc1d5d4b63cd5507a914777.jpg: 640x640 3 cars, 1 solid-yellow-line, 7.1ms\nimage 588/1006 /kaggle/working/Road-Lines-Segmentation-3-2/test/images/front-left-NO20240903-145441-000848F_MP4-0170_jpg.rf.602a633bb76590e0a874422f26a9faad.jpg: 640x640 3 cars, 1 solid-yellow-line, 7.1ms\nimage 589/1006 /kaggle/working/Road-Lines-Segmentation-3-2/test/images/front-left-NO20240903-145441-000848F_MP4-0171_jpg.rf.9e731021c94dc3dd928bb1f274ee1fa6.jpg: 640x640 2 cars, 1 solid-yellow-line, 7.0ms\nimage 590/1006 /kaggle/working/Road-Lines-Segmentation-3-2/test/images/front-left-NO20240903-145441-000848F_MP4-0172_jpg.rf.e837c22697f6fbc117d790c1c5e3fbff.jpg: 640x640 2 cars, 1 solid-yellow-line, 7.3ms\nimage 591/1006 /kaggle/working/Road-Lines-Segmentation-3-2/test/images/front-left-NO20240903-145441-000848F_MP4-0173_jpg.rf.46fa4245db067fbd4bdbed18366ef968.jpg: 640x640 3 cars, 1 solid-yellow-line, 7.1ms\nimage 592/1006 /kaggle/working/Road-Lines-Segmentation-3-2/test/images/front-left-NO20240903-145441-000848F_MP4-0174_jpg.rf.d9515bcdc325ad72d817aae5b94cea7b.jpg: 640x640 2 cars, 1 solid-yellow-line, 7.3ms\nimage 593/1006 /kaggle/working/Road-Lines-Segmentation-3-2/test/images/front-left-NO20240903-145441-000848F_MP4-0175_jpg.rf.75061e778a81ed565c6120a5e732bf8f.jpg: 640x640 2 cars, 1 solid-yellow-line, 7.2ms\nimage 594/1006 /kaggle/working/Road-Lines-Segmentation-3-2/test/images/front-left-NO20240903-145441-000848F_MP4-0176_jpg.rf.6c62727b8e661b5fc83b2ef7e63232b6.jpg: 640x640 2 cars, 1 solid-yellow-line, 7.1ms\nimage 595/1006 /kaggle/working/Road-Lines-Segmentation-3-2/test/images/front-left-NO20240903-145441-000848F_MP4-0177_jpg.rf.0b26ac79bf220654263e4dd556eb338a.jpg: 640x640 2 cars, 1 solid-yellow-line, 7.1ms\nimage 596/1006 /kaggle/working/Road-Lines-Segmentation-3-2/test/images/front-left-NO20240903-145441-000848F_MP4-0178_jpg.rf.3cc586939ad85acb61f4da5279262be8.jpg: 640x640 2 cars, 1 solid-yellow-line, 7.1ms\nimage 597/1006 /kaggle/working/Road-Lines-Segmentation-3-2/test/images/front-left-NO20240903-145441-000848F_MP4-0179_jpg.rf.adefa9d72412f5bb2917271cb1fbb6a6.jpg: 640x640 2 cars, 1 solid-yellow-line, 7.3ms\nimage 598/1006 /kaggle/working/Road-Lines-Segmentation-3-2/test/images/front-left-NO20240903-145441-000848F_MP4-0180_jpg.rf.cc0a7efdcd16e6b159e1bb89999170c9.jpg: 640x640 3 cars, 1 solid-yellow-line, 7.1ms\nimage 599/1006 /kaggle/working/Road-Lines-Segmentation-3-2/test/images/front-left-NO20240903-145441-000848F_MP4-0182_jpg.rf.142dca26e3cdf30d27ecab7d8e07b7b3.jpg: 640x640 3 cars, 1 solid-yellow-line, 7.2ms\nimage 600/1006 /kaggle/working/Road-Lines-Segmentation-3-2/test/images/front-left-NO20240903-145441-000848F_MP4-0183_jpg.rf.6774b7fb6bc384e64cc4015d2d8d5818.jpg: 640x640 2 cars, 1 solid-yellow-line, 7.2ms\nimage 601/1006 /kaggle/working/Road-Lines-Segmentation-3-2/test/images/front-left-NO20240903-145441-000848F_MP4-0184_jpg.rf.53c2be385a807043228546113a4099d6.jpg: 640x640 3 cars, 1 solid-yellow-line, 7.4ms\nimage 602/1006 /kaggle/working/Road-Lines-Segmentation-3-2/test/images/front-left-NO20240903-145441-000848F_MP4-0186_jpg.rf.52230309ffa512470a960b0bedd4e049.jpg: 640x640 3 cars, 1 solid-yellow-line, 7.1ms\nimage 603/1006 /kaggle/working/Road-Lines-Segmentation-3-2/test/images/front-left-NO20240903-145441-000848F_MP4-0187_jpg.rf.2ea0522a76a247245995858a9a6a22d3.jpg: 640x640 4 cars, 1 solid-yellow-line, 7.2ms\nimage 604/1006 /kaggle/working/Road-Lines-Segmentation-3-2/test/images/front-left-NO20240903-145441-000848F_MP4-0188_jpg.rf.94f2f107906ac3453eb7b91559041506.jpg: 640x640 4 cars, 1 solid-yellow-line, 7.1ms\nimage 605/1006 /kaggle/working/Road-Lines-Segmentation-3-2/test/images/front-left-NO20240903-145441-000848F_MP4-0189_jpg.rf.31ef4dedde8ea93cd138e90c3c4c5a11.jpg: 640x640 4 cars, 1 solid-yellow-line, 7.5ms\nimage 606/1006 /kaggle/working/Road-Lines-Segmentation-3-2/test/images/front-left-NO20240903-145441-000848F_MP4-0190_jpg.rf.b57d4b85a1a7ed666279c4c418ca5d2d.jpg: 640x640 4 cars, 1 solid-yellow-line, 7.1ms\nimage 607/1006 /kaggle/working/Road-Lines-Segmentation-3-2/test/images/front-left-NO20240903-145441-000848F_MP4-0191_jpg.rf.8741aca481459c0b5939ec142434427f.jpg: 640x640 4 cars, 1 solid-yellow-line, 7.0ms\nimage 608/1006 /kaggle/working/Road-Lines-Segmentation-3-2/test/images/front-left-NO20240903-145441-000848F_MP4-0192_jpg.rf.3ecb47a1a2c97545aeee1dae3ff1b20a.jpg: 640x640 4 cars, 1 solid-yellow-line, 7.4ms\nimage 609/1006 /kaggle/working/Road-Lines-Segmentation-3-2/test/images/front-left-NO20240903-145441-000848F_MP4-0193_jpg.rf.83a33558553b8e7b49c286cbfbb4b4b3.jpg: 640x640 4 cars, 1 solid-yellow-line, 7.7ms\nimage 610/1006 /kaggle/working/Road-Lines-Segmentation-3-2/test/images/front-left-NO20240903-145441-000848F_MP4-0195_jpg.rf.77fcda8f2745840098513443e9c71b93.jpg: 640x640 4 cars, 2 solid-yellow-lines, 7.3ms\nimage 611/1006 /kaggle/working/Road-Lines-Segmentation-3-2/test/images/front-left-NO20240903-145441-000848F_MP4-0196_jpg.rf.6565cf2d6ea9be990b7b628d9a8787b4.jpg: 640x640 4 cars, 1 solid-yellow-line, 7.0ms\nimage 612/1006 /kaggle/working/Road-Lines-Segmentation-3-2/test/images/front-left-NO20240903-145441-000848F_MP4-0197_jpg.rf.7c3ed9b0ef26625612301acd35a32bdb.jpg: 640x640 4 cars, 1 solid-yellow-line, 6.8ms\nimage 613/1006 /kaggle/working/Road-Lines-Segmentation-3-2/test/images/front-left-NO20240903-145441-000848F_MP4-0198_jpg.rf.b0b9d266a2a86446c7a8ff3b8da2e230.jpg: 640x640 4 cars, 1 solid-yellow-line, 7.1ms\nimage 614/1006 /kaggle/working/Road-Lines-Segmentation-3-2/test/images/front-left-NO20240903-145441-000848F_MP4-0200_jpg.rf.01059bf5be8a0887eb008b31cea40457.jpg: 640x640 3 cars, 2 solid-yellow-lines, 7.2ms\nimage 615/1006 /kaggle/working/Road-Lines-Segmentation-3-2/test/images/front-left-NO20240903-145441-000848F_MP4-0201_jpg.rf.914fe5717c59f202658ec77e5247ca47.jpg: 640x640 3 cars, 1 solid-yellow-line, 7.1ms\nimage 616/1006 /kaggle/working/Road-Lines-Segmentation-3-2/test/images/front-left-NO20240903-145441-000848F_MP4-0202_jpg.rf.c37c04e4a07511aea7af7e34f4bdbdbf.jpg: 640x640 3 cars, 1 solid-yellow-line, 7.0ms\nimage 617/1006 /kaggle/working/Road-Lines-Segmentation-3-2/test/images/front-left-NO20240903-145441-000848F_MP4-0203_jpg.rf.b02b1d57d46c55dffa2c107d59112204.jpg: 640x640 3 cars, 1 solid-yellow-line, 7.4ms\nimage 618/1006 /kaggle/working/Road-Lines-Segmentation-3-2/test/images/front-left-NO20240903-145441-000848F_MP4-0204_jpg.rf.514a80efebe39a942819e301b74012e6.jpg: 640x640 3 cars, 1 solid-yellow-line, 7.1ms\nimage 619/1006 /kaggle/working/Road-Lines-Segmentation-3-2/test/images/front-left-NO20240903-145441-000848F_MP4-0205_jpg.rf.34ebf25c57c6ee31244abc4e3c7a4d21.jpg: 640x640 3 cars, 1 solid-yellow-line, 7.1ms\nimage 620/1006 /kaggle/working/Road-Lines-Segmentation-3-2/test/images/front-left-NO20240903-145441-000848F_MP4-0206_jpg.rf.b87c94863187be6ad5977869d4bbfc44.jpg: 640x640 3 cars, 1 solid-yellow-line, 7.1ms\nimage 621/1006 /kaggle/working/Road-Lines-Segmentation-3-2/test/images/front-left-NO20240903-145441-000848F_MP4-0207_jpg.rf.c4150a4636a60e5b50746ba0f9461421.jpg: 640x640 3 cars, 1 solid-yellow-line, 7.2ms\nimage 622/1006 /kaggle/working/Road-Lines-Segmentation-3-2/test/images/front-left-NO20240903-145441-000848F_MP4-0208_jpg.rf.5e02be7cd60b166cbd9f02b234b59677.jpg: 640x640 3 cars, 1 solid-yellow-line, 7.0ms\nimage 623/1006 /kaggle/working/Road-Lines-Segmentation-3-2/test/images/front-left-NO20240903-145441-000848F_MP4-0209_jpg.rf.41f5f28841b177c534b9201b93125601.jpg: 640x640 3 cars, 1 solid-yellow-line, 7.0ms\nimage 624/1006 /kaggle/working/Road-Lines-Segmentation-3-2/test/images/front-left-NO20240903-145441-000848F_MP4-0210_jpg.rf.9528b4c05eb22ca96ddbcccd19fdb6c5.jpg: 640x640 3 cars, 1 solid-yellow-line, 7.2ms\nimage 625/1006 /kaggle/working/Road-Lines-Segmentation-3-2/test/images/front-left-NO20240903-145441-000848F_MP4-0211_jpg.rf.a456807c93c67f0fbac61d1e96b2bb59.jpg: 640x640 3 cars, 1 solid-yellow-line, 7.1ms\nimage 626/1006 /kaggle/working/Road-Lines-Segmentation-3-2/test/images/front-left-NO20240903-145441-000848F_MP4-0212_jpg.rf.3186317859e366b794aad5c4187357c5.jpg: 640x640 3 cars, 1 solid-yellow-line, 7.0ms\nimage 627/1006 /kaggle/working/Road-Lines-Segmentation-3-2/test/images/front-left-NO20240903-145441-000848F_MP4-0213_jpg.rf.5e22226b949e1b1f7eb34bde74d7b0d5.jpg: 640x640 3 cars, 1 solid-yellow-line, 7.1ms\nimage 628/1006 /kaggle/working/Road-Lines-Segmentation-3-2/test/images/front-left-NO20240903-145441-000848F_MP4-0214_jpg.rf.bc93e65cd69465b7ac1b54b39ffbcf7c.jpg: 640x640 3 cars, 1 solid-yellow-line, 7.1ms\nimage 629/1006 /kaggle/working/Road-Lines-Segmentation-3-2/test/images/front-left-NO20240903-145441-000848F_MP4-0215_jpg.rf.43679e2695418bb2cba53a589cf1fe50.jpg: 640x640 3 cars, 1 solid-yellow-line, 7.1ms\nimage 630/1006 /kaggle/working/Road-Lines-Segmentation-3-2/test/images/front-left-NO20240903-145441-000848F_MP4-0216_jpg.rf.77033508656bc3125ededf937e2e9321.jpg: 640x640 3 cars, 1 solid-yellow-line, 7.2ms\nimage 631/1006 /kaggle/working/Road-Lines-Segmentation-3-2/test/images/front-left-NO20240903-145441-000848F_MP4-0218_jpg.rf.345ff004de2c8728404fa9512027903b.jpg: 640x640 3 cars, 1 solid-yellow-line, 7.2ms\nimage 632/1006 /kaggle/working/Road-Lines-Segmentation-3-2/test/images/front-left-NO20240903-145441-000848F_MP4-0219_jpg.rf.3a4a3544eefb89fea9cb4e1a413d9eab.jpg: 640x640 4 cars, 1 solid-yellow-line, 8.3ms\nimage 633/1006 /kaggle/working/Road-Lines-Segmentation-3-2/test/images/front-left-NO20240903-145441-000848F_MP4-0220_jpg.rf.6dd6946c002b823bbb5ef0945de5acb3.jpg: 640x640 3 cars, 1 solid-yellow-line, 7.1ms\nimage 634/1006 /kaggle/working/Road-Lines-Segmentation-3-2/test/images/front-left-NO20240903-145441-000848F_MP4-0221_jpg.rf.20ade8a5fa3eb879944249fb82dc7081.jpg: 640x640 4 cars, 2 solid-yellow-lines, 7.0ms\nimage 635/1006 /kaggle/working/Road-Lines-Segmentation-3-2/test/images/front-left-NO20240903-145441-000848F_MP4-0222_jpg.rf.8479e068c8ad7c240342078fc8859b73.jpg: 640x640 3 cars, 1 solid-yellow-line, 7.0ms\nimage 636/1006 /kaggle/working/Road-Lines-Segmentation-3-2/test/images/front-left-NO20240903-145441-000848F_MP4-0224_jpg.rf.534776fdd955904a4929abfd99f06cbf.jpg: 640x640 4 cars, 1 solid-yellow-line, 7.0ms\nimage 637/1006 /kaggle/working/Road-Lines-Segmentation-3-2/test/images/front-left-NO20240903-145441-000848F_MP4-0228_jpg.rf.92e0f8ea3d48575fdbfa2322b3683d22.jpg: 640x640 4 cars, 1 solid-yellow-line, 7.0ms\nimage 638/1006 /kaggle/working/Road-Lines-Segmentation-3-2/test/images/front-left-NO20240903-145441-000848F_MP4-0231_jpg.rf.905d0a76919ece957122ed1bfb951c01.jpg: 640x640 3 cars, 1 license_plate, 1 solid-yellow-line, 7.2ms\nimage 639/1006 /kaggle/working/Road-Lines-Segmentation-3-2/test/images/front-left-NO20240903-145441-000848F_MP4-0232_jpg.rf.1b756b92526bd34682a69911b15bc264.jpg: 640x640 3 cars, 1 license_plate, 1 solid-yellow-line, 7.0ms\nimage 640/1006 /kaggle/working/Road-Lines-Segmentation-3-2/test/images/front-left-NO20240903-145441-000848F_MP4-0233_jpg.rf.c2f66f63ea4d809645b600a8b432d4bc.jpg: 640x640 3 cars, 1 license_plate, 1 solid-yellow-line, 7.2ms\nimage 641/1006 /kaggle/working/Road-Lines-Segmentation-3-2/test/images/front-left-NO20240903-145441-000848F_MP4-0234_jpg.rf.ef61bf311f4444bcd94304ef795e05aa.jpg: 640x640 3 cars, 1 license_plate, 1 solid-yellow-line, 7.1ms\nimage 642/1006 /kaggle/working/Road-Lines-Segmentation-3-2/test/images/front-left-NO20240903-145441-000848F_MP4-0236_jpg.rf.2d1718eca4cbb6628271f69227335278.jpg: 640x640 3 cars, 1 license_plate, 1 solid-yellow-line, 7.0ms\nimage 643/1006 /kaggle/working/Road-Lines-Segmentation-3-2/test/images/front-left-NO20240903-145441-000848F_MP4-0237_jpg.rf.f9b53c4d40724264748e6d2ea331475c.jpg: 640x640 3 cars, 1 solid-yellow-line, 6.8ms\nimage 644/1006 /kaggle/working/Road-Lines-Segmentation-3-2/test/images/front-left-NO20240903-145441-000848F_MP4-0238_jpg.rf.4776a669c6e7f1336cd871b6fd8afc87.jpg: 640x640 3 cars, 1 solid-yellow-line, 7.2ms\nimage 645/1006 /kaggle/working/Road-Lines-Segmentation-3-2/test/images/front-left-NO20240903-145441-000848F_MP4-0239_jpg.rf.9a2e3e77df8ef6bb682784258a2194c4.jpg: 640x640 3 cars, 1 solid-yellow-line, 7.1ms\nimage 646/1006 /kaggle/working/Road-Lines-Segmentation-3-2/test/images/front-left-NO20240903-145441-000848F_MP4-0241_jpg.rf.49cf9d7a8e9bca5cb501b606b1a71747.jpg: 640x640 4 cars, 1 solid-yellow-line, 7.0ms\nimage 647/1006 /kaggle/working/Road-Lines-Segmentation-3-2/test/images/front-left-NO20240903-145441-000848F_MP4-0243_jpg.rf.ed9d72170abf2ea7b9ae88fba5e25c5d.jpg: 640x640 4 cars, 1 solid-yellow-line, 7.0ms\nimage 648/1006 /kaggle/working/Road-Lines-Segmentation-3-2/test/images/front-left-NO20240903-145441-000848F_MP4-0244_jpg.rf.561e9e12425166dc085399761596a741.jpg: 640x640 3 cars, 1 solid-yellow-line, 7.3ms\nimage 649/1006 /kaggle/working/Road-Lines-Segmentation-3-2/test/images/front-left-NO20240903-145441-000848F_MP4-0246_jpg.rf.034ffe03502a4812a6fcc3785732d3cd.jpg: 640x640 3 cars, 1 solid-yellow-line, 7.1ms\nimage 650/1006 /kaggle/working/Road-Lines-Segmentation-3-2/test/images/front-left-NO20240903-145441-000848F_MP4-0251_jpg.rf.59aab90903ac19bcc76c929c33f30674.jpg: 640x640 4 cars, 1 solid-yellow-line, 7.1ms\nimage 651/1006 /kaggle/working/Road-Lines-Segmentation-3-2/test/images/front-left-NO20240903-145441-000848F_MP4-0256_jpg.rf.1e3bae6f3aadff6b5496368dec7ea326.jpg: 640x640 5 cars, 1 solid-yellow-line, 7.0ms\nimage 652/1006 /kaggle/working/Road-Lines-Segmentation-3-2/test/images/front-left-NO20240903-145441-000848F_MP4-0260_jpg.rf.48cefbb90760e89763f46195bf8fe515.jpg: 640x640 4 cars, 1 solid-yellow-line, 7.4ms\nimage 653/1006 /kaggle/working/Road-Lines-Segmentation-3-2/test/images/front-left-NO20240903-145441-000848F_MP4-0264_jpg.rf.2336ebdcb2713e1c0e874be521029117.jpg: 640x640 4 cars, 1 solid-yellow-line, 7.1ms\nimage 654/1006 /kaggle/working/Road-Lines-Segmentation-3-2/test/images/front-left-NO20240903-145441-000848F_MP4-0268_jpg.rf.f53df49d34bcfd32db72265aeec75bf3.jpg: 640x640 4 cars, 1 solid-yellow-line, 7.0ms\nimage 655/1006 /kaggle/working/Road-Lines-Segmentation-3-2/test/images/front-left-NO20240903-145441-000848F_MP4-0271_jpg.rf.5310525e4089c3ca968f92a15426e00c.jpg: 640x640 4 cars, 1 solid-yellow-line, 7.2ms\nimage 656/1006 /kaggle/working/Road-Lines-Segmentation-3-2/test/images/front-left-NO20240903-145441-000848F_MP4-0279_jpg.rf.348ad3be2647f5a28db128bf672d95d6.jpg: 640x640 5 cars, 1 solid-yellow-line, 7.3ms\nimage 657/1006 /kaggle/working/Road-Lines-Segmentation-3-2/test/images/front-left-NO20240903-145441-000848F_MP4-0282_jpg.rf.b6b8a1a6c50a988dd2bfe2730ff7a258.jpg: 640x640 5 cars, 1 solid-yellow-line, 7.0ms\nimage 658/1006 /kaggle/working/Road-Lines-Segmentation-3-2/test/images/front-left-NO20240903-145541-000849F_MP4-0105_jpg.rf.32823b3997367a7fe68a27291948b4e9.jpg: 640x640 1 car, 1 solid-yellow-line, 6.9ms\nimage 659/1006 /kaggle/working/Road-Lines-Segmentation-3-2/test/images/front-left-NO20240903-145541-000849F_MP4-0243_jpg.rf.49f5ac5c839a0c964874229c2c7db53a.jpg: 640x640 2 cars, 1 solid-yellow-line, 6.8ms\nimage 660/1006 /kaggle/working/Road-Lines-Segmentation-3-2/test/images/front-left-NO20240903-145541-000849F_MP4-0264_jpg.rf.a9e5d444e285580c21f7520ab6f5c646.jpg: 640x640 1 solid-yellow-line, 6.9ms\nimage 661/1006 /kaggle/working/Road-Lines-Segmentation-3-2/test/images/front-left-NO20240903-145541-000849F_MP4-0284_jpg.rf.aa0acf6c522c3dd07857cbe14ebcce58.jpg: 640x640 1 car, 1 solid-yellow-line, 6.8ms\nimage 662/1006 /kaggle/working/Road-Lines-Segmentation-3-2/test/images/front-left-NO20240903-150741-000861F_MP4-0042_jpg.rf.fdbb6be5ce57561736fe348328ee567a.jpg: 640x640 3 cars, 1 license_plate, 2 solid-yellow-lines, 7.0ms\nimage 663/1006 /kaggle/working/Road-Lines-Segmentation-3-2/test/images/front-left-NO20240903-150741-000861F_MP4-0235_jpg.rf.fe844b9c3c6b8dff2660951dc7d30fc5.jpg: 640x640 4 cars, 1 solid-yellow-line, 6.9ms\nimage 664/1006 /kaggle/working/Road-Lines-Segmentation-3-2/test/images/front-left-NO20240903-152241-000876F_MP4-0017_jpg.rf.b8bb23dab696eff224734ddcfd57e90d.jpg: 640x640 5 cars, 1 solid-yellow-line, 7.2ms\nimage 665/1006 /kaggle/working/Road-Lines-Segmentation-3-2/test/images/front-left-NO20240903-152241-000876F_MP4-0032_jpg.rf.eb8728afb26561cf3165080fccf26a43.jpg: 640x640 5 cars, 1 solid-yellow-line, 6.9ms\nimage 666/1006 /kaggle/working/Road-Lines-Segmentation-3-2/test/images/front-left-NO20240903-152241-000876F_MP4-0056_jpg.rf.c5da3ea521409bfbc1bcb02888e1c77c.jpg: 640x640 4 cars, 1 solid-yellow-line, 7.0ms\nimage 667/1006 /kaggle/working/Road-Lines-Segmentation-3-2/test/images/front-left-NO20240903-152241-000876F_MP4-0109_jpg.rf.886ef5cd392ae73b5762d1f50d5470f1.jpg: 640x640 3 cars, 1 solid-yellow-line, 6.8ms\nimage 668/1006 /kaggle/working/Road-Lines-Segmentation-3-2/test/images/front-left-NO20240903-152241-000876F_MP4-0114_jpg.rf.c8c18aa072409ca441a771113f58ddc2.jpg: 640x640 2 cars, 1 solid-yellow-line, 6.8ms\nimage 669/1006 /kaggle/working/Road-Lines-Segmentation-3-2/test/images/front-left-NO20240903-152241-000876F_MP4-0129_jpg.rf.4e7aacbf5f1efa7237945efe2baf45d9.jpg: 640x640 4 cars, 1 solid-yellow-line, 7.2ms\nimage 670/1006 /kaggle/working/Road-Lines-Segmentation-3-2/test/images/front-left-NO20240903-152241-000876F_MP4-0171_jpg.rf.3e5b97293b57dc3be1309138e34a52f9.jpg: 640x640 4 cars, 1 solid-yellow-line, 7.2ms\nimage 671/1006 /kaggle/working/Road-Lines-Segmentation-3-2/test/images/front-left-NO20240903-152241-000876F_MP4-0178_jpg.rf.c8e7890f939e37a3a91f713f0086f5e5.jpg: 640x640 3 cars, 1 solid-yellow-line, 7.5ms\nimage 672/1006 /kaggle/working/Road-Lines-Segmentation-3-2/test/images/front-left-NO20240903-152241-000876F_MP4-0261_jpg.rf.f8b72447b8dd474500a9f87c80b05118.jpg: 640x640 4 cars, 1 solid-yellow-line, 6.9ms\nimage 673/1006 /kaggle/working/Road-Lines-Segmentation-3-2/test/images/front-left-NO20240903-152241-000876F_MP4-0284_jpg.rf.45e6803798089b6f6ff1b4c44f54eb63.jpg: 640x640 4 cars, 1 solid-yellow-line, 7.0ms\nimage 674/1006 /kaggle/working/Road-Lines-Segmentation-3-2/test/images/front-left-NO20240908-145538-000141F_MP4-0032_jpg.rf.a7c3d2d0944fcdddee6346df7afa61fa.jpg: 640x640 3 cars, 1 solid-yellow-line, 7.0ms\nimage 675/1006 /kaggle/working/Road-Lines-Segmentation-3-2/test/images/front-left-NO20240908-145538-000141F_MP4-0074_jpg.rf.b14c53171162d3a44c69098375c039d4.jpg: 640x640 3 cars, 1 solid-yellow-line, 6.9ms\nimage 676/1006 /kaggle/working/Road-Lines-Segmentation-3-2/test/images/front-left-NO20240908-145538-000141F_MP4-0139_jpg.rf.d4fe241917c2eccfc5c6470f6d1febce.jpg: 640x640 3 cars, 1 solid-yellow-line, 7.0ms\nimage 677/1006 /kaggle/working/Road-Lines-Segmentation-3-2/test/images/front-left-NO20240908-145538-000141F_MP4-0230_jpg.rf.0fbebdb48204c4ba930be41a3d5eeefd.jpg: 640x640 2 cars, 1 solid-yellow-line, 7.0ms\nimage 678/1006 /kaggle/working/Road-Lines-Segmentation-3-2/test/images/front-left-NO20240908-145838-000144F_MP4-0001_jpg.rf.be91ffa799c9debef9145ab846701124.jpg: 640x640 4 cars, 1 solid-yellow-line, 6.7ms\nimage 679/1006 /kaggle/working/Road-Lines-Segmentation-3-2/test/images/front-left-NO20240908-145838-000144F_MP4-0041_jpg.rf.24c2cca37015d2b14e18553e4ee7ef5b.jpg: 640x640 5 cars, 1 solid-yellow-line, 7.0ms\nimage 680/1006 /kaggle/working/Road-Lines-Segmentation-3-2/test/images/front-left-NO20240908-145938-000145F_MP4-0043_jpg.rf.2c00c6d5c9bb1c4863c6511b5389b08f.jpg: 640x640 6 cars, 1 solid-yellow-line, 6.9ms\nimage 681/1006 /kaggle/working/Road-Lines-Segmentation-3-2/test/images/front-left-NO20240908-145938-000145F_MP4-0047_jpg.rf.b59ad7799f77fc1694dd4cfbcfecc098.jpg: 640x640 5 cars, 1 solid-yellow-line, 7.0ms\nimage 682/1006 /kaggle/working/Road-Lines-Segmentation-3-2/test/images/front-left-NO20240908-145938-000145F_MP4-0062_jpg.rf.e5d2e1b67641a54b927819af37003848.jpg: 640x640 4 cars, 1 solid-yellow-line, 6.9ms\nimage 683/1006 /kaggle/working/Road-Lines-Segmentation-3-2/test/images/front-left-NO20240908-150138-000147F_MP4-0019_jpg.rf.a42c79395e88cbbb8dc92c891cb35823.jpg: 640x640 1 car, 1 solid-yellow-line, 7.1ms\nimage 684/1006 /kaggle/working/Road-Lines-Segmentation-3-2/test/images/front-left-NO20240908-150138-000147F_MP4-0026_jpg.rf.c70c96bbea68679cd2c2335ad918aa91.jpg: 640x640 1 car, 1 solid-yellow-line, 7.2ms\nimage 685/1006 /kaggle/working/Road-Lines-Segmentation-3-2/test/images/front-left-NO20240908-150138-000147F_MP4-0153_jpg.rf.da465845d5abdcc3c110f31a16d3136f.jpg: 640x640 3 cars, 1 solid-yellow-line, 7.1ms\nimage 686/1006 /kaggle/working/Road-Lines-Segmentation-3-2/test/images/front-left-NO20240908-150138-000147F_MP4-0172_jpg.rf.33f3f4e105ecbf4e6bfa6773899a0d90.jpg: 640x640 2 cars, 1 solid-yellow-line, 6.9ms\nimage 687/1006 /kaggle/working/Road-Lines-Segmentation-3-2/test/images/front-left-NO20240908-150138-000147F_MP4-0183_jpg.rf.73e77afc4456babec348d3b1ec77ac62.jpg: 640x640 2 cars, 1 solid-yellow-line, 7.1ms\nimage 688/1006 /kaggle/working/Road-Lines-Segmentation-3-2/test/images/front-left-NO20240908-150138-000147F_MP4-0202_jpg.rf.15bddda87609240fd51408ddeeda34f5.jpg: 640x640 2 cars, 1 solid-yellow-line, 7.0ms\nimage 689/1006 /kaggle/working/Road-Lines-Segmentation-3-2/test/images/front-left-NO20240908-150438-000150F_MP4-0008_jpg.rf.e840bc2fa733a0bcf89998548e4910d0.jpg: 640x640 1 car, 1 solid-yellow-line, 7.1ms\nimage 690/1006 /kaggle/working/Road-Lines-Segmentation-3-2/test/images/front-left-NO20240909-143204-000337F_MP4-0004_jpg.rf.2014cffe62e17731af57a619cfcbbece.jpg: 640x640 1 car, 1 solid-yellow-line, 7.2ms\nimage 691/1006 /kaggle/working/Road-Lines-Segmentation-3-2/test/images/front-left-NO20240909-143204-000337F_MP4-0038_jpg.rf.08b94ea16781a71fdbbbe3e3ce64c380.jpg: 640x640 1 car, 1 solid-yellow-line, 7.1ms\nimage 692/1006 /kaggle/working/Road-Lines-Segmentation-3-2/test/images/front-left-NO20240909-143204-000337F_MP4-0074_jpg.rf.6f4fae5a02c1ecd2eb4202e5399ef6c6.jpg: 640x640 1 car, 1 solid-yellow-line, 7.0ms\nimage 693/1006 /kaggle/working/Road-Lines-Segmentation-3-2/test/images/front-left-NO20240909-143204-000337F_MP4-0108_jpg.rf.51e3b8565bb6df287c2098e32a41fd3e.jpg: 640x640 2 cars, 1 solid-yellow-line, 7.3ms\nimage 694/1006 /kaggle/working/Road-Lines-Segmentation-3-2/test/images/front-left-NO20240909-143204-000337F_MP4-0122_jpg.rf.b9e76c9ea32ec1783d580657f0a79b33.jpg: 640x640 2 cars, 1 solid-yellow-line, 7.2ms\nimage 695/1006 /kaggle/working/Road-Lines-Segmentation-3-2/test/images/front-left-NO20240909-143204-000337F_MP4-0133_jpg.rf.4c81e0472da09aeabf1574c1805abdf5.jpg: 640x640 3 cars, 1 solid-yellow-line, 7.3ms\nimage 696/1006 /kaggle/working/Road-Lines-Segmentation-3-2/test/images/front-left-NO20240909-143204-000337F_MP4-0164_jpg.rf.13bcd7f6e380c251b5b32e9d33344e44.jpg: 640x640 2 cars, 1 solid-yellow-line, 7.1ms\nimage 697/1006 /kaggle/working/Road-Lines-Segmentation-3-2/test/images/front-left-NO20240909-143204-000337F_MP4-0188_jpg.rf.ef38e500edc1ec15cde29721e4aa5c6a.jpg: 640x640 2 cars, 1 solid-yellow-line, 7.1ms\nimage 698/1006 /kaggle/working/Road-Lines-Segmentation-3-2/test/images/front-left-NO20240909-143204-000337F_MP4-0192_jpg.rf.c33e116a0c613927d112e47bbfedabe2.jpg: 640x640 3 cars, 1 solid-yellow-line, 9.1ms\nimage 699/1006 /kaggle/working/Road-Lines-Segmentation-3-2/test/images/front-left-NO20240909-143204-000337F_MP4-0196_jpg.rf.7668096a128e461693daa35eedcee544.jpg: 640x640 3 cars, 1 solid-yellow-line, 7.1ms\nimage 700/1006 /kaggle/working/Road-Lines-Segmentation-3-2/test/images/front-left-NO20240909-143204-000337F_MP4-0205_jpg.rf.da868ab1cd7d81692669f2d296f2e9e1.jpg: 640x640 2 cars, 1 solid-yellow-line, 7.0ms\nimage 701/1006 /kaggle/working/Road-Lines-Segmentation-3-2/test/images/front-left-NO20240909-143204-000337F_MP4-0216_jpg.rf.c1e16f60bbc2dc9d5f56d22a371aad9c.jpg: 640x640 1 car, 1 solid-yellow-line, 7.1ms\nimage 702/1006 /kaggle/working/Road-Lines-Segmentation-3-2/test/images/front-left-NO20240909-143204-000337F_MP4-0267_jpg.rf.c8ef5b25572d1f462bc10f2cae828981.jpg: 640x640 1 solid-yellow-line, 7.5ms\nimage 703/1006 /kaggle/working/Road-Lines-Segmentation-3-2/test/images/front-left-NO20240909-143304-000338F_MP4-0026_jpg.rf.7fd38d82ba393090a402bd0470c7e855.jpg: 640x640 1 car, 1 solid-yellow-line, 7.1ms\nimage 704/1006 /kaggle/working/Road-Lines-Segmentation-3-2/test/images/front-left-NO20240909-143304-000338F_MP4-0039_jpg.rf.bfad2a83660339cc7d6d6dfcba2ef5fb.jpg: 640x640 1 solid-yellow-line, 7.3ms\nimage 705/1006 /kaggle/working/Road-Lines-Segmentation-3-2/test/images/front-left-NO20240909-143304-000338F_MP4-0208_jpg.rf.b2816a4a9960353a04418e6c7204fc42.jpg: 640x640 1 car, 1 solid-yellow-line, 7.2ms\nimage 706/1006 /kaggle/working/Road-Lines-Segmentation-3-2/test/images/front-left-NO20240909-143304-000338F_MP4-0238_jpg.rf.fe98268f3e70eb3720d2126a1cf2c6b6.jpg: 640x640 2 cars, 1 solid-yellow-line, 7.5ms\nimage 707/1006 /kaggle/working/Road-Lines-Segmentation-3-2/test/images/front-left-NO20240909-143404-000339F_MP4-0048_jpg.rf.ac059b4643db237036ac08e2222d290e.jpg: 640x640 1 car, 1 solid-yellow-line, 7.0ms\nimage 708/1006 /kaggle/working/Road-Lines-Segmentation-3-2/test/images/front-left-NO20240909-143404-000339F_MP4-0102_jpg.rf.0139a65eb069cb47589f457359d69780.jpg: 640x640 2 cars, 1 solid-yellow-line, 7.1ms\nimage 709/1006 /kaggle/working/Road-Lines-Segmentation-3-2/test/images/front-left-NO20240909-143904-000344F_MP4-0047_jpg.rf.2b425df538b8ba55f014093e19e4bca7.jpg: 640x640 1 car, 1 solid-yellow-line, 7.1ms\nimage 710/1006 /kaggle/working/Road-Lines-Segmentation-3-2/test/images/front-left-NO20240909-143904-000344F_MP4-0133_jpg.rf.15905791f943d30f8aece48f0e153bc1.jpg: 640x640 1 solid-yellow-line, 7.3ms\nimage 711/1006 /kaggle/working/Road-Lines-Segmentation-3-2/test/images/front-left-NO20240909-143904-000344F_MP4-0192_jpg.rf.5e58acb1c2a3d564bb0c4d08581be77a.jpg: 640x640 1 solid-yellow-line, 7.1ms\nimage 712/1006 /kaggle/working/Road-Lines-Segmentation-3-2/test/images/front-left-NO20240909-143904-000344F_MP4-0193_jpg.rf.3f52373dfc4849b8a80e1c34b2b4b61b.jpg: 640x640 1 solid-yellow-line, 7.0ms\nimage 713/1006 /kaggle/working/Road-Lines-Segmentation-3-2/test/images/front-left-NO20240909-144004-000345F_MP4-0020_jpg.rf.14b766e722586d151e3a5013c7337b00.jpg: 640x640 1 solid-yellow-line, 7.3ms\nimage 714/1006 /kaggle/working/Road-Lines-Segmentation-3-2/test/images/front-left-NO20240909-144004-000345F_MP4-0051_jpg.rf.51824d8226d99ddf0a33a6c4834cf052.jpg: 640x640 1 solid-yellow-line, 7.2ms\nimage 715/1006 /kaggle/working/Road-Lines-Segmentation-3-2/test/images/front-left-NO20240909-144004-000345F_MP4-0112_jpg.rf.8430421b4f3ac2d6fcb77f5033d5e9a8.jpg: 640x640 1 car, 1 solid-yellow-line, 7.2ms\nimage 716/1006 /kaggle/working/Road-Lines-Segmentation-3-2/test/images/front-left-NO20240909-144004-000345F_MP4-0183_jpg.rf.830c09ccb69eacafb981477b7696550c.jpg: 640x640 2 cars, 1 solid-yellow-line, 7.1ms\nimage 717/1006 /kaggle/working/Road-Lines-Segmentation-3-2/test/images/front-left-NO20240909-144004-000345F_MP4-0244_jpg.rf.9ebfaa772d0505b916aa43384f309549.jpg: 640x640 1 car, 1 solid-yellow-line, 7.0ms\nimage 718/1006 /kaggle/working/Road-Lines-Segmentation-3-2/test/images/front-left-NO20240909-144004-000345F_MP4-0252_jpg.rf.76eb798969c800bc9de1069a55dac3ae.jpg: 640x640 1 solid-yellow-line, 6.9ms\nimage 719/1006 /kaggle/working/Road-Lines-Segmentation-3-2/test/images/front-left-NO20240909-144004-000345F_MP4-0265_jpg.rf.6be324155ac9f26dec0a8551d8df10b1.jpg: 640x640 1 car, 1 solid-yellow-line, 7.1ms\nimage 720/1006 /kaggle/working/Road-Lines-Segmentation-3-2/test/images/front-left-NO20240909-144104-000346F_MP4-0005_jpg.rf.ebd30a6a4ae35aa25f44fecb87362e0a.jpg: 640x640 1 car, 1 solid-yellow-line, 7.0ms\nimage 721/1006 /kaggle/working/Road-Lines-Segmentation-3-2/test/images/front-left-NO20240909-144104-000346F_MP4-0044_jpg.rf.46037c9c2c8f890a09f4678d88f85e0a.jpg: 640x640 1 solid-yellow-line, 7.1ms\nimage 722/1006 /kaggle/working/Road-Lines-Segmentation-3-2/test/images/front-left-NO20240909-144104-000346F_MP4-0080_jpg.rf.7707370c6d0f6e902c63c0b34f4c4c29.jpg: 640x640 1 solid-yellow-line, 7.1ms\nimage 723/1006 /kaggle/working/Road-Lines-Segmentation-3-2/test/images/front-left-NO20240909-144104-000346F_MP4-0122_jpg.rf.d361639cca4c799217e4a7b25a24dac6.jpg: 640x640 1 car, 1 solid-yellow-line, 7.2ms\nimage 724/1006 /kaggle/working/Road-Lines-Segmentation-3-2/test/images/front-left-NO20240909-144104-000346F_MP4-0131_jpg.rf.c4e6993e39e35b15a8a8792dd1fcbcbb.jpg: 640x640 1 car, 1 solid-yellow-line, 7.1ms\nimage 725/1006 /kaggle/working/Road-Lines-Segmentation-3-2/test/images/front-left-NO20240909-144104-000346F_MP4-0173_jpg.rf.7875d49209610176cb81562606921860.jpg: 640x640 2 cars, 1 solid-yellow-line, 7.2ms\nimage 726/1006 /kaggle/working/Road-Lines-Segmentation-3-2/test/images/front-left-NO20240909-144104-000346F_MP4-0178_jpg.rf.152abcfab6d8e5e021b91a0be749a335.jpg: 640x640 1 car, 1 solid-yellow-line, 7.2ms\nimage 727/1006 /kaggle/working/Road-Lines-Segmentation-3-2/test/images/front-left-NO20240909-144104-000346F_MP4-0179_jpg.rf.eabc65f05192a163c0430b753f8b4e8d.jpg: 640x640 1 car, 1 solid-yellow-line, 7.4ms\nimage 728/1006 /kaggle/working/Road-Lines-Segmentation-3-2/test/images/front-left-NO20240909-144104-000346F_MP4-0262_jpg.rf.eba89989dc57416564cfa4c4759a4316.jpg: 640x640 1 car, 1 solid-yellow-line, 7.2ms\nimage 729/1006 /kaggle/working/Road-Lines-Segmentation-3-2/test/images/front-left-NO20240909-144104-000346F_MP4-0271_jpg.rf.c387236a4a3f4dc604be907c2b8ddf6d.jpg: 640x640 1 car, 1 solid-yellow-line, 7.2ms\nimage 730/1006 /kaggle/working/Road-Lines-Segmentation-3-2/test/images/front-left-NO20240909-144404-000349F_MP4-0034_jpg.rf.745b6a27e5897dd90d224b012008aa68.jpg: 640x640 1 solid-yellow-line, 7.2ms\nimage 731/1006 /kaggle/working/Road-Lines-Segmentation-3-2/test/images/front-left-NO20240909-144404-000349F_MP4-0042_jpg.rf.c06e8b94617f133e1297c19b4ecbc677.jpg: 640x640 1 solid-yellow-line, 7.3ms\nimage 732/1006 /kaggle/working/Road-Lines-Segmentation-3-2/test/images/front-left-NO20240909-144404-000349F_MP4-0084_jpg.rf.a4f8198c186665cf5a7c0357b5d4b269.jpg: 640x640 1 solid-yellow-line, 7.2ms\nimage 733/1006 /kaggle/working/Road-Lines-Segmentation-3-2/test/images/front-left-NO20240909-144404-000349F_MP4-0101_jpg.rf.2a44a1ad288c7a052d145b070d9ee10c.jpg: 640x640 1 car, 1 solid-yellow-line, 7.0ms\nimage 734/1006 /kaggle/working/Road-Lines-Segmentation-3-2/test/images/front-left-NO20240909-144404-000349F_MP4-0164_jpg.rf.8274445f88981edf1a77de863954f142.jpg: 640x640 1 solid-yellow-line, 7.3ms\nimage 735/1006 /kaggle/working/Road-Lines-Segmentation-3-2/test/images/front-left-NO20240909-144404-000349F_MP4-0189_jpg.rf.700040fefefee5ac41c2e3eb667d03ca.jpg: 640x640 1 car, 1 solid-yellow-line, 7.4ms\nimage 736/1006 /kaggle/working/Road-Lines-Segmentation-3-2/test/images/front-left-NO20240909-144404-000349F_MP4-0224_jpg.rf.125ff3d5db164f997a98cc47b59bd6f6.jpg: 640x640 2 cars, 1 solid-yellow-line, 7.3ms\nimage 737/1006 /kaggle/working/Road-Lines-Segmentation-3-2/test/images/front-left-NO20240909-144404-000349F_MP4-0235_jpg.rf.e214fbc1ee221f89ce894b4ff52f5283.jpg: 640x640 2 cars, 1 solid-yellow-line, 7.1ms\nimage 738/1006 /kaggle/working/Road-Lines-Segmentation-3-2/test/images/front-left-NO20240909-144404-000349F_MP4-0255_jpg.rf.34d73e77e62eb659f9e5bcef0f0b0c04.jpg: 640x640 1 car, 1 solid-yellow-line, 7.3ms\nimage 739/1006 /kaggle/working/Road-Lines-Segmentation-3-2/test/images/front-left-NO20240909-144504-000350F_MP4-0019_jpg.rf.2c1a48c593604eb1ab4dbf30902d22bc.jpg: 640x640 1 car, 1 solid-yellow-line, 7.3ms\nimage 740/1006 /kaggle/working/Road-Lines-Segmentation-3-2/test/images/front-left-NO20240909-144504-000350F_MP4-0029_jpg.rf.4e3ce01998ba8d18bd9311b1c10a9b38.jpg: 640x640 1 car, 1 solid-yellow-line, 7.3ms\nimage 741/1006 /kaggle/working/Road-Lines-Segmentation-3-2/test/images/front-left-NO20240909-144504-000350F_MP4-0106_jpg.rf.016e34e34b524ec6d407d52b0ffd0306.jpg: 640x640 3 cars, 1 solid-yellow-line, 7.1ms\nimage 742/1006 /kaggle/working/Road-Lines-Segmentation-3-2/test/images/front-left-NO20240909-144504-000350F_MP4-0121_jpg.rf.dabfdc32acde30134a3dbd49f50ddfd8.jpg: 640x640 4 cars, 1 solid-yellow-line, 7.1ms\nimage 743/1006 /kaggle/working/Road-Lines-Segmentation-3-2/test/images/front-left-NO20240909-144504-000350F_MP4-0158_jpg.rf.33cc887a2c8415923b22ccb85238df35.jpg: 640x640 3 cars, 1 solid-yellow-line, 9.0ms\nimage 744/1006 /kaggle/working/Road-Lines-Segmentation-3-2/test/images/front-left-NO20240909-144504-000350F_MP4-0212_jpg.rf.13e176ab9b4d96dd426930049a0194e0.jpg: 640x640 2 cars, 1 solid-yellow-line, 7.5ms\nimage 745/1006 /kaggle/working/Road-Lines-Segmentation-3-2/test/images/front-left-NO20240909-144504-000350F_MP4-0213_jpg.rf.0261a9961db8d80237f0ef5f86b36155.jpg: 640x640 2 cars, 1 solid-yellow-line, 7.1ms\nimage 746/1006 /kaggle/working/Road-Lines-Segmentation-3-2/test/images/front-left-NO20240909-144504-000350F_MP4-0259_jpg.rf.31c7aacb62024d0574b0aa32001bcb63.jpg: 640x640 3 cars, 1 solid-yellow-line, 7.1ms\nimage 747/1006 /kaggle/working/Road-Lines-Segmentation-3-2/test/images/front-left-NO20240909-145604-000361F_MP4-0009_jpg.rf.3f11436d83b81500612ec5cca8c2d4fe.jpg: 640x640 2 cars, 1 solid-yellow-line, 7.6ms\nimage 748/1006 /kaggle/working/Road-Lines-Segmentation-3-2/test/images/front-left-NO20240909-145604-000361F_MP4-0039_jpg.rf.04877746d4a35ad8fc008cc9a006a592.jpg: 640x640 2 cars, 1 solid-yellow-line, 7.1ms\nimage 749/1006 /kaggle/working/Road-Lines-Segmentation-3-2/test/images/front-left-NO20240909-145604-000361F_MP4-0129_jpg.rf.bc5e65ef45c0d63b077e5b163157f60b.jpg: 640x640 3 cars, 1 solid-yellow-line, 7.1ms\nimage 750/1006 /kaggle/working/Road-Lines-Segmentation-3-2/test/images/front-left-NO20240909-145704-000362F_MP4-0021_jpg.rf.50ff7b12e0abc3844f77376521223dee.jpg: 640x640 2 cars, 1 solid-yellow-line, 7.1ms\nimage 751/1006 /kaggle/working/Road-Lines-Segmentation-3-2/test/images/front-left-NO20240909-145704-000362F_MP4-0060_jpg.rf.84b6b3847dc28d97a840968f711a1232.jpg: 640x640 4 cars, 1 solid-yellow-line, 7.3ms\nimage 752/1006 /kaggle/working/Road-Lines-Segmentation-3-2/test/images/front-left-NO20240909-145704-000362F_MP4-0119_jpg.rf.9528def32c2067c6335dbb62e905a091.jpg: 640x640 3 cars, 1 solid-yellow-line, 7.1ms\nimage 753/1006 /kaggle/working/Road-Lines-Segmentation-3-2/test/images/front-left-NO20240909-145704-000362F_MP4-0123_jpg.rf.eebb281ab37923d15d89215ee877326d.jpg: 640x640 3 cars, 1 solid-yellow-line, 7.1ms\nimage 754/1006 /kaggle/working/Road-Lines-Segmentation-3-2/test/images/front-left-NO20240909-145704-000362F_MP4-0175_jpg.rf.8bdc2fad5b63009f8162195efc795d60.jpg: 640x640 2 cars, 1 solid-yellow-line, 8.6ms\nimage 755/1006 /kaggle/working/Road-Lines-Segmentation-3-2/test/images/front-left-NO20240909-145704-000362F_MP4-0178_jpg.rf.52ba376de36383e350dad2950cda6408.jpg: 640x640 2 cars, 1 solid-yellow-line, 9.7ms\nimage 756/1006 /kaggle/working/Road-Lines-Segmentation-3-2/test/images/front-left-NO20240909-145804-000363F_MP4-0002_jpg.rf.46f33eb9476720ab55888305ce4a6a1c.jpg: 640x640 3 cars, 1 solid-yellow-line, 12.2ms\nimage 757/1006 /kaggle/working/Road-Lines-Segmentation-3-2/test/images/front-left-NO20240909-145904-000364F_MP4-0015_jpg.rf.e760d091066d7d99170b6533cd6e9a3b.jpg: 640x640 3 cars, 1 solid-yellow-line, 10.8ms\nimage 758/1006 /kaggle/working/Road-Lines-Segmentation-3-2/test/images/front-left-NO20240909-145904-000364F_MP4-0040_jpg.rf.af97fb9d7906393c9afa4981135da736.jpg: 640x640 2 cars, 1 solid-yellow-line, 7.5ms\nimage 759/1006 /kaggle/working/Road-Lines-Segmentation-3-2/test/images/front-left-NO20240909-145904-000364F_MP4-0140_jpg.rf.fe2e58913dba8acfa84cbc0da46e136b.jpg: 640x640 1 car, 1 solid-yellow-line, 7.0ms\nimage 760/1006 /kaggle/working/Road-Lines-Segmentation-3-2/test/images/front-left-NO20240909-145904-000364F_MP4-0159_jpg.rf.bdaebecbb6ce0ab16ab93e16e4f04b08.jpg: 640x640 2 cars, 1 solid-yellow-line, 7.1ms\nimage 761/1006 /kaggle/working/Road-Lines-Segmentation-3-2/test/images/front-left-NO20240909-150004-000365F_MP4-0019_jpg.rf.2ed6e74dc51e862f3cd12a8628820a00.jpg: 640x640 2 cars, 1 solid-yellow-line, 7.0ms\nimage 762/1006 /kaggle/working/Road-Lines-Segmentation-3-2/test/images/front-left-NO20240909-150004-000365F_MP4-0027_jpg.rf.6ebba1a751aeba4bd1a76574e13dedf7.jpg: 640x640 3 cars, 1 solid-yellow-line, 7.2ms\nimage 763/1006 /kaggle/working/Road-Lines-Segmentation-3-2/test/images/front-left-NO20240909-150004-000365F_MP4-0068_jpg.rf.475310b5f1c651e83ed4e6fc6565ef77.jpg: 640x640 3 cars, 1 solid-yellow-line, 7.0ms\nimage 764/1006 /kaggle/working/Road-Lines-Segmentation-3-2/test/images/front-left-NO20240909-150004-000365F_MP4-0146_jpg.rf.0b61f86106949b1eef8bcc7e4078b8c0.jpg: 640x640 2 cars, 1 solid-yellow-line, 7.2ms\nimage 765/1006 /kaggle/working/Road-Lines-Segmentation-3-2/test/images/front-left-NO20240909-150004-000365F_MP4-0164_jpg.rf.9166926750020b832da3025cc3867e4a.jpg: 640x640 2 cars, 1 solid-yellow-line, 7.2ms\nimage 766/1006 /kaggle/working/Road-Lines-Segmentation-3-2/test/images/front-left-NO20240909-150404-000369F_MP4-0134_jpg.rf.7e2cca5bacb984d0eeb3959be697b6d6.jpg: 640x640 4 cars, 1 solid-yellow-line, 7.1ms\nimage 767/1006 /kaggle/working/Road-Lines-Segmentation-3-2/test/images/front-left-NO20240909-150404-000369F_MP4-0238_jpg.rf.c18bc62f4bef8f814a57ed9449218979.jpg: 640x640 4 cars, 1 solid-yellow-line, 7.0ms\nimage 768/1006 /kaggle/working/Road-Lines-Segmentation-3-2/test/images/front-left-NO20240909-150404-000369F_MP4-0244_jpg.rf.eed9972cfba3f3d00a5118417da80042.jpg: 640x640 5 cars, 1 solid-yellow-line, 6.9ms\nimage 769/1006 /kaggle/working/Road-Lines-Segmentation-3-2/test/images/front-left-NO20240909-150404-000369F_MP4-0246_jpg.rf.8d5abd71516a25afa42f6be11769aa61.jpg: 640x640 5 cars, 1 solid-yellow-line, 7.3ms\nimage 770/1006 /kaggle/working/Road-Lines-Segmentation-3-2/test/images/front-left-NO20240909-150404-000369F_MP4-0288_jpg.rf.8444675635c01e09d0522d0b72cd4bad.jpg: 640x640 3 cars, 1 solid-yellow-line, 6.9ms\nimage 771/1006 /kaggle/working/Road-Lines-Segmentation-3-2/test/images/front-left-NO20240909-150504-000370F_MP4-0015_jpg.rf.0366efff1d7dda5ca5dcbd45ae3197d7.jpg: 640x640 4 cars, 1 solid-yellow-line, 6.9ms\nimage 772/1006 /kaggle/working/Road-Lines-Segmentation-3-2/test/images/front-left-NO20240909-150504-000370F_MP4-0027_jpg.rf.e7dc564e859e6561486551c4cecca329.jpg: 640x640 5 cars, 1 solid-yellow-line, 7.0ms\nimage 773/1006 /kaggle/working/Road-Lines-Segmentation-3-2/test/images/front-left-NO20240909-150504-000370F_MP4-0066_jpg.rf.3a610fb4783542c727140372304a5499.jpg: 640x640 4 cars, 1 solid-yellow-line, 7.0ms\nimage 774/1006 /kaggle/working/Road-Lines-Segmentation-3-2/test/images/front-left-NO20240909-150504-000370F_MP4-0105_jpg.rf.d022f9b73c5a88ec5b400d41072fb26c.jpg: 640x640 4 cars, 1 solid-yellow-line, 6.8ms\nimage 775/1006 /kaggle/working/Road-Lines-Segmentation-3-2/test/images/front-left-NO20240909-150504-000370F_MP4-0252_jpg.rf.f4dd0f71d75cf5e0c29881ac92fcce2b.jpg: 640x640 3 cars, 1 solid-yellow-line, 6.9ms\nimage 776/1006 /kaggle/working/Road-Lines-Segmentation-3-2/test/images/front-left-NO20240909-150504-000370F_MP4-0270_jpg.rf.6f7370aba4a00ff2b10eddc69b7ebde6.jpg: 640x640 4 cars, 1 solid-yellow-line, 7.0ms\nimage 777/1006 /kaggle/working/Road-Lines-Segmentation-3-2/test/images/front-left-NO20240909-151004-000375F_MP4-0014_jpg.rf.110523ebd87053ea54577e3f4fd86420.jpg: 640x640 1 car, 1 solid-yellow-line, 6.9ms\nimage 778/1006 /kaggle/working/Road-Lines-Segmentation-3-2/test/images/front-left-NO20240909-151004-000375F_MP4-0078_jpg.rf.b9add4774e905877f5609bbd0ecd2780.jpg: 640x640 2 cars, 1 solid-yellow-line, 6.9ms\nimage 779/1006 /kaggle/working/Road-Lines-Segmentation-3-2/test/images/front-left-NO20240909-151004-000375F_MP4-0126_jpg.rf.a721dc25928fbe79737e09eb494c8bfa.jpg: 640x640 1 car, 1 solid-yellow-line, 7.1ms\nimage 780/1006 /kaggle/working/Road-Lines-Segmentation-3-2/test/images/front-left-NO20240909-151004-000375F_MP4-0159_jpg.rf.39c842ade095a86b9caa589758609a89.jpg: 640x640 1 car, 1 solid-yellow-line, 6.9ms\nimage 781/1006 /kaggle/working/Road-Lines-Segmentation-3-2/test/images/front-left-NO20240909-151104-000376F_MP4-0029_jpg.rf.891fd4d441c4570b87c010d4f0d5c4f6.jpg: 640x640 2 cars, 1 solid-yellow-line, 6.8ms\nimage 782/1006 /kaggle/working/Road-Lines-Segmentation-3-2/test/images/front-left-NO20240909-151104-000376F_MP4-0171_jpg.rf.9ef63f65f0aa0f56f3964584d7a35f16.jpg: 640x640 2 cars, 1 solid-yellow-line, 7.0ms\nimage 783/1006 /kaggle/working/Road-Lines-Segmentation-3-2/test/images/front-left-NO20240910-060125-000073F_MP4-0152_jpg.rf.cb5000b0f531598b6a08d20132df4af1.jpg: 640x640 1 car, 1 solid-yellow-line, 7.2ms\nimage 784/1006 /kaggle/working/Road-Lines-Segmentation-3-2/test/images/front-left-NO20240910-060125-000073F_MP4-0209_jpg.rf.816ebb27ac5ac357d4d492fd88114a59.jpg: 640x640 1 solid-yellow-line, 7.3ms\nimage 785/1006 /kaggle/working/Road-Lines-Segmentation-3-2/test/images/front-left-NO20240910-060225-000074F_MP4-0135_jpg.rf.31476f725013e79ed472d24464aaf3a4.jpg: 640x640 4 cars, 1 solid-yellow-line, 7.2ms\nimage 786/1006 /kaggle/working/Road-Lines-Segmentation-3-2/test/images/front-left-NO20240910-060225-000074F_MP4-0293_jpg.rf.1899473bff6def1bda724697955cb9cd.jpg: 640x640 2 cars, 1 solid-yellow-line, 7.1ms\nimage 787/1006 /kaggle/working/Road-Lines-Segmentation-3-2/test/images/front-left-NO20240910-060325-000075F_MP4-0024_jpg.rf.de3a284ffee141413ac0cd9ab475b52e.jpg: 640x640 2 cars, 1 solid-yellow-line, 7.2ms\nimage 788/1006 /kaggle/working/Road-Lines-Segmentation-3-2/test/images/front-left-NO20240910-064125-000113F_MP4-0072_jpg.rf.6321c7986f3270f5ad555630d7b427bc.jpg: 640x640 3 cars, 1 solid-yellow-line, 7.0ms\nimage 789/1006 /kaggle/working/Road-Lines-Segmentation-3-2/test/images/front-left-NO20240910-064125-000113F_MP4-0173_jpg.rf.6e5167cecc3c8930c39919c034ee3161.jpg: 640x640 1 car, 1 solid-yellow-line, 7.2ms\nimage 790/1006 /kaggle/working/Road-Lines-Segmentation-3-2/test/images/front-left-NO20240910-064125-000113F_MP4-0179_jpg.rf.5a92d750dd513f4c97d1a6bff9af0bc3.jpg: 640x640 1 car, 1 solid-yellow-line, 7.2ms\nimage 791/1006 /kaggle/working/Road-Lines-Segmentation-3-2/test/images/front-left-NO20240910-064125-000113F_MP4-0222_jpg.rf.25c65a8a733995e3ffd81abb34f7857c.jpg: 640x640 2 cars, 1 solid-yellow-line, 7.2ms\nimage 792/1006 /kaggle/working/Road-Lines-Segmentation-3-2/test/images/front-left_MP4-0034_jpg.rf.047356d1de066ffa41bc546b15edfd43.jpg: 640x640 1 solid-yellow-line, 7.0ms\nimage 793/1006 /kaggle/working/Road-Lines-Segmentation-3-2/test/images/front-left_MP4-0068_jpg.rf.eb518f1a02fb1df1763758b1f44afc2c.jpg: 640x640 4 cars, 1 solid-yellow-line, 7.2ms\nimage 794/1006 /kaggle/working/Road-Lines-Segmentation-3-2/test/images/front-left_MP4-0081_jpg.rf.80260c8dc95801daea31809b1fbcf5d7.jpg: 640x640 3 cars, 7.2ms\nimage 795/1006 /kaggle/working/Road-Lines-Segmentation-3-2/test/images/front-left_MP4-0102_jpg.rf.414bdd8df7bf941129b36b198f8a4805.jpg: 640x640 2 cars, 1 solid-yellow-line, 7.3ms\nimage 796/1006 /kaggle/working/Road-Lines-Segmentation-3-2/test/images/front-left_MP4-0144_jpg.rf.ad21a862227291ef197733f1ddd83316.jpg: 640x640 3 cars, 1 solid-yellow-line, 7.0ms\nimage 797/1006 /kaggle/working/Road-Lines-Segmentation-3-2/test/images/front-left_MP4-0158_jpg.rf.f5ae98f837756cb6e2a0ceeafe5a13b3.jpg: 640x640 2 cars, 1 solid-yellow-line, 7.1ms\nimage 798/1006 /kaggle/working/Road-Lines-Segmentation-3-2/test/images/front-left_MP4-0178_jpg.rf.f88eddcc3e5d1081f8d76b10a4c95a5c.jpg: 640x640 2 cars, 1 solid-yellow-line, 6.9ms\nimage 799/1006 /kaggle/working/Road-Lines-Segmentation-3-2/test/images/front-left_MP4-0201_jpg.rf.f35e892a097f21642a331ab8ace78d54.jpg: 640x640 3 cars, 1 solid-yellow-line, 7.0ms\nimage 800/1006 /kaggle/working/Road-Lines-Segmentation-3-2/test/images/front-left_MP4-0202_jpg.rf.9dcdca26d67d650c7ec306c13a53320e.jpg: 640x640 2 cars, 1 solid-yellow-line, 7.1ms\nimage 801/1006 /kaggle/working/Road-Lines-Segmentation-3-2/test/images/front-left_MP4-0212_jpg.rf.6732b212e0371968d0bf80cfaa28e74f.jpg: 640x640 3 cars, 1 solid-yellow-line, 7.1ms\nimage 802/1006 /kaggle/working/Road-Lines-Segmentation-3-2/test/images/front-left_MP4-0214_jpg.rf.3d6e2ea62eb4405d4854cd6632579222.jpg: 640x640 2 cars, 1 solid-yellow-line, 7.4ms\nimage 803/1006 /kaggle/working/Road-Lines-Segmentation-3-2/test/images/front-left_MP4-0215_jpg.rf.3d1ba741f846b7ab550d9aa122b2b50e.jpg: 640x640 2 cars, 1 solid-yellow-line, 7.1ms\nimage 804/1006 /kaggle/working/Road-Lines-Segmentation-3-2/test/images/front-left_MP4-0216_jpg.rf.a4b75961040ff9c72269857d74bccc57.jpg: 640x640 2 cars, 1 solid-yellow-line, 7.2ms\nimage 805/1006 /kaggle/working/Road-Lines-Segmentation-3-2/test/images/front-left_MP4-0220_jpg.rf.451b8ca199e2a2a85e51943f69667017.jpg: 640x640 3 cars, 1 solid-yellow-line, 7.2ms\nimage 806/1006 /kaggle/working/Road-Lines-Segmentation-3-2/test/images/front-left_MP4-0221_jpg.rf.143b5a04f297df1fad45b68f6705d0ac.jpg: 640x640 3 cars, 1 solid-yellow-line, 7.1ms\nimage 807/1006 /kaggle/working/Road-Lines-Segmentation-3-2/test/images/front-left_MP4-0222_jpg.rf.e6ceb5faa74440b4d808b20fbc15967a.jpg: 640x640 3 cars, 1 solid-yellow-line, 7.3ms\nimage 808/1006 /kaggle/working/Road-Lines-Segmentation-3-2/test/images/front-left_MP4-0227_jpg.rf.0c211d0f0198c81e3fa82d7d07082f18.jpg: 640x640 2 cars, 1 solid-yellow-line, 7.2ms\nimage 809/1006 /kaggle/working/Road-Lines-Segmentation-3-2/test/images/front-left_MP4-0234_jpg.rf.1664d825152e0a18b546f06b89df949c.jpg: 640x640 2 cars, 1 solid-yellow-line, 7.3ms\nimage 810/1006 /kaggle/working/Road-Lines-Segmentation-3-2/test/images/front-left_MP4-0235_jpg.rf.d244a13e6eebdeb0147bd7cfd1033337.jpg: 640x640 2 cars, 1 solid-yellow-line, 7.2ms\nimage 811/1006 /kaggle/working/Road-Lines-Segmentation-3-2/test/images/front-left_MP4-0236_jpg.rf.26d20aa99b0fe0975f8d0575b7266054.jpg: 640x640 2 cars, 1 solid-yellow-line, 7.3ms\nimage 812/1006 /kaggle/working/Road-Lines-Segmentation-3-2/test/images/front-left_MP4-0238_jpg.rf.40d2662c7fe9b6b9ec70a21a4043f85b.jpg: 640x640 3 cars, 1 solid-yellow-line, 7.2ms\nimage 813/1006 /kaggle/working/Road-Lines-Segmentation-3-2/test/images/front-left_MP4-0239_jpg.rf.de64f88357871942c78fac742d12195c.jpg: 640x640 2 cars, 1 solid-yellow-line, 7.4ms\nimage 814/1006 /kaggle/working/Road-Lines-Segmentation-3-2/test/images/front-left_MP4-0240_jpg.rf.137ce6d90d7829e36b06121b10c497a0.jpg: 640x640 3 cars, 1 solid-yellow-line, 7.1ms\nimage 815/1006 /kaggle/working/Road-Lines-Segmentation-3-2/test/images/front-left_MP4-0242_jpg.rf.30ba5ac0ef680dad59dc6bf9f432d66e.jpg: 640x640 3 cars, 1 solid-yellow-line, 7.3ms\nimage 816/1006 /kaggle/working/Road-Lines-Segmentation-3-2/test/images/front-left_MP4-0243_jpg.rf.eea203b63a0a6d662fd114d7dc8bdbc5.jpg: 640x640 3 cars, 1 solid-yellow-line, 7.1ms\nimage 817/1006 /kaggle/working/Road-Lines-Segmentation-3-2/test/images/front-left_MP4-0244_jpg.rf.709040a3ed8856c117ed8e5c9965ff5e.jpg: 640x640 3 cars, 1 solid-yellow-line, 7.2ms\nimage 818/1006 /kaggle/working/Road-Lines-Segmentation-3-2/test/images/front-left_MP4-0245_jpg.rf.e2742f81bbb7ecb39bb7158bcc5396ce.jpg: 640x640 3 cars, 1 solid-yellow-line, 7.2ms\nimage 819/1006 /kaggle/working/Road-Lines-Segmentation-3-2/test/images/front-left_MP4-0248_jpg.rf.c7af2cea7531c0dcfb1359853efe1b5f.jpg: 640x640 2 cars, 1 solid-yellow-line, 7.7ms\nimage 820/1006 /kaggle/working/Road-Lines-Segmentation-3-2/test/images/front-left_MP4-0255_jpg.rf.77687c55af84ac63d6e3a28e19d8511b.jpg: 640x640 2 cars, 1 solid-yellow-line, 7.6ms\nimage 821/1006 /kaggle/working/Road-Lines-Segmentation-3-2/test/images/front-left_MP4-0256_jpg.rf.a39cc1a1ff7d9cfeaccc76eb5e9bbe26.jpg: 640x640 2 cars, 1 solid-yellow-line, 7.2ms\nimage 822/1006 /kaggle/working/Road-Lines-Segmentation-3-2/test/images/front-left_MP4-0265_jpg.rf.e0fb2ac025008182d5993a1c4e5adf89.jpg: 640x640 2 cars, 1 solid-yellow-line, 7.2ms\nimage 823/1006 /kaggle/working/Road-Lines-Segmentation-3-2/test/images/front-left_MP4-0266_jpg.rf.82341b4df8c01b012287453239ddb7d5.jpg: 640x640 2 cars, 1 solid-yellow-line, 7.5ms\nimage 824/1006 /kaggle/working/Road-Lines-Segmentation-3-2/test/images/front-left_MP4-0267_jpg.rf.60706afbfa69e262476710edd871095f.jpg: 640x640 2 cars, 1 solid-yellow-line, 7.7ms\nimage 825/1006 /kaggle/working/Road-Lines-Segmentation-3-2/test/images/front-left_MP4-0271_jpg.rf.c1969fb574210600c2ac03f24711066b.jpg: 640x640 2 cars, 1 solid-yellow-line, 7.3ms\nimage 826/1006 /kaggle/working/Road-Lines-Segmentation-3-2/test/images/front-left_MP4-0272_jpg.rf.c35169f8fed0365bfb1c308639162074.jpg: 640x640 2 cars, 1 solid-yellow-line, 7.6ms\nimage 827/1006 /kaggle/working/Road-Lines-Segmentation-3-2/test/images/front-left_MP4-0277_jpg.rf.52b307d33f9271846579dfdfefa628d2.jpg: 640x640 2 cars, 1 solid-yellow-line, 7.6ms\nimage 828/1006 /kaggle/working/Road-Lines-Segmentation-3-2/test/images/front-left_MP4-0278_jpg.rf.60cbab3a39a09f54a1fca814d1e3747b.jpg: 640x640 2 cars, 1 solid-yellow-line, 7.3ms\nimage 829/1006 /kaggle/working/Road-Lines-Segmentation-3-2/test/images/front-left_MP4-0279_jpg.rf.d4d6ac13298b305b885c1f0e07054f59.jpg: 640x640 2 cars, 1 solid-yellow-line, 7.3ms\nimage 830/1006 /kaggle/working/Road-Lines-Segmentation-3-2/test/images/front-left_MP4-0281_jpg.rf.78e2df99f0f31fed6d01e32525f02d20.jpg: 640x640 2 cars, 1 solid-yellow-line, 8.9ms\nimage 831/1006 /kaggle/working/Road-Lines-Segmentation-3-2/test/images/front-left_MP4-0282_jpg.rf.86725f171ba99c2e3a7e1e46ab88c334.jpg: 640x640 2 cars, 1 solid-yellow-line, 7.2ms\nimage 832/1006 /kaggle/working/Road-Lines-Segmentation-3-2/test/images/front-left_MP4-0283_jpg.rf.911165b22c76d1804c50d46df9ac1b0c.jpg: 640x640 2 cars, 1 solid-yellow-line, 7.6ms\nimage 833/1006 /kaggle/working/Road-Lines-Segmentation-3-2/test/images/front-left_MP4-0284_jpg.rf.60a9ea737990a1b0854cf780770ad502.jpg: 640x640 2 cars, 1 solid-yellow-line, 7.0ms\nimage 834/1006 /kaggle/working/Road-Lines-Segmentation-3-2/test/images/front-left_MP4-0285_jpg.rf.d2b871970cdaa3bf14dcbcd1212fb83e.jpg: 640x640 2 cars, 1 solid-yellow-line, 7.2ms\nimage 835/1006 /kaggle/working/Road-Lines-Segmentation-3-2/test/images/front-left_MP4-0286_jpg.rf.d2ed2a628bb52d9869c15d64df2a5c7f.jpg: 640x640 2 cars, 1 solid-yellow-line, 7.3ms\nimage 836/1006 /kaggle/working/Road-Lines-Segmentation-3-2/test/images/front-left_MP4-0287_jpg.rf.7a32e71f65b54cd40ca171ddbb4768d8.jpg: 640x640 3 cars, 1 solid-yellow-line, 7.1ms\nimage 837/1006 /kaggle/working/Road-Lines-Segmentation-3-2/test/images/front-left_MP4-0288_jpg.rf.60b5bcce660e91554e98011d3ce88efc.jpg: 640x640 3 cars, 1 solid-yellow-line, 7.3ms\nimage 838/1006 /kaggle/working/Road-Lines-Segmentation-3-2/test/images/front-left_MP4-0289_jpg.rf.60a3d583f4f6aa04feb0c71be3452c50.jpg: 640x640 3 cars, 1 solid-yellow-line, 7.6ms\nimage 839/1006 /kaggle/working/Road-Lines-Segmentation-3-2/test/images/front-left_MP4-0290_jpg.rf.264c5ca88ded77ce77d7d7e828e0de77.jpg: 640x640 1 car, 1 solid-yellow-line, 7.5ms\nimage 840/1006 /kaggle/working/Road-Lines-Segmentation-3-2/test/images/front-left_MP4-0291_jpg.rf.bfd0faed6a70952f60b0bc203d4bb4a5.jpg: 640x640 3 cars, 1 solid-yellow-line, 7.2ms\nimage 841/1006 /kaggle/working/Road-Lines-Segmentation-3-2/test/images/front-left_MP4-0292_jpg.rf.117099351d41c7f7aa66e694420e5846.jpg: 640x640 3 cars, 1 solid-yellow-line, 7.1ms\nimage 842/1006 /kaggle/working/Road-Lines-Segmentation-3-2/test/images/front-left_MP4-0293_jpg.rf.0c6d4ee9ed9e571ff19c9f7ea36d1857.jpg: 640x640 1 car, 1 license_plate, 1 solid-yellow-line, 7.6ms\nimage 843/1006 /kaggle/working/Road-Lines-Segmentation-3-2/test/images/front-left_MP4-0294_jpg.rf.e6840e070323eaa29df29057466bf911.jpg: 640x640 1 car, 1 license_plate, 1 solid-yellow-line, 7.1ms\nimage 844/1006 /kaggle/working/Road-Lines-Segmentation-3-2/test/images/front-left_MP4-0295_jpg.rf.da95f25005a7a8c97940db90c264bf3d.jpg: 640x640 2 cars, 1 solid-yellow-line, 7.2ms\nimage 845/1006 /kaggle/working/Road-Lines-Segmentation-3-2/test/images/front-left_MP4-0296_jpg.rf.1bc92d440adf4c8a32721bc8f3b39a51.jpg: 640x640 2 cars, 1 solid-yellow-line, 7.0ms\nimage 846/1006 /kaggle/working/Road-Lines-Segmentation-3-2/test/images/front-left_MP4-0297_jpg.rf.db0840ef669b2dfe889856549e20dff8.jpg: 640x640 2 cars, 1 solid-yellow-line, 7.5ms\nimage 847/1006 /kaggle/working/Road-Lines-Segmentation-3-2/test/images/front-left_MP4-0298_jpg.rf.dd4064e592e636540f313a025da63f58.jpg: 640x640 2 cars, 1 solid-yellow-line, 7.0ms\nimage 848/1006 /kaggle/working/Road-Lines-Segmentation-3-2/test/images/front-left_MP4-0299_jpg.rf.b34e93a478d094b3224255a952776c4a.jpg: 640x640 2 cars, 1 solid-yellow-line, 7.2ms\nimage 849/1006 /kaggle/working/Road-Lines-Segmentation-3-2/test/images/front-left_MP4-0300_jpg.rf.754e30fe7fa5bdfea94356517c814025.jpg: 640x640 2 cars, 1 solid-yellow-line, 6.9ms\nimage 850/1006 /kaggle/working/Road-Lines-Segmentation-3-2/test/images/front-right-NO20240903-143941-000833F_MP4-0016_jpg.rf.6f39a1b33befc5c6a0d6d110e5f6e8ca.jpg: 640x640 2 cars, 1 solid-yellow-line, 7.4ms\nimage 851/1006 /kaggle/working/Road-Lines-Segmentation-3-2/test/images/front-right-NO20240903-143941-000833F_MP4-0020_jpg.rf.198d7f2f6e8ab6f06756068092290cf4.jpg: 640x640 2 cars, 1 solid-yellow-line, 6.9ms\nimage 852/1006 /kaggle/working/Road-Lines-Segmentation-3-2/test/images/front-right-NO20240903-143941-000833F_MP4-0025_jpg.rf.bf08293db0e04f720ddcdf09ad7d6185.jpg: 640x640 2 cars, 1 solid-yellow-line, 7.0ms\nimage 853/1006 /kaggle/working/Road-Lines-Segmentation-3-2/test/images/front-right-NO20240903-143941-000833F_MP4-0030_jpg.rf.2109ef5da0801e735a451eb25076ff31.jpg: 640x640 3 cars, 1 solid-yellow-line, 7.0ms\nimage 854/1006 /kaggle/working/Road-Lines-Segmentation-3-2/test/images/front-right-NO20240903-143941-000833F_MP4-0033_jpg.rf.7836e5dce4ecf24a3cebda173882b762.jpg: 640x640 4 cars, 1 solid-yellow-line, 7.1ms\nimage 855/1006 /kaggle/working/Road-Lines-Segmentation-3-2/test/images/front-right-NO20240903-143941-000833F_MP4-0037_jpg.rf.16c0d06304403aa6e6ae7b65ceeb56d0.jpg: 640x640 3 cars, 1 solid-yellow-line, 7.0ms\nimage 856/1006 /kaggle/working/Road-Lines-Segmentation-3-2/test/images/front-right-NO20240903-143941-000833F_MP4-0043_jpg.rf.9c7f266c171d14a3b03e025cc912d2db.jpg: 640x640 4 cars, 1 solid-yellow-line, 7.0ms\nimage 857/1006 /kaggle/working/Road-Lines-Segmentation-3-2/test/images/front-right-NO20240903-143941-000833F_MP4-0049_jpg.rf.63ea24bed089e3d3beb4581ff88f24b8.jpg: 640x640 3 cars, 1 solid-yellow-line, 6.9ms\nimage 858/1006 /kaggle/working/Road-Lines-Segmentation-3-2/test/images/front-right-NO20240903-143941-000833F_MP4-0051_jpg.rf.47c48dcd40d1e2a78295902d369dae27.jpg: 640x640 3 cars, 1 solid-yellow-line, 7.2ms\nimage 859/1006 /kaggle/working/Road-Lines-Segmentation-3-2/test/images/front-right-NO20240903-143941-000833F_MP4-0052_jpg.rf.2380ece4353967e5fcd03e3e9a73a903.jpg: 640x640 3 cars, 1 solid-yellow-line, 6.9ms\nimage 860/1006 /kaggle/working/Road-Lines-Segmentation-3-2/test/images/front-right-NO20240903-143941-000833F_MP4-0053_jpg.rf.a06a45a2e7022a630ddf55a600e91355.jpg: 640x640 3 cars, 1 solid-yellow-line, 7.0ms\nimage 861/1006 /kaggle/working/Road-Lines-Segmentation-3-2/test/images/front-right-NO20240903-143941-000833F_MP4-0064_jpg.rf.f3cd11ea77008e3471f5b56296644f11.jpg: 640x640 4 cars, 1 solid-yellow-line, 7.0ms\nimage 862/1006 /kaggle/working/Road-Lines-Segmentation-3-2/test/images/front-right-NO20240903-143941-000833F_MP4-0067_jpg.rf.9e6a3efca18ee11d3fae7f360221cfcd.jpg: 640x640 2 cars, 1 solid-yellow-line, 7.1ms\nimage 863/1006 /kaggle/working/Road-Lines-Segmentation-3-2/test/images/front-right-NO20240903-143941-000833F_MP4-0098_jpg.rf.96efdc21e550cd42ae87b7da5284748b.jpg: 640x640 2 cars, 1 solid-yellow-line, 6.9ms\nimage 864/1006 /kaggle/working/Road-Lines-Segmentation-3-2/test/images/front-right-NO20240903-143941-000833F_MP4-0100_jpg.rf.02a60564a2f1bd49803d674b83ef1f12.jpg: 640x640 3 cars, 1 solid-yellow-line, 7.0ms\nimage 865/1006 /kaggle/working/Road-Lines-Segmentation-3-2/test/images/front-right-NO20240903-143941-000833F_MP4-0115_jpg.rf.41fe81a30e6b02d630b532f39b537598.jpg: 640x640 1 car, 1 solid-yellow-line, 7.0ms\nimage 866/1006 /kaggle/working/Road-Lines-Segmentation-3-2/test/images/front-right-NO20240903-143941-000833F_MP4-0123_jpg.rf.98c8494870aec3907ae6cfd9a4d9b2ee.jpg: 640x640 1 car, 1 solid-yellow-line, 7.5ms\nimage 867/1006 /kaggle/working/Road-Lines-Segmentation-3-2/test/images/front-right-NO20240903-143941-000833F_MP4-0127_jpg.rf.8327b760f40fecd5e4ec3228904557a6.jpg: 640x640 2 cars, 1 solid-yellow-line, 7.0ms\nimage 868/1006 /kaggle/working/Road-Lines-Segmentation-3-2/test/images/front-right-NO20240903-143941-000833F_MP4-0135_jpg.rf.c608b6d14aa3b2e9b49abbe65a82aea1.jpg: 640x640 1 car, 1 solid-yellow-line, 6.9ms\nimage 869/1006 /kaggle/working/Road-Lines-Segmentation-3-2/test/images/front-right-NO20240903-143941-000833F_MP4-0137_jpg.rf.8eeb605d6fc26fec3cb8bce58381a756.jpg: 640x640 1 car, 1 solid-yellow-line, 7.0ms\nimage 870/1006 /kaggle/working/Road-Lines-Segmentation-3-2/test/images/front-right-NO20240903-143941-000833F_MP4-0153_jpg.rf.bdf481f74a27de81b5754514b69989c4.jpg: 640x640 1 car, 1 solid-yellow-line, 7.6ms\nimage 871/1006 /kaggle/working/Road-Lines-Segmentation-3-2/test/images/front-right-NO20240903-143941-000833F_MP4-0156_jpg.rf.564eec651c3a93a2243ea62b89438b27.jpg: 640x640 2 cars, 1 solid-yellow-line, 7.0ms\nimage 872/1006 /kaggle/working/Road-Lines-Segmentation-3-2/test/images/front-right-NO20240903-143941-000833F_MP4-0171_jpg.rf.0073d58bd20f4a0922f9afd3cd123147.jpg: 640x640 1 car, 2 solid-yellow-lines, 7.0ms\nimage 873/1006 /kaggle/working/Road-Lines-Segmentation-3-2/test/images/front-right-NO20240903-143941-000833F_MP4-0195_jpg.rf.381f6050bf1e678789a35b5caff57502.jpg: 640x640 1 car, 1 solid-yellow-line, 7.2ms\nimage 874/1006 /kaggle/working/Road-Lines-Segmentation-3-2/test/images/front-right-NO20240903-143941-000833F_MP4-0208_jpg.rf.9ea343d586f81de614dbaea37be0634e.jpg: 640x640 4 cars, 1 solid-yellow-line, 7.1ms\nimage 875/1006 /kaggle/working/Road-Lines-Segmentation-3-2/test/images/front-right-NO20240903-143941-000833F_MP4-0231_jpg.rf.c0ea5c581169f479d836775780808263.jpg: 640x640 3 cars, 1 solid-yellow-line, 7.2ms\nimage 876/1006 /kaggle/working/Road-Lines-Segmentation-3-2/test/images/front-right-NO20240903-143941-000833F_MP4-0250_jpg.rf.e3586c3ce4b90aca4fdbb95871661722.jpg: 640x640 2 cars, 1 solid-yellow-line, 6.9ms\nimage 877/1006 /kaggle/working/Road-Lines-Segmentation-3-2/test/images/front-right-NO20240903-143941-000833F_MP4-0257_jpg.rf.e9eb87c0a29aa6d73b3929fa8bed1743.jpg: 640x640 2 cars, 1 solid-yellow-line, 7.1ms\nimage 878/1006 /kaggle/working/Road-Lines-Segmentation-3-2/test/images/front-right-NO20240903-143941-000833F_MP4-0259_jpg.rf.443a686e8519b4aee14ed406b35390ca.jpg: 640x640 2 cars, 1 solid-yellow-line, 7.2ms\nimage 879/1006 /kaggle/working/Road-Lines-Segmentation-3-2/test/images/front-right-NO20240903-143941-000833F_MP4-0261_jpg.rf.840d484261b7101c32ab12b5e04b02cc.jpg: 640x640 2 cars, 1 solid-yellow-line, 7.0ms\nimage 880/1006 /kaggle/working/Road-Lines-Segmentation-3-2/test/images/front-right-NO20240903-143941-000833F_MP4-0268_jpg.rf.19a80c948ee369b05e1c1b48ce535c6b.jpg: 640x640 1 car, 1 solid-yellow-line, 6.9ms\nimage 881/1006 /kaggle/working/Road-Lines-Segmentation-3-2/test/images/front-right-NO20240903-143941-000833F_MP4-0271_jpg.rf.23b02c30afe1a6ca4103cb815596cac3.jpg: 640x640 1 car, 1 solid-yellow-line, 7.0ms\nimage 882/1006 /kaggle/working/Road-Lines-Segmentation-3-2/test/images/front-right-NO20240903-143941-000833F_MP4-0283_jpg.rf.d01d34227e0c3a4f195d620d08d61d40.jpg: 640x640 3 cars, 1 solid-yellow-line, 7.2ms\nimage 883/1006 /kaggle/working/Road-Lines-Segmentation-3-2/test/images/front-right-NO20240903-143941-000833F_MP4-0287_jpg.rf.0cc94f84f5d2651e17ea4c0350e7d598.jpg: 640x640 3 cars, 1 solid-yellow-line, 6.9ms\nimage 884/1006 /kaggle/working/Road-Lines-Segmentation-3-2/test/images/front-right-NO20240903-143941-000833F_MP4-0294_jpg.rf.b4451f92587bbd543f53f67bd2d141ef.jpg: 640x640 2 cars, 1 solid-yellow-line, 7.2ms\nimage 885/1006 /kaggle/working/Road-Lines-Segmentation-3-2/test/images/front-right-NO20240903-144041-000834F_MP4-0008_jpg.rf.46d5812e185856f0a0e68097aeb665fe.jpg: 640x640 1 car, 1 solid-yellow-line, 6.9ms\nimage 886/1006 /kaggle/working/Road-Lines-Segmentation-3-2/test/images/front-right-NO20240903-144041-000834F_MP4-0011_jpg.rf.5ff0d57354ff183deb7c1b3b65b41eb8.jpg: 640x640 1 car, 3 solid-yellow-lines, 7.3ms\nimage 887/1006 /kaggle/working/Road-Lines-Segmentation-3-2/test/images/front-right-NO20240903-144041-000834F_MP4-0028_jpg.rf.dc5f6df3c019449698e4f3f8ab5fc0d1.jpg: 640x640 1 car, 1 solid-yellow-line, 7.2ms\nimage 888/1006 /kaggle/working/Road-Lines-Segmentation-3-2/test/images/front-right-NO20240903-144041-000834F_MP4-0031_jpg.rf.50f74d402d5a1a4dc9f9a6fce3061881.jpg: 640x640 2 cars, 1 solid-yellow-line, 7.1ms\nimage 889/1006 /kaggle/working/Road-Lines-Segmentation-3-2/test/images/front-right-NO20240903-144041-000834F_MP4-0039_jpg.rf.0d0b390ff48a719443d9e5784b3989dd.jpg: 640x640 3 cars, 1 solid-yellow-line, 7.3ms\nimage 890/1006 /kaggle/working/Road-Lines-Segmentation-3-2/test/images/front-right-NO20240903-144041-000834F_MP4-0046_jpg.rf.de72af4be52a64a8a772fa56b4646bed.jpg: 640x640 2 cars, 1 solid-yellow-line, 7.6ms\nimage 891/1006 /kaggle/working/Road-Lines-Segmentation-3-2/test/images/front-right-NO20240903-144041-000834F_MP4-0059_jpg.rf.024cd706e8b84262f81d439bad316111.jpg: 640x640 1 car, 1 solid-yellow-line, 6.9ms\nimage 892/1006 /kaggle/working/Road-Lines-Segmentation-3-2/test/images/front-right-NO20240903-144041-000834F_MP4-0081_jpg.rf.aadeb1d3d1039dd65e07c6dcb8b8e361.jpg: 640x640 3 cars, 1 solid-yellow-line, 7.1ms\nimage 893/1006 /kaggle/working/Road-Lines-Segmentation-3-2/test/images/front-right-NO20240903-144041-000834F_MP4-0085_jpg.rf.2f31c2e485017b33634426a4e7a4df7c.jpg: 640x640 3 cars, 1 solid-yellow-line, 6.9ms\nimage 894/1006 /kaggle/working/Road-Lines-Segmentation-3-2/test/images/front-right-NO20240903-144041-000834F_MP4-0103_jpg.rf.277ddd85c764964435a416453d6c5e8a.jpg: 640x640 5 cars, 1 solid-yellow-line, 7.1ms\nimage 895/1006 /kaggle/working/Road-Lines-Segmentation-3-2/test/images/front-right-NO20240903-144041-000834F_MP4-0126_jpg.rf.d76fec7e87bfdab0147aa14b1c2913b9.jpg: 640x640 2 cars, 1 solid-yellow-line, 8.4ms\nimage 896/1006 /kaggle/working/Road-Lines-Segmentation-3-2/test/images/front-right-NO20240903-144041-000834F_MP4-0146_jpg.rf.41ed307d5ca4a89eae864dac3d0b836c.jpg: 640x640 1 car, 2 solid-yellow-lines, 7.0ms\nimage 897/1006 /kaggle/working/Road-Lines-Segmentation-3-2/test/images/front-right-NO20240903-144041-000834F_MP4-0168_jpg.rf.78ce758014d9920e9e5dded136d152dc.jpg: 640x640 1 car, 1 solid-yellow-line, 7.1ms\nimage 898/1006 /kaggle/working/Road-Lines-Segmentation-3-2/test/images/front-right-NO20240903-144041-000834F_MP4-0171_jpg.rf.585597c12aef3fa8850a42ec0d4b14f3.jpg: 640x640 1 car, 1 solid-yellow-line, 7.4ms\nimage 899/1006 /kaggle/working/Road-Lines-Segmentation-3-2/test/images/front-right-NO20240903-144041-000834F_MP4-0176_jpg.rf.b4d3ccf15fc3e15778f2018ba0d4803e.jpg: 640x640 1 car, 1 solid-yellow-line, 7.0ms\nimage 900/1006 /kaggle/working/Road-Lines-Segmentation-3-2/test/images/front-right-NO20240903-144041-000834F_MP4-0184_jpg.rf.567f42e217025a18ed2a33c18fdcaffa.jpg: 640x640 2 cars, 2 solid-yellow-lines, 7.0ms\nimage 901/1006 /kaggle/working/Road-Lines-Segmentation-3-2/test/images/front-right-NO20240903-144041-000834F_MP4-0215_jpg.rf.1ac87408cb55bd30aac4644da62490ef.jpg: 640x640 2 cars, 1 solid-yellow-line, 7.3ms\nimage 902/1006 /kaggle/working/Road-Lines-Segmentation-3-2/test/images/front-right-NO20240903-144041-000834F_MP4-0221_jpg.rf.9d121123ac329c3959b4bd392aabcda2.jpg: 640x640 1 car, 1 solid-yellow-line, 7.1ms\nimage 903/1006 /kaggle/working/Road-Lines-Segmentation-3-2/test/images/front-right-NO20240903-144041-000834F_MP4-0227_jpg.rf.0e2aef17517e3366075ac183363385db.jpg: 640x640 1 solid-yellow-line, 7.3ms\nimage 904/1006 /kaggle/working/Road-Lines-Segmentation-3-2/test/images/front-right-NO20240903-144041-000834F_MP4-0230_jpg.rf.a2ecf503e44b264ebc3b1f4a8009ce28.jpg: 640x640 1 car, 1 solid-yellow-line, 6.9ms\nimage 905/1006 /kaggle/working/Road-Lines-Segmentation-3-2/test/images/front-right-NO20240903-144041-000834F_MP4-0237_jpg.rf.b644768ee400dd54f0eb7d3add009c23.jpg: 640x640 2 cars, 1 solid-yellow-line, 7.1ms\nimage 906/1006 /kaggle/working/Road-Lines-Segmentation-3-2/test/images/front-right-NO20240903-144041-000834F_MP4-0254_jpg.rf.42f2c5370db522c4f2982febe6966222.jpg: 640x640 4 cars, 1 solid-yellow-line, 7.3ms\nimage 907/1006 /kaggle/working/Road-Lines-Segmentation-3-2/test/images/front-right-NO20240903-144041-000834F_MP4-0260_jpg.rf.cd169f6ba3b85fa485097ed29e2b89ab.jpg: 640x640 3 cars, 1 solid-yellow-line, 7.1ms\nimage 908/1006 /kaggle/working/Road-Lines-Segmentation-3-2/test/images/front-right-NO20240903-144041-000834F_MP4-0281_jpg.rf.088b6ce2281fb319f26c2739bfc26ffa.jpg: 640x640 1 car, 1 license_plate, 1 solid-yellow-line, 7.0ms\nimage 909/1006 /kaggle/working/Road-Lines-Segmentation-3-2/test/images/front-right-NO20240903-144141-000835F_MP4-0048_jpg.rf.26b01ad1cca8e3e40aa83fae814476d9.jpg: 640x640 2 cars, 1 solid-yellow-line, 7.2ms\nimage 910/1006 /kaggle/working/Road-Lines-Segmentation-3-2/test/images/front-right-NO20240903-144141-000835F_MP4-0049_jpg.rf.2f6686a341effdadba48fb654b929040.jpg: 640x640 1 car, 1 solid-yellow-line, 7.7ms\nimage 911/1006 /kaggle/working/Road-Lines-Segmentation-3-2/test/images/front-right-NO20240903-144141-000835F_MP4-0050_jpg.rf.9479ae4a12d01bbb2cea795180066636.jpg: 640x640 3 cars, 1 solid-yellow-line, 7.1ms\nimage 912/1006 /kaggle/working/Road-Lines-Segmentation-3-2/test/images/front-right-NO20240903-144141-000835F_MP4-0053_jpg.rf.99708c157dd5ec50ed84ef09875dee0d.jpg: 640x640 1 car, 1 solid-yellow-line, 7.0ms\nimage 913/1006 /kaggle/working/Road-Lines-Segmentation-3-2/test/images/front-right-NO20240903-144141-000835F_MP4-0055_jpg.rf.8e21229ce5248cbb6945710e23ed367d.jpg: 640x640 1 car, 1 solid-yellow-line, 7.1ms\nimage 914/1006 /kaggle/working/Road-Lines-Segmentation-3-2/test/images/front-right-NO20240903-144141-000835F_MP4-0092_jpg.rf.bb4d8bbacd5ff8483fe59ee6f92c751f.jpg: 640x640 1 solid-yellow-line, 7.1ms\nimage 915/1006 /kaggle/working/Road-Lines-Segmentation-3-2/test/images/front-right-NO20240903-144141-000835F_MP4-0106_jpg.rf.a13243decc5305126b26ade21bc51870.jpg: 640x640 1 solid-yellow-line, 7.6ms\nimage 916/1006 /kaggle/working/Road-Lines-Segmentation-3-2/test/images/front-right-NO20240903-144141-000835F_MP4-0107_jpg.rf.4f85ec09d0dddaaaf3bda48653476de3.jpg: 640x640 1 solid-yellow-line, 7.0ms\nimage 917/1006 /kaggle/working/Road-Lines-Segmentation-3-2/test/images/front-right-NO20240903-144141-000835F_MP4-0110_jpg.rf.afb50377441dab9e7facd5ea6d5fd949.jpg: 640x640 1 car, 1 solid-yellow-line, 7.1ms\nimage 918/1006 /kaggle/working/Road-Lines-Segmentation-3-2/test/images/front-right-NO20240903-144141-000835F_MP4-0124_jpg.rf.346647365526044052310fc384c4e1d7.jpg: 640x640 1 car, 1 solid-yellow-line, 7.0ms\nimage 919/1006 /kaggle/working/Road-Lines-Segmentation-3-2/test/images/front-right-NO20240903-144141-000835F_MP4-0158_jpg.rf.8c0f8688bcadfc6a70d35ba08a852ac2.jpg: 640x640 1 car, 1 solid-yellow-line, 6.8ms\nimage 920/1006 /kaggle/working/Road-Lines-Segmentation-3-2/test/images/front-right-NO20240903-144141-000835F_MP4-0165_jpg.rf.198d85444b081e1e3ed081f6308ecfc9.jpg: 640x640 1 car, 1 solid-yellow-line, 6.8ms\nimage 921/1006 /kaggle/working/Road-Lines-Segmentation-3-2/test/images/front-right-NO20240903-144141-000835F_MP4-0172_jpg.rf.c42510ec7e0b01f61d5c9e3f751ae45e.jpg: 640x640 1 car, 1 solid-yellow-line, 7.0ms\nimage 922/1006 /kaggle/working/Road-Lines-Segmentation-3-2/test/images/front-right-NO20240903-144141-000835F_MP4-0198_jpg.rf.5b7c84c9cfc6b86b285595d1005a64fc.jpg: 640x640 1 solid-yellow-line, 6.9ms\nimage 923/1006 /kaggle/working/Road-Lines-Segmentation-3-2/test/images/front-right-NO20240903-144141-000835F_MP4-0199_jpg.rf.7a35664db5985e03135a8a27169da9dc.jpg: 640x640 1 solid-yellow-line, 7.2ms\nimage 924/1006 /kaggle/working/Road-Lines-Segmentation-3-2/test/images/front-right-NO20240903-144141-000835F_MP4-0205_jpg.rf.51d70ead5c85f141bcdcda0e6d3abf1f.jpg: 640x640 1 solid-yellow-line, 6.9ms\nimage 925/1006 /kaggle/working/Road-Lines-Segmentation-3-2/test/images/front-right-NO20240903-144141-000835F_MP4-0238_jpg.rf.da3fc574d996d745917eb75ccd82a9ba.jpg: 640x640 2 cars, 1 solid-yellow-line, 7.1ms\nimage 926/1006 /kaggle/working/Road-Lines-Segmentation-3-2/test/images/front-right-NO20240903-144141-000835F_MP4-0246_jpg.rf.95a8435e7f5dcb2e65015094bdab4a6b.jpg: 640x640 2 cars, 1 solid-yellow-line, 7.2ms\nimage 927/1006 /kaggle/working/Road-Lines-Segmentation-3-2/test/images/front-right-NO20240903-144141-000835F_MP4-0260_jpg.rf.a6eda30d25c73f56f8491bf556848a1f.jpg: 640x640 1 car, 1 solid-yellow-line, 6.9ms\nimage 928/1006 /kaggle/working/Road-Lines-Segmentation-3-2/test/images/front-right-NO20240903-144141-000835F_MP4-0277_jpg.rf.dc044211620b2b44ed6d42eeedf6d2ec.jpg: 640x640 1 solid-yellow-line, 6.9ms\nimage 929/1006 /kaggle/working/Road-Lines-Segmentation-3-2/test/images/front-right-NO20240903-144141-000835F_MP4-0284_jpg.rf.fe80c9fe6001028e76c7cee6dee2e5b9.jpg: 640x640 1 solid-yellow-line, 7.1ms\nimage 930/1006 /kaggle/working/Road-Lines-Segmentation-3-2/test/images/front-right-NO20240903-144141-000835F_MP4-0297_jpg.rf.f512def0dfc3176c5059c947d99f0ddf.jpg: 640x640 1 car, 1 solid-yellow-line, 7.2ms\nimage 931/1006 /kaggle/working/Road-Lines-Segmentation-3-2/test/images/front-right-NO20240903-144141-000835F_MP4-0298_jpg.rf.60801de7b153c977e2a218c885f05054.jpg: 640x640 1 car, 1 solid-yellow-line, 7.3ms\nimage 932/1006 /kaggle/working/Road-Lines-Segmentation-3-2/test/images/front-right-NO20240909-181240-000010F_MP4-0000_jpg.rf.f7f614003df69eb1242fe7d34503aac9.jpg: 640x640 1 solid-yellow-line, 7.1ms\nimage 933/1006 /kaggle/working/Road-Lines-Segmentation-3-2/test/images/front-right-NO20240909-181240-000010F_MP4-0028_jpg.rf.fbb32a6a841cb185b9180e8fc44a6cd6.jpg: 640x640 4 cars, 1 solid-yellow-line, 7.0ms\nimage 934/1006 /kaggle/working/Road-Lines-Segmentation-3-2/test/images/front-right-NO20240909-181240-000010F_MP4-0030_jpg.rf.170d94c9e03ed9441f5d4cc6e0db5b1a.jpg: 640x640 3 cars, 1 solid-yellow-line, 7.0ms\nimage 935/1006 /kaggle/working/Road-Lines-Segmentation-3-2/test/images/front-right-NO20240909-181240-000010F_MP4-0162_jpg.rf.05d6a90e41f7e6b25fc7a79c14fbe111.jpg: 640x640 1 car, 1 solid-yellow-line, 7.1ms\nimage 936/1006 /kaggle/working/Road-Lines-Segmentation-3-2/test/images/front-right-NO20240909-181240-000010F_MP4-0168_jpg.rf.af91119bf6d6088450a96fcfc94c702f.jpg: 640x640 1 car, 1 solid-yellow-line, 8.8ms\nimage 937/1006 /kaggle/working/Road-Lines-Segmentation-3-2/test/images/front-right-NO20240909-181240-000010F_MP4-0186_jpg.rf.46f20a669bafea02f89f9032ee0bcf83.jpg: 640x640 2 cars, 2 solid-yellow-lines, 7.1ms\nimage 938/1006 /kaggle/working/Road-Lines-Segmentation-3-2/test/images/front-right-NO20240909-181240-000010F_MP4-0271_jpg.rf.4b416f8675c58d5cdce782db1d0ef12b.jpg: 640x640 1 car, 1 solid-yellow-line, 7.3ms\nimage 939/1006 /kaggle/working/Road-Lines-Segmentation-3-2/test/images/front-right-NO20240909-181340-000011F_MP4-0026_jpg.rf.c7799c0a8f538f5e9f5580798943f692.jpg: 640x640 1 solid-yellow-line, 7.4ms\nimage 940/1006 /kaggle/working/Road-Lines-Segmentation-3-2/test/images/front-right-NO20240909-181340-000011F_MP4-0031_jpg.rf.2a07070bb50b0fa1b8eb4ef5dea84e12.jpg: 640x640 1 car, 1 solid-yellow-line, 7.0ms\nimage 941/1006 /kaggle/working/Road-Lines-Segmentation-3-2/test/images/front-right-NO20240909-181340-000011F_MP4-0052_jpg.rf.0c7d4c2e8345a9a26026fa5070e2a176.jpg: 640x640 1 solid-yellow-line, 7.1ms\nimage 942/1006 /kaggle/working/Road-Lines-Segmentation-3-2/test/images/front-right-NO20240909-181340-000011F_MP4-0078_jpg.rf.015ec49719e81aa9de53220e7133456e.jpg: 640x640 2 cars, 1 solid-yellow-line, 7.1ms\nimage 943/1006 /kaggle/working/Road-Lines-Segmentation-3-2/test/images/front-right-NO20240909-181340-000011F_MP4-0185_jpg.rf.1ff523790a2c5f58cf9eef108464e359.jpg: 640x640 2 cars, 1 solid-yellow-line, 7.2ms\nimage 944/1006 /kaggle/working/Road-Lines-Segmentation-3-2/test/images/front-right-NO20240909-181440-000012F_MP4-0026_jpg.rf.6534520eea634947d670c87f94118edb.jpg: 640x640 2 cars, 1 solid-yellow-line, 6.9ms\nimage 945/1006 /kaggle/working/Road-Lines-Segmentation-3-2/test/images/front-right-NO20240909-181440-000012F_MP4-0053_jpg.rf.4748ca5c9276fae19dc3a2dc832b1c01.jpg: 640x640 1 car, 1 solid-yellow-line, 7.4ms\nimage 946/1006 /kaggle/working/Road-Lines-Segmentation-3-2/test/images/front-right-NO20240909-181440-000012F_MP4-0054_jpg.rf.6f4118437520226c1f8b902b74b19154.jpg: 640x640 1 car, 1 solid-yellow-line, 7.6ms\nimage 947/1006 /kaggle/working/Road-Lines-Segmentation-3-2/test/images/front-right-NO20240909-181440-000012F_MP4-0059_jpg.rf.e6f8bf1d45bb6215d560c00025f84edf.jpg: 640x640 2 cars, 1 solid-yellow-line, 7.3ms\nimage 948/1006 /kaggle/working/Road-Lines-Segmentation-3-2/test/images/front-right-NO20240909-181440-000012F_MP4-0076_jpg.rf.4b0526c80e98e28503aeea495af875a5.jpg: 640x640 3 cars, 1 solid-yellow-line, 7.4ms\nimage 949/1006 /kaggle/working/Road-Lines-Segmentation-3-2/test/images/front-right-NO20240909-181440-000012F_MP4-0083_jpg.rf.dbd416652aa0cbea46d5b6c399223da2.jpg: 640x640 3 cars, 7.2ms\nimage 950/1006 /kaggle/working/Road-Lines-Segmentation-3-2/test/images/front-right-NO20240909-181440-000012F_MP4-0145_jpg.rf.55afc059042053a281a7b4a4727a2731.jpg: 640x640 3 cars, 1 solid-yellow-line, 7.4ms\nimage 951/1006 /kaggle/working/Road-Lines-Segmentation-3-2/test/images/front-right-NO20240909-181540-000013F_MP4-0100_jpg.rf.d352d05b041f30abf8d926f3969f2e20.jpg: 640x640 2 cars, 1 solid-yellow-line, 7.3ms\nimage 952/1006 /kaggle/working/Road-Lines-Segmentation-3-2/test/images/front-right-NO20240909-181540-000013F_MP4-0155_jpg.rf.4ee7995e6be0ace82a574e08cc4d78a9.jpg: 640x640 1 solid-yellow-line, 7.3ms\nimage 953/1006 /kaggle/working/Road-Lines-Segmentation-3-2/test/images/front-right-NO20240909-181640-000014F_MP4-0001_jpg.rf.92019868b4c3b4a77468658e157c61d2.jpg: 640x640 1 car, 1 solid-yellow-line, 7.2ms\nimage 954/1006 /kaggle/working/Road-Lines-Segmentation-3-2/test/images/front-right-NO20240909-181640-000014F_MP4-0092_jpg.rf.da8beaac9868fa58b6b09f6620a9d138.jpg: 640x640 1 car, 1 solid-yellow-line, 7.3ms\nimage 955/1006 /kaggle/working/Road-Lines-Segmentation-3-2/test/images/front-right-NO20240909-181640-000014F_MP4-0117_jpg.rf.f11dbe9cee635019e29ae7ed70d12f98.jpg: 640x640 1 solid-yellow-line, 8.1ms\nimage 956/1006 /kaggle/working/Road-Lines-Segmentation-3-2/test/images/front-right-NO20240909-182340-000021F_MP4-0049_jpg.rf.471c8caecd0eac342c19d6da8ce56473.jpg: 640x640 1 solid-yellow-line, 7.9ms\nimage 957/1006 /kaggle/working/Road-Lines-Segmentation-3-2/test/images/night-front-right-NO20240909-182940-000027F_MP4-0009_jpg.rf.452bc0bfcd116394cfbc32a68f70f263.jpg: 640x640 1 car, 1 solid-yellow-line, 7.7ms\nimage 958/1006 /kaggle/working/Road-Lines-Segmentation-3-2/test/images/night-front-right-NO20240909-182940-000027F_MP4-0133_jpg.rf.2cd4524e127c74ca3ab23dfc47bd6b78.jpg: 640x640 1 car, 1 solid-yellow-line, 7.5ms\nimage 959/1006 /kaggle/working/Road-Lines-Segmentation-3-2/test/images/night-front-right-NO20240909-183040-000028F_MP4-0270_jpg.rf.1036937952d0cda4525e8ec19c5e63d7.jpg: 640x640 4 cars, 2 solid-yellow-lines, 7.3ms\nimage 960/1006 /kaggle/working/Road-Lines-Segmentation-3-2/test/images/night-front-right-NO20240909-183140-000029F_MP4-0003_jpg.rf.aa13120db32b9778c2eddc1a47ab23d8.jpg: 640x640 3 cars, 1 solid-yellow-line, 7.0ms\nimage 961/1006 /kaggle/working/Road-Lines-Segmentation-3-2/test/images/night-front-right-NO20240909-183140-000029F_MP4-0024_jpg.rf.ba181027403599ed2b524a417a472ea1.jpg: 640x640 2 cars, 1 solid-yellow-line, 8.9ms\nimage 962/1006 /kaggle/working/Road-Lines-Segmentation-3-2/test/images/night-front-right-NO20240909-183140-000029F_MP4-0263_jpg.rf.30027f293328a34c24eeb8246c2dc1e5.jpg: 640x640 2 cars, 1 solid-yellow-line, 7.2ms\nimage 963/1006 /kaggle/working/Road-Lines-Segmentation-3-2/test/images/night-front-right-NO20240909-183140-000029F_MP4-0290_jpg.rf.038213a9a75c725a099b1a85eaf44ce7.jpg: 640x640 1 car, 1 solid-yellow-line, 7.4ms\nimage 964/1006 /kaggle/working/Road-Lines-Segmentation-3-2/test/images/night-front-right-NO20240909-183440-000032F_MP4-0008_jpg.rf.8a496e92ee40e6384e9ec815a151493e.jpg: 640x640 3 cars, 1 solid-yellow-line, 7.2ms\nimage 965/1006 /kaggle/working/Road-Lines-Segmentation-3-2/test/images/night-front-right-NO20240909-183440-000032F_MP4-0025_jpg.rf.bd363388f12aeebc58996dc6bb0fdfcb.jpg: 640x640 1 car, 1 solid-yellow-line, 7.3ms\nimage 966/1006 /kaggle/working/Road-Lines-Segmentation-3-2/test/images/night-front-right-NO20240909-183440-000032F_MP4-0147_jpg.rf.6b863a0614594f3ac64be2a11be6b14e.jpg: 640x640 1 solid-yellow-line, 7.4ms\nimage 967/1006 /kaggle/working/Road-Lines-Segmentation-3-2/test/images/night-front-right-NO20240909-183440-000032F_MP4-0161_jpg.rf.6a129c1e536c24d50e9a79c9dd5ecf70.jpg: 640x640 1 car, 1 solid-yellow-line, 7.2ms\nimage 968/1006 /kaggle/working/Road-Lines-Segmentation-3-2/test/images/night-front-right-NO20240909-183440-000032F_MP4-0221_jpg.rf.53656d3b248667933bfa657413587e87.jpg: 640x640 1 solid-yellow-line, 7.4ms\nimage 969/1006 /kaggle/working/Road-Lines-Segmentation-3-2/test/images/night-front-right-NO20240909-183440-000032F_MP4-0253_jpg.rf.7633cf40ee51249fc2c3614334fd4cb9.jpg: 640x640 1 car, 1 solid-yellow-line, 7.4ms\nimage 970/1006 /kaggle/working/Road-Lines-Segmentation-3-2/test/images/night-front-right-NO20240909-183440-000032F_MP4-0257_jpg.rf.8e595fa8cd154df059c9996e328a3468.jpg: 640x640 1 car, 1 solid-yellow-line, 7.4ms\nimage 971/1006 /kaggle/working/Road-Lines-Segmentation-3-2/test/images/night-front-right-NO20240909-183540-000033F_MP4-0003_jpg.rf.1fabaf1c9ab9267da907b0e895b6af3f.jpg: 640x640 2 cars, 1 solid-yellow-line, 7.1ms\nimage 972/1006 /kaggle/working/Road-Lines-Segmentation-3-2/test/images/night-front-right-NO20240909-183540-000033F_MP4-0053_jpg.rf.56ee9e956a3e8b421696975a1eed16ec.jpg: 640x640 3 cars, 1 solid-yellow-line, 7.4ms\nimage 973/1006 /kaggle/working/Road-Lines-Segmentation-3-2/test/images/night-front-right-NO20240909-183540-000033F_MP4-0070_jpg.rf.00f0da012767eb25ef789ad6ea2c5b99.jpg: 640x640 2 cars, 1 solid-yellow-line, 7.1ms\nimage 974/1006 /kaggle/working/Road-Lines-Segmentation-3-2/test/images/night-front-right-NO20240909-183540-000033F_MP4-0209_jpg.rf.73fe01d16c228a232484c6f3f286f038.jpg: 640x640 2 cars, 1 solid-yellow-line, 7.1ms\nimage 975/1006 /kaggle/working/Road-Lines-Segmentation-3-2/test/images/night-front-right-NO20240909-183540-000033F_MP4-0298_jpg.rf.5b378512ddb0ba3dd3aca6b08a0e167c.jpg: 640x640 2 cars, 1 solid-yellow-line, 7.0ms\nimage 976/1006 /kaggle/working/Road-Lines-Segmentation-3-2/test/images/night-front-right-NO20240909-183640-000034F_MP4-0000_jpg.rf.5dd0e303562a5f3a94ca04ca0456c3ad.jpg: 640x640 2 cars, 1 solid-yellow-line, 7.4ms\nimage 977/1006 /kaggle/working/Road-Lines-Segmentation-3-2/test/images/night-front-right-NO20240909-183640-000034F_MP4-0029_jpg.rf.2ba91a24dda673c042964f3997ec81a5.jpg: 640x640 1 car, 1 solid-yellow-line, 7.0ms\nimage 978/1006 /kaggle/working/Road-Lines-Segmentation-3-2/test/images/night-front-right-NO20240909-183640-000034F_MP4-0040_jpg.rf.a874ce7c33200b0fd0f42f6ac911d5e5.jpg: 640x640 1 car, 1 solid-yellow-line, 7.1ms\nimage 979/1006 /kaggle/working/Road-Lines-Segmentation-3-2/test/images/night-front-right-NO20240909-183640-000034F_MP4-0047_jpg.rf.21f7ccf8b29ed56ca687785e67527ff4.jpg: 640x640 2 cars, 1 solid-yellow-line, 7.0ms\nimage 980/1006 /kaggle/working/Road-Lines-Segmentation-3-2/test/images/night-front-right-NO20240909-183640-000034F_MP4-0065_jpg.rf.d6c4c2c10ee7869000b7295fb143be94.jpg: 640x640 3 cars, 1 solid-yellow-line, 6.9ms\nimage 981/1006 /kaggle/working/Road-Lines-Segmentation-3-2/test/images/night-front-right-NO20240909-183740-000035F_MP4-0143_jpg.rf.6174f6d5f0600096e98d65767be0fe5f.jpg: 640x640 4 cars, 1 solid-yellow-line, 7.1ms\nimage 982/1006 /kaggle/working/Road-Lines-Segmentation-3-2/test/images/night-front-right-NO20240909-183740-000035F_MP4-0204_jpg.rf.bbb0aace16a171c0d53f5c57450c4c37.jpg: 640x640 3 cars, 1 solid-yellow-line, 7.1ms\nimage 983/1006 /kaggle/working/Road-Lines-Segmentation-3-2/test/images/night-front-right-NO20240909-183740-000035F_MP4-0214_jpg.rf.1eae531d275db22789b497bb92c33664.jpg: 640x640 3 cars, 1 solid-yellow-line, 6.9ms\nimage 984/1006 /kaggle/working/Road-Lines-Segmentation-3-2/test/images/night-front-right-NO20240909-183740-000035F_MP4-0250_jpg.rf.fe57d14f4546ff1295bd71e2869d6e70.jpg: 640x640 5 cars, 1 license_plate, 7.0ms\nimage 985/1006 /kaggle/working/Road-Lines-Segmentation-3-2/test/images/v1_mp4-0010_jpg.rf.340938c16301e4016406938e43d9e320.jpg: 640x640 1 car, 7.1ms\nimage 986/1006 /kaggle/working/Road-Lines-Segmentation-3-2/test/images/v1_mp4-0046_jpg.rf.f96cb211fed6c64fe1bc1fd4677465b8.jpg: 640x640 1 solid-yellow-line, 7.0ms\nimage 987/1006 /kaggle/working/Road-Lines-Segmentation-3-2/test/images/v2-p2_mp4-0007_jpg.rf.4d862f1862e09ccd79ea60f8aa33f6db.jpg: 640x640 1 solid-yellow-line, 7.1ms\nimage 988/1006 /kaggle/working/Road-Lines-Segmentation-3-2/test/images/v2_mp4-0008_jpg.rf.ad486450d0a98daf985012ce3db3280c.jpg: 640x640 1 car, 1 solid-yellow-line, 6.9ms\nimage 989/1006 /kaggle/working/Road-Lines-Segmentation-3-2/test/images/v2_mp4-0010_jpg.rf.162413a2dbb604591c90b976151c10b7.jpg: 640x640 1 car, 1 solid-yellow-line, 7.0ms\nimage 990/1006 /kaggle/working/Road-Lines-Segmentation-3-2/test/images/v3_mp4-0023_jpg.rf.50ba982c4488f4631984586e3fffab28.jpg: 640x640 3 cars, 1 solid-yellow-line, 7.0ms\nimage 991/1006 /kaggle/working/Road-Lines-Segmentation-3-2/test/images/v3_mp4-0032_jpg.rf.dd17e5a23e0ec52716bf35085cf6bac0.jpg: 640x640 3 cars, 1 solid-yellow-line, 7.1ms\nimage 992/1006 /kaggle/working/Road-Lines-Segmentation-3-2/test/images/v4_mp4-0002_jpg.rf.79429413e6871934fc0d0fb048da818e.jpg: 640x640 7 cars, 1 license_plate, 1 solid-yellow-line, 7.2ms\nimage 993/1006 /kaggle/working/Road-Lines-Segmentation-3-2/test/images/v4_mp4-0004_jpg.rf.5abe5e835444d7ef5bb8cc83af16fefa.jpg: 640x640 5 cars, 1 license_plate, 1 solid-yellow-line, 7.0ms\nimage 994/1006 /kaggle/working/Road-Lines-Segmentation-3-2/test/images/v5_mp4-0018_jpg.rf.bd0f0ca4b41f4c225822d7b8309a5973.jpg: 640x640 5 cars, 1 solid-yellow-line, 7.0ms\nimage 995/1006 /kaggle/working/Road-Lines-Segmentation-3-2/test/images/v5_mp4-0030_jpg.rf.74389ebaca4e96486551aea0474b947e.jpg: 640x640 4 cars, 1 solid-yellow-line, 6.9ms\nimage 996/1006 /kaggle/working/Road-Lines-Segmentation-3-2/test/images/v5_mp4-0048_jpg.rf.d96897e339ccc2d0802e4979173e9a33.jpg: 640x640 5 cars, 1 solid-yellow-line, 7.4ms\nimage 997/1006 /kaggle/working/Road-Lines-Segmentation-3-2/test/images/v5_mp4-0076_jpg.rf.e60a789055b00af7372374bfed4482d2.jpg: 640x640 5 cars, 1 solid-yellow-line, 7.1ms\nimage 998/1006 /kaggle/working/Road-Lines-Segmentation-3-2/test/images/v6-2_mp4-0005_jpg.rf.e831b77fb2065741979259e8a314c445.jpg: 640x640 4 cars, 1 solid-yellow-line, 6.9ms\nimage 999/1006 /kaggle/working/Road-Lines-Segmentation-3-2/test/images/v6_mp4-0001_jpg.rf.86907bb64dbde7e14035097bef40b4d0.jpg: 640x640 6 cars, 1 solid-yellow-line, 7.0ms\nimage 1000/1006 /kaggle/working/Road-Lines-Segmentation-3-2/test/images/v6_mp4-0002_jpg.rf.d6429d35cd6676be72dd1b89970c504f.jpg: 640x640 6 cars, 7.0ms\nimage 1001/1006 /kaggle/working/Road-Lines-Segmentation-3-2/test/images/v6_mp4-0011_jpg.rf.fe99543e3b2cc1c2a0291cc14b5b5349.jpg: 640x640 4 cars, 1 solid-yellow-line, 7.0ms\nimage 1002/1006 /kaggle/working/Road-Lines-Segmentation-3-2/test/images/v6_mp4-0020_jpg.rf.2cdacea646d625b357f8fb0859b55a09.jpg: 640x640 10 cars, 1 solid-yellow-line, 7.0ms\nimage 1003/1006 /kaggle/working/Road-Lines-Segmentation-3-2/test/images/v8_mp4-0037_jpg.rf.7f973a16545a651a851a3c51c885620f.jpg: 640x640 8 cars, 1 solid-yellow-line, 7.1ms\nimage 1004/1006 /kaggle/working/Road-Lines-Segmentation-3-2/test/images/v8_mp4-0052_jpg.rf.39b97f168f098c45abd2e9dc3524c996.jpg: 640x640 6 cars, 1 license_plate, 1 solid-yellow-line, 7.2ms\nimage 1005/1006 /kaggle/working/Road-Lines-Segmentation-3-2/test/images/v8_mp4-0058_jpg.rf.f80007d9eca7f95315da5e43a6a7bd4b.jpg: 640x640 8 cars, 2 license_plates, 1 solid-yellow-line, 7.2ms\nimage 1006/1006 /kaggle/working/Road-Lines-Segmentation-3-2/test/images/v8_mp4-0078_jpg.rf.7d25e6d93db26a7b08bc98e6f55e8398.jpg: 640x640 7 cars, 1 solid-yellow-line, 7.1ms\nSpeed: 2.0ms preprocess, 7.2ms inference, 2.9ms postprocess per image at shape (1, 3, 640, 640)\n",
          "output_type": "stream"
        }
      ]
    },
    {
      "cell_type": "markdown",
      "source": [
        "## apply quantization"
      ],
      "metadata": {
        "id": "E3h1cwHRWwok"
      }
    },
    {
      "cell_type": "code",
      "source": [
        "model.export(format=\"onnx\", int8=True, dynamic=True,half=True, simplify=True, data='/content/Road-Lines-Segmentation-3-2/data.yaml')"
      ],
      "metadata": {
        "execution": {
          "iopub.status.busy": "2024-09-28T16:18:01.068927Z",
          "iopub.execute_input": "2024-09-28T16:18:01.069657Z",
          "iopub.status.idle": "2024-09-28T16:18:55.981264Z",
          "shell.execute_reply.started": "2024-09-28T16:18:01.069616Z",
          "shell.execute_reply": "2024-09-28T16:18:55.980459Z"
        },
        "trusted": true,
        "colab": {
          "base_uri": "https://localhost:8080/",
          "height": 907
        },
        "id": "aEMJXCwmWwok",
        "outputId": "25d021de-2c5d-4223-d534-26e0f9989170"
      },
      "execution_count": null,
      "outputs": [
        {
          "output_type": "stream",
          "name": "stdout",
          "text": [
            "Ultralytics YOLOv8.2.103 🚀 Python-3.10.12 torch-2.4.1+cu121 CPU (Intel Xeon 2.20GHz)\n",
            "WARNING ⚠️ half=True and int8=True are mutually exclusive, setting half=False.\n",
            "\n",
            "\u001b[34m\u001b[1mPyTorch:\u001b[0m starting from 'Model-V5/Segment-Model-V5/weights/best.pt' with input shape (1, 3, 640, 640) BCHW and output shape(s) ((1, 39, 8400), (1, 32, 160, 160)) (6.5 MB)\n",
            "\u001b[31m\u001b[1mrequirements:\u001b[0m Ultralytics requirements ['onnx>=1.12.0', 'onnxslim==0.1.34', 'onnxruntime-gpu'] not found, attempting AutoUpdate...\n",
            "Collecting onnx>=1.12.0\n",
            "  Downloading onnx-1.16.2-cp310-cp310-manylinux_2_17_x86_64.manylinux2014_x86_64.whl.metadata (16 kB)\n",
            "Collecting onnxslim==0.1.34\n",
            "  Downloading onnxslim-0.1.34-py3-none-any.whl.metadata (2.7 kB)\n",
            "Collecting onnxruntime-gpu\n",
            "  Downloading onnxruntime_gpu-1.19.2-cp310-cp310-manylinux_2_27_x86_64.manylinux_2_28_x86_64.whl.metadata (4.5 kB)\n",
            "Requirement already satisfied: sympy in /usr/local/lib/python3.10/dist-packages (from onnxslim==0.1.34) (1.13.3)\n",
            "Requirement already satisfied: packaging in /usr/local/lib/python3.10/dist-packages (from onnxslim==0.1.34) (24.1)\n",
            "Requirement already satisfied: numpy>=1.20 in /usr/local/lib/python3.10/dist-packages (from onnx>=1.12.0) (1.26.4)\n",
            "Requirement already satisfied: protobuf>=3.20.2 in /usr/local/lib/python3.10/dist-packages (from onnx>=1.12.0) (3.20.3)\n",
            "Collecting coloredlogs (from onnxruntime-gpu)\n",
            "  Downloading coloredlogs-15.0.1-py2.py3-none-any.whl.metadata (12 kB)\n",
            "Requirement already satisfied: flatbuffers in /usr/local/lib/python3.10/dist-packages (from onnxruntime-gpu) (24.3.25)\n",
            "Collecting humanfriendly>=9.1 (from coloredlogs->onnxruntime-gpu)\n",
            "  Downloading humanfriendly-10.0-py2.py3-none-any.whl.metadata (9.2 kB)\n",
            "Requirement already satisfied: mpmath<1.4,>=1.1.0 in /usr/local/lib/python3.10/dist-packages (from sympy->onnxslim==0.1.34) (1.3.0)\n",
            "Downloading onnxslim-0.1.34-py3-none-any.whl (140 kB)\n",
            "   ━━━━━━━━━━━━━━━━━━━━━━━━━━━━━━━━━━━━━━━━ 140.3/140.3 kB 4.9 MB/s eta 0:00:00\n",
            "Downloading onnx-1.16.2-cp310-cp310-manylinux_2_17_x86_64.manylinux2014_x86_64.whl (15.9 MB)\n",
            "   ━━━━━━━━━━━━━━━━━━━━━━━━━━━━━━━━━━━━━━━━ 15.9/15.9 MB 249.5 MB/s eta 0:00:00\n",
            "Downloading onnxruntime_gpu-1.19.2-cp310-cp310-manylinux_2_27_x86_64.manylinux_2_28_x86_64.whl (226.2 MB)\n",
            "   ━━━━━━━━━━━━━━━━━━━━━━━━━━━━━━━━━━━━━━━━ 226.2/226.2 MB 266.4 MB/s eta 0:00:00\n",
            "Downloading coloredlogs-15.0.1-py2.py3-none-any.whl (46 kB)\n",
            "   ━━━━━━━━━━━━━━━━━━━━━━━━━━━━━━━━━━━━━━━━ 46.0/46.0 kB 245.6 MB/s eta 0:00:00\n",
            "Downloading humanfriendly-10.0-py2.py3-none-any.whl (86 kB)\n",
            "   ━━━━━━━━━━━━━━━━━━━━━━━━━━━━━━━━━━━━━━━━ 86.8/86.8 kB 324.0 MB/s eta 0:00:00\n",
            "Installing collected packages: onnx, humanfriendly, onnxslim, coloredlogs, onnxruntime-gpu\n",
            "Successfully installed coloredlogs-15.0.1 humanfriendly-10.0 onnx-1.16.2 onnxruntime-gpu-1.19.2 onnxslim-0.1.34\n",
            "\n",
            "\u001b[31m\u001b[1mrequirements:\u001b[0m AutoUpdate success ✅ 13.1s, installed 3 packages: ['onnx>=1.12.0', 'onnxslim==0.1.34', 'onnxruntime-gpu']\n",
            "\u001b[31m\u001b[1mrequirements:\u001b[0m ⚠️ \u001b[1mRestart runtime or rerun command for updates to take effect\u001b[0m\n",
            "\n",
            "\n",
            "\u001b[34m\u001b[1mONNX:\u001b[0m starting export with onnx 1.16.2 opset 19...\n",
            "\u001b[34m\u001b[1mONNX:\u001b[0m slimming with onnxslim 0.1.34...\n",
            "\u001b[34m\u001b[1mONNX:\u001b[0m export success ✅ 37.2s, saved as 'Model-V5/Segment-Model-V5/weights/best.onnx' (12.6 MB)\n",
            "\n",
            "Export complete (38.7s)\n",
            "Results saved to \u001b[1m/content/Model-V5/Segment-Model-V5/weights\u001b[0m\n",
            "Predict:         yolo predict task=segment model=Model-V5/Segment-Model-V5/weights/best.onnx imgsz=640 int8 \n",
            "Validate:        yolo val task=segment model=Model-V5/Segment-Model-V5/weights/best.onnx imgsz=640 data=/content/Road-Lines-Segmentation-3-2/data.yaml int8 \n",
            "Visualize:       https://netron.app\n"
          ]
        },
        {
          "output_type": "execute_result",
          "data": {
            "text/plain": [
              "'Model-V5/Segment-Model-V5/weights/best.onnx'"
            ],
            "application/vnd.google.colaboratory.intrinsic+json": {
              "type": "string"
            }
          },
          "metadata": {},
          "execution_count": 17
        }
      ]
    },
    {
      "cell_type": "code",
      "source": [
        "rf = Roboflow(api_key=API_KEY)\n",
        "project = rf.workspace(\"capstoneteam\").project(\"road-lines-segmentation-3\")\n",
        "project.version(2).deploy(model_type=\"yolov8n\", model_path=\"/content/Model-V5/Segment-Model-V5\")\n"
      ],
      "metadata": {
        "execution": {
          "iopub.status.busy": "2024-09-28T16:28:23.510744Z",
          "iopub.status.idle": "2024-09-28T16:28:23.511251Z",
          "shell.execute_reply.started": "2024-09-28T16:28:23.510997Z",
          "shell.execute_reply": "2024-09-28T16:28:23.511021Z"
        },
        "trusted": true,
        "colab": {
          "base_uri": "https://localhost:8080/"
        },
        "id": "qoL_HPn0Wwol",
        "outputId": "6e5dc2b4-1dc2-485b-bede-edc8ea37b19e"
      },
      "execution_count": null,
      "outputs": [
        {
          "output_type": "stream",
          "name": "stdout",
          "text": [
            "loading Roboflow workspace...\n",
            "loading Roboflow project...\n",
            "Dependency ultralytics==8.0.196 is required but found version=8.2.103, to fix: `pip install ultralytics==8.0.196`\n",
            "Would you like to continue with the wrong version of ultralytics? y/n: y\n",
            "View the status of your deployment at: https://app.roboflow.com/capstoneteam/road-lines-segmentation-3/2\n",
            "Share your model with the world at: https://universe.roboflow.com/capstoneteam/road-lines-segmentation-3/model/2\n"
          ]
        }
      ]
    },
    {
      "source": [
        "import locale\n",
        "print(locale.getpreferredencoding())"
      ],
      "cell_type": "code",
      "metadata": {
        "colab": {
          "base_uri": "https://localhost:8080/"
        },
        "id": "UJxdTrvyFdb0",
        "outputId": "b5ec971f-43e7-440b-c506-b8387d965ac2"
      },
      "execution_count": null,
      "outputs": [
        {
          "output_type": "stream",
          "name": "stdout",
          "text": [
            "ANSI_X3.4-1968\n"
          ]
        }
      ]
    },
    {
      "cell_type": "code",
      "source": [
        "def getpreferredencoding(do_setlocale = True):\n",
        "    return \"UTF-8\"\n",
        "locale.getpreferredencoding = getpreferredencoding"
      ],
      "metadata": {
        "id": "-oDACpvGGTOK"
      },
      "execution_count": null,
      "outputs": []
    },
    {
      "cell_type": "code",
      "source": [
        "!zip -r model.zip /content/Model-V5/Segment-Model-V5/"
      ],
      "metadata": {
        "colab": {
          "base_uri": "https://localhost:8080/"
        },
        "id": "is7AbF7FFR_f",
        "outputId": "67d08895-89fb-4e86-e990-4d9254d22281"
      },
      "execution_count": null,
      "outputs": [
        {
          "output_type": "stream",
          "name": "stdout",
          "text": [
            "updating: content/Model-V5/Segment-Model-V5/ (stored 0%)\n",
            "  adding: content/Model-V5/Segment-Model-V5/val_batch0_pred.jpg (deflated 8%)\n",
            "  adding: content/Model-V5/Segment-Model-V5/BoxPR_curve.png (deflated 10%)\n",
            "  adding: content/Model-V5/Segment-Model-V5/train_batch0.jpg (deflated 4%)\n",
            "  adding: content/Model-V5/Segment-Model-V5/results.csv (deflated 85%)\n",
            "  adding: content/Model-V5/Segment-Model-V5/results.png (deflated 9%)\n",
            "  adding: content/Model-V5/Segment-Model-V5/confusion_matrix.png (deflated 28%)\n",
            "  adding: content/Model-V5/Segment-Model-V5/MaskF1_curve.png (deflated 9%)\n",
            "  adding: content/Model-V5/Segment-Model-V5/MaskR_curve.png (deflated 9%)\n",
            "  adding: content/Model-V5/Segment-Model-V5/MaskP_curve.png (deflated 9%)\n",
            "  adding: content/Model-V5/Segment-Model-V5/roboflow_deploy.zip (stored 0%)\n",
            "  adding: content/Model-V5/Segment-Model-V5/events.out.tfevents.1727623941.06805434b498.712.0 (deflated 89%)\n",
            "  adding: content/Model-V5/Segment-Model-V5/state_dict.pt (deflated 9%)\n",
            "  adding: content/Model-V5/Segment-Model-V5/BoxP_curve.png (deflated 10%)\n",
            "  adding: content/Model-V5/Segment-Model-V5/confusion_matrix_normalized.png (deflated 28%)\n",
            "  adding: content/Model-V5/Segment-Model-V5/MaskPR_curve.png (deflated 11%)\n",
            "  adding: content/Model-V5/Segment-Model-V5/val_batch1_labels.jpg (deflated 12%)\n",
            "  adding: content/Model-V5/Segment-Model-V5/train_batch1.jpg (deflated 4%)\n",
            "  adding: content/Model-V5/Segment-Model-V5/train_batch2.jpg (deflated 5%)\n",
            "  adding: content/Model-V5/Segment-Model-V5/BoxR_curve.png (deflated 9%)\n",
            "  adding: content/Model-V5/Segment-Model-V5/weights/ (stored 0%)\n",
            "  adding: content/Model-V5/Segment-Model-V5/weights/last.pt (deflated 9%)\n",
            "  adding: content/Model-V5/Segment-Model-V5/weights/best.pt (deflated 9%)\n",
            "  adding: content/Model-V5/Segment-Model-V5/weights/best.onnx (deflated 13%)\n",
            "  adding: content/Model-V5/Segment-Model-V5/args.yaml (deflated 51%)\n",
            "  adding: content/Model-V5/Segment-Model-V5/labels.jpg (deflated 39%)\n",
            "  adding: content/Model-V5/Segment-Model-V5/val_batch2_pred.jpg (deflated 7%)\n",
            "  adding: content/Model-V5/Segment-Model-V5/val_batch0_labels.jpg (deflated 9%)\n",
            "  adding: content/Model-V5/Segment-Model-V5/val_batch2_labels.jpg (deflated 8%)\n",
            "  adding: content/Model-V5/Segment-Model-V5/labels_correlogram.jpg (deflated 38%)\n",
            "  adding: content/Model-V5/Segment-Model-V5/model_artifacts.json (deflated 63%)\n",
            "  adding: content/Model-V5/Segment-Model-V5/val_batch1_pred.jpg (deflated 11%)\n",
            "  adding: content/Model-V5/Segment-Model-V5/BoxF1_curve.png (deflated 9%)\n"
          ]
        }
      ]
    },
    {
      "cell_type": "code",
      "source": [
        "!zip -r evaluation.zip /content/Model-V5/Model-segment-evaluation-53"
      ],
      "metadata": {
        "colab": {
          "base_uri": "https://localhost:8080/"
        },
        "collapsed": true,
        "id": "FF002xNoFg_W",
        "outputId": "a54241f3-48d3-4187-b150-b6b30d87f8f5"
      },
      "execution_count": null,
      "outputs": [
        {
          "output_type": "stream",
          "name": "stdout",
          "text": [
            "updating: content/Model-V5/Model-segment-evaluation-53/ (stored 0%)\n",
            "  adding: content/Model-V5/Model-segment-evaluation-53/val_batch0_pred.jpg (deflated 9%)\n",
            "  adding: content/Model-V5/Model-segment-evaluation-53/BoxPR_curve.png (deflated 10%)\n",
            "  adding: content/Model-V5/Model-segment-evaluation-53/confusion_matrix.png (deflated 28%)\n",
            "  adding: content/Model-V5/Model-segment-evaluation-53/MaskF1_curve.png (deflated 9%)\n",
            "  adding: content/Model-V5/Model-segment-evaluation-53/MaskR_curve.png (deflated 9%)\n",
            "  adding: content/Model-V5/Model-segment-evaluation-53/MaskP_curve.png (deflated 10%)\n",
            "  adding: content/Model-V5/Model-segment-evaluation-53/BoxP_curve.png (deflated 11%)\n",
            "  adding: content/Model-V5/Model-segment-evaluation-53/confusion_matrix_normalized.png (deflated 28%)\n",
            "  adding: content/Model-V5/Model-segment-evaluation-53/MaskPR_curve.png (deflated 11%)\n",
            "  adding: content/Model-V5/Model-segment-evaluation-53/val_batch1_labels.jpg (deflated 8%)\n",
            "  adding: content/Model-V5/Model-segment-evaluation-53/BoxR_curve.png (deflated 9%)\n",
            "  adding: content/Model-V5/Model-segment-evaluation-53/val_batch2_pred.jpg (deflated 13%)\n",
            "  adding: content/Model-V5/Model-segment-evaluation-53/val_batch0_labels.jpg (deflated 9%)\n",
            "  adding: content/Model-V5/Model-segment-evaluation-53/val_batch2_labels.jpg (deflated 14%)\n",
            "  adding: content/Model-V5/Model-segment-evaluation-53/predictions.json (deflated 81%)\n",
            "  adding: content/Model-V5/Model-segment-evaluation-53/val_batch1_pred.jpg (deflated 8%)\n",
            "  adding: content/Model-V5/Model-segment-evaluation-53/BoxF1_curve.png (deflated 9%)\n",
            "  adding: content/Model-V5/Model-segment-evaluation-53/labels/ (stored 0%)\n",
            "  adding: content/Model-V5/Model-segment-evaluation-53/labels/front-right-NO20240903-144041-000834F_MP4-0185_jpg.rf.3d8c95fe296a8410f232a03951d814ae.txt (deflated 82%)\n",
            "  adding: content/Model-V5/Model-segment-evaluation-53/labels/NO20240909-181040-000008F_MP4-0065_jpg.rf.8b71acfb795e4cd4fb50eb555eb9661b.txt (deflated 80%)\n",
            "  adding: content/Model-V5/Model-segment-evaluation-53/labels/front-left-NO20240903-145541-000849F_MP4-0151_jpg.rf.6aadc732fdb81afcc91ace4faa55c634.txt (deflated 80%)\n",
            "  adding: content/Model-V5/Model-segment-evaluation-53/labels/night-front-right-NO20240909-183440-000032F_MP4-0285_jpg.rf.ef47b54eb10551c956a9c2a291a959a9.txt (deflated 76%)\n",
            "  adding: content/Model-V5/Model-segment-evaluation-53/labels/front-left_MP4-0179_jpg.rf.75f941bbc52643d7d24b9c25a3ea8d49.txt (deflated 80%)\n",
            "  adding: content/Model-V5/Model-segment-evaluation-53/labels/front-left-NO20240903-152241-000876F_MP4-0051_jpg.rf.11064a60e46e579ba1a83dc99ccf9aec.txt (deflated 80%)\n",
            "  adding: content/Model-V5/Model-segment-evaluation-53/labels/front-left_MP4-0084_jpg.rf.b69459089acf97cff56346c6ef8b5860.txt (deflated 80%)\n",
            "  adding: content/Model-V5/Model-segment-evaluation-53/labels/front-left-NO20240903-145541-000849F_MP4-0256_jpg.rf.eb2c31bbeb2b2b8e1193c90fb174b9cf.txt (deflated 72%)\n",
            "  adding: content/Model-V5/Model-segment-evaluation-53/labels/front-left-NO20240903-145041-000844F_MP4-0191_jpg.rf.5a03366dd3e965b91ab3f07d234b97f4.txt (deflated 77%)\n",
            "  adding: content/Model-V5/Model-segment-evaluation-53/labels/front-left-NO20240903-145041-000844F_MP4-0147_jpg.rf.91513101287d3d5ab37b5ba06a5c0a45.txt (deflated 77%)\n",
            "  adding: content/Model-V5/Model-segment-evaluation-53/labels/front-left-NO20240903-145541-000849F_MP4-0225_jpg.rf.9dac94b70d1f73db3c0be6894a30f18a.txt (deflated 77%)\n",
            "  adding: content/Model-V5/Model-segment-evaluation-53/labels/NO20240909-181140-000009F_MP4-0062_jpg.rf.2fa34932c1a728aae59b5dd031e81050.txt (deflated 79%)\n",
            "  adding: content/Model-V5/Model-segment-evaluation-53/labels/front-left-NO20240903-150741-000861F_MP4-0164_jpg.rf.5c695cea0ffb5e02501ef7445eca75f8.txt (deflated 81%)\n",
            "  adding: content/Model-V5/Model-segment-evaluation-53/labels/front-left-NO20240903-150741-000861F_MP4-0029_jpg.rf.09fa98544a0615d251b7f4ebc4c664b5.txt (deflated 81%)\n",
            "  adding: content/Model-V5/Model-segment-evaluation-53/labels/front-left-NO20240903-152241-000876F_MP4-0248_jpg.rf.00300af83689c78c5e4a3ce18526e508.txt (deflated 76%)\n",
            "  adding: content/Model-V5/Model-segment-evaluation-53/labels/v1_mp4-0035_jpg.rf.97aac0196288867b25d827a3e3d3e229.txt (deflated 80%)\n",
            "  adding: content/Model-V5/Model-segment-evaluation-53/labels/front-left-NO20240903-152241-000876F_MP4-0274_jpg.rf.1361af739e0b542ae2ede4a572f63f67.txt (deflated 76%)\n",
            "  adding: content/Model-V5/Model-segment-evaluation-53/labels/front-left-NO20240909-144404-000349F_MP4-0031_jpg.rf.971a72280b3c5d7b99b37299d33c1dcb.txt (deflated 79%)\n",
            "  adding: content/Model-V5/Model-segment-evaluation-53/labels/front-left-NO20240908-145938-000145F_MP4-0065_jpg.rf.3132164e4d9007ce81258e7e0aa21507.txt (deflated 79%)\n",
            "  adding: content/Model-V5/Model-segment-evaluation-53/labels/front-left-NO20240909-143404-000339F_MP4-0022_jpg.rf.00a3ae77604938167a10fb20be2f7d72.txt (deflated 80%)\n",
            "  adding: content/Model-V5/Model-segment-evaluation-53/labels/front-left-NO20240903-145141-000845F_MP4-0011_jpg.rf.9db3299c818069bdcb63f218189b2f72.txt (deflated 80%)\n",
            "  adding: content/Model-V5/Model-segment-evaluation-53/labels/front-left-NO20240903-145141-000845F_MP4-0097_jpg.rf.7f2afeea24d2e05911c83621df5a3de9.txt (deflated 79%)\n",
            "  adding: content/Model-V5/Model-segment-evaluation-53/labels/cars-NO20240914-114048-000222F_MP4-0269_jpg.rf.9f22210ebb0838d8f03cb6a22dd993d4.txt (deflated 81%)\n",
            "  adding: content/Model-V5/Model-segment-evaluation-53/labels/front-left-NO20240903-150741-000861F_MP4-0048_jpg.rf.a0bfce603551a48106feaa5e01053619.txt (deflated 81%)\n",
            "  adding: content/Model-V5/Model-segment-evaluation-53/labels/front-left-NO20240903-145541-000849F_MP4-0253_jpg.rf.c99aa627fc5b107429294f8e84542440.txt (deflated 75%)\n",
            "  adding: content/Model-V5/Model-segment-evaluation-53/labels/front-left-NO20240903-145441-000848F_MP4-0295_jpg.rf.9f60479c0b527d7db2044ca9009b2626.txt (deflated 76%)\n",
            "  adding: content/Model-V5/Model-segment-evaluation-53/labels/front-right-NO20240903-143941-000833F_MP4-0087_jpg.rf.3c00653bfcaefdb0ad1491fa88dfaf79.txt (deflated 83%)\n",
            "  adding: content/Model-V5/Model-segment-evaluation-53/labels/front-left-NO20240903-145541-000849F_MP4-0276_jpg.rf.1e136949451329448d7bd6006e77922f.txt (deflated 77%)\n",
            "  adding: content/Model-V5/Model-segment-evaluation-53/labels/front-left-NO20240903-145541-000849F_MP4-0076_jpg.rf.e1e7ba53e09c49e8fac4830ce3a09338.txt (deflated 77%)\n",
            "  adding: content/Model-V5/Model-segment-evaluation-53/labels/front-left-NO20240903-145541-000849F_MP4-0205_jpg.rf.16297451a25a88a3b9fef6800bb7ef7b.txt (deflated 80%)\n",
            "  adding: content/Model-V5/Model-segment-evaluation-53/labels/front-right-NO20240909-181240-000010F_MP4-0118_jpg.rf.dc57eb285809c2c9ab2da327f5db9565.txt (deflated 74%)\n",
            "  adding: content/Model-V5/Model-segment-evaluation-53/labels/front-right-NO20240903-144041-000834F_MP4-0193_jpg.rf.7869995f636d1f7f45cf1c73c77ac6db.txt (deflated 78%)\n",
            "  adding: content/Model-V5/Model-segment-evaluation-53/labels/front-right-NO20240903-143941-000833F_MP4-0089_jpg.rf.291be7cdf55dad40cd71a0c1da172e80.txt (deflated 82%)\n",
            "  adding: content/Model-V5/Model-segment-evaluation-53/labels/front-left-NO20240903-152241-000876F_MP4-0030_jpg.rf.e3a4b236136f742025790b6a18cfb8da.txt (deflated 77%)\n",
            "  adding: content/Model-V5/Model-segment-evaluation-53/labels/front-left-NO20240903-145541-000849F_MP4-0022_jpg.rf.81e5a09d78db41e78e737ec8a436497c.txt (deflated 77%)\n",
            "  adding: content/Model-V5/Model-segment-evaluation-53/labels/front-left-NO20240903-150741-000861F_MP4-0101_jpg.rf.cd73934e1b7e5d3b2f7445c32917e1e0.txt (deflated 77%)\n",
            "  adding: content/Model-V5/Model-segment-evaluation-53/labels/front-left-NO20240903-145541-000849F_MP4-0062_jpg.rf.d6a698e3a557f043b5f4af68e70773d9.txt (deflated 76%)\n",
            "  adding: content/Model-V5/Model-segment-evaluation-53/labels/front-left-NO20240903-150741-000861F_MP4-0113_jpg.rf.2327c7f4add9fca01ab9357d750e1809.txt (deflated 81%)\n",
            "  adding: content/Model-V5/Model-segment-evaluation-53/labels/front-left_MP4-0141_jpg.rf.c5f9bf220514e58a4be38ba1987bf2e4.txt (deflated 79%)\n",
            "  adding: content/Model-V5/Model-segment-evaluation-53/labels/front-right-NO20240903-143941-000833F_MP4-0167_jpg.rf.7bcede04071445c5fad1cad5e40bc4f5.txt (deflated 82%)\n",
            "  adding: content/Model-V5/Model-segment-evaluation-53/labels/front-left-NO20240903-145041-000844F_MP4-0179_jpg.rf.9a6040077d07398f6c54e93755894320.txt (deflated 80%)\n",
            "  adding: content/Model-V5/Model-segment-evaluation-53/labels/cars-NO20240914-114048-000222F_MP4-0218_jpg.rf.51256f5d8cc4e80bf69f2825825362f5.txt (deflated 84%)\n",
            "  adding: content/Model-V5/Model-segment-evaluation-53/labels/front-right-NO20240909-181240-000010F_MP4-0245_jpg.rf.80e17ff2aae93d558ca820983febe4fb.txt (deflated 78%)\n",
            "  adding: content/Model-V5/Model-segment-evaluation-53/labels/night-front-right-NO20240909-182940-000027F_MP4-0087_jpg.rf.7fa86f2939aa134dfeaed841f79d808c.txt (deflated 78%)\n",
            "  adding: content/Model-V5/Model-segment-evaluation-53/labels/front-left-NO20240910-063925-000111F_MP4-0120_jpg.rf.c83c125847fd08e9d6ff8dec3be286eb.txt (deflated 76%)\n",
            "  adding: content/Model-V5/Model-segment-evaluation-53/labels/front-left-NO20240903-150741-000861F_MP4-0100_jpg.rf.f29a549b07a446780d11207a42640ce2.txt (deflated 77%)\n",
            "  adding: content/Model-V5/Model-segment-evaluation-53/labels/front-left_MP4-0135_jpg.rf.2fc3ea4acd6e795fa0dd6468f2459330.txt (deflated 80%)\n",
            "  adding: content/Model-V5/Model-segment-evaluation-53/labels/front-left-NO20240903-145141-000845F_MP4-0083_jpg.rf.d5f776ef28089d4a5f87042288637393.txt (deflated 79%)\n",
            "  adding: content/Model-V5/Model-segment-evaluation-53/labels/front-left-NO20240903-145541-000849F_MP4-0212_jpg.rf.15a271ea006245956dd9ad1525092e08.txt (deflated 81%)\n",
            "  adding: content/Model-V5/Model-segment-evaluation-53/labels/front-left-NO20240903-152241-000876F_MP4-0299_jpg.rf.c5a4dd7a296e9ec888420784127eadc8.txt (deflated 77%)\n",
            "  adding: content/Model-V5/Model-segment-evaluation-53/labels/front-left-NO20240903-145041-000844F_MP4-0021_jpg.rf.2d7c2cc3443d602f1b25a69a61ad9d8f.txt (deflated 77%)\n",
            "  adding: content/Model-V5/Model-segment-evaluation-53/labels/front-left-NO20240903-152241-000876F_MP4-0092_jpg.rf.7f043a4dd06b249f46146234f858f950.txt (deflated 76%)\n",
            "  adding: content/Model-V5/Model-segment-evaluation-53/labels/front-left-NO20240903-145141-000845F_MP4-0169_jpg.rf.94ca95d11079ceb8df86fab0c58d2a9a.txt (deflated 84%)\n",
            "  adding: content/Model-V5/Model-segment-evaluation-53/labels/front-left-NO20240903-145441-000848F_MP4-0297_jpg.rf.73043eae02df28aad0a8ca5867b6a3b7.txt (deflated 78%)\n",
            "  adding: content/Model-V5/Model-segment-evaluation-53/labels/front-left-NO20240909-144104-000346F_MP4-0172_jpg.rf.08ca36e2e1ea3e37f243094471920145.txt (deflated 82%)\n",
            "  adding: content/Model-V5/Model-segment-evaluation-53/labels/front-left_MP4-0191_jpg.rf.47aa4282bf8a2b0e06d7caa318190d8d.txt (deflated 80%)\n",
            "  adding: content/Model-V5/Model-segment-evaluation-53/labels/front-left-NO20240903-145141-000845F_MP4-0110_jpg.rf.6ac09ea882f1341eba5c9f5abd10bb44.txt (deflated 78%)\n",
            "  adding: content/Model-V5/Model-segment-evaluation-53/labels/cars-NO20240914-114248-000224F_MP4-0021_jpg.rf.974e12f498f1f870fa671d2aa083faa8.txt (deflated 81%)\n",
            "  adding: content/Model-V5/Model-segment-evaluation-53/labels/front-left-NO20240903-145141-000845F_MP4-0172_jpg.rf.bb4b61e7e323a58e13caadbcc7f4591a.txt (deflated 80%)\n",
            "  adding: content/Model-V5/Model-segment-evaluation-53/labels/front-right-NO20240903-144141-000835F_MP4-0181_jpg.rf.88231d55c058293d3acaf12abfbd7579.txt (deflated 77%)\n",
            "  adding: content/Model-V5/Model-segment-evaluation-53/labels/front-left-NO20240909-145804-000363F_MP4-0105_jpg.rf.41cca2efab37bf14716acb709f24f5bb.txt (deflated 76%)\n",
            "  adding: content/Model-V5/Model-segment-evaluation-53/labels/front-left-NO20240903-145041-000844F_MP4-0234_jpg.rf.06281602ef05707e90066513766667d4.txt (deflated 74%)\n",
            "  adding: content/Model-V5/Model-segment-evaluation-53/labels/front-left-NO20240903-145541-000849F_MP4-0231_jpg.rf.b88eb81571e142c3be140760aada63bc.txt (deflated 79%)\n",
            "  adding: content/Model-V5/Model-segment-evaluation-53/labels/front-left-NO20240909-144004-000345F_MP4-0018_jpg.rf.1128721b0d63819cbe3614f2bfb6d1db.txt (deflated 81%)\n",
            "  adding: content/Model-V5/Model-segment-evaluation-53/labels/front-left-NO20240903-150741-000861F_MP4-0002_jpg.rf.f592280911f8faea5f7f580c02a7bf40.txt (deflated 82%)\n",
            "  adding: content/Model-V5/Model-segment-evaluation-53/labels/front-left-NO20240903-145141-000845F_MP4-0051_jpg.rf.ba7e801c7c8aaaaa55d80350d2402a34.txt (deflated 81%)\n",
            "  adding: content/Model-V5/Model-segment-evaluation-53/labels/front-left-NO20240903-145541-000849F_MP4-0238_jpg.rf.4c579d78def4156162164b859627a434.txt (deflated 78%)\n",
            "  adding: content/Model-V5/Model-segment-evaluation-53/labels/front-right-NO20240903-144041-000834F_MP4-0098_jpg.rf.26ef05fa11e8663b665db270e3b6cbfd.txt (deflated 78%)\n",
            "  adding: content/Model-V5/Model-segment-evaluation-53/labels/front-left-NO20240903-150741-000861F_MP4-0141_jpg.rf.bcdcf5f036bf059ddeffc6e0e1965ab7.txt (deflated 79%)\n",
            "  adding: content/Model-V5/Model-segment-evaluation-53/labels/front-left-NO20240903-152241-000876F_MP4-0235_jpg.rf.b444a52cfcbcd657388cd40eda446e2c.txt (deflated 77%)\n",
            "  adding: content/Model-V5/Model-segment-evaluation-53/labels/front-right-NO20240909-181240-000010F_MP4-0025_jpg.rf.f0ea1258bf5f389af512a7f09a3e78d9.txt (deflated 78%)\n",
            "  adding: content/Model-V5/Model-segment-evaluation-53/labels/front-left-NO20240903-145541-000849F_MP4-0206_jpg.rf.d8cf9ee8d4ee4ced11bff97a496c2466.txt (deflated 78%)\n",
            "  adding: content/Model-V5/Model-segment-evaluation-53/labels/front-left_MP4-0005_jpg.rf.1bf4e5312992b0f2ccab74c49765358e.txt (deflated 78%)\n",
            "  adding: content/Model-V5/Model-segment-evaluation-53/labels/front-right-NO20240903-143941-000833F_MP4-0210_jpg.rf.06c2db89564ac33aa8b8644de10a5d36.txt (deflated 78%)\n",
            "  adding: content/Model-V5/Model-segment-evaluation-53/labels/front-left-NO20240903-145541-000849F_MP4-0024_jpg.rf.53238514c547a2d02f7055fb2946ce99.txt (deflated 79%)\n",
            "  adding: content/Model-V5/Model-segment-evaluation-53/labels/front-left-NO20240903-145441-000848F_MP4-0242_jpg.rf.f8614abc600657960b26747f9a5bedca.txt (deflated 79%)\n",
            "  adding: content/Model-V5/Model-segment-evaluation-53/labels/front-left-NO20240903-145541-000849F_MP4-0064_jpg.rf.5087563405f6f33f91c1773a34b5c0ac.txt (deflated 78%)\n",
            "  adding: content/Model-V5/Model-segment-evaluation-53/labels/front-left_MP4-0143_jpg.rf.6cad4bba2c87e7912a0503d4aa7d37cc.txt (deflated 79%)\n",
            "  adding: content/Model-V5/Model-segment-evaluation-53/labels/night-front-right-NO20240909-183740-000035F_MP4-0293_jpg.rf.d52da8bfb1b3d27a5b3c953fb0b70ce9.txt (deflated 77%)\n",
            "  adding: content/Model-V5/Model-segment-evaluation-53/labels/NO20240917-143737-000242F_MP4-0036_jpg.rf.c87b8fe2ba6f76b391d60fe5d289f721.txt (deflated 79%)\n",
            "  adding: content/Model-V5/Model-segment-evaluation-53/labels/night-front-right-NO20240909-182940-000027F_MP4-0016_jpg.rf.25edab16b782bd492cddf71d7bbf444b.txt (deflated 78%)\n",
            "  adding: content/Model-V5/Model-segment-evaluation-53/labels/front-right-NO20240903-144041-000834F_MP4-0061_jpg.rf.60b230646beb8ae6e713f30cafd24f30.txt (deflated 82%)\n",
            "  adding: content/Model-V5/Model-segment-evaluation-53/labels/NO20240917-143837-000243F_MP4-0108_jpg.rf.41109d8f41ecf81ce16e454395f79140.txt (deflated 81%)\n",
            "  adding: content/Model-V5/Model-segment-evaluation-53/labels/front-left_MP4-0192_jpg.rf.53ef1afaee5cb07761bfbf73b625864f.txt (deflated 80%)\n",
            "  adding: content/Model-V5/Model-segment-evaluation-53/labels/front-left-NO20240903-150741-000861F_MP4-0137_jpg.rf.7e8f241309517116d1976b34ba83620d.txt (deflated 78%)\n",
            "  adding: content/Model-V5/Model-segment-evaluation-53/labels/front-left-NO20240903-150741-000861F_MP4-0286_jpg.rf.c765af4a5dd10be98932c3246b935133.txt (deflated 79%)\n",
            "  adding: content/Model-V5/Model-segment-evaluation-53/labels/front-left-NO20240903-145541-000849F_MP4-0056_jpg.rf.59d993843d0cf53163f5b3fda3457110.txt (deflated 76%)\n",
            "  adding: content/Model-V5/Model-segment-evaluation-53/labels/v3_mp4-0040_jpg.rf.9ddfee61ef45e63ee63c5e0c143671d5.txt (deflated 79%)\n",
            "  adding: content/Model-V5/Model-segment-evaluation-53/labels/night-front-right-NO20240909-183740-000035F_MP4-0027_jpg.rf.a6bf9b85576ddb2e5441d3a7bbab74d1.txt (deflated 80%)\n",
            "  adding: content/Model-V5/Model-segment-evaluation-53/labels/front-right-NO20240903-143941-000833F_MP4-0291_jpg.rf.56e53b7f3819fb79f999450c6acfb40c.txt (deflated 81%)\n",
            "  adding: content/Model-V5/Model-segment-evaluation-53/labels/front-right-NO20240903-144141-000835F_MP4-0029_jpg.rf.f502f2cd371d7ee118f68c8c16e09db8.txt (deflated 82%)\n",
            "  adding: content/Model-V5/Model-segment-evaluation-53/labels/night-front-right-NO20240909-183540-000033F_MP4-0212_jpg.rf.553141ac1f0855fa4a1a750595f504b3.txt (deflated 79%)\n",
            "  adding: content/Model-V5/Model-segment-evaluation-53/labels/front-left-NO20240903-145541-000849F_MP4-0184_jpg.rf.348755dfe6881c0a2d845ee3c0ce3222.txt (deflated 74%)\n",
            "  adding: content/Model-V5/Model-segment-evaluation-53/labels/front-left_MP4-0146_jpg.rf.e86483b4a2dbfbe8df42ff026225d3f5.txt (deflated 77%)\n",
            "  adding: content/Model-V5/Model-segment-evaluation-53/labels/front-right-NO20240903-143941-000833F_MP4-0298_jpg.rf.340bcc67ede63dc4a748dd03ec003984.txt (deflated 84%)\n",
            "  adding: content/Model-V5/Model-segment-evaluation-53/labels/front-left-NO20240903-145141-000845F_MP4-0247_jpg.rf.9c36ce5312bc7e4804c29aa67917ad90.txt (deflated 79%)\n",
            "  adding: content/Model-V5/Model-segment-evaluation-53/labels/front-left-NO20240903-145541-000849F_MP4-0047_jpg.rf.dadce03feb1e4db290e0e97bd6a23a81.txt (deflated 78%)\n",
            "  adding: content/Model-V5/Model-segment-evaluation-53/labels/front-left-NO20240903-145541-000849F_MP4-0268_jpg.rf.2aa5913cbe233cb18b34bad7a084013c.txt (deflated 77%)\n",
            "  adding: content/Model-V5/Model-segment-evaluation-53/labels/front-left-NO20240908-150438-000150F_MP4-0015_jpg.rf.6934c3ceddb91ed058408d7551691ed8.txt (deflated 80%)\n",
            "  adding: content/Model-V5/Model-segment-evaluation-53/labels/front-left-NO20240903-145141-000845F_MP4-0095_jpg.rf.20db98cddc867fc343641615cc4165c5.txt (deflated 77%)\n",
            "  adding: content/Model-V5/Model-segment-evaluation-53/labels/front-left-NO20240903-145141-000845F_MP4-0146_jpg.rf.4a04f4ac0b475fbdfaa45928d9701365.txt (deflated 77%)\n",
            "  adding: content/Model-V5/Model-segment-evaluation-53/labels/front-left-NO20240903-145541-000849F_MP4-0227_jpg.rf.1299a130a0d418233d07da7628a2c859.txt (deflated 79%)\n",
            "  adding: content/Model-V5/Model-segment-evaluation-53/labels/front-left-NO20240903-145041-000844F_MP4-0230_jpg.rf.818f3068cd0ae947f68fe75afe74ee4f.txt (deflated 76%)\n",
            "  adding: content/Model-V5/Model-segment-evaluation-53/labels/front-left-NO20240903-145541-000849F_MP4-0263_jpg.rf.0510e8a9e5af70a0a4fa4f4100171992.txt (deflated 75%)\n",
            "  adding: content/Model-V5/Model-segment-evaluation-53/labels/front-left-NO20240903-145141-000845F_MP4-0120_jpg.rf.b7df87489dc3d1ac90e0e8e95796e54f.txt (deflated 78%)\n",
            "  adding: content/Model-V5/Model-segment-evaluation-53/labels/v1_mp4-0033_jpg.rf.166b089459fdf4f7a929c4c74ade7cb7.txt (deflated 83%)\n",
            "  adding: content/Model-V5/Model-segment-evaluation-53/labels/front-left-NO20240908-150138-000147F_MP4-0009_jpg.rf.63dd9b8a048b24fb6ea8c6e628afebad.txt (deflated 78%)\n",
            "  adding: content/Model-V5/Model-segment-evaluation-53/labels/front-left_MP4-0064_jpg.rf.4bead02a3ea72899249e3b133d11d715.txt (deflated 79%)\n",
            "  adding: content/Model-V5/Model-segment-evaluation-53/labels/front-left-NO20240903-145541-000849F_MP4-0246_jpg.rf.dbd867057e35fc0e3cd38ec0d7a7776e.txt (deflated 75%)\n",
            "  adding: content/Model-V5/Model-segment-evaluation-53/labels/front-left-NO20240903-145141-000845F_MP4-0122_jpg.rf.b50080c76ca70d30d2430f9bc295eb94.txt (deflated 78%)\n",
            "  adding: content/Model-V5/Model-segment-evaluation-53/labels/front-right-NO20240909-181440-000012F_MP4-0021_jpg.rf.84890937edae404c5ef88f83a00e29d0.txt (deflated 78%)\n",
            "  adding: content/Model-V5/Model-segment-evaluation-53/labels/front-left_MP4-0007_jpg.rf.06297ec255afebbddc75ed22255c0a0e.txt (deflated 79%)\n",
            "  adding: content/Model-V5/Model-segment-evaluation-53/labels/front-left-NO20240909-145704-000362F_MP4-0145_jpg.rf.4c0988665566d6a4baa04997672ea80a.txt (deflated 76%)\n",
            "  adding: content/Model-V5/Model-segment-evaluation-53/labels/front-left-NO20240903-150741-000861F_MP4-0125_jpg.rf.8a610c61af4becd5d3ec0849e962deac.txt (deflated 79%)\n",
            "  adding: content/Model-V5/Model-segment-evaluation-53/labels/front-left-NO20240903-145041-000844F_MP4-0270_jpg.rf.3080e1f7824f897a6ed5e05014ccf808.txt (deflated 79%)\n",
            "  adding: content/Model-V5/Model-segment-evaluation-53/labels/front-left-NO20240903-145141-000845F_MP4-0081_jpg.rf.1e499aef46353b1fa2aace7aa84fb449.txt (deflated 85%)\n",
            "  adding: content/Model-V5/Model-segment-evaluation-53/labels/front-left-NO20240903-145141-000845F_MP4-0053_jpg.rf.998a83366874f1e61ea5e9b426310b18.txt (deflated 80%)\n",
            "  adding: content/Model-V5/Model-segment-evaluation-53/labels/front-left-NO20240903-150741-000861F_MP4-0270_jpg.rf.adb80487113030a3d6ba61a72c0b7883.txt (deflated 80%)\n",
            "  adding: content/Model-V5/Model-segment-evaluation-53/labels/front-left_MP4-0087_jpg.rf.38aaf02a74e28e98ee956b605e00fcfc.txt (deflated 81%)\n",
            "  adding: content/Model-V5/Model-segment-evaluation-53/labels/front-left-NO20240909-151004-000375F_MP4-0060_jpg.rf.06eb8870b2bf2c57e613f9f51408f86f.txt (deflated 81%)\n",
            "  adding: content/Model-V5/Model-segment-evaluation-53/labels/cars-NO20240914-114048-000222F_MP4-0101_jpg.rf.2d88042d87c3092807a293ac99a5b7c1.txt (deflated 79%)\n",
            "  adding: content/Model-V5/Model-segment-evaluation-53/labels/front-left-NO20240903-145441-000848F_MP4-0104_jpg.rf.512a66b8142b25ee6d9f2077b9906620.txt (deflated 83%)\n",
            "  adding: content/Model-V5/Model-segment-evaluation-53/labels/front-left-NO20240903-152241-000876F_MP4-0212_jpg.rf.33fd09b7a6fcddaa0ee6733c5ebb0be8.txt (deflated 83%)\n",
            "  adding: content/Model-V5/Model-segment-evaluation-53/labels/front-right-NO20240903-144041-000834F_MP4-0259_jpg.rf.7e49966eba6e5c93ec0a303af3116cc3.txt (deflated 80%)\n",
            "  adding: content/Model-V5/Model-segment-evaluation-53/labels/front-left-NO20240903-152241-000876F_MP4-0021_jpg.rf.ee69793343981ca9f41c5d169d2d0faa.txt (deflated 78%)\n",
            "  adding: content/Model-V5/Model-segment-evaluation-53/labels/front-left-NO20240909-144004-000345F_MP4-0151_jpg.rf.00d80b1d1b9a92c4c7e4c1da52c3b0b4.txt (deflated 78%)\n",
            "  adding: content/Model-V5/Model-segment-evaluation-53/labels/front-left-NO20240903-150741-000861F_MP4-0044_jpg.rf.e9c3e9c7a3cdc3f756cb6f97c11c1885.txt (deflated 80%)\n",
            "  adding: content/Model-V5/Model-segment-evaluation-53/labels/front-left-NO20240903-145541-000849F_MP4-0018_jpg.rf.63dd6b608197e0c9cd588f0cd3bdce15.txt (deflated 77%)\n",
            "  adding: content/Model-V5/Model-segment-evaluation-53/labels/cars-NO20240910-060525-000077F_MP4-0140_jpg.rf.c355f8b70cf0f12249fe90dc88cabdd4.txt (deflated 78%)\n",
            "  adding: content/Model-V5/Model-segment-evaluation-53/labels/front-left-NO20240903-150741-000861F_MP4-0098_jpg.rf.e0935b708e07daa70eedd7f9ee5211a3.txt (deflated 78%)\n",
            "  adding: content/Model-V5/Model-segment-evaluation-53/labels/front-left_MP4-0033_jpg.rf.80373b260c263e508bf66f47977ac9e4.txt (deflated 82%)\n",
            "  adding: content/Model-V5/Model-segment-evaluation-53/labels/front-left_MP4-0093_jpg.rf.4f237c3cd29dd3a8cacb1a546532e6a1.txt (deflated 81%)\n",
            "  adding: content/Model-V5/Model-segment-evaluation-53/labels/front-left_MP4-0097_jpg.rf.45ab0c166b41c4ef929afb7f0f8521e0.txt (deflated 83%)\n",
            "  adding: content/Model-V5/Model-segment-evaluation-53/labels/front-left-NO20240909-143904-000344F_MP4-0129_jpg.rf.2c1127afc92345239a8d8803e349addc.txt (deflated 74%)\n",
            "  adding: content/Model-V5/Model-segment-evaluation-53/labels/front-right-NO20240903-143941-000833F_MP4-0009_jpg.rf.3db2709d062f719c8e91793e2b382259.txt (deflated 86%)\n",
            "  adding: content/Model-V5/Model-segment-evaluation-53/labels/front-left-NO20240903-145041-000844F_MP4-0146_jpg.rf.aa6e33453cf9401145173bee25e3d4a8.txt (deflated 75%)\n",
            "  adding: content/Model-V5/Model-segment-evaluation-53/labels/front-left-NO20240909-144504-000350F_MP4-0297_jpg.rf.79fd8d6789b3fc3c8513a9b9116b2ef4.txt (deflated 78%)\n",
            "  adding: content/Model-V5/Model-segment-evaluation-53/labels/front-left-NO20240903-152241-000876F_MP4-0296_jpg.rf.74e4e48d9d0c6fef7eda1a380e03f8dc.txt (deflated 76%)\n",
            "  adding: content/Model-V5/Model-segment-evaluation-53/labels/front-left-NO20240903-145141-000845F_MP4-0162_jpg.rf.661a74236c7a5cd0b67fceeb04c1f6f3.txt (deflated 77%)\n",
            "  adding: content/Model-V5/Model-segment-evaluation-53/labels/front-left-NO20240903-145441-000848F_MP4-0289_jpg.rf.0800560eaadef8090900c9abf9ef3d27.txt (deflated 76%)\n",
            "  adding: content/Model-V5/Model-segment-evaluation-53/labels/front-left-NO20240903-145441-000848F_MP4-0277_jpg.rf.8aa12f1e6baa1093b2815b22763b53b0.txt (deflated 81%)\n",
            "  adding: content/Model-V5/Model-segment-evaluation-53/labels/front-left-NO20240903-145141-000845F_MP4-0059_jpg.rf.05d2f791052749e6d410f40a04c15c5d.txt (deflated 80%)\n",
            "  adding: content/Model-V5/Model-segment-evaluation-53/labels/front-left-NO20240903-145041-000844F_MP4-0031_jpg.rf.fc8e60401de5b435271f7ee413c6811e.txt (deflated 77%)\n",
            "  adding: content/Model-V5/Model-segment-evaluation-53/labels/front-left-NO20240903-150741-000861F_MP4-0222_jpg.rf.f4b61c9b1e292373e1c5d58c38ce4c71.txt (deflated 80%)\n",
            "  adding: content/Model-V5/Model-segment-evaluation-53/labels/front-left-NO20240903-145541-000849F_MP4-0291_jpg.rf.ffd18462298ddc2f79b4f622465a1356.txt (deflated 73%)\n",
            "  adding: content/Model-V5/Model-segment-evaluation-53/labels/front-left-NO20240903-145541-000849F_MP4-0080_jpg.rf.44227f85bf9373512af136d7d3ac8630.txt (deflated 76%)\n",
            "  adding: content/Model-V5/Model-segment-evaluation-53/labels/front-left-NO20240903-145141-000845F_MP4-0176_jpg.rf.be501e0f0d6ce4d6a7e224cc66dbe3f2.txt (deflated 81%)\n",
            "  adding: content/Model-V5/Model-segment-evaluation-53/labels/front-right-NO20240903-144141-000835F_MP4-0078_jpg.rf.9b209fbfa159626f7d8781ecc2069c10.txt (deflated 83%)\n",
            "  adding: content/Model-V5/Model-segment-evaluation-53/labels/front-left-NO20240903-150741-000861F_MP4-0154_jpg.rf.c5d0b10a1a4d6d13606c68eba8cc3f5b.txt (deflated 81%)\n",
            "  adding: content/Model-V5/Model-segment-evaluation-53/labels/front-left-NO20240903-150741-000861F_MP4-0059_jpg.rf.e154a6ff9b59c2a1fa78d182a21bda22.txt (deflated 82%)\n",
            "  adding: content/Model-V5/Model-segment-evaluation-53/labels/cars-NO20240914-112948-000211F_MP4-0084_jpg.rf.5d938ffacab0697c7631e5e8510c7b44.txt (deflated 77%)\n",
            "  adding: content/Model-V5/Model-segment-evaluation-53/labels/front-right-NO20240903-144141-000835F_MP4-0028_jpg.rf.75a3e946f98287ec76bb6906776713a2.txt (deflated 81%)\n",
            "  adding: content/Model-V5/Model-segment-evaluation-53/labels/night-front-right-NO20240909-183740-000035F_MP4-0217_jpg.rf.c0a4b472178d6cf4202fd95ea1a6ba08.txt (deflated 79%)\n",
            "  adding: content/Model-V5/Model-segment-evaluation-53/labels/front-left-NO20240903-152241-000876F_MP4-0067_jpg.rf.76b3e48fa80c2e8eb99bd4849bb03462.txt (deflated 76%)\n",
            "  adding: content/Model-V5/Model-segment-evaluation-53/labels/front-left-NO20240903-152241-000876F_MP4-0169_jpg.rf.670ac4e3d348f6c95219a2da91505f40.txt (deflated 80%)\n",
            "  adding: content/Model-V5/Model-segment-evaluation-53/labels/front-left-NO20240903-152241-000876F_MP4-0150_jpg.rf.cc8975c408d2a7b7c38e1ef77ddd74fb.txt (deflated 83%)\n",
            "  adding: content/Model-V5/Model-segment-evaluation-53/labels/front-right-NO20240909-181640-000014F_MP4-0023_jpg.rf.cfd6eaedc5e3f1e72fa15ecf73af51f4.txt (deflated 75%)\n",
            "  adding: content/Model-V5/Model-segment-evaluation-53/labels/front-left-NO20240903-145141-000845F_MP4-0101_jpg.rf.20f06474d547701d925b7107fbad4976.txt (deflated 79%)\n",
            "  adding: content/Model-V5/Model-segment-evaluation-53/labels/front-left-NO20240903-150741-000861F_MP4-0047_jpg.rf.8c9ba5d37cfcf8f170c39084712ec846.txt (deflated 81%)\n",
            "  adding: content/Model-V5/Model-segment-evaluation-53/labels/NO20240909-181140-000009F_MP4-0119_jpg.rf.2249861061c023902a8346904a54e175.txt (deflated 78%)\n",
            "  adding: content/Model-V5/Model-segment-evaluation-53/labels/NO20240917-143837-000243F_MP4-0096_jpg.rf.f49f08e1d9fd0c97b06670a12f06365c.txt (deflated 81%)\n",
            "  adding: content/Model-V5/Model-segment-evaluation-53/labels/front-left-NO20240903-152241-000876F_MP4-0294_jpg.rf.510c394b6476716fab8eb8a1bd25ffe8.txt (deflated 76%)\n",
            "  adding: content/Model-V5/Model-segment-evaluation-53/labels/front-left-NO20240903-145441-000848F_MP4-0253_jpg.rf.3a8fdb2690fa10fa2913b1b55ad6e9b2.txt (deflated 76%)\n",
            "  adding: content/Model-V5/Model-segment-evaluation-53/labels/front-left-NO20240903-145041-000844F_MP4-0176_jpg.rf.f980f01222df3cc5bbd231fc8e334010.txt (deflated 79%)\n",
            "  adding: content/Model-V5/Model-segment-evaluation-53/labels/front-left_MP4-0169_jpg.rf.f268557ca560b9c2b63eaaa9944c3b66.txt (deflated 80%)\n",
            "  adding: content/Model-V5/Model-segment-evaluation-53/labels/v8_mp4-0034_jpg.rf.c53b004b505a916edee0d4686c476629.txt (deflated 78%)\n",
            "  adding: content/Model-V5/Model-segment-evaluation-53/labels/front-right-NO20240909-181340-000011F_MP4-0011_jpg.rf.782ab2e2c441f896e12d61ec91c44243.txt (deflated 80%)\n",
            "  adding: content/Model-V5/Model-segment-evaluation-53/labels/front-right-NO20240909-181440-000012F_MP4-0148_jpg.rf.f7ad1bde45152f02a163aee920514e06.txt (deflated 79%)\n",
            "  adding: content/Model-V5/Model-segment-evaluation-53/labels/front-left-NO20240903-145041-000844F_MP4-0068_jpg.rf.36afd0d152f93b46a30d0fa0fbafb9e2.txt (deflated 77%)\n",
            "  adding: content/Model-V5/Model-segment-evaluation-53/labels/front-left-NO20240903-152241-000876F_MP4-0100_jpg.rf.bac47a87be35b150c847c117b4a2ee91.txt (deflated 78%)\n",
            "  adding: content/Model-V5/Model-segment-evaluation-53/labels/front-right-NO20240903-144141-000835F_MP4-0204_jpg.rf.0a16ccd9b16efaa1f2f20ccf48e2145d.txt (deflated 75%)\n",
            "  adding: content/Model-V5/Model-segment-evaluation-53/labels/front-left-NO20240903-145141-000845F_MP4-0175_jpg.rf.ef8f1470a2df59f99b80fac703539c0b.txt (deflated 79%)\n",
            "  adding: content/Model-V5/Model-segment-evaluation-53/labels/front-left_MP4-0148_jpg.rf.5e83fef066f88ef21fe07c90491e7fe2.txt (deflated 77%)\n",
            "  adding: content/Model-V5/Model-segment-evaluation-53/labels/front-left-NO20240903-152241-000876F_MP4-0094_jpg.rf.ed50277fd4a6d1d8204a10820cdb602f.txt (deflated 75%)\n",
            "  adding: content/Model-V5/Model-segment-evaluation-53/labels/front-left-NO20240903-145441-000848F_MP4-0280_jpg.rf.59e9d3e06b40a6920f06442aa6206272.txt (deflated 77%)\n",
            "  adding: content/Model-V5/Model-segment-evaluation-53/labels/front-left-NO20240903-145541-000849F_MP4-0188_jpg.rf.3c2632f840cc6e9b5f0bab3a26365f7c.txt (deflated 77%)\n",
            "  adding: content/Model-V5/Model-segment-evaluation-53/labels/front-right-NO20240909-181240-000010F_MP4-0268_jpg.rf.b41df0cd660c9632d6092118a9f25620.txt (deflated 81%)\n",
            "  adding: content/Model-V5/Model-segment-evaluation-53/labels/front-right-NO20240903-143941-000833F_MP4-0275_jpg.rf.636aaeff0274b12fed5ed2568fe47569.txt (deflated 79%)\n",
            "  adding: content/Model-V5/Model-segment-evaluation-53/labels/front-left-NO20240903-145041-000844F_MP4-0129_jpg.rf.8d43429a93d529444e8a8555bc8a717b.txt (deflated 75%)\n",
            "  adding: content/Model-V5/Model-segment-evaluation-53/labels/front-left-NO20240903-145141-000845F_MP4-0010_jpg.rf.9e40ef206ad5cc78a70dc27113aca45d.txt (deflated 77%)\n",
            "  adding: content/Model-V5/Model-segment-evaluation-53/labels/front-left-NO20240909-151104-000376F_MP4-0089_jpg.rf.6ecfb3386c3ceaf8af28b693bb576ca1.txt (deflated 77%)\n",
            "  adding: content/Model-V5/Model-segment-evaluation-53/labels/front-left_MP4-0040_jpg.rf.2ed7d0db339d4a768455fec000f653e4.txt (deflated 80%)\n",
            "  adding: content/Model-V5/Model-segment-evaluation-53/labels/NO20240909-181040-000008F_MP4-0131_jpg.rf.57411be78981e37ee26f87eaeeda2e11.txt (deflated 76%)\n",
            "  adding: content/Model-V5/Model-segment-evaluation-53/labels/v5_mp4-0085_jpg.rf.c418fe58952fd4d3c89c13ffd76f6ba4.txt (deflated 78%)\n",
            "  adding: content/Model-V5/Model-segment-evaluation-53/labels/v7_mp4-0003_jpg.rf.e4fcc482a3bab522b0cddd1e002fa27b.txt (deflated 76%)\n",
            "  adding: content/Model-V5/Model-segment-evaluation-53/labels/front-left_MP4-0028_jpg.rf.11fe990de0c7cbdf05e1e3b901daaa48.txt (deflated 81%)\n",
            "  adding: content/Model-V5/Model-segment-evaluation-53/labels/cars-NO20240914-114048-000222F_MP4-0184_jpg.rf.0466665062dfd31fc18912aca644c7e0.txt (deflated 79%)\n",
            "  adding: content/Model-V5/Model-segment-evaluation-53/labels/front-left-NO20240909-150504-000370F_MP4-0289_jpg.rf.5a79e689c2b6c3a142c3a61140374cd1.txt (deflated 76%)\n",
            "  adding: content/Model-V5/Model-segment-evaluation-53/labels/cars-NO20240914-114048-000222F_MP4-0012_jpg.rf.2d33a9df8ad2c5bd855e300987e37e27.txt (deflated 79%)\n",
            "  adding: content/Model-V5/Model-segment-evaluation-53/labels/front-left-NO20240903-145141-000845F_MP4-0034_jpg.rf.c318f713d8dcc5ba62a1aa9c12a0751b.txt (deflated 79%)\n",
            "  adding: content/Model-V5/Model-segment-evaluation-53/labels/front-left-NO20240903-145541-000849F_MP4-0003_jpg.rf.8d49fd99b73407756fbb4f4e24787392.txt (deflated 76%)\n",
            "  adding: content/Model-V5/Model-segment-evaluation-53/labels/front-left-NO20240903-145141-000845F_MP4-0027_jpg.rf.2118663c54b4d3f8da38dbf210c39c00.txt (deflated 79%)\n",
            "  adding: content/Model-V5/Model-segment-evaluation-53/labels/front-right-NO20240909-181340-000011F_MP4-0087_jpg.rf.ecfb05030d2d23c42310ffa94a690de8.txt (deflated 80%)\n",
            "  adding: content/Model-V5/Model-segment-evaluation-53/labels/cars-NO20240914-114048-000222F_MP4-0243_jpg.rf.491334cd1742a7834b687e3b1940a6be.txt (deflated 81%)\n",
            "  adding: content/Model-V5/Model-segment-evaluation-53/labels/front-left-NO20240903-145041-000844F_MP4-0192_jpg.rf.d2ce2e53b3d9acbc09b734409dfcc33e.txt (deflated 75%)\n",
            "  adding: content/Model-V5/Model-segment-evaluation-53/labels/front-left-NO20240909-144004-000345F_MP4-0030_jpg.rf.107179acee0de1eddbd8e2295670a4eb.txt (deflated 80%)\n",
            "  adding: content/Model-V5/Model-segment-evaluation-53/labels/cars-NO20240914-114048-000222F_MP4-0033_jpg.rf.2769c641749a301b4a5a86e001fdf591.txt (deflated 84%)\n",
            "  adding: content/Model-V5/Model-segment-evaluation-53/labels/front-left-NO20240903-150741-000861F_MP4-0146_jpg.rf.4a72eac5f1b329695ff40e2d45aeb16e.txt (deflated 79%)\n",
            "  adding: content/Model-V5/Model-segment-evaluation-53/labels/front-left-NO20240903-150741-000861F_MP4-0006_jpg.rf.ad4e508e469092e8649d0de94e0a0783.txt (deflated 76%)\n",
            "  adding: content/Model-V5/Model-segment-evaluation-53/labels/NO20240917-143837-000243F_MP4-0053_jpg.rf.5b3f4f90538a1bf98527e485d3f77ea5.txt (deflated 82%)\n",
            "  adding: content/Model-V5/Model-segment-evaluation-53/labels/front-left_MP4-0009_jpg.rf.988d66990edec0edd931d1d8a577e189.txt (deflated 78%)\n",
            "  adding: content/Model-V5/Model-segment-evaluation-53/labels/front-left-NO20240903-150741-000861F_MP4-0026_jpg.rf.71dc474f54c34cda6ce12d52ed30c6fa.txt (deflated 80%)\n",
            "  adding: content/Model-V5/Model-segment-evaluation-53/labels/front-left-NO20240909-144404-000349F_MP4-0059_jpg.rf.0d829d5b75257a4b37867394bed51655.txt (deflated 72%)\n",
            "  adding: content/Model-V5/Model-segment-evaluation-53/labels/front-left-NO20240903-152241-000876F_MP4-0119_jpg.rf.3d669be601f81c6480318c34be12cbef.txt (deflated 80%)\n",
            "  adding: content/Model-V5/Model-segment-evaluation-53/labels/front-left-NO20240903-145141-000845F_MP4-0116_jpg.rf.a5b3d03acd6bdc490b484768c52fcf8f.txt (deflated 78%)\n",
            "  adding: content/Model-V5/Model-segment-evaluation-53/labels/front-left-NO20240903-145041-000844F_MP4-0157_jpg.rf.bac58cb272ab568a3134b15cdfaa1bec.txt (deflated 81%)\n",
            "  adding: content/Model-V5/Model-segment-evaluation-53/labels/front-left-NO20240903-145041-000844F_MP4-0175_jpg.rf.08f06b0fb3eecc4e400df0c8313d6563.txt (deflated 80%)\n",
            "  adding: content/Model-V5/Model-segment-evaluation-53/labels/front-left-NO20240909-143904-000344F_MP4-0080_jpg.rf.c553d84b45409f4af8e9bb6e931441e2.txt (deflated 81%)\n",
            "  adding: content/Model-V5/Model-segment-evaluation-53/labels/front-left-NO20240909-144404-000349F_MP4-0030_jpg.rf.96a96efe094da879b67e9981417900f3.txt (deflated 70%)\n",
            "  adding: content/Model-V5/Model-segment-evaluation-53/labels/front-left-NO20240903-145041-000844F_MP4-0182_jpg.rf.c449bba66901a05876ac95d309cacec1.txt (deflated 78%)\n",
            "  adding: content/Model-V5/Model-segment-evaluation-53/labels/front-left-NO20240903-145041-000844F_MP4-0158_jpg.rf.3f362958f8d90419036f8853f6f75484.txt (deflated 79%)\n",
            "  adding: content/Model-V5/Model-segment-evaluation-53/labels/front-left_MP4-0089_jpg.rf.249e43aee29ca389eae37996241d69a4.txt (deflated 81%)\n",
            "  adding: content/Model-V5/Model-segment-evaluation-53/labels/front-left-NO20240903-150741-000861F_MP4-0103_jpg.rf.bf247ecef0f04cb38ffd9efb170df6d5.txt (deflated 77%)\n",
            "  adding: content/Model-V5/Model-segment-evaluation-53/labels/front-left-NO20240909-143204-000337F_MP4-0070_jpg.rf.c6224baef04003724777e5f6d92535f3.txt (deflated 77%)\n",
            "  adding: content/Model-V5/Model-segment-evaluation-53/labels/front-left-NO20240903-150741-000861F_MP4-0159_jpg.rf.1d06e7c72a6a2a58116f994a377c68b9.txt (deflated 79%)\n",
            "  adding: content/Model-V5/Model-segment-evaluation-53/labels/front-left_MP4-0129_jpg.rf.33fc5bd54e694cf97a56b1dff5991ee5.txt (deflated 81%)\n",
            "  adding: content/Model-V5/Model-segment-evaluation-53/labels/front-left-NO20240903-145041-000844F_MP4-0237_jpg.rf.b542e4243226b268f7be389db7111636.txt (deflated 77%)\n",
            "  adding: content/Model-V5/Model-segment-evaluation-53/labels/front-left-NO20240903-145041-000844F_MP4-0279_jpg.rf.51c87b3616de190325d1558fd2684655.txt (deflated 79%)\n",
            "  adding: content/Model-V5/Model-segment-evaluation-53/labels/cars-NO20240914-114048-000222F_MP4-0275_jpg.rf.79e144cb84c47fb1e8fd841c0e916283.txt (deflated 79%)\n",
            "  adding: content/Model-V5/Model-segment-evaluation-53/labels/front-left-NO20240903-150741-000861F_MP4-0247_jpg.rf.f31c40390ed7bca4d01a6101e6bc1620.txt (deflated 82%)\n",
            "  adding: content/Model-V5/Model-segment-evaluation-53/labels/front-right-NO20240903-144041-000834F_MP4-0112_jpg.rf.b80ff245b59d3c37e1f764082f8e55ba.txt (deflated 80%)\n",
            "  adding: content/Model-V5/Model-segment-evaluation-53/labels/cars-NO20240910-060525-000077F_MP4-0109_jpg.rf.464a968f53f4c83a9bb602887361f8e6.txt (deflated 82%)\n",
            "  adding: content/Model-V5/Model-segment-evaluation-53/labels/front-left-NO20240909-150404-000369F_MP4-0094_jpg.rf.834de77b595c9af77f7c6e4d5a71b7b4.txt (deflated 79%)\n",
            "  adding: content/Model-V5/Model-segment-evaluation-53/labels/front-left-NO20240903-152241-000876F_MP4-0229_jpg.rf.314e69398c094f7bf0247b79d69c28ee.txt (deflated 80%)\n",
            "  adding: content/Model-V5/Model-segment-evaluation-53/labels/front-left-NO20240903-145141-000845F_MP4-0109_jpg.rf.d9d61e29a07c5300ed87533ba4674851.txt (deflated 79%)\n",
            "  adding: content/Model-V5/Model-segment-evaluation-53/labels/NO20240909-181040-000008F_MP4-0177_jpg.rf.e6be2219b9c945bf5138eb26a28d22cb.txt (deflated 75%)\n",
            "  adding: content/Model-V5/Model-segment-evaluation-53/labels/front-left-NO20240908-145538-000141F_MP4-0179_jpg.rf.f127f4d6c585d23b616d433a43ecd42e.txt (deflated 81%)\n",
            "  adding: content/Model-V5/Model-segment-evaluation-53/labels/NO20240909-181140-000009F_MP4-0046_jpg.rf.4a18424faa729de17bd3b74ffb1fcb84.txt (deflated 78%)\n",
            "  adding: content/Model-V5/Model-segment-evaluation-53/labels/front-left-NO20240903-145541-000849F_MP4-0168_jpg.rf.55e09165ba43341ffb89de1881eb6a70.txt (deflated 73%)\n",
            "  adding: content/Model-V5/Model-segment-evaluation-53/labels/front-left-NO20240903-152241-000876F_MP4-0259_jpg.rf.e237627c6138ccae13d8f9d965db84c9.txt (deflated 79%)\n",
            "  adding: content/Model-V5/Model-segment-evaluation-53/labels/front-left-NO20240903-152241-000876F_MP4-0048_jpg.rf.94983eee42311447559a62a7b0d1eedc.txt (deflated 78%)\n",
            "  adding: content/Model-V5/Model-segment-evaluation-53/labels/cars-NO20240914-114048-000222F_MP4-0098_jpg.rf.2e2db135861e22fa70998c45f6294baf.txt (deflated 80%)\n",
            "  adding: content/Model-V5/Model-segment-evaluation-53/labels/front-left-NO20240910-060225-000074F_MP4-0032_jpg.rf.2dbda318a948825dbae8a03ab43cd4aa.txt (deflated 82%)\n",
            "  adding: content/Model-V5/Model-segment-evaluation-53/labels/front-left-NO20240903-145541-000849F_MP4-0039_jpg.rf.5bd0f6c165998eb95ec1f5c125f325d8.txt (deflated 81%)\n",
            "  adding: content/Model-V5/Model-segment-evaluation-53/labels/front-left_MP4-0124_jpg.rf.83704451920bdda5961e50d948c9376e.txt (deflated 80%)\n",
            "  adding: content/Model-V5/Model-segment-evaluation-53/labels/cars-NO20240914-114048-000222F_MP4-0053_jpg.rf.596cd1b979c6f555374e4904ded6c42d.txt (deflated 79%)\n",
            "  adding: content/Model-V5/Model-segment-evaluation-53/labels/front-right-NO20240903-143941-000833F_MP4-0050_jpg.rf.429e1a87034546b0537ed7e9145c00e6.txt (deflated 81%)\n",
            "  adding: content/Model-V5/Model-segment-evaluation-53/labels/front-left_MP4-0008_jpg.rf.c255126c26016f60346b07c991c562e1.txt (deflated 81%)\n",
            "  adding: content/Model-V5/Model-segment-evaluation-53/labels/front-left-NO20240903-150741-000861F_MP4-0167_jpg.rf.d6c4edb523e355d825044ef275462be0.txt (deflated 82%)\n",
            "  adding: content/Model-V5/Model-segment-evaluation-53/labels/v7_mp4-0009_jpg.rf.214bad0db180f606ca98bc1003c34be2.txt (deflated 81%)\n",
            "  adding: content/Model-V5/Model-segment-evaluation-53/labels/front-left-NO20240903-152241-000876F_MP4-0215_jpg.rf.268d5c06f272bc2f6b4ac7022a78376b.txt (deflated 83%)\n",
            "  adding: content/Model-V5/Model-segment-evaluation-53/labels/front-left-NO20240903-145041-000844F_MP4-0235_jpg.rf.306ecd01e67a6af51cd120fd8892a8fe.txt (deflated 78%)\n",
            "  adding: content/Model-V5/Model-segment-evaluation-53/labels/front-left-NO20240908-150138-000147F_MP4-0057_jpg.rf.6c2c33a5f3b257bbb14af6d77eb1d7bc.txt (deflated 72%)\n",
            "  adding: content/Model-V5/Model-segment-evaluation-53/labels/front-right-NO20240909-181240-000010F_MP4-0109_jpg.rf.33c42e7c7586903fadc92870bec722d6.txt (deflated 80%)\n",
            "  adding: content/Model-V5/Model-segment-evaluation-53/labels/front-left_MP4-0046_jpg.rf.9e8260a2d9f3fe4180712829afb22ae6.txt (deflated 78%)\n",
            "  adding: content/Model-V5/Model-segment-evaluation-53/labels/front-left-NO20240903-145041-000844F_MP4-0297_jpg.rf.76cffb75b6466aff7f4b8c730f8723d2.txt (deflated 80%)\n",
            "  adding: content/Model-V5/Model-segment-evaluation-53/labels/front-left-NO20240903-145041-000844F_MP4-0241_jpg.rf.13ece416d02bafb6a1fa305485fb96ab.txt (deflated 80%)\n",
            "  adding: content/Model-V5/Model-segment-evaluation-53/labels/front-left-NO20240903-152241-000876F_MP4-0050_jpg.rf.422812f8ee60a9ded77ac89172279a4e.txt (deflated 77%)\n",
            "  adding: content/Model-V5/Model-segment-evaluation-53/labels/front-left-NO20240903-145141-000845F_MP4-0000_jpg.rf.690e25b03fb40df46d8839cf04fcdaf3.txt (deflated 79%)\n",
            "  adding: content/Model-V5/Model-segment-evaluation-53/labels/night-front-right-NO20240909-183640-000034F_MP4-0084_jpg.rf.010128e7db0d6fb9847d7c1e800b397f.txt (deflated 82%)\n",
            "  adding: content/Model-V5/Model-segment-evaluation-53/labels/front-left-NO20240903-152241-000876F_MP4-0118_jpg.rf.43643b1e977292d590fc3cf37838c896.txt (deflated 79%)\n",
            "  adding: content/Model-V5/Model-segment-evaluation-53/labels/front-left-NO20240909-144104-000346F_MP4-0026_jpg.rf.209e799982a07df27d5af657d6586a16.txt (deflated 81%)\n",
            "  adding: content/Model-V5/Model-segment-evaluation-53/labels/front-left-NO20240903-145441-000848F_MP4-0040_jpg.rf.d4ff83b2c070bbbd9cbd7d260118734f.txt (deflated 80%)\n",
            "  adding: content/Model-V5/Model-segment-evaluation-53/labels/front-right-NO20240903-143941-000833F_MP4-0120_jpg.rf.e3d0c1466cbd23544d7ec4afb533b844.txt (deflated 84%)\n",
            "  adding: content/Model-V5/Model-segment-evaluation-53/labels/front-left-NO20240903-145141-000845F_MP4-0026_jpg.rf.c76a5157d1e9dbbc89e8a6109df452d9.txt (deflated 81%)\n",
            "  adding: content/Model-V5/Model-segment-evaluation-53/labels/front-left-NO20240903-145441-000848F_MP4-0080_jpg.rf.2fddf76b1957980ad4e7e8657727c385.txt (deflated 76%)\n",
            "  adding: content/Model-V5/Model-segment-evaluation-53/labels/front-left-NO20240903-150741-000861F_MP4-0277_jpg.rf.e9369ae5ba3200576a2b70201e3534db.txt (deflated 80%)\n",
            "  adding: content/Model-V5/Model-segment-evaluation-53/labels/front-left-NO20240903-152241-000876F_MP4-0220_jpg.rf.fb1e2968807585b646d9f3eb6a0a0d71.txt (deflated 82%)\n",
            "  adding: content/Model-V5/Model-segment-evaluation-53/labels/front-left-NO20240909-151104-000376F_MP4-0137_jpg.rf.8ba424c15b9a22a60f16eab1a7ca5eac.txt (deflated 75%)\n",
            "  adding: content/Model-V5/Model-segment-evaluation-53/labels/front-left_MP4-0130_jpg.rf.c012143ddcae13275443f598ae1bbe86.txt (deflated 81%)\n",
            "  adding: content/Model-V5/Model-segment-evaluation-53/labels/front-left-NO20240909-145904-000364F_MP4-0176_jpg.rf.2e87d9ebeb0443aef3d8f15c3d63d9ff.txt (deflated 80%)\n",
            "  adding: content/Model-V5/Model-segment-evaluation-53/labels/cars-NO20240910-060525-000077F_MP4-0032_jpg.rf.a73fa4c3f2bc7b2e30d32c849b62a52c.txt (deflated 77%)\n",
            "  adding: content/Model-V5/Model-segment-evaluation-53/labels/front-left-NO20240903-152241-000876F_MP4-0293_jpg.rf.dd8464e8cc075f4e00365f9efaa26a12.txt (deflated 77%)\n",
            "  adding: content/Model-V5/Model-segment-evaluation-53/labels/NO20240917-143837-000243F_MP4-0077_jpg.rf.b2c09e293cd72a89b5c12d8c4d7e4eae.txt (deflated 80%)\n",
            "  adding: content/Model-V5/Model-segment-evaluation-53/labels/cars-NO20240914-112948-000211F_MP4-0070_jpg.rf.d21ad83049b00f9eee854000cceaf662.txt (deflated 74%)\n",
            "  adding: content/Model-V5/Model-segment-evaluation-53/labels/chery-cross_MP4-0011_jpg.rf.1fc20213a6aa342e99f427d4d5031aab.txt (deflated 80%)\n",
            "  adding: content/Model-V5/Model-segment-evaluation-53/labels/cars-NO20240914-114048-000222F_MP4-0103_jpg.rf.ca368afb0bf4bbf5d1ec39c740d55401.txt (deflated 77%)\n",
            "  adding: content/Model-V5/Model-segment-evaluation-53/labels/NO20240909-181040-000008F_MP4-0194_jpg.rf.fca3008ba27f4698e3c85030b6aa1964.txt (deflated 76%)\n",
            "  adding: content/Model-V5/Model-segment-evaluation-53/labels/front-right-NO20240903-143941-000833F_MP4-0054_jpg.rf.66dc10a3b421fbebfc302bb7413c111c.txt (deflated 80%)\n",
            "  adding: content/Model-V5/Model-segment-evaluation-53/labels/front-left-NO20240903-145041-000844F_MP4-0166_jpg.rf.e03b1cafa5b059796f828b044dd7df94.txt (deflated 78%)\n",
            "  adding: content/Model-V5/Model-segment-evaluation-53/labels/front-left-NO20240903-145441-000848F_MP4-0136_jpg.rf.a859c800da07fe81578eee224af7e30b.txt (deflated 77%)\n",
            "  adding: content/Model-V5/Model-segment-evaluation-53/labels/front-left-NO20240903-152241-000876F_MP4-0199_jpg.rf.d327c3a9fabcb36a5691d327766d7c9e.txt (deflated 80%)\n",
            "  adding: content/Model-V5/Model-segment-evaluation-53/labels/front-left_MP4-0022_jpg.rf.ba8a32d3f53763b148af8af71fa6b290.txt (deflated 81%)\n",
            "  adding: content/Model-V5/Model-segment-evaluation-53/labels/front-left-NO20240903-145141-000845F_MP4-0016_jpg.rf.ceda71e939f50ba293205eefdc7c0777.txt (deflated 78%)\n",
            "  adding: content/Model-V5/Model-segment-evaluation-53/labels/NO20240917-143837-000243F_MP4-0056_jpg.rf.81fbc4d6760368042614d6f3d38c4933.txt (deflated 82%)\n",
            "  adding: content/Model-V5/Model-segment-evaluation-53/labels/front-left-NO20240903-145141-000845F_MP4-0062_jpg.rf.46ebcf90a17bffb9c2af9e8334f243f8.txt (deflated 80%)\n",
            "  adding: content/Model-V5/Model-segment-evaluation-53/labels/front-left_MP4-0200_jpg.rf.69ef5c6b3c9391356343e1806918e758.txt (deflated 83%)\n",
            "  adding: content/Model-V5/Model-segment-evaluation-53/labels/front-left-NO20240903-152241-000876F_MP4-0162_jpg.rf.88516f75f28c4696aff04c482f80bbda.txt (deflated 77%)\n",
            "  adding: content/Model-V5/Model-segment-evaluation-53/labels/v1_mp4-0042_jpg.rf.835796dc732dadaeb25675e751ad822b.txt (deflated 78%)\n",
            "  adding: content/Model-V5/Model-segment-evaluation-53/labels/front-left-NO20240903-145441-000848F_MP4-0016_jpg.rf.bccb15512d66a597f0cbb7dcad178b7a.txt (deflated 79%)\n",
            "  adding: content/Model-V5/Model-segment-evaluation-53/labels/front-right-NO20240903-144141-000835F_MP4-0175_jpg.rf.9b023be37b0fb9c50bdda739a664f95f.txt (deflated 77%)\n",
            "  adding: content/Model-V5/Model-segment-evaluation-53/labels/front-left_MP4-0136_jpg.rf.a6296b07cc5f7d653c6d781421279672.txt (deflated 80%)\n",
            "  adding: content/Model-V5/Model-segment-evaluation-53/labels/NO20240917-144137-000246F_MP4-0093_jpg.rf.6931123a48d9cffbf3707072439e14dd.txt (deflated 79%)\n",
            "  adding: content/Model-V5/Model-segment-evaluation-53/labels/front-left_MP4-0134_jpg.rf.2372f5503d78eae93739387e066bca3f.txt (deflated 81%)\n",
            "  adding: content/Model-V5/Model-segment-evaluation-53/labels/front-left-NO20240903-145141-000845F_MP4-0014_jpg.rf.8031ab08957d2e9792418598f4ac3ed5.txt (deflated 79%)\n",
            "  adding: content/Model-V5/Model-segment-evaluation-53/labels/cars-NO20240914-114048-000222F_MP4-0256_jpg.rf.a667dea5a0ebf2eb826a0a259e558ae1.txt (deflated 79%)\n",
            "  adding: content/Model-V5/Model-segment-evaluation-53/labels/front-left-NO20240903-150741-000861F_MP4-0107_jpg.rf.8e6d7040818b007fbd252b000e9692d4.txt (deflated 78%)\n",
            "  adding: content/Model-V5/Model-segment-evaluation-53/labels/front-left-NO20240903-152241-000876F_MP4-0181_jpg.rf.c59a7897c2e538264f122d4b5a85d3b2.txt (deflated 76%)\n",
            "  adding: content/Model-V5/Model-segment-evaluation-53/labels/front-left-NO20240903-145541-000849F_MP4-0185_jpg.rf.723cb157bc4c7950bb95543fbf121263.txt (deflated 77%)\n",
            "  adding: content/Model-V5/Model-segment-evaluation-53/labels/front-left_MP4-0069_jpg.rf.e553145291c81f6f04e463fc96ebd57e.txt (deflated 81%)\n",
            "  adding: content/Model-V5/Model-segment-evaluation-53/labels/front-left-NO20240903-145141-000845F_MP4-0013_jpg.rf.5d69cbf3f8a7ca254aa430bd0302fc5b.txt (deflated 79%)\n",
            "  adding: content/Model-V5/Model-segment-evaluation-53/labels/front-left-NO20240903-145041-000844F_MP4-0275_jpg.rf.a2290ccd5817abfbc275a10c6a517a32.txt (deflated 77%)\n",
            "  adding: content/Model-V5/Model-segment-evaluation-53/labels/night-front-right-NO20240909-183440-000032F_MP4-0066_jpg.rf.c536bc6a69d14082579b6bc78cda7fa5.txt (deflated 77%)\n",
            "  adding: content/Model-V5/Model-segment-evaluation-53/labels/front-left-NO20240903-145541-000849F_MP4-0218_jpg.rf.b7ed3695720530920c0e3b606a249aff.txt (deflated 77%)\n",
            "  adding: content/Model-V5/Model-segment-evaluation-53/labels/front-left-NO20240903-145141-000845F_MP4-0029_jpg.rf.9532cf0b769725519ebf192464e0a98a.txt (deflated 80%)\n",
            "  adding: content/Model-V5/Model-segment-evaluation-53/labels/front-left-NO20240908-145538-000141F_MP4-0136_jpg.rf.3f8302e60b09b8d5a4f3a3f9df253740.txt (deflated 83%)\n",
            "  adding: content/Model-V5/Model-segment-evaluation-53/labels/front-left-NO20240903-150741-000861F_MP4-0065_jpg.rf.86c370036a993ba5320d2854f055dffc.txt (deflated 81%)\n",
            "  adding: content/Model-V5/Model-segment-evaluation-53/labels/front-right-NO20240909-182340-000021F_MP4-0031_jpg.rf.69023f5b697749ffc46cb0eb539e9942.txt (deflated 80%)\n",
            "  adding: content/Model-V5/Model-segment-evaluation-53/labels/front-left-NO20240903-152241-000876F_MP4-0085_jpg.rf.2ecffb6bb2221a865b41d663df4b46ff.txt (deflated 77%)\n",
            "  adding: content/Model-V5/Model-segment-evaluation-53/labels/front-left-NO20240903-152241-000876F_MP4-0210_jpg.rf.b3cf00c90d679f01f0d366fa790cdca7.txt (deflated 81%)\n",
            "  adding: content/Model-V5/Model-segment-evaluation-53/labels/front-left-NO20240903-152241-000876F_MP4-0209_jpg.rf.88eb30e3b6b7ac4b21a53bae6badcb9a.txt (deflated 82%)\n",
            "  adding: content/Model-V5/Model-segment-evaluation-53/labels/NO20240909-181040-000008F_MP4-0207_jpg.rf.da173e0acc9b9179a7d7d9f9b8c1408a.txt (deflated 77%)\n",
            "  adding: content/Model-V5/Model-segment-evaluation-53/labels/NO20240909-181040-000008F_MP4-0147_jpg.rf.6652a6c7429d9af24412dcced982f1ca.txt (deflated 84%)\n",
            "  adding: content/Model-V5/Model-segment-evaluation-53/labels/front-left-NO20240903-145441-000848F_MP4-0134_jpg.rf.3c6cc785f8050dccc7c3fff2dae88e86.txt (deflated 76%)\n",
            "  adding: content/Model-V5/Model-segment-evaluation-53/labels/front-left_MP4-0174_jpg.rf.59b6660f4d0a23a30a9f2406fe4c22e9.txt (deflated 80%)\n",
            "  adding: content/Model-V5/Model-segment-evaluation-53/labels/front-left-NO20240903-145141-000845F_MP4-0092_jpg.rf.ce43c0092734942d4bfb558a254ca0a8.txt (deflated 81%)\n",
            "  adding: content/Model-V5/Model-segment-evaluation-53/labels/front-left-NO20240903-145441-000848F_MP4-0269_jpg.rf.790a838011258cd082297284a8b93469.txt (deflated 80%)\n",
            "  adding: content/Model-V5/Model-segment-evaluation-53/labels/v8_mp4-0051_jpg.rf.f6f0754b95e56103f7d2a263594ae8ff.txt (deflated 77%)\n",
            "  adding: content/Model-V5/Model-segment-evaluation-53/labels/cars-NO20240914-114048-000222F_MP4-0267_jpg.rf.225cfb57ed347b96cef1eea4bba7e302.txt (deflated 79%)\n",
            "  adding: content/Model-V5/Model-segment-evaluation-53/labels/NO20240909-181140-000009F_MP4-0071_jpg.rf.d121c2d3179f875b41b210473c6d9628.txt (deflated 79%)\n",
            "  adding: content/Model-V5/Model-segment-evaluation-53/labels/front-left_MP4-0109_jpg.rf.2910bd73acd599ca9a80c4c721c650af.txt (deflated 83%)\n",
            "  adding: content/Model-V5/Model-segment-evaluation-53/labels/cars-NO20240914-114048-000222F_MP4-0008_jpg.rf.83dc68b45f38a57744232045b6790783.txt (deflated 78%)\n",
            "  adding: content/Model-V5/Model-segment-evaluation-53/labels/NO20240909-181040-000008F_MP4-0222_jpg.rf.8aed45bb23d30c6cff9b39c617867929.txt (deflated 77%)\n",
            "  adding: content/Model-V5/Model-segment-evaluation-53/labels/front-left-NO20240903-145441-000848F_MP4-0288_jpg.rf.9c69396bb2e2b16bc9076428ca64721e.txt (deflated 77%)\n",
            "  adding: content/Model-V5/Model-segment-evaluation-53/labels/front-left-NO20240903-145041-000844F_MP4-0155_jpg.rf.32a3dcfb62722e90d0daf5597715814f.txt (deflated 76%)\n",
            "  adding: content/Model-V5/Model-segment-evaluation-53/labels/front-left-NO20240909-143904-000344F_MP4-0194_jpg.rf.d515f215f37adcf32be059c479250075.txt (deflated 82%)\n",
            "  adding: content/Model-V5/Model-segment-evaluation-53/labels/front-left-NO20240903-145141-000845F_MP4-0063_jpg.rf.c577516117533cb7af8e44ee3a47f2ed.txt (deflated 82%)\n",
            "  adding: content/Model-V5/Model-segment-evaluation-53/labels/front-left_MP4-0006_jpg.rf.a7f271aa1694d8e03bef67ea4363dc9d.txt (deflated 80%)\n",
            "  adding: content/Model-V5/Model-segment-evaluation-53/labels/front-left-NO20240909-150504-000370F_MP4-0004_jpg.rf.46e2271893138f2c0b018bd1d5f04b94.txt (deflated 81%)\n",
            "  adding: content/Model-V5/Model-segment-evaluation-53/labels/front-right-NO20240903-143941-000833F_MP4-0010_jpg.rf.31d9ce0a254114c382ff66bfa86c334d.txt (deflated 85%)\n",
            "  adding: content/Model-V5/Model-segment-evaluation-53/labels/front-left-NO20240903-150741-000861F_MP4-0111_jpg.rf.08f9e18ea062fb356b24a1efd56a6cd6.txt (deflated 81%)\n",
            "  adding: content/Model-V5/Model-segment-evaluation-53/labels/front-left-NO20240903-145041-000844F_MP4-0181_jpg.rf.870e66598edfbcb902866a5b3db6cf09.txt (deflated 78%)\n",
            "  adding: content/Model-V5/Model-segment-evaluation-53/labels/front-right-NO20240903-144141-000835F_MP4-0290_jpg.rf.bbbdb493395c8545a55b48ff56c1beb2.txt (deflated 77%)\n",
            "  adding: content/Model-V5/Model-segment-evaluation-53/labels/front-left-NO20240903-145541-000849F_MP4-0229_jpg.rf.853e04a23c70dfceb25e22cdf1e909d6.txt (deflated 77%)\n",
            "  adding: content/Model-V5/Model-segment-evaluation-53/labels/front-right-NO20240903-144041-000834F_MP4-0029_jpg.rf.009262fffb48a66dfdcc2220619644b6.txt (deflated 80%)\n",
            "  adding: content/Model-V5/Model-segment-evaluation-53/labels/front-left-NO20240903-145041-000844F_MP4-0286_jpg.rf.fcacac7457632afc81f6f50c87f03b61.txt (deflated 79%)\n",
            "  adding: content/Model-V5/Model-segment-evaluation-53/labels/front-left_MP4-0211_jpg.rf.e4ef7efdeea8b2fea0c5948af12ee236.txt (deflated 82%)\n",
            "  adding: content/Model-V5/Model-segment-evaluation-53/labels/front-left_MP4-0194_jpg.rf.3609ecc5144d432e0314596ed39b8715.txt (deflated 81%)\n",
            "  adding: content/Model-V5/Model-segment-evaluation-53/labels/front-left-NO20240903-145541-000849F_MP4-0255_jpg.rf.9cc419041175899680e7417e37d0814b.txt (deflated 74%)\n",
            "  adding: content/Model-V5/Model-segment-evaluation-53/labels/front-left-NO20240909-151104-000376F_MP4-0018_jpg.rf.733a5c0b87450dd9de7c30edd45e9abd.txt (deflated 81%)\n",
            "  adding: content/Model-V5/Model-segment-evaluation-53/labels/front-left-NO20240903-145541-000849F_MP4-0015_jpg.rf.eeea9a4659acb5cdd5a94b6889506654.txt (deflated 76%)\n",
            "  adding: content/Model-V5/Model-segment-evaluation-53/labels/front-right-NO20240903-144141-000835F_MP4-0289_jpg.rf.af5b37bfff0fecef2c80a9513e22217e.txt (deflated 81%)\n",
            "  adding: content/Model-V5/Model-segment-evaluation-53/labels/front-left-NO20240909-143204-000337F_MP4-0145_jpg.rf.a3eaa99eb75177f7cd9f52a9184089f8.txt (deflated 78%)\n",
            "  adding: content/Model-V5/Model-segment-evaluation-53/labels/front-left-NO20240903-145141-000845F_MP4-0040_jpg.rf.39395d50dfb51b607aca495e7da8ce67.txt (deflated 78%)\n",
            "  adding: content/Model-V5/Model-segment-evaluation-53/labels/front-left-NO20240909-145704-000362F_MP4-0174_jpg.rf.a0b20e4b29c2f3941e17cd7977cc977f.txt (deflated 72%)\n",
            "  adding: content/Model-V5/Model-segment-evaluation-53/labels/front-left_MP4-0048_jpg.rf.a0db68a7c4b77aee3ec22c6669a489ac.txt (deflated 78%)\n",
            "  adding: content/Model-V5/Model-segment-evaluation-53/labels/front-left-NO20240903-145541-000849F_MP4-0223_jpg.rf.31100c709435e963c47d4457f02f600d.txt (deflated 75%)\n",
            "  adding: content/Model-V5/Model-segment-evaluation-53/labels/front-left-NO20240903-145441-000848F_MP4-0272_jpg.rf.e0c3743f07c05a98a9383761df3dec51.txt (deflated 80%)\n",
            "  adding: content/Model-V5/Model-segment-evaluation-53/labels/front-left_MP4-0011_jpg.rf.1072df4faff9ce70c637c2bd3bb9ef3e.txt (deflated 80%)\n",
            "  adding: content/Model-V5/Model-segment-evaluation-53/labels/front-left-NO20240903-145141-000845F_MP4-0006_jpg.rf.116304b88d494bcaf2b26e7a42655d80.txt (deflated 78%)\n",
            "  adding: content/Model-V5/Model-segment-evaluation-53/labels/cars-NO20240910-060525-000077F_MP4-0026_jpg.rf.76ab6b7ea1bbc46b5f61d64b777dad88.txt (deflated 78%)\n",
            "  adding: content/Model-V5/Model-segment-evaluation-53/labels/night-front-right-NO20240909-183740-000035F_MP4-0202_jpg.rf.7fa3d2a2cb8ec11b563e83e54e9dbc23.txt (deflated 79%)\n",
            "  adding: content/Model-V5/Model-segment-evaluation-53/labels/front-right-NO20240903-144041-000834F_MP4-0117_jpg.rf.17e2e6d429420de1f3bd0da6c7e66bdc.txt (deflated 80%)\n",
            "  adding: content/Model-V5/Model-segment-evaluation-53/labels/front-left-NO20240903-152241-000876F_MP4-0186_jpg.rf.3792382605f2c1fa70a45b75d3501195.txt (deflated 81%)\n",
            "  adding: content/Model-V5/Model-segment-evaluation-53/labels/front-left_MP4-0120_jpg.rf.28983d83937e06a171b0bea0af82e20c.txt (deflated 77%)\n",
            "  adding: content/Model-V5/Model-segment-evaluation-53/labels/front-right-NO20240903-144041-000834F_MP4-0243_jpg.rf.93f003609773906a164debff70ca2e16.txt (deflated 80%)\n",
            "  adding: content/Model-V5/Model-segment-evaluation-53/labels/front-left-NO20240903-150741-000861F_MP4-0165_jpg.rf.b3f5275fd77cf0937fdf2d5321c9b9d9.txt (deflated 81%)\n",
            "  adding: content/Model-V5/Model-segment-evaluation-53/labels/front-left-NO20240903-152241-000876F_MP4-0101_jpg.rf.828b7ffa2df7f092354505ab118834f9.txt (deflated 78%)\n",
            "  adding: content/Model-V5/Model-segment-evaluation-53/labels/front-left-NO20240903-152241-000876F_MP4-0124_jpg.rf.7d1feeddc838ac0f78bf8ffb94d1ca5c.txt (deflated 81%)\n",
            "  adding: content/Model-V5/Model-segment-evaluation-53/labels/front-left-NO20240909-144404-000349F_MP4-0275_jpg.rf.d77e5bb5ad79b67eda27af63f616f1cc.txt (deflated 76%)\n",
            "  adding: content/Model-V5/Model-segment-evaluation-53/labels/front-left-NO20240903-145141-000845F_MP4-0138_jpg.rf.1c8c8ca98382947b2492524fd9b87fc7.txt (deflated 78%)\n",
            "  adding: content/Model-V5/Model-segment-evaluation-53/labels/front-left_MP4-0190_jpg.rf.430cef29167157b96eaf3bf83fe3b1cb.txt (deflated 81%)\n",
            "  adding: content/Model-V5/Model-segment-evaluation-53/labels/v5_mp4-0012_jpg.rf.951c8e362e76ccd68d525af0990acddb.txt (deflated 77%)\n",
            "  adding: content/Model-V5/Model-segment-evaluation-53/labels/v1_mp4-0041_jpg.rf.771c1271972488254862c0ccda82118a.txt (deflated 81%)\n",
            "  adding: content/Model-V5/Model-segment-evaluation-53/labels/front-left-NO20240903-152241-000876F_MP4-0204_jpg.rf.9c1c01226e2590b7dee6270c8488dc14.txt (deflated 76%)\n",
            "  adding: content/Model-V5/Model-segment-evaluation-53/labels/front-left_MP4-0024_jpg.rf.48aa7aad676b16949cffcf42a460c12b.txt (deflated 81%)\n",
            "  adding: content/Model-V5/Model-segment-evaluation-53/labels/NO20240909-181140-000009F_MP4-0161_jpg.rf.9d517ae1879f3c45198d0e504f7cfed1.txt (deflated 79%)\n",
            "  adding: content/Model-V5/Model-segment-evaluation-53/labels/night-front-right-NO20240909-183440-000032F_MP4-0177_jpg.rf.480cbe223607e09313923eedfe10172f.txt (deflated 78%)\n",
            "  adding: content/Model-V5/Model-segment-evaluation-53/labels/front-right-NO20240903-144141-000835F_MP4-0274_jpg.rf.ba6734aa0aaa590603d64f13b82ebc38.txt (deflated 85%)\n",
            "  adding: content/Model-V5/Model-segment-evaluation-53/labels/front-left_MP4-0038_jpg.rf.e0142a0c9e94fbde236eb31101e2d1ac.txt (deflated 81%)\n",
            "  adding: content/Model-V5/Model-segment-evaluation-53/labels/front-left_MP4-0092_jpg.rf.f214bf9091724286f5db9bb02f0d7de5.txt (deflated 79%)\n",
            "  adding: content/Model-V5/Model-segment-evaluation-53/labels/front-left_MP4-0032_jpg.rf.9bd59b7f852d626c1185a96bfec39746.txt (deflated 82%)\n",
            "  adding: content/Model-V5/Model-segment-evaluation-53/labels/front-left_MP4-0056_jpg.rf.40825efb53bbaec0f9371a6978516839.txt (deflated 83%)\n",
            "  adding: content/Model-V5/Model-segment-evaluation-53/labels/front-left-NO20240908-150138-000147F_MP4-0087_jpg.rf.a43f79e25caea1e1b5592f81ac59cf95.txt (deflated 77%)\n",
            "  adding: content/Model-V5/Model-segment-evaluation-53/labels/NO20240917-144137-000246F_MP4-0040_jpg.rf.fa5f413228b0cfe1df36f326376b4d82.txt (deflated 78%)\n",
            "  adding: content/Model-V5/Model-segment-evaluation-53/labels/night-front-right-NO20240909-183540-000033F_MP4-0146_jpg.rf.dfff13fbb7001fdf14c3bd39c29425e4.txt (deflated 81%)\n",
            "  adding: content/Model-V5/Model-segment-evaluation-53/labels/front-left-NO20240903-145041-000844F_MP4-0216_jpg.rf.ee2204ba3c58cdd2e4676d5cf23891d0.txt (deflated 81%)\n",
            "  adding: content/Model-V5/Model-segment-evaluation-53/labels/front-left-NO20240903-150741-000861F_MP4-0176_jpg.rf.7465e7f0cefc4b19decbe76f2eea76f5.txt (deflated 82%)\n",
            "  adding: content/Model-V5/Model-segment-evaluation-53/labels/front-right-NO20240903-143941-000833F_MP4-0066_jpg.rf.b4ef42d1c5471bfd81b66e87ab41f024.txt (deflated 79%)\n",
            "  adding: content/Model-V5/Model-segment-evaluation-53/labels/front-left-NO20240903-145541-000849F_MP4-0178_jpg.rf.59e79837c8605cbea2b8ebd5278d12c0.txt (deflated 78%)\n",
            "  adding: content/Model-V5/Model-segment-evaluation-53/labels/front-left-NO20240903-152241-000876F_MP4-0271_jpg.rf.3667a30b39e54d5b1c6ed8d33d0ba711.txt (deflated 81%)\n",
            "  adding: content/Model-V5/Model-segment-evaluation-53/labels/front-left-NO20240909-145704-000362F_MP4-0195_jpg.rf.fc4dbcffeb16ed378323654a381d3896.txt (deflated 74%)\n",
            "  adding: content/Model-V5/Model-segment-evaluation-53/labels/front-left-NO20240903-145041-000844F_MP4-0070_jpg.rf.05f07a396cbfa63eb3ddec55959a24be.txt (deflated 77%)\n",
            "  adding: content/Model-V5/Model-segment-evaluation-53/labels/front-left_MP4-0065_jpg.rf.74886932d9d164b601ddfa0e2011fde3.txt (deflated 79%)\n",
            "  adding: content/Model-V5/Model-segment-evaluation-53/labels/front-right-NO20240903-144141-000835F_MP4-0030_jpg.rf.43192c6e8029b53be5db5d0acb6a9e0f.txt (deflated 81%)\n",
            "  adding: content/Model-V5/Model-segment-evaluation-53/labels/front-left-NO20240903-145541-000849F_MP4-0166_jpg.rf.abc21f84e5d9be0e04ee16f4c0c43700.txt (deflated 72%)\n",
            "  adding: content/Model-V5/Model-segment-evaluation-53/labels/front-left-NO20240909-145704-000362F_MP4-0162_jpg.rf.342f7c67dbd69b982df996d69b35fde2.txt (deflated 77%)\n",
            "  adding: content/Model-V5/Model-segment-evaluation-53/labels/front-left-NO20240910-064125-000113F_MP4-0046_jpg.rf.8e49c66ab83cc9d77188e47f5abf3278.txt (deflated 81%)\n",
            "  adding: content/Model-V5/Model-segment-evaluation-53/labels/front-left-NO20240903-145141-000845F_MP4-0078_jpg.rf.281b4796cef43232f6d6566ddb977382.txt (deflated 77%)\n",
            "  adding: content/Model-V5/Model-segment-evaluation-53/labels/front-left-NO20240903-145141-000845F_MP4-0102_jpg.rf.a23d2d4e9a9a1b911cdb8d76c6efecd6.txt (deflated 80%)\n",
            "  adding: content/Model-V5/Model-segment-evaluation-53/labels/front-left-NO20240908-145538-000141F_MP4-0007_jpg.rf.b41c488c859c42830407ad5bca4cb456.txt (deflated 78%)\n",
            "  adding: content/Model-V5/Model-segment-evaluation-53/labels/front-left-NO20240909-143204-000337F_MP4-0023_jpg.rf.a52e097319104b16c4edb552d98dcc5a.txt (deflated 80%)\n",
            "  adding: content/Model-V5/Model-segment-evaluation-53/labels/cars-NO20240914-114048-000222F_MP4-0058_jpg.rf.1ccd1ee8ad45619399d250dd72efe2ca.txt (deflated 80%)\n",
            "  adding: content/Model-V5/Model-segment-evaluation-53/labels/front-left_MP4-0075_jpg.rf.e61e41b68ab09f088033c8e314e59de7.txt (deflated 79%)\n",
            "  adding: content/Model-V5/Model-segment-evaluation-53/labels/front-left-NO20240903-145141-000845F_MP4-0143_jpg.rf.3e4a8f9a3050cf7eadbf397bbfa94a9f.txt (deflated 82%)\n",
            "  adding: content/Model-V5/Model-segment-evaluation-53/labels/front-left-NO20240909-144404-000349F_MP4-0174_jpg.rf.77e267a6b028a6aab3daba205398a89d.txt (deflated 72%)\n",
            "  adding: content/Model-V5/Model-segment-evaluation-53/labels/front-left-NO20240903-145141-000845F_MP4-0057_jpg.rf.e1d8483533eea5ecdfbd39f70f97fed4.txt (deflated 81%)\n",
            "  adding: content/Model-V5/Model-segment-evaluation-53/labels/front-left_MP4-0224_jpg.rf.bbbc731a21f636d263216359aa9752d5.txt (deflated 79%)\n",
            "  adding: content/Model-V5/Model-segment-evaluation-53/labels/front-right-NO20240909-181540-000013F_MP4-0092_jpg.rf.daa9c6f338e46ad0a49ae01c81072e6b.txt (deflated 77%)\n",
            "  adding: content/Model-V5/Model-segment-evaluation-53/labels/front-left-NO20240903-150741-000861F_MP4-0075_jpg.rf.941aec9275af5dc0e0f17267563cac59.txt (deflated 80%)\n",
            "  adding: content/Model-V5/Model-segment-evaluation-53/labels/front-left-NO20240903-145441-000848F_MP4-0299_jpg.rf.931ac5a5b3975de701bccef6e20bfb1b.txt (deflated 82%)\n",
            "  adding: content/Model-V5/Model-segment-evaluation-53/labels/front-left_MP4-0062_jpg.rf.1a7c2773af304782a9e903da29ae94f3.txt (deflated 80%)\n",
            "  adding: content/Model-V5/Model-segment-evaluation-53/labels/front-left-NO20240903-145141-000845F_MP4-0127_jpg.rf.078ed52dddc2c7626dd0395216308f1a.txt (deflated 79%)\n",
            "  adding: content/Model-V5/Model-segment-evaluation-53/labels/cars-NO20240914-114048-000222F_MP4-0095_jpg.rf.debfeeab63dd8397e96e4466f0001794.txt (deflated 79%)\n",
            "  adding: content/Model-V5/Model-segment-evaluation-53/labels/front-right-NO20240909-181540-000013F_MP4-0090_jpg.rf.102cbf4e4933c0f7312b59d2d6170bc6.txt (deflated 75%)\n",
            "  adding: content/Model-V5/Model-segment-evaluation-53/labels/front-left-NO20240903-145041-000844F_MP4-0123_jpg.rf.90c8836067f30d8d2cdb07bd45eb93fb.txt (deflated 75%)\n",
            "  adding: content/Model-V5/Model-segment-evaluation-53/labels/front-right-NO20240909-181540-000013F_MP4-0051_jpg.rf.2684d6d1f99c2496a42162dccbaea76a.txt (deflated 79%)\n",
            "  adding: content/Model-V5/Model-segment-evaluation-53/labels/front-left-NO20240903-145541-000849F_MP4-0295_jpg.rf.d9173495f0fd98d193b02b65606f7646.txt (deflated 76%)\n",
            "  adding: content/Model-V5/Model-segment-evaluation-53/labels/front-left-NO20240903-145141-000845F_MP4-0103_jpg.rf.69e783855eebab29cf2ab5362862f0f4.txt (deflated 79%)\n",
            "  adding: content/Model-V5/Model-segment-evaluation-53/labels/front-left-NO20240903-145141-000845F_MP4-0022_jpg.rf.6c09e3185ff77b4ad7572c338f7738ff.txt (deflated 79%)\n",
            "  adding: content/Model-V5/Model-segment-evaluation-53/labels/front-left_MP4-0167_jpg.rf.12ae74a226267a76cb14ef9ef6fc2d62.txt (deflated 76%)\n",
            "  adding: content/Model-V5/Model-segment-evaluation-53/labels/night-front-right-NO20240909-183440-000032F_MP4-0195_jpg.rf.b15372aaa88741cee7dc200d16976654.txt (deflated 75%)\n",
            "  adding: content/Model-V5/Model-segment-evaluation-53/labels/front-left-NO20240903-150741-000861F_MP4-0180_jpg.rf.f9b68ba83de30fad05cc2040ee66802f.txt (deflated 79%)\n",
            "  adding: content/Model-V5/Model-segment-evaluation-53/labels/cars-NO20240910-060525-000077F_MP4-0085_jpg.rf.dbd27de4b38f254b662d06b55c20a322.txt (deflated 84%)\n",
            "  adding: content/Model-V5/Model-segment-evaluation-53/labels/front-left-NO20240908-145538-000141F_MP4-0150_jpg.rf.7c19400f3debc90c4ba4abf62a786c4a.txt (deflated 71%)\n",
            "  adding: content/Model-V5/Model-segment-evaluation-53/labels/front-left-NO20240903-145141-000845F_MP4-0091_jpg.rf.7bd0a36d70dc447af7c28958459c7df9.txt (deflated 81%)\n",
            "  adding: content/Model-V5/Model-segment-evaluation-53/labels/front-left-NO20240903-150741-000861F_MP4-0181_jpg.rf.62f109159ddcaae5aea3a8572e462538.txt (deflated 79%)\n",
            "  adding: content/Model-V5/Model-segment-evaluation-53/labels/front-left_MP4-0016_jpg.rf.fe2847e451dfbc95da28df36e594a52e.txt (deflated 84%)\n",
            "  adding: content/Model-V5/Model-segment-evaluation-53/labels/front-left-NO20240909-145804-000363F_MP4-0174_jpg.rf.f81d7c335329253008b8660f3ccd4943.txt (deflated 82%)\n",
            "  adding: content/Model-V5/Model-segment-evaluation-53/labels/front-left-NO20240903-145141-000845F_MP4-0066_jpg.rf.c5fc94116ce79298b8a51368255b20d7.txt (deflated 79%)\n",
            "  adding: content/Model-V5/Model-segment-evaluation-53/labels/front-left-NO20240903-152241-000876F_MP4-0151_jpg.rf.af43e5caed6b29fc7f5c766b802aa77c.txt (deflated 77%)\n",
            "  adding: content/Model-V5/Model-segment-evaluation-53/labels/front-right-NO20240903-144041-000834F_MP4-0255_jpg.rf.0c09657b7c5365ae66f1d9e37a7dfc47.txt (deflated 78%)\n",
            "  adding: content/Model-V5/Model-segment-evaluation-53/labels/front-right-NO20240903-143941-000833F_MP4-0237_jpg.rf.341645284603acf91c1aa0ae65fb5f55.txt (deflated 83%)\n",
            "  adding: content/Model-V5/Model-segment-evaluation-53/labels/front-left-NO20240908-150138-000147F_MP4-0160_jpg.rf.8d7ba4d4c1319be3f6dd5d8c60b7a896.txt (deflated 78%)\n",
            "  adding: content/Model-V5/Model-segment-evaluation-53/labels/front-left_MP4-0029_jpg.rf.0e79d776f99a7c63acca7b48ca241686.txt (deflated 81%)\n",
            "  adding: content/Model-V5/Model-segment-evaluation-53/labels/front-left-NO20240903-145541-000849F_MP4-0180_jpg.rf.193a201820e87483fe520ce3a889c198.txt (deflated 76%)\n",
            "  adding: content/Model-V5/Model-segment-evaluation-53/labels/NO20240917-144137-000246F_MP4-0028_jpg.rf.bdbd8d308dc2be561e730e6437789309.txt (deflated 81%)\n",
            "  adding: content/Model-V5/Model-segment-evaluation-53/labels/front-left_MP4-0165_jpg.rf.32d85d19a087987bdbc7954bfb2ffbca.txt (deflated 74%)\n",
            "  adding: content/Model-V5/Model-segment-evaluation-53/labels/front-left-NO20240909-143204-000337F_MP4-0105_jpg.rf.856e459a0cb49adf933f85eac70ee338.txt (deflated 80%)\n",
            "  adding: content/Model-V5/Model-segment-evaluation-53/labels/front-right-NO20240903-143941-000833F_MP4-0013_jpg.rf.7f3d883f49df3e819fe626d718df997e.txt (deflated 83%)\n",
            "  adding: content/Model-V5/Model-segment-evaluation-53/labels/front-left-NO20240903-150741-000861F_MP4-0233_jpg.rf.6fb392ec6dee7ee25bffe8f020833e92.txt (deflated 79%)\n",
            "  adding: content/Model-V5/Model-segment-evaluation-53/labels/front-right-NO20240903-143941-000833F_MP4-0117_jpg.rf.b15c2607f01a8a285bd95aec6ffb1873.txt (deflated 84%)\n",
            "  adding: content/Model-V5/Model-segment-evaluation-53/labels/front-left-NO20240903-150741-000861F_MP4-0079_jpg.rf.d134d76dc73e36be1e0ff40dafff197b.txt (deflated 80%)\n",
            "  adding: content/Model-V5/Model-segment-evaluation-53/labels/front-left-NO20240903-145141-000845F_MP4-0119_jpg.rf.3cce2591288ce227766939d3059d78ff.txt (deflated 75%)\n",
            "  adding: content/Model-V5/Model-segment-evaluation-53/labels/front-left-NO20240903-145141-000845F_MP4-0074_jpg.rf.87489ff4f955a7851a091796eaf35a5d.txt (deflated 77%)\n",
            "  adding: content/Model-V5/Model-segment-evaluation-53/labels/cars-NO20240914-114048-000222F_MP4-0051_jpg.rf.bddf8806bc36133ad71703f78fdfd76c.txt (deflated 82%)\n",
            "  adding: content/Model-V5/Model-segment-evaluation-53/labels/front-left-NO20240909-150404-000369F_MP4-0296_jpg.rf.f02aff7ae966bcf1417c17b4108442da.txt (deflated 80%)\n",
            "  adding: content/Model-V5/Model-segment-evaluation-53/labels/front-left-NO20240903-145541-000849F_MP4-0270_jpg.rf.4d9a578fc0cd48225fbd7c75496c7509.txt (deflated 78%)\n",
            "  adding: content/Model-V5/Model-segment-evaluation-53/labels/front-left_MP4-0091_jpg.rf.301381cabae1e47cea3922c566cd426b.txt (deflated 80%)\n",
            "  adding: content/Model-V5/Model-segment-evaluation-53/labels/front-left-NO20240903-152241-000876F_MP4-0042_jpg.rf.7ec7dbde6887f394ffa74c8e7b8163f5.txt (deflated 77%)\n",
            "  adding: content/Model-V5/Model-segment-evaluation-53/labels/front-left-NO20240903-145041-000844F_MP4-0231_jpg.rf.3cfbcc02bb5f1214e1b9198506292095.txt (deflated 80%)\n",
            "  adding: content/Model-V5/Model-segment-evaluation-53/labels/front-left_MP4-0101_jpg.rf.617e95bb33a68d484f61840a2c4561c0.txt (deflated 86%)\n",
            "  adding: content/Model-V5/Model-segment-evaluation-53/labels/front-left-NO20240903-145441-000848F_MP4-0132_jpg.rf.82b5f028cc5b713f31f47a99428e79bd.txt (deflated 77%)\n",
            "  adding: content/Model-V5/Model-segment-evaluation-53/labels/front-left-NO20240903-145041-000844F_MP4-0167_jpg.rf.fe17670447a5ee0fbb82988c37df7152.txt (deflated 77%)\n",
            "  adding: content/Model-V5/Model-segment-evaluation-53/labels/front-left-NO20240908-145538-000141F_MP4-0174_jpg.rf.ec24fc5cb27927c995b1b950c7ea7923.txt (deflated 82%)\n",
            "  adding: content/Model-V5/Model-segment-evaluation-53/labels/front-left_MP4-0183_jpg.rf.64f8edbe0a05d06064c90ad821adf2b1.txt (deflated 81%)\n",
            "  adding: content/Model-V5/Model-segment-evaluation-53/labels/NO20240917-144137-000246F_MP4-0076_jpg.rf.bb2fef65f1825230c285a46b26b96807.txt (deflated 77%)\n",
            "  adding: content/Model-V5/Model-segment-evaluation-53/labels/front-right-NO20240903-143941-000833F_MP4-0219_jpg.rf.05d1d8b53f97ae42c148edf4bc76c1c7.txt (deflated 80%)\n",
            "  adding: content/Model-V5/Model-segment-evaluation-53/labels/front-right-NO20240909-181340-000011F_MP4-0085_jpg.rf.47d0a2ba72f56777b36bab3b0fc688ba.txt (deflated 79%)\n",
            "  adding: content/Model-V5/Model-segment-evaluation-53/labels/front-left-NO20240903-150741-000861F_MP4-0035_jpg.rf.a76b4d6b00ac107e31f58e7c34d6acf0.txt (deflated 81%)\n",
            "  adding: content/Model-V5/Model-segment-evaluation-53/labels/front-left-NO20240909-143204-000337F_MP4-0296_jpg.rf.16fd1f43ec21d5043709e015d710599b.txt (deflated 78%)\n",
            "  adding: content/Model-V5/Model-segment-evaluation-53/labels/front-left-NO20240903-145041-000844F_MP4-0222_jpg.rf.f1c5e1203efb2face89bdb7936125df0.txt (deflated 79%)\n",
            "  adding: content/Model-V5/Model-segment-evaluation-53/labels/front-left-NO20240908-150138-000147F_MP4-0052_jpg.rf.59e122441bda02a9b9fdc0fe6865cef2.txt (deflated 80%)\n",
            "  adding: content/Model-V5/Model-segment-evaluation-53/labels/front-left-NO20240903-145041-000844F_MP4-0273_jpg.rf.01ade182c7e8304b7b65116b7921b0a9.txt (deflated 77%)\n",
            "  adding: content/Model-V5/Model-segment-evaluation-53/labels/front-right-NO20240903-144141-000835F_MP4-0103_jpg.rf.e46b581dab25bc15e5cdeb0edc3751ec.txt (deflated 83%)\n",
            "  adding: content/Model-V5/Model-segment-evaluation-53/labels/front-left-NO20240909-144504-000350F_MP4-0032_jpg.rf.fd96d4e078c0f75db3ba557e15239394.txt (deflated 80%)\n",
            "  adding: content/Model-V5/Model-segment-evaluation-53/labels/NO20240909-181040-000008F_MP4-0255_jpg.rf.66a58cf2bb33d1769eaa2cccb963c799.txt (deflated 82%)\n",
            "  adding: content/Model-V5/Model-segment-evaluation-53/labels/front-right-NO20240903-143941-000833F_MP4-0130_jpg.rf.cc8842dd76577b362e152596756dda0d.txt (deflated 81%)\n",
            "  adding: content/Model-V5/Model-segment-evaluation-53/labels/front-left-NO20240903-145541-000849F_MP4-0297_jpg.rf.6740cdb1afb697416647b6767ce039bb.txt (deflated 79%)\n",
            "  adding: content/Model-V5/Model-segment-evaluation-53/labels/front-right-NO20240903-144041-000834F_MP4-0224_jpg.rf.3b3e10c8ba0f2b39931da274f78144f2.txt (deflated 81%)\n",
            "  adding: content/Model-V5/Model-segment-evaluation-53/labels/front-left-NO20240909-150404-000369F_MP4-0180_jpg.rf.05a50788041f631ec2bbd307a4b544a9.txt (deflated 75%)\n",
            "  adding: content/Model-V5/Model-segment-evaluation-53/labels/cars-NO20240914-114048-000222F_MP4-0110_jpg.rf.b05c983e0e348555606660abf0cb8048.txt (deflated 82%)\n",
            "  adding: content/Model-V5/Model-segment-evaluation-53/labels/front-left-NO20240909-143304-000338F_MP4-0014_jpg.rf.c4ce0831619a0b7558688c135c01ca95.txt (deflated 82%)\n",
            "  adding: content/Model-V5/Model-segment-evaluation-53/labels/front-left-NO20240903-145141-000845F_MP4-0096_jpg.rf.ed169001be6fe2b6ec8c3a1070858b2b.txt (deflated 78%)\n",
            "  adding: content/Model-V5/Model-segment-evaluation-53/labels/front-left-NO20240903-145541-000849F_MP4-0269_jpg.rf.85fddec75b552085f0bf7ff1aacef934.txt (deflated 77%)\n",
            "  adding: content/Model-V5/Model-segment-evaluation-53/labels/front-left-NO20240903-150741-000861F_MP4-0200_jpg.rf.ab69b311153ff8416d73d1fb332ddcc9.txt (deflated 82%)\n",
            "  adding: content/Model-V5/Model-segment-evaluation-53/labels/front-left-NO20240909-144104-000346F_MP4-0224_jpg.rf.63b53a9a585cf1e3eb9ec9da9a3904f5.txt (deflated 83%)\n",
            "  adding: content/Model-V5/Model-segment-evaluation-53/labels/night-front-right-NO20240909-183540-000033F_MP4-0057_jpg.rf.92fb305d2cc77bb85012c216ce421ee4.txt (deflated 79%)\n",
            "  adding: content/Model-V5/Model-segment-evaluation-53/labels/front-left-NO20240903-152241-000876F_MP4-0083_jpg.rf.55e3efd948fe999f362bb6384bfdc848.txt (deflated 78%)\n",
            "  adding: content/Model-V5/Model-segment-evaluation-53/labels/front-left-NO20240909-150004-000365F_MP4-0097_jpg.rf.b694cdbb63fccf22120c6f5663f36db9.txt (deflated 85%)\n",
            "  adding: content/Model-V5/Model-segment-evaluation-53/labels/front-left-NO20240903-152241-000876F_MP4-0176_jpg.rf.e85df72e43acd51ce50de2844368c203.txt (deflated 80%)\n",
            "  adding: content/Model-V5/Model-segment-evaluation-53/labels/front-left-NO20240903-145141-000845F_MP4-0142_jpg.rf.516fff8857daf9189746f0cbfe31c87a.txt (deflated 80%)\n",
            "  adding: content/Model-V5/Model-segment-evaluation-53/labels/front-left-NO20240903-145541-000849F_MP4-0175_jpg.rf.ca9a37d577f4631b57519b9b3c8d6b8c.txt (deflated 78%)\n",
            "  adding: content/Model-V5/Model-segment-evaluation-53/labels/front-left-NO20240903-145541-000849F_MP4-0042_jpg.rf.ef233237a8ed2eada4018206ccfb2272.txt (deflated 79%)\n",
            "  adding: content/Model-V5/Model-segment-evaluation-53/labels/front-right-NO20240909-181640-000014F_MP4-0124_jpg.rf.3f02a8cfaf7b3bd304135af0ad1da116.txt (deflated 77%)\n",
            "  adding: content/Model-V5/Model-segment-evaluation-53/labels/front-left-NO20240903-145141-000845F_MP4-0009_jpg.rf.bf333cdec37378d3b3214ee88b92c575.txt (deflated 76%)\n",
            "  adding: content/Model-V5/Model-segment-evaluation-53/labels/front-left-NO20240903-145041-000844F_MP4-0293_jpg.rf.bc8bb3a4039bd3b6ad59421440a1c281.txt (deflated 76%)\n",
            "  adding: content/Model-V5/Model-segment-evaluation-53/labels/front-left_MP4-0035_jpg.rf.6314fdcdad698008a6ddf21e08b550ba.txt (deflated 80%)\n",
            "  adding: content/Model-V5/Model-segment-evaluation-53/labels/front-left_MP4-0063_jpg.rf.70923d3e5d6bc76274238fcecb5abc0f.txt (deflated 80%)\n",
            "  adding: content/Model-V5/Model-segment-evaluation-53/labels/front-left_MP4-0115_jpg.rf.46d7fb3615fac3d2e8e844d27fdcd057.txt (deflated 81%)\n",
            "  adding: content/Model-V5/Model-segment-evaluation-53/labels/front-left_MP4-0164_jpg.rf.f1c77f845c50bf4f49167ce629413470.txt (deflated 76%)\n",
            "  adding: content/Model-V5/Model-segment-evaluation-53/labels/front-right-NO20240903-143941-000833F_MP4-0144_jpg.rf.0afe3be72344ae2cc5a4a73455b71859.txt (deflated 80%)\n",
            "  adding: content/Model-V5/Model-segment-evaluation-53/labels/front-left-NO20240903-152241-000876F_MP4-0160_jpg.rf.583a5f8a2ab756cae141def2588cbc42.txt (deflated 77%)\n",
            "  adding: content/Model-V5/Model-segment-evaluation-53/labels/front-left-NO20240903-152241-000876F_MP4-0000_jpg.rf.4261fbc2b9047bb045148aad2ef4c068.txt (deflated 82%)\n",
            "  adding: content/Model-V5/Model-segment-evaluation-53/labels/NO20240917-143737-000242F_MP4-0060_jpg.rf.eb8325c78beab21760e55f44d0369ea0.txt (deflated 77%)\n",
            "  adding: content/Model-V5/Model-segment-evaluation-53/labels/front-left-NO20240909-150504-000370F_MP4-0079_jpg.rf.dea1340a598b228d51971641ff170336.txt (deflated 81%)\n",
            "  adding: content/Model-V5/Model-segment-evaluation-53/labels/front-right-NO20240909-181640-000014F_MP4-0054_jpg.rf.7fdb26516a73bceb4092f36f5895043a.txt (deflated 74%)\n",
            "  adding: content/Model-V5/Model-segment-evaluation-53/labels/front-left-NO20240909-143304-000338F_MP4-0198_jpg.rf.904f7a2a23039ee11eebb81e1a9412c7.txt (deflated 78%)\n",
            "  adding: content/Model-V5/Model-segment-evaluation-53/labels/front-left_MP4-0162_jpg.rf.c2c0f32d1319a090e58064d24eb83a43.txt (deflated 80%)\n",
            "  adding: content/Model-V5/Model-segment-evaluation-53/labels/front-left-NO20240903-150741-000861F_MP4-0262_jpg.rf.de6c128d7c81b6b2e0d37fd8fbb34d0c.txt (deflated 78%)\n",
            "  adding: content/Model-V5/Model-segment-evaluation-53/labels/front-left-NO20240903-152241-000876F_MP4-0088_jpg.rf.ba37c2ba8f352c81a718e4aa4212391a.txt (deflated 78%)\n",
            "  adding: content/Model-V5/Model-segment-evaluation-53/labels/front-right-NO20240903-143941-000833F_MP4-0062_jpg.rf.81e9e58755223fd37069a34565e521d3.txt (deflated 79%)\n",
            "  adding: content/Model-V5/Model-segment-evaluation-53/labels/front-left_MP4-0057_jpg.rf.160be066c6839e8753d20c54c2382c52.txt (deflated 81%)\n",
            "  adding: content/Model-V5/Model-segment-evaluation-53/labels/front-left-NO20240903-145041-000844F_MP4-0132_jpg.rf.9785fbc902157a3985a2e4f6e04cfada.txt (deflated 79%)\n",
            "  adding: content/Model-V5/Model-segment-evaluation-53/labels/front-left-NO20240909-150404-000369F_MP4-0070_jpg.rf.3adeabc054519091017716b364ae13e1.txt (deflated 80%)\n",
            "  adding: content/Model-V5/Model-segment-evaluation-53/labels/front-left-NO20240908-150438-000150F_MP4-0024_jpg.rf.621cb4a0723bc159e21a8dcc64676955.txt (deflated 77%)\n",
            "  adding: content/Model-V5/Model-segment-evaluation-53/labels/front-left-NO20240903-145541-000849F_MP4-0173_jpg.rf.16aa5d52048bcc4758e64c73a0259c9b.txt (deflated 80%)\n",
            "  adding: content/Model-V5/Model-segment-evaluation-53/labels/front-left-NO20240903-152241-000876F_MP4-0066_jpg.rf.dc4027f0e31e5fb6cd6110e57a4b42b6.txt (deflated 77%)\n",
            "  adding: content/Model-V5/Model-segment-evaluation-53/labels/front-left-NO20240909-150404-000369F_MP4-0064_jpg.rf.0acd64dff7cd6089f7b67d1ae731b7b8.txt (deflated 82%)\n",
            "  adding: content/Model-V5/Model-segment-evaluation-53/labels/front-left-NO20240903-150741-000861F_MP4-0106_jpg.rf.127d5cbae2565504a7dcca62d4ba32cf.txt (deflated 78%)\n",
            "  adding: content/Model-V5/Model-segment-evaluation-53/labels/front-left-NO20240903-145541-000849F_MP4-0220_jpg.rf.66455bb8d2ce060086284e83678fdecd.txt (deflated 80%)\n",
            "  adding: content/Model-V5/Model-segment-evaluation-53/labels/front-left-NO20240903-145141-000845F_MP4-0058_jpg.rf.1d5bbcf682cbeae15cbc5a503fcafeaa.txt (deflated 79%)\n",
            "  adding: content/Model-V5/Model-segment-evaluation-53/labels/front-left-NO20240903-145441-000848F_MP4-0045_jpg.rf.cd611929558b49c3be3cad930783ad22.txt (deflated 82%)\n",
            "  adding: content/Model-V5/Model-segment-evaluation-53/labels/cars-NO20240914-114048-000222F_MP4-0188_jpg.rf.3a673311c181b435e2bb8091064725b0.txt (deflated 79%)\n",
            "  adding: content/Model-V5/Model-segment-evaluation-53/labels/front-left-NO20240903-145041-000844F_MP4-0149_jpg.rf.cc5c9a6f598a7277b87b767fdca867ec.txt (deflated 76%)\n",
            "  adding: content/Model-V5/Model-segment-evaluation-53/labels/front-left-NO20240903-145141-000845F_MP4-0151_jpg.rf.ccf333a95106bc119a620db7bab07cef.txt (deflated 80%)\n",
            "  adding: content/Model-V5/Model-segment-evaluation-53/labels/front-left-NO20240903-152241-000876F_MP4-0243_jpg.rf.4f275321e9dded9080437fc32606f5c3.txt (deflated 80%)\n",
            "  adding: content/Model-V5/Model-segment-evaluation-53/labels/front-left_MP4-0150_jpg.rf.5130869d63d254e1ca74ba2d667b5413.txt (deflated 79%)\n",
            "  adding: content/Model-V5/Model-segment-evaluation-53/labels/v2_mp4-0026_jpg.rf.f451124dba9e953dcbeafa8aa5a8bc4b.txt (deflated 77%)\n",
            "  adding: content/Model-V5/Model-segment-evaluation-53/labels/front-left-NO20240903-150741-000861F_MP4-0217_jpg.rf.4bf1b6d6acaa901e74bf57d957c95f25.txt (deflated 79%)\n",
            "  adding: content/Model-V5/Model-segment-evaluation-53/labels/chery-cross_MP4-0059_jpg.rf.4ad9c23ce1e8cb658f2d8940ca9c4460.txt (deflated 81%)\n",
            "  adding: content/Model-V5/Model-segment-evaluation-53/labels/front-left-NO20240903-152241-000876F_MP4-0242_jpg.rf.0c726a8f4ca16b5847f22cf0572b57de.txt (deflated 78%)\n",
            "  adding: content/Model-V5/Model-segment-evaluation-53/labels/front-left-NO20240903-152241-000876F_MP4-0206_jpg.rf.1bf2b35e85cf0e0fb8473f249eb35401.txt (deflated 77%)\n",
            "  adding: content/Model-V5/Model-segment-evaluation-53/labels/front-left-NO20240903-145541-000849F_MP4-0281_jpg.rf.e31d7bb385ade653794c97df803c69d1.txt (deflated 77%)\n",
            "  adding: content/Model-V5/Model-segment-evaluation-53/labels/front-left-NO20240903-145041-000844F_MP4-0177_jpg.rf.cd195ec4e424393da2277473b5a36e66.txt (deflated 80%)\n",
            "  adding: content/Model-V5/Model-segment-evaluation-53/labels/front-left-NO20240903-145541-000849F_MP4-0051_jpg.rf.1882ef30c3145904032f2b194daea23f.txt (deflated 78%)\n",
            "  adding: content/Model-V5/Model-segment-evaluation-53/labels/front-left-NO20240903-145041-000844F_MP4-0204_jpg.rf.f27c9f70db20ac295737d4c11ca0f134.txt (deflated 79%)\n",
            "  adding: content/Model-V5/Model-segment-evaluation-53/labels/front-left-NO20240903-145041-000844F_MP4-0128_jpg.rf.0435f635eeb030ad2c32be83452e92e3.txt (deflated 76%)\n",
            "  adding: content/Model-V5/Model-segment-evaluation-53/labels/front-left-NO20240903-152241-000876F_MP4-0025_jpg.rf.a3a55ed31c831dac8cb36fa7ab927e9b.txt (deflated 78%)\n",
            "  adding: content/Model-V5/Model-segment-evaluation-53/labels/front-right-NO20240903-144141-000835F_MP4-0209_jpg.rf.1caa5adfd90ada8b94c42b64599acab3.txt (deflated 76%)\n",
            "  adding: content/Model-V5/Model-segment-evaluation-53/labels/front-left_MP4-0061_jpg.rf.535a3718f61480103aa944c0cf9066a6.txt (deflated 79%)\n",
            "  adding: content/Model-V5/Model-segment-evaluation-53/labels/front-left-NO20240903-145441-000848F_MP4-0276_jpg.rf.e6495593220438c7610bf9e1bec75c90.txt (deflated 79%)\n",
            "  adding: content/Model-V5/Model-segment-evaluation-53/labels/front-left_MP4-0210_jpg.rf.59674b4ed596cb7acc2319304b6264b6.txt (deflated 81%)\n",
            "  adding: content/Model-V5/Model-segment-evaluation-53/labels/v8_mp4-0010_jpg.rf.4a216f6323356f87757ed9618a4941e0.txt (deflated 80%)\n",
            "  adding: content/Model-V5/Model-segment-evaluation-53/labels/front-left-NO20240903-145041-000844F_MP4-0190_jpg.rf.dfa9dce98217b0d16fbf09bd1dedf1d8.txt (deflated 77%)\n",
            "  adding: content/Model-V5/Model-segment-evaluation-53/labels/cars-NO20240914-114248-000224F_MP4-0066_jpg.rf.a451cab04a29f61866271689421cc2b1.txt (deflated 80%)\n",
            "  adding: content/Model-V5/Model-segment-evaluation-53/labels/cars-NO20240914-114048-000222F_MP4-0195_jpg.rf.096bee994222c29d747ad62aac3c3ccb.txt (deflated 79%)\n",
            "  adding: content/Model-V5/Model-segment-evaluation-53/labels/front-left-NO20240903-152241-000876F_MP4-0279_jpg.rf.baf7ef82e1e5a2f58de3ab7f4c221b38.txt (deflated 76%)\n",
            "  adding: content/Model-V5/Model-segment-evaluation-53/labels/front-left_MP4-0019_jpg.rf.b5dcc5b8d3c090e92b36e4d4f313f131.txt (deflated 81%)\n",
            "  adding: content/Model-V5/Model-segment-evaluation-53/labels/front-left-NO20240903-150741-000861F_MP4-0118_jpg.rf.09c3b815cddf95413b141cf6496a65e4.txt (deflated 80%)\n",
            "  adding: content/Model-V5/Model-segment-evaluation-53/labels/front-left-NO20240903-145541-000849F_MP4-0197_jpg.rf.8e9df2f681a8cf860c0652e53ab15164.txt (deflated 80%)\n",
            "  adding: content/Model-V5/Model-segment-evaluation-53/labels/front-left_MP4-0017_jpg.rf.b60a3b090aa744d2632a72ba80f2f8e1.txt (deflated 84%)\n",
            "  adding: content/Model-V5/Model-segment-evaluation-53/labels/front-left-NO20240909-144104-000346F_MP4-0191_jpg.rf.6373b68afe1895a032ddf0a2416e3597.txt (deflated 80%)\n",
            "  adding: content/Model-V5/Model-segment-evaluation-53/labels/front-left-NO20240909-143204-000337F_MP4-0252_jpg.rf.780598fde2e3003752f1de78dcc2d697.txt (deflated 82%)\n",
            "  adding: content/Model-V5/Model-segment-evaluation-53/labels/front-left-NO20240903-145141-000845F_MP4-0028_jpg.rf.52b033ace0fde7d14c271397b058a493.txt (deflated 77%)\n",
            "  adding: content/Model-V5/Model-segment-evaluation-53/labels/cars-NO20240914-114048-000222F_MP4-0050_jpg.rf.4f0d39d9c60455cf10f6c785bfad4270.txt (deflated 81%)\n",
            "  adding: content/Model-V5/Model-segment-evaluation-53/labels/front-left_MP4-0127_jpg.rf.97bea3137f66ad4ede489733748b1a15.txt (deflated 80%)\n",
            "  adding: content/Model-V5/Model-segment-evaluation-53/labels/cars-NO20240910-060525-000077F_MP4-0035_jpg.rf.2d6ad9f299dbe52c5e12b2ee96e17a6b.txt (deflated 77%)\n",
            "  adding: content/Model-V5/Model-segment-evaluation-53/labels/front-left-NO20240903-150741-000861F_MP4-0000_jpg.rf.946b0505a42c6f4e574e3d70f6be0b23.txt (deflated 79%)\n",
            "  adding: content/Model-V5/Model-segment-evaluation-53/labels/front-left-NO20240903-145141-000845F_MP4-0104_jpg.rf.53cf9f831bb7cc78c6f62392b8719595.txt (deflated 79%)\n",
            "  adding: content/Model-V5/Model-segment-evaluation-53/labels/cars-NO20240910-060525-000077F_MP4-0044_jpg.rf.5ea0ef0cfb818a02940cbd68736af226.txt (deflated 79%)\n",
            "  adding: content/Model-V5/Model-segment-evaluation-53/labels/front-left-NO20240903-145541-000849F_MP4-0119_jpg.rf.a56245c2cc72850b77c816b901990f4d.txt (deflated 81%)\n",
            "  adding: content/Model-V5/Model-segment-evaluation-53/labels/front-right-NO20240903-144141-000835F_MP4-0254_jpg.rf.f2106729f2b3106d3904f11ffc39c468.txt (deflated 74%)\n",
            "  adding: content/Model-V5/Model-segment-evaluation-53/labels/front-left_MP4-0122_jpg.rf.6a7f484a1ca0367ae050e7a7f1bda1a9.txt (deflated 81%)\n",
            "  adding: content/Model-V5/Model-segment-evaluation-53/labels/front-right-NO20240903-143941-000833F_MP4-0002_jpg.rf.4cc777a689f39ec82d097ead2760fb02.txt (deflated 79%)\n",
            "  adding: content/Model-V5/Model-segment-evaluation-53/labels/night-front-right-NO20240909-183740-000035F_MP4-0285_jpg.rf.6f1e78f722427957c6c9cb7d4a321340.txt (deflated 77%)\n",
            "  adding: content/Model-V5/Model-segment-evaluation-53/labels/front-left-NO20240903-150741-000861F_MP4-0248_jpg.rf.54bd8e31c1c9d2870a2a1171b1af2f2e.txt (deflated 80%)\n",
            "  adding: content/Model-V5/Model-segment-evaluation-53/labels/front-left-NO20240909-145604-000361F_MP4-0017_jpg.rf.358eed26332c43c0d4ece62b6b12ee6d.txt (deflated 80%)\n",
            "  adding: content/Model-V5/Model-segment-evaluation-53/labels/front-left-NO20240903-150741-000861F_MP4-0254_jpg.rf.6f139a462d0bd84f6203a2da7a653f5f.txt (deflated 77%)\n",
            "  adding: content/Model-V5/Model-segment-evaluation-53/labels/front-left-NO20240903-145041-000844F_MP4-0122_jpg.rf.f0ac75ec9453470999b49b467efeff79.txt (deflated 83%)\n",
            "  adding: content/Model-V5/Model-segment-evaluation-53/labels/v8_mp4-0038_jpg.rf.93dacf342ce0a903c7c57022bcd8495f.txt (deflated 78%)\n",
            "  adding: content/Model-V5/Model-segment-evaluation-53/labels/front-left-NO20240903-145541-000849F_MP4-0254_jpg.rf.e2e4c1b8d00ec724ffcfde9b6fc4946f.txt (deflated 74%)\n",
            "  adding: content/Model-V5/Model-segment-evaluation-53/labels/front-left-NO20240903-145141-000845F_MP4-0190_jpg.rf.79ecb3ac7b09faa68e8326abc0fb6980.txt (deflated 77%)\n",
            "  adding: content/Model-V5/Model-segment-evaluation-53/labels/front-left-NO20240908-150138-000147F_MP4-0084_jpg.rf.889ffd6c1726ffb020fa1b0c80079601.txt (deflated 79%)\n",
            "  adding: content/Model-V5/Model-segment-evaluation-53/labels/front-left-NO20240903-145541-000849F_MP4-0287_jpg.rf.4d67ed214df9d73c49d13c54ff780bf1.txt (deflated 79%)\n",
            "  adding: content/Model-V5/Model-segment-evaluation-53/labels/chery-cross_MP4-0006_jpg.rf.a04935c9dd8e5011e61f29e30054b42a.txt (deflated 79%)\n",
            "  adding: content/Model-V5/Model-segment-evaluation-53/labels/front-left_MP4-0274_jpg.rf.d9b58236a58847178b8b140835075fd1.txt (deflated 81%)\n",
            "  adding: content/Model-V5/Model-segment-evaluation-53/labels/front-left_MP4-0058_jpg.rf.32d28cbbef618f435c5fc69a8367f4ab.txt (deflated 83%)\n",
            "  adding: content/Model-V5/Model-segment-evaluation-53/labels/night-front-right-NO20240909-183540-000033F_MP4-0153_jpg.rf.77e2b4d9cf6c4b1ba5e0e7f8c0531c54.txt (deflated 81%)\n",
            "  adding: content/Model-V5/Model-segment-evaluation-53/labels/front-right-NO20240903-143941-000833F_MP4-0300_jpg.rf.d609a520e18eb7eb1dce601700288738.txt (deflated 77%)\n",
            "  adding: content/Model-V5/Model-segment-evaluation-53/labels/front-left-NO20240903-150741-000861F_MP4-0119_jpg.rf.c149233b74ba4267a4eb733dda1e9eae.txt (deflated 81%)\n",
            "  adding: content/Model-V5/Model-segment-evaluation-53/labels/front-left-NO20240903-145541-000849F_MP4-0001_jpg.rf.8ef9ff8da3e384c90cc5a4d9aee00b62.txt (deflated 77%)\n",
            "  adding: content/Model-V5/Model-segment-evaluation-53/labels/front-right-NO20240903-144041-000834F_MP4-0111_jpg.rf.c4944980d326be192dedf9f3325f746d.txt (deflated 81%)\n",
            "  adding: content/Model-V5/Model-segment-evaluation-53/labels/NO20240909-181140-000009F_MP4-0079_jpg.rf.a0f7566812da95d8099fdb2f25b58eb2.txt (deflated 77%)\n",
            "  adding: content/Model-V5/Model-segment-evaluation-53/labels/NO20240917-144137-000246F_MP4-0025_jpg.rf.91a83de009add794a5dfcef2279e209f.txt (deflated 81%)\n",
            "  adding: content/Model-V5/Model-segment-evaluation-53/labels/front-right-NO20240903-143941-000833F_MP4-0214_jpg.rf.6de79e547aefd79d124fc85dd849cb3c.txt (deflated 80%)\n",
            "  adding: content/Model-V5/Model-segment-evaluation-53/labels/chery-cross_MP4-0060_jpg.rf.d50f5742b7bff6acb575b1143e6eb763.txt (deflated 77%)\n",
            "  adding: content/Model-V5/Model-segment-evaluation-53/labels/front-left-NO20240909-150404-000369F_MP4-0118_jpg.rf.3451a8c1d802d3137a133c9743680ff8.txt (deflated 79%)\n",
            "  adding: content/Model-V5/Model-segment-evaluation-53/labels/v9_mp4-0035_jpg.rf.e00f874b093b2c23413f45f6c95faa1f.txt (deflated 81%)\n",
            "  adding: content/Model-V5/Model-segment-evaluation-53/labels/night-front-right-NO20240909-183440-000032F_MP4-0164_jpg.rf.f6131377646d099d3028ccab8be8cfa0.txt (deflated 83%)\n",
            "  adding: content/Model-V5/Model-segment-evaluation-53/labels/v8_mp4-0035_jpg.rf.29556080be2ae60f2659eaa2ba43271b.txt (deflated 78%)\n",
            "  adding: content/Model-V5/Model-segment-evaluation-53/labels/front-left-NO20240909-151004-000375F_MP4-0164_jpg.rf.d4f66575a9fa2ccac89d5ee52b5bda3b.txt (deflated 78%)\n",
            "  adding: content/Model-V5/Model-segment-evaluation-53/labels/front-left-NO20240903-145541-000849F_MP4-0274_jpg.rf.17bf8a804bda5ea51491e5a15918e3be.txt (deflated 79%)\n",
            "  adding: content/Model-V5/Model-segment-evaluation-53/labels/night-front-right-NO20240909-182940-000027F_MP4-0026_jpg.rf.31df456f5d7102c788d1df27aafd2b34.txt (deflated 83%)\n",
            "  adding: content/Model-V5/Model-segment-evaluation-53/labels/front-right-NO20240909-181340-000011F_MP4-0068_jpg.rf.87c0ac5a3611fe445f1e4ed59f54a7bd.txt (deflated 78%)\n",
            "  adding: content/Model-V5/Model-segment-evaluation-53/labels/front-right-NO20240903-143941-000833F_MP4-0004_jpg.rf.a462540db9ca2df67e46f1634d4498a9.txt (deflated 80%)\n",
            "  adding: content/Model-V5/Model-segment-evaluation-53/labels/front-left-NO20240903-152241-000876F_MP4-0053_jpg.rf.694ffa12c1e957c4e72fcf179b3c1e5d.txt (deflated 75%)\n",
            "  adding: content/Model-V5/Model-segment-evaluation-53/labels/front-left_MP4-0010_jpg.rf.119412991268053c7860cf7a3e51244a.txt (deflated 79%)\n",
            "  adding: content/Model-V5/Model-segment-evaluation-53/labels/front-left_MP4-0203_jpg.rf.80a4d7b7e62723f820037b00d1791d6c.txt (deflated 79%)\n",
            "  adding: content/Model-V5/Model-segment-evaluation-53/labels/night-front-right-NO20240909-183440-000032F_MP4-0267_jpg.rf.b6f61ffb7c6b83dc9ce243a869e7d79c.txt (deflated 79%)\n",
            "  adding: content/Model-V5/Model-segment-evaluation-53/labels/front-left-NO20240903-152241-000876F_MP4-0159_jpg.rf.23ed75bc91b7985fea6ea3e2f798f34b.txt (deflated 80%)\n",
            "  adding: content/Model-V5/Model-segment-evaluation-53/labels/front-left_MP4-0154_jpg.rf.c96081320a885560705ea451fad68ad4.txt (deflated 78%)\n",
            "  adding: content/Model-V5/Model-segment-evaluation-53/labels/front-left-NO20240909-144104-000346F_MP4-0227_jpg.rf.dbc350d13e60b2d0849c78c7329155e7.txt (deflated 84%)\n",
            "  adding: content/Model-V5/Model-segment-evaluation-53/labels/front-left-NO20240903-150741-000861F_MP4-0123_jpg.rf.96164c6f2d5502a1d38f46d38946161e.txt (deflated 78%)\n",
            "  adding: content/Model-V5/Model-segment-evaluation-53/labels/front-left_MP4-0117_jpg.rf.3187bd2e17c8a2c1159318b93b979841.txt (deflated 79%)\n",
            "  adding: content/Model-V5/Model-segment-evaluation-53/labels/front-left-NO20240903-145141-000845F_MP4-0140_jpg.rf.dad2ec2cdcb048cfe893402cb3239c0c.txt (deflated 78%)\n",
            "  adding: content/Model-V5/Model-segment-evaluation-53/labels/front-left-NO20240903-145141-000845F_MP4-0003_jpg.rf.f62922f57ea42db9641d340ca401513f.txt (deflated 78%)\n",
            "  adding: content/Model-V5/Model-segment-evaluation-53/labels/night-front-right-NO20240909-183740-000035F_MP4-0073_jpg.rf.e0d525dc85dd14c05a4adaaca8f7838c.txt (deflated 75%)\n",
            "  adding: content/Model-V5/Model-segment-evaluation-53/labels/front-left-NO20240909-143204-000337F_MP4-0168_jpg.rf.91205b8463e4aeab590f4c1d8ec8d591.txt (deflated 77%)\n",
            "  adding: content/Model-V5/Model-segment-evaluation-53/labels/front-left-NO20240909-143304-000338F_MP4-0193_jpg.rf.d33efa7399be34bcb61d5d8d5cec0ec8.txt (deflated 77%)\n",
            "  adding: content/Model-V5/Model-segment-evaluation-53/labels/front-left-NO20240910-060325-000075F_MP4-0057_jpg.rf.4db16a70d3bf0b775acf5d8a53c740a3.txt (deflated 77%)\n",
            "  adding: content/Model-V5/Model-segment-evaluation-53/labels/front-left-NO20240903-152241-000876F_MP4-0267_jpg.rf.86802241caf418b65947dfda8309797b.txt (deflated 76%)\n",
            "  adding: content/Model-V5/Model-segment-evaluation-53/labels/front-left-NO20240903-150741-000861F_MP4-0259_jpg.rf.65f6b7c635436bb335364ccb4a669d8a.txt (deflated 81%)\n",
            "  adding: content/Model-V5/Model-segment-evaluation-53/labels/front-left-NO20240903-145041-000844F_MP4-0296_jpg.rf.1bbd7fff6d35e1a1e2e5ec8f5bf437b2.txt (deflated 79%)\n",
            "  adding: content/Model-V5/Model-segment-evaluation-53/labels/front-left-NO20240903-152241-000876F_MP4-0143_jpg.rf.a83bc33c0ec402d719ca10fabcfb92bc.txt (deflated 81%)\n",
            "  adding: content/Model-V5/Model-segment-evaluation-53/labels/front-right-NO20240903-144041-000834F_MP4-0150_jpg.rf.de72b9bfaf32f148b3ecc30c11d4d835.txt (deflated 79%)\n",
            "  adding: content/Model-V5/Model-segment-evaluation-53/labels/front-left-NO20240903-152241-000876F_MP4-0153_jpg.rf.fd163311e27e5465a2d7df6368dad2ce.txt (deflated 80%)\n",
            "  adding: content/Model-V5/Model-segment-evaluation-53/labels/night-front-right-NO20240909-183140-000029F_MP4-0010_jpg.rf.03012196e8357d65dfc542a8f63ce0fd.txt (deflated 77%)\n",
            "  adding: content/Model-V5/Model-segment-evaluation-53/labels/front-left_MP4-0090_jpg.rf.f5ae112c9b71af053c002bcdf5fb63e8.txt (deflated 79%)\n",
            "  adding: content/Model-V5/Model-segment-evaluation-53/labels/front-left-NO20240903-150741-000861F_MP4-0014_jpg.rf.502308859e603f0886cc0aeb3639f9c1.txt (deflated 76%)\n",
            "  adding: content/Model-V5/Model-segment-evaluation-53/labels/front-left-NO20240903-145141-000845F_MP4-0128_jpg.rf.1d269d82f1524cda7ed7cc134d83e5eb.txt (deflated 83%)\n",
            "  adding: content/Model-V5/Model-segment-evaluation-53/labels/front-left-NO20240903-145141-000845F_MP4-0047_jpg.rf.ad55aebdbedd6122b13a9f2d5a15c3df.txt (deflated 81%)\n",
            "  adding: content/Model-V5/Model-segment-evaluation-53/labels/front-left-NO20240903-145041-000844F_MP4-0169_jpg.rf.58f54488e39ace71e80a99486e1bbe50.txt (deflated 77%)\n",
            "  adding: content/Model-V5/Model-segment-evaluation-53/labels/front-left-NO20240903-145141-000845F_MP4-0136_jpg.rf.080d74f0e16d5374fbc3fe334c2ad96c.txt (deflated 79%)\n",
            "  adding: content/Model-V5/Model-segment-evaluation-53/labels/front-left-NO20240903-145541-000849F_MP4-0052_jpg.rf.4eb352c85557f4614797c443f0ccc28c.txt (deflated 78%)\n",
            "  adding: content/Model-V5/Model-segment-evaluation-53/labels/cars-NO20240910-060525-000077F_MP4-0019_jpg.rf.973aee157b2d7e85239b749afe2e4645.txt (deflated 82%)\n",
            "  adding: content/Model-V5/Model-segment-evaluation-53/labels/front-left_MP4-0094_jpg.rf.4ac6b144a9461222d7adc3824e8bbda5.txt (deflated 81%)\n",
            "  adding: content/Model-V5/Model-segment-evaluation-53/labels/NO20240917-143837-000243F_MP4-0067_jpg.rf.e37a1bad4ecc9facf9b919f51ba15606.txt (deflated 79%)\n",
            "  adding: content/Model-V5/Model-segment-evaluation-53/labels/front-left-NO20240903-145041-000844F_MP4-0280_jpg.rf.3d3274415524eb9ddba0e7b9b0034cc3.txt (deflated 80%)\n",
            "  adding: content/Model-V5/Model-segment-evaluation-53/labels/front-left_MP4-0031_jpg.rf.5c8f23397632136d3f2eff7a54bb5892.txt (deflated 79%)\n",
            "  adding: content/Model-V5/Model-segment-evaluation-53/labels/NO20240917-144137-000246F_MP4-0010_jpg.rf.ac6d4beb97fd2ef2172aad8a888ad99a.txt (deflated 79%)\n",
            "  adding: content/Model-V5/Model-segment-evaluation-53/labels/front-left-NO20240909-150504-000370F_MP4-0266_jpg.rf.4346259234f6e12686d733897648dc86.txt (deflated 75%)\n",
            "  adding: content/Model-V5/Model-segment-evaluation-53/labels/front-left-NO20240903-145541-000849F_MP4-0219_jpg.rf.02837ad613962edcf870f9a518c02af7.txt (deflated 78%)\n",
            "  adding: content/Model-V5/Model-segment-evaluation-53/labels/front-left-NO20240908-150138-000147F_MP4-0151_jpg.rf.bf262ef34831aa0ccf9572b306a49ff8.txt (deflated 77%)\n",
            "  adding: content/Model-V5/Model-segment-evaluation-53/labels/front-left-NO20240903-145141-000845F_MP4-0031_jpg.rf.c1700a123756014724fc69d4cbdd15aa.txt (deflated 79%)\n",
            "  adding: content/Model-V5/Model-segment-evaluation-53/labels/front-right-NO20240903-143941-000833F_MP4-0249_jpg.rf.55902c10d66ff01a341adaecfd0ceeff.txt (deflated 79%)\n",
            "  adding: content/Model-V5/Model-segment-evaluation-53/labels/front-right-NO20240903-143941-000833F_MP4-0110_jpg.rf.318d2f87f3505205cda3b24a206117fe.txt (deflated 78%)\n",
            "  adding: content/Model-V5/Model-segment-evaluation-53/labels/front-right-NO20240903-144141-000835F_MP4-0280_jpg.rf.103b6ac9406fa4120ef01d1e54ea8b3e.txt (deflated 83%)\n",
            "  adding: content/Model-V5/Model-segment-evaluation-53/labels/cars-NO20240914-114048-000222F_MP4-0114_jpg.rf.76a809085be468b24dd7003a26915cca.txt (deflated 80%)\n",
            "  adding: content/Model-V5/Model-segment-evaluation-53/labels/front-left-NO20240903-145541-000849F_MP4-0007_jpg.rf.14a0e21ae5e3a5ae8133dcdb27c40f61.txt (deflated 76%)\n",
            "  adding: content/Model-V5/Model-segment-evaluation-53/labels/front-right-NO20240909-181240-000010F_MP4-0106_jpg.rf.2d9a6a2be11eb640986b90ed1c44b174.txt (deflated 79%)\n",
            "  adding: content/Model-V5/Model-segment-evaluation-53/labels/front-left-NO20240910-064025-000112F_MP4-0282_jpg.rf.e8647865f514cf1d92bc65dacd845f87.txt (deflated 81%)\n",
            "  adding: content/Model-V5/Model-segment-evaluation-53/labels/front-right-NO20240909-181240-000010F_MP4-0001_jpg.rf.eb9653646dd2c1bc137ffad0336563d8.txt (deflated 80%)\n",
            "  adding: content/Model-V5/Model-segment-evaluation-53/labels/front-left-NO20240903-150741-000861F_MP4-0174_jpg.rf.b54e0e82a87878785fa63acafce9ad77.txt (deflated 82%)\n",
            "  adding: content/Model-V5/Model-segment-evaluation-53/labels/front-left-NO20240909-144104-000346F_MP4-0012_jpg.rf.92fb58c5962a54e2bd9a16ae5d9e60cd.txt (deflated 83%)\n",
            "  adding: content/Model-V5/Model-segment-evaluation-53/labels/front-left-NO20240903-152241-000876F_MP4-0174_jpg.rf.21282a9e4e7b304a0b8054644f2ffd7e.txt (deflated 80%)\n",
            "  adding: content/Model-V5/Model-segment-evaluation-53/labels/front-right-NO20240903-144041-000834F_MP4-0218_jpg.rf.f9f248f027d7511df2a28cb95970a546.txt (deflated 82%)\n",
            "  adding: content/Model-V5/Model-segment-evaluation-53/labels/front-left-NO20240910-064025-000112F_MP4-0080_jpg.rf.2a1aeeaea7e213a263f4d29091ef8ae0.txt (deflated 79%)\n",
            "  adding: content/Model-V5/Model-segment-evaluation-53/labels/front-left-NO20240908-145538-000141F_MP4-0117_jpg.rf.10eea247246043352f8dff802e3576ef.txt (deflated 78%)\n",
            "  adding: content/Model-V5/Model-segment-evaluation-53/labels/front-left-NO20240903-152241-000876F_MP4-0240_jpg.rf.0913e8e61f868a488a1db1f2640644d1.txt (deflated 80%)\n",
            "  adding: content/Model-V5/Model-segment-evaluation-53/labels/front-left-NO20240903-145141-000845F_MP4-0071_jpg.rf.a65a0e52516d41a05f9b3044daf956d1.txt (deflated 81%)\n",
            "  adding: content/Model-V5/Model-segment-evaluation-53/labels/NO20240917-143837-000243F_MP4-0023_jpg.rf.393329dc02b3d5575c7790933dad27a9.txt (deflated 77%)\n",
            "  adding: content/Model-V5/Model-segment-evaluation-53/labels/cars-NO20240910-060525-000077F_MP4-0052_jpg.rf.9ec0b332dfbc3fa12bac4bd80b25e40e.txt (deflated 81%)\n",
            "  adding: content/Model-V5/Model-segment-evaluation-53/labels/front-right-NO20240903-144141-000835F_MP4-0111_jpg.rf.40f08e57770efb7cc9a597b17afa053d.txt (deflated 82%)\n",
            "  adding: content/Model-V5/Model-segment-evaluation-53/labels/night-front-right-NO20240909-183440-000032F_MP4-0036_jpg.rf.05c2faf6c96776f91fa1cc8226286a29.txt (deflated 78%)\n",
            "  adding: content/Model-V5/Model-segment-evaluation-53/labels/front-left-NO20240903-152241-000876F_MP4-0052_jpg.rf.e94bfafe7fe74cd9a557ce00a494801e.txt (deflated 75%)\n",
            "  adding: content/Model-V5/Model-segment-evaluation-53/labels/front-left-NO20240903-145541-000849F_MP4-0072_jpg.rf.83bd65e5870d9332bbe1220e023ecfb7.txt (deflated 84%)\n",
            "  adding: content/Model-V5/Model-segment-evaluation-53/labels/cars-NO20240914-114048-000222F_MP4-0116_jpg.rf.2b0d749f4571882ec61f47e133fb5a8f.txt (deflated 81%)\n",
            "  adding: content/Model-V5/Model-segment-evaluation-53/labels/front-left-NO20240903-152241-000876F_MP4-0241_jpg.rf.12565da6b9768387fea221ac76a3a82d.txt (deflated 79%)\n",
            "  adding: content/Model-V5/Model-segment-evaluation-53/labels/front-right-NO20240903-144041-000834F_MP4-0219_jpg.rf.6501e352d2e9bcb3a532803a6ef534ef.txt (deflated 82%)\n",
            "  adding: content/Model-V5/Model-segment-evaluation-53/labels/cars-NO20240914-114048-000222F_MP4-0273_jpg.rf.d24016d86297d687511a7f9427071af4.txt (deflated 80%)\n",
            "  adding: content/Model-V5/Model-segment-evaluation-53/labels/cars-NO20240910-060525-000077F_MP4-0180_jpg.rf.96a645b651906dde0e1139682ffd1260.txt (deflated 75%)\n",
            "  adding: content/Model-V5/Model-segment-evaluation-53/labels/front-left-NO20240903-152241-000876F_MP4-0027_jpg.rf.45f7d9f223dfe3b50533faa48512f1e3.txt (deflated 79%)\n",
            "  adding: content/Model-V5/Model-segment-evaluation-53/labels/v2-p2_mp4-0000_jpg.rf.a3cd99e9abd211010d2fb6751d1b4616.txt (deflated 80%)\n",
            "  adding: content/Model-V5/Model-segment-evaluation-53/labels/front-left-NO20240903-145141-000845F_MP4-0080_jpg.rf.d41d5194ac3a3de4353ec40e5cf5da42.txt (deflated 79%)\n",
            "  adding: content/Model-V5/Model-segment-evaluation-53/labels/front-left-NO20240909-143304-000338F_MP4-0251_jpg.rf.15eec6f68c3b2c58518ce9f1ffccdab1.txt (deflated 76%)\n",
            "  adding: content/Model-V5/Model-segment-evaluation-53/labels/front-left-NO20240903-152241-000876F_MP4-0123_jpg.rf.ccec1d4446f21fa43a4998a94e4a88d0.txt (deflated 79%)\n",
            "  adding: content/Model-V5/Model-segment-evaluation-53/labels/front-right-NO20240903-143941-000833F_MP4-0243_jpg.rf.01575a03dc8720f63b6d16d0189b5aa6.txt (deflated 78%)\n",
            "  adding: content/Model-V5/Model-segment-evaluation-53/labels/front-left_MP4-0241_jpg.rf.d205f11e13e00fa0a2174df2f7b011c1.txt (deflated 79%)\n",
            "  adding: content/Model-V5/Model-segment-evaluation-53/labels/v2_mp4-0005_jpg.rf.9dd873868f970987c1d1847d37a8c4d9.txt (deflated 75%)\n",
            "  adding: content/Model-V5/Model-segment-evaluation-53/labels/front-left-NO20240903-145141-000845F_MP4-0123_jpg.rf.301ba262c260ce35d17a1f53eca98361.txt (deflated 77%)\n",
            "  adding: content/Model-V5/Model-segment-evaluation-53/labels/v5_mp4-0038_jpg.rf.f7d7e5fa5e2fe0770124b150d8aa0af8.txt (deflated 81%)\n",
            "  adding: content/Model-V5/Model-segment-evaluation-53/labels/NO20240917-143737-000242F_MP4-0012_jpg.rf.14de77d226adf01325e43ac44dd1724a.txt (deflated 82%)\n",
            "  adding: content/Model-V5/Model-segment-evaluation-53/labels/front-left-NO20240903-145541-000849F_MP4-0110_jpg.rf.633a8fc2aac5780bec1603d62d19089c.txt (deflated 79%)\n",
            "  adding: content/Model-V5/Model-segment-evaluation-53/labels/front-right-NO20240903-144041-000834F_MP4-0068_jpg.rf.f279d81206522e5462745dc35ab119aa.txt (deflated 82%)\n",
            "  adding: content/Model-V5/Model-segment-evaluation-53/labels/front-left-NO20240908-145538-000141F_MP4-0130_jpg.rf.cb8bfc78169bcd789774a223c3874170.txt (deflated 82%)\n",
            "  adding: content/Model-V5/Model-segment-evaluation-53/labels/cars-NO20240914-114048-000222F_MP4-0040_jpg.rf.e9a463a62b859518a381c0c907e7d84f.txt (deflated 80%)\n",
            "  adding: content/Model-V5/Model-segment-evaluation-53/labels/NO20240917-143737-000242F_MP4-0033_jpg.rf.87de474f9988c5b440539c54def2d4b5.txt (deflated 84%)\n",
            "  adding: content/Model-V5/Model-segment-evaluation-53/labels/front-left-NO20240903-152241-000876F_MP4-0039_jpg.rf.71f680252b72cf81c0dcd85b4c161b15.txt (deflated 76%)\n",
            "  adding: content/Model-V5/Model-segment-evaluation-53/labels/front-right-NO20240903-143941-000833F_MP4-0247_jpg.rf.262af1563444b163d3d0c26e5e5ff33b.txt (deflated 78%)\n",
            "  adding: content/Model-V5/Model-segment-evaluation-53/labels/night-front-right-NO20240909-183440-000032F_MP4-0050_jpg.rf.dd8d8fbd44b8476f8884d67fa89fa248.txt (deflated 76%)\n",
            "  adding: content/Model-V5/Model-segment-evaluation-53/labels/front-left-NO20240903-145041-000844F_MP4-0137_jpg.rf.873b76af556def9fc43a0adf4c6948e5.txt (deflated 83%)\n",
            "  adding: content/Model-V5/Model-segment-evaluation-53/labels/front-right-NO20240903-144041-000834F_MP4-0003_jpg.rf.6d7bffb112476ea4543cb5a10582811c.txt (deflated 78%)\n",
            "  adding: content/Model-V5/Model-segment-evaluation-53/labels/front-left-NO20240903-145141-000845F_MP4-0033_jpg.rf.9c3b5d90b358dc6404dcedc9a953937a.txt (deflated 78%)\n",
            "  adding: content/Model-V5/Model-segment-evaluation-53/labels/front-left-NO20240903-152241-000876F_MP4-0216_jpg.rf.7f58037270e57a4754fe192fd14eeaca.txt (deflated 75%)\n",
            "  adding: content/Model-V5/Model-segment-evaluation-53/labels/night-front-right-NO20240909-183740-000035F_MP4-0237_jpg.rf.e121d5a0924ca759227d79d267aa2f70.txt (deflated 80%)\n",
            "  adding: content/Model-V5/Model-segment-evaluation-53/labels/front-left-NO20240903-150741-000861F_MP4-0004_jpg.rf.941eef3c8bfaeb8f3ea9e5f4b51c2356.txt (deflated 78%)\n",
            "  adding: content/Model-V5/Model-segment-evaluation-53/labels/front-left-NO20240903-145541-000849F_MP4-0078_jpg.rf.e01c8d95e1d7f4b4cb456bb373e31326.txt (deflated 78%)\n",
            "  adding: content/Model-V5/Model-segment-evaluation-53/labels/front-right-NO20240903-144141-000835F_MP4-0212_jpg.rf.556d11fe79ea0ac6c06e6db44a6d974c.txt (deflated 83%)\n",
            "  adding: content/Model-V5/Model-segment-evaluation-53/labels/front-left-NO20240903-152241-000876F_MP4-0257_jpg.rf.5e720b8fb0e6120b3263051216cf9bfe.txt (deflated 80%)\n",
            "  adding: content/Model-V5/Model-segment-evaluation-53/labels/front-left-NO20240903-150741-000861F_MP4-0225_jpg.rf.fa5f32abef4c2d1add1634153a8922d0.txt (deflated 82%)\n",
            "  adding: content/Model-V5/Model-segment-evaluation-53/labels/front-right-NO20240903-144041-000834F_MP4-0036_jpg.rf.cdc85834d404cdab97b82927f6e0947e.txt (deflated 77%)\n",
            "  adding: content/Model-V5/Model-segment-evaluation-53/labels/front-left-NO20240903-145541-000849F_MP4-0298_jpg.rf.393d0347a9b0889fb335d5fc2f994a71.txt (deflated 75%)\n",
            "  adding: content/Model-V5/Model-segment-evaluation-53/labels/front-left-NO20240903-150741-000861F_MP4-0041_jpg.rf.d63d0a0797ba00295d181df21056d63c.txt (deflated 80%)\n",
            "  adding: content/Model-V5/Model-segment-evaluation-53/labels/front-left_MP4-0086_jpg.rf.c9bdce369737c05c49aa6e1476420527.txt (deflated 80%)\n",
            "  adding: content/Model-V5/Model-segment-evaluation-53/labels/front-left-NO20240903-145541-000849F_MP4-0258_jpg.rf.a246bb9926aba7f7b2e3f08ad6df98d5.txt (deflated 79%)\n",
            "  adding: content/Model-V5/Model-segment-evaluation-53/labels/front-right-NO20240903-144041-000834F_MP4-0044_jpg.rf.356237655c3f5941a02cb6b22d56f83b.txt (deflated 77%)\n",
            "  adding: content/Model-V5/Model-segment-evaluation-53/labels/front-right-NO20240903-143941-000833F_MP4-0068_jpg.rf.ebc2de3633b3268613f44a05da0165e1.txt (deflated 81%)\n",
            "  adding: content/Model-V5/Model-segment-evaluation-53/labels/front-left-NO20240908-145538-000141F_MP4-0182_jpg.rf.319eb825b7afe858d4b487746867fb13.txt (deflated 79%)\n",
            "  adding: content/Model-V5/Model-segment-evaluation-53/labels/front-left-NO20240903-145541-000849F_MP4-0031_jpg.rf.8a76b11f03d15b91f90410e1023bc655.txt (deflated 79%)\n",
            "  adding: content/Model-V5/Model-segment-evaluation-53/labels/front-left-NO20240903-152241-000876F_MP4-0078_jpg.rf.64e435ebd5c1291381fcb84ff37e3504.txt (deflated 76%)\n",
            "  adding: content/Model-V5/Model-segment-evaluation-53/labels/front-left-NO20240903-150741-000861F_MP4-0163_jpg.rf.5335072b6de018a27ebf2f5e134cebb4.txt (deflated 81%)\n",
            "  adding: content/Model-V5/Model-segment-evaluation-53/labels/front-right-NO20240903-144141-000835F_MP4-0223_jpg.rf.f7af0ed81c8022b6f672b54fb6214af3.txt (deflated 82%)\n",
            "  adding: content/Model-V5/Model-segment-evaluation-53/labels/cars-NO20240914-114048-000222F_MP4-0104_jpg.rf.b9b7dbe599f83beaec7c94d4534ea55b.txt (deflated 77%)\n",
            "  adding: content/Model-V5/Model-segment-evaluation-53/labels/NO20240917-144137-000246F_MP4-0097_jpg.rf.a205361ebeee3a2c9a55c9ac6c87b396.txt (deflated 78%)\n",
            "  adding: content/Model-V5/Model-segment-evaluation-53/labels/front-left-NO20240903-145441-000848F_MP4-0278_jpg.rf.feaeea4aa2a82cc5debd98f324acebe8.txt (deflated 78%)\n",
            "  adding: content/Model-V5/Model-segment-evaluation-53/labels/cars-NO20240914-114048-000222F_MP4-0090_jpg.rf.f149e576866e856d42288a8927811307.txt (deflated 77%)\n",
            "  adding: content/Model-V5/Model-segment-evaluation-53/labels/front-left-NO20240909-144004-000345F_MP4-0118_jpg.rf.52dc0373f342fe759fc929fb27086680.txt (deflated 81%)\n",
            "  adding: content/Model-V5/Model-segment-evaluation-53/labels/front-left-NO20240903-145041-000844F_MP4-0283_jpg.rf.6f2588c708ab8f7f186232a037d0be79.txt (deflated 78%)\n",
            "  adding: content/Model-V5/Model-segment-evaluation-53/labels/front-left-NO20240909-145904-000364F_MP4-0168_jpg.rf.81b3ea824b398fd6e604764c955e5eb1.txt (deflated 71%)\n",
            "  adding: content/Model-V5/Model-segment-evaluation-53/labels/front-left-NO20240903-145541-000849F_MP4-0008_jpg.rf.1dd5187975dc5e8ef51dfc802f643fd7.txt (deflated 75%)\n",
            "  adding: content/Model-V5/Model-segment-evaluation-53/labels/front-left-NO20240909-143204-000337F_MP4-0064_jpg.rf.4050ce0ca0db5b718fbcd3d8fc7ba4b5.txt (deflated 82%)\n",
            "  adding: content/Model-V5/Model-segment-evaluation-53/labels/front-left-NO20240909-144504-000350F_MP4-0161_jpg.rf.a177ea39a0f4ca55ee7b7fe2e9686b3b.txt (deflated 79%)\n",
            "  adding: content/Model-V5/Model-segment-evaluation-53/labels/front-left-NO20240909-151004-000375F_MP4-0007_jpg.rf.e0fb63858a0d0372b23baceccdbc6076.txt (deflated 78%)\n",
            "  adding: content/Model-V5/Model-segment-evaluation-53/labels/front-left_MP4-0138_jpg.rf.51214555f11dbeb247f705953eb7ce1a.txt (deflated 78%)\n",
            "  adding: content/Model-V5/Model-segment-evaluation-53/labels/front-left_MP4-0025_jpg.rf.f45fc6de11950b570016c84dcfa277a9.txt (deflated 84%)\n",
            "  adding: content/Model-V5/Model-segment-evaluation-53/labels/front-right-NO20240903-144141-000835F_MP4-0069_jpg.rf.1ad3938d485f8e764f746af92100017d.txt (deflated 84%)\n",
            "  adding: content/Model-V5/Model-segment-evaluation-53/labels/front-left-NO20240909-150504-000370F_MP4-0108_jpg.rf.2121aa6d2ddf712c0b3b7c7be5edd21e.txt (deflated 80%)\n",
            "  adding: content/Model-V5/Model-segment-evaluation-53/labels/front-left_MP4-0076_jpg.rf.b86d00ebbae99a1b589bc4eade4ecfbb.txt (deflated 80%)\n",
            "  adding: content/Model-V5/Model-segment-evaluation-53/labels/front-left-NO20240903-145041-000844F_MP4-0274_jpg.rf.a1e33d0f502dc3aa6874d7d1cf73bf6b.txt (deflated 77%)\n",
            "  adding: content/Model-V5/Model-segment-evaluation-53/labels/NO20240917-144137-000246F_MP4-0099_jpg.rf.ed1ba669b73dc181b8102f61ca965f61.txt (deflated 81%)\n",
            "  adding: content/Model-V5/Model-segment-evaluation-53/labels/front-left_MP4-0128_jpg.rf.1ec063236ee1697f58f62090bdc733d6.txt (deflated 79%)\n",
            "  adding: content/Model-V5/Model-segment-evaluation-53/labels/front-left-NO20240903-150741-000861F_MP4-0114_jpg.rf.27fac72636cdac71c8559dd0267a1aea.txt (deflated 81%)\n",
            "  adding: content/Model-V5/Model-segment-evaluation-53/labels/front-left-NO20240903-152241-000876F_MP4-0180_jpg.rf.3ec2f2e942a717f2e0ca39f8d21dc789.txt (deflated 75%)\n",
            "  adding: content/Model-V5/Model-segment-evaluation-53/labels/NO20240917-144137-000246F_MP4-0033_jpg.rf.91051855111ed3d6b5130e04f4577ed1.txt (deflated 80%)\n",
            "  adding: content/Model-V5/Model-segment-evaluation-53/labels/front-left-NO20240903-145141-000845F_MP4-0025_jpg.rf.9a262bde9178612f68754a3707a14187.txt (deflated 80%)\n",
            "  adding: content/Model-V5/Model-segment-evaluation-53/labels/front-left-NO20240903-152241-000876F_MP4-0231_jpg.rf.7386c5e5fa135b28f06710c38886f7f1.txt (deflated 75%)\n",
            "  adding: content/Model-V5/Model-segment-evaluation-53/labels/front-left-NO20240903-152241-000876F_MP4-0001_jpg.rf.5fa7874fef3e80090bbbfa9022a450dd.txt (deflated 81%)\n",
            "  adding: content/Model-V5/Model-segment-evaluation-53/labels/front-right-NO20240903-144041-000834F_MP4-0125_jpg.rf.8a6ee5436167f03aa214ad3d9dc43e7c.txt (deflated 83%)\n",
            "  adding: content/Model-V5/Model-segment-evaluation-53/labels/front-left-NO20240909-150004-000365F_MP4-0140_jpg.rf.3937d99087fc1db218f5dc2fd960395a.txt (deflated 73%)\n",
            "  adding: content/Model-V5/Model-segment-evaluation-53/labels/v9_mp4-0033_jpg.rf.cd93b90c93cb4b4d267e5bd3c308e6bb.txt (deflated 79%)\n",
            "  adding: content/Model-V5/Model-segment-evaluation-53/labels/front-left_MP4-0077_jpg.rf.695021a8e3322a98ae5428d9c6c0ff5a.txt (deflated 81%)\n",
            "  adding: content/Model-V5/Model-segment-evaluation-53/labels/front-left-NO20240903-145541-000849F_MP4-0286_jpg.rf.f7dab0a24f3cf6f19994876131392ca3.txt (deflated 80%)\n",
            "  adding: content/Model-V5/Model-segment-evaluation-53/labels/front-left-NO20240909-143904-000344F_MP4-0216_jpg.rf.bb6602da8d12281a267d91e4184235ca.txt (deflated 82%)\n",
            "  adding: content/Model-V5/Model-segment-evaluation-53/labels/front-left-NO20240903-152241-000876F_MP4-0084_jpg.rf.cec272d3de11ae972a4bcc43efb1f970.txt (deflated 77%)\n",
            "  adding: content/Model-V5/Model-segment-evaluation-53/labels/front-right-NO20240903-143941-000833F_MP4-0031_jpg.rf.4c3b7ec167bd6cd6703d804a1595191c.txt (deflated 83%)\n",
            "  adding: content/Model-V5/Model-segment-evaluation-53/labels/front-right-NO20240909-181340-000011F_MP4-0005_jpg.rf.12e477483be2b14568151a5f2286d5d4.txt (deflated 83%)\n",
            "  adding: content/Model-V5/Model-segment-evaluation-53/labels/front-right-NO20240903-144141-000835F_MP4-0231_jpg.rf.9e0f56e4ab46a6247144da739a2a25b5.txt (deflated 83%)\n",
            "  adding: content/Model-V5/Model-segment-evaluation-53/labels/front-left-NO20240909-144404-000349F_MP4-0116_jpg.rf.ab51fcb37f4d507a4837917191afe303.txt (deflated 73%)\n",
            "  adding: content/Model-V5/Model-segment-evaluation-53/labels/front-left-NO20240909-150404-000369F_MP4-0247_jpg.rf.b1e2a683d3fe6c6fb50d12ec4ab3d082.txt (deflated 78%)\n",
            "  adding: content/Model-V5/Model-segment-evaluation-53/labels/front-right-NO20240903-144041-000834F_MP4-0270_jpg.rf.1c1dd2c33b93e6aac1c87f1e04747ba7.txt (deflated 84%)\n",
            "  adding: content/Model-V5/Model-segment-evaluation-53/labels/front-left-NO20240903-145541-000849F_MP4-0079_jpg.rf.1791a11cb81258ae47ec1e21ff555778.txt (deflated 76%)\n",
            "  adding: content/Model-V5/Model-segment-evaluation-53/labels/front-left-NO20240903-145041-000844F_MP4-0163_jpg.rf.afcddd04dbefb3c591428ebbf86947b7.txt (deflated 78%)\n",
            "  adding: content/Model-V5/Model-segment-evaluation-53/labels/front-left_MP4-0140_jpg.rf.d9fc30e694ef3fec74baf4ca4a485498.txt (deflated 79%)\n",
            "  adding: content/Model-V5/Model-segment-evaluation-53/labels/front-left_MP4-0219_jpg.rf.64765aac442354b5e32203a4ad8001eb.txt (deflated 79%)\n",
            "  adding: content/Model-V5/Model-segment-evaluation-53/labels/front-left-NO20240903-152241-000876F_MP4-0081_jpg.rf.357c512e976e4773013a3facd6b54c8b.txt (deflated 78%)\n",
            "  adding: content/Model-V5/Model-segment-evaluation-53/labels/cars-NO20240914-112548-000207F_MP4-0015_jpg.rf.62a2dac7971caa1705296febdc4f2138.txt (deflated 79%)\n",
            "  adding: content/Model-V5/Model-segment-evaluation-53/labels/front-left-NO20240903-145141-000845F_MP4-0088_jpg.rf.b99501bf0060271dadd09f9eb2e80179.txt (deflated 80%)\n",
            "  adding: content/Model-V5/Model-segment-evaluation-53/labels/front-right-NO20240903-144141-000835F_MP4-0038_jpg.rf.d299ba689fa44bfc3eb27171fa72582f.txt (deflated 81%)\n",
            "  adding: content/Model-V5/Model-segment-evaluation-53/labels/front-left-NO20240903-152241-000876F_MP4-0157_jpg.rf.e233346d92b273bb9429aa79e92831fd.txt (deflated 78%)\n",
            "  adding: content/Model-V5/Model-segment-evaluation-53/labels/night-front-right-NO20240909-183440-000032F_MP4-0223_jpg.rf.04f79ad19bccf0ce2276528a980690f8.txt (deflated 77%)\n",
            "  adding: content/Model-V5/Model-segment-evaluation-53/labels/front-left_MP4-0012_jpg.rf.f8b27f5b567ad65894c34ad2f58d5b48.txt (deflated 82%)\n",
            "  adding: content/Model-V5/Model-segment-evaluation-53/labels/front-left-NO20240903-145141-000845F_MP4-0004_jpg.rf.7ff862fa93620eff41cebc82bf30ad4d.txt (deflated 79%)\n",
            "  adding: content/Model-V5/Model-segment-evaluation-53/labels/front-left-NO20240903-145041-000844F_MP4-0160_jpg.rf.5833f5254e8cb1951cd99fe9eff4a901.txt (deflated 80%)\n",
            "  adding: content/Model-V5/Model-segment-evaluation-53/labels/front-left_MP4-0131_jpg.rf.2779c7cfbb02332f14bd90ac5b92f5bb.txt (deflated 81%)\n",
            "  adding: content/Model-V5/Model-segment-evaluation-53/labels/front-left-NO20240908-145538-000141F_MP4-0095_jpg.rf.30c8d210b9f6121bbb7e6bce0eb1257f.txt (deflated 78%)\n",
            "  adding: content/Model-V5/Model-segment-evaluation-53/labels/front-left-NO20240903-150741-000861F_MP4-0231_jpg.rf.8c6344583dfca35e0672f89ff0dc9139.txt (deflated 79%)\n",
            "  adding: content/Model-V5/Model-segment-evaluation-53/labels/front-left-NO20240903-152241-000876F_MP4-0205_jpg.rf.4f2bd55ba96f8175418b766dadbd5eda.txt (deflated 82%)\n",
            "  adding: content/Model-V5/Model-segment-evaluation-53/labels/front-right-NO20240903-144041-000834F_MP4-0294_jpg.rf.fdfb8ea3cc16c6c90873f1c720110ebd.txt (deflated 78%)\n",
            "  adding: content/Model-V5/Model-segment-evaluation-53/labels/cars-NO20240914-114048-000222F_MP4-0106_jpg.rf.39cfa70475a04b80f0aad4edf17825c6.txt (deflated 78%)\n",
            "  adding: content/Model-V5/Model-segment-evaluation-53/labels/front-left-NO20240903-145041-000844F_MP4-0142_jpg.rf.4d96a8878c60fce10da1d81776a84242.txt (deflated 76%)\n",
            "  adding: content/Model-V5/Model-segment-evaluation-53/labels/front-left-NO20240903-152241-000876F_MP4-0071_jpg.rf.7628fb9ee663c476b50cea1f91b6c94c.txt (deflated 76%)\n",
            "  adding: content/Model-V5/Model-segment-evaluation-53/labels/front-left-NO20240903-150741-000861F_MP4-0052_jpg.rf.c7fd8c2505c00e7a45481e22fc2dacbd.txt (deflated 82%)\n",
            "  adding: content/Model-V5/Model-segment-evaluation-53/labels/NO20240909-181140-000009F_MP4-0147_jpg.rf.f92892dde0f7f02e9309fe8789426c32.txt (deflated 77%)\n",
            "  adding: content/Model-V5/Model-segment-evaluation-53/labels/front-left-NO20240903-145441-000848F_MP4-0257_jpg.rf.035b5f948502dedfd14fdc3e013da32e.txt (deflated 80%)\n",
            "  adding: content/Model-V5/Model-segment-evaluation-53/labels/front-left_MP4-0149_jpg.rf.4fd0e40bfb8a92130e62bd76b05ccdea.txt (deflated 77%)\n",
            "  adding: content/Model-V5/Model-segment-evaluation-53/labels/NO20240909-181040-000008F_MP4-0196_jpg.rf.93ffb7d3f81c5bb6539770e244fdf96b.txt (deflated 79%)\n",
            "  adding: content/Model-V5/Model-segment-evaluation-53/labels/front-left-NO20240908-145538-000141F_MP4-0119_jpg.rf.8b5b8a6a78d01ff21e8068a5c0bfd20c.txt (deflated 83%)\n",
            "  adding: content/Model-V5/Model-segment-evaluation-53/labels/front-left-NO20240909-144504-000350F_MP4-0245_jpg.rf.961a3c6b9f6960fb5081823d2c6c49bf.txt (deflated 75%)\n",
            "  adding: content/Model-V5/Model-segment-evaluation-53/labels/front-right-NO20240909-181240-000010F_MP4-0153_jpg.rf.a031583509312e69c04aad8d863ed4e8.txt (deflated 83%)\n",
            "  adding: content/Model-V5/Model-segment-evaluation-53/labels/front-left-NO20240909-144004-000345F_MP4-0295_jpg.rf.fe9dfbd81663b22802fd42f2563da000.txt (deflated 75%)\n",
            "  adding: content/Model-V5/Model-segment-evaluation-53/labels/front-left-NO20240903-145541-000849F_MP4-0026_jpg.rf.3e4a5df7f63851ab7a00f49c7c78dbf3.txt (deflated 79%)\n",
            "  adding: content/Model-V5/Model-segment-evaluation-53/labels/front-left-NO20240903-145041-000844F_MP4-0282_jpg.rf.d3a1558c08258422d1fa6f38a7c6d9f4.txt (deflated 80%)\n",
            "  adding: content/Model-V5/Model-segment-evaluation-53/labels/front-left-NO20240903-152241-000876F_MP4-0297_jpg.rf.427ae629967142ba72b2c10c163d855e.txt (deflated 77%)\n",
            "  adding: content/Model-V5/Model-segment-evaluation-53/labels/cars-NO20240914-114048-000222F_MP4-0049_jpg.rf.20935f23eb8946f8bdbbe002ab89ef0d.txt (deflated 81%)\n",
            "  adding: content/Model-V5/Model-segment-evaluation-53/labels/front-left-NO20240903-145441-000848F_MP4-0002_jpg.rf.4e0fe4737ea7e92ffe5f2a32d5375aa1.txt (deflated 75%)\n",
            "  adding: content/Model-V5/Model-segment-evaluation-53/labels/front-left-NO20240903-150741-000861F_MP4-0246_jpg.rf.bf61ec11c7aaafd5627479eed22291cc.txt (deflated 83%)\n",
            "  adding: content/Model-V5/Model-segment-evaluation-53/labels/front-left-NO20240910-064025-000112F_MP4-0016_jpg.rf.c8d4a08b647a623595f91b759ba4035c.txt (deflated 80%)\n",
            "  adding: content/Model-V5/Model-segment-evaluation-53/labels/front-left_MP4-0096_jpg.rf.07605e96555dd5d78f20254edb8412b6.txt (deflated 83%)\n",
            "  adding: content/Model-V5/Model-segment-evaluation-53/labels/front-left-NO20240909-143204-000337F_MP4-0082_jpg.rf.c39cbbe887ec82ad76943c2c1bb5d6a7.txt (deflated 79%)\n",
            "  adding: content/Model-V5/Model-segment-evaluation-53/labels/front-right-NO20240903-144041-000834F_MP4-0144_jpg.rf.d78c186af214fb9697385640ce6b88ef.txt (deflated 80%)\n",
            "  adding: content/Model-V5/Model-segment-evaluation-53/labels/front-left-NO20240903-152241-000876F_MP4-0034_jpg.rf.4ffd6cdb0cc6aa2d0e85faed7a05bd32.txt (deflated 79%)\n",
            "  adding: content/Model-V5/Model-segment-evaluation-53/labels/front-left-NO20240903-145541-000849F_MP4-0266_jpg.rf.b75365426c12ad35e2a902961923c629.txt (deflated 77%)\n",
            "  adding: content/Model-V5/Model-segment-evaluation-53/labels/front-left-NO20240903-145441-000848F_MP4-0199_jpg.rf.6478fdc1469735f43a940aaaca16b643.txt (deflated 82%)\n",
            "  adding: content/Model-V5/Model-segment-evaluation-53/labels/front-left-NO20240903-145541-000849F_MP4-0191_jpg.rf.d773a0ba39ac578196aea0385b293291.txt (deflated 76%)\n",
            "  adding: content/Model-V5/Model-segment-evaluation-53/labels/front-left-NO20240903-150741-000861F_MP4-0076_jpg.rf.72ee0c1f2585469d262546d00160ec60.txt (deflated 82%)\n",
            "  adding: content/Model-V5/Model-segment-evaluation-53/labels/front-left-NO20240903-152241-000876F_MP4-0217_jpg.rf.a47dd3f0e43f32214b45487f002ea04d.txt (deflated 75%)\n",
            "  adding: content/Model-V5/Model-segment-evaluation-53/labels/front-left-NO20240903-145041-000844F_MP4-0144_jpg.rf.ef6bc9ac9ce45fe05702bbd138f7784d.txt (deflated 77%)\n",
            "  adding: content/Model-V5/Model-segment-evaluation-53/labels/front-left-NO20240903-145041-000844F_MP4-0138_jpg.rf.9e554b6a1e6ac6dd9e983266d3bcb020.txt (deflated 80%)\n",
            "  adding: content/Model-V5/Model-segment-evaluation-53/labels/front-right-NO20240903-144141-000835F_MP4-0052_jpg.rf.94c0148a2c06e4040e48305871041972.txt (deflated 83%)\n",
            "  adding: content/Model-V5/Model-segment-evaluation-53/labels/front-left-NO20240903-145041-000844F_MP4-0131_jpg.rf.042a00fb6b8fa99736ca74454ad8f763.txt (deflated 74%)\n",
            "  adding: content/Model-V5/Model-segment-evaluation-53/labels/front-left-NO20240903-152241-000876F_MP4-0295_jpg.rf.ec913e2493d285479226d83d153cb608.txt (deflated 76%)\n",
            "  adding: content/Model-V5/Model-segment-evaluation-53/labels/front-left-NO20240903-152241-000876F_MP4-0086_jpg.rf.4bad12cda3189998d71a99608dce498e.txt (deflated 76%)\n",
            "  adding: content/Model-V5/Model-segment-evaluation-53/labels/night-front-right-NO20240909-182940-000027F_MP4-0099_jpg.rf.4f929e0ab636b5210966cb7ec92b9f8f.txt (deflated 76%)\n",
            "  adding: content/Model-V5/Model-segment-evaluation-53/labels/front-right-NO20240909-181540-000013F_MP4-0085_jpg.rf.27374125fc107a28ea440cfbd60f158c.txt (deflated 79%)\n",
            "  adding: content/Model-V5/Model-segment-evaluation-53/labels/front-left-NO20240903-145141-000845F_MP4-0129_jpg.rf.e19ff807b693cc978506f7bb40be41ea.txt (deflated 82%)\n",
            "  adding: content/Model-V5/Model-segment-evaluation-53/labels/NO20240917-144137-000246F_MP4-0019_jpg.rf.ff73c48d4e6a00693ce4dbe62fe0f1f9.txt (deflated 80%)\n",
            "  adding: content/Model-V5/Model-segment-evaluation-53/labels/front-left-NO20240903-145541-000849F_MP4-0283_jpg.rf.575f591172b6a618988f760797996731.txt (deflated 76%)\n",
            "  adding: content/Model-V5/Model-segment-evaluation-53/labels/front-left-NO20240903-150741-000861F_MP4-0296_jpg.rf.3ae102d158055a976de9a851d1bcbfd4.txt (deflated 78%)\n",
            "  adding: content/Model-V5/Model-segment-evaluation-53/labels/front-left-NO20240903-145541-000849F_MP4-0149_jpg.rf.95c179145b07068e54e190eda6967b38.txt (deflated 79%)\n",
            "  adding: content/Model-V5/Model-segment-evaluation-53/labels/front-left-NO20240908-145938-000145F_MP4-0036_jpg.rf.a03377d2285f856a3ebdf1c6ab537c3c.txt (deflated 78%)\n",
            "  adding: content/Model-V5/Model-segment-evaluation-53/labels/NO20240917-144137-000246F_MP4-0005_jpg.rf.6bd2414bfe489dff7641c2250fd8f1cc.txt (deflated 78%)\n",
            "  adding: content/Model-V5/Model-segment-evaluation-53/labels/front-left-NO20240903-150741-000861F_MP4-0136_jpg.rf.a42728744a49eab6729a306ed1695e69.txt (deflated 79%)\n",
            "  adding: content/Model-V5/Model-segment-evaluation-53/labels/cars-NO20240914-114048-000222F_MP4-0229_jpg.rf.00b37e6b506b5628d3f92421a6434914.txt (deflated 80%)\n",
            "  adding: content/Model-V5/Model-segment-evaluation-53/labels/v5_mp4-0009_jpg.rf.276841b19d4d5fc00bdb4b4cb5191b22.txt (deflated 78%)\n",
            "  adding: content/Model-V5/Model-segment-evaluation-53/labels/front-left_MP4-0112_jpg.rf.f653ed58495cbc18ff8e9953f4ec72b4.txt (deflated 79%)\n",
            "  adding: content/Model-V5/Model-segment-evaluation-53/labels/front-right-NO20240909-181340-000011F_MP4-0066_jpg.rf.beb2c36edb0baa6a6a9814bef065f353.txt (deflated 77%)\n",
            "  adding: content/Model-V5/Model-segment-evaluation-53/labels/v8_mp4-0036_jpg.rf.1cb88c04f14486037f3635c8d4bd0c49.txt (deflated 79%)\n",
            "  adding: content/Model-V5/Model-segment-evaluation-53/labels/front-left-NO20240909-150004-000365F_MP4-0004_jpg.rf.86345d5d43c2200e7360e3e1b29e5a88.txt (deflated 79%)\n",
            "  adding: content/Model-V5/Model-segment-evaluation-53/labels/front-left-NO20240909-150004-000365F_MP4-0048_jpg.rf.9a61128f0f724fee252a9d8849d3546c.txt (deflated 76%)\n",
            "  adding: content/Model-V5/Model-segment-evaluation-53/labels/front-left-NO20240903-150741-000861F_MP4-0104_jpg.rf.bfcb96722b237a156f597c5f06442074.txt (deflated 77%)\n",
            "  adding: content/Model-V5/Model-segment-evaluation-53/labels/NO20240917-143837-000243F_MP4-0029_jpg.rf.5264a854c09c0d6d6ca108947b2cbb84.txt (deflated 80%)\n",
            "  adding: content/Model-V5/Model-segment-evaluation-53/labels/front-right-NO20240909-181240-000010F_MP4-0053_jpg.rf.8547b87df167fbcce9bf80df992bbdff.txt (deflated 80%)\n",
            "  adding: content/Model-V5/Model-segment-evaluation-53/labels/front-left-NO20240903-145541-000849F_MP4-0273_jpg.rf.1842dc5024326123c8674b2392459a68.txt (deflated 78%)\n",
            "  adding: content/Model-V5/Model-segment-evaluation-53/labels/front-left-NO20240903-150741-000861F_MP4-0155_jpg.rf.5f309238805df86afbb1c1bb0d81fc6b.txt (deflated 79%)\n",
            "  adding: content/Model-V5/Model-segment-evaluation-53/labels/front-right-NO20240909-181440-000012F_MP4-0075_jpg.rf.befcf4705ad89f1c95bc05ef7876c7cb.txt (deflated 78%)\n",
            "  adding: content/Model-V5/Model-segment-evaluation-53/labels/front-left-NO20240909-143304-000338F_MP4-0151_jpg.rf.6ae0b867551823ccbb6c05d1ef6e8acf.txt (deflated 78%)\n",
            "  adding: content/Model-V5/Model-segment-evaluation-53/labels/v1_mp4-0023_jpg.rf.c55137e2b83446be64b3a9eed842f134.txt (deflated 77%)\n",
            "  adding: content/Model-V5/Model-segment-evaluation-53/labels/v7_mp4-0008_jpg.rf.20ce43d65000708959387025b39d23a0.txt (deflated 78%)\n",
            "  adding: content/Model-V5/Model-segment-evaluation-53/labels/cars-NO20240914-114048-000222F_MP4-0263_jpg.rf.c48c6515560d6dfd50c268fffcac434a.txt (deflated 79%)\n",
            "  adding: content/Model-V5/Model-segment-evaluation-53/labels/NO20240909-181040-000008F_MP4-0198_jpg.rf.c865170ed77bc299e20c059690cf4236.txt (deflated 79%)\n",
            "  adding: content/Model-V5/Model-segment-evaluation-53/labels/cars-NO20240914-114048-000222F_MP4-0235_jpg.rf.17d833a715cd395cc20b5e7abf973e12.txt (deflated 79%)\n",
            "  adding: content/Model-V5/Model-segment-evaluation-53/labels/v5_mp4-0043_jpg.rf.af080ccd3876d40f4216860c589ee850.txt (deflated 80%)\n",
            "  adding: content/Model-V5/Model-segment-evaluation-53/labels/front-left-NO20240903-145041-000844F_MP4-0040_jpg.rf.c7df7701700d7ad684e0f6f33eb1b319.txt (deflated 77%)\n",
            "  adding: content/Model-V5/Model-segment-evaluation-53/labels/front-left-NO20240903-145141-000845F_MP4-0045_jpg.rf.9dfea0a691055d30f603aa6c60f19e6c.txt (deflated 78%)\n",
            "  adding: content/Model-V5/Model-segment-evaluation-53/labels/NO20240909-181040-000008F_MP4-0278_jpg.rf.fa8278c2385cc3d285aa098ff3534f10.txt (deflated 79%)\n",
            "  adding: content/Model-V5/Model-segment-evaluation-53/labels/front-right-NO20240903-143941-000833F_MP4-0236_jpg.rf.948655fa2cbc7778e2b0e8ec65862de3.txt (deflated 82%)\n",
            "  adding: content/Model-V5/Model-segment-evaluation-53/labels/front-left-NO20240903-145041-000844F_MP4-0156_jpg.rf.beecddb15540a0551b31203d9ec3184e.txt (deflated 77%)\n",
            "  adding: content/Model-V5/Model-segment-evaluation-53/labels/front-left-NO20240909-145904-000364F_MP4-0142_jpg.rf.e3dfb3618c8146549cdb0de6a155d705.txt (deflated 71%)\n",
            "  adding: content/Model-V5/Model-segment-evaluation-53/labels/v6_mp4-0017_jpg.rf.133ffe71c163eeaf1dd1af19ca8507dc.txt (deflated 77%)\n",
            "  adding: content/Model-V5/Model-segment-evaluation-53/labels/front-left-NO20240903-145041-000844F_MP4-0272_jpg.rf.6a689c3e6a22dac9c035c213536daef0.txt (deflated 78%)\n",
            "  adding: content/Model-V5/Model-segment-evaluation-53/labels/front-left-NO20240903-145041-000844F_MP4-0288_jpg.rf.6edf390d98995a3a0465e98a3cca9c2b.txt (deflated 78%)\n",
            "  adding: content/Model-V5/Model-segment-evaluation-53/labels/front-left-NO20240903-145441-000848F_MP4-0245_jpg.rf.24e1a291ec1ec5b5fc2f02d2b5c3faaf.txt (deflated 82%)\n",
            "  adding: content/Model-V5/Model-segment-evaluation-53/labels/front-left-NO20240909-145704-000362F_MP4-0029_jpg.rf.ed6d69178802543a787abe832240207e.txt (deflated 78%)\n",
            "  adding: content/Model-V5/Model-segment-evaluation-53/labels/cars-NO20240914-114248-000224F_MP4-0017_jpg.rf.fde9be776b82eb518159c0c637537be2.txt (deflated 80%)\n",
            "  adding: content/Model-V5/Model-segment-evaluation-53/labels/front-left-NO20240909-144404-000349F_MP4-0045_jpg.rf.e39d6bc8b6db0721fd01444cc2a87af8.txt (deflated 79%)\n",
            "  adding: content/Model-V5/Model-segment-evaluation-53/labels/front-left-NO20240903-145041-000844F_MP4-0210_jpg.rf.379c8060b82e39d916a62060d24b6394.txt (deflated 82%)\n",
            "  adding: content/Model-V5/Model-segment-evaluation-53/labels/front-left-NO20240903-145541-000849F_MP4-0198_jpg.rf.13488d20b2dcafd6c9a8ef9e4923bef3.txt (deflated 81%)\n",
            "  adding: content/Model-V5/Model-segment-evaluation-53/labels/front-right-NO20240903-144141-000835F_MP4-0189_jpg.rf.00ec9a937cbce834a7ff2c2c37642a1d.txt (deflated 82%)\n",
            "  adding: content/Model-V5/Model-segment-evaluation-53/labels/front-right-NO20240909-181240-000010F_MP4-0026_jpg.rf.e0e398d97548943def2dacd1d493d27b.txt (deflated 78%)\n",
            "  adding: content/Model-V5/Model-segment-evaluation-53/labels/front-right-NO20240903-143941-000833F_MP4-0118_jpg.rf.767d9ec636bf4130c30d3ef75ba82659.txt (deflated 79%)\n",
            "  adding: content/Model-V5/Model-segment-evaluation-53/labels/chery-cross_MP4-0052_jpg.rf.fedce660af3ad5f2075aad85850b0525.txt (deflated 79%)\n",
            "  adding: content/Model-V5/Model-segment-evaluation-53/labels/front-left-NO20240903-145041-000844F_MP4-0244_jpg.rf.d35bf3f6a9afb53703cdd639f4526b98.txt (deflated 78%)\n",
            "  adding: content/Model-V5/Model-segment-evaluation-53/labels/front-left-NO20240903-145541-000849F_MP4-0005_jpg.rf.58f74a26fc984cea72eed294f1ff16d1.txt (deflated 76%)\n",
            "  adding: content/Model-V5/Model-segment-evaluation-53/labels/night-front-right-NO20240909-183740-000035F_MP4-0200_jpg.rf.e7c4c37403556df0a3528e735e8f6977.txt (deflated 78%)\n",
            "  adding: content/Model-V5/Model-segment-evaluation-53/labels/cars-NO20240914-114048-000222F_MP4-0034_jpg.rf.2651d9986a2f883f1028d380f0235965.txt (deflated 75%)\n",
            "  adding: content/Model-V5/Model-segment-evaluation-53/labels/front-left-NO20240903-145141-000845F_MP4-0056_jpg.rf.b8e5c07be522cddb1a059ac5896c4567.txt (deflated 79%)\n",
            "  adding: content/Model-V5/Model-segment-evaluation-53/labels/v8_mp4-0033_jpg.rf.eb21c45a2e790c5d867328851d18056a.txt (deflated 79%)\n",
            "  adding: content/Model-V5/Model-segment-evaluation-53/labels/front-left-NO20240909-145604-000361F_MP4-0143_jpg.rf.58757fccd386e5c2cd4a7fd4bfeee548.txt (deflated 76%)\n",
            "  adding: content/Model-V5/Model-segment-evaluation-53/labels/front-left_MP4-0132_jpg.rf.ecd3b5edec32123477359b9e18db9f23.txt (deflated 83%)\n",
            "  adding: content/Model-V5/Model-segment-evaluation-53/labels/front-left-NO20240903-145141-000845F_MP4-0160_jpg.rf.e519182a0407104ab53deafa6095b0f0.txt (deflated 77%)\n",
            "  adding: content/Model-V5/Model-segment-evaluation-53/labels/cars-NO20240914-112948-000211F_MP4-0058_jpg.rf.2b3effacf4e2297fe2f8b7810a184b88.txt (deflated 80%)\n",
            "  adding: content/Model-V5/Model-segment-evaluation-53/labels/front-left-NO20240909-150504-000370F_MP4-0255_jpg.rf.f957b7a6951e2860ba728e862721c882.txt (deflated 76%)\n",
            "  adding: content/Model-V5/Model-segment-evaluation-53/labels/front-left-NO20240903-152241-000876F_MP4-0258_jpg.rf.315bbb1962185338f3ef0f38a674f8e7.txt (deflated 80%)\n",
            "  adding: content/Model-V5/Model-segment-evaluation-53/labels/front-right-NO20240903-143941-000833F_MP4-0090_jpg.rf.30361dec9892bb1408d5de58ae472905.txt (deflated 82%)\n",
            "  adding: content/Model-V5/Model-segment-evaluation-53/labels/front-left-NO20240903-150741-000861F_MP4-0008_jpg.rf.3550d36a5c2dec532267c4d841c2501f.txt (deflated 76%)\n",
            "  adding: content/Model-V5/Model-segment-evaluation-53/labels/front-left-NO20240903-150741-000861F_MP4-0199_jpg.rf.c92d03ee38c6f40bda2314ff6fc256ab.txt (deflated 82%)\n",
            "  adding: content/Model-V5/Model-segment-evaluation-53/labels/front-left-NO20240909-145804-000363F_MP4-0010_jpg.rf.f7272b713af610b6cc5633ad2a10e433.txt (deflated 80%)\n",
            "  adding: content/Model-V5/Model-segment-evaluation-53/labels/front-left-NO20240903-145041-000844F_MP4-0151_jpg.rf.a00c060d72399c22c69d0c7fc8173ad1.txt (deflated 83%)\n",
            "  adding: content/Model-V5/Model-segment-evaluation-53/labels/cars-NO20240914-114248-000224F_MP4-0007_jpg.rf.9322c7f73e572ba27170959276481cd8.txt (deflated 77%)\n",
            "  adding: content/Model-V5/Model-segment-evaluation-53/labels/cars-NO20240914-114048-000222F_MP4-0042_jpg.rf.3f2290b0eb76a30071d551daf1ec18be.txt (deflated 79%)\n",
            "  adding: content/Model-V5/Model-segment-evaluation-53/labels/front-left-NO20240908-145538-000141F_MP4-0100_jpg.rf.178ce8dabeed050d8990408786e7e94f.txt (deflated 77%)\n",
            "  adding: content/Model-V5/Model-segment-evaluation-53/labels/front-left-NO20240903-152241-000876F_MP4-0185_jpg.rf.5d563cbf5483cf934a64c1cf68ff6094.txt (deflated 75%)\n",
            "  adding: content/Model-V5/Model-segment-evaluation-53/labels/cars-NO20240914-112548-000207F_MP4-0017_jpg.rf.89f7a31476bb16b9026edad70f15af2d.txt (deflated 80%)\n",
            "  adding: content/Model-V5/Model-segment-evaluation-53/labels/front-left_MP4-0280_jpg.rf.427e9ee67c29b8905ed0072a1f1feeff.txt (deflated 80%)\n",
            "  adding: content/Model-V5/Model-segment-evaluation-53/labels/front-left-NO20240903-145141-000845F_MP4-0007_jpg.rf.c0812abe725132eb907bf7beec2daf9b.txt (deflated 80%)\n",
            "  adding: content/Model-V5/Model-segment-evaluation-53/labels/front-left-NO20240903-150741-000861F_MP4-0129_jpg.rf.1f8eeca877004169621aa9cd8dd0c7f8.txt (deflated 79%)\n",
            "  adding: content/Model-V5/Model-segment-evaluation-53/labels/front-left-NO20240903-145141-000845F_MP4-0008_jpg.rf.7720219c3660b474613a73c5d896c32d.txt (deflated 78%)\n",
            "  adding: content/Model-V5/Model-segment-evaluation-53/labels/front-left-NO20240903-152241-000876F_MP4-0047_jpg.rf.2109727e3d20b0805704de3b4c0e35d6.txt (deflated 78%)\n",
            "  adding: content/Model-V5/Model-segment-evaluation-53/labels/front-left-NO20240910-064025-000112F_MP4-0086_jpg.rf.7eebab540ebcd9125ea2c3dc7228e578.txt (deflated 81%)\n",
            "  adding: content/Model-V5/Model-segment-evaluation-53/labels/front-left-NO20240903-150741-000861F_MP4-0078_jpg.rf.c4f0294d7d040c4d84e8c2c56bd21eef.txt (deflated 79%)\n",
            "  adding: content/Model-V5/Model-segment-evaluation-53/labels/front-left-NO20240903-152241-000876F_MP4-0013_jpg.rf.ca99a77a2dd80652e2ade61514c0fecb.txt (deflated 77%)\n",
            "  adding: content/Model-V5/Model-segment-evaluation-53/labels/front-left-NO20240903-152241-000876F_MP4-0137_jpg.rf.a91290123e183bad37ddf519477ab32d.txt (deflated 77%)\n",
            "  adding: content/Model-V5/Model-segment-evaluation-53/labels/front-left-NO20240903-150741-000861F_MP4-0263_jpg.rf.740294b7d2712a6dd7056bd3cd7ef2a6.txt (deflated 78%)\n",
            "  adding: content/Model-V5/Model-segment-evaluation-53/labels/front-left_MP4-0145_jpg.rf.047ae58b4dde7ae147c7914261f0558a.txt (deflated 74%)\n",
            "  adding: content/Model-V5/Model-segment-evaluation-53/labels/night-front-right-NO20240909-183440-000032F_MP4-0242_jpg.rf.e74ec0ad4226d257f5800361292534bb.txt (deflated 77%)\n",
            "  adding: content/Model-V5/Model-segment-evaluation-53/labels/front-left-NO20240909-144404-000349F_MP4-0076_jpg.rf.30d5f7af04c68f8bebb2fe8eca3d4654.txt (deflated 74%)\n",
            "  adding: content/Model-V5/Model-segment-evaluation-53/labels/front-left-NO20240909-144004-000345F_MP4-0210_jpg.rf.64643fd373bb655c78ce623e9b999e45.txt (deflated 81%)\n",
            "  adding: content/Model-V5/Model-segment-evaluation-53/labels/front-right-NO20240909-181640-000014F_MP4-0019_jpg.rf.ee9516bc6b8b98e70a1234d02ca19686.txt (deflated 78%)\n",
            "  adding: content/Model-V5/Model-segment-evaluation-53/labels/front-left_MP4-0156_jpg.rf.d8cc4226c83d8a30183245fed57559e6.txt (deflated 82%)\n",
            "  adding: content/Model-V5/Model-segment-evaluation-53/labels/front-left-NO20240903-145541-000849F_MP4-0288_jpg.rf.9ce8fdf9036ac15f597342bbc64f1127.txt (deflated 75%)\n",
            "  adding: content/Model-V5/Model-segment-evaluation-53/labels/front-left-NO20240908-150138-000147F_MP4-0161_jpg.rf.1af1a482868f7d3fbfc2d8bbf78589bc.txt (deflated 77%)\n",
            "  adding: content/Model-V5/Model-segment-evaluation-53/labels/front-left-NO20240903-152241-000876F_MP4-0225_jpg.rf.c356c3d90dbac42e4d58debe56314995.txt (deflated 77%)\n",
            "  adding: content/Model-V5/Model-segment-evaluation-53/labels/NO20240917-144137-000246F_MP4-0032_jpg.rf.4b8412c298ca9dc91a8f4fc27058798f.txt (deflated 76%)\n",
            "  adding: content/Model-V5/Model-segment-evaluation-53/labels/front-left-NO20240903-152241-000876F_MP4-0063_jpg.rf.b6ee322d2b634576a24193f3fedc8b44.txt (deflated 75%)\n",
            "  adding: content/Model-V5/Model-segment-evaluation-53/labels/front-left-NO20240903-150741-000861F_MP4-0278_jpg.rf.e472867efd739b3aa8bbbb91f0160e28.txt (deflated 80%)\n",
            "  adding: content/Model-V5/Model-segment-evaluation-53/labels/front-left-NO20240903-145041-000844F_MP4-0153_jpg.rf.ec446fac37237b1304d1e902f47bb0a9.txt (deflated 80%)\n",
            "  adding: content/Model-V5/Model-segment-evaluation-53/labels/front-left-NO20240903-150741-000861F_MP4-0112_jpg.rf.c31e8e261935ad700cf777de6dbc00be.txt (deflated 80%)\n",
            "  adding: content/Model-V5/Model-segment-evaluation-53/labels/front-left-NO20240903-150741-000861F_MP4-0081_jpg.rf.9689b4a1c6f9143c318a80f88f927048.txt (deflated 80%)\n",
            "  adding: content/Model-V5/Model-segment-evaluation-53/labels/front-left_MP4-0110_jpg.rf.b496ccbf3582b25d8a241911fe24ce3e.txt (deflated 82%)\n",
            "  adding: content/Model-V5/Model-segment-evaluation-53/labels/front-left_MP4-0246_jpg.rf.0e0c80c9d976b1ad02f1bc37c5cbcdcd.txt (deflated 82%)\n",
            "  adding: content/Model-V5/Model-segment-evaluation-53/labels/NO20240909-181040-000008F_MP4-0172_jpg.rf.8898bfd8d1a7bfdd6a1722d246086d59.txt (deflated 81%)\n",
            "  adding: content/Model-V5/Model-segment-evaluation-53/labels/cars-NO20240914-114048-000222F_MP4-0014_jpg.rf.cb3bb6301329c15f6f9beb258baaae8a.txt (deflated 80%)\n",
            "  adding: content/Model-V5/Model-segment-evaluation-53/labels/front-left-NO20240903-145041-000844F_MP4-0211_jpg.rf.d724f2172bc9830d915972f76dbc4499.txt (deflated 77%)\n",
            "  adding: content/Model-V5/Model-segment-evaluation-53/labels/front-left-NO20240903-145541-000849F_MP4-0182_jpg.rf.9cf726985287d9eb622f7b1328e4db13.txt (deflated 75%)\n",
            "  adding: content/Model-V5/Model-segment-evaluation-53/labels/NO20240917-143837-000243F_MP4-0033_jpg.rf.82212ab6f88c9799013c1925c3668294.txt (deflated 79%)\n",
            "  adding: content/Model-V5/Model-segment-evaluation-53/labels/front-left-NO20240903-145541-000849F_MP4-0083_jpg.rf.eadce92acc93a946e484c7b8c8494443.txt (deflated 78%)\n",
            "  adding: content/Model-V5/Model-segment-evaluation-53/labels/front-left-NO20240903-145041-000844F_MP4-0298_jpg.rf.e6816c98014843e6cf1bf793e340ab7c.txt (deflated 80%)\n",
            "  adding: content/Model-V5/Model-segment-evaluation-53/labels/front-left-NO20240903-145541-000849F_MP4-0038_jpg.rf.3f1eae57b346734da9faf5f98342dfb9.txt (deflated 77%)\n",
            "  adding: content/Model-V5/Model-segment-evaluation-53/labels/front-left-NO20240903-152241-000876F_MP4-0055_jpg.rf.c63ade1059f12c6dcfbc519c276547ce.txt (deflated 74%)\n",
            "  adding: content/Model-V5/Model-segment-evaluation-53/labels/front-left-NO20240903-152241-000876F_MP4-0136_jpg.rf.48fbe75309e8c1ffd25d8b86e2a4d9d3.txt (deflated 81%)\n",
            "  adding: content/Model-V5/Model-segment-evaluation-53/labels/front-left-NO20240903-145141-000845F_MP4-0157_jpg.rf.daec705746ee9585522fab5aeccf63ba.txt (deflated 79%)\n",
            "  adding: content/Model-V5/Model-segment-evaluation-53/labels/front-left-NO20240903-145041-000844F_MP4-0218_jpg.rf.3df4c8414370b781fd8d17a4ad76b806.txt (deflated 79%)\n",
            "  adding: content/Model-V5/Model-segment-evaluation-53/labels/cars-NO20240914-112948-000211F_MP4-0013_jpg.rf.a87a8aacc3b2ea7390b8a84ee55222d0.txt (deflated 79%)\n",
            "  adding: content/Model-V5/Model-segment-evaluation-53/labels/front-left_MP4-0013_jpg.rf.4cf3ad978e32f3f99aab4089a2ea7618.txt (deflated 84%)\n",
            "  adding: content/Model-V5/Model-segment-evaluation-53/labels/night-front-right-NO20240909-183740-000035F_MP4-0129_jpg.rf.29b339940751c7b315a1f987426afa48.txt (deflated 76%)\n",
            "  adding: content/Model-V5/Model-segment-evaluation-53/labels/front-left-NO20240903-145041-000844F_MP4-0134_jpg.rf.43ed3af9e9f99d5a0a1f44697d3105ad.txt (deflated 78%)\n",
            "  adding: content/Model-V5/Model-segment-evaluation-53/labels/front-left-NO20240903-145141-000845F_MP4-0037_jpg.rf.b736298136acb5130d3926b01e5df50e.txt (deflated 80%)\n",
            "  adding: content/Model-V5/Model-segment-evaluation-53/labels/front-left-NO20240903-152241-000876F_MP4-0110_jpg.rf.df53a394ed797f33328489d33a9ab962.txt (deflated 79%)\n",
            "  adding: content/Model-V5/Model-segment-evaluation-53/labels/front-left-NO20240903-145141-000845F_MP4-0114_jpg.rf.e64382ee4c512645cda0b7f8913a48bd.txt (deflated 80%)\n",
            "  adding: content/Model-V5/Model-segment-evaluation-53/labels/front-left-NO20240903-152241-000876F_MP4-0148_jpg.rf.4125746e8a1ef733acfdbe1ac459987e.txt (deflated 81%)\n",
            "  adding: content/Model-V5/Model-segment-evaluation-53/labels/front-left-NO20240903-145041-000844F_MP4-0199_jpg.rf.ec5f63f4ffaaa5ee8ac0693b9c718930.txt (deflated 78%)\n",
            "  adding: content/Model-V5/Model-segment-evaluation-53/labels/front-left-NO20240903-145441-000848F_MP4-0025_jpg.rf.aa4feaa921e04611e1ddedcd03719e35.txt (deflated 80%)\n",
            "  adding: content/Model-V5/Model-segment-evaluation-53/labels/front-left-NO20240908-150138-000147F_MP4-0193_jpg.rf.8d130ef2d7d38fb290c508ed38427079.txt (deflated 71%)\n",
            "  adding: content/Model-V5/Model-segment-evaluation-53/labels/front-left-NO20240909-150404-000369F_MP4-0258_jpg.rf.b7eb534aa094300796848b47a6437ae6.txt (deflated 76%)\n",
            "  adding: content/Model-V5/Model-segment-evaluation-53/labels/front-left-NO20240903-145041-000844F_MP4-0281_jpg.rf.a1f40976ccc9bbd8746bfca547c42f77.txt (deflated 76%)\n",
            "  adding: content/Model-V5/Model-segment-evaluation-53/labels/front-left-NO20240903-145041-000844F_MP4-0206_jpg.rf.0f5e0dd3176febc144d49fcf98f44e65.txt (deflated 80%)\n",
            "  adding: content/Model-V5/Model-segment-evaluation-53/labels/front-left-NO20240903-145141-000845F_MP4-0048_jpg.rf.3fb3426ffbb6d62cc02e48a31abf144e.txt (deflated 81%)\n",
            "  adding: content/Model-V5/Model-segment-evaluation-53/labels/front-left-NO20240903-152241-000876F_MP4-0095_jpg.rf.9f192454264030323153c3339fe59a53.txt (deflated 75%)\n",
            "  adding: content/Model-V5/Model-segment-evaluation-53/labels/front-left-NO20240903-150741-000861F_MP4-0149_jpg.rf.8d3367e10839c35796dd41439407edfe.txt (deflated 78%)\n",
            "  adding: content/Model-V5/Model-segment-evaluation-53/labels/front-left-NO20240903-145541-000849F_MP4-0199_jpg.rf.6d4619edaa79277a5501db94cf660bd1.txt (deflated 81%)\n",
            "  adding: content/Model-V5/Model-segment-evaluation-53/labels/front-left-NO20240903-145541-000849F_MP4-0170_jpg.rf.06a5286eca186b69b4c70062149a846b.txt (deflated 75%)\n",
            "  adding: content/Model-V5/Model-segment-evaluation-53/labels/front-right-NO20240903-144141-000835F_MP4-0162_jpg.rf.4fd342c17b30dd5d353922899e41772a.txt (deflated 79%)\n",
            "  adding: content/Model-V5/Model-segment-evaluation-53/labels/front-right-NO20240909-181240-000010F_MP4-0290_jpg.rf.93f54e02f2b07ad4f0842640a523c913.txt (deflated 78%)\n",
            "  adding: content/Model-V5/Model-segment-evaluation-53/labels/front-left-NO20240903-152241-000876F_MP4-0228_jpg.rf.7af96360773f9a2e2e91f410f789d939.txt (deflated 77%)\n",
            "  adding: content/Model-V5/Model-segment-evaluation-53/labels/front-left-NO20240903-145541-000849F_MP4-0190_jpg.rf.e1a1386a55e9695751bb307307a57989.txt (deflated 74%)\n",
            "  adding: content/Model-V5/Model-segment-evaluation-53/labels/front-left-NO20240909-150404-000369F_MP4-0183_jpg.rf.411a72a7d1a1a18da41e6c90eec9f8fa.txt (deflated 76%)\n",
            "  adding: content/Model-V5/Model-segment-evaluation-53/labels/front-left-NO20240909-145704-000362F_MP4-0026_jpg.rf.37ffc574d03b7291c1613893af522b4f.txt (deflated 75%)\n",
            "  adding: content/Model-V5/Model-segment-evaluation-53/labels/front-left-NO20240903-145541-000849F_MP4-0275_jpg.rf.a2c1d981d24116afff17b546cee80337.txt (deflated 77%)\n",
            "  adding: content/Model-V5/Model-segment-evaluation-53/labels/night-front-right-NO20240909-183640-000034F_MP4-0043_jpg.rf.0b88a7bc2f2fcce59f8295a3a0113f81.txt (deflated 81%)\n",
            "  adding: content/Model-V5/Model-segment-evaluation-53/labels/front-right-NO20240903-144041-000834F_MP4-0217_jpg.rf.cf0f12863fdb9ffaf8aba793294908a0.txt (deflated 84%)\n",
            "  adding: content/Model-V5/Model-segment-evaluation-53/labels/front-left_MP4-0095_jpg.rf.d3332ad0bfe559a36b209cb96ce4fd19.txt (deflated 83%)\n",
            "  adding: content/Model-V5/Model-segment-evaluation-53/labels/front-right-NO20240903-143941-000833F_MP4-0126_jpg.rf.0ba4601c901368be831078642368b22b.txt (deflated 81%)\n",
            "  adding: content/Model-V5/Model-segment-evaluation-53/labels/front-left-NO20240909-143404-000339F_MP4-0035_jpg.rf.a965510ecf95c8433339242d43368f7d.txt (deflated 80%)\n",
            "  adding: content/Model-V5/Model-segment-evaluation-53/labels/front-left-NO20240909-143404-000339F_MP4-0024_jpg.rf.9cee15662379da361ca4ce9ae0f6f9f4.txt (deflated 80%)\n",
            "  adding: content/Model-V5/Model-segment-evaluation-53/labels/NO20240917-143737-000242F_MP4-0029_jpg.rf.b8a1a5f43fbaab365ba42b4718ee6423.txt (deflated 77%)\n",
            "  adding: content/Model-V5/Model-segment-evaluation-53/labels/front-left-NO20240903-152241-000876F_MP4-0096_jpg.rf.931a3f72cc8abc98c7942258f4767fe0.txt (deflated 79%)\n",
            "  adding: content/Model-V5/Model-segment-evaluation-53/labels/front-right-NO20240903-144041-000834F_MP4-0070_jpg.rf.7409ec27a989df0346182df4dcbd1e0a.txt (deflated 81%)\n",
            "  adding: content/Model-V5/Model-segment-evaluation-53/labels/front-left-NO20240903-150741-000861F_MP4-0236_jpg.rf.3d02de42d015c787cff16dc4f37a317b.txt (deflated 81%)\n",
            "  adding: content/Model-V5/Model-segment-evaluation-53/labels/front-left-NO20240903-150741-000861F_MP4-0241_jpg.rf.ef3196fd5158fa66f54ab353ec67bfcc.txt (deflated 80%)\n",
            "  adding: content/Model-V5/Model-segment-evaluation-53/labels/v5_mp4-0010_jpg.rf.244b001b2dad23fe7e28f7ce83203d8e.txt (deflated 79%)\n",
            "  adding: content/Model-V5/Model-segment-evaluation-53/labels/NO20240909-181040-000008F_MP4-0142_jpg.rf.d25cd1b29d4636de6041ad0cb77169d8.txt (deflated 82%)\n",
            "  adding: content/Model-V5/Model-segment-evaluation-53/labels/front-left_MP4-0083_jpg.rf.5f5a0a0efc7fd50546e32bed26ca6a87.txt (deflated 80%)\n",
            "  adding: content/Model-V5/Model-segment-evaluation-53/labels/front-right-NO20240909-181640-000014F_MP4-0012_jpg.rf.2b78e31c998ff9ea377ef5fff45cf8cb.txt (deflated 77%)\n",
            "  adding: content/Model-V5/Model-segment-evaluation-53/labels/v5_mp4-0088_jpg.rf.ff5aeffb7b4e25ca722aa2dd6f3b5fd6.txt (deflated 80%)\n",
            "  adding: content/Model-V5/Model-segment-evaluation-53/labels/front-left-NO20240903-145541-000849F_MP4-0241_jpg.rf.dc79538fb313dedfa2fec10c21edf427.txt (deflated 76%)\n",
            "  adding: content/Model-V5/Model-segment-evaluation-53/labels/front-left_MP4-0066_jpg.rf.83c70e608c8439209776bb3b9081b8fa.txt (deflated 80%)\n",
            "  adding: content/Model-V5/Model-segment-evaluation-53/labels/front-left-NO20240903-152241-000876F_MP4-0290_jpg.rf.356df7963835e0f92bc97fbd84faf8a8.txt (deflated 81%)\n",
            "  adding: content/Model-V5/Model-segment-evaluation-53/labels/front-left_MP4-0119_jpg.rf.024dd78a0ab1b7071eb0d7a00d13f2c3.txt (deflated 76%)\n",
            "  adding: content/Model-V5/Model-segment-evaluation-53/labels/front-left_MP4-0233_jpg.rf.71b6b7fdd2f70735e7acd5bbc6d8c420.txt (deflated 80%)\n",
            "  adding: content/Model-V5/Model-segment-evaluation-53/labels/front-right-NO20240903-144041-000834F_MP4-0090_jpg.rf.6380216b99dcf3a650c7acc867f3c4ab.txt (deflated 79%)\n",
            "  adding: content/Model-V5/Model-segment-evaluation-53/labels/front-left-NO20240909-150504-000370F_MP4-0139_jpg.rf.4ffb65e600fdbcb2ba4671d220b027fc.txt (deflated 77%)\n",
            "  adding: content/Model-V5/Model-segment-evaluation-53/labels/front-left-NO20240903-150741-000861F_MP4-0077_jpg.rf.5c302674137f35c0cc2f4e6b1f224c21.txt (deflated 80%)\n",
            "  adding: content/Model-V5/Model-segment-evaluation-53/labels/front-left-NO20240909-144404-000349F_MP4-0191_jpg.rf.932e888d7679c59e0b1dd326da965904.txt (deflated 74%)\n",
            "  adding: content/Model-V5/Model-segment-evaluation-53/labels/cars-NO20240914-114048-000222F_MP4-0048_jpg.rf.ddbbdcd64cf5fba61b8d81a0b5b7cf92.txt (deflated 80%)\n",
            "  adding: content/Model-V5/Model-segment-evaluation-53/labels/front-left-NO20240903-150741-000861F_MP4-0162_jpg.rf.63cb33d61d726e1b064b853bf1882075.txt (deflated 82%)\n",
            "  adding: content/Model-V5/Model-segment-evaluation-53/labels/NO20240909-181040-000008F_MP4-0250_jpg.rf.6de3c82814e6877598c1cf6f0141bb4d.txt (deflated 78%)\n",
            "  adding: content/Model-V5/Model-segment-evaluation-53/labels/NO20240909-181040-000008F_MP4-0226_jpg.rf.df41b2f23e42403f82262a551ad5beed.txt (deflated 78%)\n",
            "  adding: content/Model-V5/Model-segment-evaluation-53/labels/front-left_MP4-0100_jpg.rf.686e9790d4693f6a640f1bc9f67c73da.txt (deflated 82%)\n",
            "  adding: content/Model-V5/Model-segment-evaluation-53/labels/front-left-NO20240909-143204-000337F_MP4-0194_jpg.rf.8ecede22903baeafc77c31acaabe2840.txt (deflated 78%)\n",
            "  adding: content/Model-V5/Model-segment-evaluation-53/labels/front-left-NO20240903-145541-000849F_MP4-0057_jpg.rf.b25dab04fdc3106ad8e7081fd51469f2.txt (deflated 77%)\n",
            "  adding: content/Model-V5/Model-segment-evaluation-53/labels/front-left-NO20240903-145141-000845F_MP4-0099_jpg.rf.1132afa3ddf738eefb7ba23d25c12847.txt (deflated 76%)\n",
            "  adding: content/Model-V5/Model-segment-evaluation-53/labels/front-left-NO20240903-145041-000844F_MP4-0127_jpg.rf.e1451af74cd581ded8247d25da90608c.txt (deflated 76%)\n",
            "  adding: content/Model-V5/Model-segment-evaluation-53/labels/front-left-NO20240903-150741-000861F_MP4-0237_jpg.rf.50ee7707517ab63df80f94d5dfb4acd4.txt (deflated 81%)\n",
            "  adding: content/Model-V5/Model-segment-evaluation-53/labels/front-left-NO20240909-150004-000365F_MP4-0158_jpg.rf.8f391f7f6e00d9376504e5937ef634ed.txt (deflated 78%)\n",
            "  adding: content/Model-V5/Model-segment-evaluation-53/labels/NO20240909-181040-000008F_MP4-0298_jpg.rf.4f2bc7d7023689b41bdb03be94ce466e.txt (deflated 79%)\n",
            "  adding: content/Model-V5/Model-segment-evaluation-53/labels/front-right-NO20240909-181540-000013F_MP4-0006_jpg.rf.63695738dc09d44a5a9e65e77fbd06a4.txt (deflated 79%)\n",
            "  adding: content/Model-V5/Model-segment-evaluation-53/labels/front-left-NO20240909-144104-000346F_MP4-0218_jpg.rf.2f28a34d8c34aefa5b0eb2d953e3540b.txt (deflated 74%)\n",
            "  adding: content/Model-V5/Model-segment-evaluation-53/labels/front-left-NO20240909-144504-000350F_MP4-0173_jpg.rf.e82051c1363d64d113421e441036ff66.txt (deflated 76%)\n",
            "  adding: content/Model-V5/Model-segment-evaluation-53/labels/front-right-NO20240909-181340-000011F_MP4-0035_jpg.rf.c3d5471df7c00448327d5cdb9f458481.txt (deflated 79%)\n",
            "  adding: content/Model-V5/Model-segment-evaluation-53/labels/front-right-NO20240903-143941-000833F_MP4-0143_jpg.rf.86028e70917e27fd08e2200012f8f557.txt (deflated 83%)\n",
            "  adding: content/Model-V5/Model-segment-evaluation-53/labels/front-left_MP4-0053_jpg.rf.60e4d2b421c47eca98c8e82ef4b26009.txt (deflated 84%)\n",
            "  adding: content/Model-V5/Model-segment-evaluation-53/labels/front-left-NO20240903-145141-000845F_MP4-0100_jpg.rf.e7b0378989b808ea655bd8ed6a4f1ef9.txt (deflated 77%)\n",
            "  adding: content/Model-V5/Model-segment-evaluation-53/labels/front-left-NO20240903-145041-000844F_MP4-0143_jpg.rf.3a298e2acabf155cc41dd736668e20b1.txt (deflated 77%)\n",
            "  adding: content/Model-V5/Model-segment-evaluation-53/labels/front-left-NO20240903-152241-000876F_MP4-0300_jpg.rf.cc167cad19468b16b1ac4e1cfa40547b.txt (deflated 80%)\n",
            "  adding: content/Model-V5/Model-segment-evaluation-53/labels/front-left-NO20240903-152241-000876F_MP4-0117_jpg.rf.73601731b3e95d0f9ce2a0a40d98018f.txt (deflated 78%)\n",
            "  adding: content/Model-V5/Model-segment-evaluation-53/labels/front-left-NO20240903-150741-000861F_MP4-0185_jpg.rf.569d992a98be34ee9ee6b1051a240c6e.txt (deflated 82%)\n",
            "  adding: content/Model-V5/Model-segment-evaluation-53/labels/front-left_MP4-0195_jpg.rf.0036175e5f541c982a895a6acbf2ef36.txt (deflated 80%)\n",
            "  adding: content/Model-V5/Model-segment-evaluation-53/labels/front-left-NO20240903-152241-000876F_MP4-0201_jpg.rf.d0e76e8effd756e7de1c9e6a4b31d094.txt (deflated 77%)\n",
            "  adding: content/Model-V5/Model-segment-evaluation-53/labels/front-left-NO20240903-145041-000844F_MP4-0226_jpg.rf.38e077acbdf2a123aaf1da719c48e1a7.txt (deflated 79%)\n",
            "  adding: content/Model-V5/Model-segment-evaluation-53/labels/NO20240917-143837-000243F_MP4-0012_jpg.rf.b46321cb54604b2e5b808bb0c48644e5.txt (deflated 83%)\n",
            "  adding: content/Model-V5/Model-segment-evaluation-53/labels/front-left_MP4-0139_jpg.rf.24f24c2a68095ab72dac278fdaa5372d.txt (deflated 75%)\n",
            "  adding: content/Model-V5/Model-segment-evaluation-53/labels/front-left-NO20240903-152241-000876F_MP4-0218_jpg.rf.b6ef68f3633d1014cdde6517865fa0d6.txt (deflated 76%)\n",
            "  adding: content/Model-V5/Model-segment-evaluation-53/labels/front-left_MP4-0171_jpg.rf.d4c156a49d0d9509df9089764eb7f8ff.txt (deflated 81%)\n",
            "  adding: content/Model-V5/Model-segment-evaluation-53/labels/front-left_MP4-0027_jpg.rf.8ab2c43a70b0bbb3e0ff36d873bee3e5.txt (deflated 80%)\n",
            "  adding: content/Model-V5/Model-segment-evaluation-53/labels/front-right-NO20240903-144141-000835F_MP4-0075_jpg.rf.c04be228814b40b763ba76703e43f2b8.txt (deflated 73%)\n",
            "  adding: content/Model-V5/Model-segment-evaluation-53/labels/front-left-NO20240903-150741-000861F_MP4-0172_jpg.rf.9417ebc73a230ef645ec9d7dc6b02718.txt (deflated 80%)\n",
            "  adding: content/Model-V5/Model-segment-evaluation-53/labels/front-left-NO20240903-145041-000844F_MP4-0217_jpg.rf.57d3b4f70628f974b46c8c83d4377aa4.txt (deflated 83%)\n",
            "  adding: content/Model-V5/Model-segment-evaluation-53/labels/front-right-NO20240909-181240-000010F_MP4-0133_jpg.rf.d8634569a281b61376655f975ceb71e8.txt (deflated 75%)\n",
            "  adding: content/Model-V5/Model-segment-evaluation-53/labels/front-right-NO20240903-144041-000834F_MP4-0151_jpg.rf.761dc825e4c8766f2a9cfa5d9216817d.txt (deflated 78%)\n",
            "  adding: content/Model-V5/Model-segment-evaluation-53/labels/front-right-NO20240909-181340-000011F_MP4-0050_jpg.rf.a1e6d046d07a8ab4c07d15c1a0411caf.txt (deflated 74%)\n",
            "  adding: content/Model-V5/Model-segment-evaluation-53/labels/front-left-NO20240903-145041-000844F_MP4-0289_jpg.rf.86be5a2abb11d25b5a511e0775d571af.txt (deflated 80%)\n",
            "  adding: content/Model-V5/Model-segment-evaluation-53/labels/v1_mp4-0011_jpg.rf.1a647274650e3c471d6b0052bf951ee2.txt (deflated 80%)\n",
            "  adding: content/Model-V5/Model-segment-evaluation-53/labels/front-right-NO20240903-144041-000834F_MP4-0114_jpg.rf.b3d0e34f0b8b6119a6135f14dd0c3116.txt (deflated 81%)\n",
            "  adding: content/Model-V5/Model-segment-evaluation-53/labels/front-right-NO20240903-144041-000834F_MP4-0241_jpg.rf.02879eebe345d53b7a02ef992d64cb20.txt (deflated 79%)\n",
            "  adding: content/Model-V5/Model-segment-evaluation-53/labels/v1_mp4-0043_jpg.rf.6246a6aead63d030db30a89d9867cc44.txt (deflated 73%)\n",
            "  adding: content/Model-V5/Model-segment-evaluation-53/labels/cars-NO20240914-114048-000222F_MP4-0250_jpg.rf.4197c623a86023b0e4512b4d7fea4a28.txt (deflated 79%)\n",
            "  adding: content/Model-V5/Model-segment-evaluation-53/labels/cars-NO20240910-060525-000077F_MP4-0033_jpg.rf.90d8f9d005564b0bfda42fe3cc2ca64f.txt (deflated 77%)\n",
            "  adding: content/Model-V5/Model-segment-evaluation-53/labels/front-right-NO20240903-144041-000834F_MP4-0050_jpg.rf.de8e8264a382d70de3b556ce92b5aa05.txt (deflated 80%)\n",
            "  adding: content/Model-V5/Model-segment-evaluation-53/labels/front-left-NO20240903-150741-000861F_MP4-0033_jpg.rf.6f3e9aeacd2af128764620bf938b1cb5.txt (deflated 80%)\n",
            "  adding: content/Model-V5/Model-segment-evaluation-53/labels/front-left-NO20240909-144004-000345F_MP4-0174_jpg.rf.44aaff40ccfd7c5541762e34c2fd284e.txt (deflated 79%)\n",
            "  adding: content/Model-V5/Model-segment-evaluation-53/labels/front-left-NO20240909-151104-000376F_MP4-0122_jpg.rf.719ffc34e5dd13412cfc09ee00279964.txt (deflated 78%)\n",
            "  adding: content/Model-V5/Model-segment-evaluation-53/labels/front-left-NO20240903-150741-000861F_MP4-0032_jpg.rf.3c7d37f5132afeca5c9e20b553531f01.txt (deflated 82%)\n",
            "  adding: content/Model-V5/Model-segment-evaluation-53/labels/front-left-NO20240903-145041-000844F_MP4-0145_jpg.rf.cc134db933f23f39e9be5be96f1c3057.txt (deflated 76%)\n",
            "  adding: content/Model-V5/Model-segment-evaluation-53/labels/front-left-NO20240908-150138-000147F_MP4-0038_jpg.rf.5c79f0bf6bfb4a3f5b1fec931dcbab6f.txt (deflated 79%)\n",
            "  adding: content/Model-V5/Model-segment-evaluation-53/labels/front-left-NO20240909-150504-000370F_MP4-0127_jpg.rf.7daa2c300e6cda0183f2ba7cf9ecbf51.txt (deflated 79%)\n",
            "  adding: content/Model-V5/Model-segment-evaluation-53/labels/front-left-NO20240909-150504-000370F_MP4-0284_jpg.rf.4319d24dd29a934b09d50ce267c332ad.txt (deflated 76%)\n",
            "  adding: content/Model-V5/Model-segment-evaluation-53/labels/front-left-NO20240903-150741-000861F_MP4-0204_jpg.rf.36666c7f0df75e2b62fad105ce41fdf1.txt (deflated 81%)\n",
            "  adding: content/Model-V5/Model-segment-evaluation-53/labels/front-left-NO20240903-152241-000876F_MP4-0165_jpg.rf.e1623cdb75859fee20a889d309e5f959.txt (deflated 80%)\n",
            "  adding: content/Model-V5/Model-segment-evaluation-53/labels/front-left-NO20240909-144404-000349F_MP4-0182_jpg.rf.0c1a16d77af9efa5d894d41d429a29cb.txt (deflated 75%)\n",
            "  adding: content/Model-V5/Model-segment-evaluation-53/labels/front-left-NO20240903-152241-000876F_MP4-0057_jpg.rf.30f8a9551964e9a8afe81799ad082664.txt (deflated 74%)\n",
            "  adding: content/Model-V5/Model-segment-evaluation-53/labels/front-left_MP4-0059_jpg.rf.5ff032e2a2284f22357f914aaaa7754a.txt (deflated 81%)\n",
            "  adding: content/Model-V5/Model-segment-evaluation-53/labels/front-left-NO20240903-145141-000845F_MP4-0017_jpg.rf.771889a8ea4373276f9f6437e079a819.txt (deflated 79%)\n",
            "  adding: content/Model-V5/Model-segment-evaluation-53/labels/front-left-NO20240909-151004-000375F_MP4-0134_jpg.rf.3bfa71d974762687c2dab62fb9e76647.txt (deflated 79%)\n",
            "  adding: content/Model-V5/Model-segment-evaluation-53/labels/front-left-NO20240903-145041-000844F_MP4-0188_jpg.rf.3b905c2d2d433dc2a6cd630cbd34d18e.txt (deflated 77%)\n",
            "  adding: content/Model-V5/Model-segment-evaluation-53/labels/front-left_MP4-0160_jpg.rf.aa68c377f033d81bf98a565fdb500279.txt (deflated 79%)\n",
            "  adding: content/Model-V5/Model-segment-evaluation-53/labels/front-left-NO20240903-145541-000849F_MP4-0282_jpg.rf.b6f3935ffc44d5843046be570b730764.txt (deflated 76%)\n",
            "  adding: content/Model-V5/Model-segment-evaluation-53/labels/front-left-NO20240903-145541-000849F_MP4-0177_jpg.rf.8c0e6d9f781d1bc139bf3b496f671fca.txt (deflated 75%)\n",
            "  adding: content/Model-V5/Model-segment-evaluation-53/labels/front-left-NO20240903-145141-000845F_MP4-0124_jpg.rf.59e0aa5df83e1d8a243e7d4c8bedd546.txt (deflated 82%)\n",
            "  adding: content/Model-V5/Model-segment-evaluation-53/labels/front-left-NO20240903-145041-000844F_MP4-0152_jpg.rf.0a357fbcc811d1cc7f8622085e99018c.txt (deflated 80%)\n",
            "  adding: content/Model-V5/Model-segment-evaluation-53/labels/front-left-NO20240903-145041-000844F_MP4-0032_jpg.rf.565875be159cca844d54b08b7746640c.txt (deflated 75%)\n",
            "  adding: content/Model-V5/Model-segment-evaluation-53/labels/front-left-NO20240903-145441-000848F_MP4-0281_jpg.rf.239e0368161b5f4fde63d77a7cacd131.txt (deflated 74%)\n",
            "  adding: content/Model-V5/Model-segment-evaluation-53/labels/front-left-NO20240903-145441-000848F_MP4-0181_jpg.rf.91bb6757c30829716ad0587a358631be.txt (deflated 78%)\n",
            "  adding: content/Model-V5/Model-segment-evaluation-53/labels/night-front-right-NO20240909-183540-000033F_MP4-0046_jpg.rf.aebaf7e3a63e9d06731f6d954a85fd9a.txt (deflated 78%)\n",
            "  adding: content/Model-V5/Model-segment-evaluation-53/labels/front-right-NO20240903-144141-000835F_MP4-0249_jpg.rf.219958016774538c3b69e56cf2966a43.txt (deflated 74%)\n",
            "  adding: content/Model-V5/Model-segment-evaluation-53/labels/front-left-NO20240903-150741-000861F_MP4-0197_jpg.rf.8254292133a4bbd57a6222e1ad24da57.txt (deflated 80%)\n",
            "  adding: content/Model-V5/Model-segment-evaluation-53/labels/front-left-NO20240903-145441-000848F_MP4-0273_jpg.rf.07c06716d8447ca803aaec49c5945d59.txt (deflated 82%)\n",
            "  adding: content/Model-V5/Model-segment-evaluation-53/labels/front-left-NO20240903-152241-000876F_MP4-0272_jpg.rf.8a221188afecb2dd364fa6001ef9d14c.txt (deflated 74%)\n",
            "  adding: content/Model-V5/Model-segment-evaluation-53/labels/front-left-NO20240903-150741-000861F_MP4-0300_jpg.rf.99e20d22e0b57c8b0e12976d92d89a07.txt (deflated 80%)\n",
            "  adding: content/Model-V5/Model-segment-evaluation-53/labels/cars-NO20240914-114048-000222F_MP4-0060_jpg.rf.7d6e535bdb9ffa784b1c78577b7f96f0.txt (deflated 83%)\n",
            "  adding: content/Model-V5/Model-segment-evaluation-53/labels/front-left-NO20240903-145041-000844F_MP4-0219_jpg.rf.8a9cb75a703031a1816276f23ea9ce15.txt (deflated 76%)\n",
            "  adding: content/Model-V5/Model-segment-evaluation-53/labels/front-left-NO20240903-145141-000845F_MP4-0067_jpg.rf.25fb2f23b4cea70eb30997fad53e6808.txt (deflated 81%)\n",
            "  adding: content/Model-V5/Model-segment-evaluation-53/labels/NO20240917-144137-000246F_MP4-0001_jpg.rf.143f8c504f7624798654c150d6d79d1c.txt (deflated 79%)\n",
            "  adding: content/Model-V5/Model-segment-evaluation-53/labels/front-left-NO20240903-150741-000861F_MP4-0073_jpg.rf.d141aec9f652f0ba91bd0312514de714.txt (deflated 82%)\n",
            "  adding: content/Model-V5/Model-segment-evaluation-53/labels/front-left-NO20240903-152241-000876F_MP4-0226_jpg.rf.2a1065e97c3e2a0dc53223f97b6b6e22.txt (deflated 76%)\n",
            "  adding: content/Model-V5/Model-segment-evaluation-53/labels/front-right-NO20240903-144141-000835F_MP4-0101_jpg.rf.57fec756d1db9fd405c68ca2cc0a0a36.txt (deflated 84%)\n",
            "  adding: content/Model-V5/Model-segment-evaluation-53/labels/front-left_MP4-0157_jpg.rf.8f9f9b40c77ee8541edb86043308220a.txt (deflated 80%)\n",
            "  adding: content/Model-V5/Model-segment-evaluation-53/labels/front-left-NO20240903-145041-000844F_MP4-0139_jpg.rf.f335c049a8c74f1cbe6c9e572fc61ac3.txt (deflated 73%)\n",
            "  adding: content/Model-V5/Model-segment-evaluation-53/labels/front-left-NO20240903-150741-000861F_MP4-0209_jpg.rf.48d7bd540b4e7189175920d9779814f7.txt (deflated 79%)\n",
            "  adding: content/Model-V5/Model-segment-evaluation-53/labels/front-left-NO20240903-145141-000845F_MP4-0259_jpg.rf.e3b82f474e23069759ee725c74f72e16.txt (deflated 81%)\n",
            "  adding: content/Model-V5/Model-segment-evaluation-53/labels/front-left-NO20240903-145441-000848F_MP4-0143_jpg.rf.435c7985fb7c2a565908ebc6d13f5868.txt (deflated 78%)\n",
            "  adding: content/Model-V5/Model-segment-evaluation-53/labels/front-right-NO20240903-144141-000835F_MP4-0157_jpg.rf.3e375f1f928e98eaddb57f9603279cca.txt (deflated 81%)\n",
            "  adding: content/Model-V5/Model-segment-evaluation-53/labels/front-left-NO20240903-145141-000845F_MP4-0139_jpg.rf.4d47c157e11c0ed3782391df1ddc38b0.txt (deflated 81%)\n",
            "  adding: content/Model-V5/Model-segment-evaluation-53/labels/front-right-NO20240903-144141-000835F_MP4-0276_jpg.rf.07f7f2c4df2ee9608d73486708890f4f.txt (deflated 84%)\n",
            "  adding: content/Model-V5/Model-segment-evaluation-53/labels/front-left-NO20240903-145041-000844F_MP4-0193_jpg.rf.57c078667997831480ffba48ec699ddc.txt (deflated 77%)\n",
            "  adding: content/Model-V5/Model-segment-evaluation-53/labels/front-left-NO20240903-145041-000844F_MP4-0202_jpg.rf.e427f00f230c8e92a1c87c9265b98b23.txt (deflated 80%)\n",
            "  adding: content/Model-V5/Model-segment-evaluation-53/labels/front-left-NO20240903-150741-000861F_MP4-0140_jpg.rf.62de800f04cbe6fe62b89a1fe2110220.txt (deflated 78%)\n",
            "  adding: content/Model-V5/Model-segment-evaluation-53/labels/front-left-NO20240908-145538-000141F_MP4-0075_jpg.rf.e70c17cfff25db8d57989b4d0ce3f5c4.txt (deflated 80%)\n",
            "  adding: content/Model-V5/Model-segment-evaluation-53/labels/front-left-NO20240903-145541-000849F_MP4-0069_jpg.rf.234448d48f0e245a8dfdea56a06d261e.txt (deflated 77%)\n",
            "  adding: content/Model-V5/Model-segment-evaluation-53/labels/front-left_MP4-0208_jpg.rf.87d4f5fd4fb98177f25cac322fbd79ce.txt (deflated 79%)\n",
            "  adding: content/Model-V5/Model-segment-evaluation-53/labels/front-left_MP4-0152_jpg.rf.141e8c984bf54efdc57e28f59e9cadc4.txt (deflated 83%)\n",
            "  adding: content/Model-V5/Model-segment-evaluation-53/labels/front-left-NO20240909-144404-000349F_MP4-0251_jpg.rf.171dfc23fd7e224bea02a19b9c5dcd0b.txt (deflated 75%)\n",
            "  adding: content/Model-V5/Model-segment-evaluation-53/labels/front-right-NO20240903-143941-000833F_MP4-0244_jpg.rf.60dc86418ed5227c8dabbd86f6ffe2e6.txt (deflated 78%)\n",
            "  adding: content/Model-V5/Model-segment-evaluation-53/labels/front-left-NO20240903-145541-000849F_MP4-0296_jpg.rf.54a3d307643bdf88de89bbc4c914f083.txt (deflated 75%)\n",
            "  adding: content/Model-V5/Model-segment-evaluation-53/labels/NO20240917-144137-000246F_MP4-0064_jpg.rf.52a90c41cfd8753bf5232f45ff82d709.txt (deflated 78%)\n",
            "  adding: content/Model-V5/Model-segment-evaluation-53/labels/NO20240909-181040-000008F_MP4-0247_jpg.rf.2c38dd3b9f796859d806171892d0c776.txt (deflated 81%)\n",
            "  adding: content/Model-V5/Model-segment-evaluation-53/labels/front-right-NO20240903-143941-000833F_MP4-0296_jpg.rf.ccdaed3aa8eb3c27d2f4afa567cedeb7.txt (deflated 85%)\n",
            "  adding: content/Model-V5/Model-segment-evaluation-53/labels/front-left-NO20240903-145141-000845F_MP4-0108_jpg.rf.b8beec3fe5cb41fb147d91d7d0d26fa2.txt (deflated 78%)\n",
            "  adding: content/Model-V5/Model-segment-evaluation-53/labels/front-left-NO20240903-145541-000849F_MP4-0103_jpg.rf.7d4fcd0662bffbd41b3cb2e92ada0978.txt (deflated 77%)\n",
            "  adding: content/Model-V5/Model-segment-evaluation-53/labels/front-right-NO20240903-144141-000835F_MP4-0141_jpg.rf.352cacae30571eb3662e4badbfa1be0b.txt (deflated 82%)\n",
            "  adding: content/Model-V5/Model-segment-evaluation-53/labels/front-left_MP4-0173_jpg.rf.ba4ea5b7aec4cc8052fcdfd38f43e4fe.txt (deflated 80%)\n",
            "  adding: content/Model-V5/Model-segment-evaluation-53/labels/front-left-NO20240903-152241-000876F_MP4-0060_jpg.rf.fdabbdfc8f64fd7b7fd946d437b824b8.txt (deflated 75%)\n",
            "  adding: content/Model-V5/Model-segment-evaluation-53/labels/front-left-NO20240903-145441-000848F_MP4-0283_jpg.rf.bd0a1d7d4fe486d9433ad5643ee28056.txt (deflated 81%)\n",
            "  adding: content/Model-V5/Model-segment-evaluation-53/labels/front-right-NO20240909-181640-000014F_MP4-0097_jpg.rf.2013e0d8e598d7f010fcb3dd25ded479.txt (deflated 78%)\n",
            "  adding: content/Model-V5/Model-segment-evaluation-53/labels/front-left-NO20240903-145041-000844F_MP4-0150_jpg.rf.8b5b3243cb4300cc3048360135428338.txt (deflated 81%)\n",
            "  adding: content/Model-V5/Model-segment-evaluation-53/labels/front-left-NO20240903-145541-000849F_MP4-0165_jpg.rf.f365fba577a4cbe29cdd4c26b6db3981.txt (deflated 73%)\n",
            "  adding: content/Model-V5/Model-segment-evaluation-53/labels/front-right-NO20240903-144141-000835F_MP4-0264_jpg.rf.d64d62b8bd733f1c394e6703cf991a2c.txt (deflated 85%)\n",
            "  adding: content/Model-V5/Model-segment-evaluation-53/labels/front-left_MP4-0041_jpg.rf.e0a55b0d5e30953b7d35e6c32e6bed10.txt (deflated 83%)\n",
            "  adding: content/Model-V5/Model-segment-evaluation-53/labels/front-left-NO20240909-143304-000338F_MP4-0200_jpg.rf.cb24521631e694eb15b1d757b51cb444.txt (deflated 77%)\n",
            "  adding: content/Model-V5/Model-segment-evaluation-53/labels/front-left-NO20240903-145041-000844F_MP4-0050_jpg.rf.1ea5541b2321b74ea0fd4b023c20b659.txt (deflated 78%)\n",
            "  adding: content/Model-V5/Model-segment-evaluation-53/labels/front-left-NO20240903-145141-000845F_MP4-0296_jpg.rf.b98b422f64e91dc2312bc580364c32cd.txt (deflated 79%)\n",
            "  adding: content/Model-V5/Model-segment-evaluation-53/labels/front-left-NO20240903-145041-000844F_MP4-0294_jpg.rf.1c0d455314372f1d030d830d034ab87d.txt (deflated 77%)\n",
            "  adding: content/Model-V5/Model-segment-evaluation-53/labels/cars-NO20240914-114248-000224F_MP4-0016_jpg.rf.60502084f485e960f3dfffe5cb6ca13d.txt (deflated 78%)\n",
            "  adding: content/Model-V5/Model-segment-evaluation-53/labels/front-left-NO20240903-145141-000845F_MP4-0042_jpg.rf.bd3b0b80cfecf394cef71f8a054713c5.txt (deflated 80%)\n",
            "  adding: content/Model-V5/Model-segment-evaluation-53/labels/front-left-NO20240903-145041-000844F_MP4-0240_jpg.rf.5a1c07fa5166bd131538e146c4e1b398.txt (deflated 79%)\n",
            "  adding: content/Model-V5/Model-segment-evaluation-53/labels/front-left-NO20240909-143404-000339F_MP4-0011_jpg.rf.13517b05e91c4aaa9b0d18ccb85e43db.txt (deflated 79%)\n",
            "  adding: content/Model-V5/Model-segment-evaluation-53/labels/front-left-NO20240903-145541-000849F_MP4-0034_jpg.rf.b027654fde04ddebe66af5af6081f681.txt (deflated 79%)\n",
            "  adding: content/Model-V5/Model-segment-evaluation-53/labels/front-left_MP4-0116_jpg.rf.946c73888a7893c837394442ba585068.txt (deflated 78%)\n",
            "  adding: content/Model-V5/Model-segment-evaluation-53/labels/NO20240917-143837-000243F_MP4-0009_jpg.rf.d92240a578d21151c2ae0fa08daf590f.txt (deflated 81%)\n",
            "  adding: content/Model-V5/Model-segment-evaluation-53/labels/front-left-NO20240903-145141-000845F_MP4-0090_jpg.rf.0dd7605fbe16aad0435f152b20207a4f.txt (deflated 78%)\n",
            "  adding: content/Model-V5/Model-segment-evaluation-53/labels/front-left-NO20240903-152241-000876F_MP4-0222_jpg.rf.a636320c53ab6229a237ccc23e80ce94.txt (deflated 78%)\n",
            "  adding: content/Model-V5/Model-segment-evaluation-53/labels/front-left_MP4-0237_jpg.rf.9574d0d37c3f57f132be0b6b7155a076.txt (deflated 80%)\n",
            "  adding: content/Model-V5/Model-segment-evaluation-53/labels/front-left-NO20240903-145441-000848F_MP4-0194_jpg.rf.a317b948eda4fd42964f24426a65b4d5.txt (deflated 79%)\n",
            "  adding: content/Model-V5/Model-segment-evaluation-53/labels/cars-NO20240914-114248-000224F_MP4-0062_jpg.rf.593ed9b2c66c17df444e2dc8d71244f6.txt (deflated 79%)\n",
            "  adding: content/Model-V5/Model-segment-evaluation-53/labels/front-right-NO20240909-181240-000010F_MP4-0241_jpg.rf.755f826ac270c7e7f4c1a38d825d7152.txt (deflated 83%)\n",
            "  adding: content/Model-V5/Model-segment-evaluation-53/labels/front-left_MP4-0113_jpg.rf.66264bde1495dda12a1ef7d09f08e59c.txt (deflated 80%)\n",
            "  adding: content/Model-V5/Model-segment-evaluation-53/labels/front-left-NO20240903-145541-000849F_MP4-0183_jpg.rf.f392bad89be25be5f721073fe3ed6225.txt (deflated 75%)\n",
            "  adding: content/Model-V5/Model-segment-evaluation-53/labels/front-left-NO20240903-150741-000861F_MP4-0238_jpg.rf.759d3356ea4a3b3e93717f1c14d1b9da.txt (deflated 78%)\n",
            "  adding: content/Model-V5/Model-segment-evaluation-53/labels/chery-cross_MP4-0039_jpg.rf.f3882d3cc51c9d6ccdc233d43c8e8e3e.txt (deflated 79%)\n",
            "  adding: content/Model-V5/Model-segment-evaluation-53/labels/front-left-NO20240903-152241-000876F_MP4-0230_jpg.rf.cbd572e98d6d56c01d6b7f7d9c844706.txt (deflated 78%)\n",
            "  adding: content/Model-V5/Model-segment-evaluation-53/labels/cars-NO20240914-114248-000224F_MP4-0040_jpg.rf.406929eb90877d39a946d57414b36c93.txt (deflated 82%)\n",
            "  adding: content/Model-V5/Model-segment-evaluation-53/labels/front-left-NO20240903-145441-000848F_MP4-0265_jpg.rf.17455645e75f435813f75aae58e5c412.txt (deflated 80%)\n",
            "  adding: content/Model-V5/Model-segment-evaluation-53/labels/front-left-NO20240909-150004-000365F_MP4-0110_jpg.rf.b7f3ff8de4ad63c57299777592f2bacd.txt (deflated 73%)\n",
            "  adding: content/Model-V5/Model-segment-evaluation-53/labels/front-left-NO20240903-150741-000861F_MP4-0193_jpg.rf.811517a5caf6812fb51f0bc98dac3ac4.txt (deflated 80%)\n",
            "  adding: content/Model-V5/Model-segment-evaluation-53/labels/front-left-NO20240903-145541-000849F_MP4-0233_jpg.rf.c97e2e7834604541be56e8db24310c51.txt (deflated 77%)\n",
            "  adding: content/Model-V5/Model-segment-evaluation-53/labels/front-left-NO20240903-145541-000849F_MP4-0236_jpg.rf.070c47e98270abb193c000a173f29b2d.txt (deflated 82%)\n",
            "  adding: content/Model-V5/Model-segment-evaluation-53/labels/night-front-right-NO20240909-183140-000029F_MP4-0020_jpg.rf.4cb454573efd9b63353aebc5e1eb9616.txt (deflated 82%)\n",
            "  adding: content/Model-V5/Model-segment-evaluation-53/labels/front-left-NO20240903-152241-000876F_MP4-0183_jpg.rf.ed980aafc67866c2af3ca443899540be.txt (deflated 76%)\n",
            "  adding: content/Model-V5/Model-segment-evaluation-53/labels/front-left-NO20240903-145041-000844F_MP4-0117_jpg.rf.9c6f4487107035d45dcb5dbb2f61d4de.txt (deflated 76%)\n",
            "  adding: content/Model-V5/Model-segment-evaluation-53/labels/NO20240909-181140-000009F_MP4-0097_jpg.rf.a95832b60ee86b27efe436a55b12b410.txt (deflated 79%)\n",
            "  adding: content/Model-V5/Model-segment-evaluation-53/labels/front-left-NO20240903-145541-000849F_MP4-0163_jpg.rf.7a6abd18be59c8e00c2c0bd35d079270.txt (deflated 78%)\n",
            "  adding: content/Model-V5/Model-segment-evaluation-53/labels/front-left-NO20240903-150741-000861F_MP4-0244_jpg.rf.a58fe338c77e29a390ecc7a8f9223293.txt (deflated 80%)\n",
            "  adding: content/Model-V5/Model-segment-evaluation-53/labels/front-left-NO20240909-150504-000370F_MP4-0143_jpg.rf.1d5c509c5b6e4b9759c97fe1e918afc6.txt (deflated 77%)\n",
            "  adding: content/Model-V5/Model-segment-evaluation-53/labels/cars-NO20240914-114048-000222F_MP4-0262_jpg.rf.669216f73151716b5ff38f1bdfe64274.txt (deflated 80%)\n",
            "  adding: content/Model-V5/Model-segment-evaluation-53/labels/v2_mp4-0013_jpg.rf.e2423e0ccb0c9517d44472fa17af926d.txt (deflated 77%)\n",
            "  adding: content/Model-V5/Model-segment-evaluation-53/labels/front-left-NO20240903-150741-000861F_MP4-0239_jpg.rf.ae7231a512f6df86cda0803055540633.txt (deflated 78%)\n",
            "  adding: content/Model-V5/Model-segment-evaluation-53/labels/front-left-NO20240910-060225-000074F_MP4-0035_jpg.rf.3748f0f53b2f7f8e5cafa96e737697b3.txt (deflated 82%)\n",
            "  adding: content/Model-V5/Model-segment-evaluation-53/labels/front-left-NO20240903-145041-000844F_MP4-0187_jpg.rf.200be939c5525ac0532af82c34921452.txt (deflated 78%)\n",
            "  adding: content/Model-V5/Model-segment-evaluation-53/labels/front-right-NO20240903-144141-000835F_MP4-0271_jpg.rf.9f9370f4e52cae2f86ccece542369a1c.txt (deflated 86%)\n",
            "  adding: content/Model-V5/Model-segment-evaluation-53/labels/NO20240909-181040-000008F_MP4-0051_jpg.rf.70073d1b02c0c216fbc9b2e070e6bb03.txt (deflated 78%)\n",
            "  adding: content/Model-V5/Model-segment-evaluation-53/labels/front-left_MP4-0207_jpg.rf.b1f9c8d1ea365afc9e93e3721cab8a5a.txt (deflated 78%)\n",
            "  adding: content/Model-V5/Model-segment-evaluation-53/labels/front-left-NO20240903-152241-000876F_MP4-0115_jpg.rf.7f9aa3c41a3030a477134e64a97375ab.txt (deflated 82%)\n",
            "  adding: content/Model-V5/Model-segment-evaluation-53/labels/front-left_MP4-0047_jpg.rf.dec9fcbc686d041774873bf46e3ce621.txt (deflated 78%)\n",
            "  adding: content/Model-V5/Model-segment-evaluation-53/labels/front-left-NO20240903-145141-000845F_MP4-0130_jpg.rf.e59492a05254f6b99d5fcc32c9d19c29.txt (deflated 84%)\n",
            "  adding: content/Model-V5/Model-segment-evaluation-53/labels/NO20240917-143837-000243F_MP4-0093_jpg.rf.5a12688ae711feaa26c920e51cc87402.txt (deflated 82%)\n",
            "  adding: content/Model-V5/Model-segment-evaluation-53/labels/front-left_MP4-0276_jpg.rf.ad593118979330e129d4bcdbfe03569d.txt (deflated 80%)\n",
            "  adding: content/Model-V5/Model-segment-evaluation-53/labels/front-left-NO20240903-145041-000844F_MP4-0214_jpg.rf.062dc97f7221c1ef3608e5672221a6d2.txt (deflated 82%)\n",
            "  adding: content/Model-V5/Model-segment-evaluation-53/labels/front-left-NO20240903-150741-000861F_MP4-0031_jpg.rf.25922b40cf0aaf481773dfccdf1d52d1.txt (deflated 81%)\n",
            "  adding: content/Model-V5/Model-segment-evaluation-53/labels/front-left-NO20240909-144404-000349F_MP4-0176_jpg.rf.3d9c643b99f035d0a2092efe42305bec.txt (deflated 72%)\n",
            "  adding: content/Model-V5/Model-segment-evaluation-53/labels/front-right-NO20240903-144141-000835F_MP4-0148_jpg.rf.9632f02269da667a86f9178e0ea39883.txt (deflated 81%)\n",
            "  adding: content/Model-V5/Model-segment-evaluation-53/labels/front-left-NO20240903-145041-000844F_MP4-0136_jpg.rf.77d8356bdc0a0cb062144e12a5e5322e.txt (deflated 78%)\n",
            "  adding: content/Model-V5/Model-segment-evaluation-53/labels/front-left-NO20240903-145141-000845F_MP4-0148_jpg.rf.1c0fe9896d5e0b9a93621333816a1c89.txt (deflated 78%)\n",
            "  adding: content/Model-V5/Model-segment-evaluation-53/labels/NO20240909-181040-000008F_MP4-0297_jpg.rf.cfba2a5510a4fe7d8fbb927256078c7f.txt (deflated 78%)\n",
            "  adding: content/Model-V5/Model-segment-evaluation-53/labels/front-left-NO20240909-143204-000337F_MP4-0151_jpg.rf.029c7e6aa10acac8fe019e8a9869958f.txt (deflated 80%)\n",
            "  adding: content/Model-V5/Model-segment-evaluation-53/labels/front-right-NO20240903-143941-000833F_MP4-0199_jpg.rf.a0eaebb656a27e2ca127269575392b16.txt (deflated 85%)\n",
            "  adding: content/Model-V5/Model-segment-evaluation-53/labels/front-left-NO20240903-150741-000861F_MP4-0290_jpg.rf.b505f62ea5536fa277a80560d1d895d1.txt (deflated 80%)\n",
            "  adding: content/Model-V5/Model-segment-evaluation-53/labels/front-left-NO20240903-145541-000849F_MP4-0242_jpg.rf.b0942c4fb50083caedb9f85cd0de2c35.txt (deflated 79%)\n",
            "  adding: content/Model-V5/Model-segment-evaluation-53/labels/front-left-NO20240903-145041-000844F_MP4-0092_jpg.rf.4e89dd6ab5e863b545cd658b36999f5b.txt (deflated 81%)\n",
            "  adding: content/Model-V5/Model-segment-evaluation-53/labels/night-front-right-NO20240909-183640-000034F_MP4-0056_jpg.rf.fd454a2b2496ac88bce8b5943400dbdd.txt (deflated 82%)\n",
            "  adding: content/Model-V5/Model-segment-evaluation-53/labels/v6_mp4-0008_jpg.rf.cbdf014d57e2ad49a7379a364d290d3b.txt (deflated 78%)\n",
            "  adding: content/Model-V5/Model-segment-evaluation-53/labels/front-left-NO20240903-152241-000876F_MP4-0002_jpg.rf.1a86a674e8e2fabba04b29fc6340cdc8.txt (deflated 82%)\n",
            "  adding: content/Model-V5/Model-segment-evaluation-53/labels/front-left-NO20240903-152241-000876F_MP4-0090_jpg.rf.117eac0578ff46cc33800044be258485.txt (deflated 77%)\n",
            "  adding: content/Model-V5/Model-segment-evaluation-53/labels/front-left-NO20240903-145041-000844F_MP4-0196_jpg.rf.cf61864fe1489f21649a32b9b3500885.txt (deflated 77%)\n",
            "  adding: content/Model-V5/Model-segment-evaluation-53/labels/front-right-NO20240903-144141-000835F_MP4-0060_jpg.rf.53520693a635960c1697af864a49a5c5.txt (deflated 82%)\n",
            "  adding: content/Model-V5/Model-segment-evaluation-53/labels/front-left-NO20240909-151004-000375F_MP4-0016_jpg.rf.d93bb43eaf78dbdc8856a0eae32713b8.txt (deflated 80%)\n",
            "  adding: content/Model-V5/Model-segment-evaluation-53/labels/night-front-right-NO20240909-183540-000033F_MP4-0220_jpg.rf.99876ce5fd44719c2ff1502f653a72c3.txt (deflated 83%)\n",
            "  adding: content/Model-V5/Model-segment-evaluation-53/labels/v2_mp4-0024_jpg.rf.cf4867cbe6768c650cd73f445ae5808c.txt (deflated 77%)\n",
            "  adding: content/Model-V5/Model-segment-evaluation-53/labels/front-left-NO20240903-145441-000848F_MP4-0185_jpg.rf.d6851f511b54e08b589d1543f837f030.txt (deflated 74%)\n",
            "  adding: content/Model-V5/Model-segment-evaluation-53/labels/front-left_MP4-0051_jpg.rf.186c5529761e78c8192111ca3119d570.txt (deflated 82%)\n",
            "  adding: content/Model-V5/Model-segment-evaluation-53/labels/cars-NO20240914-112548-000207F_MP4-0024_jpg.rf.db0175ebcdf6259539d7dc274efa3358.txt (deflated 79%)\n",
            "  adding: content/Model-V5/Model-segment-evaluation-53/labels/front-left-NO20240903-152241-000876F_MP4-0075_jpg.rf.dcfc0408a67090fdaee58d8e23ee6154.txt (deflated 76%)\n",
            "  adding: content/Model-V5/Model-segment-evaluation-53/labels/chery-cross_MP4-0008_jpg.rf.29d89b4c5b1da8e129aad43bdc315c81.txt (deflated 81%)\n",
            "  adding: content/Model-V5/Model-segment-evaluation-53/labels/front-left-NO20240903-145441-000848F_MP4-0262_jpg.rf.9c54e64d4bcc2ee933fce3245014b5ac.txt (deflated 81%)\n",
            "  adding: content/Model-V5/Model-segment-evaluation-53/labels/front-left-NO20240903-145141-000845F_MP4-0075_jpg.rf.f977c2d1fb926a02f3af66e81029b0e3.txt (deflated 81%)\n",
            "  adding: content/Model-V5/Model-segment-evaluation-53/labels/front-right-NO20240903-144141-000835F_MP4-0080_jpg.rf.aa83c77d34458b804c989e0db630755d.txt (deflated 83%)\n",
            "  adding: content/Model-V5/Model-segment-evaluation-53/labels/front-left-NO20240903-145041-000844F_MP4-0203_jpg.rf.31407554e84c9da5425bafa11c2fe05e.txt (deflated 79%)\n",
            "  adding: content/Model-V5/Model-segment-evaluation-53/labels/front-left-NO20240903-145141-000845F_MP4-0032_jpg.rf.80b72bccd3a72936856e77de3f2aba11.txt (deflated 79%)\n",
            "  adding: content/Model-V5/Model-segment-evaluation-53/labels/NO20240909-181140-000009F_MP4-0169_jpg.rf.3c0159414c0727fb91e2582efc0bb015.txt (deflated 83%)\n",
            "  adding: content/Model-V5/Model-segment-evaluation-53/labels/chery-cross_MP4-0051_jpg.rf.4ea3de8e9880d9d21ed975e4de1ce93f.txt (deflated 78%)\n",
            "  adding: content/Model-V5/Model-segment-evaluation-53/labels/night-front-right-NO20240909-182940-000027F_MP4-0006_jpg.rf.08f0c60fddecb6e4962072a0cb390640.txt (deflated 76%)\n",
            "  adding: content/Model-V5/Model-segment-evaluation-53/labels/front-left-NO20240903-152241-000876F_MP4-0266_jpg.rf.fc49e9e1513eb40c70a1f28f986404b8.txt (deflated 81%)\n",
            "  adding: content/Model-V5/Model-segment-evaluation-53/labels/front-left_MP4-0052_jpg.rf.a0f10c133efc38b3eb0acb0821aed3ca.txt (deflated 79%)\n",
            "  adding: content/Model-V5/Model-segment-evaluation-53/labels/front-left_MP4-0108_jpg.rf.4b96e275c9608aaf471e44be944445c5.txt (deflated 85%)\n",
            "  adding: content/Model-V5/Model-segment-evaluation-53/labels/front-left-NO20240903-152241-000876F_MP4-0133_jpg.rf.ccd32e7cea7ba77b0e82b8aa462aac7e.txt (deflated 79%)\n",
            "  adding: content/Model-V5/Model-segment-evaluation-53/labels/front-left-NO20240903-152241-000876F_MP4-0105_jpg.rf.4775c07d7ece88b6cce7ef3d53e64615.txt (deflated 75%)\n",
            "  adding: content/Model-V5/Model-segment-evaluation-53/labels/night-front-right-NO20240909-182940-000027F_MP4-0097_jpg.rf.f23b4739f39a69d1a4ce7627688241ae.txt (deflated 79%)\n",
            "  adding: content/Model-V5/Model-segment-evaluation-53/labels/front-left-NO20240909-144404-000349F_MP4-0075_jpg.rf.d841142bc7a4a020d407e93cf8b5598a.txt (deflated 76%)\n",
            "  adding: content/Model-V5/Model-segment-evaluation-53/labels/night-front-right-NO20240909-183540-000033F_MP4-0261_jpg.rf.0ceb292060295b109e5803a3666c6fba.txt (deflated 78%)\n",
            "  adding: content/Model-V5/Model-segment-evaluation-53/labels/v7_mp4-0030_jpg.rf.4e7e45e029ebb8f6e8580c1b5327cacd.txt (deflated 80%)\n",
            "  adding: content/Model-V5/Model-segment-evaluation-53/labels/front-right-NO20240903-144141-000835F_MP4-0144_jpg.rf.cc608c2c8d7a80cc5b12b3a0899cc67d.txt (deflated 79%)\n",
            "  adding: content/Model-V5/Model-segment-evaluation-53/labels/front-left-NO20240903-145041-000844F_MP4-0232_jpg.rf.986d74d49f8522fd64c667ba0ad5e474.txt (deflated 79%)\n",
            "  adding: content/Model-V5/Model-segment-evaluation-53/labels/front-left_MP4-0026_jpg.rf.7c8b39dbfa91a5bbd49616e97346a0ce.txt (deflated 84%)\n",
            "  adding: content/Model-V5/Model-segment-evaluation-53/labels/front-left-NO20240903-152241-000876F_MP4-0237_jpg.rf.6f57d87b6b0ad87dfcfd9219a431f353.txt (deflated 80%)\n",
            "  adding: content/Model-V5/Model-segment-evaluation-53/labels/front-left_MP4-0159_jpg.rf.dbf994671f58f1b8340318ebc2d457bf.txt (deflated 78%)\n",
            "  adding: content/Model-V5/Model-segment-evaluation-53/labels/front-right-NO20240903-143941-000833F_MP4-0041_jpg.rf.5bc546eaec890165bde60dc5dfea461e.txt (deflated 83%)\n",
            "  adding: content/Model-V5/Model-segment-evaluation-53/labels/cars-NO20240910-060525-000077F_MP4-0122_jpg.rf.08c82a36c1ef2b23edfcb27b775c8d60.txt (deflated 78%)\n",
            "  adding: content/Model-V5/Model-segment-evaluation-53/labels/front-right-NO20240903-144041-000834F_MP4-0122_jpg.rf.7fecd6484a1eb1f2996618800a971150.txt (deflated 77%)\n",
            "  adding: content/Model-V5/Model-segment-evaluation-53/labels/front-right-NO20240909-181240-000010F_MP4-0280_jpg.rf.21dc1448eb2e443b5fff0693eb92804b.txt (deflated 73%)\n",
            "  adding: content/Model-V5/Model-segment-evaluation-53/labels/front-right-NO20240909-181440-000012F_MP4-0004_jpg.rf.5fe6b7c6834cf89cb5858950aea46613.txt (deflated 82%)\n",
            "  adding: content/Model-V5/Model-segment-evaluation-53/labels/front-left-NO20240903-150741-000861F_MP4-0037_jpg.rf.5192c9a50a63c08d9c3830a946a9505c.txt (deflated 81%)\n",
            "  adding: content/Model-V5/Model-segment-evaluation-53/labels/front-left-NO20240903-152241-000876F_MP4-0195_jpg.rf.8b8a42c8a23f3cfd8c39de70f7456305.txt (deflated 79%)\n",
            "  adding: content/Model-V5/Model-segment-evaluation-53/labels/front-left_MP4-0223_jpg.rf.6df1bc120a0bb6117e12e727c800ac7f.txt (deflated 81%)\n",
            "  adding: content/Model-V5/Model-segment-evaluation-53/labels/front-left-NO20240903-150741-000861F_MP4-0128_jpg.rf.62191ea8350f58aefbfc92ce143f21be.txt (deflated 80%)\n",
            "  adding: content/Model-V5/Model-segment-evaluation-53/labels/front-left-NO20240903-145041-000844F_MP4-0287_jpg.rf.b6dc84bc250b99e6361fb41b37d079d4.txt (deflated 80%)\n",
            "  adding: content/Model-V5/Model-segment-evaluation-53/labels/front-left-NO20240903-145041-000844F_MP4-0197_jpg.rf.f8be1af791f54f7c2a3c4ad4e2427d53.txt (deflated 79%)\n",
            "  adding: content/Model-V5/Model-segment-evaluation-53/labels/NO20240917-143837-000243F_MP4-0022_jpg.rf.068d2019df45d5c91b3cd67bde86d313.txt (deflated 81%)\n",
            "  adding: content/Model-V5/Model-segment-evaluation-53/labels/front-left-NO20240909-145904-000364F_MP4-0024_jpg.rf.8e0ebc0340c9d8ede03b44a22ff468f5.txt (deflated 75%)\n",
            "  adding: content/Model-V5/Model-segment-evaluation-53/labels/front-left-NO20240903-145041-000844F_MP4-0290_jpg.rf.ec3e84281abb807eb2d412f2137fd4f8.txt (deflated 80%)\n",
            "  adding: content/Model-V5/Model-segment-evaluation-53/labels/front-right-NO20240903-144141-000835F_MP4-0211_jpg.rf.d627630ab0f11e96b74fd175ec55ae33.txt (deflated 76%)\n",
            "  adding: content/Model-V5/Model-segment-evaluation-53/labels/v5_mp4-0003_jpg.rf.8f636c0b8e8dea3c5562b88cffa97608.txt (deflated 80%)\n",
            "  adding: content/Model-V5/Model-segment-evaluation-53/labels/front-left_MP4-0054_jpg.rf.ec91b8d82224f822a630032aa9610da6.txt (deflated 82%)\n",
            "  adding: content/Model-V5/Model-segment-evaluation-53/labels/front-left-NO20240910-060225-000074F_MP4-0186_jpg.rf.890872dc320722a1e3ff18442ad7e9f7.txt (deflated 78%)\n",
            "  adding: content/Model-V5/Model-segment-evaluation-53/labels/cars-NO20240914-114048-000222F_MP4-0088_jpg.rf.325ceccbcbbdc26f0bc957c1cfefb95e.txt (deflated 79%)\n",
            "  adding: content/Model-V5/Model-segment-evaluation-53/labels/front-left-NO20240903-152241-000876F_MP4-0207_jpg.rf.75056cdba9d7435473c9b37a30ffcbe8.txt (deflated 77%)\n",
            "  adding: content/Model-V5/Model-segment-evaluation-53/labels/front-left-NO20240909-144104-000346F_MP4-0261_jpg.rf.24e83ec7f9a6ff9154ea6eb059b128ac.txt (deflated 76%)\n",
            "  adding: content/Model-V5/Model-segment-evaluation-53/labels/front-left-NO20240909-151104-000376F_MP4-0115_jpg.rf.29847eb5e4cdeb5d69fc511734f1001c.txt (deflated 76%)\n",
            "  adding: content/Model-V5/Model-segment-evaluation-53/labels/front-right-NO20240903-143941-000833F_MP4-0019_jpg.rf.16536bd1014b7a5e0442fb7f3dcd5574.txt (deflated 82%)\n",
            "  adding: content/Model-V5/Model-segment-evaluation-53/labels/front-left-NO20240909-143404-000339F_MP4-0044_jpg.rf.f722d86cdd433039d50ff7e72489d8a8.txt (deflated 81%)\n",
            "  adding: content/Model-V5/Model-segment-evaluation-53/labels/front-left-NO20240903-145441-000848F_MP4-0259_jpg.rf.d76bd2f4ecdfdfc7701778a84b14947b.txt (deflated 77%)\n",
            "  adding: content/Model-V5/Model-segment-evaluation-53/labels/front-left_MP4-0111_jpg.rf.8d2f625e1e4df4596d7286f6e56e0243.txt (deflated 81%)\n",
            "  adding: content/Model-V5/Model-segment-evaluation-53/labels/front-left_MP4-0098_jpg.rf.dd4b11093efb881696b1a8bafe734852.txt (deflated 84%)\n",
            "  adding: content/Model-V5/Model-segment-evaluation-53/labels/front-left_MP4-0153_jpg.rf.50836eea0e0d2d3a9be46e94e0582a55.txt (deflated 76%)\n",
            "  adding: content/Model-V5/Model-segment-evaluation-53/labels/front-left-NO20240903-145041-000844F_MP4-0086_jpg.rf.d533125c935736471125a6b6152a436d.txt (deflated 79%)\n",
            "  adding: content/Model-V5/Model-segment-evaluation-53/labels/front-left_MP4-0226_jpg.rf.7339c90a6835fd33288dc7b9adb9fc53.txt (deflated 81%)\n",
            "  adding: content/Model-V5/Model-segment-evaluation-53/labels/front-left-NO20240903-145541-000849F_MP4-0169_jpg.rf.bf92cc8180df85a3ad4def7c5131dc39.txt (deflated 76%)\n",
            "  adding: content/Model-V5/Model-segment-evaluation-53/labels/front-right-NO20240909-181640-000014F_MP4-0059_jpg.rf.612a0f2e25b5183b96a63e26fcb3a832.txt (deflated 75%)\n",
            "  adding: content/Model-V5/Model-segment-evaluation-53/labels/front-left-NO20240903-145041-000844F_MP4-0242_jpg.rf.03668987e9aaa507258df67bbe84fe0d.txt (deflated 78%)\n",
            "  adding: content/Model-V5/Model-segment-evaluation-53/labels/front-right-NO20240903-144141-000835F_MP4-0113_jpg.rf.c5d0a27070921f954f8fa98032675773.txt (deflated 83%)\n",
            "  adding: content/Model-V5/Model-segment-evaluation-53/labels/front-left-NO20240903-152241-000876F_MP4-0233_jpg.rf.88a98a2fc18f4602281686904985610c.txt (deflated 79%)\n",
            "  adding: content/Model-V5/Model-segment-evaluation-53/labels/front-left-NO20240903-152241-000876F_MP4-0227_jpg.rf.f531f934a7d0a79d87004ea1bb186c56.txt (deflated 79%)\n",
            "  adding: content/Model-V5/Model-segment-evaluation-53/labels/front-left-NO20240903-152241-000876F_MP4-0182_jpg.rf.37053718fa14aeb5a3dea5f855771cd0.txt (deflated 76%)\n",
            "  adding: content/Model-V5/Model-segment-evaluation-53/labels/front-left-NO20240903-145041-000844F_MP4-0220_jpg.rf.8ba4dcf009b8549c372a5a1bc2339e5d.txt (deflated 80%)\n",
            "  adding: content/Model-V5/Model-segment-evaluation-53/labels/NO20240909-181040-000008F_MP4-0188_jpg.rf.e43966d6d345f22482f7623a3c4eb552.txt (deflated 77%)\n",
            "  adding: content/Model-V5/Model-segment-evaluation-53/labels/front-left-NO20240903-152241-000876F_MP4-0132_jpg.rf.13268f8dcd7465cc49f7359e7bdcc156.txt (deflated 81%)\n",
            "  adding: content/Model-V5/Model-segment-evaluation-53/labels/cars-NO20240910-060525-000077F_MP4-0077_jpg.rf.f9b3f9f6f16ac88a5f7196aaa0008ac6.txt (deflated 77%)\n",
            "  adding: content/Model-V5/Model-segment-evaluation-53/labels/front-left-NO20240903-152241-000876F_MP4-0238_jpg.rf.a2375cf252efcae744a26fc840cc12d5.txt (deflated 79%)\n",
            "  adding: content/Model-V5/Model-segment-evaluation-53/labels/front-left-NO20240903-145041-000844F_MP4-0229_jpg.rf.bf67a5ca08eba72ac70607d132f843dd.txt (deflated 78%)\n",
            "  adding: content/Model-V5/Model-segment-evaluation-53/labels/front-left-NO20240903-145041-000844F_MP4-0082_jpg.rf.ee76ebe8593b7dcb4d7be18312c6c600.txt (deflated 80%)\n",
            "  adding: content/Model-V5/Model-segment-evaluation-53/labels/front-left-NO20240903-145141-000845F_MP4-0166_jpg.rf.d7cc01e40f81fe780ffb0c732b6a4b5f.txt (deflated 77%)\n",
            "  adding: content/Model-V5/Model-segment-evaluation-53/labels/front-left-NO20240903-145041-000844F_MP4-0243_jpg.rf.03af0e901a3249babd41edd1fbd94072.txt (deflated 78%)\n",
            "  adding: content/Model-V5/Model-segment-evaluation-53/labels/cars-NO20240914-112948-000211F_MP4-0028_jpg.rf.85f17cfe47aac3e1051197c55b464b2d.txt (deflated 78%)\n",
            "  adding: content/Model-V5/Model-segment-evaluation-53/labels/front-left-NO20240903-150741-000861F_MP4-0015_jpg.rf.60bf81400c953d3e2a188b7d91925ee7.txt (deflated 79%)\n",
            "  adding: content/Model-V5/Model-segment-evaluation-53/labels/NO20240917-143737-000242F_MP4-0037_jpg.rf.0df9aaf2c97763574b82effadb48e6f2.txt (deflated 81%)\n",
            "  adding: content/Model-V5/Model-segment-evaluation-53/labels/front-left-NO20240903-145441-000848F_MP4-0300_jpg.rf.e0a2701b3405399d827e3f0708ad4720.txt (deflated 77%)\n",
            "  adding: content/Model-V5/Model-segment-evaluation-53/labels/front-left_MP4-0231_jpg.rf.fa8b43f9a2af57422d7c7e271bf857b4.txt (deflated 82%)\n",
            "  adding: content/Model-V5/Model-segment-evaluation-53/labels/front-left-NO20240903-150741-000861F_MP4-0221_jpg.rf.b95bf461d5de598ce07fb236a03a59ab.txt (deflated 80%)\n",
            "  adding: content/Model-V5/Model-segment-evaluation-53/labels/front-left-NO20240903-145541-000849F_MP4-0196_jpg.rf.c8bf094cfbdba4c6cce9a52bc16e72bb.txt (deflated 78%)\n",
            "  adding: content/Model-V5/Model-segment-evaluation-53/labels/front-left-NO20240903-152241-000876F_MP4-0192_jpg.rf.3eb813c6ba84fe795dbb98b3cf35bc5e.txt (deflated 80%)\n",
            "  adding: content/Model-V5/Model-segment-evaluation-53/labels/night-front-right-NO20240909-183140-000029F_MP4-0162_jpg.rf.fd8ef850941e7275a8c5f5f0c26931f3.txt (deflated 81%)\n",
            "  adding: content/Model-V5/Model-segment-evaluation-53/labels/night-front-right-NO20240909-183740-000035F_MP4-0079_jpg.rf.e22aaf8d6e7004e84e5a18345903a926.txt (deflated 75%)\n",
            "  adding: content/Model-V5/Model-segment-evaluation-53/labels/front-right-NO20240903-143941-000833F_MP4-0125_jpg.rf.afe549b521352d50860b7a6968462117.txt (deflated 83%)\n",
            "  adding: content/Model-V5/Model-segment-evaluation-53/labels/v2_mp4-0002_jpg.rf.5728e41564085ab893737e9d7634f89d.txt (deflated 76%)\n",
            "  adding: content/Model-V5/Model-segment-evaluation-53/labels/front-left-NO20240908-145538-000141F_MP4-0123_jpg.rf.2198117428882e720b3cbae5a5238ea4.txt (deflated 78%)\n",
            "  adding: content/Model-V5/Model-segment-evaluation-53/labels/front-right-NO20240903-144141-000835F_MP4-0213_jpg.rf.3a0014ed7a90fe518e0d5f66fea7b613.txt (deflated 83%)\n",
            "  adding: content/Model-V5/Model-segment-evaluation-53/labels/front-left-NO20240903-145141-000845F_MP4-0035_jpg.rf.e56a2479a170a58cff6650bbccda20fb.txt (deflated 79%)\n",
            "  adding: content/Model-V5/Model-segment-evaluation-53/labels/front-left-NO20240903-145041-000844F_MP4-0085_jpg.rf.3e99afc8cbe402fed0dce23491966b3d.txt (deflated 79%)\n",
            "  adding: content/Model-V5/Model-segment-evaluation-53/labels/front-left-NO20240903-145141-000845F_MP4-0082_jpg.rf.3ab47903569d7bbfb9af461ab1e910e1.txt (deflated 80%)\n",
            "  adding: content/Model-V5/Model-segment-evaluation-53/labels/front-left-NO20240903-145541-000849F_MP4-0167_jpg.rf.3255c5ae471a36e628b50a0ca93b68d5.txt (deflated 77%)\n",
            "  adding: content/Model-V5/Model-segment-evaluation-53/labels/cars-NO20240914-114048-000222F_MP4-0001_jpg.rf.c4e768323ae9cf52c54cf1ff9c46d197.txt (deflated 80%)\n",
            "  adding: content/Model-V5/Model-segment-evaluation-53/labels/front-right-NO20240909-181340-000011F_MP4-0020_jpg.rf.c773e4a231cec01a0267b2055c704b3e.txt (deflated 75%)\n",
            "  adding: content/Model-V5/Model-segment-evaluation-53/labels/chery-cross_MP4-0045_jpg.rf.e9ea854e2966b8a5e31c942d8bc4b3c0.txt (deflated 79%)\n",
            "  adding: content/Model-V5/Model-segment-evaluation-53/labels/front-left-NO20240903-152241-000876F_MP4-0286_jpg.rf.9dfd5eecea9daf5db0c78e533fd5951f.txt (deflated 83%)\n",
            "  adding: content/Model-V5/Model-segment-evaluation-53/labels/front-left-NO20240903-145141-000845F_MP4-0168_jpg.rf.d512c5b84cad52d2c1f45c30fabb6e72.txt (deflated 78%)\n",
            "  adding: content/Model-V5/Model-segment-evaluation-53/labels/front-left-NO20240903-152241-000876F_MP4-0244_jpg.rf.082a7473da66d85701f13d208bc0059a.txt (deflated 75%)\n",
            "  adding: content/Model-V5/Model-segment-evaluation-53/labels/front-right-NO20240903-144041-000834F_MP4-0143_jpg.rf.461a2cd89a58f2d721356fd972e31d4c.txt (deflated 80%)\n",
            "  adding: content/Model-V5/Model-segment-evaluation-53/labels/front-left-NO20240903-145541-000849F_MP4-0009_jpg.rf.b3d4638fb71e18ba326f5e94ae10003c.txt (deflated 78%)\n",
            "  adding: content/Model-V5/Model-segment-evaluation-53/labels/cars-NO20240914-114048-000222F_MP4-0023_jpg.rf.024f0e8e1d67472e0dda1795edae4aaa.txt (deflated 81%)\n",
            "  adding: content/Model-V5/Model-segment-evaluation-53/labels/front-left-NO20240903-152241-000876F_MP4-0113_jpg.rf.92be0486bf0209de6d753e8e3953e9cc.txt (deflated 79%)\n",
            "  adding: content/Model-V5/Model-segment-evaluation-53/labels/front-left-NO20240903-152241-000876F_MP4-0158_jpg.rf.43269921becf06e9bf8e328edfae6cf7.txt (deflated 76%)\n",
            "  adding: content/Model-V5/Model-segment-evaluation-53/labels/front-left_MP4-0137_jpg.rf.0f7bb156754a1622fb900d31e6127da6.txt (deflated 81%)\n",
            "  adding: content/Model-V5/Model-segment-evaluation-53/labels/front-left_MP4-0104_jpg.rf.92ab1f7ca104f73dc7452d1b803d152c.txt (deflated 84%)\n",
            "  adding: content/Model-V5/Model-segment-evaluation-53/labels/front-left-NO20240903-145541-000849F_MP4-0068_jpg.rf.415bf31fa001e032f6f51688ea45c84e.txt (deflated 76%)\n",
            "  adding: content/Model-V5/Model-segment-evaluation-53/labels/night-front-right-NO20240909-182940-000027F_MP4-0033_jpg.rf.1d12df9f3223400b0a31320c12f4affc.txt (deflated 79%)\n",
            "  adding: content/Model-V5/Model-segment-evaluation-53/labels/front-left-NO20240903-145541-000849F_MP4-0222_jpg.rf.6294e3b8ee2e44aa759b0ec122cc2fb0.txt (deflated 78%)\n",
            "  adding: content/Model-V5/Model-segment-evaluation-53/labels/front-right-NO20240903-144141-000835F_MP4-0251_jpg.rf.11e1df7c0177b1d91c43c23355e1e358.txt (deflated 82%)\n",
            "  adding: content/Model-V5/Model-segment-evaluation-53/labels/front-left-NO20240903-152241-000876F_MP4-0058_jpg.rf.42fe1622e88bc749b340979e23fa1f3a.txt (deflated 74%)\n",
            "  adding: content/Model-V5/Model-segment-evaluation-53/labels/front-left-NO20240908-145538-000141F_MP4-0293_jpg.rf.daee96df573e46ce98891555fc5f9da2.txt (deflated 79%)\n",
            "  adding: content/Model-V5/Model-segment-evaluation-53/labels/front-left-NO20240903-145541-000849F_MP4-0004_jpg.rf.baa2dee1f530aeb0c1e633d5fc1faf59.txt (deflated 77%)\n",
            "  adding: content/Model-V5/Model-segment-evaluation-53/labels/front-left-NO20240903-145441-000848F_MP4-0117_jpg.rf.432302b6d2b0556c175736b58c8de1ed.txt (deflated 77%)\n",
            "  adding: content/Model-V5/Model-segment-evaluation-53/labels/front-left-NO20240903-152241-000876F_MP4-0111_jpg.rf.88087e7ff3c8a61cb78ec6aee2b23aea.txt (deflated 79%)\n",
            "  adding: content/Model-V5/Model-segment-evaluation-53/labels/front-left-NO20240903-145541-000849F_MP4-0189_jpg.rf.a5ab05de52e50f7079a3b8694485cabe.txt (deflated 77%)\n",
            "  adding: content/Model-V5/Model-segment-evaluation-53/labels/front-left-NO20240903-152241-000876F_MP4-0125_jpg.rf.ccd5f23b2c7897a8b559e15e590cff08.txt (deflated 81%)\n",
            "  adding: content/Model-V5/Model-segment-evaluation-53/labels/front-right-NO20240903-144141-000835F_MP4-0155_jpg.rf.2e065605b15fe21a727b5aa576b92b35.txt (deflated 79%)\n",
            "  adding: content/Model-V5/Model-segment-evaluation-53/labels/front-left_MP4-0072_jpg.rf.8d16534ca73a4567d185923281669368.txt (deflated 81%)\n",
            "  adding: content/Model-V5/Model-segment-evaluation-53/labels/front-left-NO20240903-145141-000845F_MP4-0147_jpg.rf.9311e1f5db7ca24e51afc96f1004c6fb.txt (deflated 79%)\n",
            "  adding: content/Model-V5/Model-segment-evaluation-53/labels/front-left-NO20240903-150741-000861F_MP4-0253_jpg.rf.7a338bc0903eb20b5049884a62f4dd47.txt (deflated 79%)\n",
            "  adding: content/Model-V5/Model-segment-evaluation-53/labels/front-left-NO20240903-145541-000849F_MP4-0100_jpg.rf.90619d5d72c2e7e0be475b2950e6dc03.txt (deflated 77%)\n",
            "  adding: content/Model-V5/Model-segment-evaluation-53/labels/front-right-NO20240903-144041-000834F_MP4-0154_jpg.rf.9df545750d4aeb8d0c09385ca529fb0f.txt (deflated 78%)\n",
            "  adding: content/Model-V5/Model-segment-evaluation-53/labels/v6_mp4-0006_jpg.rf.a338c53e319439e6d32859809fed2674.txt (deflated 78%)\n",
            "  adding: content/Model-V5/Model-segment-evaluation-53/labels/front-left-NO20240909-143204-000337F_MP4-0031_jpg.rf.0ce72c3181468fb7c17f62f6647cc982.txt (deflated 80%)\n",
            "  adding: content/Model-V5/Model-segment-evaluation-53/labels/front-left-NO20240903-152241-000876F_MP4-0036_jpg.rf.dec43073c7a9c97c158b54d4d6e2fb37.txt (deflated 78%)\n",
            "  adding: content/Model-V5/Model-segment-evaluation-53/labels/NO20240909-181040-000008F_MP4-0257_jpg.rf.5f0f886cf349b876449cda62fc2e3830.txt (deflated 82%)\n",
            "  adding: content/Model-V5/Model-segment-evaluation-53/labels/front-left-NO20240903-145141-000845F_MP4-0049_jpg.rf.5373230ab41e9620c4132b84e19316b5.txt (deflated 80%)\n",
            "  adding: content/Model-V5/Model-segment-evaluation-53/labels/front-left-NO20240908-145538-000141F_MP4-0125_jpg.rf.cced76b38223ca3b4db577c29b775a61.txt (deflated 78%)\n",
            "  adding: content/Model-V5/Model-segment-evaluation-53/labels/front-left-NO20240903-150741-000861F_MP4-0170_jpg.rf.83de6feb9c52e9bbbee30fb950a5f392.txt (deflated 80%)\n",
            "  adding: content/Model-V5/Model-segment-evaluation-53/labels/front-left-NO20240908-145538-000141F_MP4-0147_jpg.rf.42f8ed4eaf54e2ab8c75c693bd69c108.txt (deflated 78%)\n",
            "  adding: content/Model-V5/Model-segment-evaluation-53/labels/front-left-NO20240903-145441-000848F_MP4-0106_jpg.rf.996c34f316555cf3047f612d3d0a92e1.txt (deflated 76%)\n",
            "  adding: content/Model-V5/Model-segment-evaluation-53/labels/front-left_MP4-0106_jpg.rf.75081c7db4e74376361b49616a3e767a.txt (deflated 82%)\n",
            "  adding: content/Model-V5/Model-segment-evaluation-53/labels/front-left-NO20240903-145141-000845F_MP4-0132_jpg.rf.9846a021071827fec32a2fcee9988d65.txt (deflated 78%)\n",
            "  adding: content/Model-V5/Model-segment-evaluation-53/labels/front-left-NO20240909-143404-000339F_MP4-0059_jpg.rf.8474a87cc4bea298ca15d01d67003509.txt (deflated 78%)\n",
            "  adding: content/Model-V5/Model-segment-evaluation-53/labels/front-right-NO20240903-144141-000835F_MP4-0138_jpg.rf.97ba92a72c62b4a8c0874230e46eca92.txt (deflated 78%)\n",
            "  adding: content/Model-V5/Model-segment-evaluation-53/labels/front-left_MP4-0073_jpg.rf.13d98a3fb1e98173a5174f8fac56d6da.txt (deflated 81%)\n",
            "  adding: content/Model-V5/Model-segment-evaluation-53/labels/front-left-NO20240903-145141-000845F_MP4-0182_jpg.rf.c6e1b2ed8cc00857ddd3c15736c2ee50.txt (deflated 74%)\n",
            "  adding: content/Model-V5/Model-segment-evaluation-53/labels/front-left-NO20240903-150741-000861F_MP4-0182_jpg.rf.8c90b1dd9a1fb92e32c1dabb3d466fbb.txt (deflated 81%)\n",
            "  adding: content/Model-V5/Model-segment-evaluation-53/labels/front-left_MP4-0199_jpg.rf.9ca598fa74d4aa0ba57c71fa41ec0b9a.txt (deflated 81%)\n",
            "  adding: content/Model-V5/Model-segment-evaluation-53/labels/front-left-NO20240903-152241-000876F_MP4-0033_jpg.rf.72298031e304df1511cd352a70c4670c.txt (deflated 77%)\n",
            "  adding: content/Model-V5/Model-segment-evaluation-53/labels/front-left-NO20240903-145441-000848F_MP4-0084_jpg.rf.9ac1afa85d4eff6a6ccdfa2f7244f3f6.txt (deflated 74%)\n",
            "  adding: content/Model-V5/Model-segment-evaluation-53/labels/front-left-NO20240903-150741-000861F_MP4-0080_jpg.rf.9f5d6c9bb851b891125aa708f8a95b76.txt (deflated 80%)\n",
            "  adding: content/Model-V5/Model-segment-evaluation-53/labels/front-left-NO20240903-145141-000845F_MP4-0289_jpg.rf.368726cf2e99be64b3d95e3612625592.txt (deflated 78%)\n",
            "  adding: content/Model-V5/Model-segment-evaluation-53/labels/front-left-NO20240909-151104-000376F_MP4-0112_jpg.rf.1ef7e3c023ba87f886847a7ec4b1c8ea.txt (deflated 80%)\n",
            "  adding: content/Model-V5/Model-segment-evaluation-53/labels/front-right-NO20240903-143941-000833F_MP4-0246_jpg.rf.6b9549c7622f3e6ab5a882a424b951d5.txt (deflated 78%)\n",
            "  adding: content/Model-V5/Model-segment-evaluation-53/labels/front-right-NO20240903-143941-000833F_MP4-0027_jpg.rf.19c336e90dfbe8115dd31ba2ebf763b0.txt (deflated 81%)\n",
            "  adding: content/Model-V5/Model-segment-evaluation-53/labels/front-left-NO20240903-145141-000845F_MP4-0121_jpg.rf.a8c46aa16af05b5a1adedab4e9efe3a6.txt (deflated 77%)\n",
            "  adding: content/Model-V5/Model-segment-evaluation-53/labels/front-left-NO20240903-152241-000876F_MP4-0166_jpg.rf.88e0ddbd62ceb6f27cfa9fc7eb953bf5.txt (deflated 81%)\n",
            "  adding: content/Model-V5/Model-segment-evaluation-53/labels/front-left-NO20240903-145041-000844F_MP4-0224_jpg.rf.48be6698ab32eef9531f7e92e071a22b.txt (deflated 78%)\n",
            "  adding: content/Model-V5/Model-segment-evaluation-53/labels/front-left-NO20240908-145538-000141F_MP4-0228_jpg.rf.e3694a4db83261d36c904e53dd770660.txt (deflated 77%)\n",
            "  adding: content/Model-V5/Model-segment-evaluation-53/labels/front-left-NO20240903-145041-000844F_MP4-0285_jpg.rf.4aa2857a06b2d0516c69ed9bf866756e.txt (deflated 75%)\n",
            "  adding: content/Model-V5/Model-segment-evaluation-53/labels/front-left-NO20240903-150741-000861F_MP4-0003_jpg.rf.e6ff1b0f510822c6b251f6db46387ed2.txt (deflated 80%)\n",
            "  adding: content/Model-V5/Model-segment-evaluation-53/labels/front-left-NO20240903-145141-000845F_MP4-0149_jpg.rf.66b47df7410f8de2a61055573e9b8c9d.txt (deflated 77%)\n",
            "  adding: content/Model-V5/Model-segment-evaluation-53/labels/front-left-NO20240903-145041-000844F_MP4-0198_jpg.rf.a8b5838683773973e25aa9edeaa44849.txt (deflated 80%)\n",
            "  adding: content/Model-V5/Model-segment-evaluation-53/labels/front-left-NO20240903-145541-000849F_MP4-0109_jpg.rf.1597bfcb450e437bbe67e5bf0870f736.txt (deflated 79%)\n",
            "  adding: content/Model-V5/Model-segment-evaluation-53/labels/cars-NO20240914-114048-000222F_MP4-0118_jpg.rf.0aaff203a4f752281b4bf57c7ecf3354.txt (deflated 80%)\n",
            "  adding: content/Model-V5/Model-segment-evaluation-53/labels/front-left-NO20240903-152241-000876F_MP4-0106_jpg.rf.1506354911148f1dfec075ef210b261d.txt (deflated 75%)\n",
            "  adding: content/Model-V5/Model-segment-evaluation-53/labels/front-left_MP4-0217_jpg.rf.c9cc0bd79446069f44393101d25d4b1b.txt (deflated 81%)\n",
            "  adding: content/Model-V5/Model-segment-evaluation-53/labels/v6-2_mp4-0003_jpg.rf.5fff748e55b0125ec963637041cd744a.txt (deflated 79%)\n",
            "  adding: content/Model-V5/Model-segment-evaluation-53/labels/front-left-NO20240903-145541-000849F_MP4-0032_jpg.rf.568c16afe91f47e16bc311b056da5825.txt (deflated 80%)\n",
            "  adding: content/Model-V5/Model-segment-evaluation-53/labels/front-left-NO20240903-145041-000844F_MP4-0162_jpg.rf.b139007c24362f11439dd10c21838dca.txt (deflated 78%)\n",
            "  adding: content/Model-V5/Model-segment-evaluation-53/labels/front-right-NO20240903-144141-000835F_MP4-0185_jpg.rf.499f40bdee523b418ee53b919526fcb4.txt (deflated 78%)\n",
            "  adding: content/Model-V5/Model-segment-evaluation-53/labels/cars-NO20240914-112948-000211F_MP4-0063_jpg.rf.d5ae315e6052985d72c2653b460034dd.txt (deflated 77%)\n",
            "  adding: content/Model-V5/Model-segment-evaluation-53/labels/front-left_MP4-0142_jpg.rf.fd9527a6f5b58c31efbe2813b88fecb8.txt (deflated 78%)\n",
            "  adding: content/Model-V5/Model-segment-evaluation-53/labels/v1_mp4-0039_jpg.rf.d5f99b9eeb6a416f07651f0d936280fc.txt (deflated 76%)\n",
            "  adding: content/Model-V5/Model-segment-evaluation-53/labels/front-left-NO20240909-144004-000345F_MP4-0170_jpg.rf.4adf9c96f0b73aabb51ff2b6efcdaecb.txt (deflated 79%)\n",
            "  adding: content/Model-V5/Model-segment-evaluation-53/labels/front-right-NO20240903-143941-000833F_MP4-0262_jpg.rf.029acaf2966bebb1757c9dd8cbcb9995.txt (deflated 80%)\n",
            "  adding: content/Model-V5/Model-segment-evaluation-53/labels/NO20240909-181040-000008F_MP4-0077_jpg.rf.00a1e40eb06d0a0e40b5db19fa1bc5a1.txt (deflated 79%)\n",
            "  adding: content/Model-V5/Model-segment-evaluation-53/labels/cars-NO20240914-114048-000222F_MP4-0252_jpg.rf.375dd5b9349ed4ef9f9d0641c18f2abb.txt (deflated 79%)\n",
            "  adding: content/Model-V5/Model-segment-evaluation-53/labels/front-left-NO20240903-145041-000844F_MP4-0213_jpg.rf.b9e3e066485e61abe6ab20d6a9ff90d2.txt (deflated 81%)\n",
            "  adding: content/Model-V5/Model-segment-evaluation-53/labels/front-left-NO20240903-145541-000849F_MP4-0271_jpg.rf.3aa63b72e1c0d2e687ffbebead52ad8f.txt (deflated 77%)\n",
            "  adding: content/Model-V5/Model-segment-evaluation-53/labels/front-left-NO20240903-152241-000876F_MP4-0282_jpg.rf.a48ea4b3813b2445441ac0ea48678e29.txt (deflated 76%)\n",
            "  adding: content/Model-V5/Model-segment-evaluation-53/labels/front-left-NO20240903-145141-000845F_MP4-0213_jpg.rf.e1015f039826748e4e548f898432df2f.txt (deflated 80%)\n",
            "  adding: content/Model-V5/Model-segment-evaluation-53/labels/front-left-NO20240903-150741-000861F_MP4-0096_jpg.rf.f4b20d16711f143782c0bc114b04935a.txt (deflated 81%)\n",
            "  adding: content/Model-V5/Model-segment-evaluation-53/labels/front-left-NO20240903-152241-000876F_MP4-0126_jpg.rf.3cf715ede0dda5e954e0ae4affe6892d.txt (deflated 80%)\n",
            "  adding: content/Model-V5/Model-segment-evaluation-53/labels/front-right-NO20240903-144041-000834F_MP4-0076_jpg.rf.027dc976efda9d4181f60257647dc155.txt (deflated 79%)\n",
            "  adding: content/Model-V5/Model-segment-evaluation-53/labels/NO20240909-181040-000008F_MP4-0173_jpg.rf.8395a2c25fa1ea1dd8f15579acea7a53.txt (deflated 78%)\n",
            "  adding: content/Model-V5/Model-segment-evaluation-53/labels/NO20240917-143837-000243F_MP4-0026_jpg.rf.f463cff2daeb09b24ff3330b99c0f889.txt (deflated 77%)\n",
            "  adding: content/Model-V5/Model-segment-evaluation-53/labels/front-left-NO20240903-145041-000844F_MP4-0161_jpg.rf.1e2952ea0daa33e02a9c4d74bfa60bf3.txt (deflated 78%)\n",
            "  adding: content/Model-V5/Model-segment-evaluation-53/labels/front-right-NO20240903-143941-000833F_MP4-0151_jpg.rf.70bf837b8926b5b9d45f2222bca55454.txt (deflated 79%)\n",
            "  adding: content/Model-V5/Model-segment-evaluation-53/labels/front-left-NO20240903-145141-000845F_MP4-0005_jpg.rf.ed4a94cd6b086b95c69e8797f6ea449b.txt (deflated 80%)\n",
            "  adding: content/Model-V5/Model-segment-evaluation-53/labels/front-right-NO20240903-144141-000835F_MP4-0121_jpg.rf.65f27e59c8e469f159b91cab145bf246.txt (deflated 81%)\n",
            "  adding: content/Model-V5/Model-segment-evaluation-53/labels/front-left-NO20240903-145041-000844F_MP4-0236_jpg.rf.db431e538a39a15db490b3846838519d.txt (deflated 77%)\n",
            "  adding: content/Model-V5/Model-segment-evaluation-53/labels/front-left-NO20240909-144404-000349F_MP4-0027_jpg.rf.1aadcc097f9a2a2f815837a13352c819.txt (deflated 75%)\n",
            "  adding: content/Model-V5/Model-segment-evaluation-53/labels/front-left_MP4-0181_jpg.rf.671f167e3d5fcd772c1e0090080ca33e.txt (deflated 81%)\n",
            "  adding: content/Model-V5/Model-segment-evaluation-53/labels/front-right-NO20240909-181440-000012F_MP4-0012_jpg.rf.8e2ef982b23ccf5a2ad3cc31fbcd6e32.txt (deflated 78%)\n",
            "  adding: content/Model-V5/Model-segment-evaluation-53/labels/front-left-NO20240903-150741-000861F_MP4-0074_jpg.rf.b336b383ba247da4887a59150ad7f615.txt (deflated 80%)\n",
            "  adding: content/Model-V5/Model-segment-evaluation-53/labels/NO20240909-181040-000008F_MP4-0150_jpg.rf.d03a83c6c636e5b9052246d5127f8f8e.txt (deflated 81%)\n",
            "  adding: content/Model-V5/Model-segment-evaluation-53/labels/front-left-NO20240909-143204-000337F_MP4-0141_jpg.rf.df671265d8dfe139a2aba9fbcf67ab69.txt (deflated 82%)\n",
            "  adding: content/Model-V5/Model-segment-evaluation-53/labels/front-right-NO20240903-144141-000835F_MP4-0150_jpg.rf.71a1cc8121da9be0c49da337ba42ccca.txt (deflated 79%)\n",
            "  adding: content/Model-V5/Model-segment-evaluation-53/labels/front-left-NO20240903-145541-000849F_MP4-0265_jpg.rf.fe5697aa22e358a28ab79c47a7f37ebe.txt (deflated 75%)\n",
            "  adding: content/Model-V5/Model-segment-evaluation-53/labels/front-left-NO20240903-150741-000861F_MP4-0021_jpg.rf.5c9d7f81c84fd72b149572cc831bb627.txt (deflated 80%)\n",
            "  adding: content/Model-V5/Model-segment-evaluation-53/labels/front-right-NO20240903-143941-000833F_MP4-0238_jpg.rf.9b213a24b0412852bf5b6c89ecd484a6.txt (deflated 79%)\n",
            "  adding: content/Model-V5/Model-segment-evaluation-53/labels/front-left-NO20240903-152241-000876F_MP4-0098_jpg.rf.c75516d9dcf68695b03ae639b3d02732.txt (deflated 75%)\n",
            "  adding: content/Model-V5/Model-segment-evaluation-53/labels/front-left_MP4-0004_jpg.rf.0187dcf76008b3e16df4c6cdb97ea84d.txt (deflated 78%)\n",
            "  adding: content/Model-V5/Model-segment-evaluation-53/labels/front-left-NO20240903-152241-000876F_MP4-0156_jpg.rf.9029732592a98720b89eb955c128e5a7.txt (deflated 78%)\n",
            "  adding: content/Model-V5/Model-segment-evaluation-53/labels/front-left-NO20240903-145141-000845F_MP4-0069_jpg.rf.74c8c0b1b7e24465d5c864067b55c96c.txt (deflated 77%)\n",
            "  adding: content/Model-V5/Model-segment-evaluation-53/labels/front-left-NO20240903-145041-000844F_MP4-0223_jpg.rf.4cb8a2a5a752665e7677308ec5f8e5e3.txt (deflated 79%)\n",
            "  adding: content/Model-V5/Model-segment-evaluation-53/labels/front-left-NO20240909-150404-000369F_MP4-0015_jpg.rf.30d57f45b29ef9b89976f9feb7d44996.txt (deflated 76%)\n",
            "  adding: content/Model-V5/Model-segment-evaluation-53/labels/front-right-NO20240909-181340-000011F_MP4-0074_jpg.rf.c3c143759c9969d65a2cbd1634466355.txt (deflated 81%)\n",
            "  adding: content/Model-V5/Model-segment-evaluation-53/labels/front-left-NO20240903-145141-000845F_MP4-0036_jpg.rf.2db994f3c308d22e1a06be5da8acb527.txt (deflated 79%)\n",
            "  adding: content/Model-V5/Model-segment-evaluation-53/labels/front-left-NO20240903-145541-000849F_MP4-0179_jpg.rf.64cb736fd84fc5ed59718170c22e7dbd.txt (deflated 75%)\n",
            "  adding: content/Model-V5/Model-segment-evaluation-53/labels/front-left-NO20240903-145441-000848F_MP4-0284_jpg.rf.5ddbbc7cd9327febe9359bd94ac0829a.txt (deflated 80%)\n",
            "  adding: content/Model-V5/Model-segment-evaluation-53/labels/front-left_MP4-0126_jpg.rf.1bc3a824c8143c4e93ff1bc7fa03df30.txt (deflated 83%)\n",
            "  adding: content/Model-V5/Model-segment-evaluation-53/labels/front-left-NO20240903-145541-000849F_MP4-0112_jpg.rf.9995aae18acefb94a2374a78e9d0005e.txt (deflated 76%)\n",
            "  adding: content/Model-V5/Model-segment-evaluation-53/labels/front-left-NO20240903-152241-000876F_MP4-0277_jpg.rf.e27d809a68adab57cd333ba9ee94334c.txt (deflated 77%)\n",
            "  adding: content/Model-V5/Model-segment-evaluation-53/labels/front-left-NO20240903-145041-000844F_MP4-0185_jpg.rf.ff76529d5983c15755553d412acdc0b5.txt (deflated 79%)\n",
            "  adding: content/Model-V5/Model-segment-evaluation-53/labels/front-left-NO20240909-143904-000344F_MP4-0238_jpg.rf.88c8ec2bb66eaf94df827f9712d4b57c.txt (deflated 81%)\n",
            "  adding: content/Model-V5/Model-segment-evaluation-53/labels/front-left-NO20240903-150741-000861F_MP4-0218_jpg.rf.e1cda255364ec0fde738b58b04a13487.txt (deflated 80%)\n",
            "  adding: content/Model-V5/Model-segment-evaluation-53/labels/front-left-NO20240903-145141-000845F_MP4-0041_jpg.rf.681c443a53e07f2bfeeee6701f7e946b.txt (deflated 78%)\n",
            "  adding: content/Model-V5/Model-segment-evaluation-53/labels/front-left-NO20240903-150741-000861F_MP4-0186_jpg.rf.70bb90ce889e2bd6e901831a95c49ace.txt (deflated 82%)\n",
            "  adding: content/Model-V5/Model-segment-evaluation-53/labels/front-left-NO20240903-152241-000876F_MP4-0144_jpg.rf.72a850125bca06db5cb8b2fcfbf007e5.txt (deflated 82%)\n",
            "  adding: content/Model-V5/Model-segment-evaluation-53/labels/front-left_MP4-0060_jpg.rf.74b4020a4da9e29a484c9edaaa01f572.txt (deflated 79%)\n",
            "  adding: content/Model-V5/Model-segment-evaluation-53/labels/front-left-NO20240909-144104-000346F_MP4-0014_jpg.rf.745448ce82e0929ce40f6cdd33cee81b.txt (deflated 78%)\n",
            "  adding: content/Model-V5/Model-segment-evaluation-53/labels/front-left-NO20240903-145141-000845F_MP4-0254_jpg.rf.3a040759186b073c8a5f30941a67ea3e.txt (deflated 79%)\n",
            "  adding: content/Model-V5/Model-segment-evaluation-53/labels/front-left_MP4-0213_jpg.rf.5571737281de060274ddb38141b8de8b.txt (deflated 78%)\n",
            "  adding: content/Model-V5/Model-segment-evaluation-53/labels/night-front-right-NO20240909-183440-000032F_MP4-0037_jpg.rf.0330e1e43750c211e76114c81e3ab658.txt (deflated 79%)\n",
            "  adding: content/Model-V5/Model-segment-evaluation-53/labels/front-right-NO20240903-143941-000833F_MP4-0095_jpg.rf.5deb6bebed9e18573c6eba48dac38c53.txt (deflated 77%)\n",
            "  adding: content/Model-V5/Model-segment-evaluation-53/labels/front-left-NO20240903-150741-000861F_MP4-0242_jpg.rf.c35f45f85fbb14c24ab168990b8a1274.txt (deflated 80%)\n",
            "  adding: content/Model-V5/Model-segment-evaluation-53/labels/front-right-NO20240903-144141-000835F_MP4-0214_jpg.rf.1c22aa875220420fa2fece214a999734.txt (deflated 84%)\n",
            "  adding: content/Model-V5/Model-segment-evaluation-53/labels/front-left-NO20240909-144404-000349F_MP4-0195_jpg.rf.bfd16500462df9a05f18485937a697fc.txt (deflated 83%)\n",
            "  adding: content/Model-V5/Model-segment-evaluation-53/labels/front-left-NO20240903-145141-000845F_MP4-0077_jpg.rf.026d74a1fa96eb3455afda4e738e83fd.txt (deflated 76%)\n",
            "  adding: content/Model-V5/Model-segment-evaluation-53/labels/front-left-NO20240903-145141-000845F_MP4-0115_jpg.rf.29eea417258d560010ce0e67ac5aed7e.txt (deflated 78%)\n",
            "  adding: content/Model-V5/Model-segment-evaluation-53/labels/front-left-NO20240909-150504-000370F_MP4-0165_jpg.rf.f8f18000d6c2a298413581137baa8849.txt (deflated 79%)\n",
            "  adding: content/Model-V5/Model-segment-evaluation-53/labels/front-left-NO20240908-145538-000141F_MP4-0239_jpg.rf.e0b7c7f8389b82c10ddb56cfc74045e9.txt (deflated 82%)\n",
            "  adding: content/Model-V5/Model-segment-evaluation-53/labels/front-left-NO20240909-143304-000338F_MP4-0210_jpg.rf.a1517df1daeb679df60037578df19c51.txt (deflated 75%)\n",
            "  adding: content/Model-V5/Model-segment-evaluation-53/labels/v5_mp4-0068_jpg.rf.65c4bbda4856307577e3cb2d5960211a.txt (deflated 79%)\n",
            "  adding: content/Model-V5/Model-segment-evaluation-53/labels/front-left-NO20240903-150741-000861F_MP4-0297_jpg.rf.0e825f19618545171aec62f2fce0752f.txt (deflated 81%)\n",
            "  adding: content/Model-V5/Model-segment-evaluation-53/labels/front-left-NO20240903-145041-000844F_MP4-0168_jpg.rf.46f9629e2169368de8bd5e0c67717789.txt (deflated 76%)\n",
            "  adding: content/Model-V5/Model-segment-evaluation-53/labels/front-left-NO20240903-145541-000849F_MP4-0023_jpg.rf.c2052ef76659a632cf695f38f129a56a.txt (deflated 80%)\n",
            "  adding: content/Model-V5/Model-segment-evaluation-53/labels/front-left-NO20240910-064125-000113F_MP4-0255_jpg.rf.9fda8716da8eb0d66edc326e535646af.txt (deflated 80%)\n",
            "  adding: content/Model-V5/Model-segment-evaluation-53/labels/front-left-NO20240903-150741-000861F_MP4-0195_jpg.rf.629e434e0d8029b0de6bea1d921c0c26.txt (deflated 81%)\n",
            "  adding: content/Model-V5/Model-segment-evaluation-53/labels/front-left-NO20240909-144104-000346F_MP4-0155_jpg.rf.512b6a83223e1526199fd5d8b187fa34.txt (deflated 82%)\n",
            "  adding: content/Model-V5/Model-segment-evaluation-53/labels/front-left-NO20240903-152241-000876F_MP4-0155_jpg.rf.f4d1bf5609d2f7bf654ae5356cdc3212.txt (deflated 78%)\n",
            "  adding: content/Model-V5/Model-segment-evaluation-53/labels/front-right-NO20240909-181340-000011F_MP4-0029_jpg.rf.3d8daab35f424a3397d1d60038b8d36d.txt (deflated 80%)\n",
            "  adding: content/Model-V5/Model-segment-evaluation-53/labels/cars-NO20240914-114048-000222F_MP4-0219_jpg.rf.41e0e4cee693ae7d0e656b6e0dbb34ec.txt (deflated 81%)\n",
            "  adding: content/Model-V5/Model-segment-evaluation-53/labels/NO20240917-143737-000242F_MP4-0026_jpg.rf.a7cef87cbf1ce48d544e800fcccd1772.txt (deflated 83%)\n",
            "  adding: content/Model-V5/Model-segment-evaluation-53/labels/front-left_MP4-0030_jpg.rf.73037ff9a75b0b4c47e1559ae79a658d.txt (deflated 79%)\n",
            "  adding: content/Model-V5/Model-segment-evaluation-53/labels/v6_mp4-0005_jpg.rf.71aa77378446ba2954e0fb85f02f1af9.txt (deflated 79%)\n",
            "  adding: content/Model-V5/Model-segment-evaluation-53/labels/front-right-NO20240903-143941-000833F_MP4-0079_jpg.rf.26a1bcaf571a3e2f296c1691a62f40cf.txt (deflated 81%)\n",
            "  adding: content/Model-V5/Model-segment-evaluation-53/labels/front-left-NO20240903-152241-000876F_MP4-0291_jpg.rf.70de3cad8eaccaa7491da03fba672ec6.txt (deflated 83%)\n",
            "  adding: content/Model-V5/Model-segment-evaluation-53/labels/front-left-NO20240903-152241-000876F_MP4-0173_jpg.rf.8228998cbcf8ab2c67a0faaa331b8dd1.txt (deflated 82%)\n",
            "  adding: content/Model-V5/Model-segment-evaluation-53/labels/front-left-NO20240903-145141-000845F_MP4-0113_jpg.rf.d2a75cb0ccc5abbd6709043e6abca666.txt (deflated 77%)\n",
            "  adding: content/Model-V5/Model-segment-evaluation-53/labels/front-left-NO20240903-152241-000876F_MP4-0116_jpg.rf.6484e9839a234cc2358308a8241ea9f7.txt (deflated 81%)\n",
            "  adding: content/Model-V5/Model-segment-evaluation-53/labels/front-left-NO20240903-150741-000861F_MP4-0240_jpg.rf.21fa1a0498935854754537ee7fe484d4.txt (deflated 78%)\n",
            "  adding: content/Model-V5/Model-segment-evaluation-53/labels/front-left-NO20240903-145541-000849F_MP4-0234_jpg.rf.9444c301c1717dbc13373fd71572e6ad.txt (deflated 74%)\n",
            "  adding: content/Model-V5/Model-segment-evaluation-53/labels/night-front-right-NO20240909-182940-000027F_MP4-0082_jpg.rf.c6123a0f84ed8a975e104e38019ae852.txt (deflated 80%)\n",
            "  adding: content/Model-V5/Model-segment-evaluation-53/labels/front-left-NO20240903-150741-000861F_MP4-0116_jpg.rf.d55910f84726be36e582acb181a06097.txt (deflated 80%)\n",
            "  adding: content/Model-V5/Model-segment-evaluation-53/labels/front-left-NO20240903-152241-000876F_MP4-0250_jpg.rf.a41404b6d78cc0ef9fab40f62540ebcd.txt (deflated 80%)\n",
            "  adding: content/Model-V5/Model-segment-evaluation-53/labels/front-left-NO20240903-150741-000861F_MP4-0057_jpg.rf.9f4f66ddc98637d209dc94339b70227c.txt (deflated 79%)\n",
            "  adding: content/Model-V5/Model-segment-evaluation-53/labels/front-left-NO20240903-145441-000848F_MP4-0285_jpg.rf.9fd55bb13063d335f035780829c82e76.txt (deflated 81%)\n",
            "  adding: content/Model-V5/Model-segment-evaluation-53/labels/front-left-NO20240909-145704-000362F_MP4-0000_jpg.rf.f0607a9ee0f3a01591f5fee2f80c8042.txt (deflated 77%)\n",
            "  adding: content/Model-V5/Model-segment-evaluation-53/labels/front-right-NO20240903-144141-000835F_MP4-0174_jpg.rf.c5241c88ddac7eb2c00d3df4cc9fd0e2.txt (deflated 78%)\n",
            "  adding: content/Model-V5/Model-segment-evaluation-53/labels/front-right-NO20240903-143941-000833F_MP4-0221_jpg.rf.bb929620e652b8b96315cef35d87d390.txt (deflated 78%)\n",
            "  adding: content/Model-V5/Model-segment-evaluation-53/labels/front-left_MP4-0018_jpg.rf.855b26b49268a218a3b2d96fe58c73b6.txt (deflated 82%)\n",
            "  adding: content/Model-V5/Model-segment-evaluation-53/labels/front-right-NO20240909-181240-000010F_MP4-0176_jpg.rf.b0a75743aa7bf66aad11c2e5989f9d6e.txt (deflated 82%)\n",
            "  adding: content/Model-V5/Model-segment-evaluation-53/labels/front-left-NO20240903-152241-000876F_MP4-0103_jpg.rf.dd3ba76ec50f18b6f754d8855799a12c.txt (deflated 77%)\n",
            "  adding: content/Model-V5/Model-segment-evaluation-53/labels/front-left-NO20240903-145041-000844F_MP4-0186_jpg.rf.7e39c4ee00abf0320234d8ddbd77d3f7.txt (deflated 78%)\n",
            "  adding: content/Model-V5/Model-segment-evaluation-53/labels/front-left_MP4-0099_jpg.rf.c4733e7b75508da2476a1bd9fa89650b.txt (deflated 86%)\n",
            "  adding: content/Model-V5/Model-segment-evaluation-53/labels/front-left-NO20240903-145141-000845F_MP4-0019_jpg.rf.427ba1bd66e7e43d02b87d0d1a3c6202.txt (deflated 79%)\n",
            "  adding: content/Model-V5/Model-segment-evaluation-53/labels/front-left_MP4-0001_jpg.rf.243bf82fece6a095411dd4db5a6913a9.txt (deflated 79%)\n",
            "  adding: content/Model-V5/Model-segment-evaluation-53/labels/v2_mp4-0007_jpg.rf.6ba49c41f9360fcc81b49380f3980f09.txt (deflated 75%)\n",
            "  adding: content/Model-V5/Model-segment-evaluation-53/labels/front-left_MP4-0049_jpg.rf.83ef22b70a6d12169cc13d85ed3a57da.txt (deflated 78%)\n",
            "  adding: content/Model-V5/Model-segment-evaluation-53/labels/front-left-NO20240903-152241-000876F_MP4-0011_jpg.rf.8ece0050ee9b6c09f4168ee077494a8c.txt (deflated 81%)\n",
            "  adding: content/Model-V5/Model-segment-evaluation-53/labels/night-front-right-NO20240909-183140-000029F_MP4-0034_jpg.rf.9a13f63f5b1f82b6ecaa453bcbbc26bc.txt (deflated 76%)\n",
            "  adding: content/Model-V5/Model-segment-evaluation-53/labels/front-left-NO20240903-145141-000845F_MP4-0065_jpg.rf.df2b81416e25ca1f27971d168854d773.txt (deflated 87%)\n",
            "  adding: content/Model-V5/Model-segment-evaluation-53/labels/front-left-NO20240903-150741-000861F_MP4-0027_jpg.rf.afd005d2feabd03e9c97449fe95c0ce8.txt (deflated 80%)\n",
            "  adding: content/Model-V5/Model-segment-evaluation-53/labels/night-front-right-NO20240909-183140-000029F_MP4-0173_jpg.rf.ec4aa4badf81e1cf95a47b782533c42f.txt (deflated 78%)\n",
            "  adding: content/Model-V5/Model-segment-evaluation-53/labels/front-left-NO20240903-145141-000845F_MP4-0084_jpg.rf.d93ebcceb6eabcebda8280d20070aa37.txt (deflated 81%)\n",
            "  adding: content/Model-V5/Model-segment-evaluation-53/labels/front-left_MP4-0168_jpg.rf.1b471d9590dec9debaf802d0bb8dbaba.txt (deflated 78%)\n",
            "  adding: content/Model-V5/Model-segment-evaluation-53/labels/v2_mp4-0018_jpg.rf.85ed0c6aefb9483dbcd21793df8fc606.txt (deflated 78%)\n",
            "  adding: content/Model-V5/Model-segment-evaluation-53/labels/NO20240917-144137-000246F_MP4-0016_jpg.rf.430e628a57afceaa045e355b6cf7faa8.txt (deflated 80%)\n",
            "  adding: content/Model-V5/Model-segment-evaluation-53/labels/front-left-NO20240903-145141-000845F_MP4-0145_jpg.rf.c63f1c2b8f7c29401c11114c7453ccf7.txt (deflated 79%)\n",
            "  adding: content/Model-V5/Model-segment-evaluation-53/labels/front-left-NO20240903-145541-000849F_MP4-0010_jpg.rf.634a39fa640ab2c0762093cd82ae8cf1.txt (deflated 77%)\n",
            "  adding: content/Model-V5/Model-segment-evaluation-53/labels/front-left-NO20240903-152241-000876F_MP4-0010_jpg.rf.6672e9ed0709c954ead49ee57b120532.txt (deflated 81%)\n",
            "  adding: content/Model-V5/Model-segment-evaluation-53/labels/front-left-NO20240903-145041-000844F_MP4-0300_jpg.rf.c29549b26d4835294bfcf89d23863011.txt (deflated 79%)\n",
            "  adding: content/Model-V5/Model-segment-evaluation-53/labels/front-left-NO20240903-150741-000861F_MP4-0030_jpg.rf.82f50dc2727298e161b688eff8585c62.txt (deflated 79%)\n",
            "  adding: content/Model-V5/Model-segment-evaluation-53/labels/front-left-NO20240903-145041-000844F_MP4-0278_jpg.rf.9eae8c1657536a9ebe3f454a50ca6103.txt (deflated 79%)\n",
            "  adding: content/Model-V5/Model-segment-evaluation-53/labels/front-left-NO20240903-145041-000844F_MP4-0120_jpg.rf.fe2d400db8bf3ce60a5e15e09c9eb637.txt (deflated 80%)\n",
            "  adding: content/Model-V5/Model-segment-evaluation-53/labels/cars-NO20240914-114248-000224F_MP4-0001_jpg.rf.5e56e1368b04db321b154ba6963ebe1c.txt (deflated 78%)\n",
            "  adding: content/Model-V5/Model-segment-evaluation-53/labels/front-right-NO20240903-144141-000835F_MP4-0105_jpg.rf.0826c5a2bbe3f7f2e9a8b448f7e3eaff.txt (deflated 77%)\n",
            "  adding: content/Model-V5/Model-segment-evaluation-53/labels/front-left-NO20240909-143304-000338F_MP4-0075_jpg.rf.0ab56d8ffdcda55bcdb30ba6bb1b2e97.txt (deflated 72%)\n",
            "  adding: content/Model-V5/Model-segment-evaluation-53/labels/front-left-NO20240903-152241-000876F_MP4-0285_jpg.rf.94d01e5f627decabcca0ebd7218c2b6b.txt (deflated 79%)\n",
            "  adding: content/Model-V5/Model-segment-evaluation-53/labels/cars-NO20240910-060525-000077F_MP4-0012_jpg.rf.15cee2e66bf72315bc8897e57a0f6de9.txt (deflated 80%)\n",
            "  adding: content/Model-V5/Model-segment-evaluation-53/labels/front-left-NO20240903-152241-000876F_MP4-0006_jpg.rf.9a0f76bae26f40fbfb8d2219dab62273.txt (deflated 80%)\n",
            "  adding: content/Model-V5/Model-segment-evaluation-53/labels/front-right-NO20240909-181540-000013F_MP4-0104_jpg.rf.dd12b03d9cee4b05f4f44f2a638af201.txt (deflated 78%)\n",
            "  adding: content/Model-V5/Model-segment-evaluation-53/labels/front-left-NO20240903-145141-000845F_MP4-0133_jpg.rf.19cd4c404110954b92ebb45ae4dc8f25.txt (deflated 79%)\n",
            "  adding: content/Model-V5/Model-segment-evaluation-53/labels/front-left_MP4-0228_jpg.rf.0020e85639ab4dea0a0e391f52e99213.txt (deflated 80%)\n",
            "  adding: content/Model-V5/Model-segment-evaluation-53/labels/front-left-NO20240903-150741-000861F_MP4-0201_jpg.rf.cad8ecc103e9b468c5d72704531d76ed.txt (deflated 80%)\n",
            "  adding: content/Model-V5/Model-segment-evaluation-53/labels/front-left-NO20240903-150741-000861F_MP4-0289_jpg.rf.4e469505116db581710645a7fcfaad89.txt (deflated 79%)\n",
            "  adding: content/Model-V5/Model-segment-evaluation-53/labels/front-right-NO20240903-144141-000835F_MP4-0100_jpg.rf.d26c5deee2d0a0c77da7bf09a8945c42.txt (deflated 84%)\n",
            "  adding: content/Model-V5/Model-segment-evaluation-53/labels/front-left-NO20240903-145141-000845F_MP4-0131_jpg.rf.9e7a81eddf167b1f892fd1bc41834566.txt (deflated 83%)\n",
            "  adding: content/Model-V5/Model-segment-evaluation-53/labels/front-left-NO20240903-145141-000845F_MP4-0107_jpg.rf.2f8c37e38a9c5ee9402c83eb9b56b83c.txt (deflated 81%)\n",
            "  adding: content/Model-V5/Model-segment-evaluation-53/labels/front-left-NO20240908-145538-000141F_MP4-0009_jpg.rf.060a343449da5a5cbc62f7dd3b689409.txt (deflated 74%)\n",
            "  adding: content/Model-V5/Model-segment-evaluation-53/labels/front-right-NO20240909-181540-000013F_MP4-0009_jpg.rf.45269166b9c8a2d7e70e4c567a017cfa.txt (deflated 79%)\n",
            "  adding: content/Model-V5/Model-segment-evaluation-53/labels/front-left-NO20240903-145041-000844F_MP4-0245_jpg.rf.902e4682b3697beec10e53983ee100fa.txt (deflated 79%)\n",
            "  adding: content/Model-V5/Model-segment-evaluation-53/labels/v2_mp4-0009_jpg.rf.7a0d717b6b624c582b0e960940fa1bc0.txt (deflated 74%)\n",
            "  adding: content/Model-V5/Model-segment-evaluation-53/labels/front-right-NO20240909-181440-000012F_MP4-0041_jpg.rf.1137cc83a8c4a7212199046c92458485.txt (deflated 80%)\n",
            "  adding: content/Model-V5/Model-segment-evaluation-53/labels/cars-NO20240910-060525-000077F_MP4-0015_jpg.rf.28d53bd9bc292ab19ee5ed3c748fcae5.txt (deflated 82%)\n",
            "  adding: content/Model-V5/Model-segment-evaluation-53/labels/front-left-NO20240903-150741-000861F_MP4-0117_jpg.rf.2ebd363a25e618eabeefb4a70a26e41b.txt (deflated 79%)\n",
            "  adding: content/Model-V5/Model-segment-evaluation-53/labels/front-left-NO20240903-145041-000844F_MP4-0180_jpg.rf.a73aa40a78822a64098bbda7a8e86da0.txt (deflated 82%)\n",
            "  adding: content/Model-V5/Model-segment-evaluation-53/labels/front-left-NO20240903-152241-000876F_MP4-0139_jpg.rf.5389d989c0b3ab751cff509549faebed.txt (deflated 83%)\n",
            "  adding: content/Model-V5/Model-segment-evaluation-53/labels/front-left_MP4-0118_jpg.rf.d9b08ccda62c068b12cfaa4b6d5bef7b.txt (deflated 80%)\n",
            "  adding: content/Model-V5/Model-segment-evaluation-53/labels/front-left-NO20240903-145141-000845F_MP4-0052_jpg.rf.593ab8fb650063f4d221f8a98d25a1fc.txt (deflated 80%)\n",
            "  adding: content/Model-V5/Model-segment-evaluation-53/labels/front-left-NO20240903-145041-000844F_MP4-0171_jpg.rf.dd0fd3d834b27f1366ccacb4762e22d3.txt (deflated 78%)\n",
            "  adding: content/Model-V5/Model-segment-evaluation-53/labels/NO20240909-181040-000008F_MP4-0070_jpg.rf.005ea285e0bc2eaedbc24ce80cef2984.txt (deflated 78%)\n",
            "  adding: content/Model-V5/Model-segment-evaluation-53/labels/cars-NO20240914-112548-000207F_MP4-0026_jpg.rf.7cdb2e260bd9d1fdc5c1e7924adc5707.txt (deflated 80%)\n",
            "  adding: content/Model-V5/Model-segment-evaluation-53/labels/front-left-NO20240903-145541-000849F_MP4-0259_jpg.rf.6f3241fc10b4434e531324d55d39cd83.txt (deflated 75%)\n",
            "  adding: content/Model-V5/Model-segment-evaluation-53/labels/night-front-right-NO20240909-182940-000027F_MP4-0142_jpg.rf.a4ff47bdc32cb1642b1c915b1077e578.txt (deflated 80%)\n",
            "  adding: content/Model-V5/Model-segment-evaluation-53/labels/front-left-NO20240903-145041-000844F_MP4-0228_jpg.rf.60c4581546462827299066a10a5f0b07.txt (deflated 76%)\n",
            "  adding: content/Model-V5/Model-segment-evaluation-53/labels/front-left-NO20240903-145041-000844F_MP4-0165_jpg.rf.3c365ca84660133cd3b81269c48d5b85.txt (deflated 77%)\n",
            "  adding: content/Model-V5/Model-segment-evaluation-53/labels/cars-NO20240914-114048-000222F_MP4-0080_jpg.rf.9227a31fb86103dbfe9494f3c37df05a.txt (deflated 80%)\n",
            "  adding: content/Model-V5/Model-segment-evaluation-53/labels/night-front-right-NO20240909-183440-000032F_MP4-0218_jpg.rf.c98e52b8ddae26e74affcb86ede4bb14.txt (deflated 78%)\n",
            "  adding: content/Model-V5/Model-segment-evaluation-53/labels/front-left-NO20240903-145541-000849F_MP4-0053_jpg.rf.309faf1281ceb92ebbd67a4ebd2dc6b6.txt (deflated 78%)\n",
            "  adding: content/Model-V5/Model-segment-evaluation-53/labels/cars-NO20240914-114048-000222F_MP4-0037_jpg.rf.84cb2053be243c7ee18c3e544fd688b2.txt (deflated 77%)\n",
            "  adding: content/Model-V5/Model-segment-evaluation-53/labels/cars-NO20240914-114248-000224F_MP4-0049_jpg.rf.fed029433642912726e522c5c512485c.txt (deflated 81%)\n",
            "  adding: content/Model-V5/Model-segment-evaluation-53/labels/front-left-NO20240903-145041-000844F_MP4-0172_jpg.rf.b89558fdf0e377ff003af561d7a87a83.txt (deflated 79%)\n",
            "  adding: content/Model-V5/Model-segment-evaluation-53/labels/front-right-NO20240903-144041-000834F_MP4-0032_jpg.rf.4b58b150ffa9acf261c57bc2b74b0d80.txt (deflated 79%)\n",
            "  adding: content/Model-V5/Model-segment-evaluation-53/labels/front-right-NO20240903-144041-000834F_MP4-0228_jpg.rf.b77c801edf020b697f2da55d79839c19.txt (deflated 81%)\n",
            "  adding: content/Model-V5/Model-segment-evaluation-53/labels/front-left-NO20240903-152241-000876F_MP4-0015_jpg.rf.82c62f3c9c01580c490500b051459a34.txt (deflated 79%)\n",
            "  adding: content/Model-V5/Model-segment-evaluation-53/labels/front-left-NO20240903-152241-000876F_MP4-0016_jpg.rf.3d0641fd2a0c7792b6f946fc2e49d510.txt (deflated 79%)\n",
            "  adding: content/Model-V5/Model-segment-evaluation-53/labels/front-left-NO20240903-145541-000849F_MP4-0116_jpg.rf.d6040e3e788086779adbbf40deed7bb7.txt (deflated 77%)\n",
            "  adding: content/Model-V5/Model-segment-evaluation-53/labels/front-left-NO20240903-152241-000876F_MP4-0099_jpg.rf.56741b0b2e584cb69a9acf1dacf25d10.txt (deflated 76%)\n",
            "  adding: content/Model-V5/Model-segment-evaluation-53/labels/front-left_MP4-0003_jpg.rf.a1dee5b9ca626510fd9156776149e484.txt (deflated 77%)\n",
            "  adding: content/Model-V5/Model-segment-evaluation-53/labels/NO20240917-143737-000242F_MP4-0053_jpg.rf.139283b93f380e12250050b08a540e02.txt (deflated 80%)\n",
            "  adding: content/Model-V5/Model-segment-evaluation-53/labels/v3_mp4-0024_jpg.rf.d6dbdb4eb93a67aa19cf3d94cc77b178.txt (deflated 80%)\n",
            "  adding: content/Model-V5/Model-segment-evaluation-53/labels/front-left-NO20240903-152241-000876F_MP4-0069_jpg.rf.ea17660a3fbc9e72818a57d8f2ba43a4.txt (deflated 77%)\n",
            "  adding: content/Model-V5/Model-segment-evaluation-53/labels/v3_mp4-0001_jpg.rf.07722bc7c62029a70408ad2e35f4b6b6.txt (deflated 77%)\n",
            "  adding: content/Model-V5/Model-segment-evaluation-53/labels/front-left-NO20240903-150741-000861F_MP4-0219_jpg.rf.3e8ce885fae99006b31f93f2fd93328f.txt (deflated 80%)\n",
            "  adding: content/Model-V5/Model-segment-evaluation-53/labels/front-left-NO20240908-145538-000141F_MP4-0120_jpg.rf.542ccb3b28284ee29b0f280eb818172c.txt (deflated 75%)\n",
            "  adding: content/Model-V5/Model-segment-evaluation-53/labels/front-left-NO20240903-145041-000844F_MP4-0112_jpg.rf.ad3d68fbb2f11ea389bf73182cb9fabb.txt (deflated 79%)\n",
            "  adding: content/Model-V5/Model-segment-evaluation-53/labels/front-left-NO20240909-143204-000337F_MP4-0254_jpg.rf.1ecc63e72a6c6862820135b44db8ddf8.txt (deflated 76%)\n",
            "  adding: content/Model-V5/Model-segment-evaluation-53/labels/night-front-right-NO20240909-183040-000028F_MP4-0143_jpg.rf.35eb60d5ab3a2138cc5dcb269e9122db.txt (deflated 79%)\n",
            "  adding: content/Model-V5/Model-segment-evaluation-53/labels/front-left-NO20240903-145141-000845F_MP4-0171_jpg.rf.c40e022b148002e6826df40cdcd38401.txt (deflated 80%)\n",
            "  adding: content/Model-V5/Model-segment-evaluation-53/labels/v5_mp4-0059_jpg.rf.1bd54fee31e40b9824a1f047bf2da7ba.txt (deflated 78%)\n",
            "  adding: content/Model-V5/Model-segment-evaluation-53/labels/front-left-NO20240903-145141-000845F_MP4-0125_jpg.rf.95b71f5f4befb126a6947d1770b324b1.txt (deflated 80%)\n",
            "  adding: content/Model-V5/Model-segment-evaluation-53/labels/front-left-NO20240903-152241-000876F_MP4-0107_jpg.rf.2d4fbadd96e8dc746ce5defdb7ebebf8.txt (deflated 75%)\n",
            "  adding: content/Model-V5/Model-segment-evaluation-53/labels/front-left-NO20240908-150138-000147F_MP4-0010_jpg.rf.8bb324adc1aba02dc1428848049fe255.txt (deflated 72%)\n",
            "  adding: content/Model-V5/Model-segment-evaluation-53/labels/front-right-NO20240903-144141-000835F_MP4-0215_jpg.rf.0aa263cb869475f8dfccb45ce89fb9e8.txt (deflated 85%)\n",
            "  adding: content/Model-V5/Model-segment-evaluation-53/labels/front-left-NO20240903-145441-000848F_MP4-0024_jpg.rf.785ef97b6a77f90009e5107a475d431f.txt (deflated 79%)\n",
            "  adding: content/Model-V5/Model-segment-evaluation-53/labels/front-left-NO20240909-144404-000349F_MP4-0061_jpg.rf.ea6a3f7ddbee05dd7bb9e9967e065421.txt (deflated 72%)\n",
            "  adding: content/Model-V5/Model-segment-evaluation-53/labels/chery-cross_MP4-0044_jpg.rf.49dbe62e7ee42b7716ffa43d7f31399c.txt (deflated 82%)\n",
            "  adding: content/Model-V5/Model-segment-evaluation-53/labels/front-left_MP4-0188_jpg.rf.648be5a28708aff8ee9e62c3f44967af.txt (deflated 80%)\n",
            "  adding: content/Model-V5/Model-segment-evaluation-53/labels/front-left-NO20240903-145441-000848F_MP4-0249_jpg.rf.af4ca9b210e7c4b96093ce7b6b8412cd.txt (deflated 76%)\n",
            "  adding: content/Model-V5/Model-segment-evaluation-53/labels/front-left-NO20240903-152241-000876F_MP4-0221_jpg.rf.e6053eccd27dbb5377785900d9e71535.txt (deflated 82%)\n",
            "  adding: content/Model-V5/Model-segment-evaluation-53/labels/front-left-NO20240903-152241-000876F_MP4-0135_jpg.rf.e78f509815ff89b4825d3e8efd503be4.txt (deflated 81%)\n",
            "  adding: content/Model-V5/Model-segment-evaluation-53/labels/front-right-NO20240903-144141-000835F_MP4-0140_jpg.rf.16577855d4729d73b30c0105926e6277.txt (deflated 80%)\n",
            "  adding: content/Model-V5/Model-segment-evaluation-53/labels/cars-NO20240914-114048-000222F_MP4-0204_jpg.rf.9db4a1403d2190cad06f80cfdd2f70e1.txt (deflated 79%)\n",
            "  adding: content/Model-V5/Model-segment-evaluation-53/labels/front-right-NO20240903-143941-000833F_MP4-0159_jpg.rf.ec22a5c10f7450527f8616705f19e602.txt (deflated 81%)\n",
            "  adding: content/Model-V5/Model-segment-evaluation-53/labels/front-left-NO20240903-152241-000876F_MP4-0037_jpg.rf.960e20873e7cd25480882d305b616754.txt (deflated 77%)\n",
            "  adding: content/Model-V5/Model-segment-evaluation-53/labels/v2-p2_mp4-0012_jpg.rf.f1bbf7b85aba30087f5df47fb887ed42.txt (deflated 79%)\n",
            "  adding: content/Model-V5/Model-segment-evaluation-53/labels/front-left_MP4-0036_jpg.rf.1864c0a148b88e42031a69524c889ff8.txt (deflated 81%)\n",
            "  adding: content/Model-V5/Model-segment-evaluation-53/labels/front-left-NO20240903-150741-000861F_MP4-0090_jpg.rf.557c872be1693f546a20f6d2e36f63c8.txt (deflated 80%)\n",
            "  adding: content/Model-V5/Model-segment-evaluation-53/labels/front-left-NO20240903-152241-000876F_MP4-0167_jpg.rf.bf1e6aa85aec32e6a58006e363d03140.txt (deflated 81%)\n",
            "  adding: content/Model-V5/Model-segment-evaluation-53/labels/front-left_MP4-0196_jpg.rf.25d99558db7e421fa16022970cfe7a0d.txt (deflated 80%)\n",
            "  adding: content/Model-V5/Model-segment-evaluation-53/labels/front-left-NO20240903-145141-000845F_MP4-0054_jpg.rf.d0bf710cb8bd58dd029c6d766d491d9a.txt (deflated 78%)\n",
            "  adding: content/Model-V5/Model-segment-evaluation-53/labels/NO20240909-181140-000009F_MP4-0159_jpg.rf.cfdcf628c8501bc0e8386a6b303bbeac.txt (deflated 78%)\n",
            "  adding: content/Model-V5/Model-segment-evaluation-53/labels/front-left-NO20240909-143304-000338F_MP4-0133_jpg.rf.06ee6e604c7841d6999f5831744acb14.txt (deflated 79%)\n",
            "  adding: content/Model-V5/Model-segment-evaluation-53/labels/v7_mp4-0026_jpg.rf.721e9b8638e1bffed0d0661000c87479.txt (deflated 80%)\n",
            "  adding: content/Model-V5/Model-segment-evaluation-53/labels/front-left-NO20240903-150741-000861F_MP4-0126_jpg.rf.1e0809f34c0073176a66851f62109c06.txt (deflated 79%)\n",
            "  adding: content/Model-V5/Model-segment-evaluation-53/labels/front-left_MP4-0225_jpg.rf.a6c257ec6a56480c0d2acd29f05a8d3f.txt (deflated 77%)\n",
            "  adding: content/Model-V5/Model-segment-evaluation-53/labels/front-left-NO20240903-145041-000844F_MP4-0295_jpg.rf.cfcb9b06ae0639cae54133a2671dd5ab.txt (deflated 77%)\n",
            "  adding: content/Model-V5/Model-segment-evaluation-53/labels/cars-NO20240914-114048-000222F_MP4-0084_jpg.rf.54ee5e3f4ca0891cf26526b32a7c1d37.txt (deflated 80%)\n",
            "  adding: content/Model-V5/Model-segment-evaluation-53/labels/front-right-NO20240903-144041-000834F_MP4-0049_jpg.rf.70102dcf7bf5e59c384c516c1ad40d49.txt (deflated 82%)\n",
            "  adding: content/Model-V5/Model-segment-evaluation-53/labels/front-left-NO20240903-145141-000845F_MP4-0044_jpg.rf.a006dbe3c46250fc1624c752a10d4bd1.txt (deflated 81%)\n",
            "  adding: content/Model-V5/Model-segment-evaluation-53/labels/front-left-NO20240903-145141-000845F_MP4-0024_jpg.rf.c0f5ae3912a15f7f417901cab03686cc.txt (deflated 80%)\n",
            "  adding: content/Model-V5/Model-segment-evaluation-53/labels/front-left_MP4-0230_jpg.rf.d745b44a2876be10350d8a1ee06ef9b8.txt (deflated 79%)\n",
            "  adding: content/Model-V5/Model-segment-evaluation-53/labels/front-left-NO20240903-145541-000849F_MP4-0013_jpg.rf.1c8a549f32c8cca9e426a4c162ef0f4e.txt (deflated 78%)\n",
            "  adding: content/Model-V5/Model-segment-evaluation-53/labels/front-left-NO20240903-145141-000845F_MP4-0055_jpg.rf.4dc29c514b5ac119a34385a8052b8444.txt (deflated 80%)\n",
            "  adding: content/Model-V5/Model-segment-evaluation-53/labels/front-left_MP4-0151_jpg.rf.b54240b98d4e88fbafb9ee728132005c.txt (deflated 79%)\n",
            "  adding: content/Model-V5/Model-segment-evaluation-53/labels/front-left-NO20240903-152241-000876F_MP4-0004_jpg.rf.3a367c0df394a44a6e630128bc3eb15f.txt (deflated 81%)\n",
            "  adding: content/Model-V5/Model-segment-evaluation-53/labels/v3_mp4-0012_jpg.rf.59bc006f7851ea20375c04c30fdc3f12.txt (deflated 78%)\n",
            "  adding: content/Model-V5/Model-segment-evaluation-53/labels/front-left_MP4-0170_jpg.rf.159b5dc2b926fda55630e4b52da6574d.txt (deflated 82%)\n",
            "  adding: content/Model-V5/Model-segment-evaluation-53/labels/cars-NO20240914-114048-000222F_MP4-0057_jpg.rf.85508542edc95ae22724e179a4109305.txt (deflated 78%)\n",
            "  adding: content/Model-V5/Model-segment-evaluation-53/labels/front-left-NO20240903-150741-000861F_MP4-0212_jpg.rf.21582bf277ed52790c344512d497adca.txt (deflated 80%)\n",
            "  adding: content/Model-V5/Model-segment-evaluation-53/labels/front-left-NO20240910-064025-000112F_MP4-0131_jpg.rf.98cce3342739fc8863fc0e37dc98cfe2.txt (deflated 78%)\n",
            "  adding: content/Model-V5/Model-segment-evaluation-53/labels/front-left-NO20240908-145938-000145F_MP4-0078_jpg.rf.a80415a35471fcfcff966e92276d7013.txt (deflated 78%)\n",
            "  adding: content/Model-V5/Model-segment-evaluation-53/labels/night-front-right-NO20240909-183740-000035F_MP4-0289_jpg.rf.46af57bb04783be35ef6190adda3561f.txt (deflated 77%)\n",
            "  adding: content/Model-V5/Model-segment-evaluation-53/labels/front-left-NO20240903-152241-000876F_MP4-0024_jpg.rf.da56e08e3f50f5ab9a1c078c404666f4.txt (deflated 79%)\n",
            "  adding: content/Model-V5/Model-segment-evaluation-53/labels/front-left_MP4-0273_jpg.rf.d32a9cd05882eabaa69bb155286ef843.txt (deflated 82%)\n",
            "  adding: content/Model-V5/Model-segment-evaluation-53/labels/front-left_MP4-0147_jpg.rf.86356ea65a8ebff2909b2a35143c1b30.txt (deflated 78%)\n",
            "  adding: content/Model-V5/Model-segment-evaluation-53/labels/front-left-NO20240903-145041-000844F_MP4-0170_jpg.rf.43c2b35ee35ec640246236d4b258b767.txt (deflated 78%)\n",
            "  adding: content/Model-V5/Model-segment-evaluation-53/labels/front-left-NO20240903-145541-000849F_MP4-0186_jpg.rf.9e79e669a2b524b66f8d0b92fb9f2fbd.txt (deflated 78%)\n",
            "  adding: content/Model-V5/Model-segment-evaluation-53/labels/front-left_MP4-0182_jpg.rf.b423f7d6eacd40fabe40caf957ba8e92.txt (deflated 83%)\n",
            "  adding: content/Model-V5/Model-segment-evaluation-53/labels/front-left-NO20240903-145541-000849F_MP4-0028_jpg.rf.3c0ac0ada2a84a7e38b09e8483c5f188.txt (deflated 76%)\n",
            "  adding: content/Model-V5/Model-segment-evaluation-53/labels/front-left_MP4-0218_jpg.rf.e207634a9d855b9b0d1d863730d063de.txt (deflated 78%)\n",
            "  adding: content/Model-V5/Model-segment-evaluation-53/labels/front-left-NO20240910-060225-000074F_MP4-0105_jpg.rf.b83d85285c107b9c6bc7b58de192e371.txt (deflated 78%)\n",
            "  adding: content/Model-V5/Model-segment-evaluation-53/labels/NO20240917-144137-000246F_MP4-0020_jpg.rf.bbb619972ec8e915d23c261885df8c3f.txt (deflated 79%)\n",
            "  adding: content/Model-V5/Model-segment-evaluation-53/labels/front-left_MP4-0015_jpg.rf.8d3704f8d132dba9ff15f5f3fd1bbc54.txt (deflated 84%)\n",
            "  adding: content/Model-V5/Model-segment-evaluation-53/labels/front-left-NO20240909-145604-000361F_MP4-0130_jpg.rf.7d5d911eee7bf7348b2728e405fdf0b0.txt (deflated 79%)\n",
            "  adding: content/Model-V5/Model-segment-evaluation-53/labels/NO20240917-143837-000243F_MP4-0094_jpg.rf.820d92f9af543fa7b49db57ff1b78f5e.txt (deflated 81%)\n",
            "  adding: content/Model-V5/Model-segment-evaluation-53/labels/night-front-right-NO20240909-183440-000032F_MP4-0136_jpg.rf.0d348dee46330e633b3e544d99201a87.txt (deflated 76%)\n",
            "  adding: content/Model-V5/Model-segment-evaluation-53/labels/front-left-NO20240909-150404-000369F_MP4-0014_jpg.rf.4b22484bdaba978bb377ce075fe044d3.txt (deflated 75%)\n",
            "  adding: content/Model-V5/Model-segment-evaluation-53/labels/v3_mp4-0039_jpg.rf.ca6e399e786ec1237b7a7eb9bd2a3a4a.txt (deflated 75%)\n",
            "  adding: content/Model-V5/Model-segment-evaluation-53/labels/chery-cross_MP4-0018_jpg.rf.9499b12673a520dfe25660f49ab56daf.txt (deflated 78%)\n",
            "  adding: content/Model-V5/Model-segment-evaluation-53/labels/front-left-NO20240903-145041-000844F_MP4-0159_jpg.rf.3fb728f2059aedb72b95b38c12422d59.txt (deflated 79%)\n",
            "  adding: content/Model-V5/Model-segment-evaluation-53/labels/front-right-NO20240903-144141-000835F_MP4-0237_jpg.rf.a14dc4b98b13860b8d71b08a41d60b67.txt (deflated 82%)\n",
            "  adding: content/Model-V5/Model-segment-evaluation-53/labels/front-left-NO20240903-145041-000844F_MP4-0133_jpg.rf.a93358ca5b58f3decd3920167d202765.txt (deflated 76%)\n",
            "  adding: content/Model-V5/Model-segment-evaluation-53/labels/front-left-NO20240903-145041-000844F_MP4-0126_jpg.rf.2d7ff234e7c6e4e309e5528ec634ccbd.txt (deflated 77%)\n",
            "  adding: content/Model-V5/Model-segment-evaluation-53/labels/front-left-NO20240903-145141-000845F_MP4-0072_jpg.rf.b8c593279d596f8a05dbddd9c3f2ec77.txt (deflated 80%)\n",
            "  adding: content/Model-V5/Model-segment-evaluation-53/labels/NO20240917-144137-000246F_MP4-0042_jpg.rf.7c680beb4b587d316fe69c493fb6c1b1.txt (deflated 79%)\n",
            "  adding: content/Model-V5/Model-segment-evaluation-53/labels/front-left-NO20240903-145041-000844F_MP4-0208_jpg.rf.84d57f4708dbf80fb7fec03b9bef0a0d.txt (deflated 75%)\n",
            "  adding: content/Model-V5/Model-segment-evaluation-53/labels/front-right-NO20240903-144041-000834F_MP4-0107_jpg.rf.d9eb8bbca68f6dde3a14b1c290315969.txt (deflated 78%)\n",
            "  adding: content/Model-V5/Model-segment-evaluation-53/labels/front-left-NO20240903-145141-000845F_MP4-0144_jpg.rf.5866928a0a77c7735bd61b90d180ac03.txt (deflated 79%)\n",
            "  adding: content/Model-V5/Model-segment-evaluation-53/labels/cars-NO20240914-114048-000222F_MP4-0186_jpg.rf.7a4eefec90c120c56581024612dde842.txt (deflated 80%)\n",
            "  adding: content/Model-V5/Model-segment-evaluation-53/labels/cars-NO20240914-114248-000224F_MP4-0181_jpg.rf.34f1a24eb3ee78900382c1cb62be3629.txt (deflated 80%)\n",
            "  adding: content/Model-V5/Model-segment-evaluation-53/labels/night-front-right-NO20240909-183640-000034F_MP4-0094_jpg.rf.719c17a7761267aaed1be37fa945a5a1.txt (deflated 81%)\n",
            "  adding: content/Model-V5/Model-segment-evaluation-53/labels/front-right-NO20240903-143941-000833F_MP4-0097_jpg.rf.470b8715017aff331c3c048a30398db9.txt (deflated 83%)\n",
            "  adding: content/Model-V5/Model-segment-evaluation-53/labels/front-left-NO20240903-145141-000845F_MP4-0023_jpg.rf.6ed4c88889fffa9a71325248751957b7.txt (deflated 79%)\n",
            "  adding: content/Model-V5/Model-segment-evaluation-53/labels/front-left-NO20240903-145141-000845F_MP4-0070_jpg.rf.196ccfcc576bc5ea6b9cdefba2b75d92.txt (deflated 82%)\n",
            "  adding: content/Model-V5/Model-segment-evaluation-53/labels/front-left_MP4-0161_jpg.rf.4b61dca50a995230f009461525dc2603.txt (deflated 76%)\n",
            "  adding: content/Model-V5/Model-segment-evaluation-53/labels/front-left-NO20240903-145441-000848F_MP4-0267_jpg.rf.a9c5c044212ccc4b45f8502e51110d79.txt (deflated 80%)\n",
            "  adding: content/Model-V5/Model-segment-evaluation-53/labels/front-left-NO20240903-145541-000849F_MP4-0171_jpg.rf.bb28c3c71a63337b3bef4008b5599a31.txt (deflated 77%)\n",
            "  adding: content/Model-V5/Model-segment-evaluation-53/labels/v3_mp4-0034_jpg.rf.bb69cdb644a6757a8b1df8d00ec1b152.txt (deflated 82%)\n",
            "  adding: content/Model-V5/Model-segment-evaluation-53/labels/front-left-NO20240909-144504-000350F_MP4-0203_jpg.rf.41c75b34ed970fdd565fbed60d2549c7.txt (deflated 71%)\n",
            "  adding: content/Model-V5/Model-segment-evaluation-53/labels/front-right-NO20240903-144041-000834F_MP4-0023_jpg.rf.34dfd989d06d821eb1617fdc31762ed0.txt (deflated 77%)\n",
            "  adding: content/Model-V5/Model-segment-evaluation-53/labels/front-right-NO20240903-143941-000833F_MP4-0056_jpg.rf.cc4834fcb5c1177dbab4cfb12b8baccf.txt (deflated 79%)\n",
            "  adding: content/Model-V5/Model-segment-evaluation-53/labels/front-left-NO20240909-143404-000339F_MP4-0019_jpg.rf.44bde16373a4a064dd79d936f95ec718.txt (deflated 83%)\n",
            "  adding: content/Model-V5/Model-segment-evaluation-53/labels/front-left_MP4-0103_jpg.rf.d730b780e62075d36e49586ed0a11f57.txt (deflated 84%)\n",
            "  adding: content/Model-V5/Model-segment-evaluation-53/labels/front-left-NO20240903-152241-000876F_MP4-0145_jpg.rf.6b10b86471e67919c14ffca89e4c46c6.txt (deflated 80%)\n",
            "  adding: content/Model-V5/Model-segment-evaluation-53/labels/cars-NO20240914-114048-000222F_MP4-0196_jpg.rf.b30602ac92a85d828f737aa2aed7c4ce.txt (deflated 77%)\n",
            "  adding: content/Model-V5/Model-segment-evaluation-53/labels/front-left-NO20240903-152241-000876F_MP4-0028_jpg.rf.91867327bd7998615cd6b69aa72e22e3.txt (deflated 80%)\n",
            "  adding: content/Model-V5/Model-segment-evaluation-53/labels/front-left-NO20240903-145541-000849F_MP4-0187_jpg.rf.13985ee24323b546c1932dcc1428a129.txt (deflated 78%)\n",
            "  adding: content/Model-V5/Model-segment-evaluation-53/labels/front-left_MP4-0204_jpg.rf.a4c45b67c69d50b84fd10fc9ef46e14b.txt (deflated 80%)\n",
            "  adding: content/Model-V5/Model-segment-evaluation-53/labels/front-left-NO20240910-063925-000111F_MP4-0149_jpg.rf.10552531761848b78a24ac385ca100d2.txt (deflated 79%)\n",
            "  adding: content/Model-V5/Model-segment-evaluation-53/labels/front-right-NO20240903-143941-000833F_MP4-0267_jpg.rf.e22489b3ba393fcb6b73dd89f3e6f629.txt (deflated 80%)\n",
            "  adding: content/Model-V5/Model-segment-evaluation-53/labels/front-left-NO20240903-152241-000876F_MP4-0045_jpg.rf.2424c725a200a6763b2e137bb453c2e4.txt (deflated 79%)\n",
            "  adding: content/Model-V5/Model-segment-evaluation-53/labels/front-right-NO20240903-144041-000834F_MP4-0277_jpg.rf.4ab5fdddc55f0eec3f331b16206f7379.txt (deflated 82%)\n",
            "  adding: content/Model-V5/Model-segment-evaluation-53/labels/front-left-NO20240903-150741-000861F_MP4-0215_jpg.rf.3851c08e4b7c455776beb6cfce43429e.txt (deflated 79%)\n",
            "  adding: content/Model-V5/Model-segment-evaluation-53/labels/front-left-NO20240903-145041-000844F_MP4-0291_jpg.rf.7e4c4b91fef8fc800a4e678b692f4c1e.txt (deflated 79%)\n",
            "  adding: content/Model-V5/Model-segment-evaluation-53/labels/front-left-NO20240909-144004-000345F_MP4-0271_jpg.rf.a0699c41732467a96e3ce77aa8b84cea.txt (deflated 80%)\n",
            "  adding: content/Model-V5/Model-segment-evaluation-53/labels/front-left-NO20240909-145704-000362F_MP4-0018_jpg.rf.75a8f8aaa0d5d7795c315e59b11e71a3.txt (deflated 78%)\n",
            "  adding: content/Model-V5/Model-segment-evaluation-53/labels/front-left-NO20240903-152241-000876F_MP4-0232_jpg.rf.05df6e560079ce07149123f7b5c0fb4a.txt (deflated 78%)\n",
            "  adding: content/Model-V5/Model-segment-evaluation-53/labels/front-right-NO20240903-144141-000835F_MP4-0225_jpg.rf.a02c86aa0c002e4abe9b91c654be021b.txt (deflated 80%)\n",
            "  adding: content/Model-V5/Model-segment-evaluation-53/labels/front-left-NO20240909-150504-000370F_MP4-0280_jpg.rf.f9584dbd869395942126d6b863d4a05d.txt (deflated 75%)\n",
            "  adding: content/Model-V5/Model-segment-evaluation-53/labels/front-left-NO20240909-143204-000337F_MP4-0160_jpg.rf.f7657fce03f08e145477957efc01eb95.txt (deflated 78%)\n",
            "  adding: content/Model-V5/Model-segment-evaluation-53/labels/front-left-NO20240903-145041-000844F_MP4-0233_jpg.rf.1c89f424cbbadb45e46efb02ef1c0e1c.txt (deflated 77%)\n",
            "  adding: content/Model-V5/Model-segment-evaluation-53/labels/front-left-NO20240903-145041-000844F_MP4-0183_jpg.rf.e54624863b12d4d920dfbe0bf362fadd.txt (deflated 77%)\n",
            "  adding: content/Model-V5/Model-segment-evaluation-53/labels/front-left-NO20240903-152241-000876F_MP4-0089_jpg.rf.c4ad778098842f678a656158762acc3a.txt (deflated 76%)\n",
            "  adding: content/Model-V5/Model-segment-evaluation-53/labels/front-left-NO20240903-145541-000849F_MP4-0181_jpg.rf.63935622a23657375a566cb1661d702b.txt (deflated 77%)\n",
            "  adding: content/Model-V5/Model-segment-evaluation-53/labels/front-left-NO20240903-145141-000845F_MP4-0179_jpg.rf.9c05331dd4f30b2d92b1ddd56a27c4ef.txt (deflated 82%)\n",
            "  adding: content/Model-V5/Model-segment-evaluation-53/labels/NO20240909-181040-000008F_MP4-0246_jpg.rf.02a59fcf4e857ca26e55c4011cf99283.txt (deflated 82%)\n",
            "  adding: content/Model-V5/Model-segment-evaluation-53/labels/cars-NO20240914-112548-000207F_MP4-0016_jpg.rf.cfb19f29993832f712b2dd0bb8781cd2.txt (deflated 79%)\n",
            "  adding: content/Model-V5/Model-segment-evaluation-53/labels/front-right-NO20240909-181240-000010F_MP4-0270_jpg.rf.545e533c186b737bd044577b7ede582f.txt (deflated 79%)\n",
            "  adding: content/Model-V5/Model-segment-evaluation-53/labels/NO20240909-181040-000008F_MP4-0256_jpg.rf.f7eb65623a2e80036394b9017274b998.txt (deflated 82%)\n",
            "  adding: content/Model-V5/Model-segment-evaluation-53/labels/front-right-NO20240903-144141-000835F_MP4-0217_jpg.rf.6fd32e3bc05145c1984ef5be108c58d7.txt (deflated 84%)\n",
            "  adding: content/Model-V5/Model-segment-evaluation-53/labels/front-left-NO20240903-145141-000845F_MP4-0086_jpg.rf.7b190709a21f26aad603ca6e265055ac.txt (deflated 78%)\n",
            "  adding: content/Model-V5/Model-segment-evaluation-53/labels/front-right-NO20240903-144041-000834F_MP4-0173_jpg.rf.b7ab50e5ecd7660cc7603ff452b811ae.txt (deflated 80%)\n",
            "  adding: content/Model-V5/Model-segment-evaluation-53/labels/front-left-NO20240908-145538-000141F_MP4-0270_jpg.rf.b5caf11a2d7fbeba6d4db85be7501385.txt (deflated 77%)\n",
            "  adding: content/Model-V5/Model-segment-evaluation-53/labels/front-left-NO20240903-145041-000844F_MP4-0174_jpg.rf.07dffb02a82c2e34172ef6e545723482.txt (deflated 79%)\n",
            "  adding: content/Model-V5/Model-segment-evaluation-53/labels/front-left-NO20240909-145804-000363F_MP4-0187_jpg.rf.572c07f20222584eb1b7f1d540a97a46.txt (deflated 75%)\n",
            "  adding: content/Model-V5/Model-segment-evaluation-53/labels/front-left-NO20240903-145141-000845F_MP4-0112_jpg.rf.cca4f46ad190d6838e8d92ba8de9900c.txt (deflated 77%)\n",
            "  adding: content/Model-V5/Model-segment-evaluation-53/labels/front-left_MP4-0125_jpg.rf.ee4c6c27fe53c491c8fab91fabfffc13.txt (deflated 80%)\n",
            "  adding: content/Model-V5/Model-segment-evaluation-53/labels/front-left-NO20240903-145541-000849F_MP4-0107_jpg.rf.d92d07668f52f392395b9b11692ec2bf.txt (deflated 76%)\n",
            "  adding: content/Model-V5/Model-segment-evaluation-53/labels/front-left-NO20240903-150741-000861F_MP4-0102_jpg.rf.e66a0a257aca48a53cf84f0e4993b8e7.txt (deflated 77%)\n",
            "  adding: content/Model-V5/Model-segment-evaluation-53/labels/front-left-NO20240903-145141-000845F_MP4-0152_jpg.rf.2b1762842b46492b8449986610dd0731.txt (deflated 79%)\n",
            "  adding: content/Model-V5/Model-segment-evaluation-53/labels/front-left-NO20240903-145141-000845F_MP4-0020_jpg.rf.98d70c78399aa0e49d33c2c77de856b4.txt (deflated 80%)\n",
            "  adding: content/Model-V5/Model-segment-evaluation-53/labels/front-right-NO20240903-143941-000833F_MP4-0060_jpg.rf.b051168004390eba0d7017b10e177f7e.txt (deflated 80%)\n",
            "  adding: content/Model-V5/Model-segment-evaluation-53/labels/front-left-NO20240903-150741-000861F_MP4-0256_jpg.rf.ecc14edb72a65d1ee0fde92d8a4379be.txt (deflated 80%)\n",
            "  adding: content/Model-V5/Model-segment-evaluation-53/labels/front-left-NO20240908-145538-000141F_MP4-0151_jpg.rf.8f113e4e40307604b0a2dd585ff28c38.txt (deflated 80%)\n",
            "  adding: content/Model-V5/Model-segment-evaluation-53/labels/front-left-NO20240903-145141-000845F_MP4-0085_jpg.rf.679141b2138516648be5dc9680fe4465.txt (deflated 78%)\n",
            "  adding: content/Model-V5/Model-segment-evaluation-53/labels/front-left-NO20240903-145141-000845F_MP4-0030_jpg.rf.e95c4000a0b843ecbc8c475316a7bc0c.txt (deflated 79%)\n",
            "  adding: content/Model-V5/Model-segment-evaluation-53/labels/front-left_MP4-0133_jpg.rf.093716b266a4d972e764a97dffa27a56.txt (deflated 80%)\n",
            "  adding: content/Model-V5/Model-segment-evaluation-53/labels/front-left-NO20240909-144404-000349F_MP4-0109_jpg.rf.ce8cdd3493c49809f1149715c6a3daf2.txt (deflated 80%)\n",
            "  adding: content/Model-V5/Model-segment-evaluation-53/labels/front-left-NO20240903-152241-000876F_MP4-0276_jpg.rf.e536d883f5737b022e7fcdafb7e56493.txt (deflated 82%)\n",
            "  adding: content/Model-V5/Model-segment-evaluation-53/labels/front-right-NO20240903-144041-000834F_MP4-0002_jpg.rf.71f65b270b29cf2cfdeb25bc86ccf081.txt (deflated 77%)\n",
            "  adding: content/Model-V5/Model-segment-evaluation-53/labels/front-left-NO20240903-150741-000861F_MP4-0229_jpg.rf.3d76dcb3f2752760450fdd4d88bda2c5.txt (deflated 83%)\n",
            "  adding: content/Model-V5/Model-segment-evaluation-53/labels/front-left-NO20240903-145041-000844F_MP4-0195_jpg.rf.3c6b4f8e4e026f4978ebd2e70eccb9f5.txt (deflated 77%)\n",
            "  adding: content/Model-V5/Model-segment-evaluation-53/labels/front-left-NO20240903-152241-000876F_MP4-0093_jpg.rf.7256749396a64fc51b63f8d717a9bfbd.txt (deflated 76%)\n",
            "  adding: content/Model-V5/Model-segment-evaluation-53/labels/front-left-NO20240903-145041-000844F_MP4-0292_jpg.rf.07650c9aedc18db8fac1d85f700b741b.txt (deflated 79%)\n",
            "  adding: content/Model-V5/Model-segment-evaluation-53/labels/NO20240917-143837-000243F_MP4-0034_jpg.rf.2fa38809d779867bdbe0114fb468f830.txt (deflated 82%)\n",
            "  adding: content/Model-V5/Model-segment-evaluation-53/labels/front-left_MP4-0088_jpg.rf.fda784dce4525628768ff022841ca2ec.txt (deflated 81%)\n",
            "  adding: content/Model-V5/Model-segment-evaluation-53/labels/front-right-NO20240903-144041-000834F_MP4-0183_jpg.rf.ef1848a8b9a545216bf31ee7cd62223f.txt (deflated 82%)\n",
            "  adding: content/Model-V5/Model-segment-evaluation-53/labels/NO20240917-144137-000246F_MP4-0011_jpg.rf.bd49d802d075bd1dd53003da83ca11fa.txt (deflated 78%)\n",
            "  adding: content/Model-V5/Model-segment-evaluation-53/labels/front-left-NO20240903-145141-000845F_MP4-0177_jpg.rf.cd4a2281fb080e6493232a6f7eaf9fbc.txt (deflated 77%)\n",
            "  adding: content/Model-V5/Model-segment-evaluation-53/labels/front-left-NO20240903-150741-000861F_MP4-0068_jpg.rf.994ef81253e53f5db96fed6f4d8d55ef.txt (deflated 80%)\n",
            "  adding: content/Model-V5/Model-segment-evaluation-53/labels/front-left_MP4-0275_jpg.rf.ffa1efd7b6c7ac235a8918ca81f6ef38.txt (deflated 81%)\n",
            "  adding: content/Model-V5/Model-segment-evaluation-53/labels/front-left-NO20240903-145041-000844F_MP4-0105_jpg.rf.04d089e3f835c1721b6216db28ae9ad0.txt (deflated 79%)\n",
            "  adding: content/Model-V5/Model-segment-evaluation-53/labels/v5_mp4-0029_jpg.rf.87ad6fb72913a60b1bdf3a6b0e4dd8f9.txt (deflated 80%)\n",
            "  adding: content/Model-V5/Model-segment-evaluation-53/labels/front-left-NO20240903-150741-000861F_MP4-0034_jpg.rf.7ea45a699190b887097c90bcba2d54eb.txt (deflated 80%)\n",
            "  adding: content/Model-V5/Model-segment-evaluation-53/labels/front-left-NO20240909-143904-000344F_MP4-0010_jpg.rf.12818e57fb0a2605c405cf5aabadecb9.txt (deflated 82%)\n",
            "  adding: content/Model-V5/Model-segment-evaluation-53/labels/front-left-NO20240903-152241-000876F_MP4-0298_jpg.rf.7fb7507f47539e48eecc51f95823a310.txt (deflated 78%)\n",
            "  adding: content/Model-V5/Model-segment-evaluation-53/labels/night-front-right-NO20240909-183440-000032F_MP4-0070_jpg.rf.ed86963877d590125c0d24b425ff9d45.txt (deflated 82%)\n",
            "  adding: content/Model-V5/Model-segment-evaluation-53/labels/front-left-NO20240909-143904-000344F_MP4-0130_jpg.rf.a3cd08dea4e26b48d98e190977e00e6b.txt (deflated 78%)\n",
            "  adding: content/Model-V5/Model-segment-evaluation-53/labels/front-left-NO20240908-145538-000141F_MP4-0013_jpg.rf.9811d937ad812e3907a213499c907b0d.txt (deflated 79%)\n",
            "  adding: content/Model-V5/Model-segment-evaluation-53/labels/front-left-NO20240903-152241-000876F_MP4-0082_jpg.rf.6d3effecf70b31b167f2fa8509b0bf36.txt (deflated 80%)\n",
            "  adding: content/Model-V5/Model-segment-evaluation-53/labels/front-left-NO20240903-150741-000861F_MP4-0135_jpg.rf.cb7ed69ff5ac5a4c6d0c07a987a70114.txt (deflated 79%)\n",
            "  adding: content/Model-V5/Model-segment-evaluation-53/labels/front-left_MP4-0105_jpg.rf.e3680fe0af4b5858643381523782a28a.txt (deflated 85%)\n",
            "  adding: content/Model-V5/Model-segment-evaluation-53/labels/front-left-NO20240903-145041-000844F_MP4-0067_jpg.rf.0e5f4af9bd62ad07288aa970d798594a.txt (deflated 76%)\n",
            "  adding: content/Model-V5/Model-segment-evaluation-53/labels/front-left-NO20240903-145541-000849F_MP4-0101_jpg.rf.01dc8fba5f8a7479e29ce9ec37f06800.txt (deflated 76%)\n",
            "  adding: content/Model-V5/Model-segment-evaluation-53/labels/front-right-NO20240903-144141-000835F_MP4-0220_jpg.rf.f7bf2b4a0cff08fdf3b31a60a3ccf5b2.txt (deflated 83%)\n",
            "  adding: content/Model-V5/Model-segment-evaluation-53/labels/front-right-NO20240903-144141-000835F_MP4-0097_jpg.rf.88aab59ce36aa428bb7a52d06e4ec505.txt (deflated 84%)\n",
            "  adding: content/Model-V5/Model-segment-evaluation-53/labels/front-left-NO20240909-144404-000349F_MP4-0118_jpg.rf.0a1c7541bbbe2e3d67d3adc9b91c01a0.txt (deflated 72%)\n",
            "  adding: content/Model-V5/Model-segment-evaluation-53/labels/front-left-NO20240903-145541-000849F_MP4-0221_jpg.rf.c2df43f8cb0cf1b6e7ad9da8754d75fc.txt (deflated 76%)\n",
            "  adding: content/Model-V5/Model-segment-evaluation-53/labels/front-left-NO20240903-145141-000845F_MP4-0002_jpg.rf.4c83ca346306ebf326137fb001224a9b.txt (deflated 78%)\n",
            "  adding: content/Model-V5/Model-segment-evaluation-53/labels/front-left-NO20240903-152241-000876F_MP4-0102_jpg.rf.70cf55447b7ee94104e397d282f9b6cb.txt (deflated 77%)\n",
            "  adding: content/Model-V5/Model-segment-evaluation-53/labels/front-left-NO20240903-145141-000845F_MP4-0111_jpg.rf.a7d824fe5f5fb603259fca6e0ecbdeb1.txt (deflated 78%)\n",
            "  adding: content/Model-V5/Model-segment-evaluation-53/labels/front-left-NO20240903-152241-000876F_MP4-0152_jpg.rf.a27eee09c657613fdecaafe074f723aa.txt (deflated 81%)\n",
            "  adding: content/Model-V5/Model-segment-evaluation-53/labels/front-left-NO20240909-143204-000337F_MP4-0030_jpg.rf.443de7525531b032af1ce728c0938424.txt (deflated 84%)\n",
            "  adding: content/Model-V5/Model-segment-evaluation-53/labels/front-left-NO20240909-144004-000345F_MP4-0039_jpg.rf.7bce3212211ccf0663d3ec95f6c45b6c.txt (deflated 77%)\n",
            "  adding: content/Model-V5/Model-segment-evaluation-53/labels/front-left-NO20240903-150741-000861F_MP4-0083_jpg.rf.a0354f9fb3327edb2a663240258709cc.txt (deflated 78%)\n",
            "  adding: content/Model-V5/Model-segment-evaluation-53/labels/front-left-NO20240903-145141-000845F_MP4-0093_jpg.rf.0db522e8104e162b97e1be56f0fd108f.txt (deflated 80%)\n",
            "  adding: content/Model-V5/Model-segment-evaluation-53/labels/front-left-NO20240903-145441-000848F_MP4-0125_jpg.rf.3b37fa2373f932ab196f3afc0445ede5.txt (deflated 78%)\n",
            "  adding: content/Model-V5/Model-segment-evaluation-53/labels/cars-NO20240914-114048-000222F_MP4-0201_jpg.rf.1d4e1c4b95260eb609e3fec7134236e7.txt (deflated 82%)\n",
            "  adding: content/Model-V5/Model-segment-evaluation-53/labels/front-left_MP4-0023_jpg.rf.ec1eaa4ad7f619b656b007068d0049a8.txt (deflated 83%)\n",
            "  adding: content/Model-V5/Model-segment-evaluation-53/labels/front-left-NO20240903-145041-000844F_MP4-0022_jpg.rf.e52372555179ea6a1469415a78d49338.txt (deflated 80%)\n",
            "  adding: content/Model-V5/Model-segment-evaluation-53/labels/cars-NO20240910-060525-000077F_MP4-0120_jpg.rf.40848dc056156ba6d6cadadff48dc77e.txt (deflated 77%)\n",
            "  adding: content/Model-V5/Model-segment-evaluation-53/labels/NO20240917-144137-000246F_MP4-0073_jpg.rf.9dcec72f2926c32343f8c8538e8af87c.txt (deflated 79%)\n",
            "  adding: content/Model-V5/Model-segment-evaluation-53/labels/front-left-NO20240903-150741-000861F_MP4-0139_jpg.rf.0493117e786862f05e98dc38150dd377.txt (deflated 79%)\n",
            "  adding: content/Model-V5/Model-segment-evaluation-53/labels/front-left-NO20240903-145041-000844F_MP4-0221_jpg.rf.075155f8106c89c94ddd3e402c33dec7.txt (deflated 79%)\n",
            "  adding: content/Model-V5/Model-segment-evaluation-53/labels/front-left-NO20240903-145041-000844F_MP4-0140_jpg.rf.5063080260bde6c6b6b35eb390478ad2.txt (deflated 79%)\n",
            "  adding: content/Model-V5/Model-segment-evaluation-53/labels/v6_mp4-0016_jpg.rf.798e64e5bacfbf49831a7c8e12985eba.txt (deflated 81%)\n",
            "  adding: content/Model-V5/Model-segment-evaluation-53/labels/front-left_MP4-0155_jpg.rf.f1f662d3350f7189c07501e29ebb99e3.txt (deflated 79%)\n",
            "  adding: content/Model-V5/Model-segment-evaluation-53/labels/front-left-NO20240909-150404-000369F_MP4-0151_jpg.rf.d312e2390125e73e7da8e69f20d696b9.txt (deflated 80%)\n",
            "  adding: content/Model-V5/Model-segment-evaluation-53/labels/front-left-NO20240909-145704-000362F_MP4-0189_jpg.rf.32dca977f137465fe7e1d3fa7a390d15.txt (deflated 71%)\n",
            "  adding: content/Model-V5/Model-segment-evaluation-53/labels/front-left-NO20240903-152241-000876F_MP4-0147_jpg.rf.5b9950716267e0187a63b9b5ae746bfc.txt (deflated 81%)\n",
            "  adding: content/Model-V5/Model-segment-evaluation-53/labels/front-left_MP4-0002_jpg.rf.40bf51af038502372ad3d95f28bdab79.txt (deflated 75%)\n",
            "  adding: content/Model-V5/Model-segment-evaluation-53/labels/front-left-NO20240903-145141-000845F_MP4-0050_jpg.rf.6e468a403fd6e2263adbfe549b3eec90.txt (deflated 82%)\n",
            "  adding: content/Model-V5/Model-segment-evaluation-53/labels/front-left-NO20240908-145538-000141F_MP4-0006_jpg.rf.75d13d0050971f8cedbe900e32b25080.txt (deflated 74%)\n",
            "  adding: content/Model-V5/Model-segment-evaluation-53/labels/front-left-NO20240903-145141-000845F_MP4-0038_jpg.rf.03bfafd55d1d6c0b31dbe2959aa7e4fb.txt (deflated 78%)\n",
            "  adding: content/Model-V5/Model-segment-evaluation-53/labels/front-left-NO20240903-145541-000849F_MP4-0061_jpg.rf.f0ca211280a71e3b381cddd1ec46d0c7.txt (deflated 77%)\n",
            "  adding: content/Model-V5/Model-segment-evaluation-53/labels/front-left-NO20240903-145141-000845F_MP4-0094_jpg.rf.e6d855ad65460e6ab5b33b651d3a05b8.txt (deflated 79%)\n",
            "  adding: content/Model-V5/Model-segment-evaluation-53/labels/front-left-NO20240903-150741-000861F_MP4-0092_jpg.rf.dc9f70cae95789bf26e6e667572be864.txt (deflated 77%)\n",
            "  adding: content/Model-V5/Model-segment-evaluation-53/labels/front-left_MP4-0187_jpg.rf.d616df18ffdb388edd2bcab75d8f7c84.txt (deflated 82%)\n",
            "  adding: content/Model-V5/Model-segment-evaluation-53/labels/cars-NO20240914-114048-000222F_MP4-0240_jpg.rf.0166f50251d3455cbface9355c9f9a6a.txt (deflated 81%)\n",
            "  adding: content/Model-V5/Model-segment-evaluation-53/labels/front-left_MP4-0197_jpg.rf.01f686ac936c9e6806e623e26699b50e.txt (deflated 81%)\n",
            "  adding: content/Model-V5/Model-segment-evaluation-53/labels/v1_mp4-0021_jpg.rf.571e8f0fd8d61db808edba43fa8fa91d.txt (deflated 78%)\n",
            "  adding: content/Model-V5/Model-segment-evaluation-53/labels/front-left-NO20240909-150504-000370F_MP4-0292_jpg.rf.0dced2ac6cf2171b05c179714d8e004a.txt (deflated 75%)\n",
            "  adding: content/Model-V5/Model-segment-evaluation-53/labels/front-left-NO20240903-145541-000849F_MP4-0228_jpg.rf.fd0af371a3a31e40199c38c957d78802.txt (deflated 76%)\n",
            "  adding: content/Model-V5/Model-segment-evaluation-53/labels/front-left-NO20240909-145904-000364F_MP4-0101_jpg.rf.f85157f344ba1c5a0fa17bafdb4d211f.txt (deflated 77%)\n",
            "  adding: content/Model-V5/Model-segment-evaluation-53/labels/front-left-NO20240903-145041-000844F_MP4-0141_jpg.rf.5952e63e776c8e71481142a1cfbf8058.txt (deflated 81%)\n",
            "  adding: content/Model-V5/Model-segment-evaluation-53/labels/front-left-NO20240909-150404-000369F_MP4-0028_jpg.rf.c2b24d5ac947facfac0645f39550347c.txt (deflated 78%)\n",
            "  adding: content/Model-V5/Model-segment-evaluation-53/labels/front-left-NO20240903-145041-000844F_MP4-0205_jpg.rf.a86c8cb1a6956ff62d029720c03b162a.txt (deflated 78%)\n",
            "  adding: content/Model-V5/Model-segment-evaluation-53/labels/NO20240909-181040-000008F_MP4-0170_jpg.rf.87e6e3927fdd952a75a22802653d486d.txt (deflated 79%)\n",
            "  adding: content/Model-V5/Model-segment-evaluation-53/labels/night-front-right-NO20240909-182940-000027F_MP4-0136_jpg.rf.047155661ffaf1ebf0e88e91ff03cfb4.txt (deflated 83%)\n",
            "  adding: content/Model-V5/Model-segment-evaluation-53/labels/front-left-NO20240903-150741-000861F_MP4-0228_jpg.rf.8ca0d669c142411c9067830c6375ee56.txt (deflated 81%)\n",
            "  adding: content/Model-V5/Model-segment-evaluation-53/labels/front-right-NO20240903-144141-000835F_MP4-0072_jpg.rf.3ca9b7e2191bf9167a50eb965a636281.txt (deflated 83%)\n",
            "  adding: content/Model-V5/Model-segment-evaluation-53/labels/front-left_MP4-0209_jpg.rf.143f196040ef94c322fb29581299fcc0.txt (deflated 76%)\n",
            "  adding: content/Model-V5/Model-segment-evaluation-53/labels/v1_mp4-0026_jpg.rf.234a33560a2e14807ede53463aba2870.txt (deflated 79%)\n",
            "  adding: content/Model-V5/Model-segment-evaluation-53/labels/front-left-NO20240903-150741-000861F_MP4-0007_jpg.rf.c9cd07d18f1bfa9b5e2692b46d928192.txt (deflated 76%)\n",
            "  adding: content/Model-V5/Model-segment-evaluation-53/labels/NO20240917-143837-000243F_MP4-0110_jpg.rf.aac2da00eb18861accbf79eb3770ba5e.txt (deflated 80%)\n",
            "  adding: content/Model-V5/Model-segment-evaluation-53/labels/front-left-NO20240903-150741-000861F_MP4-0148_jpg.rf.944eabf41fe58b9584d5f003ba78b8e3.txt (deflated 79%)\n",
            "  adding: content/Model-V5/Model-segment-evaluation-53/labels/front-left-NO20240903-152241-000876F_MP4-0283_jpg.rf.2fa202feca291b283d17deb0081fca22.txt (deflated 78%)\n",
            "  adding: content/Model-V5/Model-segment-evaluation-53/labels/front-left-NO20240903-145041-000844F_MP4-0154_jpg.rf.3d20e3f7f178a9fdddc230c0d0b1b35f.txt (deflated 80%)\n",
            "  adding: content/Model-V5/Model-segment-evaluation-53/labels/front-left-NO20240903-145141-000845F_MP4-0001_jpg.rf.b590b4d65961603a50c7df67ba4fd058.txt (deflated 80%)\n",
            "  adding: content/Model-V5/Model-segment-evaluation-53/labels/front-left-NO20240903-145041-000844F_MP4-0164_jpg.rf.21ac6c54798e9349c508d2786e4d2f1c.txt (deflated 78%)\n",
            "  adding: content/Model-V5/Model-segment-evaluation-53/labels/front-left-NO20240908-150138-000147F_MP4-0112_jpg.rf.b059e9a88885537e421e6d84588971d0.txt (deflated 77%)\n",
            "  adding: content/Model-V5/Model-segment-evaluation-53/labels/front-left-NO20240908-150138-000147F_MP4-0012_jpg.rf.56f1e1048f3646c30f2064b83809a69c.txt (deflated 72%)\n",
            "  adding: content/Model-V5/Model-segment-evaluation-53/labels/front-left-NO20240903-152241-000876F_MP4-0031_jpg.rf.ecef296635d7b8340ee6b832e46aa52d.txt (deflated 79%)\n",
            "  adding: content/Model-V5/Model-segment-evaluation-53/labels/front-left-NO20240903-152241-000876F_MP4-0287_jpg.rf.e0eacb7ed430e6c70c5758d1c1ad7bba.txt (deflated 81%)\n",
            "  adding: content/Model-V5/Model-segment-evaluation-53/labels/front-left-NO20240903-150741-000861F_MP4-0210_jpg.rf.5acaf935709d6f41a20b4c0a3bed98ba.txt (deflated 78%)\n",
            "  adding: content/Model-V5/Model-segment-evaluation-53/labels/front-left-NO20240903-150741-000861F_MP4-0249_jpg.rf.7852166ca5f937ae08ed3f7f2f226556.txt (deflated 79%)\n",
            "  adding: content/Model-V5/Model-segment-evaluation-53/labels/front-left-NO20240903-152241-000876F_MP4-0278_jpg.rf.92fa6ca62378f93fc8e1279e60e5bc82.txt (deflated 77%)\n",
            "  adding: content/Model-V5/Model-segment-evaluation-53/labels/front-right-NO20240909-181540-000013F_MP4-0025_jpg.rf.7bb3a2e8c1e77ea93a89ad572134114f.txt (deflated 76%)\n",
            "  adding: content/Model-V5/Model-segment-evaluation-53/labels/front-left-NO20240903-150741-000861F_MP4-0203_jpg.rf.68c9ca938056306b294b8bade1fd77d2.txt (deflated 80%)\n",
            "  adding: content/Model-V5/Model-segment-evaluation-53/labels/front-left_MP4-0082_jpg.rf.a3fd12a0dd471a7f64e3e4baace6d285.txt (deflated 79%)\n",
            "  adding: content/Model-V5/Model-segment-evaluation-53/labels/front-left-NO20240903-152241-000876F_MP4-0184_jpg.rf.2f78c4e4aacc5677563255576e73fe5e.txt (deflated 78%)\n",
            "  adding: content/Model-V5/Model-segment-evaluation-53/labels/front-left_MP4-0067_jpg.rf.5a575e911f555972a6dcbdfa2e57173e.txt (deflated 80%)\n",
            "  adding: content/Model-V5/Model-segment-evaluation-53/labels/front-right-NO20240903-144141-000835F_MP4-0230_jpg.rf.e4d57d91c00b3ca7a368b0f47ef3abfc.txt (deflated 82%)\n",
            "  adding: content/Model-V5/Model-segment-evaluation-53/labels/front-left-NO20240910-064125-000113F_MP4-0214_jpg.rf.d3c9b2276f4168c2483330bb6c86386f.txt (deflated 79%)\n",
            "  adding: content/Model-V5/Model-segment-evaluation-53/labels/v5_mp4-0090_jpg.rf.a15c4dfcdd04d3e94822c472a142681a.txt (deflated 78%)\n",
            "  adding: content/Model-V5/Model-segment-evaluation-53/labels/front-left-NO20240903-145041-000844F_MP4-0200_jpg.rf.fbd3d69232293d54c1d7c1ad1e3c74d2.txt (deflated 79%)\n",
            "  adding: content/Model-V5/Model-segment-evaluation-53/labels/NO20240917-144137-000246F_MP4-0055_jpg.rf.fb2f1cf0673a384de55764e3d338fba5.txt (deflated 77%)\n",
            "  adding: content/Model-V5/Model-segment-evaluation-53/labels/front-left-NO20240903-145141-000845F_MP4-0043_jpg.rf.df0d418e864de1ddccb9b925d889bbb1.txt (deflated 79%)\n",
            "  adding: content/Model-V5/Model-segment-evaluation-53/labels/front-left_MP4-0020_jpg.rf.52b78a4d4e242f6dba614a9d39097fa1.txt (deflated 83%)\n",
            "  adding: content/Model-V5/Model-segment-evaluation-53/labels/front-left_MP4-0114_jpg.rf.22cbc95d85f42859712503a4327822da.txt (deflated 78%)\n",
            "  adding: content/Model-V5/Model-segment-evaluation-53/labels/front-left-NO20240909-145604-000361F_MP4-0084_jpg.rf.761d7265f5714d23baed3d11b5eb1de1.txt (deflated 76%)\n",
            "  adding: content/Model-V5/Model-segment-evaluation-53/labels/front-left-NO20240903-145041-000844F_MP4-0148_jpg.rf.f9825c58ecf17f403b3d3b4f0c15ac95.txt (deflated 76%)\n",
            "  adding: content/Model-V5/Model-segment-evaluation-53/labels/front-right-NO20240903-144041-000834F_MP4-0040_jpg.rf.9c758dcb18b8cf390e3a4e698e5f60e0.txt (deflated 78%)\n",
            "  adding: content/Model-V5/Model-segment-evaluation-53/labels/front-left-NO20240903-145141-000845F_MP4-0015_jpg.rf.b79918af95cd629585fcaa4c89a32ad2.txt (deflated 78%)\n",
            "  adding: content/Model-V5/Model-segment-evaluation-53/labels/front-left-NO20240903-145141-000845F_MP4-0073_jpg.rf.cfe155d8c161b52632708fb3c0a86c55.txt (deflated 79%)\n",
            "  adding: content/Model-V5/Model-segment-evaluation-53/labels/v5_mp4-0074_jpg.rf.b5e56b614e196b15346234b4adfffc00.txt (deflated 80%)\n",
            "  adding: content/Model-V5/Model-segment-evaluation-53/labels/front-left-NO20240903-150741-000861F_MP4-0168_jpg.rf.47940c5e1014808f74bba853ebaeb1ad.txt (deflated 81%)\n",
            "  adding: content/Model-V5/Model-segment-evaluation-53/labels/front-right-NO20240903-144141-000835F_MP4-0164_jpg.rf.8ffd350e984867bdd7587167eb5aec1f.txt (deflated 77%)\n",
            "  adding: content/Model-V5/Model-segment-evaluation-53/labels/front-right-NO20240903-144041-000834F_MP4-0231_jpg.rf.bc4a243680f92080da9aa0876f2b3707.txt (deflated 83%)\n",
            "  adding: content/Model-V5/Model-segment-evaluation-53/labels/cars-NO20240914-114248-000224F_MP4-0161_jpg.rf.47343f8f6434e9a1a5220540f321ab78.txt (deflated 80%)\n",
            "  adding: content/Model-V5/Model-segment-evaluation-53/labels/front-left-NO20240903-145041-000844F_MP4-0121_jpg.rf.c0973562124a2f9ffbfa8b628e4c0d00.txt (deflated 80%)\n",
            "  adding: content/Model-V5/Model-segment-evaluation-53/labels/front-left-NO20240903-145041-000844F_MP4-0299_jpg.rf.b0aac242a212ef9e6088a77185dcfe30.txt (deflated 79%)\n",
            "  adding: content/Model-V5/Model-segment-evaluation-53/labels/front-left-NO20240909-144104-000346F_MP4-0296_jpg.rf.9135ca30d2380aa47efaeaf222d1d1f9.txt (deflated 75%)\n",
            "  adding: content/Model-V5/Model-segment-evaluation-53/labels/front-left-NO20240903-145141-000845F_MP4-0068_jpg.rf.9a65967e1e14b8ccdf2fd74bb898a643.txt (deflated 79%)\n",
            "  adding: content/Model-V5/Model-segment-evaluation-53/labels/front-left_MP4-0107_jpg.rf.8190e45dd5bbedb35e7d623a371e6457.txt (deflated 83%)\n",
            "  adding: content/Model-V5/Model-segment-evaluation-53/labels/front-left-NO20240903-145541-000849F_MP4-0148_jpg.rf.254bfe8743f42650a3799175366bf32f.txt (deflated 81%)\n",
            "  adding: content/Model-V5/Model-segment-evaluation-53/labels/front-left-NO20240909-144504-000350F_MP4-0298_jpg.rf.1571a39e7599528f2fefb041c4edbc14.txt (deflated 73%)\n",
            "  adding: content/Model-V5/Model-segment-evaluation-53/labels/front-left-NO20240903-145441-000848F_MP4-0114_jpg.rf.ba86cf7d6635ce440a2c3bd4749beff4.txt (deflated 78%)\n",
            "  adding: content/Model-V5/Model-segment-evaluation-53/labels/front-left-NO20240903-145141-000845F_MP4-0079_jpg.rf.6b5ca4411fa310aeec626c5c0a7c223c.txt (deflated 79%)\n",
            "  adding: content/Model-V5/Model-segment-evaluation-53/labels/night-front-right-NO20240909-183540-000033F_MP4-0044_jpg.rf.756e44e2afbe48b5b1e0793280e4e7ef.txt (deflated 79%)\n",
            "  adding: content/Model-V5/Model-segment-evaluation-53/labels/front-left-NO20240908-150438-000150F_MP4-0035_jpg.rf.bb93b2e902305593b9ba8c5eb1019c73.txt (deflated 78%)\n",
            "  adding: content/Model-V5/Model-segment-evaluation-53/labels/front-left-NO20240909-144004-000345F_MP4-0145_jpg.rf.2aa0133ff972997e7a87c57df6412c84.txt (deflated 77%)\n",
            "  adding: content/Model-V5/Model-segment-evaluation-53/labels/front-left_MP4-0039_jpg.rf.a7c15892f412ed977a761062477884a6.txt (deflated 82%)\n",
            "  adding: content/Model-V5/Model-segment-evaluation-53/labels/front-left-NO20240903-145141-000845F_MP4-0187_jpg.rf.417471ed9f3208dc2296d331a1c7546e.txt (deflated 81%)\n",
            "  adding: content/Model-V5/Model-segment-evaluation-53/labels/front-left-NO20240903-145041-000844F_MP4-0209_jpg.rf.91d56839d6e62bd4f6ba112dbd15d10c.txt (deflated 81%)\n",
            "  adding: content/Model-V5/Model-segment-evaluation-53/labels/front-left-NO20240903-145041-000844F_MP4-0102_jpg.rf.f39303c8d95f717a6fd332d4316c4c4d.txt (deflated 78%)\n",
            "  adding: content/Model-V5/Model-segment-evaluation-53/labels/front-left-NO20240908-150138-000147F_MP4-0166_jpg.rf.d12794a0321c3746e1db4b04c6f75aa6.txt (deflated 77%)\n",
            "  adding: content/Model-V5/Model-segment-evaluation-53/labels/front-left-NO20240903-145041-000844F_MP4-0215_jpg.rf.01d5d4741887dc678d980d6ac3249b46.txt (deflated 82%)\n",
            "  adding: content/Model-V5/Model-segment-evaluation-53/labels/front-left-NO20240908-145938-000145F_MP4-0025_jpg.rf.dddadef976e34998137083da6a5c7f79.txt (deflated 80%)\n",
            "  adding: content/Model-V5/Model-segment-evaluation-53/labels/night-front-right-NO20240909-183440-000032F_MP4-0045_jpg.rf.a7b870a9c8792b950ff9c9dc11c9b8ce.txt (deflated 80%)\n",
            "  adding: content/Model-V5/Model-segment-evaluation-53/labels/front-left-NO20240903-145041-000844F_MP4-0225_jpg.rf.1a72877d3e63e09e8e407cb88e9dfd0b.txt (deflated 80%)\n",
            "  adding: content/Model-V5/Model-segment-evaluation-53/labels/front-left-NO20240903-145141-000845F_MP4-0046_jpg.rf.a7deabe025d787c132e0c44f2001cb15.txt (deflated 79%)\n",
            "  adding: content/Model-V5/Model-segment-evaluation-53/labels/v8_mp4-0025_jpg.rf.408e2a67f0c51c38d3bfeefbdfe763e7.txt (deflated 79%)\n",
            "  adding: content/Model-V5/Model-segment-evaluation-53/labels/front-left-NO20240903-150741-000861F_MP4-0205_jpg.rf.0b8afca62bbf00752168b4d1fdb0fde2.txt (deflated 82%)\n",
            "  adding: content/Model-V5/Model-segment-evaluation-53/labels/front-left-NO20240903-145541-000849F_MP4-0030_jpg.rf.83738313c27964a9ffdb18b0514779c6.txt (deflated 77%)\n",
            "  adding: content/Model-V5/Model-segment-evaluation-53/labels/front-left-NO20240903-145141-000845F_MP4-0060_jpg.rf.f8906e0fc84cdefb6d0f0ee23f935b81.txt (deflated 79%)\n",
            "  adding: content/Model-V5/Model-segment-evaluation-53/labels/night-front-right-NO20240909-183440-000032F_MP4-0171_jpg.rf.9491116f8001353e53e35ffadd053a18.txt (deflated 79%)\n",
            "  adding: content/Model-V5/Model-segment-evaluation-53/labels/NO20240909-181040-000008F_MP4-0155_jpg.rf.5e8e5460c6a116d1d2c132298e41d618.txt (deflated 81%)\n",
            "  adding: content/Model-V5/Model-segment-evaluation-53/labels/NO20240909-181040-000008F_MP4-0165_jpg.rf.26cbfc2ba3694d35e7ba528ad5185559.txt (deflated 80%)\n",
            "  adding: content/Model-V5/Model-segment-evaluation-53/labels/front-left_MP4-0055_jpg.rf.cd7625a359e504db647435b26d3b469b.txt (deflated 81%)\n",
            "  adding: content/Model-V5/Model-segment-evaluation-53/labels/cars-NO20240914-114048-000222F_MP4-0007_jpg.rf.e1c938839fc0623209d98182c9452535.txt (deflated 80%)\n",
            "  adding: content/Model-V5/Model-segment-evaluation-53/labels/cars-NO20240914-112948-000211F_MP4-0051_jpg.rf.f011f09a94a9ca9b2ce13fdbbe427f9d.txt (deflated 78%)\n",
            "  adding: content/Model-V5/Model-segment-evaluation-53/labels/v1_mp4-0024_jpg.rf.3572c04a1ea03cba3b3d9ffee6282f4f.txt (deflated 76%)\n",
            "  adding: content/Model-V5/Model-segment-evaluation-53/labels/front-left_MP4-0080_jpg.rf.c1efa170f57b8c229707c051d1555ba7.txt (deflated 81%)\n",
            "  adding: content/Model-V5/Model-segment-evaluation-53/labels/NO20240917-144137-000246F_MP4-0048_jpg.rf.68a497284c45890684c5c6f5ce262563.txt (deflated 78%)\n",
            "  adding: content/Model-V5/Model-segment-evaluation-53/labels/front-left-NO20240903-150741-000861F_MP4-0194_jpg.rf.2887860b18f1b29e3cd60c0679e405d3.txt (deflated 80%)\n",
            "  adding: content/Model-V5/Model-segment-evaluation-53/labels/front-left-NO20240903-150741-000861F_MP4-0105_jpg.rf.ba3e2f5be20598dfb075042f4376001b.txt (deflated 79%)\n",
            "  adding: content/Model-V5/Model-segment-evaluation-53/labels/front-left-NO20240903-150741-000861F_MP4-0226_jpg.rf.2fd910cc10643ff42eb76669dc3fe224.txt (deflated 79%)\n",
            "  adding: content/Model-V5/Model-segment-evaluation-53/labels/front-left-NO20240903-145041-000844F_MP4-0212_jpg.rf.57857a1b86dad68cf2c22eadfc68b821.txt (deflated 83%)\n",
            "  adding: content/Model-V5/Model-segment-evaluation-53/labels/front-left-NO20240903-145141-000845F_MP4-0105_jpg.rf.438c9fb33ea1186eee80a8c98af70a8a.txt (deflated 79%)\n",
            "  adding: content/Model-V5/Model-segment-evaluation-53/labels/NO20240909-181040-000008F_MP4-0061_jpg.rf.d4c2b0f1656de547f84b418cb7633953.txt (deflated 75%)\n",
            "  adding: content/Model-V5/Model-segment-evaluation-53/labels/front-right-NO20240903-144141-000835F_MP4-0193_jpg.rf.e6ab2351a9a5317c6b389039afec6a16.txt (deflated 74%)\n",
            "  adding: content/Model-V5/Model-segment-evaluation-53/labels/front-left_MP4-0205_jpg.rf.2c1092a79ede388411b33df8d6702d54.txt (deflated 82%)\n",
            "  adding: content/Model-V5/Model-segment-evaluation-53/labels/front-left_MP4-0021_jpg.rf.0ce355a345b85a278f5db88461450eaf.txt (deflated 84%)\n",
            "  adding: content/Model-V5/Model-segment-evaluation-53/labels/cars-NO20240914-114048-000222F_MP4-0117_jpg.rf.67c08ed13c69ab313a7b327d762bf341.txt (deflated 78%)\n",
            "  adding: content/Model-V5/Model-segment-evaluation-53/labels/front-left-NO20240903-152241-000876F_MP4-0040_jpg.rf.fbb4e177c63d68c31769f5fd85b04d1d.txt (deflated 77%)\n",
            "  adding: content/Model-V5/Model-segment-evaluation-53/labels/front-right-NO20240909-181340-000011F_MP4-0203_jpg.rf.3131cf8a9eb73e194ab8c403651f70f1.txt (deflated 81%)\n",
            "  adding: content/Model-V5/Model-segment-evaluation-53/labels/front-left-NO20240903-150741-000861F_MP4-0040_jpg.rf.3b91e62ae2f5b0fd1348e25e16fc6b2a.txt (deflated 81%)\n",
            "  adding: content/Model-V5/Model-segment-evaluation-53/labels/front-left-NO20240909-144004-000345F_MP4-0037_jpg.rf.51b44f0285143b3985e264d88eb8df80.txt (deflated 77%)\n",
            "  adding: content/Model-V5/Model-segment-evaluation-53/labels/front-right-NO20240903-143941-000833F_MP4-0046_jpg.rf.7d50d74c64b74a2d630aed11144d91c6.txt (deflated 80%)\n",
            "  adding: content/Model-V5/Model-segment-evaluation-53/labels/front-left-NO20240903-145041-000844F_MP4-0130_jpg.rf.c3f14ebe85186c08637f67a90c669aee.txt (deflated 75%)\n",
            "  adding: content/Model-V5/Model-segment-evaluation-53/labels/front-left_MP4-0037_jpg.rf.9dcdf86e4c25316ccf4932ffd1b379e1.txt (deflated 79%)\n",
            "  adding: content/Model-V5/Model-segment-evaluation-53/labels/front-left-NO20240909-150004-000365F_MP4-0088_jpg.rf.21b97ca1f9581635b810e27405ed0a23.txt (deflated 79%)\n",
            "  adding: content/Model-V5/Model-segment-evaluation-53/labels/front-left-NO20240903-152241-000876F_MP4-0203_jpg.rf.8a6564e9c41a62410cf19445232ca308.txt (deflated 75%)\n",
            "  adding: content/Model-V5/Model-segment-evaluation-53/labels/front-left-NO20240903-145141-000845F_MP4-0064_jpg.rf.630b1682074e2e68ed87cf387d74ab88.txt (deflated 81%)\n",
            "  adding: content/Model-V5/Model-segment-evaluation-53/labels/front-left-NO20240903-145141-000845F_MP4-0117_jpg.rf.5d7955b15d2ee7d31b90583819e88d7a.txt (deflated 79%)\n",
            "  adding: content/Model-V5/Model-segment-evaluation-53/labels/front-left-NO20240903-145441-000848F_MP4-0250_jpg.rf.0c621ca0c931b85b934b2f1c7338eed1.txt (deflated 76%)\n",
            "  adding: content/Model-V5/Model-segment-evaluation-53/labels/front-left-NO20240903-145041-000844F_MP4-0135_jpg.rf.47bc81488c588d27b10dd9ad9aeff525.txt (deflated 78%)\n",
            "  adding: content/Model-V5/Model-segment-evaluation-53/labels/front-left-NO20240910-064125-000113F_MP4-0218_jpg.rf.14169cd2c4a29d46e07901cd709fc5f3.txt (deflated 79%)\n",
            "  adding: content/Model-V5/Model-segment-evaluation-53/labels/front-left-NO20240903-150741-000861F_MP4-0084_jpg.rf.98f575947263355db87a77e5ba4b96c5.txt (deflated 81%)\n",
            "  adding: content/Model-V5/Model-segment-evaluation-53/labels/front-right-NO20240909-181440-000012F_MP4-0033_jpg.rf.67d9404da655e63f7d884e5477c646ac.txt (deflated 73%)\n",
            "  adding: content/Model-V5/Model-segment-evaluation-53/labels/front-left-NO20240903-150741-000861F_MP4-0036_jpg.rf.6aedd351fcf27d27161ac82023ef85b6.txt (deflated 79%)\n",
            "  adding: content/Model-V5/Model-segment-evaluation-53/labels/front-right-NO20240903-143941-000833F_MP4-0092_jpg.rf.4e1ce8e7c5d4c5b433d2482e1d4c8db6.txt (deflated 83%)\n",
            "  adding: content/Model-V5/Model-segment-evaluation-53/labels/v3_mp4-0008_jpg.rf.186852c09931b87e4f847d5d7f0be6ea.txt (deflated 76%)\n",
            "  adding: content/Model-V5/Model-segment-evaluation-53/labels/front-left-NO20240909-144004-000345F_MP4-0171_jpg.rf.35e4ced8802a1f5d0382c7002b1fa451.txt (deflated 80%)\n",
            "  adding: content/Model-V5/Model-segment-evaluation-53/labels/front-right-NO20240903-143941-000833F_MP4-0277_jpg.rf.9efbd5f7b1dd6b01682a062c17e72581.txt (deflated 82%)\n",
            "  adding: content/Model-V5/Model-segment-evaluation-53/labels/front-left-NO20240903-152241-000876F_MP4-0146_jpg.rf.920a9638c74f1e97578258e059e2ed68.txt (deflated 80%)\n",
            "  adding: content/Model-V5/Model-segment-evaluation-53/labels/front-left-NO20240903-145441-000848F_MP4-0164_jpg.rf.04ec8f2ecab772f53db1d8c48d8b8984.txt (deflated 75%)\n",
            "  adding: content/Model-V5/Model-segment-evaluation-53/labels/NO20240909-181040-000008F_MP4-0145_jpg.rf.82234c8467f6e8ee9d1d2990611e2a6e.txt (deflated 82%)\n",
            "  adding: content/Model-V5/Model-segment-evaluation-53/labels/front-left_MP4-0121_jpg.rf.2a657863d96a89ae946eb20ff7f62905.txt (deflated 79%)\n",
            "  adding: content/Model-V5/Model-segment-evaluation-53/labels/front-right-NO20240903-144041-000834F_MP4-0037_jpg.rf.81a5114be16dac75527a9463f7da103e.txt (deflated 77%)\n",
            "  adding: content/Model-V5/Model-segment-evaluation-53/labels/front-left-NO20240903-145541-000849F_MP4-0054_jpg.rf.bb3c6239c0cf72206b2a4ca84ff57803.txt (deflated 77%)\n",
            "  adding: content/Model-V5/Model-segment-evaluation-53/labels/front-left-NO20240903-152241-000876F_MP4-0059_jpg.rf.38789fd48f8647ec3cde93919891b793.txt (deflated 75%)\n",
            "  adding: content/Model-V5/Model-segment-evaluation-53/labels/night-front-right-NO20240909-183540-000033F_MP4-0215_jpg.rf.a3c5ee38873b85f3586f0397a6ac2c19.txt (deflated 75%)\n",
            "  adding: content/Model-V5/Model-segment-evaluation-53/labels/v3_mp4-0007_jpg.rf.c975d97eb6f5719640a966165d6abf35.txt (deflated 80%)\n",
            "  adding: content/Model-V5/Model-segment-evaluation-53/labels/front-left-NO20240908-150138-000147F_MP4-0125_jpg.rf.829b3290886378e45eaee21bffb6a7e9.txt (deflated 78%)\n",
            "  adding: content/Model-V5/Model-segment-evaluation-53/labels/front-right-NO20240903-144141-000835F_MP4-0159_jpg.rf.bfec3107b90e711c58dc371bce6ca33e.txt (deflated 79%)\n",
            "  adding: content/Model-V5/Model-segment-evaluation-53/labels/front-right-NO20240903-144041-000834F_MP4-0226_jpg.rf.5516e334511588e73177b7dec1740c0d.txt (deflated 80%)\n",
            "  adding: content/Model-V5/Model-segment-evaluation-53/labels/front-left-NO20240903-145541-000849F_MP4-0240_jpg.rf.cf6e7a17f1de040001ef883a985301cb.txt (deflated 78%)\n",
            "  adding: content/Model-V5/Model-segment-evaluation-53/labels/front-left-NO20240903-145541-000849F_MP4-0066_jpg.rf.6286c5140c1975abe3ded1f3bf0d628d.txt (deflated 76%)\n",
            "  adding: content/Model-V5/Model-segment-evaluation-53/labels/front-left-NO20240909-145904-000364F_MP4-0123_jpg.rf.d4f9a557de22f7b903c6cf1478fe3a0f.txt (deflated 79%)\n",
            "  adding: content/Model-V5/Model-segment-evaluation-53/labels/front-right-NO20240903-143941-000833F_MP4-0093_jpg.rf.3bd7f1f1cbdac9b9e354547ee5e02c3f.txt (deflated 82%)\n",
            "  adding: content/Model-V5/Model-segment-evaluation-53/labels/front-left-NO20240903-150741-000861F_MP4-0072_jpg.rf.7bdcf0ca7e0c95ef36f5a41d06f6218e.txt (deflated 80%)\n",
            "  adding: content/Model-V5/Model-segment-evaluation-53/labels/front-left-NO20240903-145141-000845F_MP4-0141_jpg.rf.4207a7136b81306ec2bf6b8000a56f6c.txt (deflated 79%)\n",
            "  adding: content/Model-V5/Model-segment-evaluation-53/labels/front-left-NO20240903-145041-000844F_MP4-0108_jpg.rf.867e8e7bc0dcc52ae84beb8da0f481fd.txt (deflated 81%)\n",
            "  adding: content/Model-V5/Model-segment-evaluation-53/labels/v8_mp4-0060_jpg.rf.91946c9b034e094a03d6decbde02268e.txt (deflated 81%)\n",
            "  adding: content/Model-V5/Model-segment-evaluation-53/labels/cars-NO20240914-114248-000224F_MP4-0006_jpg.rf.9b8fff1e657627fd16079b1289db55fb.txt (deflated 77%)\n",
            "  adding: content/Model-V5/Model-segment-evaluation-53/labels/front-left-NO20240903-152241-000876F_MP4-0239_jpg.rf.b251ec6ce8d84768a5e713c4e19bbc46.txt (deflated 77%)\n",
            "  adding: content/Model-V5/Model-segment-evaluation-53/labels/front-left-NO20240903-145041-000844F_MP4-0239_jpg.rf.85c49c59a011b452dc97e6390288edf6.txt (deflated 78%)\n",
            "  adding: content/Model-V5/Model-segment-evaluation-53/labels/front-right-NO20240903-144141-000835F_MP4-0176_jpg.rf.4b83421d57e26be4735f69d8adf7762e.txt (deflated 78%)\n",
            "  adding: content/Model-V5/Model-segment-evaluation-53/labels/front-left-NO20240909-145804-000363F_MP4-0016_jpg.rf.466c36eb6b0216b59c1b525802a36903.txt (deflated 76%)\n",
            "  adding: content/Model-V5/Model-segment-evaluation-53/labels/front-left-NO20240903-145141-000845F_MP4-0089_jpg.rf.b71a246a01f9fa25950409db66635bfd.txt (deflated 77%)\n",
            "  adding: content/Model-V5/Model-segment-evaluation-53/labels/front-left-NO20240903-152241-000876F_MP4-0020_jpg.rf.a76adad04cd0460246a55c0c150bf9bd.txt (deflated 79%)\n",
            "  adding: content/Model-V5/Model-segment-evaluation-53/labels/front-left_MP4-0206_jpg.rf.027945bf09b03c129bf0570db324f134.txt (deflated 77%)\n",
            "  adding: content/Model-V5/Model-segment-evaluation-53/labels/front-left-NO20240903-145541-000849F_MP4-0000_jpg.rf.5cddf84dc2baf4666b6186adfc88b4b1.txt (deflated 78%)\n",
            "  adding: content/Model-V5/Model-segment-evaluation-53/labels/front-left-NO20240909-150504-000370F_MP4-0214_jpg.rf.4721e2f1e5e6655c36ca551d9b35aab4.txt (deflated 78%)\n",
            "  adding: content/Model-V5/Model-segment-evaluation-53/labels/front-right-NO20240903-144041-000834F_MP4-0245_jpg.rf.5d94000c624992f0d3630022193066c4.txt (deflated 79%)\n",
            "  adding: content/Model-V5/Model-segment-evaluation-53/labels/front-left-NO20240903-150741-000861F_MP4-0094_jpg.rf.80de8ca4acf8fb0c530100a9eb44d862.txt (deflated 77%)\n",
            "  adding: content/Model-V5/Model-segment-evaluation-53/labels/front-left-NO20240903-145141-000845F_MP4-0223_jpg.rf.09fb89a794db1e492b0f7edbd9a22c7d.txt (deflated 77%)\n",
            "  adding: content/Model-V5/Model-segment-evaluation-53/labels/front-left_MP4-0014_jpg.rf.ae1d4d58eabfa924d6f9c7be91f7e744.txt (deflated 82%)\n",
            "  adding: content/Model-V5/Model-segment-evaluation-53/labels/front-left-NO20240903-145041-000844F_MP4-0277_jpg.rf.76b9c3c140ea5348228b0561d9422e33.txt (deflated 77%)\n",
            "  adding: content/Model-V5/Model-segment-evaluation-53/labels/front-left-NO20240903-145041-000844F_MP4-0194_jpg.rf.9ee30f817f8f42209534d3df5521e4ea.txt (deflated 74%)\n",
            "  adding: content/Model-V5/Model-segment-evaluation-53/labels/night-front-right-NO20240909-182940-000027F_MP4-0037_jpg.rf.2f9358df949162142db4358dfd0b9460.txt (deflated 76%)\n",
            "  adding: content/Model-V5/Model-segment-evaluation-53/labels/front-left-NO20240909-150004-000365F_MP4-0055_jpg.rf.129bb8ac8869e8369e55dabbaa5b6903.txt (deflated 77%)\n",
            "  adding: content/Model-V5/Model-segment-evaluation-53/labels/front-left-NO20240903-152241-000876F_MP4-0256_jpg.rf.338c9159550ccad745179d7c4b5315f1.txt (deflated 81%)\n",
            "  adding: content/Model-V5/Model-segment-evaluation-53/labels/front-left-NO20240903-152241-000876F_MP4-0214_jpg.rf.acf7e57279b2f53e1c5d4a163b91e013.txt (deflated 76%)\n",
            "  adding: content/Model-V5/Model-segment-evaluation-53/labels/front-left-NO20240909-145604-000361F_MP4-0119_jpg.rf.835b427eef6c9bf2fc36baa03fe1362f.txt (deflated 74%)\n",
            "  adding: content/Model-V5/Model-segment-evaluation-53/labels/front-left-NO20240903-150741-000861F_MP4-0227_jpg.rf.702afbef3d51720667d04c130915fd0a.txt (deflated 79%)\n",
            "  adding: content/Model-V5/Model-segment-evaluation-53/labels/front-left-NO20240903-145141-000845F_MP4-0039_jpg.rf.badaad9d903110c7e9d0468770b790c8.txt (deflated 78%)\n",
            "  adding: content/Model-V5/Model-segment-evaluation-53/labels/front-left_MP4-0193_jpg.rf.40266fcb6416212390542faefe6f1501.txt (deflated 78%)\n",
            "  adding: content/Model-V5/Model-segment-evaluation-53/labels/front-left-NO20240903-152241-000876F_MP4-0120_jpg.rf.513fa5827fc82a3c3de0da487bdb767e.txt (deflated 79%)\n",
            "  adding: content/Model-V5/Model-segment-evaluation-53/labels/front-left-NO20240903-145041-000844F_MP4-0271_jpg.rf.e789340df096709747469142c9a4a8c7.txt (deflated 79%)\n",
            "  adding: content/Model-V5/Model-segment-evaluation-53/labels/front-left-NO20240909-143304-000338F_MP4-0065_jpg.rf.9b52ca9db975b59f574cbbf1375d879f.txt (deflated 79%)\n",
            "  adding: content/Model-V5/Model-segment-evaluation-53/labels/front-left-NO20240903-145541-000849F_MP4-0002_jpg.rf.48acb56099c5e6b4b8a0feb6da4a32c6.txt (deflated 77%)\n",
            "  adding: content/Model-V5/Model-segment-evaluation-53/labels/front-left-NO20240903-152241-000876F_MP4-0044_jpg.rf.f6b8d98dc62e1f21f4857ddf5eb35594.txt (deflated 78%)\n",
            "  adding: content/Model-V5/Model-segment-evaluation-53/labels/front-left_MP4-0123_jpg.rf.473e9d212f043488ce55328897086299.txt (deflated 79%)\n",
            "  adding: content/Model-V5/Model-segment-evaluation-53/labels/front-left-NO20240903-145541-000849F_MP4-0232_jpg.rf.584df0d938c858f41dc56a06eb65d96d.txt (deflated 77%)\n",
            "  adding: content/Model-V5/Model-segment-evaluation-53/labels/front-left-NO20240908-150438-000150F_MP4-0018_jpg.rf.c6973533b2eea6ab358e780de5dfaacd.txt (deflated 82%)\n",
            "  adding: content/Model-V5/Model-segment-evaluation-53/labels/front-right-NO20240903-144041-000834F_MP4-0252_jpg.rf.99594f0e0f6453c7c6c1425e5bf12931.txt (deflated 78%)\n",
            "  adding: content/Model-V5/Model-segment-evaluation-53/labels/front-left-NO20240903-145541-000849F_MP4-0092_jpg.rf.c66de79aa857d909f044cb18350ba240.txt (deflated 79%)\n",
            "  adding: content/Model-V5/Model-segment-evaluation-53/labels/front-left-NO20240903-152241-000876F_MP4-0200_jpg.rf.bb5c0bde28e5436daf333cd8cb172b52.txt (deflated 81%)\n",
            "  adding: content/Model-V5/Model-segment-evaluation-53/labels/cars-NO20240914-114048-000222F_MP4-0087_jpg.rf.ec68174a470c4b20351ea5d66c55f18f.txt (deflated 79%)\n",
            "  adding: content/Model-V5/Model-segment-evaluation-53/labels/front-left-NO20240903-150741-000861F_MP4-0158_jpg.rf.eb796c8ee3d5509d958204361888b3cf.txt (deflated 79%)\n",
            "  adding: content/Model-V5/Model-segment-evaluation-53/labels/front-left-NO20240903-145141-000845F_MP4-0098_jpg.rf.8632de15b514503f5d22f9d8abf25dcf.txt (deflated 76%)\n",
            "  adding: content/Model-V5/Model-segment-evaluation-53/labels/front-left-NO20240903-152241-000876F_MP4-0104_jpg.rf.86cfebcaa5b06b3e56952dee7f121e88.txt (deflated 76%)\n",
            "  adding: content/Model-V5/Model-segment-evaluation-53/labels/front-left-NO20240903-152241-000876F_MP4-0077_jpg.rf.88a8269cdf872ea0d94a9f8438900a9d.txt (deflated 77%)\n",
            "  adding: content/Model-V5/Model-segment-evaluation-53/labels/front-left-NO20240903-145541-000849F_MP4-0040_jpg.rf.8ec3860e8c8df8d2ff085d38d27f72bb.txt (deflated 79%)\n",
            "  adding: content/Model-V5/Model-segment-evaluation-53/labels/front-left-NO20240903-145041-000844F_MP4-0178_jpg.rf.aabc530b17543654b915d1959a039e01.txt (deflated 81%)\n",
            "  adding: content/Model-V5/Model-segment-evaluation-53/labels/front-left-NO20240903-145141-000845F_MP4-0126_jpg.rf.0523075e62ba0159f79f1796dd486eea.txt (deflated 78%)\n",
            "  adding: content/Model-V5/Model-segment-evaluation-53/labels/front-right-NO20240903-144041-000834F_MP4-0266_jpg.rf.6b485feef5c19e77cbfc86f1431c13c5.txt (deflated 85%)\n",
            "  adding: content/Model-V5/Model-segment-evaluation-53/labels/night-front-right-NO20240909-183640-000034F_MP4-0035_jpg.rf.d0da4e77efb5935c5adf96fff4a0b2c5.txt (deflated 80%)\n",
            "  adding: content/Model-V5/Model-segment-evaluation-53/labels/front-left-NO20240908-150138-000147F_MP4-0199_jpg.rf.80ca8408c11639f9f51deb32452a78e7.txt (deflated 73%)\n",
            "  adding: content/Model-V5/Model-segment-evaluation-53/labels/front-left-NO20240903-150741-000861F_MP4-0001_jpg.rf.4b66a68c7e67442ec6b30c2be1dbb6d4.txt (deflated 79%)\n",
            "  adding: content/Model-V5/Model-segment-evaluation-53/labels/front-right-NO20240903-143941-000833F_MP4-0225_jpg.rf.0102b17d22037209017580b6f666c52c.txt (deflated 74%)\n"
          ]
        }
      ]
    },
    {
      "cell_type": "code",
      "source": [],
      "metadata": {
        "id": "A3rqBUmkGi4h"
      },
      "execution_count": null,
      "outputs": []
    }
  ]
}